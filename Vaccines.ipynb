{
 "cells": [
  {
   "cell_type": "code",
   "execution_count": 45,
   "metadata": {},
   "outputs": [],
   "source": [
    "import pandas as pd\n",
    "from pathlib import Path\n",
    "import hvplot.pandas\n",
    "import panel as pn\n",
    "import plotly.express as px"
   ]
  },
  {
   "cell_type": "code",
   "execution_count": 46,
   "metadata": {},
   "outputs": [],
   "source": [
    "#Reading Abbott Labs Stock File\n",
    "abt_csv = Path(\"ABT.csv\")"
   ]
  },
  {
   "cell_type": "code",
   "execution_count": 47,
   "metadata": {},
   "outputs": [
    {
     "data": {
      "text/html": [
       "<div>\n",
       "<style scoped>\n",
       "    .dataframe tbody tr th:only-of-type {\n",
       "        vertical-align: middle;\n",
       "    }\n",
       "\n",
       "    .dataframe tbody tr th {\n",
       "        vertical-align: top;\n",
       "    }\n",
       "\n",
       "    .dataframe thead th {\n",
       "        text-align: right;\n",
       "    }\n",
       "</style>\n",
       "<table border=\"1\" class=\"dataframe\">\n",
       "  <thead>\n",
       "    <tr style=\"text-align: right;\">\n",
       "      <th></th>\n",
       "      <th>Abbott Laboratories</th>\n",
       "    </tr>\n",
       "    <tr>\n",
       "      <th>Date</th>\n",
       "      <th></th>\n",
       "    </tr>\n",
       "  </thead>\n",
       "  <tbody>\n",
       "    <tr>\n",
       "      <th>2020-01-02</th>\n",
       "      <td>86.95</td>\n",
       "    </tr>\n",
       "    <tr>\n",
       "      <th>2020-01-03</th>\n",
       "      <td>85.89</td>\n",
       "    </tr>\n",
       "    <tr>\n",
       "      <th>2020-01-06</th>\n",
       "      <td>86.34</td>\n",
       "    </tr>\n",
       "    <tr>\n",
       "      <th>2020-01-07</th>\n",
       "      <td>85.86</td>\n",
       "    </tr>\n",
       "    <tr>\n",
       "      <th>2020-01-08</th>\n",
       "      <td>86.21</td>\n",
       "    </tr>\n",
       "  </tbody>\n",
       "</table>\n",
       "</div>"
      ],
      "text/plain": [
       "            Abbott Laboratories\n",
       "Date                           \n",
       "2020-01-02                86.95\n",
       "2020-01-03                85.89\n",
       "2020-01-06                86.34\n",
       "2020-01-07                85.86\n",
       "2020-01-08                86.21"
      ]
     },
     "execution_count": 47,
     "metadata": {},
     "output_type": "execute_result"
    }
   ],
   "source": [
    "#Removing top header\n",
    "abt_data = pd.read_csv(abt_csv, header = 1)\n",
    "#removing timestamp\n",
    "abt_data['Date'] = abt_data['Date'].str.split(' ',expand=True)[0]\n",
    "#Rename columns / set date as index\n",
    "abt_data = abt_data.rename(columns={\"Close\": \"Abbott Laboratories\"}).set_index(pd.DatetimeIndex(abt_data['Date']))\n",
    "#remove duplicate date column\n",
    "abt_data.drop('Date', axis=1, inplace=True)\n",
    "#Display ABT stock data\n",
    "abt_data.head()"
   ]
  },
  {
   "cell_type": "code",
   "execution_count": 48,
   "metadata": {},
   "outputs": [
    {
     "data": {
      "application/vnd.holoviews_exec.v0+json": "",
      "text/html": [
       "<div id='10592'>\n",
       "\n",
       "\n",
       "\n",
       "\n",
       "\n",
       "  <div class=\"bk-root\" id=\"a77ea3b2-ec62-4cbf-8fff-297c155261c0\" data-root-id=\"10592\"></div>\n",
       "</div>\n",
       "<script type=\"application/javascript\">(function(root) {\n",
       "  function embed_document(root) {\n",
       "  var docs_json = {\"b444f0ab-b724-4d76-ad40-4bf65e459244\":{\"roots\":{\"references\":[{\"attributes\":{\"num_minor_ticks\":5,\"tickers\":[{\"id\":\"10644\"},{\"id\":\"10645\"},{\"id\":\"10646\"},{\"id\":\"10647\"},{\"id\":\"10648\"},{\"id\":\"10649\"},{\"id\":\"10650\"},{\"id\":\"10651\"},{\"id\":\"10652\"},{\"id\":\"10653\"},{\"id\":\"10654\"},{\"id\":\"10655\"}]},\"id\":\"10607\",\"type\":\"DatetimeTicker\"},{\"attributes\":{\"callback\":null,\"formatters\":{\"@{Date}\":\"datetime\"},\"renderers\":[{\"id\":\"10633\"}],\"tags\":[\"hv_created\"],\"tooltips\":[[\"Date\",\"@{Date}{%F %T}\"],[\"Abbott Laboratories\",\"@{Abbott_Laboratories}\"]]},\"id\":\"10596\",\"type\":\"HoverTool\"},{\"attributes\":{\"base\":24,\"mantissas\":[1,2,4,6,8,12],\"max_interval\":43200000.0,\"min_interval\":3600000.0,\"num_minor_ticks\":0},\"id\":\"10646\",\"type\":\"AdaptiveTicker\"},{\"attributes\":{\"axis_label\":\"Date\",\"bounds\":\"auto\",\"formatter\":{\"id\":\"10636\"},\"major_label_orientation\":\"horizontal\",\"ticker\":{\"id\":\"10607\"}},\"id\":\"10606\",\"type\":\"DatetimeAxis\"},{\"attributes\":{\"months\":[0,4,8]},\"id\":\"10653\",\"type\":\"MonthsTicker\"},{\"attributes\":{\"days\":[1,8,15,22]},\"id\":\"10649\",\"type\":\"DaysTicker\"},{\"attributes\":{},\"id\":\"10611\",\"type\":\"BasicTicker\"},{\"attributes\":{},\"id\":\"10656\",\"type\":\"UnionRenderers\"},{\"attributes\":{\"data\":{\"Abbott Laboratories\":{\"__ndarray__\":\"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\",\"dtype\":\"float64\",\"order\":\"little\",\"shape\":[222]},\"Abbott_Laboratories\":{\"__ndarray__\":\"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\",\"dtype\":\"float64\",\"order\":\"little\",\"shape\":[222]},\"Date\":{\"__ndarray__\":\"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\",\"dtype\":\"float64\",\"order\":\"little\",\"shape\":[222]}},\"selected\":{\"id\":\"10628\"},\"selection_policy\":{\"id\":\"10656\"}},\"id\":\"10627\",\"type\":\"ColumnDataSource\"},{\"attributes\":{\"bottom_units\":\"screen\",\"fill_alpha\":0.5,\"fill_color\":\"lightgrey\",\"left_units\":\"screen\",\"level\":\"overlay\",\"line_alpha\":1.0,\"line_color\":\"black\",\"line_dash\":[4,4],\"line_width\":2,\"right_units\":\"screen\",\"top_units\":\"screen\"},\"id\":\"10619\",\"type\":\"BoxAnnotation\"},{\"attributes\":{\"align\":null,\"below\":[{\"id\":\"10606\"}],\"center\":[{\"id\":\"10609\"},{\"id\":\"10613\"}],\"left\":[{\"id\":\"10610\"}],\"margin\":null,\"min_border_bottom\":10,\"min_border_left\":10,\"min_border_right\":10,\"min_border_top\":10,\"plot_height\":500,\"plot_width\":700,\"renderers\":[{\"id\":\"10633\"}],\"sizing_mode\":\"fixed\",\"title\":{\"id\":\"10598\"},\"toolbar\":{\"id\":\"10620\"},\"x_range\":{\"id\":\"10594\"},\"x_scale\":{\"id\":\"10602\"},\"y_range\":{\"id\":\"10595\"},\"y_scale\":{\"id\":\"10604\"}},\"id\":\"10597\",\"subtype\":\"Figure\",\"type\":\"Plot\"},{\"attributes\":{\"axis\":{\"id\":\"10606\"},\"grid_line_color\":null,\"ticker\":null},\"id\":\"10609\",\"type\":\"Grid\"},{\"attributes\":{\"days\":[1,15]},\"id\":\"10650\",\"type\":\"DaysTicker\"},{\"attributes\":{\"base\":60,\"mantissas\":[1,2,5,10,15,20,30],\"max_interval\":1800000.0,\"min_interval\":1000.0,\"num_minor_ticks\":0},\"id\":\"10645\",\"type\":\"AdaptiveTicker\"},{\"attributes\":{\"days\":[1,4,7,10,13,16,19,22,25,28]},\"id\":\"10648\",\"type\":\"DaysTicker\"},{\"attributes\":{\"axis\":{\"id\":\"10610\"},\"dimension\":1,\"grid_line_color\":null,\"ticker\":null},\"id\":\"10613\",\"type\":\"Grid\"},{\"attributes\":{},\"id\":\"10636\",\"type\":\"DatetimeTickFormatter\"},{\"attributes\":{\"axis_label\":\"Abbott Laboratories\",\"bounds\":\"auto\",\"formatter\":{\"id\":\"10638\"},\"major_label_orientation\":\"horizontal\",\"ticker\":{\"id\":\"10611\"}},\"id\":\"10610\",\"type\":\"LinearAxis\"},{\"attributes\":{\"line_color\":\"#1f77b3\",\"line_width\":2,\"x\":{\"field\":\"Date\"},\"y\":{\"field\":\"Abbott Laboratories\"}},\"id\":\"10630\",\"type\":\"Line\"},{\"attributes\":{\"margin\":[5,5,5,5],\"name\":\"HSpacer08826\",\"sizing_mode\":\"stretch_width\"},\"id\":\"10593\",\"type\":\"Spacer\"},{\"attributes\":{},\"id\":\"10616\",\"type\":\"WheelZoomTool\"},{\"attributes\":{\"source\":{\"id\":\"10627\"}},\"id\":\"10634\",\"type\":\"CDSView\"},{\"attributes\":{},\"id\":\"10615\",\"type\":\"PanTool\"},{\"attributes\":{\"days\":[1,2,3,4,5,6,7,8,9,10,11,12,13,14,15,16,17,18,19,20,21,22,23,24,25,26,27,28,29,30,31]},\"id\":\"10647\",\"type\":\"DaysTicker\"},{\"attributes\":{\"text\":\"Abbott Laboratories Stocks\",\"text_color\":{\"value\":\"black\"},\"text_font_size\":{\"value\":\"12pt\"}},\"id\":\"10598\",\"type\":\"Title\"},{\"attributes\":{\"end\":119.58,\"reset_end\":119.58,\"reset_start\":57.66,\"start\":57.66,\"tags\":[[[\"Abbott Laboratories\",\"Abbott Laboratories\",null]]]},\"id\":\"10595\",\"type\":\"Range1d\"},{\"attributes\":{\"active_drag\":\"auto\",\"active_inspect\":\"auto\",\"active_multi\":null,\"active_scroll\":\"auto\",\"active_tap\":\"auto\",\"tools\":[{\"id\":\"10596\"},{\"id\":\"10614\"},{\"id\":\"10615\"},{\"id\":\"10616\"},{\"id\":\"10617\"},{\"id\":\"10618\"}]},\"id\":\"10620\",\"type\":\"Toolbar\"},{\"attributes\":{},\"id\":\"10655\",\"type\":\"YearsTicker\"},{\"attributes\":{\"overlay\":{\"id\":\"10619\"}},\"id\":\"10617\",\"type\":\"BoxZoomTool\"},{\"attributes\":{\"months\":[0,6]},\"id\":\"10654\",\"type\":\"MonthsTicker\"},{\"attributes\":{},\"id\":\"10638\",\"type\":\"BasicTickFormatter\"},{\"attributes\":{\"months\":[0,2,4,6,8,10]},\"id\":\"10652\",\"type\":\"MonthsTicker\"},{\"attributes\":{\"children\":[{\"id\":\"10593\"},{\"id\":\"10597\"},{\"id\":\"10679\"}],\"margin\":[0,0,0,0],\"name\":\"Row08822\",\"tags\":[\"embedded\"]},\"id\":\"10592\",\"type\":\"Row\"},{\"attributes\":{\"end\":1605484800000.0,\"reset_end\":1605484800000.0,\"reset_start\":1577923200000.0,\"start\":1577923200000.0,\"tags\":[[[\"Date\",\"Date\",null]]]},\"id\":\"10594\",\"type\":\"Range1d\"},{\"attributes\":{},\"id\":\"10618\",\"type\":\"ResetTool\"},{\"attributes\":{},\"id\":\"10602\",\"type\":\"LinearScale\"},{\"attributes\":{\"data_source\":{\"id\":\"10627\"},\"glyph\":{\"id\":\"10630\"},\"hover_glyph\":null,\"muted_glyph\":{\"id\":\"10632\"},\"nonselection_glyph\":{\"id\":\"10631\"},\"selection_glyph\":null,\"view\":{\"id\":\"10634\"}},\"id\":\"10633\",\"type\":\"GlyphRenderer\"},{\"attributes\":{},\"id\":\"10628\",\"type\":\"Selection\"},{\"attributes\":{\"line_alpha\":0.2,\"line_color\":\"#1f77b3\",\"line_width\":2,\"x\":{\"field\":\"Date\"},\"y\":{\"field\":\"Abbott Laboratories\"}},\"id\":\"10632\",\"type\":\"Line\"},{\"attributes\":{\"mantissas\":[1,2,5],\"max_interval\":500.0,\"num_minor_ticks\":0},\"id\":\"10644\",\"type\":\"AdaptiveTicker\"},{\"attributes\":{\"line_alpha\":0.1,\"line_color\":\"#1f77b3\",\"line_width\":2,\"x\":{\"field\":\"Date\"},\"y\":{\"field\":\"Abbott Laboratories\"}},\"id\":\"10631\",\"type\":\"Line\"},{\"attributes\":{},\"id\":\"10614\",\"type\":\"SaveTool\"},{\"attributes\":{\"months\":[0,1,2,3,4,5,6,7,8,9,10,11]},\"id\":\"10651\",\"type\":\"MonthsTicker\"},{\"attributes\":{},\"id\":\"10604\",\"type\":\"LinearScale\"},{\"attributes\":{\"margin\":[5,5,5,5],\"name\":\"HSpacer08827\",\"sizing_mode\":\"stretch_width\"},\"id\":\"10679\",\"type\":\"Spacer\"}],\"root_ids\":[\"10592\"]},\"title\":\"Bokeh Application\",\"version\":\"2.1.1\"}};\n",
       "  var render_items = [{\"docid\":\"b444f0ab-b724-4d76-ad40-4bf65e459244\",\"root_ids\":[\"10592\"],\"roots\":{\"10592\":\"a77ea3b2-ec62-4cbf-8fff-297c155261c0\"}}];\n",
       "  root.Bokeh.embed.embed_items_notebook(docs_json, render_items);\n",
       "  }\n",
       "if (root.Bokeh !== undefined) {\n",
       "    embed_document(root);\n",
       "  } else {\n",
       "    var attempts = 0;\n",
       "    var timer = setInterval(function(root) {\n",
       "      if (root.Bokeh !== undefined) {\n",
       "        clearInterval(timer);\n",
       "        embed_document(root);\n",
       "      } else if (document.readyState == \"complete\") {\n",
       "        attempts++;\n",
       "        if (attempts > 100) {\n",
       "          clearInterval(timer);\n",
       "          console.log(\"Bokeh: ERROR: Unable to run BokehJS code because BokehJS library is missing\");\n",
       "        }\n",
       "      }\n",
       "    }, 10, root)\n",
       "  }\n",
       "})(window);</script>"
      ],
      "text/plain": [
       ":Curve   [Date]   (Abbott Laboratories)"
      ]
     },
     "execution_count": 48,
     "metadata": {
      "application/vnd.holoviews_exec.v0+json": {
       "id": "10592"
      }
     },
     "output_type": "execute_result"
    }
   ],
   "source": [
    "#Plotting ABT\n",
    "abt_plot = abt_data.hvplot(title = \"Abbott Laboratories Stocks\", height = 500, width = 700)\n",
    "abt_plot"
   ]
  },
  {
   "cell_type": "code",
   "execution_count": 49,
   "metadata": {},
   "outputs": [],
   "source": [
    "#Reading Moderna Labs Stock File\n",
    "mrna_csv = Path(\"mrna.csv\")"
   ]
  },
  {
   "cell_type": "code",
   "execution_count": 50,
   "metadata": {},
   "outputs": [
    {
     "data": {
      "text/html": [
       "<div>\n",
       "<style scoped>\n",
       "    .dataframe tbody tr th:only-of-type {\n",
       "        vertical-align: middle;\n",
       "    }\n",
       "\n",
       "    .dataframe tbody tr th {\n",
       "        vertical-align: top;\n",
       "    }\n",
       "\n",
       "    .dataframe thead th {\n",
       "        text-align: right;\n",
       "    }\n",
       "</style>\n",
       "<table border=\"1\" class=\"dataframe\">\n",
       "  <thead>\n",
       "    <tr style=\"text-align: right;\">\n",
       "      <th></th>\n",
       "      <th>Moderna</th>\n",
       "    </tr>\n",
       "    <tr>\n",
       "      <th>Date</th>\n",
       "      <th></th>\n",
       "    </tr>\n",
       "  </thead>\n",
       "  <tbody>\n",
       "    <tr>\n",
       "      <th>2020-01-02</th>\n",
       "      <td>19.23</td>\n",
       "    </tr>\n",
       "    <tr>\n",
       "      <th>2020-01-03</th>\n",
       "      <td>18.89</td>\n",
       "    </tr>\n",
       "    <tr>\n",
       "      <th>2020-01-06</th>\n",
       "      <td>18.13</td>\n",
       "    </tr>\n",
       "    <tr>\n",
       "      <th>2020-01-07</th>\n",
       "      <td>17.78</td>\n",
       "    </tr>\n",
       "    <tr>\n",
       "      <th>2020-01-08</th>\n",
       "      <td>17.98</td>\n",
       "    </tr>\n",
       "  </tbody>\n",
       "</table>\n",
       "</div>"
      ],
      "text/plain": [
       "            Moderna\n",
       "Date               \n",
       "2020-01-02    19.23\n",
       "2020-01-03    18.89\n",
       "2020-01-06    18.13\n",
       "2020-01-07    17.78\n",
       "2020-01-08    17.98"
      ]
     },
     "execution_count": 50,
     "metadata": {},
     "output_type": "execute_result"
    }
   ],
   "source": [
    "#Removing first header\n",
    "mrna_data = pd.read_csv(mrna_csv, header = 1)\n",
    "#removing timestamp\n",
    "mrna_data['Date'] = mrna_data['Date'].str.split(' ',expand=True)[0]\n",
    "#Rename columns\n",
    "mrna_data = mrna_data.rename(columns={\"Close\": \"Moderna\"}).set_index(pd.DatetimeIndex(mrna_data['Date']))\n",
    "#remove duplicate date column\n",
    "mrna_data.drop('Date', axis=1, inplace=True)\n",
    "#Display recults\n",
    "mrna_data.head()"
   ]
  },
  {
   "cell_type": "code",
   "execution_count": 51,
   "metadata": {},
   "outputs": [
    {
     "data": {
      "application/vnd.holoviews_exec.v0+json": "",
      "text/html": [
       "<div id='10781'>\n",
       "\n",
       "\n",
       "\n",
       "\n",
       "\n",
       "  <div class=\"bk-root\" id=\"32306fc9-89e2-43a5-92ff-369ac2660d85\" data-root-id=\"10781\"></div>\n",
       "</div>\n",
       "<script type=\"application/javascript\">(function(root) {\n",
       "  function embed_document(root) {\n",
       "  var docs_json = {\"5cc62530-fe52-4731-9efc-e03533d45128\":{\"roots\":{\"references\":[{\"attributes\":{\"days\":[1,15]},\"id\":\"10839\",\"type\":\"DaysTicker\"},{\"attributes\":{},\"id\":\"10804\",\"type\":\"PanTool\"},{\"attributes\":{\"months\":[0,1,2,3,4,5,6,7,8,9,10,11]},\"id\":\"10840\",\"type\":\"MonthsTicker\"},{\"attributes\":{},\"id\":\"10817\",\"type\":\"Selection\"},{\"attributes\":{\"num_minor_ticks\":5,\"tickers\":[{\"id\":\"10833\"},{\"id\":\"10834\"},{\"id\":\"10835\"},{\"id\":\"10836\"},{\"id\":\"10837\"},{\"id\":\"10838\"},{\"id\":\"10839\"},{\"id\":\"10840\"},{\"id\":\"10841\"},{\"id\":\"10842\"},{\"id\":\"10843\"},{\"id\":\"10844\"}]},\"id\":\"10796\",\"type\":\"DatetimeTicker\"},{\"attributes\":{\"overlay\":{\"id\":\"10808\"}},\"id\":\"10806\",\"type\":\"BoxZoomTool\"},{\"attributes\":{\"months\":[0,4,8]},\"id\":\"10842\",\"type\":\"MonthsTicker\"},{\"attributes\":{},\"id\":\"10807\",\"type\":\"ResetTool\"},{\"attributes\":{\"mantissas\":[1,2,5],\"max_interval\":500.0,\"num_minor_ticks\":0},\"id\":\"10833\",\"type\":\"AdaptiveTicker\"},{\"attributes\":{\"source\":{\"id\":\"10816\"}},\"id\":\"10823\",\"type\":\"CDSView\"},{\"attributes\":{\"axis\":{\"id\":\"10799\"},\"dimension\":1,\"grid_line_color\":null,\"ticker\":null},\"id\":\"10802\",\"type\":\"Grid\"},{\"attributes\":{},\"id\":\"10844\",\"type\":\"YearsTicker\"},{\"attributes\":{\"margin\":[5,5,5,5],\"name\":\"HSpacer09005\",\"sizing_mode\":\"stretch_width\"},\"id\":\"10868\",\"type\":\"Spacer\"},{\"attributes\":{\"days\":[1,2,3,4,5,6,7,8,9,10,11,12,13,14,15,16,17,18,19,20,21,22,23,24,25,26,27,28,29,30,31]},\"id\":\"10836\",\"type\":\"DaysTicker\"},{\"attributes\":{},\"id\":\"10791\",\"type\":\"LinearScale\"},{\"attributes\":{\"callback\":null,\"formatters\":{\"@{Date}\":\"datetime\"},\"renderers\":[{\"id\":\"10822\"}],\"tags\":[\"hv_created\"],\"tooltips\":[[\"Date\",\"@{Date}{%F %T}\"],[\"Moderna\",\"@{Moderna}\"]]},\"id\":\"10785\",\"type\":\"HoverTool\"},{\"attributes\":{\"margin\":[5,5,5,5],\"name\":\"HSpacer09004\",\"sizing_mode\":\"stretch_width\"},\"id\":\"10782\",\"type\":\"Spacer\"},{\"attributes\":{\"axis_label\":\"Moderna\",\"bounds\":\"auto\",\"formatter\":{\"id\":\"10827\"},\"major_label_orientation\":\"horizontal\",\"ticker\":{\"id\":\"10800\"}},\"id\":\"10799\",\"type\":\"LinearAxis\"},{\"attributes\":{},\"id\":\"10825\",\"type\":\"DatetimeTickFormatter\"},{\"attributes\":{\"days\":[1,4,7,10,13,16,19,22,25,28]},\"id\":\"10837\",\"type\":\"DaysTicker\"},{\"attributes\":{\"months\":[0,6]},\"id\":\"10843\",\"type\":\"MonthsTicker\"},{\"attributes\":{\"days\":[1,8,15,22]},\"id\":\"10838\",\"type\":\"DaysTicker\"},{\"attributes\":{},\"id\":\"10800\",\"type\":\"BasicTicker\"},{\"attributes\":{\"data\":{\"Date\":{\"__ndarray__\":\"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\",\"dtype\":\"float64\",\"order\":\"little\",\"shape\":[222]},\"Moderna\":{\"__ndarray__\":\"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\",\"dtype\":\"float64\",\"order\":\"little\",\"shape\":[222]}},\"selected\":{\"id\":\"10817\"},\"selection_policy\":{\"id\":\"10845\"}},\"id\":\"10816\",\"type\":\"ColumnDataSource\"},{\"attributes\":{\"axis\":{\"id\":\"10795\"},\"grid_line_color\":null,\"ticker\":null},\"id\":\"10798\",\"type\":\"Grid\"},{\"attributes\":{\"align\":null,\"below\":[{\"id\":\"10795\"}],\"center\":[{\"id\":\"10798\"},{\"id\":\"10802\"}],\"left\":[{\"id\":\"10799\"}],\"margin\":null,\"min_border_bottom\":10,\"min_border_left\":10,\"min_border_right\":10,\"min_border_top\":10,\"plot_height\":500,\"plot_width\":700,\"renderers\":[{\"id\":\"10822\"}],\"sizing_mode\":\"fixed\",\"title\":{\"id\":\"10787\"},\"toolbar\":{\"id\":\"10809\"},\"x_range\":{\"id\":\"10783\"},\"x_scale\":{\"id\":\"10791\"},\"y_range\":{\"id\":\"10784\"},\"y_scale\":{\"id\":\"10793\"}},\"id\":\"10786\",\"subtype\":\"Figure\",\"type\":\"Plot\"},{\"attributes\":{\"axis_label\":\"Date\",\"bounds\":\"auto\",\"formatter\":{\"id\":\"10825\"},\"major_label_orientation\":\"horizontal\",\"ticker\":{\"id\":\"10796\"}},\"id\":\"10795\",\"type\":\"DatetimeAxis\"},{\"attributes\":{\"data_source\":{\"id\":\"10816\"},\"glyph\":{\"id\":\"10819\"},\"hover_glyph\":null,\"muted_glyph\":{\"id\":\"10821\"},\"nonselection_glyph\":{\"id\":\"10820\"},\"selection_glyph\":null,\"view\":{\"id\":\"10823\"}},\"id\":\"10822\",\"type\":\"GlyphRenderer\"},{\"attributes\":{\"end\":1605484800000.0,\"reset_end\":1605484800000.0,\"reset_start\":1577923200000.0,\"start\":1577923200000.0,\"tags\":[[[\"Date\",\"Date\",null]]]},\"id\":\"10783\",\"type\":\"Range1d\"},{\"attributes\":{\"line_alpha\":0.2,\"line_color\":\"orange\",\"line_width\":2,\"x\":{\"field\":\"Date\"},\"y\":{\"field\":\"Moderna\"}},\"id\":\"10821\",\"type\":\"Line\"},{\"attributes\":{\"base\":24,\"mantissas\":[1,2,4,6,8,12],\"max_interval\":43200000.0,\"min_interval\":3600000.0,\"num_minor_ticks\":0},\"id\":\"10835\",\"type\":\"AdaptiveTicker\"},{\"attributes\":{},\"id\":\"10793\",\"type\":\"LinearScale\"},{\"attributes\":{\"text\":\"Moderna Stock Data\",\"text_color\":{\"value\":\"black\"},\"text_font_size\":{\"value\":\"12pt\"}},\"id\":\"10787\",\"type\":\"Title\"},{\"attributes\":{\"children\":[{\"id\":\"10782\"},{\"id\":\"10786\"},{\"id\":\"10868\"}],\"margin\":[0,0,0,0],\"name\":\"Row09000\",\"tags\":[\"embedded\"]},\"id\":\"10781\",\"type\":\"Row\"},{\"attributes\":{\"end\":105.967,\"reset_end\":105.967,\"reset_start\":9.763,\"start\":9.763,\"tags\":[[[\"Moderna\",\"Moderna\",null]]]},\"id\":\"10784\",\"type\":\"Range1d\"},{\"attributes\":{\"base\":60,\"mantissas\":[1,2,5,10,15,20,30],\"max_interval\":1800000.0,\"min_interval\":1000.0,\"num_minor_ticks\":0},\"id\":\"10834\",\"type\":\"AdaptiveTicker\"},{\"attributes\":{\"active_drag\":\"auto\",\"active_inspect\":\"auto\",\"active_multi\":null,\"active_scroll\":\"auto\",\"active_tap\":\"auto\",\"tools\":[{\"id\":\"10785\"},{\"id\":\"10803\"},{\"id\":\"10804\"},{\"id\":\"10805\"},{\"id\":\"10806\"},{\"id\":\"10807\"}]},\"id\":\"10809\",\"type\":\"Toolbar\"},{\"attributes\":{\"line_color\":\"orange\",\"line_width\":2,\"x\":{\"field\":\"Date\"},\"y\":{\"field\":\"Moderna\"}},\"id\":\"10819\",\"type\":\"Line\"},{\"attributes\":{\"months\":[0,2,4,6,8,10]},\"id\":\"10841\",\"type\":\"MonthsTicker\"},{\"attributes\":{\"bottom_units\":\"screen\",\"fill_alpha\":0.5,\"fill_color\":\"lightgrey\",\"left_units\":\"screen\",\"level\":\"overlay\",\"line_alpha\":1.0,\"line_color\":\"black\",\"line_dash\":[4,4],\"line_width\":2,\"right_units\":\"screen\",\"top_units\":\"screen\"},\"id\":\"10808\",\"type\":\"BoxAnnotation\"},{\"attributes\":{},\"id\":\"10803\",\"type\":\"SaveTool\"},{\"attributes\":{\"line_alpha\":0.1,\"line_color\":\"orange\",\"line_width\":2,\"x\":{\"field\":\"Date\"},\"y\":{\"field\":\"Moderna\"}},\"id\":\"10820\",\"type\":\"Line\"},{\"attributes\":{},\"id\":\"10845\",\"type\":\"UnionRenderers\"},{\"attributes\":{},\"id\":\"10827\",\"type\":\"BasicTickFormatter\"},{\"attributes\":{},\"id\":\"10805\",\"type\":\"WheelZoomTool\"}],\"root_ids\":[\"10781\"]},\"title\":\"Bokeh Application\",\"version\":\"2.1.1\"}};\n",
       "  var render_items = [{\"docid\":\"5cc62530-fe52-4731-9efc-e03533d45128\",\"root_ids\":[\"10781\"],\"roots\":{\"10781\":\"32306fc9-89e2-43a5-92ff-369ac2660d85\"}}];\n",
       "  root.Bokeh.embed.embed_items_notebook(docs_json, render_items);\n",
       "  }\n",
       "if (root.Bokeh !== undefined) {\n",
       "    embed_document(root);\n",
       "  } else {\n",
       "    var attempts = 0;\n",
       "    var timer = setInterval(function(root) {\n",
       "      if (root.Bokeh !== undefined) {\n",
       "        clearInterval(timer);\n",
       "        embed_document(root);\n",
       "      } else if (document.readyState == \"complete\") {\n",
       "        attempts++;\n",
       "        if (attempts > 100) {\n",
       "          clearInterval(timer);\n",
       "          console.log(\"Bokeh: ERROR: Unable to run BokehJS code because BokehJS library is missing\");\n",
       "        }\n",
       "      }\n",
       "    }, 10, root)\n",
       "  }\n",
       "})(window);</script>"
      ],
      "text/plain": [
       ":Curve   [Date]   (Moderna)"
      ]
     },
     "execution_count": 51,
     "metadata": {
      "application/vnd.holoviews_exec.v0+json": {
       "id": "10781"
      }
     },
     "output_type": "execute_result"
    }
   ],
   "source": [
    "#Plotting Moderna\n",
    "mrna_plot = mrna_data.hvplot(title = \"Moderna Stock Data\", line_color = 'orange', height = 500, width = 700)\n",
    "mrna_plot"
   ]
  },
  {
   "cell_type": "code",
   "execution_count": 52,
   "metadata": {},
   "outputs": [],
   "source": [
    "#Reading Novavax Labs Stock File\n",
    "nvax_csv = Path(\"nvax.csv\")"
   ]
  },
  {
   "cell_type": "code",
   "execution_count": 53,
   "metadata": {},
   "outputs": [
    {
     "data": {
      "text/html": [
       "<div>\n",
       "<style scoped>\n",
       "    .dataframe tbody tr th:only-of-type {\n",
       "        vertical-align: middle;\n",
       "    }\n",
       "\n",
       "    .dataframe tbody tr th {\n",
       "        vertical-align: top;\n",
       "    }\n",
       "\n",
       "    .dataframe thead th {\n",
       "        text-align: right;\n",
       "    }\n",
       "</style>\n",
       "<table border=\"1\" class=\"dataframe\">\n",
       "  <thead>\n",
       "    <tr style=\"text-align: right;\">\n",
       "      <th></th>\n",
       "      <th>Novavax</th>\n",
       "    </tr>\n",
       "    <tr>\n",
       "      <th>Date</th>\n",
       "      <th></th>\n",
       "    </tr>\n",
       "  </thead>\n",
       "  <tbody>\n",
       "    <tr>\n",
       "      <th>2020-01-02</th>\n",
       "      <td>4.49</td>\n",
       "    </tr>\n",
       "    <tr>\n",
       "      <th>2020-01-03</th>\n",
       "      <td>4.44</td>\n",
       "    </tr>\n",
       "    <tr>\n",
       "      <th>2020-01-06</th>\n",
       "      <td>4.58</td>\n",
       "    </tr>\n",
       "    <tr>\n",
       "      <th>2020-01-07</th>\n",
       "      <td>4.57</td>\n",
       "    </tr>\n",
       "    <tr>\n",
       "      <th>2020-01-08</th>\n",
       "      <td>4.28</td>\n",
       "    </tr>\n",
       "  </tbody>\n",
       "</table>\n",
       "</div>"
      ],
      "text/plain": [
       "            Novavax\n",
       "Date               \n",
       "2020-01-02     4.49\n",
       "2020-01-03     4.44\n",
       "2020-01-06     4.58\n",
       "2020-01-07     4.57\n",
       "2020-01-08     4.28"
      ]
     },
     "execution_count": 53,
     "metadata": {},
     "output_type": "execute_result"
    }
   ],
   "source": [
    "#removing first header\n",
    "nvax_data = pd.read_csv(nvax_csv, header = 1)\n",
    "#removing timestamp from date column\n",
    "nvax_data['Date'] = nvax_data['Date'].str.split(' ',expand=True)[0]\n",
    "#Rename columns and set date as index\n",
    "nvax_data = nvax_data.rename(columns={\"Close\": \"Novavax\"}).set_index(pd.DatetimeIndex(nvax_data['Date']))\n",
    "#remove duplicate date column\n",
    "nvax_data.drop('Date', axis=1, inplace=True)\n",
    "#Display recults\n",
    "nvax_data.head()"
   ]
  },
  {
   "cell_type": "code",
   "execution_count": 54,
   "metadata": {},
   "outputs": [
    {
     "data": {
      "application/vnd.holoviews_exec.v0+json": "",
      "text/html": [
       "<div id='10970'>\n",
       "\n",
       "\n",
       "\n",
       "\n",
       "\n",
       "  <div class=\"bk-root\" id=\"d5656e1f-9221-4c85-9b8f-19e45b9d7113\" data-root-id=\"10970\"></div>\n",
       "</div>\n",
       "<script type=\"application/javascript\">(function(root) {\n",
       "  function embed_document(root) {\n",
       "  var docs_json = {\"3da4e5eb-0a21-4919-bed8-1fbca10eaafa\":{\"roots\":{\"references\":[{\"attributes\":{\"num_minor_ticks\":5,\"tickers\":[{\"id\":\"11022\"},{\"id\":\"11023\"},{\"id\":\"11024\"},{\"id\":\"11025\"},{\"id\":\"11026\"},{\"id\":\"11027\"},{\"id\":\"11028\"},{\"id\":\"11029\"},{\"id\":\"11030\"},{\"id\":\"11031\"},{\"id\":\"11032\"},{\"id\":\"11033\"}]},\"id\":\"10985\",\"type\":\"DatetimeTicker\"},{\"attributes\":{},\"id\":\"11033\",\"type\":\"YearsTicker\"},{\"attributes\":{\"text\":\"Novavax Stock Data\",\"text_color\":{\"value\":\"black\"},\"text_font_size\":{\"value\":\"12pt\"}},\"id\":\"10976\",\"type\":\"Title\"},{\"attributes\":{\"align\":null,\"below\":[{\"id\":\"10984\"}],\"center\":[{\"id\":\"10987\"},{\"id\":\"10991\"}],\"left\":[{\"id\":\"10988\"}],\"margin\":null,\"min_border_bottom\":10,\"min_border_left\":10,\"min_border_right\":10,\"min_border_top\":10,\"plot_height\":500,\"plot_width\":700,\"renderers\":[{\"id\":\"11011\"}],\"sizing_mode\":\"fixed\",\"title\":{\"id\":\"10976\"},\"toolbar\":{\"id\":\"10998\"},\"x_range\":{\"id\":\"10972\"},\"x_scale\":{\"id\":\"10980\"},\"y_range\":{\"id\":\"10973\"},\"y_scale\":{\"id\":\"10982\"}},\"id\":\"10975\",\"subtype\":\"Figure\",\"type\":\"Plot\"},{\"attributes\":{\"line_alpha\":0.1,\"line_color\":\"green\",\"line_width\":2,\"x\":{\"field\":\"Date\"},\"y\":{\"field\":\"Novavax\"}},\"id\":\"11009\",\"type\":\"Line\"},{\"attributes\":{},\"id\":\"11014\",\"type\":\"DatetimeTickFormatter\"},{\"attributes\":{\"margin\":[5,5,5,5],\"name\":\"HSpacer09181\",\"sizing_mode\":\"stretch_width\"},\"id\":\"10971\",\"type\":\"Spacer\"},{\"attributes\":{\"callback\":null,\"formatters\":{\"@{Date}\":\"datetime\"},\"renderers\":[{\"id\":\"11011\"}],\"tags\":[\"hv_created\"],\"tooltips\":[[\"Date\",\"@{Date}{%F %T}\"],[\"Novavax\",\"@{Novavax}\"]]},\"id\":\"10974\",\"type\":\"HoverTool\"},{\"attributes\":{},\"id\":\"10992\",\"type\":\"SaveTool\"},{\"attributes\":{\"line_alpha\":0.2,\"line_color\":\"green\",\"line_width\":2,\"x\":{\"field\":\"Date\"},\"y\":{\"field\":\"Novavax\"}},\"id\":\"11010\",\"type\":\"Line\"},{\"attributes\":{\"mantissas\":[1,2,5],\"max_interval\":500.0,\"num_minor_ticks\":0},\"id\":\"11022\",\"type\":\"AdaptiveTicker\"},{\"attributes\":{\"days\":[1,4,7,10,13,16,19,22,25,28]},\"id\":\"11026\",\"type\":\"DaysTicker\"},{\"attributes\":{\"base\":60,\"mantissas\":[1,2,5,10,15,20,30],\"max_interval\":1800000.0,\"min_interval\":1000.0,\"num_minor_ticks\":0},\"id\":\"11023\",\"type\":\"AdaptiveTicker\"},{\"attributes\":{\"overlay\":{\"id\":\"10997\"}},\"id\":\"10995\",\"type\":\"BoxZoomTool\"},{\"attributes\":{\"days\":[1,8,15,22]},\"id\":\"11027\",\"type\":\"DaysTicker\"},{\"attributes\":{\"months\":[0,4,8]},\"id\":\"11031\",\"type\":\"MonthsTicker\"},{\"attributes\":{},\"id\":\"11006\",\"type\":\"Selection\"},{\"attributes\":{\"data\":{\"Date\":{\"__ndarray__\":\"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\",\"dtype\":\"float64\",\"order\":\"little\",\"shape\":[222]},\"Novavax\":{\"__ndarray__\":\"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\",\"dtype\":\"float64\",\"order\":\"little\",\"shape\":[222]}},\"selected\":{\"id\":\"11006\"},\"selection_policy\":{\"id\":\"11034\"}},\"id\":\"11005\",\"type\":\"ColumnDataSource\"},{\"attributes\":{\"months\":[0,2,4,6,8,10]},\"id\":\"11030\",\"type\":\"MonthsTicker\"},{\"attributes\":{\"axis\":{\"id\":\"10984\"},\"grid_line_color\":null,\"ticker\":null},\"id\":\"10987\",\"type\":\"Grid\"},{\"attributes\":{\"axis_label\":\"Date\",\"bounds\":\"auto\",\"formatter\":{\"id\":\"11014\"},\"major_label_orientation\":\"horizontal\",\"ticker\":{\"id\":\"10985\"}},\"id\":\"10984\",\"type\":\"DatetimeAxis\"},{\"attributes\":{\"source\":{\"id\":\"11005\"}},\"id\":\"11012\",\"type\":\"CDSView\"},{\"attributes\":{\"days\":[1,15]},\"id\":\"11028\",\"type\":\"DaysTicker\"},{\"attributes\":{\"line_color\":\"green\",\"line_width\":2,\"x\":{\"field\":\"Date\"},\"y\":{\"field\":\"Novavax\"}},\"id\":\"11008\",\"type\":\"Line\"},{\"attributes\":{},\"id\":\"10982\",\"type\":\"LinearScale\"},{\"attributes\":{},\"id\":\"10980\",\"type\":\"LinearScale\"},{\"attributes\":{\"months\":[0,1,2,3,4,5,6,7,8,9,10,11]},\"id\":\"11029\",\"type\":\"MonthsTicker\"},{\"attributes\":{\"margin\":[5,5,5,5],\"name\":\"HSpacer09182\",\"sizing_mode\":\"stretch_width\"},\"id\":\"11057\",\"type\":\"Spacer\"},{\"attributes\":{},\"id\":\"10996\",\"type\":\"ResetTool\"},{\"attributes\":{},\"id\":\"11034\",\"type\":\"UnionRenderers\"},{\"attributes\":{\"data_source\":{\"id\":\"11005\"},\"glyph\":{\"id\":\"11008\"},\"hover_glyph\":null,\"muted_glyph\":{\"id\":\"11010\"},\"nonselection_glyph\":{\"id\":\"11009\"},\"selection_glyph\":null,\"view\":{\"id\":\"11012\"}},\"id\":\"11011\",\"type\":\"GlyphRenderer\"},{\"attributes\":{\"axis\":{\"id\":\"10988\"},\"dimension\":1,\"grid_line_color\":null,\"ticker\":null},\"id\":\"10991\",\"type\":\"Grid\"},{\"attributes\":{},\"id\":\"10993\",\"type\":\"PanTool\"},{\"attributes\":{\"months\":[0,6]},\"id\":\"11032\",\"type\":\"MonthsTicker\"},{\"attributes\":{\"children\":[{\"id\":\"10971\"},{\"id\":\"10975\"},{\"id\":\"11057\"}],\"margin\":[0,0,0,0],\"name\":\"Row09177\",\"tags\":[\"embedded\"]},\"id\":\"10970\",\"type\":\"Row\"},{\"attributes\":{},\"id\":\"11016\",\"type\":\"BasicTickFormatter\"},{\"attributes\":{\"end\":195.968,\"reset_end\":195.968,\"reset_start\":-13.527999999999999,\"start\":-13.527999999999999,\"tags\":[[[\"Novavax\",\"Novavax\",null]]]},\"id\":\"10973\",\"type\":\"Range1d\"},{\"attributes\":{},\"id\":\"10989\",\"type\":\"BasicTicker\"},{\"attributes\":{\"base\":24,\"mantissas\":[1,2,4,6,8,12],\"max_interval\":43200000.0,\"min_interval\":3600000.0,\"num_minor_ticks\":0},\"id\":\"11024\",\"type\":\"AdaptiveTicker\"},{\"attributes\":{\"days\":[1,2,3,4,5,6,7,8,9,10,11,12,13,14,15,16,17,18,19,20,21,22,23,24,25,26,27,28,29,30,31]},\"id\":\"11025\",\"type\":\"DaysTicker\"},{\"attributes\":{\"bottom_units\":\"screen\",\"fill_alpha\":0.5,\"fill_color\":\"lightgrey\",\"left_units\":\"screen\",\"level\":\"overlay\",\"line_alpha\":1.0,\"line_color\":\"black\",\"line_dash\":[4,4],\"line_width\":2,\"right_units\":\"screen\",\"top_units\":\"screen\"},\"id\":\"10997\",\"type\":\"BoxAnnotation\"},{\"attributes\":{\"axis_label\":\"Novavax\",\"bounds\":\"auto\",\"formatter\":{\"id\":\"11016\"},\"major_label_orientation\":\"horizontal\",\"ticker\":{\"id\":\"10989\"}},\"id\":\"10988\",\"type\":\"LinearAxis\"},{\"attributes\":{\"end\":1605484800000.0,\"reset_end\":1605484800000.0,\"reset_start\":1577923200000.0,\"start\":1577923200000.0,\"tags\":[[[\"Date\",\"Date\",null]]]},\"id\":\"10972\",\"type\":\"Range1d\"},{\"attributes\":{},\"id\":\"10994\",\"type\":\"WheelZoomTool\"},{\"attributes\":{\"active_drag\":\"auto\",\"active_inspect\":\"auto\",\"active_multi\":null,\"active_scroll\":\"auto\",\"active_tap\":\"auto\",\"tools\":[{\"id\":\"10974\"},{\"id\":\"10992\"},{\"id\":\"10993\"},{\"id\":\"10994\"},{\"id\":\"10995\"},{\"id\":\"10996\"}]},\"id\":\"10998\",\"type\":\"Toolbar\"}],\"root_ids\":[\"10970\"]},\"title\":\"Bokeh Application\",\"version\":\"2.1.1\"}};\n",
       "  var render_items = [{\"docid\":\"3da4e5eb-0a21-4919-bed8-1fbca10eaafa\",\"root_ids\":[\"10970\"],\"roots\":{\"10970\":\"d5656e1f-9221-4c85-9b8f-19e45b9d7113\"}}];\n",
       "  root.Bokeh.embed.embed_items_notebook(docs_json, render_items);\n",
       "  }\n",
       "if (root.Bokeh !== undefined) {\n",
       "    embed_document(root);\n",
       "  } else {\n",
       "    var attempts = 0;\n",
       "    var timer = setInterval(function(root) {\n",
       "      if (root.Bokeh !== undefined) {\n",
       "        clearInterval(timer);\n",
       "        embed_document(root);\n",
       "      } else if (document.readyState == \"complete\") {\n",
       "        attempts++;\n",
       "        if (attempts > 100) {\n",
       "          clearInterval(timer);\n",
       "          console.log(\"Bokeh: ERROR: Unable to run BokehJS code because BokehJS library is missing\");\n",
       "        }\n",
       "      }\n",
       "    }, 10, root)\n",
       "  }\n",
       "})(window);</script>"
      ],
      "text/plain": [
       ":Curve   [Date]   (Novavax)"
      ]
     },
     "execution_count": 54,
     "metadata": {
      "application/vnd.holoviews_exec.v0+json": {
       "id": "10970"
      }
     },
     "output_type": "execute_result"
    }
   ],
   "source": [
    "#Plotting Novavax\n",
    "nvax_plot = nvax_data.hvplot(title = \"Novavax Stock Data\", line_color = 'green', height = 500, width = 700)\n",
    "nvax_plot"
   ]
  },
  {
   "cell_type": "code",
   "execution_count": 55,
   "metadata": {},
   "outputs": [],
   "source": [
    "#Reading Pfizer Stock File\n",
    "pfe_csv = Path(\"pfe.csv\")"
   ]
  },
  {
   "cell_type": "code",
   "execution_count": 56,
   "metadata": {},
   "outputs": [
    {
     "data": {
      "text/html": [
       "<div>\n",
       "<style scoped>\n",
       "    .dataframe tbody tr th:only-of-type {\n",
       "        vertical-align: middle;\n",
       "    }\n",
       "\n",
       "    .dataframe tbody tr th {\n",
       "        vertical-align: top;\n",
       "    }\n",
       "\n",
       "    .dataframe thead th {\n",
       "        text-align: right;\n",
       "    }\n",
       "</style>\n",
       "<table border=\"1\" class=\"dataframe\">\n",
       "  <thead>\n",
       "    <tr style=\"text-align: right;\">\n",
       "      <th></th>\n",
       "      <th>Pfizer</th>\n",
       "    </tr>\n",
       "    <tr>\n",
       "      <th>Date</th>\n",
       "      <th></th>\n",
       "    </tr>\n",
       "  </thead>\n",
       "  <tbody>\n",
       "    <tr>\n",
       "      <th>2020-01-02</th>\n",
       "      <td>39.11602</td>\n",
       "    </tr>\n",
       "    <tr>\n",
       "      <th>2020-01-03</th>\n",
       "      <td>38.90504</td>\n",
       "    </tr>\n",
       "    <tr>\n",
       "      <th>2020-01-06</th>\n",
       "      <td>38.85230</td>\n",
       "    </tr>\n",
       "    <tr>\n",
       "      <th>2020-01-07</th>\n",
       "      <td>38.72571</td>\n",
       "    </tr>\n",
       "    <tr>\n",
       "      <th>2020-01-08</th>\n",
       "      <td>39.03163</td>\n",
       "    </tr>\n",
       "  </tbody>\n",
       "</table>\n",
       "</div>"
      ],
      "text/plain": [
       "              Pfizer\n",
       "Date                \n",
       "2020-01-02  39.11602\n",
       "2020-01-03  38.90504\n",
       "2020-01-06  38.85230\n",
       "2020-01-07  38.72571\n",
       "2020-01-08  39.03163"
      ]
     },
     "execution_count": 56,
     "metadata": {},
     "output_type": "execute_result"
    }
   ],
   "source": [
    "#removing first header\n",
    "pfe_data = pd.read_csv(pfe_csv, header = 1)\n",
    "#removing timestamp from date column\n",
    "pfe_data['Date'] = pfe_data['Date'].str.split(' ',expand=True)[0]\n",
    "#Rename columns and set date as index\n",
    "pfe_data = pfe_data.rename(columns={\"Close\": \"Pfizer\"}).set_index(pd.DatetimeIndex(pfe_data['Date']))\n",
    "#remove duplicate date column\n",
    "pfe_data.drop('Date', axis=1, inplace=True)\n",
    "#Display results\n",
    "pfe_data.head()"
   ]
  },
  {
   "cell_type": "code",
   "execution_count": 57,
   "metadata": {},
   "outputs": [
    {
     "data": {
      "application/vnd.holoviews_exec.v0+json": "",
      "text/html": [
       "<div id='11159'>\n",
       "\n",
       "\n",
       "\n",
       "\n",
       "\n",
       "  <div class=\"bk-root\" id=\"268b5d99-db5d-4071-98d5-276d7e51a42a\" data-root-id=\"11159\"></div>\n",
       "</div>\n",
       "<script type=\"application/javascript\">(function(root) {\n",
       "  function embed_document(root) {\n",
       "  var docs_json = {\"e2fa4a5c-2237-4c4f-ade0-5232bb2cb971\":{\"roots\":{\"references\":[{\"attributes\":{},\"id\":\"11181\",\"type\":\"SaveTool\"},{\"attributes\":{\"line_color\":\"purple\",\"line_width\":2,\"x\":{\"field\":\"Date\"},\"y\":{\"field\":\"Pfizer\"}},\"id\":\"11197\",\"type\":\"Line\"},{\"attributes\":{\"months\":[0,6]},\"id\":\"11221\",\"type\":\"MonthsTicker\"},{\"attributes\":{},\"id\":\"11223\",\"type\":\"UnionRenderers\"},{\"attributes\":{\"bottom_units\":\"screen\",\"fill_alpha\":0.5,\"fill_color\":\"lightgrey\",\"left_units\":\"screen\",\"level\":\"overlay\",\"line_alpha\":1.0,\"line_color\":\"black\",\"line_dash\":[4,4],\"line_width\":2,\"right_units\":\"screen\",\"top_units\":\"screen\"},\"id\":\"11186\",\"type\":\"BoxAnnotation\"},{\"attributes\":{},\"id\":\"11203\",\"type\":\"DatetimeTickFormatter\"},{\"attributes\":{},\"id\":\"11171\",\"type\":\"LinearScale\"},{\"attributes\":{\"overlay\":{\"id\":\"11186\"}},\"id\":\"11184\",\"type\":\"BoxZoomTool\"},{\"attributes\":{\"mantissas\":[1,2,5],\"max_interval\":500.0,\"num_minor_ticks\":0},\"id\":\"11211\",\"type\":\"AdaptiveTicker\"},{\"attributes\":{\"axis_label\":\"Date\",\"bounds\":\"auto\",\"formatter\":{\"id\":\"11203\"},\"major_label_orientation\":\"horizontal\",\"ticker\":{\"id\":\"11174\"}},\"id\":\"11173\",\"type\":\"DatetimeAxis\"},{\"attributes\":{\"children\":[{\"id\":\"11160\"},{\"id\":\"11164\"},{\"id\":\"11246\"}],\"margin\":[0,0,0,0],\"name\":\"Row09354\",\"tags\":[\"embedded\"]},\"id\":\"11159\",\"type\":\"Row\"},{\"attributes\":{},\"id\":\"11183\",\"type\":\"WheelZoomTool\"},{\"attributes\":{\"source\":{\"id\":\"11194\"}},\"id\":\"11201\",\"type\":\"CDSView\"},{\"attributes\":{\"margin\":[5,5,5,5],\"name\":\"HSpacer09358\",\"sizing_mode\":\"stretch_width\"},\"id\":\"11160\",\"type\":\"Spacer\"},{\"attributes\":{\"text\":\"Pfizer Stock Data\",\"text_color\":{\"value\":\"black\"},\"text_font_size\":{\"value\":\"12pt\"}},\"id\":\"11165\",\"type\":\"Title\"},{\"attributes\":{\"axis_label\":\"Pfizer\",\"bounds\":\"auto\",\"formatter\":{\"id\":\"11205\"},\"major_label_orientation\":\"horizontal\",\"ticker\":{\"id\":\"11178\"}},\"id\":\"11177\",\"type\":\"LinearAxis\"},{\"attributes\":{},\"id\":\"11182\",\"type\":\"PanTool\"},{\"attributes\":{\"end\":41.909425,\"reset_end\":41.909425,\"reset_start\":27.250405,\"start\":27.250405,\"tags\":[[[\"Pfizer\",\"Pfizer\",null]]]},\"id\":\"11162\",\"type\":\"Range1d\"},{\"attributes\":{\"days\":[1,8,15,22]},\"id\":\"11216\",\"type\":\"DaysTicker\"},{\"attributes\":{},\"id\":\"11205\",\"type\":\"BasicTickFormatter\"},{\"attributes\":{\"line_alpha\":0.1,\"line_color\":\"purple\",\"line_width\":2,\"x\":{\"field\":\"Date\"},\"y\":{\"field\":\"Pfizer\"}},\"id\":\"11198\",\"type\":\"Line\"},{\"attributes\":{\"base\":24,\"mantissas\":[1,2,4,6,8,12],\"max_interval\":43200000.0,\"min_interval\":3600000.0,\"num_minor_ticks\":0},\"id\":\"11213\",\"type\":\"AdaptiveTicker\"},{\"attributes\":{\"num_minor_ticks\":5,\"tickers\":[{\"id\":\"11211\"},{\"id\":\"11212\"},{\"id\":\"11213\"},{\"id\":\"11214\"},{\"id\":\"11215\"},{\"id\":\"11216\"},{\"id\":\"11217\"},{\"id\":\"11218\"},{\"id\":\"11219\"},{\"id\":\"11220\"},{\"id\":\"11221\"},{\"id\":\"11222\"}]},\"id\":\"11174\",\"type\":\"DatetimeTicker\"},{\"attributes\":{\"axis\":{\"id\":\"11177\"},\"dimension\":1,\"grid_line_color\":null,\"ticker\":null},\"id\":\"11180\",\"type\":\"Grid\"},{\"attributes\":{\"days\":[1,2,3,4,5,6,7,8,9,10,11,12,13,14,15,16,17,18,19,20,21,22,23,24,25,26,27,28,29,30,31]},\"id\":\"11214\",\"type\":\"DaysTicker\"},{\"attributes\":{\"axis\":{\"id\":\"11173\"},\"grid_line_color\":null,\"ticker\":null},\"id\":\"11176\",\"type\":\"Grid\"},{\"attributes\":{\"data_source\":{\"id\":\"11194\"},\"glyph\":{\"id\":\"11197\"},\"hover_glyph\":null,\"muted_glyph\":{\"id\":\"11199\"},\"nonselection_glyph\":{\"id\":\"11198\"},\"selection_glyph\":null,\"view\":{\"id\":\"11201\"}},\"id\":\"11200\",\"type\":\"GlyphRenderer\"},{\"attributes\":{\"base\":60,\"mantissas\":[1,2,5,10,15,20,30],\"max_interval\":1800000.0,\"min_interval\":1000.0,\"num_minor_ticks\":0},\"id\":\"11212\",\"type\":\"AdaptiveTicker\"},{\"attributes\":{},\"id\":\"11178\",\"type\":\"BasicTicker\"},{\"attributes\":{},\"id\":\"11195\",\"type\":\"Selection\"},{\"attributes\":{\"end\":1605484800000.0,\"reset_end\":1605484800000.0,\"reset_start\":1577923200000.0,\"start\":1577923200000.0,\"tags\":[[[\"Date\",\"Date\",null]]]},\"id\":\"11161\",\"type\":\"Range1d\"},{\"attributes\":{\"active_drag\":\"auto\",\"active_inspect\":\"auto\",\"active_multi\":null,\"active_scroll\":\"auto\",\"active_tap\":\"auto\",\"tools\":[{\"id\":\"11163\"},{\"id\":\"11181\"},{\"id\":\"11182\"},{\"id\":\"11183\"},{\"id\":\"11184\"},{\"id\":\"11185\"}]},\"id\":\"11187\",\"type\":\"Toolbar\"},{\"attributes\":{\"margin\":[5,5,5,5],\"name\":\"HSpacer09359\",\"sizing_mode\":\"stretch_width\"},\"id\":\"11246\",\"type\":\"Spacer\"},{\"attributes\":{\"line_alpha\":0.2,\"line_color\":\"purple\",\"line_width\":2,\"x\":{\"field\":\"Date\"},\"y\":{\"field\":\"Pfizer\"}},\"id\":\"11199\",\"type\":\"Line\"},{\"attributes\":{},\"id\":\"11169\",\"type\":\"LinearScale\"},{\"attributes\":{\"callback\":null,\"formatters\":{\"@{Date}\":\"datetime\"},\"renderers\":[{\"id\":\"11200\"}],\"tags\":[\"hv_created\"],\"tooltips\":[[\"Date\",\"@{Date}{%F %T}\"],[\"Pfizer\",\"@{Pfizer}\"]]},\"id\":\"11163\",\"type\":\"HoverTool\"},{\"attributes\":{\"months\":[0,4,8]},\"id\":\"11220\",\"type\":\"MonthsTicker\"},{\"attributes\":{\"align\":null,\"below\":[{\"id\":\"11173\"}],\"center\":[{\"id\":\"11176\"},{\"id\":\"11180\"}],\"left\":[{\"id\":\"11177\"}],\"margin\":null,\"min_border_bottom\":10,\"min_border_left\":10,\"min_border_right\":10,\"min_border_top\":10,\"plot_height\":500,\"plot_width\":700,\"renderers\":[{\"id\":\"11200\"}],\"sizing_mode\":\"fixed\",\"title\":{\"id\":\"11165\"},\"toolbar\":{\"id\":\"11187\"},\"x_range\":{\"id\":\"11161\"},\"x_scale\":{\"id\":\"11169\"},\"y_range\":{\"id\":\"11162\"},\"y_scale\":{\"id\":\"11171\"}},\"id\":\"11164\",\"subtype\":\"Figure\",\"type\":\"Plot\"},{\"attributes\":{\"days\":[1,4,7,10,13,16,19,22,25,28]},\"id\":\"11215\",\"type\":\"DaysTicker\"},{\"attributes\":{\"months\":[0,2,4,6,8,10]},\"id\":\"11219\",\"type\":\"MonthsTicker\"},{\"attributes\":{},\"id\":\"11185\",\"type\":\"ResetTool\"},{\"attributes\":{\"days\":[1,15]},\"id\":\"11217\",\"type\":\"DaysTicker\"},{\"attributes\":{},\"id\":\"11222\",\"type\":\"YearsTicker\"},{\"attributes\":{\"months\":[0,1,2,3,4,5,6,7,8,9,10,11]},\"id\":\"11218\",\"type\":\"MonthsTicker\"},{\"attributes\":{\"data\":{\"Date\":{\"__ndarray__\":\"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\",\"dtype\":\"float64\",\"order\":\"little\",\"shape\":[222]},\"Pfizer\":{\"__ndarray__\":\"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\",\"dtype\":\"float64\",\"order\":\"little\",\"shape\":[222]}},\"selected\":{\"id\":\"11195\"},\"selection_policy\":{\"id\":\"11223\"}},\"id\":\"11194\",\"type\":\"ColumnDataSource\"}],\"root_ids\":[\"11159\"]},\"title\":\"Bokeh Application\",\"version\":\"2.1.1\"}};\n",
       "  var render_items = [{\"docid\":\"e2fa4a5c-2237-4c4f-ade0-5232bb2cb971\",\"root_ids\":[\"11159\"],\"roots\":{\"11159\":\"268b5d99-db5d-4071-98d5-276d7e51a42a\"}}];\n",
       "  root.Bokeh.embed.embed_items_notebook(docs_json, render_items);\n",
       "  }\n",
       "if (root.Bokeh !== undefined) {\n",
       "    embed_document(root);\n",
       "  } else {\n",
       "    var attempts = 0;\n",
       "    var timer = setInterval(function(root) {\n",
       "      if (root.Bokeh !== undefined) {\n",
       "        clearInterval(timer);\n",
       "        embed_document(root);\n",
       "      } else if (document.readyState == \"complete\") {\n",
       "        attempts++;\n",
       "        if (attempts > 100) {\n",
       "          clearInterval(timer);\n",
       "          console.log(\"Bokeh: ERROR: Unable to run BokehJS code because BokehJS library is missing\");\n",
       "        }\n",
       "      }\n",
       "    }, 10, root)\n",
       "  }\n",
       "})(window);</script>"
      ],
      "text/plain": [
       ":Curve   [Date]   (Pfizer)"
      ]
     },
     "execution_count": 57,
     "metadata": {
      "application/vnd.holoviews_exec.v0+json": {
       "id": "11159"
      }
     },
     "output_type": "execute_result"
    }
   ],
   "source": [
    "#Plotting Pfizer\n",
    "pfe_plot = pfe_data.hvplot(title = \"Pfizer Stock Data\", line_color = 'purple', height = 500, width = 700)\n",
    "pfe_plot"
   ]
  },
  {
   "cell_type": "code",
   "execution_count": 58,
   "metadata": {},
   "outputs": [
    {
     "data": {
      "text/html": [
       "<div>\n",
       "<style scoped>\n",
       "    .dataframe tbody tr th:only-of-type {\n",
       "        vertical-align: middle;\n",
       "    }\n",
       "\n",
       "    .dataframe tbody tr th {\n",
       "        vertical-align: top;\n",
       "    }\n",
       "\n",
       "    .dataframe thead th {\n",
       "        text-align: right;\n",
       "    }\n",
       "</style>\n",
       "<table border=\"1\" class=\"dataframe\">\n",
       "  <thead>\n",
       "    <tr style=\"text-align: right;\">\n",
       "      <th></th>\n",
       "      <th>Abbott Laboratories</th>\n",
       "      <th>Moderna</th>\n",
       "      <th>Novavax</th>\n",
       "      <th>Pfizer</th>\n",
       "    </tr>\n",
       "    <tr>\n",
       "      <th>Date</th>\n",
       "      <th></th>\n",
       "      <th></th>\n",
       "      <th></th>\n",
       "      <th></th>\n",
       "    </tr>\n",
       "  </thead>\n",
       "  <tbody>\n",
       "    <tr>\n",
       "      <th>2020-01-02</th>\n",
       "      <td>86.95</td>\n",
       "      <td>19.23</td>\n",
       "      <td>4.49</td>\n",
       "      <td>39.11602</td>\n",
       "    </tr>\n",
       "    <tr>\n",
       "      <th>2020-01-03</th>\n",
       "      <td>85.89</td>\n",
       "      <td>18.89</td>\n",
       "      <td>4.44</td>\n",
       "      <td>38.90504</td>\n",
       "    </tr>\n",
       "    <tr>\n",
       "      <th>2020-01-06</th>\n",
       "      <td>86.34</td>\n",
       "      <td>18.13</td>\n",
       "      <td>4.58</td>\n",
       "      <td>38.85230</td>\n",
       "    </tr>\n",
       "    <tr>\n",
       "      <th>2020-01-07</th>\n",
       "      <td>85.86</td>\n",
       "      <td>17.78</td>\n",
       "      <td>4.57</td>\n",
       "      <td>38.72571</td>\n",
       "    </tr>\n",
       "    <tr>\n",
       "      <th>2020-01-08</th>\n",
       "      <td>86.21</td>\n",
       "      <td>17.98</td>\n",
       "      <td>4.28</td>\n",
       "      <td>39.03163</td>\n",
       "    </tr>\n",
       "  </tbody>\n",
       "</table>\n",
       "</div>"
      ],
      "text/plain": [
       "            Abbott Laboratories  Moderna  Novavax    Pfizer\n",
       "Date                                                       \n",
       "2020-01-02                86.95    19.23     4.49  39.11602\n",
       "2020-01-03                85.89    18.89     4.44  38.90504\n",
       "2020-01-06                86.34    18.13     4.58  38.85230\n",
       "2020-01-07                85.86    17.78     4.57  38.72571\n",
       "2020-01-08                86.21    17.98     4.28  39.03163"
      ]
     },
     "execution_count": 58,
     "metadata": {},
     "output_type": "execute_result"
    }
   ],
   "source": [
    "#Concatenate data\n",
    "vax_data = pd.concat([abt_data , mrna_data, nvax_data, pfe_data], axis='columns', join='inner')\n",
    "vax_data.head()"
   ]
  },
  {
   "cell_type": "code",
   "execution_count": 59,
   "metadata": {},
   "outputs": [
    {
     "data": {
      "application/vnd.holoviews_exec.v0+json": "",
      "text/html": [
       "<div id='11348'>\n",
       "\n",
       "\n",
       "\n",
       "\n",
       "\n",
       "  <div class=\"bk-root\" id=\"d427231c-e3be-4708-a6ed-7a45dd0736ff\" data-root-id=\"11348\"></div>\n",
       "</div>\n",
       "<script type=\"application/javascript\">(function(root) {\n",
       "  function embed_document(root) {\n",
       "  var docs_json = {\"b1eaab64-412b-4c01-a91a-016944bfc0dd\":{\"roots\":{\"references\":[{\"attributes\":{\"months\":[0,6]},\"id\":\"11413\",\"type\":\"MonthsTicker\"},{\"attributes\":{\"months\":[0,1,2,3,4,5,6,7,8,9,10,11]},\"id\":\"11410\",\"type\":\"MonthsTicker\"},{\"attributes\":{\"margin\":[5,5,5,5],\"name\":\"HSpacer09607\",\"sizing_mode\":\"stretch_width\"},\"id\":\"11753\",\"type\":\"Spacer\"},{\"attributes\":{\"data_source\":{\"id\":\"11390\"},\"glyph\":{\"id\":\"11393\"},\"hover_glyph\":null,\"muted_glyph\":{\"id\":\"11395\"},\"nonselection_glyph\":{\"id\":\"11394\"},\"selection_glyph\":null,\"view\":{\"id\":\"11397\"}},\"id\":\"11396\",\"type\":\"GlyphRenderer\"},{\"attributes\":{},\"id\":\"11377\",\"type\":\"ResetTool\"},{\"attributes\":{\"data\":{\"Date\":{\"__ndarray__\":\"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\",\"dtype\":\"float64\",\"order\":\"little\",\"shape\":[222]},\"Variable\":[\"Pfizer\",\"Pfizer\",\"Pfizer\",\"Pfizer\",\"Pfizer\",\"Pfizer\",\"Pfizer\",\"Pfizer\",\"Pfizer\",\"Pfizer\",\"Pfizer\",\"Pfizer\",\"Pfizer\",\"Pfizer\",\"Pfizer\",\"Pfizer\",\"Pfizer\",\"Pfizer\",\"Pfizer\",\"Pfizer\",\"Pfizer\",\"Pfizer\",\"Pfizer\",\"Pfizer\",\"Pfizer\",\"Pfizer\",\"Pfizer\",\"Pfizer\",\"Pfizer\",\"Pfizer\",\"Pfizer\",\"Pfizer\",\"Pfizer\",\"Pfizer\",\"Pfizer\",\"Pfizer\",\"Pfizer\",\"Pfizer\",\"Pfizer\",\"Pfizer\",\"Pfizer\",\"Pfizer\",\"Pfizer\",\"Pfizer\",\"Pfizer\",\"Pfizer\",\"Pfizer\",\"Pfizer\",\"Pfizer\",\"Pfizer\",\"Pfizer\",\"Pfizer\",\"Pfizer\",\"Pfizer\",\"Pfizer\",\"Pfizer\",\"Pfizer\",\"Pfizer\",\"Pfizer\",\"Pfizer\",\"Pfizer\",\"Pfizer\",\"Pfizer\",\"Pfizer\",\"Pfizer\",\"Pfizer\",\"Pfizer\",\"Pfizer\",\"Pfizer\",\"Pfizer\",\"Pfizer\",\"Pfizer\",\"Pfizer\",\"Pfizer\",\"Pfizer\",\"Pfizer\",\"Pfizer\",\"Pfizer\",\"Pfizer\",\"Pfizer\",\"Pfizer\",\"Pfizer\",\"Pfizer\",\"Pfizer\",\"Pfizer\",\"Pfizer\",\"Pfizer\",\"Pfizer\",\"Pfizer\",\"Pfizer\",\"Pfizer\",\"Pfizer\",\"Pfizer\",\"Pfizer\",\"Pfizer\",\"Pfizer\",\"Pfizer\",\"Pfizer\",\"Pfizer\",\"Pfizer\",\"Pfizer\",\"Pfizer\",\"Pfizer\",\"Pfizer\",\"Pfizer\",\"Pfizer\",\"Pfizer\",\"Pfizer\",\"Pfizer\",\"Pfizer\",\"Pfizer\",\"Pfizer\",\"Pfizer\",\"Pfizer\",\"Pfizer\",\"Pfizer\",\"Pfizer\",\"Pfizer\",\"Pfizer\",\"Pfizer\",\"Pfizer\",\"Pfizer\",\"Pfizer\",\"Pfizer\",\"Pfizer\",\"Pfizer\",\"Pfizer\",\"Pfizer\",\"Pfizer\",\"Pfizer\",\"Pfizer\",\"Pfizer\",\"Pfizer\",\"Pfizer\",\"Pfizer\",\"Pfizer\",\"Pfizer\",\"Pfizer\",\"Pfizer\",\"Pfizer\",\"Pfizer\",\"Pfizer\",\"Pfizer\",\"Pfizer\",\"Pfizer\",\"Pfizer\",\"Pfizer\",\"Pfizer\",\"Pfizer\",\"Pfizer\",\"Pfizer\",\"Pfizer\",\"Pfizer\",\"Pfizer\",\"Pfizer\",\"Pfizer\",\"Pfizer\",\"Pfizer\",\"Pfizer\",\"Pfizer\",\"Pfizer\",\"Pfizer\",\"Pfizer\",\"Pfizer\",\"Pfizer\",\"Pfizer\",\"Pfizer\",\"Pfizer\",\"Pfizer\",\"Pfizer\",\"Pfizer\",\"Pfizer\",\"Pfizer\",\"Pfizer\",\"Pfizer\",\"Pfizer\",\"Pfizer\",\"Pfizer\",\"Pfizer\",\"Pfizer\",\"Pfizer\",\"Pfizer\",\"Pfizer\",\"Pfizer\",\"Pfizer\",\"Pfizer\",\"Pfizer\",\"Pfizer\",\"Pfizer\",\"Pfizer\",\"Pfizer\",\"Pfizer\",\"Pfizer\",\"Pfizer\",\"Pfizer\",\"Pfizer\",\"Pfizer\",\"Pfizer\",\"Pfizer\",\"Pfizer\",\"Pfizer\",\"Pfizer\",\"Pfizer\",\"Pfizer\",\"Pfizer\",\"Pfizer\",\"Pfizer\",\"Pfizer\",\"Pfizer\",\"Pfizer\",\"Pfizer\",\"Pfizer\",\"Pfizer\",\"Pfizer\",\"Pfizer\",\"Pfizer\",\"Pfizer\",\"Pfizer\",\"Pfizer\",\"Pfizer\",\"Pfizer\",\"Pfizer\"],\"value\":{\"__ndarray__\":\"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\",\"dtype\":\"float64\",\"order\":\"little\",\"shape\":[222]}},\"selected\":{\"id\":\"11485\"},\"selection_policy\":{\"id\":\"11515\"}},\"id\":\"11484\",\"type\":\"ColumnDataSource\"},{\"attributes\":{\"months\":[0,4,8]},\"id\":\"11412\",\"type\":\"MonthsTicker\"},{\"attributes\":{\"axis_label\":\"Date\",\"bounds\":\"auto\",\"formatter\":{\"id\":\"11387\"},\"major_label_orientation\":\"horizontal\",\"ticker\":{\"id\":\"11366\"}},\"id\":\"11365\",\"type\":\"DatetimeAxis\"},{\"attributes\":{\"click_policy\":\"mute\",\"items\":[{\"id\":\"11419\"},{\"id\":\"11450\"},{\"id\":\"11483\"},{\"id\":\"11518\"}],\"location\":[0,0],\"title\":\"Variable\"},\"id\":\"11418\",\"type\":\"Legend\"},{\"attributes\":{\"line_alpha\":0.2,\"line_color\":\"#ff7e0e\",\"line_width\":2,\"x\":{\"field\":\"Date\"},\"y\":{\"field\":\"value\"}},\"id\":\"11425\",\"type\":\"Line\"},{\"attributes\":{\"data\":{\"Date\":{\"__ndarray__\":\"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\",\"dtype\":\"float64\",\"order\":\"little\",\"shape\":[222]},\"Variable\":[\"Moderna\",\"Moderna\",\"Moderna\",\"Moderna\",\"Moderna\",\"Moderna\",\"Moderna\",\"Moderna\",\"Moderna\",\"Moderna\",\"Moderna\",\"Moderna\",\"Moderna\",\"Moderna\",\"Moderna\",\"Moderna\",\"Moderna\",\"Moderna\",\"Moderna\",\"Moderna\",\"Moderna\",\"Moderna\",\"Moderna\",\"Moderna\",\"Moderna\",\"Moderna\",\"Moderna\",\"Moderna\",\"Moderna\",\"Moderna\",\"Moderna\",\"Moderna\",\"Moderna\",\"Moderna\",\"Moderna\",\"Moderna\",\"Moderna\",\"Moderna\",\"Moderna\",\"Moderna\",\"Moderna\",\"Moderna\",\"Moderna\",\"Moderna\",\"Moderna\",\"Moderna\",\"Moderna\",\"Moderna\",\"Moderna\",\"Moderna\",\"Moderna\",\"Moderna\",\"Moderna\",\"Moderna\",\"Moderna\",\"Moderna\",\"Moderna\",\"Moderna\",\"Moderna\",\"Moderna\",\"Moderna\",\"Moderna\",\"Moderna\",\"Moderna\",\"Moderna\",\"Moderna\",\"Moderna\",\"Moderna\",\"Moderna\",\"Moderna\",\"Moderna\",\"Moderna\",\"Moderna\",\"Moderna\",\"Moderna\",\"Moderna\",\"Moderna\",\"Moderna\",\"Moderna\",\"Moderna\",\"Moderna\",\"Moderna\",\"Moderna\",\"Moderna\",\"Moderna\",\"Moderna\",\"Moderna\",\"Moderna\",\"Moderna\",\"Moderna\",\"Moderna\",\"Moderna\",\"Moderna\",\"Moderna\",\"Moderna\",\"Moderna\",\"Moderna\",\"Moderna\",\"Moderna\",\"Moderna\",\"Moderna\",\"Moderna\",\"Moderna\",\"Moderna\",\"Moderna\",\"Moderna\",\"Moderna\",\"Moderna\",\"Moderna\",\"Moderna\",\"Moderna\",\"Moderna\",\"Moderna\",\"Moderna\",\"Moderna\",\"Moderna\",\"Moderna\",\"Moderna\",\"Moderna\",\"Moderna\",\"Moderna\",\"Moderna\",\"Moderna\",\"Moderna\",\"Moderna\",\"Moderna\",\"Moderna\",\"Moderna\",\"Moderna\",\"Moderna\",\"Moderna\",\"Moderna\",\"Moderna\",\"Moderna\",\"Moderna\",\"Moderna\",\"Moderna\",\"Moderna\",\"Moderna\",\"Moderna\",\"Moderna\",\"Moderna\",\"Moderna\",\"Moderna\",\"Moderna\",\"Moderna\",\"Moderna\",\"Moderna\",\"Moderna\",\"Moderna\",\"Moderna\",\"Moderna\",\"Moderna\",\"Moderna\",\"Moderna\",\"Moderna\",\"Moderna\",\"Moderna\",\"Moderna\",\"Moderna\",\"Moderna\",\"Moderna\",\"Moderna\",\"Moderna\",\"Moderna\",\"Moderna\",\"Moderna\",\"Moderna\",\"Moderna\",\"Moderna\",\"Moderna\",\"Moderna\",\"Moderna\",\"Moderna\",\"Moderna\",\"Moderna\",\"Moderna\",\"Moderna\",\"Moderna\",\"Moderna\",\"Moderna\",\"Moderna\",\"Moderna\",\"Moderna\",\"Moderna\",\"Moderna\",\"Moderna\",\"Moderna\",\"Moderna\",\"Moderna\",\"Moderna\",\"Moderna\",\"Moderna\",\"Moderna\",\"Moderna\",\"Moderna\",\"Moderna\",\"Moderna\",\"Moderna\",\"Moderna\",\"Moderna\",\"Moderna\",\"Moderna\",\"Moderna\",\"Moderna\",\"Moderna\",\"Moderna\",\"Moderna\",\"Moderna\",\"Moderna\",\"Moderna\",\"Moderna\",\"Moderna\",\"Moderna\",\"Moderna\",\"Moderna\",\"Moderna\",\"Moderna\",\"Moderna\",\"Moderna\",\"Moderna\",\"Moderna\"],\"value\":{\"__ndarray__\":\"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\",\"dtype\":\"float64\",\"order\":\"little\",\"shape\":[222]}},\"selected\":{\"id\":\"11421\"},\"selection_policy\":{\"id\":\"11447\"}},\"id\":\"11420\",\"type\":\"ColumnDataSource\"},{\"attributes\":{\"mantissas\":[1,2,5],\"max_interval\":500.0,\"num_minor_ticks\":0},\"id\":\"11403\",\"type\":\"AdaptiveTicker\"},{\"attributes\":{\"source\":{\"id\":\"11484\"}},\"id\":\"11491\",\"type\":\"CDSView\"},{\"attributes\":{\"line_alpha\":0.1,\"line_color\":\"#d62628\",\"line_width\":2,\"x\":{\"field\":\"Date\"},\"y\":{\"field\":\"value\"}},\"id\":\"11488\",\"type\":\"Line\"},{\"attributes\":{\"days\":[1,8,15,22]},\"id\":\"11408\",\"type\":\"DaysTicker\"},{\"attributes\":{},\"id\":\"11447\",\"type\":\"UnionRenderers\"},{\"attributes\":{},\"id\":\"11391\",\"type\":\"Selection\"},{\"attributes\":{\"overlay\":{\"id\":\"11378\"}},\"id\":\"11376\",\"type\":\"BoxZoomTool\"},{\"attributes\":{\"base\":24,\"mantissas\":[1,2,4,6,8,12],\"max_interval\":43200000.0,\"min_interval\":3600000.0,\"num_minor_ticks\":0},\"id\":\"11405\",\"type\":\"AdaptiveTicker\"},{\"attributes\":{},\"id\":\"11389\",\"type\":\"BasicTickFormatter\"},{\"attributes\":{\"source\":{\"id\":\"11451\"}},\"id\":\"11458\",\"type\":\"CDSView\"},{\"attributes\":{\"line_alpha\":0.2,\"line_color\":\"#1f77b3\",\"line_width\":2,\"x\":{\"field\":\"Date\"},\"y\":{\"field\":\"value\"}},\"id\":\"11395\",\"type\":\"Line\"},{\"attributes\":{\"line_alpha\":0.1,\"line_color\":\"#ff7e0e\",\"line_width\":2,\"x\":{\"field\":\"Date\"},\"y\":{\"field\":\"value\"}},\"id\":\"11424\",\"type\":\"Line\"},{\"attributes\":{\"bottom_units\":\"screen\",\"fill_alpha\":0.5,\"fill_color\":\"lightgrey\",\"left_units\":\"screen\",\"level\":\"overlay\",\"line_alpha\":1.0,\"line_color\":\"black\",\"line_dash\":[4,4],\"line_width\":2,\"right_units\":\"screen\",\"top_units\":\"screen\"},\"id\":\"11378\",\"type\":\"BoxAnnotation\"},{\"attributes\":{\"num_minor_ticks\":5,\"tickers\":[{\"id\":\"11403\"},{\"id\":\"11404\"},{\"id\":\"11405\"},{\"id\":\"11406\"},{\"id\":\"11407\"},{\"id\":\"11408\"},{\"id\":\"11409\"},{\"id\":\"11410\"},{\"id\":\"11411\"},{\"id\":\"11412\"},{\"id\":\"11413\"},{\"id\":\"11414\"}]},\"id\":\"11366\",\"type\":\"DatetimeTicker\"},{\"attributes\":{\"line_color\":\"#1f77b3\",\"line_width\":2,\"x\":{\"field\":\"Date\"},\"y\":{\"field\":\"value\"}},\"id\":\"11393\",\"type\":\"Line\"},{\"attributes\":{\"source\":{\"id\":\"11390\"}},\"id\":\"11397\",\"type\":\"CDSView\"},{\"attributes\":{},\"id\":\"11363\",\"type\":\"LinearScale\"},{\"attributes\":{\"active_drag\":\"auto\",\"active_inspect\":\"auto\",\"active_multi\":null,\"active_scroll\":\"auto\",\"active_tap\":\"auto\",\"tools\":[{\"id\":\"11352\"},{\"id\":\"11373\"},{\"id\":\"11374\"},{\"id\":\"11375\"},{\"id\":\"11376\"},{\"id\":\"11377\"}]},\"id\":\"11379\",\"type\":\"Toolbar\"},{\"attributes\":{},\"id\":\"11480\",\"type\":\"UnionRenderers\"},{\"attributes\":{\"label\":{\"value\":\"Abbott Laboratories\"},\"renderers\":[{\"id\":\"11396\"}]},\"id\":\"11419\",\"type\":\"LegendItem\"},{\"attributes\":{},\"id\":\"11387\",\"type\":\"DatetimeTickFormatter\"},{\"attributes\":{\"line_color\":\"#d62628\",\"line_width\":2,\"x\":{\"field\":\"Date\"},\"y\":{\"field\":\"value\"}},\"id\":\"11487\",\"type\":\"Line\"},{\"attributes\":{\"line_color\":\"#2ba02b\",\"line_width\":2,\"x\":{\"field\":\"Date\"},\"y\":{\"field\":\"value\"}},\"id\":\"11454\",\"type\":\"Line\"},{\"attributes\":{\"data_source\":{\"id\":\"11420\"},\"glyph\":{\"id\":\"11423\"},\"hover_glyph\":null,\"muted_glyph\":{\"id\":\"11425\"},\"nonselection_glyph\":{\"id\":\"11424\"},\"selection_glyph\":null,\"view\":{\"id\":\"11427\"}},\"id\":\"11426\",\"type\":\"GlyphRenderer\"},{\"attributes\":{\"data_source\":{\"id\":\"11451\"},\"glyph\":{\"id\":\"11454\"},\"hover_glyph\":null,\"muted_glyph\":{\"id\":\"11456\"},\"nonselection_glyph\":{\"id\":\"11455\"},\"selection_glyph\":null,\"view\":{\"id\":\"11458\"}},\"id\":\"11457\",\"type\":\"GlyphRenderer\"},{\"attributes\":{\"days\":[1,15]},\"id\":\"11409\",\"type\":\"DaysTicker\"},{\"attributes\":{\"data\":{\"Date\":{\"__ndarray__\":\"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\",\"dtype\":\"float64\",\"order\":\"little\",\"shape\":[222]},\"Variable\":[\"Abbott Laboratories\",\"Abbott Laboratories\",\"Abbott Laboratories\",\"Abbott Laboratories\",\"Abbott Laboratories\",\"Abbott Laboratories\",\"Abbott Laboratories\",\"Abbott Laboratories\",\"Abbott Laboratories\",\"Abbott Laboratories\",\"Abbott Laboratories\",\"Abbott Laboratories\",\"Abbott Laboratories\",\"Abbott Laboratories\",\"Abbott Laboratories\",\"Abbott Laboratories\",\"Abbott Laboratories\",\"Abbott Laboratories\",\"Abbott Laboratories\",\"Abbott Laboratories\",\"Abbott Laboratories\",\"Abbott Laboratories\",\"Abbott Laboratories\",\"Abbott Laboratories\",\"Abbott Laboratories\",\"Abbott Laboratories\",\"Abbott Laboratories\",\"Abbott Laboratories\",\"Abbott Laboratories\",\"Abbott Laboratories\",\"Abbott Laboratories\",\"Abbott Laboratories\",\"Abbott Laboratories\",\"Abbott Laboratories\",\"Abbott Laboratories\",\"Abbott Laboratories\",\"Abbott Laboratories\",\"Abbott Laboratories\",\"Abbott Laboratories\",\"Abbott Laboratories\",\"Abbott Laboratories\",\"Abbott Laboratories\",\"Abbott Laboratories\",\"Abbott Laboratories\",\"Abbott Laboratories\",\"Abbott Laboratories\",\"Abbott Laboratories\",\"Abbott Laboratories\",\"Abbott Laboratories\",\"Abbott Laboratories\",\"Abbott Laboratories\",\"Abbott Laboratories\",\"Abbott Laboratories\",\"Abbott Laboratories\",\"Abbott Laboratories\",\"Abbott Laboratories\",\"Abbott Laboratories\",\"Abbott Laboratories\",\"Abbott Laboratories\",\"Abbott Laboratories\",\"Abbott Laboratories\",\"Abbott Laboratories\",\"Abbott Laboratories\",\"Abbott Laboratories\",\"Abbott Laboratories\",\"Abbott Laboratories\",\"Abbott Laboratories\",\"Abbott Laboratories\",\"Abbott Laboratories\",\"Abbott Laboratories\",\"Abbott Laboratories\",\"Abbott Laboratories\",\"Abbott Laboratories\",\"Abbott Laboratories\",\"Abbott Laboratories\",\"Abbott Laboratories\",\"Abbott Laboratories\",\"Abbott Laboratories\",\"Abbott Laboratories\",\"Abbott Laboratories\",\"Abbott Laboratories\",\"Abbott Laboratories\",\"Abbott Laboratories\",\"Abbott Laboratories\",\"Abbott Laboratories\",\"Abbott Laboratories\",\"Abbott Laboratories\",\"Abbott Laboratories\",\"Abbott Laboratories\",\"Abbott Laboratories\",\"Abbott Laboratories\",\"Abbott Laboratories\",\"Abbott Laboratories\",\"Abbott Laboratories\",\"Abbott Laboratories\",\"Abbott Laboratories\",\"Abbott Laboratories\",\"Abbott Laboratories\",\"Abbott Laboratories\",\"Abbott Laboratories\",\"Abbott Laboratories\",\"Abbott Laboratories\",\"Abbott Laboratories\",\"Abbott Laboratories\",\"Abbott Laboratories\",\"Abbott Laboratories\",\"Abbott Laboratories\",\"Abbott Laboratories\",\"Abbott Laboratories\",\"Abbott Laboratories\",\"Abbott Laboratories\",\"Abbott Laboratories\",\"Abbott Laboratories\",\"Abbott Laboratories\",\"Abbott Laboratories\",\"Abbott Laboratories\",\"Abbott Laboratories\",\"Abbott Laboratories\",\"Abbott Laboratories\",\"Abbott Laboratories\",\"Abbott Laboratories\",\"Abbott Laboratories\",\"Abbott Laboratories\",\"Abbott Laboratories\",\"Abbott Laboratories\",\"Abbott Laboratories\",\"Abbott Laboratories\",\"Abbott Laboratories\",\"Abbott Laboratories\",\"Abbott Laboratories\",\"Abbott Laboratories\",\"Abbott Laboratories\",\"Abbott Laboratories\",\"Abbott Laboratories\",\"Abbott Laboratories\",\"Abbott Laboratories\",\"Abbott Laboratories\",\"Abbott Laboratories\",\"Abbott Laboratories\",\"Abbott Laboratories\",\"Abbott Laboratories\",\"Abbott Laboratories\",\"Abbott Laboratories\",\"Abbott Laboratories\",\"Abbott Laboratories\",\"Abbott Laboratories\",\"Abbott Laboratories\",\"Abbott Laboratories\",\"Abbott Laboratories\",\"Abbott Laboratories\",\"Abbott Laboratories\",\"Abbott Laboratories\",\"Abbott Laboratories\",\"Abbott Laboratories\",\"Abbott Laboratories\",\"Abbott Laboratories\",\"Abbott Laboratories\",\"Abbott Laboratories\",\"Abbott Laboratories\",\"Abbott Laboratories\",\"Abbott Laboratories\",\"Abbott Laboratories\",\"Abbott Laboratories\",\"Abbott Laboratories\",\"Abbott Laboratories\",\"Abbott Laboratories\",\"Abbott Laboratories\",\"Abbott Laboratories\",\"Abbott Laboratories\",\"Abbott Laboratories\",\"Abbott Laboratories\",\"Abbott Laboratories\",\"Abbott Laboratories\",\"Abbott Laboratories\",\"Abbott Laboratories\",\"Abbott Laboratories\",\"Abbott Laboratories\",\"Abbott Laboratories\",\"Abbott Laboratories\",\"Abbott Laboratories\",\"Abbott Laboratories\",\"Abbott Laboratories\",\"Abbott Laboratories\",\"Abbott Laboratories\",\"Abbott Laboratories\",\"Abbott Laboratories\",\"Abbott Laboratories\",\"Abbott Laboratories\",\"Abbott Laboratories\",\"Abbott Laboratories\",\"Abbott Laboratories\",\"Abbott Laboratories\",\"Abbott Laboratories\",\"Abbott Laboratories\",\"Abbott Laboratories\",\"Abbott Laboratories\",\"Abbott Laboratories\",\"Abbott Laboratories\",\"Abbott Laboratories\",\"Abbott Laboratories\",\"Abbott Laboratories\",\"Abbott Laboratories\",\"Abbott Laboratories\",\"Abbott Laboratories\",\"Abbott Laboratories\",\"Abbott Laboratories\",\"Abbott Laboratories\",\"Abbott Laboratories\",\"Abbott Laboratories\",\"Abbott Laboratories\",\"Abbott Laboratories\",\"Abbott Laboratories\",\"Abbott Laboratories\",\"Abbott Laboratories\",\"Abbott Laboratories\",\"Abbott Laboratories\",\"Abbott Laboratories\",\"Abbott Laboratories\",\"Abbott Laboratories\",\"Abbott Laboratories\",\"Abbott Laboratories\",\"Abbott Laboratories\"],\"value\":{\"__ndarray__\":\"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\",\"dtype\":\"float64\",\"order\":\"little\",\"shape\":[222]}},\"selected\":{\"id\":\"11391\"},\"selection_policy\":{\"id\":\"11415\"}},\"id\":\"11390\",\"type\":\"ColumnDataSource\"},{\"attributes\":{},\"id\":\"11452\",\"type\":\"Selection\"},{\"attributes\":{\"margin\":[5,5,5,5],\"name\":\"HSpacer09606\",\"sizing_mode\":\"stretch_width\"},\"id\":\"11349\",\"type\":\"Spacer\"},{\"attributes\":{},\"id\":\"11421\",\"type\":\"Selection\"},{\"attributes\":{\"end\":1605484800000.0,\"reset_end\":1605484800000.0,\"reset_start\":1577923200000.0,\"start\":1577923200000.0,\"tags\":[[[\"Date\",\"Date\",null]]]},\"id\":\"11350\",\"type\":\"Range1d\"},{\"attributes\":{\"line_alpha\":0.1,\"line_color\":\"#1f77b3\",\"line_width\":2,\"x\":{\"field\":\"Date\"},\"y\":{\"field\":\"value\"}},\"id\":\"11394\",\"type\":\"Line\"},{\"attributes\":{},\"id\":\"11414\",\"type\":\"YearsTicker\"},{\"attributes\":{\"source\":{\"id\":\"11420\"}},\"id\":\"11427\",\"type\":\"CDSView\"},{\"attributes\":{},\"id\":\"11375\",\"type\":\"WheelZoomTool\"},{\"attributes\":{\"text\":\"Stock Data for Pharma\",\"text_color\":{\"value\":\"black\"},\"text_font_size\":{\"value\":\"12pt\"}},\"id\":\"11357\",\"type\":\"Title\"},{\"attributes\":{\"label\":{\"value\":\"Pfizer\"},\"renderers\":[{\"id\":\"11490\"}]},\"id\":\"11518\",\"type\":\"LegendItem\"},{\"attributes\":{},\"id\":\"11370\",\"type\":\"BasicTicker\"},{\"attributes\":{\"label\":{\"value\":\"Moderna\"},\"renderers\":[{\"id\":\"11426\"}]},\"id\":\"11450\",\"type\":\"LegendItem\"},{\"attributes\":{},\"id\":\"11485\",\"type\":\"Selection\"},{\"attributes\":{\"data\":{\"Date\":{\"__ndarray__\":\"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\",\"dtype\":\"float64\",\"order\":\"little\",\"shape\":[222]},\"Variable\":[\"Novavax\",\"Novavax\",\"Novavax\",\"Novavax\",\"Novavax\",\"Novavax\",\"Novavax\",\"Novavax\",\"Novavax\",\"Novavax\",\"Novavax\",\"Novavax\",\"Novavax\",\"Novavax\",\"Novavax\",\"Novavax\",\"Novavax\",\"Novavax\",\"Novavax\",\"Novavax\",\"Novavax\",\"Novavax\",\"Novavax\",\"Novavax\",\"Novavax\",\"Novavax\",\"Novavax\",\"Novavax\",\"Novavax\",\"Novavax\",\"Novavax\",\"Novavax\",\"Novavax\",\"Novavax\",\"Novavax\",\"Novavax\",\"Novavax\",\"Novavax\",\"Novavax\",\"Novavax\",\"Novavax\",\"Novavax\",\"Novavax\",\"Novavax\",\"Novavax\",\"Novavax\",\"Novavax\",\"Novavax\",\"Novavax\",\"Novavax\",\"Novavax\",\"Novavax\",\"Novavax\",\"Novavax\",\"Novavax\",\"Novavax\",\"Novavax\",\"Novavax\",\"Novavax\",\"Novavax\",\"Novavax\",\"Novavax\",\"Novavax\",\"Novavax\",\"Novavax\",\"Novavax\",\"Novavax\",\"Novavax\",\"Novavax\",\"Novavax\",\"Novavax\",\"Novavax\",\"Novavax\",\"Novavax\",\"Novavax\",\"Novavax\",\"Novavax\",\"Novavax\",\"Novavax\",\"Novavax\",\"Novavax\",\"Novavax\",\"Novavax\",\"Novavax\",\"Novavax\",\"Novavax\",\"Novavax\",\"Novavax\",\"Novavax\",\"Novavax\",\"Novavax\",\"Novavax\",\"Novavax\",\"Novavax\",\"Novavax\",\"Novavax\",\"Novavax\",\"Novavax\",\"Novavax\",\"Novavax\",\"Novavax\",\"Novavax\",\"Novavax\",\"Novavax\",\"Novavax\",\"Novavax\",\"Novavax\",\"Novavax\",\"Novavax\",\"Novavax\",\"Novavax\",\"Novavax\",\"Novavax\",\"Novavax\",\"Novavax\",\"Novavax\",\"Novavax\",\"Novavax\",\"Novavax\",\"Novavax\",\"Novavax\",\"Novavax\",\"Novavax\",\"Novavax\",\"Novavax\",\"Novavax\",\"Novavax\",\"Novavax\",\"Novavax\",\"Novavax\",\"Novavax\",\"Novavax\",\"Novavax\",\"Novavax\",\"Novavax\",\"Novavax\",\"Novavax\",\"Novavax\",\"Novavax\",\"Novavax\",\"Novavax\",\"Novavax\",\"Novavax\",\"Novavax\",\"Novavax\",\"Novavax\",\"Novavax\",\"Novavax\",\"Novavax\",\"Novavax\",\"Novavax\",\"Novavax\",\"Novavax\",\"Novavax\",\"Novavax\",\"Novavax\",\"Novavax\",\"Novavax\",\"Novavax\",\"Novavax\",\"Novavax\",\"Novavax\",\"Novavax\",\"Novavax\",\"Novavax\",\"Novavax\",\"Novavax\",\"Novavax\",\"Novavax\",\"Novavax\",\"Novavax\",\"Novavax\",\"Novavax\",\"Novavax\",\"Novavax\",\"Novavax\",\"Novavax\",\"Novavax\",\"Novavax\",\"Novavax\",\"Novavax\",\"Novavax\",\"Novavax\",\"Novavax\",\"Novavax\",\"Novavax\",\"Novavax\",\"Novavax\",\"Novavax\",\"Novavax\",\"Novavax\",\"Novavax\",\"Novavax\",\"Novavax\",\"Novavax\",\"Novavax\",\"Novavax\",\"Novavax\",\"Novavax\",\"Novavax\",\"Novavax\",\"Novavax\",\"Novavax\",\"Novavax\",\"Novavax\",\"Novavax\",\"Novavax\",\"Novavax\",\"Novavax\",\"Novavax\",\"Novavax\",\"Novavax\",\"Novavax\",\"Novavax\",\"Novavax\",\"Novavax\",\"Novavax\",\"Novavax\",\"Novavax\",\"Novavax\",\"Novavax\",\"Novavax\"],\"value\":{\"__ndarray__\":\"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\",\"dtype\":\"float64\",\"order\":\"little\",\"shape\":[222]}},\"selected\":{\"id\":\"11452\"},\"selection_policy\":{\"id\":\"11480\"}},\"id\":\"11451\",\"type\":\"ColumnDataSource\"},{\"attributes\":{},\"id\":\"11373\",\"type\":\"SaveTool\"},{\"attributes\":{},\"id\":\"11415\",\"type\":\"UnionRenderers\"},{\"attributes\":{},\"id\":\"11361\",\"type\":\"LinearScale\"},{\"attributes\":{\"line_alpha\":0.1,\"line_color\":\"#2ba02b\",\"line_width\":2,\"x\":{\"field\":\"Date\"},\"y\":{\"field\":\"value\"}},\"id\":\"11455\",\"type\":\"Line\"},{\"attributes\":{\"base\":60,\"mantissas\":[1,2,5,10,15,20,30],\"max_interval\":1800000.0,\"min_interval\":1000.0,\"num_minor_ticks\":0},\"id\":\"11404\",\"type\":\"AdaptiveTicker\"},{\"attributes\":{\"axis_label\":\"\",\"bounds\":\"auto\",\"formatter\":{\"id\":\"11389\"},\"major_label_orientation\":\"horizontal\",\"ticker\":{\"id\":\"11370\"}},\"id\":\"11369\",\"type\":\"LinearAxis\"},{\"attributes\":{\"axis\":{\"id\":\"11365\"},\"grid_line_color\":null,\"ticker\":null},\"id\":\"11368\",\"type\":\"Grid\"},{\"attributes\":{\"line_alpha\":0.2,\"line_color\":\"#d62628\",\"line_width\":2,\"x\":{\"field\":\"Date\"},\"y\":{\"field\":\"value\"}},\"id\":\"11489\",\"type\":\"Line\"},{\"attributes\":{\"callback\":null,\"formatters\":{\"@{Date}\":\"datetime\"},\"renderers\":[{\"id\":\"11396\"},{\"id\":\"11426\"},{\"id\":\"11457\"},{\"id\":\"11490\"}],\"tags\":[\"hv_created\"],\"tooltips\":[[\"Variable\",\"@{Variable}\"],[\"Date\",\"@{Date}{%F %T}\"],[\"value\",\"@{value}\"]]},\"id\":\"11352\",\"type\":\"HoverTool\"},{\"attributes\":{\"label\":{\"value\":\"Novavax\"},\"renderers\":[{\"id\":\"11457\"}]},\"id\":\"11483\",\"type\":\"LegendItem\"},{\"attributes\":{\"line_alpha\":0.2,\"line_color\":\"#2ba02b\",\"line_width\":2,\"x\":{\"field\":\"Date\"},\"y\":{\"field\":\"value\"}},\"id\":\"11456\",\"type\":\"Line\"},{\"attributes\":{\"axis\":{\"id\":\"11369\"},\"dimension\":1,\"grid_line_color\":null,\"ticker\":null},\"id\":\"11372\",\"type\":\"Grid\"},{\"attributes\":{\"days\":[1,2,3,4,5,6,7,8,9,10,11,12,13,14,15,16,17,18,19,20,21,22,23,24,25,26,27,28,29,30,31]},\"id\":\"11406\",\"type\":\"DaysTicker\"},{\"attributes\":{},\"id\":\"11515\",\"type\":\"UnionRenderers\"},{\"attributes\":{\"align\":null,\"below\":[{\"id\":\"11365\"}],\"center\":[{\"id\":\"11368\"},{\"id\":\"11372\"}],\"left\":[{\"id\":\"11369\"}],\"margin\":null,\"min_border_bottom\":10,\"min_border_left\":10,\"min_border_right\":10,\"min_border_top\":10,\"plot_height\":500,\"plot_width\":700,\"renderers\":[{\"id\":\"11396\"},{\"id\":\"11426\"},{\"id\":\"11457\"},{\"id\":\"11490\"}],\"right\":[{\"id\":\"11418\"}],\"sizing_mode\":\"fixed\",\"title\":{\"id\":\"11357\"},\"toolbar\":{\"id\":\"11379\"},\"x_range\":{\"id\":\"11350\"},\"x_scale\":{\"id\":\"11361\"},\"y_range\":{\"id\":\"11351\"},\"y_scale\":{\"id\":\"11363\"}},\"id\":\"11356\",\"subtype\":\"Figure\",\"type\":\"Plot\"},{\"attributes\":{\"data_source\":{\"id\":\"11484\"},\"glyph\":{\"id\":\"11487\"},\"hover_glyph\":null,\"muted_glyph\":{\"id\":\"11489\"},\"nonselection_glyph\":{\"id\":\"11488\"},\"selection_glyph\":null,\"view\":{\"id\":\"11491\"}},\"id\":\"11490\",\"type\":\"GlyphRenderer\"},{\"attributes\":{\"children\":[{\"id\":\"11349\"},{\"id\":\"11356\"},{\"id\":\"11753\"}],\"margin\":[0,0,0,0],\"name\":\"Row09602\",\"tags\":[\"embedded\"]},\"id\":\"11348\",\"type\":\"Row\"},{\"attributes\":{\"end\":195.968,\"reset_end\":195.968,\"reset_start\":-13.527999999999999,\"start\":-13.527999999999999,\"tags\":[[[\"value\",\"value\",null]]]},\"id\":\"11351\",\"type\":\"Range1d\"},{\"attributes\":{\"months\":[0,2,4,6,8,10]},\"id\":\"11411\",\"type\":\"MonthsTicker\"},{\"attributes\":{\"line_color\":\"#ff7e0e\",\"line_width\":2,\"x\":{\"field\":\"Date\"},\"y\":{\"field\":\"value\"}},\"id\":\"11423\",\"type\":\"Line\"},{\"attributes\":{},\"id\":\"11374\",\"type\":\"PanTool\"},{\"attributes\":{\"days\":[1,4,7,10,13,16,19,22,25,28]},\"id\":\"11407\",\"type\":\"DaysTicker\"}],\"root_ids\":[\"11348\"]},\"title\":\"Bokeh Application\",\"version\":\"2.1.1\"}};\n",
       "  var render_items = [{\"docid\":\"b1eaab64-412b-4c01-a91a-016944bfc0dd\",\"root_ids\":[\"11348\"],\"roots\":{\"11348\":\"d427231c-e3be-4708-a6ed-7a45dd0736ff\"}}];\n",
       "  root.Bokeh.embed.embed_items_notebook(docs_json, render_items);\n",
       "  }\n",
       "if (root.Bokeh !== undefined) {\n",
       "    embed_document(root);\n",
       "  } else {\n",
       "    var attempts = 0;\n",
       "    var timer = setInterval(function(root) {\n",
       "      if (root.Bokeh !== undefined) {\n",
       "        clearInterval(timer);\n",
       "        embed_document(root);\n",
       "      } else if (document.readyState == \"complete\") {\n",
       "        attempts++;\n",
       "        if (attempts > 100) {\n",
       "          clearInterval(timer);\n",
       "          console.log(\"Bokeh: ERROR: Unable to run BokehJS code because BokehJS library is missing\");\n",
       "        }\n",
       "      }\n",
       "    }, 10, root)\n",
       "  }\n",
       "})(window);</script>"
      ],
      "text/plain": [
       ":NdOverlay   [Variable]\n",
       "   :Curve   [Date]   (value)"
      ]
     },
     "execution_count": 59,
     "metadata": {
      "application/vnd.holoviews_exec.v0+json": {
       "id": "11348"
      }
     },
     "output_type": "execute_result"
    }
   ],
   "source": [
    "#Plotting concatenated data\n",
    "vx = vax_data.hvplot(title = \"Stock Data for Pharma\",height = 500, width = 700)\n",
    "vx"
   ]
  },
  {
   "cell_type": "code",
   "execution_count": 60,
   "metadata": {},
   "outputs": [
    {
     "data": {
      "application/vnd.holoviews_exec.v0+json": "",
      "text/html": [
       "<div id='11885'>\n",
       "\n",
       "\n",
       "\n",
       "\n",
       "\n",
       "  <div class=\"bk-root\" id=\"b5177833-0763-4c3c-81c6-73d2fb9fb72b\" data-root-id=\"11885\"></div>\n",
       "</div>\n",
       "<script type=\"application/javascript\">(function(root) {\n",
       "  function embed_document(root) {\n",
       "  var docs_json = {\"bced8b82-8db2-441c-8428-7af4bd63275e\":{\"roots\":{\"references\":[{\"attributes\":{\"line_color\":\"#1f77b3\",\"line_width\":2,\"x\":{\"field\":\"Date\"},\"y\":{\"field\":\"Abbott Laboratories\"}},\"id\":\"12326\",\"type\":\"Line\"},{\"attributes\":{},\"id\":\"12396\",\"type\":\"SaveTool\"},{\"attributes\":{\"line_alpha\":0.1,\"line_color\":\"purple\",\"line_width\":2,\"x\":{\"field\":\"Date\"},\"y\":{\"field\":\"Pfizer\"}},\"id\":\"12585\",\"type\":\"Line\"},{\"attributes\":{},\"id\":\"12311\",\"type\":\"PanTool\"},{\"attributes\":{},\"id\":\"12016\",\"type\":\"UnionRenderers\"},{\"attributes\":{\"bottom_units\":\"screen\",\"fill_alpha\":0.5,\"fill_color\":\"lightgrey\",\"left_units\":\"screen\",\"level\":\"overlay\",\"line_alpha\":1.0,\"line_color\":\"black\",\"line_dash\":[4,4],\"line_width\":2,\"right_units\":\"screen\",\"top_units\":\"screen\"},\"id\":\"12573\",\"type\":\"BoxAnnotation\"},{\"attributes\":{},\"id\":\"12312\",\"type\":\"WheelZoomTool\"},{\"attributes\":{\"base\":60,\"mantissas\":[1,2,5,10,15,20,30],\"max_interval\":1800000.0,\"min_interval\":1000.0,\"num_minor_ticks\":0},\"id\":\"11940\",\"type\":\"AdaptiveTicker\"},{\"attributes\":{\"overlay\":{\"id\":\"12315\"}},\"id\":\"12313\",\"type\":\"BoxZoomTool\"},{\"attributes\":{\"months\":[0,2,4,6,8,10]},\"id\":\"12434\",\"type\":\"MonthsTicker\"},{\"attributes\":{},\"id\":\"12310\",\"type\":\"SaveTool\"},{\"attributes\":{\"line_color\":\"purple\",\"line_width\":2,\"x\":{\"field\":\"Date\"},\"y\":{\"field\":\"Pfizer\"}},\"id\":\"12584\",\"type\":\"Line\"},{\"attributes\":{\"months\":[0,6]},\"id\":\"11949\",\"type\":\"MonthsTicker\"},{\"attributes\":{\"days\":[1,15]},\"id\":\"12432\",\"type\":\"DaysTicker\"},{\"attributes\":{\"source\":{\"id\":\"12020\"}},\"id\":\"12027\",\"type\":\"CDSView\"},{\"attributes\":{\"months\":[0,2,4,6,8,10]},\"id\":\"11947\",\"type\":\"MonthsTicker\"},{\"attributes\":{\"axis_label\":\"Date\",\"bounds\":\"auto\",\"formatter\":{\"id\":\"12332\"},\"major_label_orientation\":\"horizontal\",\"ticker\":{\"id\":\"12303\"}},\"id\":\"12302\",\"type\":\"DatetimeAxis\"},{\"attributes\":{\"active_drag\":\"auto\",\"active_inspect\":\"auto\",\"active_multi\":null,\"active_scroll\":\"auto\",\"active_tap\":\"auto\",\"tools\":[{\"id\":\"12378\"},{\"id\":\"12396\"},{\"id\":\"12397\"},{\"id\":\"12398\"},{\"id\":\"12399\"},{\"id\":\"12400\"}]},\"id\":\"12402\",\"type\":\"Toolbar\"},{\"attributes\":{\"bottom_units\":\"screen\",\"fill_alpha\":0.5,\"fill_color\":\"lightgrey\",\"left_units\":\"screen\",\"level\":\"overlay\",\"line_alpha\":1.0,\"line_color\":\"black\",\"line_dash\":[4,4],\"line_width\":2,\"right_units\":\"screen\",\"top_units\":\"screen\"},\"id\":\"12401\",\"type\":\"BoxAnnotation\"},{\"attributes\":{},\"id\":\"12298\",\"type\":\"LinearScale\"},{\"attributes\":{\"data\":{\"Date\":{\"__ndarray__\":\"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\",\"dtype\":\"float64\",\"order\":\"little\",\"shape\":[222]},\"Variable\":[\"Pfizer\",\"Pfizer\",\"Pfizer\",\"Pfizer\",\"Pfizer\",\"Pfizer\",\"Pfizer\",\"Pfizer\",\"Pfizer\",\"Pfizer\",\"Pfizer\",\"Pfizer\",\"Pfizer\",\"Pfizer\",\"Pfizer\",\"Pfizer\",\"Pfizer\",\"Pfizer\",\"Pfizer\",\"Pfizer\",\"Pfizer\",\"Pfizer\",\"Pfizer\",\"Pfizer\",\"Pfizer\",\"Pfizer\",\"Pfizer\",\"Pfizer\",\"Pfizer\",\"Pfizer\",\"Pfizer\",\"Pfizer\",\"Pfizer\",\"Pfizer\",\"Pfizer\",\"Pfizer\",\"Pfizer\",\"Pfizer\",\"Pfizer\",\"Pfizer\",\"Pfizer\",\"Pfizer\",\"Pfizer\",\"Pfizer\",\"Pfizer\",\"Pfizer\",\"Pfizer\",\"Pfizer\",\"Pfizer\",\"Pfizer\",\"Pfizer\",\"Pfizer\",\"Pfizer\",\"Pfizer\",\"Pfizer\",\"Pfizer\",\"Pfizer\",\"Pfizer\",\"Pfizer\",\"Pfizer\",\"Pfizer\",\"Pfizer\",\"Pfizer\",\"Pfizer\",\"Pfizer\",\"Pfizer\",\"Pfizer\",\"Pfizer\",\"Pfizer\",\"Pfizer\",\"Pfizer\",\"Pfizer\",\"Pfizer\",\"Pfizer\",\"Pfizer\",\"Pfizer\",\"Pfizer\",\"Pfizer\",\"Pfizer\",\"Pfizer\",\"Pfizer\",\"Pfizer\",\"Pfizer\",\"Pfizer\",\"Pfizer\",\"Pfizer\",\"Pfizer\",\"Pfizer\",\"Pfizer\",\"Pfizer\",\"Pfizer\",\"Pfizer\",\"Pfizer\",\"Pfizer\",\"Pfizer\",\"Pfizer\",\"Pfizer\",\"Pfizer\",\"Pfizer\",\"Pfizer\",\"Pfizer\",\"Pfizer\",\"Pfizer\",\"Pfizer\",\"Pfizer\",\"Pfizer\",\"Pfizer\",\"Pfizer\",\"Pfizer\",\"Pfizer\",\"Pfizer\",\"Pfizer\",\"Pfizer\",\"Pfizer\",\"Pfizer\",\"Pfizer\",\"Pfizer\",\"Pfizer\",\"Pfizer\",\"Pfizer\",\"Pfizer\",\"Pfizer\",\"Pfizer\",\"Pfizer\",\"Pfizer\",\"Pfizer\",\"Pfizer\",\"Pfizer\",\"Pfizer\",\"Pfizer\",\"Pfizer\",\"Pfizer\",\"Pfizer\",\"Pfizer\",\"Pfizer\",\"Pfizer\",\"Pfizer\",\"Pfizer\",\"Pfizer\",\"Pfizer\",\"Pfizer\",\"Pfizer\",\"Pfizer\",\"Pfizer\",\"Pfizer\",\"Pfizer\",\"Pfizer\",\"Pfizer\",\"Pfizer\",\"Pfizer\",\"Pfizer\",\"Pfizer\",\"Pfizer\",\"Pfizer\",\"Pfizer\",\"Pfizer\",\"Pfizer\",\"Pfizer\",\"Pfizer\",\"Pfizer\",\"Pfizer\",\"Pfizer\",\"Pfizer\",\"Pfizer\",\"Pfizer\",\"Pfizer\",\"Pfizer\",\"Pfizer\",\"Pfizer\",\"Pfizer\",\"Pfizer\",\"Pfizer\",\"Pfizer\",\"Pfizer\",\"Pfizer\",\"Pfizer\",\"Pfizer\",\"Pfizer\",\"Pfizer\",\"Pfizer\",\"Pfizer\",\"Pfizer\",\"Pfizer\",\"Pfizer\",\"Pfizer\",\"Pfizer\",\"Pfizer\",\"Pfizer\",\"Pfizer\",\"Pfizer\",\"Pfizer\",\"Pfizer\",\"Pfizer\",\"Pfizer\",\"Pfizer\",\"Pfizer\",\"Pfizer\",\"Pfizer\",\"Pfizer\",\"Pfizer\",\"Pfizer\",\"Pfizer\",\"Pfizer\",\"Pfizer\",\"Pfizer\",\"Pfizer\",\"Pfizer\",\"Pfizer\",\"Pfizer\",\"Pfizer\",\"Pfizer\",\"Pfizer\",\"Pfizer\",\"Pfizer\",\"Pfizer\",\"Pfizer\",\"Pfizer\",\"Pfizer\",\"Pfizer\",\"Pfizer\",\"Pfizer\",\"Pfizer\"],\"value\":{\"__ndarray__\":\"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\",\"dtype\":\"float64\",\"order\":\"little\",\"shape\":[222]}},\"selected\":{\"id\":\"12021\"},\"selection_policy\":{\"id\":\"12051\"}},\"id\":\"12020\",\"type\":\"ColumnDataSource\"},{\"attributes\":{},\"id\":\"12352\",\"type\":\"UnionRenderers\"},{\"attributes\":{\"days\":[1,8,15,22]},\"id\":\"12431\",\"type\":\"DaysTicker\"},{\"attributes\":{\"num_minor_ticks\":5,\"tickers\":[{\"id\":\"12340\"},{\"id\":\"12341\"},{\"id\":\"12342\"},{\"id\":\"12343\"},{\"id\":\"12344\"},{\"id\":\"12345\"},{\"id\":\"12346\"},{\"id\":\"12347\"},{\"id\":\"12348\"},{\"id\":\"12349\"},{\"id\":\"12350\"},{\"id\":\"12351\"}]},\"id\":\"12303\",\"type\":\"DatetimeTicker\"},{\"attributes\":{},\"id\":\"12400\",\"type\":\"ResetTool\"},{\"attributes\":{},\"id\":\"12021\",\"type\":\"Selection\"},{\"attributes\":{\"callback\":null,\"formatters\":{\"@{Date}\":\"datetime\"},\"renderers\":[{\"id\":\"12587\"}],\"tags\":[\"hv_created\"],\"tooltips\":[[\"Date\",\"@{Date}{%F %T}\"],[\"Pfizer\",\"@{Pfizer}\"]]},\"id\":\"12550\",\"type\":\"HoverTool\"},{\"attributes\":{},\"id\":\"12582\",\"type\":\"Selection\"},{\"attributes\":{\"text\":\"Abbott Laboratories Stocks\",\"text_color\":{\"value\":\"black\"},\"text_font_size\":{\"value\":\"12pt\"}},\"id\":\"12294\",\"type\":\"Title\"},{\"attributes\":{\"line_alpha\":0.2,\"line_color\":\"#2ba02b\",\"line_width\":2,\"x\":{\"field\":\"Date\"},\"y\":{\"field\":\"value\"}},\"id\":\"11992\",\"type\":\"Line\"},{\"attributes\":{},\"id\":\"12307\",\"type\":\"BasicTicker\"},{\"attributes\":{},\"id\":\"11950\",\"type\":\"YearsTicker\"},{\"attributes\":{\"axis\":{\"id\":\"12306\"},\"dimension\":1,\"grid_line_color\":null,\"ticker\":null},\"id\":\"12309\",\"type\":\"Grid\"},{\"attributes\":{\"align\":null,\"below\":[{\"id\":\"12560\"}],\"center\":[{\"id\":\"12563\"},{\"id\":\"12567\"}],\"left\":[{\"id\":\"12564\"}],\"margin\":null,\"min_border_bottom\":10,\"min_border_left\":10,\"min_border_right\":10,\"min_border_top\":10,\"plot_height\":500,\"plot_width\":700,\"renderers\":[{\"id\":\"12587\"}],\"sizing_mode\":\"fixed\",\"title\":{\"id\":\"12552\"},\"toolbar\":{\"id\":\"12574\"},\"x_range\":{\"id\":\"11886\"},\"x_scale\":{\"id\":\"12556\"},\"y_range\":{\"id\":\"12549\"},\"y_scale\":{\"id\":\"12558\"}},\"id\":\"12551\",\"subtype\":\"Figure\",\"type\":\"Plot\"},{\"attributes\":{},\"id\":\"12386\",\"type\":\"LinearScale\"},{\"attributes\":{\"months\":[0,6]},\"id\":\"12350\",\"type\":\"MonthsTicker\"},{\"attributes\":{\"data_source\":{\"id\":\"12409\"},\"glyph\":{\"id\":\"12412\"},\"hover_glyph\":null,\"muted_glyph\":{\"id\":\"12414\"},\"nonselection_glyph\":{\"id\":\"12413\"},\"selection_glyph\":null,\"view\":{\"id\":\"12416\"}},\"id\":\"12415\",\"type\":\"GlyphRenderer\"},{\"attributes\":{},\"id\":\"12051\",\"type\":\"UnionRenderers\"},{\"attributes\":{\"text\":\"Stock Data for Pharma\",\"text_color\":{\"value\":\"black\"},\"text_font_size\":{\"value\":\"12pt\"}},\"id\":\"11893\",\"type\":\"Title\"},{\"attributes\":{\"line_color\":\"#d62628\",\"line_width\":2,\"x\":{\"field\":\"Date\"},\"y\":{\"field\":\"value\"}},\"id\":\"12023\",\"type\":\"Line\"},{\"attributes\":{\"source\":{\"id\":\"12409\"}},\"id\":\"12416\",\"type\":\"CDSView\"},{\"attributes\":{},\"id\":\"11951\",\"type\":\"UnionRenderers\"},{\"attributes\":{\"axis_label\":\"Pfizer\",\"bounds\":\"auto\",\"formatter\":{\"id\":\"12592\"},\"major_label_orientation\":\"horizontal\",\"ticker\":{\"id\":\"12565\"}},\"id\":\"12564\",\"type\":\"LinearAxis\"},{\"attributes\":{\"line_alpha\":0.1,\"line_color\":\"#2ba02b\",\"line_width\":2,\"x\":{\"field\":\"Date\"},\"y\":{\"field\":\"value\"}},\"id\":\"11991\",\"type\":\"Line\"},{\"attributes\":{\"child\":{\"id\":\"12293\"},\"name\":\"Abbott Laboratories\",\"title\":\"Abbott Laboratories\"},\"id\":\"12375\",\"type\":\"Panel\"},{\"attributes\":{\"axis_label\":\"Date\",\"bounds\":\"auto\",\"formatter\":{\"id\":\"12418\"},\"major_label_orientation\":\"horizontal\",\"ticker\":{\"id\":\"12389\"}},\"id\":\"12388\",\"type\":\"DatetimeAxis\"},{\"attributes\":{\"data\":{\"Date\":{\"__ndarray__\":\"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\",\"dtype\":\"float64\",\"order\":\"little\",\"shape\":[222]},\"Variable\":[\"Novavax\",\"Novavax\",\"Novavax\",\"Novavax\",\"Novavax\",\"Novavax\",\"Novavax\",\"Novavax\",\"Novavax\",\"Novavax\",\"Novavax\",\"Novavax\",\"Novavax\",\"Novavax\",\"Novavax\",\"Novavax\",\"Novavax\",\"Novavax\",\"Novavax\",\"Novavax\",\"Novavax\",\"Novavax\",\"Novavax\",\"Novavax\",\"Novavax\",\"Novavax\",\"Novavax\",\"Novavax\",\"Novavax\",\"Novavax\",\"Novavax\",\"Novavax\",\"Novavax\",\"Novavax\",\"Novavax\",\"Novavax\",\"Novavax\",\"Novavax\",\"Novavax\",\"Novavax\",\"Novavax\",\"Novavax\",\"Novavax\",\"Novavax\",\"Novavax\",\"Novavax\",\"Novavax\",\"Novavax\",\"Novavax\",\"Novavax\",\"Novavax\",\"Novavax\",\"Novavax\",\"Novavax\",\"Novavax\",\"Novavax\",\"Novavax\",\"Novavax\",\"Novavax\",\"Novavax\",\"Novavax\",\"Novavax\",\"Novavax\",\"Novavax\",\"Novavax\",\"Novavax\",\"Novavax\",\"Novavax\",\"Novavax\",\"Novavax\",\"Novavax\",\"Novavax\",\"Novavax\",\"Novavax\",\"Novavax\",\"Novavax\",\"Novavax\",\"Novavax\",\"Novavax\",\"Novavax\",\"Novavax\",\"Novavax\",\"Novavax\",\"Novavax\",\"Novavax\",\"Novavax\",\"Novavax\",\"Novavax\",\"Novavax\",\"Novavax\",\"Novavax\",\"Novavax\",\"Novavax\",\"Novavax\",\"Novavax\",\"Novavax\",\"Novavax\",\"Novavax\",\"Novavax\",\"Novavax\",\"Novavax\",\"Novavax\",\"Novavax\",\"Novavax\",\"Novavax\",\"Novavax\",\"Novavax\",\"Novavax\",\"Novavax\",\"Novavax\",\"Novavax\",\"Novavax\",\"Novavax\",\"Novavax\",\"Novavax\",\"Novavax\",\"Novavax\",\"Novavax\",\"Novavax\",\"Novavax\",\"Novavax\",\"Novavax\",\"Novavax\",\"Novavax\",\"Novavax\",\"Novavax\",\"Novavax\",\"Novavax\",\"Novavax\",\"Novavax\",\"Novavax\",\"Novavax\",\"Novavax\",\"Novavax\",\"Novavax\",\"Novavax\",\"Novavax\",\"Novavax\",\"Novavax\",\"Novavax\",\"Novavax\",\"Novavax\",\"Novavax\",\"Novavax\",\"Novavax\",\"Novavax\",\"Novavax\",\"Novavax\",\"Novavax\",\"Novavax\",\"Novavax\",\"Novavax\",\"Novavax\",\"Novavax\",\"Novavax\",\"Novavax\",\"Novavax\",\"Novavax\",\"Novavax\",\"Novavax\",\"Novavax\",\"Novavax\",\"Novavax\",\"Novavax\",\"Novavax\",\"Novavax\",\"Novavax\",\"Novavax\",\"Novavax\",\"Novavax\",\"Novavax\",\"Novavax\",\"Novavax\",\"Novavax\",\"Novavax\",\"Novavax\",\"Novavax\",\"Novavax\",\"Novavax\",\"Novavax\",\"Novavax\",\"Novavax\",\"Novavax\",\"Novavax\",\"Novavax\",\"Novavax\",\"Novavax\",\"Novavax\",\"Novavax\",\"Novavax\",\"Novavax\",\"Novavax\",\"Novavax\",\"Novavax\",\"Novavax\",\"Novavax\",\"Novavax\",\"Novavax\",\"Novavax\",\"Novavax\",\"Novavax\",\"Novavax\",\"Novavax\",\"Novavax\",\"Novavax\",\"Novavax\",\"Novavax\",\"Novavax\",\"Novavax\",\"Novavax\",\"Novavax\",\"Novavax\",\"Novavax\",\"Novavax\",\"Novavax\",\"Novavax\",\"Novavax\",\"Novavax\",\"Novavax\",\"Novavax\",\"Novavax\",\"Novavax\"],\"value\":{\"__ndarray__\":\"9ihcj8L1EUDD9Shcj8IRQFK4HoXrURJASOF6FK5HEkAfhetRuB4RQArXo3A9ChBAcT0K16NwD0CamZmZmZkPQOxRuB6F6w9AhetRuB6FEUAfhetRuB4TQPYoXI/C9RZApHA9CtejI0Bcj8L1KFwcQKRwPQrXox5AMzMzMzMzH0AAAAAAAAAhQK5H4XoUrhxAXI/C9ShcG0AAAAAAAAAcQHsUrkfheh5APQrXo3A9G0AK16NwPQocQOF6FK5H4RtAXI/C9ShcG0A9CtejcD0ZQBSuR+F6FBxA16NwPQrXHEA9CtejcD0dQClcj8L1KB9AuB6F61G4HkD2KFyPwvUfQM3MzMzMzB9Aw/UoXI/CH0DhehSuR+EeQFK4HoXrUSBAzczMzMzMH0BxPQrXo3AiQJqZmZmZmSdAAAAAAAAAMEAK16NwPQooQI/C9ShcjyVApHA9CtejJkA9CtejcL0pQPYoXI/C9ShACtejcD0KJEDNzMzMzEwlQIXrUbgeBSVAFK5H4XqUIkBSuB6F69EgQKRwPQrXoxtAAAAAAAAAI0DNzMzMzEwlQClcj8L1KCdAMzMzMzOzJECF61G4HoUlQArXo3A9iilAAAAAAACAJ0B7FK5H4XopQJqZmZmZGSpAmpmZmZmZLEApXI/C9SgrQI/C9ShcDyxAuB6F61G4K0C4HoXrUTgvQJqZmZmZGTBAzczMzMzMLUCuR+F6FC4xQM3MzMzMDDFApHA9CtejMUAAAAAAAAAyQEjhehSuhzFAmpmZmZkZMkAUrkfhehQzQM3MzMzMzDdASOF6FK6HNUAfhetRuF41QOF6FK5HYTRAFK5H4XrUM0DD9ShcjwI1QM3MzMzMjDRAKVyPwvVoMkDhehSuRyEyQBSuR+F6VDFAj8L1KFwPMkBI4XoUrscxQKRwPQrXIzFAZmZmZmYmMkB7FK5H4boyQAAAAAAAgDhAKVyPwvXoQ0D2KFyPwlVEQGZmZmZmJkNAcT0K16PQRUB7FK5H4XpMQDMzMzMz80pASOF6FK5nSkApXI/C9QhJQK5H4XoUDkdA9ihcj8IVSEBcj8L1KLxGQOxRuB6Fa0ZAhetRuB4FR0ApXI/C9WhKQFK4HoXr0UhAAAAAAAAgRkAUrkfhelRGQGZmZmZmJkdAhetRuB5lRkDXo3A9CvdGQHsUrkfhekZA16NwPQo3RkApXI/C9chGQClcj8L1iElAMzMzMzMTSkAUrkfherRLQMP1KFyPok1AAAAAAAAwUEDNzMzMzHxQQArXo3A9alFAAAAAAABgU0DD9Shcj+JUQClcj8L1WFNA16NwPQrnVEBmZmZmZtZUQM3MzMzM7FNAKVyPwvVoVEBcj8L1KNxTQKRwPQrXI1pAMzMzMzOTWEAzMzMzMxNYQNejcD0Kl1dAFK5H4XoUWkCuR+F6FH5bQJqZmZmZyVtAw/UoXI8SXkBI4XoUro9hQI/C9ShcR2FArkfhehSWYUBmZmZmZk5iQHsUrkfhcmFA9ihcj8K9YEAzMzMzM3NhQDMzMzMzk2JA7FG4HoUrYkCkcD0K11NiQDMzMzMz42FApHA9Ctd7Y0A9CtejcKVjQEjhehSur2VAAAAAAADwZEDhehSuR0llQLgehetRUGZAj8L1KFyvYkB7FK5H4RpfQClcj8L1qGBAuB6F61FQYkApXI/C9XBjQI/C9ShcR2JAUrgehethYkBcj8L1KORhQKRwPQrXM2FAcT0K16PQXUDXo3A9CkdcQEjhehSup1xAZmZmZmbWWkCPwvUoXO9aQPYoXI/ClVtAhetRuB5FWkCamZmZmblZQB+F61G4vllA7FG4HoU7V0CkcD0K11NVQPYoXI/CtVZA16NwPQo3V0DNzMzMzNxXQDMzMzMzc1pA9ihcj8KVW0C4HoXrUQheQHE9Ctej4FxA16NwPQoXW0CamZmZmYlbQLgehetR6FtAFK5H4XpkWUBcj8L1KJxZQKRwPQrXY1xA7FG4HoXLW0DNzMzMzPxaQGZmZmZmFltAmpmZmZk5WkBmZmZmZuZZQHsUrkfhiltACtejcD3aWkAAAAAAAIBbQOF6FK5HwVtArkfhehTOW0CuR+F6FI5bQFK4HoXrUV1AcT0K16PwW0B7FK5H4dpbQMP1KFyPwlpAMzMzMzODWUDXo3A9CpdYQArXo3A9ylZA9ihcj8JlV0C4HoXrUUhXQLgehetR2FVA9ihcj8JlVkCF61G4HlVUQLgehetR6FVAPQrXo3AtVECamZmZmZlUQClcj8L16FRA4XoUrkfRVUDXo3A9CkdXQNejcD0Kd1ZApHA9CteTVkCPwvUoXK9TQHE9CtejQFVASOF6FK63VkBmZmZmZiZYQJqZmZmZqVZA\",\"dtype\":\"float64\",\"order\":\"little\",\"shape\":[222]}},\"selected\":{\"id\":\"11988\"},\"selection_policy\":{\"id\":\"12016\"}},\"id\":\"11987\",\"type\":\"ColumnDataSource\"},{\"attributes\":{},\"id\":\"12420\",\"type\":\"BasicTickFormatter\"},{\"attributes\":{\"text\":\"Pfizer Stock Data\",\"text_color\":{\"value\":\"black\"},\"text_font_size\":{\"value\":\"12pt\"}},\"id\":\"12552\",\"type\":\"Title\"},{\"attributes\":{\"source\":{\"id\":\"11987\"}},\"id\":\"11994\",\"type\":\"CDSView\"},{\"attributes\":{\"axis\":{\"id\":\"12302\"},\"grid_line_color\":null,\"ticker\":null},\"id\":\"12305\",\"type\":\"Grid\"},{\"attributes\":{},\"id\":\"12351\",\"type\":\"YearsTicker\"},{\"attributes\":{\"label\":{\"value\":\"Novavax\"},\"renderers\":[{\"id\":\"11993\"}]},\"id\":\"12019\",\"type\":\"LegendItem\"},{\"attributes\":{},\"id\":\"12418\",\"type\":\"DatetimeTickFormatter\"},{\"attributes\":{\"axis_label\":\"Abbott Laboratories\",\"bounds\":\"auto\",\"formatter\":{\"id\":\"12334\"},\"major_label_orientation\":\"horizontal\",\"ticker\":{\"id\":\"12307\"}},\"id\":\"12306\",\"type\":\"LinearAxis\"},{\"attributes\":{\"line_alpha\":0.1,\"line_color\":\"#d62628\",\"line_width\":2,\"x\":{\"field\":\"Date\"},\"y\":{\"field\":\"value\"}},\"id\":\"12024\",\"type\":\"Line\"},{\"attributes\":{},\"id\":\"11988\",\"type\":\"Selection\"},{\"attributes\":{\"axis\":{\"id\":\"12564\"},\"dimension\":1,\"grid_line_color\":null,\"ticker\":null},\"id\":\"12567\",\"type\":\"Grid\"},{\"attributes\":{\"source\":{\"id\":\"11926\"}},\"id\":\"11933\",\"type\":\"CDSView\"},{\"attributes\":{},\"id\":\"12397\",\"type\":\"PanTool\"},{\"attributes\":{\"base\":24,\"mantissas\":[1,2,4,6,8,12],\"max_interval\":43200000.0,\"min_interval\":3600000.0,\"num_minor_ticks\":0},\"id\":\"12428\",\"type\":\"AdaptiveTicker\"},{\"attributes\":{},\"id\":\"12410\",\"type\":\"Selection\"},{\"attributes\":{\"end\":119.58,\"reset_end\":119.58,\"reset_start\":57.66,\"start\":57.66,\"tags\":[[[\"Abbott Laboratories\",\"Abbott Laboratories\",null]]]},\"id\":\"12291\",\"type\":\"Range1d\"},{\"attributes\":{},\"id\":\"12572\",\"type\":\"ResetTool\"},{\"attributes\":{\"days\":[1,2,3,4,5,6,7,8,9,10,11,12,13,14,15,16,17,18,19,20,21,22,23,24,25,26,27,28,29,30,31]},\"id\":\"12429\",\"type\":\"DaysTicker\"},{\"attributes\":{},\"id\":\"12398\",\"type\":\"WheelZoomTool\"},{\"attributes\":{\"text\":\"Moderna Stock Data\",\"text_color\":{\"value\":\"black\"},\"text_font_size\":{\"value\":\"12pt\"}},\"id\":\"12380\",\"type\":\"Title\"},{\"attributes\":{\"mantissas\":[1,2,5],\"max_interval\":500.0,\"num_minor_ticks\":0},\"id\":\"12426\",\"type\":\"AdaptiveTicker\"},{\"attributes\":{\"data_source\":{\"id\":\"11987\"},\"glyph\":{\"id\":\"11990\"},\"hover_glyph\":null,\"muted_glyph\":{\"id\":\"11992\"},\"nonselection_glyph\":{\"id\":\"11991\"},\"selection_glyph\":null,\"view\":{\"id\":\"11994\"}},\"id\":\"11993\",\"type\":\"GlyphRenderer\"},{\"attributes\":{\"axis\":{\"id\":\"12560\"},\"grid_line_color\":null,\"ticker\":null},\"id\":\"12563\",\"type\":\"Grid\"},{\"attributes\":{\"days\":[1,4,7,10,13,16,19,22,25,28]},\"id\":\"12430\",\"type\":\"DaysTicker\"},{\"attributes\":{\"align\":null,\"below\":[{\"id\":\"11901\"}],\"center\":[{\"id\":\"11904\"},{\"id\":\"11908\"}],\"left\":[{\"id\":\"11905\"}],\"margin\":null,\"min_border_bottom\":10,\"min_border_left\":10,\"min_border_right\":10,\"min_border_top\":10,\"plot_height\":500,\"plot_width\":700,\"renderers\":[{\"id\":\"11932\"},{\"id\":\"11962\"},{\"id\":\"11993\"},{\"id\":\"12026\"}],\"right\":[{\"id\":\"11954\"}],\"sizing_mode\":\"fixed\",\"title\":{\"id\":\"11893\"},\"toolbar\":{\"id\":\"11915\"},\"x_range\":{\"id\":\"11886\"},\"x_scale\":{\"id\":\"11897\"},\"y_range\":{\"id\":\"11887\"},\"y_scale\":{\"id\":\"11899\"}},\"id\":\"11892\",\"subtype\":\"Figure\",\"type\":\"Plot\"},{\"attributes\":{},\"id\":\"12300\",\"type\":\"LinearScale\"},{\"attributes\":{},\"id\":\"12558\",\"type\":\"LinearScale\"},{\"attributes\":{\"months\":[0,4,8]},\"id\":\"12435\",\"type\":\"MonthsTicker\"},{\"attributes\":{},\"id\":\"12556\",\"type\":\"LinearScale\"},{\"attributes\":{\"axis_label\":\"Date\",\"bounds\":\"auto\",\"formatter\":{\"id\":\"12590\"},\"major_label_orientation\":\"horizontal\",\"ticker\":{\"id\":\"12561\"}},\"id\":\"12560\",\"type\":\"DatetimeAxis\"},{\"attributes\":{\"mantissas\":[1,2,5],\"max_interval\":500.0,\"num_minor_ticks\":0},\"id\":\"11939\",\"type\":\"AdaptiveTicker\"},{\"attributes\":{\"line_color\":\"#2ba02b\",\"line_width\":2,\"x\":{\"field\":\"Date\"},\"y\":{\"field\":\"value\"}},\"id\":\"11990\",\"type\":\"Line\"},{\"attributes\":{\"mantissas\":[1,2,5],\"max_interval\":500.0,\"num_minor_ticks\":0},\"id\":\"12512\",\"type\":\"AdaptiveTicker\"},{\"attributes\":{\"label\":{\"value\":\"Pfizer\"},\"renderers\":[{\"id\":\"12026\"}]},\"id\":\"12054\",\"type\":\"LegendItem\"},{\"attributes\":{\"label\":{\"value\":\"Abbott Laboratories\"},\"renderers\":[{\"id\":\"11932\"}]},\"id\":\"11955\",\"type\":\"LegendItem\"},{\"attributes\":{\"base\":60,\"mantissas\":[1,2,5,10,15,20,30],\"max_interval\":1800000.0,\"min_interval\":1000.0,\"num_minor_ticks\":0},\"id\":\"12427\",\"type\":\"AdaptiveTicker\"},{\"attributes\":{\"months\":[0,1,2,3,4,5,6,7,8,9,10,11]},\"id\":\"11946\",\"type\":\"MonthsTicker\"},{\"attributes\":{\"months\":[0,1,2,3,4,5,6,7,8,9,10,11]},\"id\":\"12433\",\"type\":\"MonthsTicker\"},{\"attributes\":{\"data_source\":{\"id\":\"12020\"},\"glyph\":{\"id\":\"12023\"},\"hover_glyph\":null,\"muted_glyph\":{\"id\":\"12025\"},\"nonselection_glyph\":{\"id\":\"12024\"},\"selection_glyph\":null,\"view\":{\"id\":\"12027\"}},\"id\":\"12026\",\"type\":\"GlyphRenderer\"},{\"attributes\":{},\"id\":\"12569\",\"type\":\"PanTool\"},{\"attributes\":{\"callback\":null,\"formatters\":{\"@{Date}\":\"datetime\"},\"renderers\":[{\"id\":\"12329\"}],\"tags\":[\"hv_created\"],\"tooltips\":[[\"Date\",\"@{Date}{%F %T}\"],[\"Abbott Laboratories\",\"@{Abbott_Laboratories}\"]]},\"id\":\"12292\",\"type\":\"HoverTool\"},{\"attributes\":{},\"id\":\"12570\",\"type\":\"WheelZoomTool\"},{\"attributes\":{\"months\":[0,4,8]},\"id\":\"11948\",\"type\":\"MonthsTicker\"},{\"attributes\":{\"days\":[1,4,7,10,13,16,19,22,25,28]},\"id\":\"11943\",\"type\":\"DaysTicker\"},{\"attributes\":{\"num_minor_ticks\":5,\"tickers\":[{\"id\":\"12426\"},{\"id\":\"12427\"},{\"id\":\"12428\"},{\"id\":\"12429\"},{\"id\":\"12430\"},{\"id\":\"12431\"},{\"id\":\"12432\"},{\"id\":\"12433\"},{\"id\":\"12434\"},{\"id\":\"12435\"},{\"id\":\"12436\"},{\"id\":\"12437\"}]},\"id\":\"12389\",\"type\":\"DatetimeTicker\"},{\"attributes\":{\"days\":[1,15]},\"id\":\"11945\",\"type\":\"DaysTicker\"},{\"attributes\":{\"data\":{\"Abbott Laboratories\":{\"__ndarray__\":\"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\",\"dtype\":\"float64\",\"order\":\"little\",\"shape\":[222]},\"Abbott_Laboratories\":{\"__ndarray__\":\"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\",\"dtype\":\"float64\",\"order\":\"little\",\"shape\":[222]},\"Date\":{\"__ndarray__\":\"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\",\"dtype\":\"float64\",\"order\":\"little\",\"shape\":[222]}},\"selected\":{\"id\":\"12324\"},\"selection_policy\":{\"id\":\"12352\"}},\"id\":\"12323\",\"type\":\"ColumnDataSource\"},{\"attributes\":{\"overlay\":{\"id\":\"12573\"}},\"id\":\"12571\",\"type\":\"BoxZoomTool\"},{\"attributes\":{\"click_policy\":\"mute\",\"items\":[{\"id\":\"11955\"},{\"id\":\"11986\"},{\"id\":\"12019\"},{\"id\":\"12054\"}],\"location\":[0,0],\"title\":\"Variable\"},\"id\":\"11954\",\"type\":\"Legend\"},{\"attributes\":{},\"id\":\"12470\",\"type\":\"LinearScale\"},{\"attributes\":{\"active_drag\":\"auto\",\"active_inspect\":\"auto\",\"active_multi\":null,\"active_scroll\":\"auto\",\"active_tap\":\"auto\",\"tools\":[{\"id\":\"12550\"},{\"id\":\"12568\"},{\"id\":\"12569\"},{\"id\":\"12570\"},{\"id\":\"12571\"},{\"id\":\"12572\"}]},\"id\":\"12574\",\"type\":\"Toolbar\"},{\"attributes\":{\"days\":[1,8,15,22]},\"id\":\"11944\",\"type\":\"DaysTicker\"},{\"attributes\":{\"overlay\":{\"id\":\"12401\"}},\"id\":\"12399\",\"type\":\"BoxZoomTool\"},{\"attributes\":{},\"id\":\"12568\",\"type\":\"SaveTool\"},{\"attributes\":{\"client_comm_id\":\"22bd7ee837d84ebebf170a7f228c9567\",\"comm_id\":\"eb88cff2dbd34b24a0e1d2ba416f1fed\",\"plot_id\":\"11885\"},\"id\":\"12952\",\"type\":\"panel.models.comm_manager.CommManager\"},{\"attributes\":{\"margin\":[0,0,0,0],\"tabs\":[{\"id\":\"12289\"},{\"id\":\"12375\"},{\"id\":\"12461\"},{\"id\":\"12547\"},{\"id\":\"12633\"}]},\"id\":\"11885\",\"type\":\"Tabs\"},{\"attributes\":{\"days\":[1,2,3,4,5,6,7,8,9,10,11,12,13,14,15,16,17,18,19,20,21,22,23,24,25,26,27,28,29,30,31]},\"id\":\"11942\",\"type\":\"DaysTicker\"},{\"attributes\":{\"align\":null,\"below\":[{\"id\":\"12302\"}],\"center\":[{\"id\":\"12305\"},{\"id\":\"12309\"}],\"left\":[{\"id\":\"12306\"}],\"margin\":null,\"min_border_bottom\":10,\"min_border_left\":10,\"min_border_right\":10,\"min_border_top\":10,\"plot_height\":500,\"plot_width\":700,\"renderers\":[{\"id\":\"12329\"}],\"sizing_mode\":\"fixed\",\"title\":{\"id\":\"12294\"},\"toolbar\":{\"id\":\"12316\"},\"x_range\":{\"id\":\"11886\"},\"x_scale\":{\"id\":\"12298\"},\"y_range\":{\"id\":\"12291\"},\"y_scale\":{\"id\":\"12300\"}},\"id\":\"12293\",\"subtype\":\"Figure\",\"type\":\"Plot\"},{\"attributes\":{\"data\":{\"Date\":{\"__ndarray__\":\"AABA1Dj2dkIAAAA6i/Z2QgAAQGuC93ZCAAAA0dT3dkIAAMA2J/h2QgAAgJx5+HZCAABAAsz4dkIAAIAzw/l2QgAAQJkV+nZCAAAA/2f6dkIAAMBkuvp2QgAAgMoM+3ZCAACAYVb8dkIAAEDHqPx2QgAAAC37/HZCAADAkk39dkIAAADERP52QgAAwCmX/nZCAACAj+n+dkIAAED1O/92QgAAAFuO/3ZCAABAjIUAd0IAAADy1wB3QgAAwFcqAXdCAACAvXwBd0IAAEAjzwF3QgAAgFTGAndCAABAuhgDd0IAAAAgawN3QgAAwIW9A3dCAACA6w8Ed0IAAICCWQV3QgAAQOirBXdCAAAATv4Fd0IAAMCzUAZ3QgAAAOVHB3dCAADASpoHd0IAAICw7Ad3QgAAQBY/CHdCAAAAfJEId0IAAECtiAl3QgAAABPbCXdCAADAeC0Kd0IAAIDefwp3QgAAQETSCndCAACAdckLd0IAAEDbGwx3QgAAAEFuDHdCAADApsAMd0IAAIAMEw13QgAAwD0KDndCAACAo1wOd0IAAEAJrw53QgAAAG8BD3dCAADA1FMPd0IAAAAGSxB3QgAAwGudEHdCAACA0e8Qd0IAAEA3QhF3QgAAAJ2UEXdCAABAzosSd0IAAAA03hJ3QgAAwJkwE3dCAACA/4ITd0IAAEBl1RN3QgAAgJbMFHdCAABA/B4Vd0IAAABicRV3QgAAwMfDFXdCAADAXg0Xd0IAAIDEXxd3QgAAQCqyF3dCAAAAkAQYd0IAAMD1Vhh3QgAAACdOGXdCAADAjKAZd0IAAIDy8hl3QgAAQFhFGndCAAAAvpcad0IAAEDvjht3QgAAAFXhG3dCAADAujMcd0IAAIAghhx3QgAAQIbYHHdCAACAt88dd0IAAEAdIh53QgAAAIN0HndCAADA6MYed0IAAIBOGR93QgAAwH8QIHdCAACA5WIgd0IAAEBLtSB3QgAAALEHIXdCAADAFlohd0IAAABIUSJ3QgAAwK2jIndCAACAE/Yid0IAAEB5SCN3QgAAAN+aI3dCAAAAduQkd0IAAMDbNiV3QgAAgEGJJXdCAABAp9sld0IAAIDY0iZ3QgAAQD4lJ3dCAAAApHcnd0IAAMAJyid3QgAAgG8cKHdCAADAoBMpd0IAAIAGZil3QgAAQGy4KXdCAAAA0goqd0IAAMA3XSp3QgAAAGlUK3dCAADAzqYrd0IAAIA0+St3QgAAQJpLLHdCAAAAAJ4sd0IAAEAxlS13QgAAAJfnLXdCAADA/Dkud0IAAIBijC53QgAAQMjeLndCAACA+dUvd0IAAEBfKDB3QgAAAMV6MHdCAADAKs0wd0IAAMDBFjJ3QgAAgCdpMndCAABAjbsyd0IAAADzDTN3QgAAwFhgM3dCAAAAilc0d0IAAMDvqTR3QgAAgFX8NHdCAABAu041d0IAAAAhoTV3QgAAQFKYNndCAAAAuOo2d0IAAMAdPTd3QgAAgIOPN3dCAABA6eE3d0IAAIAa2Th3QgAAQIArOXdCAAAA5n05d0IAAMBL0Dl3QgAAgLEiOndCAADA4hk7d0IAAIBIbDt3QgAAQK6+O3dCAAAAFBE8d0IAAMB5Yzx3QgAAAKtaPXdCAADAEK09d0IAAIB2/z13QgAAQNxRPndCAAAAQqQ+d0IAAEBzmz93QgAAANntP3dCAADAPkBAd0IAAICkkkB3QgAAQArlQHdCAACAO9xBd0IAAEChLkJ3QgAAAAeBQndCAADAbNNCd0IAAIDSJUN3QgAAwAMdRHdCAACAaW9Ed0IAAEDPwUR3QgAAADUURXdCAADAmmZFd0IAAMAxsEZ3QgAAgJcCR3dCAABA/VRHd0IAAABjp0d3QgAAQJSeSHdCAAAA+vBId0IAAMBfQ0l3QgAAgMWVSXdCAABAK+hJd0IAAIBc30p3QgAAQMIxS3dCAAAAKIRLd0IAAMCN1kt3QgAAgPMoTHdCAADAJCBNd0IAAICKck13QgAAQPDETXdCAAAAVhdOd0IAAMC7aU53QgAAAO1gT3dCAADAUrNPd0IAAIC4BVB3QgAAQB5YUHdCAAAAhKpQd0IAAEC1oVF3QgAAABv0UXdCAADAgEZSd0IAAIDmmFJ3QgAAQEzrUndCAACAfeJTd0IAAEDjNFR3QgAAAEmHVHdCAADArtlUd0IAAIAULFV3QgAAwEUjVndCAACAq3VWd0IAAEARyFZ3QgAAAHcaV3dCAADA3GxXd0IAAAAOZFh3QgAAwHO2WHdCAACA2QhZd0IAAEA/W1l3QgAAAKWtWXdCAABA1qRad0IAAAA891p3QgAAwKFJW3dCAACAB5xbd0IAAEBt7lt3QgAAgJ7lXHdC\",\"dtype\":\"float64\",\"order\":\"little\",\"shape\":[222]},\"Pfizer\":{\"__ndarray__\":\"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\",\"dtype\":\"float64\",\"order\":\"little\",\"shape\":[222]}},\"selected\":{\"id\":\"12582\"},\"selection_policy\":{\"id\":\"12610\"}},\"id\":\"12581\",\"type\":\"ColumnDataSource\"},{\"attributes\":{\"end\":41.909425,\"reset_end\":41.909425,\"reset_start\":27.250405,\"start\":27.250405,\"tags\":[[[\"Pfizer\",\"Pfizer\",null]]]},\"id\":\"12549\",\"type\":\"Range1d\"},{\"attributes\":{\"line_alpha\":0.2,\"line_color\":\"#d62628\",\"line_width\":2,\"x\":{\"field\":\"Date\"},\"y\":{\"field\":\"value\"}},\"id\":\"12025\",\"type\":\"Line\"},{\"attributes\":{},\"id\":\"12565\",\"type\":\"BasicTicker\"},{\"attributes\":{\"mantissas\":[1,2,5],\"max_interval\":500.0,\"num_minor_ticks\":0},\"id\":\"12340\",\"type\":\"AdaptiveTicker\"},{\"attributes\":{\"num_minor_ticks\":5,\"tickers\":[{\"id\":\"12598\"},{\"id\":\"12599\"},{\"id\":\"12600\"},{\"id\":\"12601\"},{\"id\":\"12602\"},{\"id\":\"12603\"},{\"id\":\"12604\"},{\"id\":\"12605\"},{\"id\":\"12606\"},{\"id\":\"12607\"},{\"id\":\"12608\"},{\"id\":\"12609\"}]},\"id\":\"12561\",\"type\":\"DatetimeTicker\"},{\"attributes\":{\"base\":24,\"mantissas\":[1,2,4,6,8,12],\"max_interval\":43200000.0,\"min_interval\":3600000.0,\"num_minor_ticks\":0},\"id\":\"11941\",\"type\":\"AdaptiveTicker\"},{\"attributes\":{},\"id\":\"12324\",\"type\":\"Selection\"},{\"attributes\":{\"data_source\":{\"id\":\"12323\"},\"glyph\":{\"id\":\"12326\"},\"hover_glyph\":null,\"muted_glyph\":{\"id\":\"12328\"},\"nonselection_glyph\":{\"id\":\"12327\"},\"selection_glyph\":null,\"view\":{\"id\":\"12330\"}},\"id\":\"12329\",\"type\":\"GlyphRenderer\"},{\"attributes\":{\"source\":{\"id\":\"11956\"}},\"id\":\"11963\",\"type\":\"CDSView\"},{\"attributes\":{\"days\":[1,15]},\"id\":\"12346\",\"type\":\"DaysTicker\"},{\"attributes\":{\"days\":[1,8,15,22]},\"id\":\"12345\",\"type\":\"DaysTicker\"},{\"attributes\":{\"bottom_units\":\"screen\",\"fill_alpha\":0.5,\"fill_color\":\"lightgrey\",\"left_units\":\"screen\",\"level\":\"overlay\",\"line_alpha\":1.0,\"line_color\":\"black\",\"line_dash\":[4,4],\"line_width\":2,\"right_units\":\"screen\",\"top_units\":\"screen\"},\"id\":\"12487\",\"type\":\"BoxAnnotation\"},{\"attributes\":{\"base\":60,\"mantissas\":[1,2,5,10,15,20,30],\"max_interval\":1800000.0,\"min_interval\":1000.0,\"num_minor_ticks\":0},\"id\":\"12599\",\"type\":\"AdaptiveTicker\"},{\"attributes\":{\"text\":\"Novavax Stock Data\",\"text_color\":{\"value\":\"black\"},\"text_font_size\":{\"value\":\"12pt\"}},\"id\":\"12466\",\"type\":\"Title\"},{\"attributes\":{\"line_alpha\":0.2,\"line_color\":\"#1f77b3\",\"line_width\":2,\"x\":{\"field\":\"Date\"},\"y\":{\"field\":\"Abbott Laboratories\"}},\"id\":\"12328\",\"type\":\"Line\"},{\"attributes\":{\"axis\":{\"id\":\"11905\"},\"dimension\":1,\"grid_line_color\":null,\"ticker\":null},\"id\":\"11908\",\"type\":\"Grid\"},{\"attributes\":{\"end\":105.967,\"reset_end\":105.967,\"reset_start\":9.763,\"start\":9.763,\"tags\":[[[\"Moderna\",\"Moderna\",null]]]},\"id\":\"12377\",\"type\":\"Range1d\"},{\"attributes\":{},\"id\":\"12438\",\"type\":\"UnionRenderers\"},{\"attributes\":{\"child\":{\"id\":\"12551\"},\"name\":\"Pfizer\",\"title\":\"Pfizer\"},\"id\":\"12633\",\"type\":\"Panel\"},{\"attributes\":{},\"id\":\"12332\",\"type\":\"DatetimeTickFormatter\"},{\"attributes\":{},\"id\":\"12523\",\"type\":\"YearsTicker\"},{\"attributes\":{\"line_alpha\":0.2,\"line_color\":\"orange\",\"line_width\":2,\"x\":{\"field\":\"Date\"},\"y\":{\"field\":\"Moderna\"}},\"id\":\"12414\",\"type\":\"Line\"},{\"attributes\":{\"data\":{\"Date\":{\"__ndarray__\":\"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\",\"dtype\":\"float64\",\"order\":\"little\",\"shape\":[222]},\"Moderna\":{\"__ndarray__\":\"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\",\"dtype\":\"float64\",\"order\":\"little\",\"shape\":[222]}},\"selected\":{\"id\":\"12410\"},\"selection_policy\":{\"id\":\"12438\"}},\"id\":\"12409\",\"type\":\"ColumnDataSource\"},{\"attributes\":{},\"id\":\"11925\",\"type\":\"BasicTickFormatter\"},{\"attributes\":{},\"id\":\"11910\",\"type\":\"PanTool\"},{\"attributes\":{\"callback\":null,\"formatters\":{\"@{Date}\":\"datetime\"},\"renderers\":[{\"id\":\"12415\"}],\"tags\":[\"hv_created\"],\"tooltips\":[[\"Date\",\"@{Date}{%F %T}\"],[\"Moderna\",\"@{Moderna}\"]]},\"id\":\"12378\",\"type\":\"HoverTool\"},{\"attributes\":{\"data_source\":{\"id\":\"12495\"},\"glyph\":{\"id\":\"12498\"},\"hover_glyph\":null,\"muted_glyph\":{\"id\":\"12500\"},\"nonselection_glyph\":{\"id\":\"12499\"},\"selection_glyph\":null,\"view\":{\"id\":\"12502\"}},\"id\":\"12501\",\"type\":\"GlyphRenderer\"},{\"attributes\":{},\"id\":\"12393\",\"type\":\"BasicTicker\"},{\"attributes\":{\"axis_label\":\"\",\"bounds\":\"auto\",\"formatter\":{\"id\":\"11925\"},\"major_label_orientation\":\"horizontal\",\"ticker\":{\"id\":\"11906\"}},\"id\":\"11905\",\"type\":\"LinearAxis\"},{\"attributes\":{\"line_alpha\":0.1,\"line_color\":\"#ff7e0e\",\"line_width\":2,\"x\":{\"field\":\"Date\"},\"y\":{\"field\":\"value\"}},\"id\":\"11960\",\"type\":\"Line\"},{\"attributes\":{\"callback\":null,\"formatters\":{\"@{Date}\":\"datetime\"},\"renderers\":[{\"id\":\"11932\"},{\"id\":\"11962\"},{\"id\":\"11993\"},{\"id\":\"12026\"}],\"tags\":[\"hv_created\"],\"tooltips\":[[\"Variable\",\"@{Variable}\"],[\"Date\",\"@{Date}{%F %T}\"],[\"value\",\"@{value}\"]]},\"id\":\"11888\",\"type\":\"HoverTool\"},{\"attributes\":{\"days\":[1,2,3,4,5,6,7,8,9,10,11,12,13,14,15,16,17,18,19,20,21,22,23,24,25,26,27,28,29,30,31]},\"id\":\"12515\",\"type\":\"DaysTicker\"},{\"attributes\":{\"days\":[1,2,3,4,5,6,7,8,9,10,11,12,13,14,15,16,17,18,19,20,21,22,23,24,25,26,27,28,29,30,31]},\"id\":\"12601\",\"type\":\"DaysTicker\"},{\"attributes\":{\"source\":{\"id\":\"12495\"}},\"id\":\"12502\",\"type\":\"CDSView\"},{\"attributes\":{\"base\":60,\"mantissas\":[1,2,5,10,15,20,30],\"max_interval\":1800000.0,\"min_interval\":1000.0,\"num_minor_ticks\":0},\"id\":\"12513\",\"type\":\"AdaptiveTicker\"},{\"attributes\":{\"end\":1605484800000.0,\"reset_end\":1605484800000.0,\"reset_start\":1577923200000.0,\"start\":1577923200000.0,\"tags\":[[[\"Date\",\"Date\",null]]]},\"id\":\"11886\",\"type\":\"Range1d\"},{\"attributes\":{\"line_color\":\"#1f77b3\",\"line_width\":2,\"x\":{\"field\":\"Date\"},\"y\":{\"field\":\"value\"}},\"id\":\"11929\",\"type\":\"Line\"},{\"attributes\":{},\"id\":\"11913\",\"type\":\"ResetTool\"},{\"attributes\":{\"days\":[1,8,15,22]},\"id\":\"12517\",\"type\":\"DaysTicker\"},{\"attributes\":{\"end\":195.968,\"reset_end\":195.968,\"reset_start\":-13.527999999999999,\"start\":-13.527999999999999,\"tags\":[[[\"value\",\"value\",null]]]},\"id\":\"11887\",\"type\":\"Range1d\"},{\"attributes\":{\"child\":{\"id\":\"12379\"},\"name\":\"Moderna\",\"title\":\"Moderna\"},\"id\":\"12461\",\"type\":\"Panel\"},{\"attributes\":{},\"id\":\"12472\",\"type\":\"LinearScale\"},{\"attributes\":{\"axis\":{\"id\":\"12388\"},\"grid_line_color\":null,\"ticker\":null},\"id\":\"12391\",\"type\":\"Grid\"},{\"attributes\":{\"label\":{\"value\":\"Moderna\"},\"renderers\":[{\"id\":\"11962\"}]},\"id\":\"11986\",\"type\":\"LegendItem\"},{\"attributes\":{},\"id\":\"12609\",\"type\":\"YearsTicker\"},{\"attributes\":{},\"id\":\"11911\",\"type\":\"WheelZoomTool\"},{\"attributes\":{\"num_minor_ticks\":5,\"tickers\":[{\"id\":\"12512\"},{\"id\":\"12513\"},{\"id\":\"12514\"},{\"id\":\"12515\"},{\"id\":\"12516\"},{\"id\":\"12517\"},{\"id\":\"12518\"},{\"id\":\"12519\"},{\"id\":\"12520\"},{\"id\":\"12521\"},{\"id\":\"12522\"},{\"id\":\"12523\"}]},\"id\":\"12475\",\"type\":\"DatetimeTicker\"},{\"attributes\":{},\"id\":\"12504\",\"type\":\"DatetimeTickFormatter\"},{\"attributes\":{\"active_drag\":\"auto\",\"active_inspect\":\"auto\",\"active_multi\":null,\"active_scroll\":\"auto\",\"active_tap\":\"auto\",\"tools\":[{\"id\":\"12292\"},{\"id\":\"12310\"},{\"id\":\"12311\"},{\"id\":\"12312\"},{\"id\":\"12313\"},{\"id\":\"12314\"}]},\"id\":\"12316\",\"type\":\"Toolbar\"},{\"attributes\":{\"axis_label\":\"Date\",\"bounds\":\"auto\",\"formatter\":{\"id\":\"12504\"},\"major_label_orientation\":\"horizontal\",\"ticker\":{\"id\":\"12475\"}},\"id\":\"12474\",\"type\":\"DatetimeAxis\"},{\"attributes\":{},\"id\":\"11957\",\"type\":\"Selection\"},{\"attributes\":{\"axis_label\":\"Date\",\"bounds\":\"auto\",\"formatter\":{\"id\":\"11923\"},\"major_label_orientation\":\"horizontal\",\"ticker\":{\"id\":\"11902\"}},\"id\":\"11901\",\"type\":\"DatetimeAxis\"},{\"attributes\":{\"child\":{\"id\":\"12465\"},\"name\":\"Novavax\",\"title\":\"Novavax\"},\"id\":\"12547\",\"type\":\"Panel\"},{\"attributes\":{},\"id\":\"11897\",\"type\":\"LinearScale\"},{\"attributes\":{\"bottom_units\":\"screen\",\"fill_alpha\":0.5,\"fill_color\":\"lightgrey\",\"left_units\":\"screen\",\"level\":\"overlay\",\"line_alpha\":1.0,\"line_color\":\"black\",\"line_dash\":[4,4],\"line_width\":2,\"right_units\":\"screen\",\"top_units\":\"screen\"},\"id\":\"12315\",\"type\":\"BoxAnnotation\"},{\"attributes\":{},\"id\":\"12479\",\"type\":\"BasicTicker\"},{\"attributes\":{},\"id\":\"12592\",\"type\":\"BasicTickFormatter\"},{\"attributes\":{\"months\":[0,6]},\"id\":\"12436\",\"type\":\"MonthsTicker\"},{\"attributes\":{\"base\":24,\"mantissas\":[1,2,4,6,8,12],\"max_interval\":43200000.0,\"min_interval\":3600000.0,\"num_minor_ticks\":0},\"id\":\"12514\",\"type\":\"AdaptiveTicker\"},{\"attributes\":{\"axis\":{\"id\":\"12474\"},\"grid_line_color\":null,\"ticker\":null},\"id\":\"12477\",\"type\":\"Grid\"},{\"attributes\":{\"days\":[1,2,3,4,5,6,7,8,9,10,11,12,13,14,15,16,17,18,19,20,21,22,23,24,25,26,27,28,29,30,31]},\"id\":\"12343\",\"type\":\"DaysTicker\"},{\"attributes\":{\"axis\":{\"id\":\"12392\"},\"dimension\":1,\"grid_line_color\":null,\"ticker\":null},\"id\":\"12395\",\"type\":\"Grid\"},{\"attributes\":{\"num_minor_ticks\":5,\"tickers\":[{\"id\":\"11939\"},{\"id\":\"11940\"},{\"id\":\"11941\"},{\"id\":\"11942\"},{\"id\":\"11943\"},{\"id\":\"11944\"},{\"id\":\"11945\"},{\"id\":\"11946\"},{\"id\":\"11947\"},{\"id\":\"11948\"},{\"id\":\"11949\"},{\"id\":\"11950\"}]},\"id\":\"11902\",\"type\":\"DatetimeTicker\"},{\"attributes\":{\"axis\":{\"id\":\"12478\"},\"dimension\":1,\"grid_line_color\":null,\"ticker\":null},\"id\":\"12481\",\"type\":\"Grid\"},{\"attributes\":{\"days\":[1,15]},\"id\":\"12518\",\"type\":\"DaysTicker\"},{\"attributes\":{\"mantissas\":[1,2,5],\"max_interval\":500.0,\"num_minor_ticks\":0},\"id\":\"12598\",\"type\":\"AdaptiveTicker\"},{\"attributes\":{\"axis_label\":\"Novavax\",\"bounds\":\"auto\",\"formatter\":{\"id\":\"12506\"},\"major_label_orientation\":\"horizontal\",\"ticker\":{\"id\":\"12479\"}},\"id\":\"12478\",\"type\":\"LinearAxis\"},{\"attributes\":{},\"id\":\"12437\",\"type\":\"YearsTicker\"},{\"attributes\":{\"active_drag\":\"auto\",\"active_inspect\":\"auto\",\"active_multi\":null,\"active_scroll\":\"auto\",\"active_tap\":\"auto\",\"tools\":[{\"id\":\"11888\"},{\"id\":\"11909\"},{\"id\":\"11910\"},{\"id\":\"11911\"},{\"id\":\"11912\"},{\"id\":\"11913\"}]},\"id\":\"11915\",\"type\":\"Toolbar\"},{\"attributes\":{\"line_alpha\":0.1,\"line_color\":\"#1f77b3\",\"line_width\":2,\"x\":{\"field\":\"Date\"},\"y\":{\"field\":\"Abbott Laboratories\"}},\"id\":\"12327\",\"type\":\"Line\"},{\"attributes\":{},\"id\":\"12314\",\"type\":\"ResetTool\"},{\"attributes\":{},\"id\":\"11906\",\"type\":\"BasicTicker\"},{\"attributes\":{\"line_color\":\"#ff7e0e\",\"line_width\":2,\"x\":{\"field\":\"Date\"},\"y\":{\"field\":\"value\"}},\"id\":\"11959\",\"type\":\"Line\"},{\"attributes\":{\"line_color\":\"green\",\"line_width\":2,\"x\":{\"field\":\"Date\"},\"y\":{\"field\":\"Novavax\"}},\"id\":\"12498\",\"type\":\"Line\"},{\"attributes\":{},\"id\":\"12506\",\"type\":\"BasicTickFormatter\"},{\"attributes\":{\"months\":[0,4,8]},\"id\":\"12349\",\"type\":\"MonthsTicker\"},{\"attributes\":{\"axis_label\":\"Moderna\",\"bounds\":\"auto\",\"formatter\":{\"id\":\"12420\"},\"major_label_orientation\":\"horizontal\",\"ticker\":{\"id\":\"12393\"}},\"id\":\"12392\",\"type\":\"LinearAxis\"},{\"attributes\":{\"overlay\":{\"id\":\"11914\"}},\"id\":\"11912\",\"type\":\"BoxZoomTool\"},{\"attributes\":{\"line_alpha\":0.1,\"line_color\":\"green\",\"line_width\":2,\"x\":{\"field\":\"Date\"},\"y\":{\"field\":\"Novavax\"}},\"id\":\"12499\",\"type\":\"Line\"},{\"attributes\":{\"child\":{\"id\":\"11892\"},\"name\":\"All Vaccines\",\"title\":\"All Vaccines\"},\"id\":\"12289\",\"type\":\"Panel\"},{\"attributes\":{},\"id\":\"11909\",\"type\":\"SaveTool\"},{\"attributes\":{},\"id\":\"12482\",\"type\":\"SaveTool\"},{\"attributes\":{},\"id\":\"12524\",\"type\":\"UnionRenderers\"},{\"attributes\":{\"months\":[0,4,8]},\"id\":\"12521\",\"type\":\"MonthsTicker\"},{\"attributes\":{},\"id\":\"12610\",\"type\":\"UnionRenderers\"},{\"attributes\":{},\"id\":\"12483\",\"type\":\"PanTool\"},{\"attributes\":{\"axis\":{\"id\":\"11901\"},\"grid_line_color\":null,\"ticker\":null},\"id\":\"11904\",\"type\":\"Grid\"},{\"attributes\":{\"line_color\":\"orange\",\"line_width\":2,\"x\":{\"field\":\"Date\"},\"y\":{\"field\":\"Moderna\"}},\"id\":\"12412\",\"type\":\"Line\"},{\"attributes\":{},\"id\":\"11983\",\"type\":\"UnionRenderers\"},{\"attributes\":{\"end\":195.968,\"reset_end\":195.968,\"reset_start\":-13.527999999999999,\"start\":-13.527999999999999,\"tags\":[[[\"Novavax\",\"Novavax\",null]]]},\"id\":\"12463\",\"type\":\"Range1d\"},{\"attributes\":{\"data\":{\"Date\":{\"__ndarray__\":\"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\",\"dtype\":\"float64\",\"order\":\"little\",\"shape\":[222]},\"Variable\":[\"Moderna\",\"Moderna\",\"Moderna\",\"Moderna\",\"Moderna\",\"Moderna\",\"Moderna\",\"Moderna\",\"Moderna\",\"Moderna\",\"Moderna\",\"Moderna\",\"Moderna\",\"Moderna\",\"Moderna\",\"Moderna\",\"Moderna\",\"Moderna\",\"Moderna\",\"Moderna\",\"Moderna\",\"Moderna\",\"Moderna\",\"Moderna\",\"Moderna\",\"Moderna\",\"Moderna\",\"Moderna\",\"Moderna\",\"Moderna\",\"Moderna\",\"Moderna\",\"Moderna\",\"Moderna\",\"Moderna\",\"Moderna\",\"Moderna\",\"Moderna\",\"Moderna\",\"Moderna\",\"Moderna\",\"Moderna\",\"Moderna\",\"Moderna\",\"Moderna\",\"Moderna\",\"Moderna\",\"Moderna\",\"Moderna\",\"Moderna\",\"Moderna\",\"Moderna\",\"Moderna\",\"Moderna\",\"Moderna\",\"Moderna\",\"Moderna\",\"Moderna\",\"Moderna\",\"Moderna\",\"Moderna\",\"Moderna\",\"Moderna\",\"Moderna\",\"Moderna\",\"Moderna\",\"Moderna\",\"Moderna\",\"Moderna\",\"Moderna\",\"Moderna\",\"Moderna\",\"Moderna\",\"Moderna\",\"Moderna\",\"Moderna\",\"Moderna\",\"Moderna\",\"Moderna\",\"Moderna\",\"Moderna\",\"Moderna\",\"Moderna\",\"Moderna\",\"Moderna\",\"Moderna\",\"Moderna\",\"Moderna\",\"Moderna\",\"Moderna\",\"Moderna\",\"Moderna\",\"Moderna\",\"Moderna\",\"Moderna\",\"Moderna\",\"Moderna\",\"Moderna\",\"Moderna\",\"Moderna\",\"Moderna\",\"Moderna\",\"Moderna\",\"Moderna\",\"Moderna\",\"Moderna\",\"Moderna\",\"Moderna\",\"Moderna\",\"Moderna\",\"Moderna\",\"Moderna\",\"Moderna\",\"Moderna\",\"Moderna\",\"Moderna\",\"Moderna\",\"Moderna\",\"Moderna\",\"Moderna\",\"Moderna\",\"Moderna\",\"Moderna\",\"Moderna\",\"Moderna\",\"Moderna\",\"Moderna\",\"Moderna\",\"Moderna\",\"Moderna\",\"Moderna\",\"Moderna\",\"Moderna\",\"Moderna\",\"Moderna\",\"Moderna\",\"Moderna\",\"Moderna\",\"Moderna\",\"Moderna\",\"Moderna\",\"Moderna\",\"Moderna\",\"Moderna\",\"Moderna\",\"Moderna\",\"Moderna\",\"Moderna\",\"Moderna\",\"Moderna\",\"Moderna\",\"Moderna\",\"Moderna\",\"Moderna\",\"Moderna\",\"Moderna\",\"Moderna\",\"Moderna\",\"Moderna\",\"Moderna\",\"Moderna\",\"Moderna\",\"Moderna\",\"Moderna\",\"Moderna\",\"Moderna\",\"Moderna\",\"Moderna\",\"Moderna\",\"Moderna\",\"Moderna\",\"Moderna\",\"Moderna\",\"Moderna\",\"Moderna\",\"Moderna\",\"Moderna\",\"Moderna\",\"Moderna\",\"Moderna\",\"Moderna\",\"Moderna\",\"Moderna\",\"Moderna\",\"Moderna\",\"Moderna\",\"Moderna\",\"Moderna\",\"Moderna\",\"Moderna\",\"Moderna\",\"Moderna\",\"Moderna\",\"Moderna\",\"Moderna\",\"Moderna\",\"Moderna\",\"Moderna\",\"Moderna\",\"Moderna\",\"Moderna\",\"Moderna\",\"Moderna\",\"Moderna\",\"Moderna\",\"Moderna\",\"Moderna\",\"Moderna\",\"Moderna\",\"Moderna\",\"Moderna\",\"Moderna\",\"Moderna\",\"Moderna\",\"Moderna\",\"Moderna\",\"Moderna\",\"Moderna\",\"Moderna\",\"Moderna\",\"Moderna\",\"Moderna\"],\"value\":{\"__ndarray__\":\"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\",\"dtype\":\"float64\",\"order\":\"little\",\"shape\":[222]}},\"selected\":{\"id\":\"11957\"},\"selection_policy\":{\"id\":\"11983\"}},\"id\":\"11956\",\"type\":\"ColumnDataSource\"},{\"attributes\":{},\"id\":\"12484\",\"type\":\"WheelZoomTool\"},{\"attributes\":{\"months\":[0,2,4,6,8,10]},\"id\":\"12348\",\"type\":\"MonthsTicker\"},{\"attributes\":{\"active_drag\":\"auto\",\"active_inspect\":\"auto\",\"active_multi\":null,\"active_scroll\":\"auto\",\"active_tap\":\"auto\",\"tools\":[{\"id\":\"12464\"},{\"id\":\"12482\"},{\"id\":\"12483\"},{\"id\":\"12484\"},{\"id\":\"12485\"},{\"id\":\"12486\"}]},\"id\":\"12488\",\"type\":\"Toolbar\"},{\"attributes\":{},\"id\":\"11923\",\"type\":\"DatetimeTickFormatter\"},{\"attributes\":{\"base\":24,\"mantissas\":[1,2,4,6,8,12],\"max_interval\":43200000.0,\"min_interval\":3600000.0,\"num_minor_ticks\":0},\"id\":\"12342\",\"type\":\"AdaptiveTicker\"},{\"attributes\":{\"overlay\":{\"id\":\"12487\"}},\"id\":\"12485\",\"type\":\"BoxZoomTool\"},{\"attributes\":{\"days\":[1,4,7,10,13,16,19,22,25,28]},\"id\":\"12516\",\"type\":\"DaysTicker\"},{\"attributes\":{},\"id\":\"12384\",\"type\":\"LinearScale\"},{\"attributes\":{\"bottom_units\":\"screen\",\"fill_alpha\":0.5,\"fill_color\":\"lightgrey\",\"left_units\":\"screen\",\"level\":\"overlay\",\"line_alpha\":1.0,\"line_color\":\"black\",\"line_dash\":[4,4],\"line_width\":2,\"right_units\":\"screen\",\"top_units\":\"screen\"},\"id\":\"11914\",\"type\":\"BoxAnnotation\"},{\"attributes\":{\"data_source\":{\"id\":\"11926\"},\"glyph\":{\"id\":\"11929\"},\"hover_glyph\":null,\"muted_glyph\":{\"id\":\"11931\"},\"nonselection_glyph\":{\"id\":\"11930\"},\"selection_glyph\":null,\"view\":{\"id\":\"11933\"}},\"id\":\"11932\",\"type\":\"GlyphRenderer\"},{\"attributes\":{\"line_alpha\":0.2,\"line_color\":\"green\",\"line_width\":2,\"x\":{\"field\":\"Date\"},\"y\":{\"field\":\"Novavax\"}},\"id\":\"12500\",\"type\":\"Line\"},{\"attributes\":{\"line_alpha\":0.2,\"line_color\":\"#1f77b3\",\"line_width\":2,\"x\":{\"field\":\"Date\"},\"y\":{\"field\":\"value\"}},\"id\":\"11931\",\"type\":\"Line\"},{\"attributes\":{\"months\":[0,1,2,3,4,5,6,7,8,9,10,11]},\"id\":\"12347\",\"type\":\"MonthsTicker\"},{\"attributes\":{\"months\":[0,6]},\"id\":\"12522\",\"type\":\"MonthsTicker\"},{\"attributes\":{\"line_alpha\":0.1,\"line_color\":\"#1f77b3\",\"line_width\":2,\"x\":{\"field\":\"Date\"},\"y\":{\"field\":\"value\"}},\"id\":\"11930\",\"type\":\"Line\"},{\"attributes\":{},\"id\":\"12486\",\"type\":\"ResetTool\"},{\"attributes\":{\"base\":60,\"mantissas\":[1,2,5,10,15,20,30],\"max_interval\":1800000.0,\"min_interval\":1000.0,\"num_minor_ticks\":0},\"id\":\"12341\",\"type\":\"AdaptiveTicker\"},{\"attributes\":{\"base\":24,\"mantissas\":[1,2,4,6,8,12],\"max_interval\":43200000.0,\"min_interval\":3600000.0,\"num_minor_ticks\":0},\"id\":\"12600\",\"type\":\"AdaptiveTicker\"},{\"attributes\":{\"source\":{\"id\":\"12581\"}},\"id\":\"12588\",\"type\":\"CDSView\"},{\"attributes\":{\"months\":[0,1,2,3,4,5,6,7,8,9,10,11]},\"id\":\"12519\",\"type\":\"MonthsTicker\"},{\"attributes\":{\"days\":[1,8,15,22]},\"id\":\"12603\",\"type\":\"DaysTicker\"},{\"attributes\":{\"source\":{\"id\":\"12323\"}},\"id\":\"12330\",\"type\":\"CDSView\"},{\"attributes\":{\"data\":{\"Date\":{\"__ndarray__\":\"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\",\"dtype\":\"float64\",\"order\":\"little\",\"shape\":[222]},\"Novavax\":{\"__ndarray__\":\"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\",\"dtype\":\"float64\",\"order\":\"little\",\"shape\":[222]}},\"selected\":{\"id\":\"12496\"},\"selection_policy\":{\"id\":\"12524\"}},\"id\":\"12495\",\"type\":\"ColumnDataSource\"},{\"attributes\":{\"align\":null,\"below\":[{\"id\":\"12388\"}],\"center\":[{\"id\":\"12391\"},{\"id\":\"12395\"}],\"left\":[{\"id\":\"12392\"}],\"margin\":null,\"min_border_bottom\":10,\"min_border_left\":10,\"min_border_right\":10,\"min_border_top\":10,\"plot_height\":500,\"plot_width\":700,\"renderers\":[{\"id\":\"12415\"}],\"sizing_mode\":\"fixed\",\"title\":{\"id\":\"12380\"},\"toolbar\":{\"id\":\"12402\"},\"x_range\":{\"id\":\"11886\"},\"x_scale\":{\"id\":\"12384\"},\"y_range\":{\"id\":\"12377\"},\"y_scale\":{\"id\":\"12386\"}},\"id\":\"12379\",\"subtype\":\"Figure\",\"type\":\"Plot\"},{\"attributes\":{\"line_alpha\":0.2,\"line_color\":\"#ff7e0e\",\"line_width\":2,\"x\":{\"field\":\"Date\"},\"y\":{\"field\":\"value\"}},\"id\":\"11961\",\"type\":\"Line\"},{\"attributes\":{\"months\":[0,2,4,6,8,10]},\"id\":\"12520\",\"type\":\"MonthsTicker\"},{\"attributes\":{\"months\":[0,1,2,3,4,5,6,7,8,9,10,11]},\"id\":\"12605\",\"type\":\"MonthsTicker\"},{\"attributes\":{\"data_source\":{\"id\":\"11956\"},\"glyph\":{\"id\":\"11959\"},\"hover_glyph\":null,\"muted_glyph\":{\"id\":\"11961\"},\"nonselection_glyph\":{\"id\":\"11960\"},\"selection_glyph\":null,\"view\":{\"id\":\"11963\"}},\"id\":\"11962\",\"type\":\"GlyphRenderer\"},{\"attributes\":{\"callback\":null,\"formatters\":{\"@{Date}\":\"datetime\"},\"renderers\":[{\"id\":\"12501\"}],\"tags\":[\"hv_created\"],\"tooltips\":[[\"Date\",\"@{Date}{%F %T}\"],[\"Novavax\",\"@{Novavax}\"]]},\"id\":\"12464\",\"type\":\"HoverTool\"},{\"attributes\":{\"months\":[0,6]},\"id\":\"12608\",\"type\":\"MonthsTicker\"},{\"attributes\":{\"data\":{\"Date\":{\"__ndarray__\":\"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\",\"dtype\":\"float64\",\"order\":\"little\",\"shape\":[222]},\"Variable\":[\"Abbott Laboratories\",\"Abbott Laboratories\",\"Abbott Laboratories\",\"Abbott Laboratories\",\"Abbott Laboratories\",\"Abbott Laboratories\",\"Abbott Laboratories\",\"Abbott Laboratories\",\"Abbott Laboratories\",\"Abbott Laboratories\",\"Abbott Laboratories\",\"Abbott Laboratories\",\"Abbott Laboratories\",\"Abbott Laboratories\",\"Abbott Laboratories\",\"Abbott Laboratories\",\"Abbott Laboratories\",\"Abbott Laboratories\",\"Abbott Laboratories\",\"Abbott Laboratories\",\"Abbott Laboratories\",\"Abbott Laboratories\",\"Abbott Laboratories\",\"Abbott Laboratories\",\"Abbott Laboratories\",\"Abbott Laboratories\",\"Abbott Laboratories\",\"Abbott Laboratories\",\"Abbott Laboratories\",\"Abbott Laboratories\",\"Abbott Laboratories\",\"Abbott Laboratories\",\"Abbott Laboratories\",\"Abbott Laboratories\",\"Abbott Laboratories\",\"Abbott Laboratories\",\"Abbott Laboratories\",\"Abbott Laboratories\",\"Abbott Laboratories\",\"Abbott Laboratories\",\"Abbott Laboratories\",\"Abbott Laboratories\",\"Abbott Laboratories\",\"Abbott Laboratories\",\"Abbott Laboratories\",\"Abbott Laboratories\",\"Abbott Laboratories\",\"Abbott Laboratories\",\"Abbott Laboratories\",\"Abbott Laboratories\",\"Abbott Laboratories\",\"Abbott Laboratories\",\"Abbott Laboratories\",\"Abbott Laboratories\",\"Abbott Laboratories\",\"Abbott Laboratories\",\"Abbott Laboratories\",\"Abbott Laboratories\",\"Abbott Laboratories\",\"Abbott Laboratories\",\"Abbott Laboratories\",\"Abbott Laboratories\",\"Abbott Laboratories\",\"Abbott Laboratories\",\"Abbott Laboratories\",\"Abbott Laboratories\",\"Abbott Laboratories\",\"Abbott Laboratories\",\"Abbott Laboratories\",\"Abbott Laboratories\",\"Abbott Laboratories\",\"Abbott Laboratories\",\"Abbott Laboratories\",\"Abbott Laboratories\",\"Abbott Laboratories\",\"Abbott Laboratories\",\"Abbott Laboratories\",\"Abbott Laboratories\",\"Abbott Laboratories\",\"Abbott Laboratories\",\"Abbott Laboratories\",\"Abbott Laboratories\",\"Abbott Laboratories\",\"Abbott Laboratories\",\"Abbott Laboratories\",\"Abbott Laboratories\",\"Abbott Laboratories\",\"Abbott Laboratories\",\"Abbott Laboratories\",\"Abbott Laboratories\",\"Abbott Laboratories\",\"Abbott Laboratories\",\"Abbott Laboratories\",\"Abbott Laboratories\",\"Abbott Laboratories\",\"Abbott Laboratories\",\"Abbott Laboratories\",\"Abbott Laboratories\",\"Abbott Laboratories\",\"Abbott Laboratories\",\"Abbott Laboratories\",\"Abbott Laboratories\",\"Abbott Laboratories\",\"Abbott Laboratories\",\"Abbott Laboratories\",\"Abbott Laboratories\",\"Abbott Laboratories\",\"Abbott Laboratories\",\"Abbott Laboratories\",\"Abbott Laboratories\",\"Abbott Laboratories\",\"Abbott Laboratories\",\"Abbott Laboratories\",\"Abbott Laboratories\",\"Abbott Laboratories\",\"Abbott Laboratories\",\"Abbott Laboratories\",\"Abbott Laboratories\",\"Abbott Laboratories\",\"Abbott Laboratories\",\"Abbott Laboratories\",\"Abbott Laboratories\",\"Abbott Laboratories\",\"Abbott Laboratories\",\"Abbott Laboratories\",\"Abbott Laboratories\",\"Abbott Laboratories\",\"Abbott Laboratories\",\"Abbott Laboratories\",\"Abbott Laboratories\",\"Abbott Laboratories\",\"Abbott Laboratories\",\"Abbott Laboratories\",\"Abbott Laboratories\",\"Abbott Laboratories\",\"Abbott Laboratories\",\"Abbott Laboratories\",\"Abbott Laboratories\",\"Abbott Laboratories\",\"Abbott Laboratories\",\"Abbott Laboratories\",\"Abbott Laboratories\",\"Abbott Laboratories\",\"Abbott Laboratories\",\"Abbott Laboratories\",\"Abbott Laboratories\",\"Abbott Laboratories\",\"Abbott Laboratories\",\"Abbott Laboratories\",\"Abbott Laboratories\",\"Abbott Laboratories\",\"Abbott Laboratories\",\"Abbott Laboratories\",\"Abbott Laboratories\",\"Abbott Laboratories\",\"Abbott Laboratories\",\"Abbott Laboratories\",\"Abbott Laboratories\",\"Abbott Laboratories\",\"Abbott Laboratories\",\"Abbott Laboratories\",\"Abbott Laboratories\",\"Abbott Laboratories\",\"Abbott Laboratories\",\"Abbott Laboratories\",\"Abbott Laboratories\",\"Abbott Laboratories\",\"Abbott Laboratories\",\"Abbott Laboratories\",\"Abbott Laboratories\",\"Abbott Laboratories\",\"Abbott Laboratories\",\"Abbott Laboratories\",\"Abbott Laboratories\",\"Abbott Laboratories\",\"Abbott Laboratories\",\"Abbott Laboratories\",\"Abbott Laboratories\",\"Abbott Laboratories\",\"Abbott Laboratories\",\"Abbott Laboratories\",\"Abbott Laboratories\",\"Abbott Laboratories\",\"Abbott Laboratories\",\"Abbott Laboratories\",\"Abbott Laboratories\",\"Abbott Laboratories\",\"Abbott Laboratories\",\"Abbott Laboratories\",\"Abbott Laboratories\",\"Abbott Laboratories\",\"Abbott Laboratories\",\"Abbott Laboratories\",\"Abbott Laboratories\",\"Abbott Laboratories\",\"Abbott Laboratories\",\"Abbott Laboratories\",\"Abbott Laboratories\",\"Abbott Laboratories\",\"Abbott Laboratories\",\"Abbott Laboratories\",\"Abbott Laboratories\",\"Abbott Laboratories\",\"Abbott Laboratories\",\"Abbott Laboratories\",\"Abbott Laboratories\",\"Abbott Laboratories\",\"Abbott Laboratories\",\"Abbott Laboratories\",\"Abbott Laboratories\",\"Abbott Laboratories\",\"Abbott Laboratories\",\"Abbott Laboratories\",\"Abbott Laboratories\",\"Abbott Laboratories\",\"Abbott Laboratories\",\"Abbott Laboratories\",\"Abbott Laboratories\",\"Abbott Laboratories\",\"Abbott Laboratories\",\"Abbott Laboratories\",\"Abbott Laboratories\"],\"value\":{\"__ndarray__\":\"zczMzMy8VUApXI/C9XhVQPYoXI/ClVVA16NwPQp3VUA9CtejcI1VQFyPwvUonFVA16NwPQpXVUBI4XoUrkdVQI/C9Shcb1VAuB6F61HYVUBSuB6F6xFWQAAAAAAAQFZAH4XrUbhuVkDXo3A9CvdWQB+F61G4rlZAmpmZmZmZVkD2KFyPwmVWQMP1KFyPYlZAKVyPwvVIVkAK16NwPUpWQClcj8L1yFVApHA9CtfDVUAfhetRuA5WQKRwPQrXY1ZArkfhehReVkBI4XoUrvdVQDMzMzMzE1ZAexSuR+FKVkDD9ShcjzJWQOxRuB6FK1ZACtejcD1qVkC4HoXrUThWQNejcD0KV1ZAPQrXo3AdVkDNzMzMzNxVQLgehetRKFVAuB6F61FIVEDXo3A9CldUQFyPwvUozFNAUrgehetBU0DXo3A9CmdUQI/C9Shcf1NA9ihcj8KFVEDhehSuRyFUQI/C9Shcb1RA4XoUrkdBU0C4HoXrUThUQPYoXI/ChVNAj8L1KFyvUkCamZmZmWlUQArXo3A9alJAj8L1KFzfU0BxPQrXo9BTQAAAAAAAoFJAAAAAAAAAUUApXI/C9WhPQFyPwvUobFFAAAAAAACwUUCkcD0K1/NSQKRwPQrXo1JA9ihcj8LVU0AK16NwPbpTQBSuR+F6JFNAXI/C9SjcU0DNzMzMzNxTQB+F61G4rlRA7FG4HoV7VEDNzMzMzDxVQMP1KFyPglVAZmZmZmZ2VUApXI/C9UhWQFyPwvUovFZAAAAAAAAAWEBxPQrXowBYQAAAAAAAgFhAMzMzMzODV0AfhetRuN5XQFyPwvUofFdApHA9CteDV0DNzMzMzLxXQD0K16Nw3VZAUrgehesRV0D2KFyPwgVXQGZmZmZmdlZAhetRuB51VkBSuB6F60FXQIXrUbgexVZAj8L1KFx/V0DNzMzMzGxXQBSuR+F6BFhAMzMzMzNzV0AK16NwPQpXQFK4HoXr8VZAKVyPwvV4VkDhehSuR5FWQK5H4XoUDlZA9ihcj8KFVkApXI/C9ZhWQK5H4XoU3lZAH4XrUbheVkBxPQrXo7BWQGZmZmZmBldAexSuR+G6V0BxPQrXo0BXQEjhehSuJ1dAmpmZmZnZVkAAAAAAABBWQNejcD0Kd1ZApHA9CtcjV0DhehSuR5FWQArXo3A9CldAUrgehevxVUDhehSuR0FWQDMzMzMzY1ZAj8L1KFxvVkCamZmZmblWQFK4HoXrkVZA7FG4HoWrVkD2KFyPwpVWQDMzMzMz01ZAMzMzMzPTVUBI4XoUrmdWQD0K16NwLVZAcT0K16NAVkDsUbgehdtWQClcj8L16FZAH4XrUbgOV0CuR+F6FD5XQD0K16NwHVdAhetRuB4lV0B7FK5H4WpXQMP1KFyPQldA9ihcj8JFV0AUrkfherRXQB+F61G4LlhAmpmZmZkZWEAAAAAAANBYQIXrUbgexVhAXI/C9SiMWEBcj8L1KAxZQBSuR+F6NFlAzczMzMy8WECPwvUoXP9YQNejcD0K91hA4XoUrkehWUBSuB6F62FZQClcj8L1KFlA7FG4HoUrWUDsUbgehftYQClcj8L1iFlAAAAAAABwWUAfhetRuE5ZQMP1KFyPAllApHA9CtfDWECamZmZmSlZQGZmZmZmRllAj8L1KFz/WEA9CtejcC1ZQD0K16NwPVlAH4XrUbgeWUC4HoXrUWhZQJqZmZmZmVlAKVyPwvVYWUCuR+F6FJ5ZQFyPwvUozFlAw/UoXI/SW0DD9Shcj7JbQK5H4XoUXltAMzMzMzOjWkBcj8L1KFxbQFK4HoXrYVpACtejcD0KWkD2KFyPwrVZQKRwPQrXc1pAAAAAAAAAWkDNzMzMzCxaQFyPwvUobFpAhetRuB6lWkDNzMzMzGxaQArXo3A9qlpA16NwPQq3WkDNzMzMzHxaQDMzMzMzM1pAH4XrUbiuWUB7FK5H4TpZQM3MzMzM3FlAXI/C9SgcWkBcj8L1KExaQIXrUbgeNVtAKVyPwvUoW0AAAAAAAKBaQKRwPQrXI1tAAAAAAACQWkCPwvUoXO9aQMP1KFyPIltAmpmZmZlpW0AzMzMzM8NbQEjhehSuF1tAAAAAAADwWkAUrkfhetRaQHsUrkfhaltAw/UoXI8CW0DXo3A9ChdbQOxRuB6Fe1pAH4XrUbheW0DD9Shcj/JaQAAAAAAAQFtAhetRuB4lW0B7FK5H4ZpaQAAAAAAAQFpA16NwPQpHWkAfhetRuN5aQKRwPQrXY1tAUrgehevhW0BSuB6F62FcQHsUrkfhmlxAKVyPwvVYW0CkcD0K17NbQJqZmZmZKVxAzczMzMz8W0BmZmZmZiZcQHsUrkfhalxA\",\"dtype\":\"float64\",\"order\":\"little\",\"shape\":[222]}},\"selected\":{\"id\":\"11927\"},\"selection_policy\":{\"id\":\"11951\"}},\"id\":\"11926\",\"type\":\"ColumnDataSource\"},{\"attributes\":{},\"id\":\"11899\",\"type\":\"LinearScale\"},{\"attributes\":{},\"id\":\"12590\",\"type\":\"DatetimeTickFormatter\"},{\"attributes\":{},\"id\":\"12496\",\"type\":\"Selection\"},{\"attributes\":{\"months\":[0,4,8]},\"id\":\"12607\",\"type\":\"MonthsTicker\"},{\"attributes\":{\"align\":null,\"below\":[{\"id\":\"12474\"}],\"center\":[{\"id\":\"12477\"},{\"id\":\"12481\"}],\"left\":[{\"id\":\"12478\"}],\"margin\":null,\"min_border_bottom\":10,\"min_border_left\":10,\"min_border_right\":10,\"min_border_top\":10,\"plot_height\":500,\"plot_width\":700,\"renderers\":[{\"id\":\"12501\"}],\"sizing_mode\":\"fixed\",\"title\":{\"id\":\"12466\"},\"toolbar\":{\"id\":\"12488\"},\"x_range\":{\"id\":\"11886\"},\"x_scale\":{\"id\":\"12470\"},\"y_range\":{\"id\":\"12463\"},\"y_scale\":{\"id\":\"12472\"}},\"id\":\"12465\",\"subtype\":\"Figure\",\"type\":\"Plot\"},{\"attributes\":{\"data_source\":{\"id\":\"12581\"},\"glyph\":{\"id\":\"12584\"},\"hover_glyph\":null,\"muted_glyph\":{\"id\":\"12586\"},\"nonselection_glyph\":{\"id\":\"12585\"},\"selection_glyph\":null,\"view\":{\"id\":\"12588\"}},\"id\":\"12587\",\"type\":\"GlyphRenderer\"},{\"attributes\":{},\"id\":\"11927\",\"type\":\"Selection\"},{\"attributes\":{\"days\":[1,15]},\"id\":\"12604\",\"type\":\"DaysTicker\"},{\"attributes\":{},\"id\":\"12334\",\"type\":\"BasicTickFormatter\"},{\"attributes\":{\"days\":[1,4,7,10,13,16,19,22,25,28]},\"id\":\"12602\",\"type\":\"DaysTicker\"},{\"attributes\":{\"line_alpha\":0.1,\"line_color\":\"orange\",\"line_width\":2,\"x\":{\"field\":\"Date\"},\"y\":{\"field\":\"Moderna\"}},\"id\":\"12413\",\"type\":\"Line\"},{\"attributes\":{\"days\":[1,4,7,10,13,16,19,22,25,28]},\"id\":\"12344\",\"type\":\"DaysTicker\"},{\"attributes\":{\"line_alpha\":0.2,\"line_color\":\"purple\",\"line_width\":2,\"x\":{\"field\":\"Date\"},\"y\":{\"field\":\"Pfizer\"}},\"id\":\"12586\",\"type\":\"Line\"},{\"attributes\":{\"months\":[0,2,4,6,8,10]},\"id\":\"12606\",\"type\":\"MonthsTicker\"}],\"root_ids\":[\"11885\",\"12952\"]},\"title\":\"Bokeh Application\",\"version\":\"2.1.1\"}};\n",
       "  var render_items = [{\"docid\":\"bced8b82-8db2-441c-8428-7af4bd63275e\",\"root_ids\":[\"11885\"],\"roots\":{\"11885\":\"b5177833-0763-4c3c-81c6-73d2fb9fb72b\"}}];\n",
       "  root.Bokeh.embed.embed_items_notebook(docs_json, render_items);\n",
       "  }\n",
       "if (root.Bokeh !== undefined) {\n",
       "    embed_document(root);\n",
       "  } else {\n",
       "    var attempts = 0;\n",
       "    var timer = setInterval(function(root) {\n",
       "      if (root.Bokeh !== undefined) {\n",
       "        clearInterval(timer);\n",
       "        embed_document(root);\n",
       "      } else if (document.readyState == \"complete\") {\n",
       "        attempts++;\n",
       "        if (attempts > 100) {\n",
       "          clearInterval(timer);\n",
       "          console.log(\"Bokeh: ERROR: Unable to run BokehJS code because BokehJS library is missing\");\n",
       "        }\n",
       "      }\n",
       "    }, 10, root)\n",
       "  }\n",
       "})(window);</script>"
      ],
      "text/plain": [
       "Tabs\n",
       "    [0] HoloViews(NdOverlay, name='All Vaccines')\n",
       "    [1] HoloViews(Curve, name='Abbott Laboratories')\n",
       "    [2] HoloViews(Curve, name='Moderna')\n",
       "    [3] HoloViews(Curve, name='Novavax')\n",
       "    [4] HoloViews(Curve, name='Pfizer')"
      ]
     },
     "execution_count": 60,
     "metadata": {
      "application/vnd.holoviews_exec.v0+json": {
       "id": "11885"
      }
     },
     "output_type": "execute_result"
    }
   ],
   "source": [
    "#Plotting with tabs\n",
    "tabs = pn.Tabs(\n",
    "    (\"All Vaccines\", vx),\n",
    "    (\"Abbott Laboratories\", abt_plot),\n",
    "    (\"Moderna\", mrna_plot),\n",
    "    (\"Novavax\", nvax_plot),\n",
    "    (\"Pfizer\", pfe_plot)\n",
    ")\n",
    "    \n",
    "tabs"
   ]
  },
  {
   "cell_type": "code",
   "execution_count": 62,
   "metadata": {},
   "outputs": [
    {
     "data": {
      "application/vnd.plotly.v1+json": {
       "config": {
        "plotlyServerURL": "https://plot.ly"
       },
       "data": [
        {
         "hovertemplate": "Companies=Abbott Laboratories<br>Date=%{x}<br>Close=%{y}<extra></extra>",
         "legendgroup": "Abbott Laboratories",
         "line": {
          "color": "#636efa",
          "dash": "solid"
         },
         "mode": "lines",
         "name": "Abbott Laboratories",
         "orientation": "v",
         "showlegend": true,
         "type": "scatter",
         "x": [
          "2020-01-02T00:00:00",
          "2020-01-03T00:00:00",
          "2020-01-06T00:00:00",
          "2020-01-07T00:00:00",
          "2020-01-08T00:00:00",
          "2020-01-09T00:00:00",
          "2020-01-10T00:00:00",
          "2020-01-13T00:00:00",
          "2020-01-14T00:00:00",
          "2020-01-15T00:00:00",
          "2020-01-16T00:00:00",
          "2020-01-17T00:00:00",
          "2020-01-21T00:00:00",
          "2020-01-22T00:00:00",
          "2020-01-23T00:00:00",
          "2020-01-24T00:00:00",
          "2020-01-27T00:00:00",
          "2020-01-28T00:00:00",
          "2020-01-29T00:00:00",
          "2020-01-30T00:00:00",
          "2020-01-31T00:00:00",
          "2020-02-03T00:00:00",
          "2020-02-04T00:00:00",
          "2020-02-05T00:00:00",
          "2020-02-06T00:00:00",
          "2020-02-07T00:00:00",
          "2020-02-10T00:00:00",
          "2020-02-11T00:00:00",
          "2020-02-12T00:00:00",
          "2020-02-13T00:00:00",
          "2020-02-14T00:00:00",
          "2020-02-18T00:00:00",
          "2020-02-19T00:00:00",
          "2020-02-20T00:00:00",
          "2020-02-21T00:00:00",
          "2020-02-24T00:00:00",
          "2020-02-25T00:00:00",
          "2020-02-26T00:00:00",
          "2020-02-27T00:00:00",
          "2020-02-28T00:00:00",
          "2020-03-02T00:00:00",
          "2020-03-03T00:00:00",
          "2020-03-04T00:00:00",
          "2020-03-05T00:00:00",
          "2020-03-06T00:00:00",
          "2020-03-09T00:00:00",
          "2020-03-10T00:00:00",
          "2020-03-11T00:00:00",
          "2020-03-12T00:00:00",
          "2020-03-13T00:00:00",
          "2020-03-16T00:00:00",
          "2020-03-17T00:00:00",
          "2020-03-18T00:00:00",
          "2020-03-19T00:00:00",
          "2020-03-20T00:00:00",
          "2020-03-23T00:00:00",
          "2020-03-24T00:00:00",
          "2020-03-25T00:00:00",
          "2020-03-26T00:00:00",
          "2020-03-27T00:00:00",
          "2020-03-30T00:00:00",
          "2020-03-31T00:00:00",
          "2020-04-01T00:00:00",
          "2020-04-02T00:00:00",
          "2020-04-03T00:00:00",
          "2020-04-06T00:00:00",
          "2020-04-07T00:00:00",
          "2020-04-08T00:00:00",
          "2020-04-09T00:00:00",
          "2020-04-13T00:00:00",
          "2020-04-14T00:00:00",
          "2020-04-15T00:00:00",
          "2020-04-16T00:00:00",
          "2020-04-17T00:00:00",
          "2020-04-20T00:00:00",
          "2020-04-21T00:00:00",
          "2020-04-22T00:00:00",
          "2020-04-23T00:00:00",
          "2020-04-24T00:00:00",
          "2020-04-27T00:00:00",
          "2020-04-28T00:00:00",
          "2020-04-29T00:00:00",
          "2020-04-30T00:00:00",
          "2020-05-01T00:00:00",
          "2020-05-04T00:00:00",
          "2020-05-05T00:00:00",
          "2020-05-06T00:00:00",
          "2020-05-07T00:00:00",
          "2020-05-08T00:00:00",
          "2020-05-11T00:00:00",
          "2020-05-12T00:00:00",
          "2020-05-13T00:00:00",
          "2020-05-14T00:00:00",
          "2020-05-15T00:00:00",
          "2020-05-18T00:00:00",
          "2020-05-19T00:00:00",
          "2020-05-20T00:00:00",
          "2020-05-21T00:00:00",
          "2020-05-22T00:00:00",
          "2020-05-26T00:00:00",
          "2020-05-27T00:00:00",
          "2020-05-28T00:00:00",
          "2020-05-29T00:00:00",
          "2020-06-01T00:00:00",
          "2020-06-02T00:00:00",
          "2020-06-03T00:00:00",
          "2020-06-04T00:00:00",
          "2020-06-05T00:00:00",
          "2020-06-08T00:00:00",
          "2020-06-09T00:00:00",
          "2020-06-10T00:00:00",
          "2020-06-11T00:00:00",
          "2020-06-12T00:00:00",
          "2020-06-15T00:00:00",
          "2020-06-16T00:00:00",
          "2020-06-17T00:00:00",
          "2020-06-18T00:00:00",
          "2020-06-19T00:00:00",
          "2020-06-22T00:00:00",
          "2020-06-23T00:00:00",
          "2020-06-24T00:00:00",
          "2020-06-25T00:00:00",
          "2020-06-26T00:00:00",
          "2020-06-29T00:00:00",
          "2020-06-30T00:00:00",
          "2020-07-01T00:00:00",
          "2020-07-02T00:00:00",
          "2020-07-06T00:00:00",
          "2020-07-07T00:00:00",
          "2020-07-08T00:00:00",
          "2020-07-09T00:00:00",
          "2020-07-10T00:00:00",
          "2020-07-13T00:00:00",
          "2020-07-14T00:00:00",
          "2020-07-15T00:00:00",
          "2020-07-16T00:00:00",
          "2020-07-17T00:00:00",
          "2020-07-20T00:00:00",
          "2020-07-21T00:00:00",
          "2020-07-22T00:00:00",
          "2020-07-23T00:00:00",
          "2020-07-24T00:00:00",
          "2020-07-27T00:00:00",
          "2020-07-28T00:00:00",
          "2020-07-29T00:00:00",
          "2020-07-30T00:00:00",
          "2020-07-31T00:00:00",
          "2020-08-03T00:00:00",
          "2020-08-04T00:00:00",
          "2020-08-05T00:00:00",
          "2020-08-06T00:00:00",
          "2020-08-07T00:00:00",
          "2020-08-10T00:00:00",
          "2020-08-11T00:00:00",
          "2020-08-12T00:00:00",
          "2020-08-13T00:00:00",
          "2020-08-14T00:00:00",
          "2020-08-17T00:00:00",
          "2020-08-18T00:00:00",
          "2020-08-19T00:00:00",
          "2020-08-20T00:00:00",
          "2020-08-21T00:00:00",
          "2020-08-24T00:00:00",
          "2020-08-25T00:00:00",
          "2020-08-26T00:00:00",
          "2020-08-27T00:00:00",
          "2020-08-28T00:00:00",
          "2020-08-31T00:00:00",
          "2020-09-01T00:00:00",
          "2020-09-02T00:00:00",
          "2020-09-03T00:00:00",
          "2020-09-04T00:00:00",
          "2020-09-08T00:00:00",
          "2020-09-09T00:00:00",
          "2020-09-10T00:00:00",
          "2020-09-11T00:00:00",
          "2020-09-14T00:00:00",
          "2020-09-15T00:00:00",
          "2020-09-16T00:00:00",
          "2020-09-17T00:00:00",
          "2020-09-18T00:00:00",
          "2020-09-21T00:00:00",
          "2020-09-22T00:00:00",
          "2020-09-23T00:00:00",
          "2020-09-24T00:00:00",
          "2020-09-25T00:00:00",
          "2020-09-28T00:00:00",
          "2020-09-29T00:00:00",
          "2020-09-30T00:00:00",
          "2020-10-01T00:00:00",
          "2020-10-02T00:00:00",
          "2020-10-05T00:00:00",
          "2020-10-06T00:00:00",
          "2020-10-07T00:00:00",
          "2020-10-08T00:00:00",
          "2020-10-09T00:00:00",
          "2020-10-12T00:00:00",
          "2020-10-13T00:00:00",
          "2020-10-14T00:00:00",
          "2020-10-15T00:00:00",
          "2020-10-16T00:00:00",
          "2020-10-19T00:00:00",
          "2020-10-20T00:00:00",
          "2020-10-21T00:00:00",
          "2020-10-22T00:00:00",
          "2020-10-23T00:00:00",
          "2020-10-26T00:00:00",
          "2020-10-27T00:00:00",
          "2020-10-28T00:00:00",
          "2020-10-29T00:00:00",
          "2020-10-30T00:00:00",
          "2020-11-02T00:00:00",
          "2020-11-03T00:00:00",
          "2020-11-04T00:00:00",
          "2020-11-05T00:00:00",
          "2020-11-06T00:00:00",
          "2020-11-09T00:00:00",
          "2020-11-10T00:00:00",
          "2020-11-11T00:00:00",
          "2020-11-12T00:00:00",
          "2020-11-13T00:00:00",
          "2020-11-16T00:00:00"
         ],
         "xaxis": "x",
         "y": [
          86.95,
          85.89,
          86.34,
          85.86,
          86.21,
          86.44,
          85.36,
          85.12,
          85.74,
          87.38,
          88.28,
          89,
          89.73,
          91.86,
          90.73,
          90.4,
          89.59,
          89.54,
          89.14,
          89.16,
          87.14,
          87.06,
          88.23,
          89.56,
          89.47,
          87.87,
          88.3,
          89.17,
          88.79,
          88.68,
          89.66,
          88.88,
          89.36,
          88.46,
          87.45,
          84.63,
          81.13,
          81.36,
          79.19,
          77.03,
          81.61,
          77.99,
          82.09,
          80.52,
          81.74,
          77.02,
          80.88,
          78.09,
          74.74,
          81.65,
          73.66,
          79.49,
          79.26,
          74.5,
          68,
          62.82,
          69.69,
          70.75,
          75.81,
          74.56,
          79.34,
          78.91,
          76.57,
          79.44,
          79.45,
          82.73,
          81.93,
          84.95,
          86.04,
          85.85,
          89.14,
          90.94,
          96,
          96.01,
          98,
          94.05,
          95.48,
          93.94,
          94.06,
          94.95,
          91.46,
          92.28,
          92.09,
          89.85,
          89.83,
          93.03,
          91.08,
          93.99,
          93.7,
          96.07,
          93.8,
          92.16,
          91.78,
          89.89,
          90.27,
          88.22,
          90.09,
          90.39,
          91.47,
          89.48,
          90.76,
          92.1,
          94.92,
          93.01,
          92.62,
          91.4,
          88.25,
          89.86,
          92.56,
          90.27,
          92.16,
          87.78,
          89.02,
          89.55,
          89.74,
          90.9,
          90.28,
          90.68,
          90.34,
          91.3,
          87.3,
          89.62,
          88.71,
          89.01,
          91.43,
          91.64,
          92.23,
          92.97,
          92.46,
          92.58,
          93.67,
          93.04,
          93.09,
          94.82,
          96.73,
          96.4,
          99.25,
          99.08,
          98.19,
          100.19,
          100.82,
          98.95,
          99.99,
          99.86,
          102.52,
          101.53,
          100.64,
          100.68,
          99.93,
          102.14,
          101.75,
          101.23,
          100.04,
          99.06,
          100.65,
          101.1,
          99.99,
          100.71,
          100.96,
          100.48,
          101.63,
          102.4,
          101.39,
          102.47,
          103.19,
          111.29,
          110.79,
          109.47,
          106.55,
          109.44,
          105.53,
          104.16,
          102.84,
          105.81,
          104,
          104.7,
          105.69,
          106.58,
          105.7,
          106.66,
          106.86,
          105.95,
          104.8,
          102.73,
          100.92,
          103.45,
          104.44,
          105.19,
          108.83,
          108.64,
          106.5,
          108.56,
          106.25,
          107.74,
          108.54,
          109.65,
          111.05,
          108.37,
          107.75,
          107.32,
          109.67,
          108.04,
          108.36,
          105.93,
          109.48,
          107.79,
          109,
          108.58,
          106.42,
          105,
          105.11,
          107.48,
          109.56,
          111.53,
          113.53,
          114.42,
          109.39,
          110.81,
          112.65,
          111.95,
          112.6,
          113.67
         ],
         "yaxis": "y"
        },
        {
         "hovertemplate": "Companies=Moderna<br>Date=%{x}<br>Close=%{y}<extra></extra>",
         "legendgroup": "Moderna",
         "line": {
          "color": "#EF553B",
          "dash": "solid"
         },
         "mode": "lines",
         "name": "Moderna",
         "orientation": "v",
         "showlegend": true,
         "type": "scatter",
         "x": [
          "2020-01-02T00:00:00",
          "2020-01-03T00:00:00",
          "2020-01-06T00:00:00",
          "2020-01-07T00:00:00",
          "2020-01-08T00:00:00",
          "2020-01-09T00:00:00",
          "2020-01-10T00:00:00",
          "2020-01-13T00:00:00",
          "2020-01-14T00:00:00",
          "2020-01-15T00:00:00",
          "2020-01-16T00:00:00",
          "2020-01-17T00:00:00",
          "2020-01-21T00:00:00",
          "2020-01-22T00:00:00",
          "2020-01-23T00:00:00",
          "2020-01-24T00:00:00",
          "2020-01-27T00:00:00",
          "2020-01-28T00:00:00",
          "2020-01-29T00:00:00",
          "2020-01-30T00:00:00",
          "2020-01-31T00:00:00",
          "2020-02-03T00:00:00",
          "2020-02-04T00:00:00",
          "2020-02-05T00:00:00",
          "2020-02-06T00:00:00",
          "2020-02-07T00:00:00",
          "2020-02-10T00:00:00",
          "2020-02-11T00:00:00",
          "2020-02-12T00:00:00",
          "2020-02-13T00:00:00",
          "2020-02-14T00:00:00",
          "2020-02-18T00:00:00",
          "2020-02-19T00:00:00",
          "2020-02-20T00:00:00",
          "2020-02-21T00:00:00",
          "2020-02-24T00:00:00",
          "2020-02-25T00:00:00",
          "2020-02-26T00:00:00",
          "2020-02-27T00:00:00",
          "2020-02-28T00:00:00",
          "2020-03-02T00:00:00",
          "2020-03-03T00:00:00",
          "2020-03-04T00:00:00",
          "2020-03-05T00:00:00",
          "2020-03-06T00:00:00",
          "2020-03-09T00:00:00",
          "2020-03-10T00:00:00",
          "2020-03-11T00:00:00",
          "2020-03-12T00:00:00",
          "2020-03-13T00:00:00",
          "2020-03-16T00:00:00",
          "2020-03-17T00:00:00",
          "2020-03-18T00:00:00",
          "2020-03-19T00:00:00",
          "2020-03-20T00:00:00",
          "2020-03-23T00:00:00",
          "2020-03-24T00:00:00",
          "2020-03-25T00:00:00",
          "2020-03-26T00:00:00",
          "2020-03-27T00:00:00",
          "2020-03-30T00:00:00",
          "2020-03-31T00:00:00",
          "2020-04-01T00:00:00",
          "2020-04-02T00:00:00",
          "2020-04-03T00:00:00",
          "2020-04-06T00:00:00",
          "2020-04-07T00:00:00",
          "2020-04-08T00:00:00",
          "2020-04-09T00:00:00",
          "2020-04-13T00:00:00",
          "2020-04-14T00:00:00",
          "2020-04-15T00:00:00",
          "2020-04-16T00:00:00",
          "2020-04-17T00:00:00",
          "2020-04-20T00:00:00",
          "2020-04-21T00:00:00",
          "2020-04-22T00:00:00",
          "2020-04-23T00:00:00",
          "2020-04-24T00:00:00",
          "2020-04-27T00:00:00",
          "2020-04-28T00:00:00",
          "2020-04-29T00:00:00",
          "2020-04-30T00:00:00",
          "2020-05-01T00:00:00",
          "2020-05-04T00:00:00",
          "2020-05-05T00:00:00",
          "2020-05-06T00:00:00",
          "2020-05-07T00:00:00",
          "2020-05-08T00:00:00",
          "2020-05-11T00:00:00",
          "2020-05-12T00:00:00",
          "2020-05-13T00:00:00",
          "2020-05-14T00:00:00",
          "2020-05-15T00:00:00",
          "2020-05-18T00:00:00",
          "2020-05-19T00:00:00",
          "2020-05-20T00:00:00",
          "2020-05-21T00:00:00",
          "2020-05-22T00:00:00",
          "2020-05-26T00:00:00",
          "2020-05-27T00:00:00",
          "2020-05-28T00:00:00",
          "2020-05-29T00:00:00",
          "2020-06-01T00:00:00",
          "2020-06-02T00:00:00",
          "2020-06-03T00:00:00",
          "2020-06-04T00:00:00",
          "2020-06-05T00:00:00",
          "2020-06-08T00:00:00",
          "2020-06-09T00:00:00",
          "2020-06-10T00:00:00",
          "2020-06-11T00:00:00",
          "2020-06-12T00:00:00",
          "2020-06-15T00:00:00",
          "2020-06-16T00:00:00",
          "2020-06-17T00:00:00",
          "2020-06-18T00:00:00",
          "2020-06-19T00:00:00",
          "2020-06-22T00:00:00",
          "2020-06-23T00:00:00",
          "2020-06-24T00:00:00",
          "2020-06-25T00:00:00",
          "2020-06-26T00:00:00",
          "2020-06-29T00:00:00",
          "2020-06-30T00:00:00",
          "2020-07-01T00:00:00",
          "2020-07-02T00:00:00",
          "2020-07-06T00:00:00",
          "2020-07-07T00:00:00",
          "2020-07-08T00:00:00",
          "2020-07-09T00:00:00",
          "2020-07-10T00:00:00",
          "2020-07-13T00:00:00",
          "2020-07-14T00:00:00",
          "2020-07-15T00:00:00",
          "2020-07-16T00:00:00",
          "2020-07-17T00:00:00",
          "2020-07-20T00:00:00",
          "2020-07-21T00:00:00",
          "2020-07-22T00:00:00",
          "2020-07-23T00:00:00",
          "2020-07-24T00:00:00",
          "2020-07-27T00:00:00",
          "2020-07-28T00:00:00",
          "2020-07-29T00:00:00",
          "2020-07-30T00:00:00",
          "2020-07-31T00:00:00",
          "2020-08-03T00:00:00",
          "2020-08-04T00:00:00",
          "2020-08-05T00:00:00",
          "2020-08-06T00:00:00",
          "2020-08-07T00:00:00",
          "2020-08-10T00:00:00",
          "2020-08-11T00:00:00",
          "2020-08-12T00:00:00",
          "2020-08-13T00:00:00",
          "2020-08-14T00:00:00",
          "2020-08-17T00:00:00",
          "2020-08-18T00:00:00",
          "2020-08-19T00:00:00",
          "2020-08-20T00:00:00",
          "2020-08-21T00:00:00",
          "2020-08-24T00:00:00",
          "2020-08-25T00:00:00",
          "2020-08-26T00:00:00",
          "2020-08-27T00:00:00",
          "2020-08-28T00:00:00",
          "2020-08-31T00:00:00",
          "2020-09-01T00:00:00",
          "2020-09-02T00:00:00",
          "2020-09-03T00:00:00",
          "2020-09-04T00:00:00",
          "2020-09-08T00:00:00",
          "2020-09-09T00:00:00",
          "2020-09-10T00:00:00",
          "2020-09-11T00:00:00",
          "2020-09-14T00:00:00",
          "2020-09-15T00:00:00",
          "2020-09-16T00:00:00",
          "2020-09-17T00:00:00",
          "2020-09-18T00:00:00",
          "2020-09-21T00:00:00",
          "2020-09-22T00:00:00",
          "2020-09-23T00:00:00",
          "2020-09-24T00:00:00",
          "2020-09-25T00:00:00",
          "2020-09-28T00:00:00",
          "2020-09-29T00:00:00",
          "2020-09-30T00:00:00",
          "2020-10-01T00:00:00",
          "2020-10-02T00:00:00",
          "2020-10-05T00:00:00",
          "2020-10-06T00:00:00",
          "2020-10-07T00:00:00",
          "2020-10-08T00:00:00",
          "2020-10-09T00:00:00",
          "2020-10-12T00:00:00",
          "2020-10-13T00:00:00",
          "2020-10-14T00:00:00",
          "2020-10-15T00:00:00",
          "2020-10-16T00:00:00",
          "2020-10-19T00:00:00",
          "2020-10-20T00:00:00",
          "2020-10-21T00:00:00",
          "2020-10-22T00:00:00",
          "2020-10-23T00:00:00",
          "2020-10-26T00:00:00",
          "2020-10-27T00:00:00",
          "2020-10-28T00:00:00",
          "2020-10-29T00:00:00",
          "2020-10-30T00:00:00",
          "2020-11-02T00:00:00",
          "2020-11-03T00:00:00",
          "2020-11-04T00:00:00",
          "2020-11-05T00:00:00",
          "2020-11-06T00:00:00",
          "2020-11-09T00:00:00",
          "2020-11-10T00:00:00",
          "2020-11-11T00:00:00",
          "2020-11-12T00:00:00",
          "2020-11-13T00:00:00",
          "2020-11-16T00:00:00"
         ],
         "xaxis": "x",
         "y": [
          19.23,
          18.89,
          18.13,
          17.78,
          17.98,
          18.4,
          19.14,
          20.26,
          20,
          20.24,
          21.01,
          20.62,
          20.94,
          21.97,
          21.47,
          21.12,
          22.74,
          22.36,
          20.55,
          20.99,
          20.51,
          20.38,
          20.87,
          20.05,
          19.88,
          23.24,
          23.65,
          21.35,
          19.01,
          19.05,
          19,
          18.91,
          18.92,
          18.54,
          18.23,
          18.59,
          23.76,
          29.16,
          26.16,
          25.93,
          29.88,
          27.91,
          27.49,
          28.01,
          29.61,
          24.29,
          22.34,
          23.61,
          22.3,
          21.3,
          26.49,
          28.18,
          31.58,
          28.27,
          28.2,
          26.57,
          25.82,
          27.13,
          27.94,
          30.05,
          30.48,
          29.95,
          29.67,
          33.2,
          34.84,
          34.64,
          32.02,
          32.42,
          31.86,
          32.9,
          34.66,
          37.25,
          40.6,
          46.85,
          51.69,
          49.26,
          51.2,
          47.44,
          50.5,
          48.05,
          47.88,
          46.37,
          45.99,
          47.93,
          50.5,
          49.34,
          48.95,
          53.19,
          59.25,
          66.9,
          62.35,
          65.18,
          64.56,
          66.69,
          80,
          71.67,
          73.47,
          67.05,
          69,
          57.71,
          52.18,
          55.54,
          61.5,
          62.18,
          59.87,
          59.89,
          60.59,
          58.19,
          59.1,
          58.23,
          60.07,
          60.2,
          62,
          66.57,
          64.34,
          63.31,
          64.95,
          66.35,
          64.75,
          62.94,
          64.84,
          62,
          61.28,
          62.08,
          64.21,
          61.59,
          58.57,
          59.15,
          61.09,
          61.58,
          64.97,
          62.61,
          71.78,
          75.04,
          80.22,
          81.81,
          94.85,
          82.68,
          80.86,
          83.23,
          75.33,
          73.21,
          79.91,
          81.49,
          79.51,
          77.63,
          74.1,
          77.98,
          78.46,
          75.8,
          73.76,
          74.1,
          72.01,
          68.97,
          69.52,
          67.83,
          69.15,
          69.76,
          67.03,
          68,
          67.81,
          66.45,
          64.88,
          66.25,
          70.5,
          68.03,
          67.49,
          64.89,
          63.32,
          64.72,
          64.84,
          62.6,
          54.34,
          56.9,
          57.56,
          59.34,
          63.67,
          66.88,
          68.84,
          67.89,
          69.87,
          69.26,
          68.72,
          67.16,
          65.17,
          69.47,
          70.55,
          70.52,
          70.75,
          70.03,
          68.81,
          71.95,
          71.04,
          72.37,
          72.93,
          73,
          75.31,
          78.29,
          76.56,
          75.58,
          73.94,
          70.96,
          71.31,
          68.37,
          70.84,
          70.53,
          70.24,
          70.67,
          65.74,
          71.28,
          67.47,
          67.11,
          69.08,
          69.81,
          71.48,
          72.45,
          77.74,
          76.05,
          82.44,
          87.81,
          89.39,
          97.95
         ],
         "yaxis": "y"
        },
        {
         "hovertemplate": "Companies=Novavax<br>Date=%{x}<br>Close=%{y}<extra></extra>",
         "legendgroup": "Novavax",
         "line": {
          "color": "#00cc96",
          "dash": "solid"
         },
         "mode": "lines",
         "name": "Novavax",
         "orientation": "v",
         "showlegend": true,
         "type": "scatter",
         "x": [
          "2020-01-02T00:00:00",
          "2020-01-03T00:00:00",
          "2020-01-06T00:00:00",
          "2020-01-07T00:00:00",
          "2020-01-08T00:00:00",
          "2020-01-09T00:00:00",
          "2020-01-10T00:00:00",
          "2020-01-13T00:00:00",
          "2020-01-14T00:00:00",
          "2020-01-15T00:00:00",
          "2020-01-16T00:00:00",
          "2020-01-17T00:00:00",
          "2020-01-21T00:00:00",
          "2020-01-22T00:00:00",
          "2020-01-23T00:00:00",
          "2020-01-24T00:00:00",
          "2020-01-27T00:00:00",
          "2020-01-28T00:00:00",
          "2020-01-29T00:00:00",
          "2020-01-30T00:00:00",
          "2020-01-31T00:00:00",
          "2020-02-03T00:00:00",
          "2020-02-04T00:00:00",
          "2020-02-05T00:00:00",
          "2020-02-06T00:00:00",
          "2020-02-07T00:00:00",
          "2020-02-10T00:00:00",
          "2020-02-11T00:00:00",
          "2020-02-12T00:00:00",
          "2020-02-13T00:00:00",
          "2020-02-14T00:00:00",
          "2020-02-18T00:00:00",
          "2020-02-19T00:00:00",
          "2020-02-20T00:00:00",
          "2020-02-21T00:00:00",
          "2020-02-24T00:00:00",
          "2020-02-25T00:00:00",
          "2020-02-26T00:00:00",
          "2020-02-27T00:00:00",
          "2020-02-28T00:00:00",
          "2020-03-02T00:00:00",
          "2020-03-03T00:00:00",
          "2020-03-04T00:00:00",
          "2020-03-05T00:00:00",
          "2020-03-06T00:00:00",
          "2020-03-09T00:00:00",
          "2020-03-10T00:00:00",
          "2020-03-11T00:00:00",
          "2020-03-12T00:00:00",
          "2020-03-13T00:00:00",
          "2020-03-16T00:00:00",
          "2020-03-17T00:00:00",
          "2020-03-18T00:00:00",
          "2020-03-19T00:00:00",
          "2020-03-20T00:00:00",
          "2020-03-23T00:00:00",
          "2020-03-24T00:00:00",
          "2020-03-25T00:00:00",
          "2020-03-26T00:00:00",
          "2020-03-27T00:00:00",
          "2020-03-30T00:00:00",
          "2020-03-31T00:00:00",
          "2020-04-01T00:00:00",
          "2020-04-02T00:00:00",
          "2020-04-03T00:00:00",
          "2020-04-06T00:00:00",
          "2020-04-07T00:00:00",
          "2020-04-08T00:00:00",
          "2020-04-09T00:00:00",
          "2020-04-13T00:00:00",
          "2020-04-14T00:00:00",
          "2020-04-15T00:00:00",
          "2020-04-16T00:00:00",
          "2020-04-17T00:00:00",
          "2020-04-20T00:00:00",
          "2020-04-21T00:00:00",
          "2020-04-22T00:00:00",
          "2020-04-23T00:00:00",
          "2020-04-24T00:00:00",
          "2020-04-27T00:00:00",
          "2020-04-28T00:00:00",
          "2020-04-29T00:00:00",
          "2020-04-30T00:00:00",
          "2020-05-01T00:00:00",
          "2020-05-04T00:00:00",
          "2020-05-05T00:00:00",
          "2020-05-06T00:00:00",
          "2020-05-07T00:00:00",
          "2020-05-08T00:00:00",
          "2020-05-11T00:00:00",
          "2020-05-12T00:00:00",
          "2020-05-13T00:00:00",
          "2020-05-14T00:00:00",
          "2020-05-15T00:00:00",
          "2020-05-18T00:00:00",
          "2020-05-19T00:00:00",
          "2020-05-20T00:00:00",
          "2020-05-21T00:00:00",
          "2020-05-22T00:00:00",
          "2020-05-26T00:00:00",
          "2020-05-27T00:00:00",
          "2020-05-28T00:00:00",
          "2020-05-29T00:00:00",
          "2020-06-01T00:00:00",
          "2020-06-02T00:00:00",
          "2020-06-03T00:00:00",
          "2020-06-04T00:00:00",
          "2020-06-05T00:00:00",
          "2020-06-08T00:00:00",
          "2020-06-09T00:00:00",
          "2020-06-10T00:00:00",
          "2020-06-11T00:00:00",
          "2020-06-12T00:00:00",
          "2020-06-15T00:00:00",
          "2020-06-16T00:00:00",
          "2020-06-17T00:00:00",
          "2020-06-18T00:00:00",
          "2020-06-19T00:00:00",
          "2020-06-22T00:00:00",
          "2020-06-23T00:00:00",
          "2020-06-24T00:00:00",
          "2020-06-25T00:00:00",
          "2020-06-26T00:00:00",
          "2020-06-29T00:00:00",
          "2020-06-30T00:00:00",
          "2020-07-01T00:00:00",
          "2020-07-02T00:00:00",
          "2020-07-06T00:00:00",
          "2020-07-07T00:00:00",
          "2020-07-08T00:00:00",
          "2020-07-09T00:00:00",
          "2020-07-10T00:00:00",
          "2020-07-13T00:00:00",
          "2020-07-14T00:00:00",
          "2020-07-15T00:00:00",
          "2020-07-16T00:00:00",
          "2020-07-17T00:00:00",
          "2020-07-20T00:00:00",
          "2020-07-21T00:00:00",
          "2020-07-22T00:00:00",
          "2020-07-23T00:00:00",
          "2020-07-24T00:00:00",
          "2020-07-27T00:00:00",
          "2020-07-28T00:00:00",
          "2020-07-29T00:00:00",
          "2020-07-30T00:00:00",
          "2020-07-31T00:00:00",
          "2020-08-03T00:00:00",
          "2020-08-04T00:00:00",
          "2020-08-05T00:00:00",
          "2020-08-06T00:00:00",
          "2020-08-07T00:00:00",
          "2020-08-10T00:00:00",
          "2020-08-11T00:00:00",
          "2020-08-12T00:00:00",
          "2020-08-13T00:00:00",
          "2020-08-14T00:00:00",
          "2020-08-17T00:00:00",
          "2020-08-18T00:00:00",
          "2020-08-19T00:00:00",
          "2020-08-20T00:00:00",
          "2020-08-21T00:00:00",
          "2020-08-24T00:00:00",
          "2020-08-25T00:00:00",
          "2020-08-26T00:00:00",
          "2020-08-27T00:00:00",
          "2020-08-28T00:00:00",
          "2020-08-31T00:00:00",
          "2020-09-01T00:00:00",
          "2020-09-02T00:00:00",
          "2020-09-03T00:00:00",
          "2020-09-04T00:00:00",
          "2020-09-08T00:00:00",
          "2020-09-09T00:00:00",
          "2020-09-10T00:00:00",
          "2020-09-11T00:00:00",
          "2020-09-14T00:00:00",
          "2020-09-15T00:00:00",
          "2020-09-16T00:00:00",
          "2020-09-17T00:00:00",
          "2020-09-18T00:00:00",
          "2020-09-21T00:00:00",
          "2020-09-22T00:00:00",
          "2020-09-23T00:00:00",
          "2020-09-24T00:00:00",
          "2020-09-25T00:00:00",
          "2020-09-28T00:00:00",
          "2020-09-29T00:00:00",
          "2020-09-30T00:00:00",
          "2020-10-01T00:00:00",
          "2020-10-02T00:00:00",
          "2020-10-05T00:00:00",
          "2020-10-06T00:00:00",
          "2020-10-07T00:00:00",
          "2020-10-08T00:00:00",
          "2020-10-09T00:00:00",
          "2020-10-12T00:00:00",
          "2020-10-13T00:00:00",
          "2020-10-14T00:00:00",
          "2020-10-15T00:00:00",
          "2020-10-16T00:00:00",
          "2020-10-19T00:00:00",
          "2020-10-20T00:00:00",
          "2020-10-21T00:00:00",
          "2020-10-22T00:00:00",
          "2020-10-23T00:00:00",
          "2020-10-26T00:00:00",
          "2020-10-27T00:00:00",
          "2020-10-28T00:00:00",
          "2020-10-29T00:00:00",
          "2020-10-30T00:00:00",
          "2020-11-02T00:00:00",
          "2020-11-03T00:00:00",
          "2020-11-04T00:00:00",
          "2020-11-05T00:00:00",
          "2020-11-06T00:00:00",
          "2020-11-09T00:00:00",
          "2020-11-10T00:00:00",
          "2020-11-11T00:00:00",
          "2020-11-12T00:00:00",
          "2020-11-13T00:00:00",
          "2020-11-16T00:00:00"
         ],
         "xaxis": "x",
         "y": [
          4.49,
          4.44,
          4.58,
          4.57,
          4.28,
          4.01,
          3.93,
          3.95,
          3.99,
          4.38,
          4.78,
          5.74,
          9.82,
          7.09,
          7.66,
          7.8,
          8.5,
          7.17,
          6.84,
          7,
          7.62,
          6.81,
          7.01,
          6.97,
          6.84,
          6.31,
          7.02,
          7.21,
          7.31,
          7.79,
          7.68,
          7.99,
          7.95,
          7.94,
          7.72,
          8.16,
          7.95,
          9.22,
          11.8,
          16,
          12.02,
          10.78,
          11.32,
          12.87,
          12.48,
          10.02,
          10.65,
          10.51,
          9.29,
          8.41,
          6.91,
          9.5,
          10.65,
          11.58,
          10.35,
          10.76,
          12.77,
          11.75,
          12.74,
          13.05,
          14.3,
          13.58,
          14.03,
          13.86,
          15.61,
          16.1,
          14.9,
          17.18,
          17.05,
          17.64,
          18,
          17.53,
          18.1,
          19.08,
          23.8,
          21.53,
          21.37,
          20.38,
          19.83,
          21.01,
          20.55,
          18.41,
          18.13,
          17.33,
          18.06,
          17.78,
          17.14,
          18.15,
          18.73,
          24.5,
          39.82,
          40.67,
          38.3,
          43.63,
          56.96,
          53.9,
          52.81,
          50.07,
          46.11,
          48.17,
          45.47,
          44.84,
          46.04,
          52.82,
          49.64,
          44.25,
          44.66,
          46.3,
          44.79,
          45.93,
          44.96,
          44.43,
          45.57,
          51.07,
          52.15,
          55.41,
          59.27,
          64.75,
          65.95,
          69.66,
          77.5,
          83.54,
          77.39,
          83.61,
          83.35,
          79.7,
          81.64,
          79.44,
          104.56,
          98.3,
          96.3,
          94.36,
          104.32,
          109.97,
          111.15,
          120.29,
          140.49,
          138.23,
          140.69,
          146.45,
          139.59,
          133.93,
          139.6,
          148.6,
          145.36,
          146.62,
          143.1,
          155.87,
          157.17,
          173.49,
          167.5,
          170.29,
          178.51,
          149.48,
          124.42,
          133.28,
          146.51,
          155.53,
          146.23,
          147.06,
          143.13,
          137.62,
          119.26,
          113.11,
          114.62,
          107.35,
          107.74,
          110.34,
          105.08,
          102.9,
          102.98,
          92.93,
          85.31,
          90.84,
          92.86,
          95.45,
          105.8,
          110.34,
          120.13,
          115.51,
          108.36,
          110.15,
          111.63,
          101.57,
          102.44,
          113.56,
          111.18,
          107.95,
          108.35,
          104.9,
          103.6,
          110.17,
          107.41,
          110,
          111.02,
          111.22,
          110.22,
          117.28,
          111.76,
          111.42,
          107.04,
          102.05,
          98.36,
          91.16,
          93.59,
          93.13,
          87.38,
          89.59,
          81.33,
          87.63,
          80.71,
          82.4,
          83.64,
          87.27,
          93.11,
          89.86,
          90.31,
          78.74,
          85.01,
          90.87,
          96.6,
          90.65
         ],
         "yaxis": "y"
        },
        {
         "hovertemplate": "Companies=Pfizer<br>Date=%{x}<br>Close=%{y}<extra></extra>",
         "legendgroup": "Pfizer",
         "line": {
          "color": "#ab63fa",
          "dash": "solid"
         },
         "mode": "lines",
         "name": "Pfizer",
         "orientation": "v",
         "showlegend": true,
         "type": "scatter",
         "x": [
          "2020-01-02T00:00:00",
          "2020-01-03T00:00:00",
          "2020-01-06T00:00:00",
          "2020-01-07T00:00:00",
          "2020-01-08T00:00:00",
          "2020-01-09T00:00:00",
          "2020-01-10T00:00:00",
          "2020-01-13T00:00:00",
          "2020-01-14T00:00:00",
          "2020-01-15T00:00:00",
          "2020-01-16T00:00:00",
          "2020-01-17T00:00:00",
          "2020-01-21T00:00:00",
          "2020-01-22T00:00:00",
          "2020-01-23T00:00:00",
          "2020-01-24T00:00:00",
          "2020-01-27T00:00:00",
          "2020-01-28T00:00:00",
          "2020-01-29T00:00:00",
          "2020-01-30T00:00:00",
          "2020-01-31T00:00:00",
          "2020-02-03T00:00:00",
          "2020-02-04T00:00:00",
          "2020-02-05T00:00:00",
          "2020-02-06T00:00:00",
          "2020-02-07T00:00:00",
          "2020-02-10T00:00:00",
          "2020-02-11T00:00:00",
          "2020-02-12T00:00:00",
          "2020-02-13T00:00:00",
          "2020-02-14T00:00:00",
          "2020-02-18T00:00:00",
          "2020-02-19T00:00:00",
          "2020-02-20T00:00:00",
          "2020-02-21T00:00:00",
          "2020-02-24T00:00:00",
          "2020-02-25T00:00:00",
          "2020-02-26T00:00:00",
          "2020-02-27T00:00:00",
          "2020-02-28T00:00:00",
          "2020-03-02T00:00:00",
          "2020-03-03T00:00:00",
          "2020-03-04T00:00:00",
          "2020-03-05T00:00:00",
          "2020-03-06T00:00:00",
          "2020-03-09T00:00:00",
          "2020-03-10T00:00:00",
          "2020-03-11T00:00:00",
          "2020-03-12T00:00:00",
          "2020-03-13T00:00:00",
          "2020-03-16T00:00:00",
          "2020-03-17T00:00:00",
          "2020-03-18T00:00:00",
          "2020-03-19T00:00:00",
          "2020-03-20T00:00:00",
          "2020-03-23T00:00:00",
          "2020-03-24T00:00:00",
          "2020-03-25T00:00:00",
          "2020-03-26T00:00:00",
          "2020-03-27T00:00:00",
          "2020-03-30T00:00:00",
          "2020-03-31T00:00:00",
          "2020-04-01T00:00:00",
          "2020-04-02T00:00:00",
          "2020-04-03T00:00:00",
          "2020-04-06T00:00:00",
          "2020-04-07T00:00:00",
          "2020-04-08T00:00:00",
          "2020-04-09T00:00:00",
          "2020-04-13T00:00:00",
          "2020-04-14T00:00:00",
          "2020-04-15T00:00:00",
          "2020-04-16T00:00:00",
          "2020-04-17T00:00:00",
          "2020-04-20T00:00:00",
          "2020-04-21T00:00:00",
          "2020-04-22T00:00:00",
          "2020-04-23T00:00:00",
          "2020-04-24T00:00:00",
          "2020-04-27T00:00:00",
          "2020-04-28T00:00:00",
          "2020-04-29T00:00:00",
          "2020-04-30T00:00:00",
          "2020-05-01T00:00:00",
          "2020-05-04T00:00:00",
          "2020-05-05T00:00:00",
          "2020-05-06T00:00:00",
          "2020-05-07T00:00:00",
          "2020-05-08T00:00:00",
          "2020-05-11T00:00:00",
          "2020-05-12T00:00:00",
          "2020-05-13T00:00:00",
          "2020-05-14T00:00:00",
          "2020-05-15T00:00:00",
          "2020-05-18T00:00:00",
          "2020-05-19T00:00:00",
          "2020-05-20T00:00:00",
          "2020-05-21T00:00:00",
          "2020-05-22T00:00:00",
          "2020-05-26T00:00:00",
          "2020-05-27T00:00:00",
          "2020-05-28T00:00:00",
          "2020-05-29T00:00:00",
          "2020-06-01T00:00:00",
          "2020-06-02T00:00:00",
          "2020-06-03T00:00:00",
          "2020-06-04T00:00:00",
          "2020-06-05T00:00:00",
          "2020-06-08T00:00:00",
          "2020-06-09T00:00:00",
          "2020-06-10T00:00:00",
          "2020-06-11T00:00:00",
          "2020-06-12T00:00:00",
          "2020-06-15T00:00:00",
          "2020-06-16T00:00:00",
          "2020-06-17T00:00:00",
          "2020-06-18T00:00:00",
          "2020-06-19T00:00:00",
          "2020-06-22T00:00:00",
          "2020-06-23T00:00:00",
          "2020-06-24T00:00:00",
          "2020-06-25T00:00:00",
          "2020-06-26T00:00:00",
          "2020-06-29T00:00:00",
          "2020-06-30T00:00:00",
          "2020-07-01T00:00:00",
          "2020-07-02T00:00:00",
          "2020-07-06T00:00:00",
          "2020-07-07T00:00:00",
          "2020-07-08T00:00:00",
          "2020-07-09T00:00:00",
          "2020-07-10T00:00:00",
          "2020-07-13T00:00:00",
          "2020-07-14T00:00:00",
          "2020-07-15T00:00:00",
          "2020-07-16T00:00:00",
          "2020-07-17T00:00:00",
          "2020-07-20T00:00:00",
          "2020-07-21T00:00:00",
          "2020-07-22T00:00:00",
          "2020-07-23T00:00:00",
          "2020-07-24T00:00:00",
          "2020-07-27T00:00:00",
          "2020-07-28T00:00:00",
          "2020-07-29T00:00:00",
          "2020-07-30T00:00:00",
          "2020-07-31T00:00:00",
          "2020-08-03T00:00:00",
          "2020-08-04T00:00:00",
          "2020-08-05T00:00:00",
          "2020-08-06T00:00:00",
          "2020-08-07T00:00:00",
          "2020-08-10T00:00:00",
          "2020-08-11T00:00:00",
          "2020-08-12T00:00:00",
          "2020-08-13T00:00:00",
          "2020-08-14T00:00:00",
          "2020-08-17T00:00:00",
          "2020-08-18T00:00:00",
          "2020-08-19T00:00:00",
          "2020-08-20T00:00:00",
          "2020-08-21T00:00:00",
          "2020-08-24T00:00:00",
          "2020-08-25T00:00:00",
          "2020-08-26T00:00:00",
          "2020-08-27T00:00:00",
          "2020-08-28T00:00:00",
          "2020-08-31T00:00:00",
          "2020-09-01T00:00:00",
          "2020-09-02T00:00:00",
          "2020-09-03T00:00:00",
          "2020-09-04T00:00:00",
          "2020-09-08T00:00:00",
          "2020-09-09T00:00:00",
          "2020-09-10T00:00:00",
          "2020-09-11T00:00:00",
          "2020-09-14T00:00:00",
          "2020-09-15T00:00:00",
          "2020-09-16T00:00:00",
          "2020-09-17T00:00:00",
          "2020-09-18T00:00:00",
          "2020-09-21T00:00:00",
          "2020-09-22T00:00:00",
          "2020-09-23T00:00:00",
          "2020-09-24T00:00:00",
          "2020-09-25T00:00:00",
          "2020-09-28T00:00:00",
          "2020-09-29T00:00:00",
          "2020-09-30T00:00:00",
          "2020-10-01T00:00:00",
          "2020-10-02T00:00:00",
          "2020-10-05T00:00:00",
          "2020-10-06T00:00:00",
          "2020-10-07T00:00:00",
          "2020-10-08T00:00:00",
          "2020-10-09T00:00:00",
          "2020-10-12T00:00:00",
          "2020-10-13T00:00:00",
          "2020-10-14T00:00:00",
          "2020-10-15T00:00:00",
          "2020-10-16T00:00:00",
          "2020-10-19T00:00:00",
          "2020-10-20T00:00:00",
          "2020-10-21T00:00:00",
          "2020-10-22T00:00:00",
          "2020-10-23T00:00:00",
          "2020-10-26T00:00:00",
          "2020-10-27T00:00:00",
          "2020-10-28T00:00:00",
          "2020-10-29T00:00:00",
          "2020-10-30T00:00:00",
          "2020-11-02T00:00:00",
          "2020-11-03T00:00:00",
          "2020-11-04T00:00:00",
          "2020-11-05T00:00:00",
          "2020-11-06T00:00:00",
          "2020-11-09T00:00:00",
          "2020-11-10T00:00:00",
          "2020-11-11T00:00:00",
          "2020-11-12T00:00:00",
          "2020-11-13T00:00:00",
          "2020-11-16T00:00:00"
         ],
         "xaxis": "x",
         "y": [
          39.11602,
          38.90504,
          38.8523,
          38.72571,
          39.03163,
          38.86285,
          39.46414,
          39.37975,
          40.044340000000005,
          40.64564,
          40.58235,
          40.48741,
          40.31862,
          40.160379999999996,
          40.68784,
          39.79117,
          40.12874,
          38.113859999999995,
          37.554759999999995,
          37.0484,
          37.21719,
          37.480909999999994,
          37.6708,
          38.145509999999994,
          38.24045,
          38.02947,
          37.786840000000005,
          38.06111,
          37.712990000000005,
          36.91126,
          36.4893,
          36.29942,
          36.20447,
          35.824709999999996,
          35.69812,
          34.643209999999996,
          33.90477,
          34.69595,
          34.07356,
          33.39842,
          34.85419,
          34.273990000000005,
          36.373259999999995,
          35.43439,
          35.00188,
          33.73599,
          34.56937,
          32.153620000000004,
          30.00161,
          32.691629999999996,
          30.15985,
          32.14307,
          32.343509999999995,
          30.40247,
          28.9889,
          28.47199,
          29.685140000000004,
          29.72733,
          31.731659999999998,
          30.87718,
          32.649429999999995,
          32.617779999999996,
          31.731659999999998,
          32.84986,
          33.61995,
          34.54827,
          33.5883,
          34.57991,
          35.3711,
          35.11792,
          36.415459999999996,
          35.9513,
          35.85635,
          36.89017,
          36.05679,
          35.59263,
          36.225570000000005,
          36.66863,
          37.35433,
          38.303740000000005,
          37.88178,
          38.09276,
          38.335390000000004,
          37.61805,
          37.59695,
          38.48308,
          38.48308,
          36.932359999999996,
          37.196090000000005,
          38.071659999999994,
          37.33323,
          37.0273,
          37.89233,
          37.73409,
          38.05057,
          37.66025,
          37.6075,
          37.23829,
          37.480909999999994,
          37.47037,
          37.38597,
          38.15606,
          38.16661,
          35.43439,
          36.14118,
          36.14118,
          35.98294,
          35.96185,
          36.563140000000004,
          36.18338,
          35.89855,
          33.282379999999996,
          33.72544,
          33.33512,
          33.377320000000005,
          33.53555,
          33.21908,
          33.39842,
          33.092490000000005,
          32.74437,
          32.16417,
          32.30131,
          32.016490000000005,
          32.617779999999996,
          32.68108,
          33.714890000000004,
          34.484970000000004,
          34.484970000000004,
          34.010259999999995,
          33.72544,
          33.44061,
          33.80983,
          35.191759999999995,
          35.20231,
          35.69812,
          35.58208,
          36.225570000000005,
          36.47875,
          36.66863,
          38.53582,
          38.38814,
          37.63915,
          37.51256,
          38.98943,
          39.23206,
          38.71516,
          38.45143,
          38.32484,
          38.36704,
          38.419779999999996,
          38.24045,
          38.419779999999996,
          38.36704,
          37.76574,
          38.303740000000005,
          38.145509999999994,
          38.04002,
          38.32484,
          38.335390000000004,
          38.24045,
          38.69406,
          38.8523,
          38.8101,
          38.38814,
          38.02947,
          37.83958,
          37.88178,
          37.76574,
          36.85852,
          37.17499,
          36.373259999999995,
          36.341609999999996,
          35.9091,
          36.15173,
          35.62427,
          36.046240000000004,
          36.98511,
          36.932359999999996,
          36.753029999999995,
          36.79522,
          36.605340000000005,
          35.99349,
          36.225570000000005,
          35.972390000000004,
          35.74031,
          36.02514,
          36.36271,
          36.15173,
          36.67918,
          36.341609999999996,
          36.35216,
          36.721379999999996,
          36.15173,
          36.4471,
          36.86907,
          36.76358,
          36.79522,
          36.87962,
          36.83742,
          36.5315,
          37.92398,
          37.77629,
          37.47037,
          37.05895,
          37.407070000000004,
          38.15606,
          37.89233,
          37.407070000000004,
          35.423840000000006,
          35.25506,
          35.455490000000005,
          36.20447,
          36.162279999999996,
          37.30158,
          36.36271,
          36.373259999999995,
          39.179320000000004,
          38.65186,
          38.47253,
          37.523109999999996,
          38.59912,
          37.30158
         ],
         "yaxis": "y"
        }
       ],
       "layout": {
        "autosize": true,
        "legend": {
         "title": {
          "text": "Companies"
         },
         "tracegroupgap": 0
        },
        "template": {
         "data": {
          "bar": [
           {
            "error_x": {
             "color": "#2a3f5f"
            },
            "error_y": {
             "color": "#2a3f5f"
            },
            "marker": {
             "line": {
              "color": "#E5ECF6",
              "width": 0.5
             }
            },
            "type": "bar"
           }
          ],
          "barpolar": [
           {
            "marker": {
             "line": {
              "color": "#E5ECF6",
              "width": 0.5
             }
            },
            "type": "barpolar"
           }
          ],
          "carpet": [
           {
            "aaxis": {
             "endlinecolor": "#2a3f5f",
             "gridcolor": "white",
             "linecolor": "white",
             "minorgridcolor": "white",
             "startlinecolor": "#2a3f5f"
            },
            "baxis": {
             "endlinecolor": "#2a3f5f",
             "gridcolor": "white",
             "linecolor": "white",
             "minorgridcolor": "white",
             "startlinecolor": "#2a3f5f"
            },
            "type": "carpet"
           }
          ],
          "choropleth": [
           {
            "colorbar": {
             "outlinewidth": 0,
             "ticks": ""
            },
            "type": "choropleth"
           }
          ],
          "contour": [
           {
            "colorbar": {
             "outlinewidth": 0,
             "ticks": ""
            },
            "colorscale": [
             [
              0,
              "#0d0887"
             ],
             [
              0.1111111111111111,
              "#46039f"
             ],
             [
              0.2222222222222222,
              "#7201a8"
             ],
             [
              0.3333333333333333,
              "#9c179e"
             ],
             [
              0.4444444444444444,
              "#bd3786"
             ],
             [
              0.5555555555555556,
              "#d8576b"
             ],
             [
              0.6666666666666666,
              "#ed7953"
             ],
             [
              0.7777777777777778,
              "#fb9f3a"
             ],
             [
              0.8888888888888888,
              "#fdca26"
             ],
             [
              1,
              "#f0f921"
             ]
            ],
            "type": "contour"
           }
          ],
          "contourcarpet": [
           {
            "colorbar": {
             "outlinewidth": 0,
             "ticks": ""
            },
            "type": "contourcarpet"
           }
          ],
          "heatmap": [
           {
            "colorbar": {
             "outlinewidth": 0,
             "ticks": ""
            },
            "colorscale": [
             [
              0,
              "#0d0887"
             ],
             [
              0.1111111111111111,
              "#46039f"
             ],
             [
              0.2222222222222222,
              "#7201a8"
             ],
             [
              0.3333333333333333,
              "#9c179e"
             ],
             [
              0.4444444444444444,
              "#bd3786"
             ],
             [
              0.5555555555555556,
              "#d8576b"
             ],
             [
              0.6666666666666666,
              "#ed7953"
             ],
             [
              0.7777777777777778,
              "#fb9f3a"
             ],
             [
              0.8888888888888888,
              "#fdca26"
             ],
             [
              1,
              "#f0f921"
             ]
            ],
            "type": "heatmap"
           }
          ],
          "heatmapgl": [
           {
            "colorbar": {
             "outlinewidth": 0,
             "ticks": ""
            },
            "colorscale": [
             [
              0,
              "#0d0887"
             ],
             [
              0.1111111111111111,
              "#46039f"
             ],
             [
              0.2222222222222222,
              "#7201a8"
             ],
             [
              0.3333333333333333,
              "#9c179e"
             ],
             [
              0.4444444444444444,
              "#bd3786"
             ],
             [
              0.5555555555555556,
              "#d8576b"
             ],
             [
              0.6666666666666666,
              "#ed7953"
             ],
             [
              0.7777777777777778,
              "#fb9f3a"
             ],
             [
              0.8888888888888888,
              "#fdca26"
             ],
             [
              1,
              "#f0f921"
             ]
            ],
            "type": "heatmapgl"
           }
          ],
          "histogram": [
           {
            "marker": {
             "colorbar": {
              "outlinewidth": 0,
              "ticks": ""
             }
            },
            "type": "histogram"
           }
          ],
          "histogram2d": [
           {
            "colorbar": {
             "outlinewidth": 0,
             "ticks": ""
            },
            "colorscale": [
             [
              0,
              "#0d0887"
             ],
             [
              0.1111111111111111,
              "#46039f"
             ],
             [
              0.2222222222222222,
              "#7201a8"
             ],
             [
              0.3333333333333333,
              "#9c179e"
             ],
             [
              0.4444444444444444,
              "#bd3786"
             ],
             [
              0.5555555555555556,
              "#d8576b"
             ],
             [
              0.6666666666666666,
              "#ed7953"
             ],
             [
              0.7777777777777778,
              "#fb9f3a"
             ],
             [
              0.8888888888888888,
              "#fdca26"
             ],
             [
              1,
              "#f0f921"
             ]
            ],
            "type": "histogram2d"
           }
          ],
          "histogram2dcontour": [
           {
            "colorbar": {
             "outlinewidth": 0,
             "ticks": ""
            },
            "colorscale": [
             [
              0,
              "#0d0887"
             ],
             [
              0.1111111111111111,
              "#46039f"
             ],
             [
              0.2222222222222222,
              "#7201a8"
             ],
             [
              0.3333333333333333,
              "#9c179e"
             ],
             [
              0.4444444444444444,
              "#bd3786"
             ],
             [
              0.5555555555555556,
              "#d8576b"
             ],
             [
              0.6666666666666666,
              "#ed7953"
             ],
             [
              0.7777777777777778,
              "#fb9f3a"
             ],
             [
              0.8888888888888888,
              "#fdca26"
             ],
             [
              1,
              "#f0f921"
             ]
            ],
            "type": "histogram2dcontour"
           }
          ],
          "mesh3d": [
           {
            "colorbar": {
             "outlinewidth": 0,
             "ticks": ""
            },
            "type": "mesh3d"
           }
          ],
          "parcoords": [
           {
            "line": {
             "colorbar": {
              "outlinewidth": 0,
              "ticks": ""
             }
            },
            "type": "parcoords"
           }
          ],
          "pie": [
           {
            "automargin": true,
            "type": "pie"
           }
          ],
          "scatter": [
           {
            "marker": {
             "colorbar": {
              "outlinewidth": 0,
              "ticks": ""
             }
            },
            "type": "scatter"
           }
          ],
          "scatter3d": [
           {
            "line": {
             "colorbar": {
              "outlinewidth": 0,
              "ticks": ""
             }
            },
            "marker": {
             "colorbar": {
              "outlinewidth": 0,
              "ticks": ""
             }
            },
            "type": "scatter3d"
           }
          ],
          "scattercarpet": [
           {
            "marker": {
             "colorbar": {
              "outlinewidth": 0,
              "ticks": ""
             }
            },
            "type": "scattercarpet"
           }
          ],
          "scattergeo": [
           {
            "marker": {
             "colorbar": {
              "outlinewidth": 0,
              "ticks": ""
             }
            },
            "type": "scattergeo"
           }
          ],
          "scattergl": [
           {
            "marker": {
             "colorbar": {
              "outlinewidth": 0,
              "ticks": ""
             }
            },
            "type": "scattergl"
           }
          ],
          "scattermapbox": [
           {
            "marker": {
             "colorbar": {
              "outlinewidth": 0,
              "ticks": ""
             }
            },
            "type": "scattermapbox"
           }
          ],
          "scatterpolar": [
           {
            "marker": {
             "colorbar": {
              "outlinewidth": 0,
              "ticks": ""
             }
            },
            "type": "scatterpolar"
           }
          ],
          "scatterpolargl": [
           {
            "marker": {
             "colorbar": {
              "outlinewidth": 0,
              "ticks": ""
             }
            },
            "type": "scatterpolargl"
           }
          ],
          "scatterternary": [
           {
            "marker": {
             "colorbar": {
              "outlinewidth": 0,
              "ticks": ""
             }
            },
            "type": "scatterternary"
           }
          ],
          "surface": [
           {
            "colorbar": {
             "outlinewidth": 0,
             "ticks": ""
            },
            "colorscale": [
             [
              0,
              "#0d0887"
             ],
             [
              0.1111111111111111,
              "#46039f"
             ],
             [
              0.2222222222222222,
              "#7201a8"
             ],
             [
              0.3333333333333333,
              "#9c179e"
             ],
             [
              0.4444444444444444,
              "#bd3786"
             ],
             [
              0.5555555555555556,
              "#d8576b"
             ],
             [
              0.6666666666666666,
              "#ed7953"
             ],
             [
              0.7777777777777778,
              "#fb9f3a"
             ],
             [
              0.8888888888888888,
              "#fdca26"
             ],
             [
              1,
              "#f0f921"
             ]
            ],
            "type": "surface"
           }
          ],
          "table": [
           {
            "cells": {
             "fill": {
              "color": "#EBF0F8"
             },
             "line": {
              "color": "white"
             }
            },
            "header": {
             "fill": {
              "color": "#C8D4E3"
             },
             "line": {
              "color": "white"
             }
            },
            "type": "table"
           }
          ]
         },
         "layout": {
          "annotationdefaults": {
           "arrowcolor": "#2a3f5f",
           "arrowhead": 0,
           "arrowwidth": 1
          },
          "coloraxis": {
           "colorbar": {
            "outlinewidth": 0,
            "ticks": ""
           }
          },
          "colorscale": {
           "diverging": [
            [
             0,
             "#8e0152"
            ],
            [
             0.1,
             "#c51b7d"
            ],
            [
             0.2,
             "#de77ae"
            ],
            [
             0.3,
             "#f1b6da"
            ],
            [
             0.4,
             "#fde0ef"
            ],
            [
             0.5,
             "#f7f7f7"
            ],
            [
             0.6,
             "#e6f5d0"
            ],
            [
             0.7,
             "#b8e186"
            ],
            [
             0.8,
             "#7fbc41"
            ],
            [
             0.9,
             "#4d9221"
            ],
            [
             1,
             "#276419"
            ]
           ],
           "sequential": [
            [
             0,
             "#0d0887"
            ],
            [
             0.1111111111111111,
             "#46039f"
            ],
            [
             0.2222222222222222,
             "#7201a8"
            ],
            [
             0.3333333333333333,
             "#9c179e"
            ],
            [
             0.4444444444444444,
             "#bd3786"
            ],
            [
             0.5555555555555556,
             "#d8576b"
            ],
            [
             0.6666666666666666,
             "#ed7953"
            ],
            [
             0.7777777777777778,
             "#fb9f3a"
            ],
            [
             0.8888888888888888,
             "#fdca26"
            ],
            [
             1,
             "#f0f921"
            ]
           ],
           "sequentialminus": [
            [
             0,
             "#0d0887"
            ],
            [
             0.1111111111111111,
             "#46039f"
            ],
            [
             0.2222222222222222,
             "#7201a8"
            ],
            [
             0.3333333333333333,
             "#9c179e"
            ],
            [
             0.4444444444444444,
             "#bd3786"
            ],
            [
             0.5555555555555556,
             "#d8576b"
            ],
            [
             0.6666666666666666,
             "#ed7953"
            ],
            [
             0.7777777777777778,
             "#fb9f3a"
            ],
            [
             0.8888888888888888,
             "#fdca26"
            ],
            [
             1,
             "#f0f921"
            ]
           ]
          },
          "colorway": [
           "#636efa",
           "#EF553B",
           "#00cc96",
           "#ab63fa",
           "#FFA15A",
           "#19d3f3",
           "#FF6692",
           "#B6E880",
           "#FF97FF",
           "#FECB52"
          ],
          "font": {
           "color": "#2a3f5f"
          },
          "geo": {
           "bgcolor": "white",
           "lakecolor": "white",
           "landcolor": "#E5ECF6",
           "showlakes": true,
           "showland": true,
           "subunitcolor": "white"
          },
          "hoverlabel": {
           "align": "left"
          },
          "hovermode": "closest",
          "mapbox": {
           "style": "light"
          },
          "paper_bgcolor": "white",
          "plot_bgcolor": "#E5ECF6",
          "polar": {
           "angularaxis": {
            "gridcolor": "white",
            "linecolor": "white",
            "ticks": ""
           },
           "bgcolor": "#E5ECF6",
           "radialaxis": {
            "gridcolor": "white",
            "linecolor": "white",
            "ticks": ""
           }
          },
          "scene": {
           "xaxis": {
            "backgroundcolor": "#E5ECF6",
            "gridcolor": "white",
            "gridwidth": 2,
            "linecolor": "white",
            "showbackground": true,
            "ticks": "",
            "zerolinecolor": "white"
           },
           "yaxis": {
            "backgroundcolor": "#E5ECF6",
            "gridcolor": "white",
            "gridwidth": 2,
            "linecolor": "white",
            "showbackground": true,
            "ticks": "",
            "zerolinecolor": "white"
           },
           "zaxis": {
            "backgroundcolor": "#E5ECF6",
            "gridcolor": "white",
            "gridwidth": 2,
            "linecolor": "white",
            "showbackground": true,
            "ticks": "",
            "zerolinecolor": "white"
           }
          },
          "shapedefaults": {
           "line": {
            "color": "#2a3f5f"
           }
          },
          "ternary": {
           "aaxis": {
            "gridcolor": "white",
            "linecolor": "white",
            "ticks": ""
           },
           "baxis": {
            "gridcolor": "white",
            "linecolor": "white",
            "ticks": ""
           },
           "bgcolor": "#E5ECF6",
           "caxis": {
            "gridcolor": "white",
            "linecolor": "white",
            "ticks": ""
           }
          },
          "title": {
           "x": 0.05
          },
          "xaxis": {
           "automargin": true,
           "gridcolor": "white",
           "linecolor": "white",
           "ticks": "",
           "title": {
            "standoff": 15
           },
           "zerolinecolor": "white",
           "zerolinewidth": 2
          },
          "yaxis": {
           "automargin": true,
           "gridcolor": "white",
           "linecolor": "white",
           "ticks": "",
           "title": {
            "standoff": 15
           },
           "zerolinecolor": "white",
           "zerolinewidth": 2
          }
         }
        },
        "title": {
         "text": "Pharmaceutical Stocks"
        },
        "xaxis": {
         "anchor": "y",
         "autorange": true,
         "domain": [
          0,
          1
         ],
         "range": [
          "2020-01-02",
          "2020-11-16"
         ],
         "title": {
          "text": "Date"
         },
         "type": "date"
        },
        "yaxis": {
         "anchor": "x",
         "autorange": true,
         "domain": [
          0,
          1
         ],
         "range": [
          -5.768888888888888,
          188.20888888888888
         ],
         "title": {
          "text": "Close"
         },
         "type": "linear"
        }
       }
      },
      "image/png": "[encoded data removed]",
      "text/html": [
       "<div>                            <div id=\"97091f12-e297-4e6e-889f-edef603a436d\" class=\"plotly-graph-div\" style=\"height:525px; width:100%;\"></div>            <script type=\"text/javascript\">                require([\"plotly\"], function(Plotly) {                    window.PLOTLYENV=window.PLOTLYENV || {};                                    if (document.getElementById(\"97091f12-e297-4e6e-889f-edef603a436d\")) {                    Plotly.newPlot(                        \"97091f12-e297-4e6e-889f-edef603a436d\",                        [{\"hovertemplate\": \"Companies=Abbott Laboratories<br>Date=%{x}<br>Close=%{y}<extra></extra>\", \"legendgroup\": \"Abbott Laboratories\", \"line\": {\"color\": \"#636efa\", \"dash\": \"solid\"}, \"mode\": \"lines\", \"name\": \"Abbott Laboratories\", \"orientation\": \"v\", \"showlegend\": true, \"type\": \"scatter\", \"x\": [\"2020-01-02T00:00:00\", \"2020-01-03T00:00:00\", \"2020-01-06T00:00:00\", \"2020-01-07T00:00:00\", \"2020-01-08T00:00:00\", \"2020-01-09T00:00:00\", \"2020-01-10T00:00:00\", \"2020-01-13T00:00:00\", \"2020-01-14T00:00:00\", \"2020-01-15T00:00:00\", \"2020-01-16T00:00:00\", \"2020-01-17T00:00:00\", \"2020-01-21T00:00:00\", \"2020-01-22T00:00:00\", \"2020-01-23T00:00:00\", \"2020-01-24T00:00:00\", \"2020-01-27T00:00:00\", \"2020-01-28T00:00:00\", \"2020-01-29T00:00:00\", \"2020-01-30T00:00:00\", \"2020-01-31T00:00:00\", \"2020-02-03T00:00:00\", \"2020-02-04T00:00:00\", \"2020-02-05T00:00:00\", \"2020-02-06T00:00:00\", \"2020-02-07T00:00:00\", \"2020-02-10T00:00:00\", \"2020-02-11T00:00:00\", \"2020-02-12T00:00:00\", \"2020-02-13T00:00:00\", \"2020-02-14T00:00:00\", \"2020-02-18T00:00:00\", \"2020-02-19T00:00:00\", \"2020-02-20T00:00:00\", \"2020-02-21T00:00:00\", \"2020-02-24T00:00:00\", \"2020-02-25T00:00:00\", \"2020-02-26T00:00:00\", \"2020-02-27T00:00:00\", \"2020-02-28T00:00:00\", \"2020-03-02T00:00:00\", \"2020-03-03T00:00:00\", \"2020-03-04T00:00:00\", \"2020-03-05T00:00:00\", \"2020-03-06T00:00:00\", \"2020-03-09T00:00:00\", \"2020-03-10T00:00:00\", \"2020-03-11T00:00:00\", \"2020-03-12T00:00:00\", \"2020-03-13T00:00:00\", \"2020-03-16T00:00:00\", \"2020-03-17T00:00:00\", \"2020-03-18T00:00:00\", \"2020-03-19T00:00:00\", \"2020-03-20T00:00:00\", \"2020-03-23T00:00:00\", \"2020-03-24T00:00:00\", \"2020-03-25T00:00:00\", \"2020-03-26T00:00:00\", \"2020-03-27T00:00:00\", \"2020-03-30T00:00:00\", \"2020-03-31T00:00:00\", \"2020-04-01T00:00:00\", \"2020-04-02T00:00:00\", \"2020-04-03T00:00:00\", \"2020-04-06T00:00:00\", \"2020-04-07T00:00:00\", \"2020-04-08T00:00:00\", \"2020-04-09T00:00:00\", \"2020-04-13T00:00:00\", \"2020-04-14T00:00:00\", \"2020-04-15T00:00:00\", \"2020-04-16T00:00:00\", \"2020-04-17T00:00:00\", \"2020-04-20T00:00:00\", \"2020-04-21T00:00:00\", \"2020-04-22T00:00:00\", \"2020-04-23T00:00:00\", \"2020-04-24T00:00:00\", \"2020-04-27T00:00:00\", \"2020-04-28T00:00:00\", \"2020-04-29T00:00:00\", \"2020-04-30T00:00:00\", \"2020-05-01T00:00:00\", \"2020-05-04T00:00:00\", \"2020-05-05T00:00:00\", \"2020-05-06T00:00:00\", \"2020-05-07T00:00:00\", \"2020-05-08T00:00:00\", \"2020-05-11T00:00:00\", \"2020-05-12T00:00:00\", \"2020-05-13T00:00:00\", \"2020-05-14T00:00:00\", \"2020-05-15T00:00:00\", \"2020-05-18T00:00:00\", \"2020-05-19T00:00:00\", \"2020-05-20T00:00:00\", \"2020-05-21T00:00:00\", \"2020-05-22T00:00:00\", \"2020-05-26T00:00:00\", \"2020-05-27T00:00:00\", \"2020-05-28T00:00:00\", \"2020-05-29T00:00:00\", \"2020-06-01T00:00:00\", \"2020-06-02T00:00:00\", \"2020-06-03T00:00:00\", \"2020-06-04T00:00:00\", \"2020-06-05T00:00:00\", \"2020-06-08T00:00:00\", \"2020-06-09T00:00:00\", \"2020-06-10T00:00:00\", \"2020-06-11T00:00:00\", \"2020-06-12T00:00:00\", \"2020-06-15T00:00:00\", \"2020-06-16T00:00:00\", \"2020-06-17T00:00:00\", \"2020-06-18T00:00:00\", \"2020-06-19T00:00:00\", \"2020-06-22T00:00:00\", \"2020-06-23T00:00:00\", \"2020-06-24T00:00:00\", \"2020-06-25T00:00:00\", \"2020-06-26T00:00:00\", \"2020-06-29T00:00:00\", \"2020-06-30T00:00:00\", \"2020-07-01T00:00:00\", \"2020-07-02T00:00:00\", \"2020-07-06T00:00:00\", \"2020-07-07T00:00:00\", \"2020-07-08T00:00:00\", \"2020-07-09T00:00:00\", \"2020-07-10T00:00:00\", \"2020-07-13T00:00:00\", \"2020-07-14T00:00:00\", \"2020-07-15T00:00:00\", \"2020-07-16T00:00:00\", \"2020-07-17T00:00:00\", \"2020-07-20T00:00:00\", \"2020-07-21T00:00:00\", \"2020-07-22T00:00:00\", \"2020-07-23T00:00:00\", \"2020-07-24T00:00:00\", \"2020-07-27T00:00:00\", \"2020-07-28T00:00:00\", \"2020-07-29T00:00:00\", \"2020-07-30T00:00:00\", \"2020-07-31T00:00:00\", \"2020-08-03T00:00:00\", \"2020-08-04T00:00:00\", \"2020-08-05T00:00:00\", \"2020-08-06T00:00:00\", \"2020-08-07T00:00:00\", \"2020-08-10T00:00:00\", \"2020-08-11T00:00:00\", \"2020-08-12T00:00:00\", \"2020-08-13T00:00:00\", \"2020-08-14T00:00:00\", \"2020-08-17T00:00:00\", \"2020-08-18T00:00:00\", \"2020-08-19T00:00:00\", \"2020-08-20T00:00:00\", \"2020-08-21T00:00:00\", \"2020-08-24T00:00:00\", \"2020-08-25T00:00:00\", \"2020-08-26T00:00:00\", \"2020-08-27T00:00:00\", \"2020-08-28T00:00:00\", \"2020-08-31T00:00:00\", \"2020-09-01T00:00:00\", \"2020-09-02T00:00:00\", \"2020-09-03T00:00:00\", \"2020-09-04T00:00:00\", \"2020-09-08T00:00:00\", \"2020-09-09T00:00:00\", \"2020-09-10T00:00:00\", \"2020-09-11T00:00:00\", \"2020-09-14T00:00:00\", \"2020-09-15T00:00:00\", \"2020-09-16T00:00:00\", \"2020-09-17T00:00:00\", \"2020-09-18T00:00:00\", \"2020-09-21T00:00:00\", \"2020-09-22T00:00:00\", \"2020-09-23T00:00:00\", \"2020-09-24T00:00:00\", \"2020-09-25T00:00:00\", \"2020-09-28T00:00:00\", \"2020-09-29T00:00:00\", \"2020-09-30T00:00:00\", \"2020-10-01T00:00:00\", \"2020-10-02T00:00:00\", \"2020-10-05T00:00:00\", \"2020-10-06T00:00:00\", \"2020-10-07T00:00:00\", \"2020-10-08T00:00:00\", \"2020-10-09T00:00:00\", \"2020-10-12T00:00:00\", \"2020-10-13T00:00:00\", \"2020-10-14T00:00:00\", \"2020-10-15T00:00:00\", \"2020-10-16T00:00:00\", \"2020-10-19T00:00:00\", \"2020-10-20T00:00:00\", \"2020-10-21T00:00:00\", \"2020-10-22T00:00:00\", \"2020-10-23T00:00:00\", \"2020-10-26T00:00:00\", \"2020-10-27T00:00:00\", \"2020-10-28T00:00:00\", \"2020-10-29T00:00:00\", \"2020-10-30T00:00:00\", \"2020-11-02T00:00:00\", \"2020-11-03T00:00:00\", \"2020-11-04T00:00:00\", \"2020-11-05T00:00:00\", \"2020-11-06T00:00:00\", \"2020-11-09T00:00:00\", \"2020-11-10T00:00:00\", \"2020-11-11T00:00:00\", \"2020-11-12T00:00:00\", \"2020-11-13T00:00:00\", \"2020-11-16T00:00:00\"], \"xaxis\": \"x\", \"y\": [86.95, 85.89, 86.34, 85.86, 86.21, 86.44, 85.36, 85.12, 85.74, 87.38, 88.28, 89.0, 89.73, 91.86, 90.73, 90.4, 89.59, 89.54, 89.14, 89.16, 87.14, 87.06, 88.23, 89.56, 89.47, 87.87, 88.3, 89.17, 88.79, 88.68, 89.66, 88.88, 89.36, 88.46, 87.45, 84.63, 81.13, 81.36, 79.19, 77.03, 81.61, 77.99, 82.09, 80.52, 81.74, 77.02, 80.88, 78.09, 74.74, 81.65, 73.66, 79.49, 79.26, 74.5, 68.0, 62.82, 69.69, 70.75, 75.81, 74.56, 79.34, 78.91, 76.57, 79.44, 79.45, 82.73, 81.93, 84.95, 86.04, 85.85, 89.14, 90.94, 96.0, 96.01, 98.0, 94.05, 95.48, 93.94, 94.06, 94.95, 91.46, 92.28, 92.09, 89.85, 89.83, 93.03, 91.08, 93.99, 93.7, 96.07, 93.8, 92.16, 91.78, 89.89, 90.27, 88.22, 90.09, 90.39, 91.47, 89.48, 90.76, 92.1, 94.92, 93.01, 92.62, 91.4, 88.25, 89.86, 92.56, 90.27, 92.16, 87.78, 89.02, 89.55, 89.74, 90.9, 90.28, 90.68, 90.34, 91.3, 87.3, 89.62, 88.71, 89.01, 91.43, 91.64, 92.23, 92.97, 92.46, 92.58, 93.67, 93.04, 93.09, 94.82, 96.73, 96.4, 99.25, 99.08, 98.19, 100.19, 100.82, 98.95, 99.99, 99.86, 102.52, 101.53, 100.64, 100.68, 99.93, 102.14, 101.75, 101.23, 100.04, 99.06, 100.65, 101.1, 99.99, 100.71, 100.96, 100.48, 101.63, 102.4, 101.39, 102.47, 103.19, 111.29, 110.79, 109.47, 106.55, 109.44, 105.53, 104.16, 102.84, 105.81, 104.0, 104.7, 105.69, 106.58, 105.7, 106.66, 106.86, 105.95, 104.8, 102.73, 100.92, 103.45, 104.44, 105.19, 108.83, 108.64, 106.5, 108.56, 106.25, 107.74, 108.54, 109.65, 111.05, 108.37, 107.75, 107.32, 109.67, 108.04, 108.36, 105.93, 109.48, 107.79, 109.0, 108.58, 106.42, 105.0, 105.11, 107.48, 109.56, 111.53, 113.53, 114.42, 109.39, 110.81, 112.65, 111.95, 112.6, 113.67], \"yaxis\": \"y\"}, {\"hovertemplate\": \"Companies=Moderna<br>Date=%{x}<br>Close=%{y}<extra></extra>\", \"legendgroup\": \"Moderna\", \"line\": {\"color\": \"#EF553B\", \"dash\": \"solid\"}, \"mode\": \"lines\", \"name\": \"Moderna\", \"orientation\": \"v\", \"showlegend\": true, \"type\": \"scatter\", \"x\": [\"2020-01-02T00:00:00\", \"2020-01-03T00:00:00\", \"2020-01-06T00:00:00\", \"2020-01-07T00:00:00\", \"2020-01-08T00:00:00\", \"2020-01-09T00:00:00\", \"2020-01-10T00:00:00\", \"2020-01-13T00:00:00\", \"2020-01-14T00:00:00\", \"2020-01-15T00:00:00\", \"2020-01-16T00:00:00\", \"2020-01-17T00:00:00\", \"2020-01-21T00:00:00\", \"2020-01-22T00:00:00\", \"2020-01-23T00:00:00\", \"2020-01-24T00:00:00\", \"2020-01-27T00:00:00\", \"2020-01-28T00:00:00\", \"2020-01-29T00:00:00\", \"2020-01-30T00:00:00\", \"2020-01-31T00:00:00\", \"2020-02-03T00:00:00\", \"2020-02-04T00:00:00\", \"2020-02-05T00:00:00\", \"2020-02-06T00:00:00\", \"2020-02-07T00:00:00\", \"2020-02-10T00:00:00\", \"2020-02-11T00:00:00\", \"2020-02-12T00:00:00\", \"2020-02-13T00:00:00\", \"2020-02-14T00:00:00\", \"2020-02-18T00:00:00\", \"2020-02-19T00:00:00\", \"2020-02-20T00:00:00\", \"2020-02-21T00:00:00\", \"2020-02-24T00:00:00\", \"2020-02-25T00:00:00\", \"2020-02-26T00:00:00\", \"2020-02-27T00:00:00\", \"2020-02-28T00:00:00\", \"2020-03-02T00:00:00\", \"2020-03-03T00:00:00\", \"2020-03-04T00:00:00\", \"2020-03-05T00:00:00\", \"2020-03-06T00:00:00\", \"2020-03-09T00:00:00\", \"2020-03-10T00:00:00\", \"2020-03-11T00:00:00\", \"2020-03-12T00:00:00\", \"2020-03-13T00:00:00\", \"2020-03-16T00:00:00\", \"2020-03-17T00:00:00\", \"2020-03-18T00:00:00\", \"2020-03-19T00:00:00\", \"2020-03-20T00:00:00\", \"2020-03-23T00:00:00\", \"2020-03-24T00:00:00\", \"2020-03-25T00:00:00\", \"2020-03-26T00:00:00\", \"2020-03-27T00:00:00\", \"2020-03-30T00:00:00\", \"2020-03-31T00:00:00\", \"2020-04-01T00:00:00\", \"2020-04-02T00:00:00\", \"2020-04-03T00:00:00\", \"2020-04-06T00:00:00\", \"2020-04-07T00:00:00\", \"2020-04-08T00:00:00\", \"2020-04-09T00:00:00\", \"2020-04-13T00:00:00\", \"2020-04-14T00:00:00\", \"2020-04-15T00:00:00\", \"2020-04-16T00:00:00\", \"2020-04-17T00:00:00\", \"2020-04-20T00:00:00\", \"2020-04-21T00:00:00\", \"2020-04-22T00:00:00\", \"2020-04-23T00:00:00\", \"2020-04-24T00:00:00\", \"2020-04-27T00:00:00\", \"2020-04-28T00:00:00\", \"2020-04-29T00:00:00\", \"2020-04-30T00:00:00\", \"2020-05-01T00:00:00\", \"2020-05-04T00:00:00\", \"2020-05-05T00:00:00\", \"2020-05-06T00:00:00\", \"2020-05-07T00:00:00\", \"2020-05-08T00:00:00\", \"2020-05-11T00:00:00\", \"2020-05-12T00:00:00\", \"2020-05-13T00:00:00\", \"2020-05-14T00:00:00\", \"2020-05-15T00:00:00\", \"2020-05-18T00:00:00\", \"2020-05-19T00:00:00\", \"2020-05-20T00:00:00\", \"2020-05-21T00:00:00\", \"2020-05-22T00:00:00\", \"2020-05-26T00:00:00\", \"2020-05-27T00:00:00\", \"2020-05-28T00:00:00\", \"2020-05-29T00:00:00\", \"2020-06-01T00:00:00\", \"2020-06-02T00:00:00\", \"2020-06-03T00:00:00\", \"2020-06-04T00:00:00\", \"2020-06-05T00:00:00\", \"2020-06-08T00:00:00\", \"2020-06-09T00:00:00\", \"2020-06-10T00:00:00\", \"2020-06-11T00:00:00\", \"2020-06-12T00:00:00\", \"2020-06-15T00:00:00\", \"2020-06-16T00:00:00\", \"2020-06-17T00:00:00\", \"2020-06-18T00:00:00\", \"2020-06-19T00:00:00\", \"2020-06-22T00:00:00\", \"2020-06-23T00:00:00\", \"2020-06-24T00:00:00\", \"2020-06-25T00:00:00\", \"2020-06-26T00:00:00\", \"2020-06-29T00:00:00\", \"2020-06-30T00:00:00\", \"2020-07-01T00:00:00\", \"2020-07-02T00:00:00\", \"2020-07-06T00:00:00\", \"2020-07-07T00:00:00\", \"2020-07-08T00:00:00\", \"2020-07-09T00:00:00\", \"2020-07-10T00:00:00\", \"2020-07-13T00:00:00\", \"2020-07-14T00:00:00\", \"2020-07-15T00:00:00\", \"2020-07-16T00:00:00\", \"2020-07-17T00:00:00\", \"2020-07-20T00:00:00\", \"2020-07-21T00:00:00\", \"2020-07-22T00:00:00\", \"2020-07-23T00:00:00\", \"2020-07-24T00:00:00\", \"2020-07-27T00:00:00\", \"2020-07-28T00:00:00\", \"2020-07-29T00:00:00\", \"2020-07-30T00:00:00\", \"2020-07-31T00:00:00\", \"2020-08-03T00:00:00\", \"2020-08-04T00:00:00\", \"2020-08-05T00:00:00\", \"2020-08-06T00:00:00\", \"2020-08-07T00:00:00\", \"2020-08-10T00:00:00\", \"2020-08-11T00:00:00\", \"2020-08-12T00:00:00\", \"2020-08-13T00:00:00\", \"2020-08-14T00:00:00\", \"2020-08-17T00:00:00\", \"2020-08-18T00:00:00\", \"2020-08-19T00:00:00\", \"2020-08-20T00:00:00\", \"2020-08-21T00:00:00\", \"2020-08-24T00:00:00\", \"2020-08-25T00:00:00\", \"2020-08-26T00:00:00\", \"2020-08-27T00:00:00\", \"2020-08-28T00:00:00\", \"2020-08-31T00:00:00\", \"2020-09-01T00:00:00\", \"2020-09-02T00:00:00\", \"2020-09-03T00:00:00\", \"2020-09-04T00:00:00\", \"2020-09-08T00:00:00\", \"2020-09-09T00:00:00\", \"2020-09-10T00:00:00\", \"2020-09-11T00:00:00\", \"2020-09-14T00:00:00\", \"2020-09-15T00:00:00\", \"2020-09-16T00:00:00\", \"2020-09-17T00:00:00\", \"2020-09-18T00:00:00\", \"2020-09-21T00:00:00\", \"2020-09-22T00:00:00\", \"2020-09-23T00:00:00\", \"2020-09-24T00:00:00\", \"2020-09-25T00:00:00\", \"2020-09-28T00:00:00\", \"2020-09-29T00:00:00\", \"2020-09-30T00:00:00\", \"2020-10-01T00:00:00\", \"2020-10-02T00:00:00\", \"2020-10-05T00:00:00\", \"2020-10-06T00:00:00\", \"2020-10-07T00:00:00\", \"2020-10-08T00:00:00\", \"2020-10-09T00:00:00\", \"2020-10-12T00:00:00\", \"2020-10-13T00:00:00\", \"2020-10-14T00:00:00\", \"2020-10-15T00:00:00\", \"2020-10-16T00:00:00\", \"2020-10-19T00:00:00\", \"2020-10-20T00:00:00\", \"2020-10-21T00:00:00\", \"2020-10-22T00:00:00\", \"2020-10-23T00:00:00\", \"2020-10-26T00:00:00\", \"2020-10-27T00:00:00\", \"2020-10-28T00:00:00\", \"2020-10-29T00:00:00\", \"2020-10-30T00:00:00\", \"2020-11-02T00:00:00\", \"2020-11-03T00:00:00\", \"2020-11-04T00:00:00\", \"2020-11-05T00:00:00\", \"2020-11-06T00:00:00\", \"2020-11-09T00:00:00\", \"2020-11-10T00:00:00\", \"2020-11-11T00:00:00\", \"2020-11-12T00:00:00\", \"2020-11-13T00:00:00\", \"2020-11-16T00:00:00\"], \"xaxis\": \"x\", \"y\": [19.23, 18.89, 18.13, 17.78, 17.98, 18.4, 19.14, 20.26, 20.0, 20.24, 21.01, 20.62, 20.94, 21.97, 21.47, 21.12, 22.74, 22.36, 20.55, 20.99, 20.51, 20.38, 20.87, 20.05, 19.88, 23.24, 23.65, 21.35, 19.01, 19.05, 19.0, 18.91, 18.92, 18.54, 18.23, 18.59, 23.76, 29.16, 26.16, 25.93, 29.88, 27.91, 27.49, 28.01, 29.61, 24.29, 22.34, 23.61, 22.3, 21.3, 26.49, 28.18, 31.58, 28.27, 28.2, 26.57, 25.82, 27.13, 27.94, 30.05, 30.48, 29.95, 29.67, 33.2, 34.84, 34.64, 32.02, 32.42, 31.86, 32.9, 34.66, 37.25, 40.6, 46.85, 51.69, 49.26, 51.2, 47.44, 50.5, 48.05, 47.88, 46.37, 45.99, 47.93, 50.5, 49.34, 48.95, 53.19, 59.25, 66.9, 62.35, 65.18, 64.56, 66.69, 80.0, 71.67, 73.47, 67.05, 69.0, 57.71, 52.18, 55.54, 61.5, 62.18, 59.87, 59.89, 60.59, 58.19, 59.1, 58.23, 60.07, 60.2, 62.0, 66.57, 64.34, 63.31, 64.95, 66.35, 64.75, 62.94, 64.84, 62.0, 61.28, 62.08, 64.21, 61.59, 58.57, 59.15, 61.09, 61.58, 64.97, 62.61, 71.78, 75.04, 80.22, 81.81, 94.85, 82.68, 80.86, 83.23, 75.33, 73.21, 79.91, 81.49, 79.51, 77.63, 74.1, 77.98, 78.46, 75.8, 73.76, 74.1, 72.01, 68.97, 69.52, 67.83, 69.15, 69.76, 67.03, 68.0, 67.81, 66.45, 64.88, 66.25, 70.5, 68.03, 67.49, 64.89, 63.32, 64.72, 64.84, 62.6, 54.34, 56.9, 57.56, 59.34, 63.67, 66.88, 68.84, 67.89, 69.87, 69.26, 68.72, 67.16, 65.17, 69.47, 70.55, 70.52, 70.75, 70.03, 68.81, 71.95, 71.04, 72.37, 72.93, 73.0, 75.31, 78.29, 76.56, 75.58, 73.94, 70.96, 71.31, 68.37, 70.84, 70.53, 70.24, 70.67, 65.74, 71.28, 67.47, 67.11, 69.08, 69.81, 71.48, 72.45, 77.74, 76.05, 82.44, 87.81, 89.39, 97.95], \"yaxis\": \"y\"}, {\"hovertemplate\": \"Companies=Novavax<br>Date=%{x}<br>Close=%{y}<extra></extra>\", \"legendgroup\": \"Novavax\", \"line\": {\"color\": \"#00cc96\", \"dash\": \"solid\"}, \"mode\": \"lines\", \"name\": \"Novavax\", \"orientation\": \"v\", \"showlegend\": true, \"type\": \"scatter\", \"x\": [\"2020-01-02T00:00:00\", \"2020-01-03T00:00:00\", \"2020-01-06T00:00:00\", \"2020-01-07T00:00:00\", \"2020-01-08T00:00:00\", \"2020-01-09T00:00:00\", \"2020-01-10T00:00:00\", \"2020-01-13T00:00:00\", \"2020-01-14T00:00:00\", \"2020-01-15T00:00:00\", \"2020-01-16T00:00:00\", \"2020-01-17T00:00:00\", \"2020-01-21T00:00:00\", \"2020-01-22T00:00:00\", \"2020-01-23T00:00:00\", \"2020-01-24T00:00:00\", \"2020-01-27T00:00:00\", \"2020-01-28T00:00:00\", \"2020-01-29T00:00:00\", \"2020-01-30T00:00:00\", \"2020-01-31T00:00:00\", \"2020-02-03T00:00:00\", \"2020-02-04T00:00:00\", \"2020-02-05T00:00:00\", \"2020-02-06T00:00:00\", \"2020-02-07T00:00:00\", \"2020-02-10T00:00:00\", \"2020-02-11T00:00:00\", \"2020-02-12T00:00:00\", \"2020-02-13T00:00:00\", \"2020-02-14T00:00:00\", \"2020-02-18T00:00:00\", \"2020-02-19T00:00:00\", \"2020-02-20T00:00:00\", \"2020-02-21T00:00:00\", \"2020-02-24T00:00:00\", \"2020-02-25T00:00:00\", \"2020-02-26T00:00:00\", \"2020-02-27T00:00:00\", \"2020-02-28T00:00:00\", \"2020-03-02T00:00:00\", \"2020-03-03T00:00:00\", \"2020-03-04T00:00:00\", \"2020-03-05T00:00:00\", \"2020-03-06T00:00:00\", \"2020-03-09T00:00:00\", \"2020-03-10T00:00:00\", \"2020-03-11T00:00:00\", \"2020-03-12T00:00:00\", \"2020-03-13T00:00:00\", \"2020-03-16T00:00:00\", \"2020-03-17T00:00:00\", \"2020-03-18T00:00:00\", \"2020-03-19T00:00:00\", \"2020-03-20T00:00:00\", \"2020-03-23T00:00:00\", \"2020-03-24T00:00:00\", \"2020-03-25T00:00:00\", \"2020-03-26T00:00:00\", \"2020-03-27T00:00:00\", \"2020-03-30T00:00:00\", \"2020-03-31T00:00:00\", \"2020-04-01T00:00:00\", \"2020-04-02T00:00:00\", \"2020-04-03T00:00:00\", \"2020-04-06T00:00:00\", \"2020-04-07T00:00:00\", \"2020-04-08T00:00:00\", \"2020-04-09T00:00:00\", \"2020-04-13T00:00:00\", \"2020-04-14T00:00:00\", \"2020-04-15T00:00:00\", \"2020-04-16T00:00:00\", \"2020-04-17T00:00:00\", \"2020-04-20T00:00:00\", \"2020-04-21T00:00:00\", \"2020-04-22T00:00:00\", \"2020-04-23T00:00:00\", \"2020-04-24T00:00:00\", \"2020-04-27T00:00:00\", \"2020-04-28T00:00:00\", \"2020-04-29T00:00:00\", \"2020-04-30T00:00:00\", \"2020-05-01T00:00:00\", \"2020-05-04T00:00:00\", \"2020-05-05T00:00:00\", \"2020-05-06T00:00:00\", \"2020-05-07T00:00:00\", \"2020-05-08T00:00:00\", \"2020-05-11T00:00:00\", \"2020-05-12T00:00:00\", \"2020-05-13T00:00:00\", \"2020-05-14T00:00:00\", \"2020-05-15T00:00:00\", \"2020-05-18T00:00:00\", \"2020-05-19T00:00:00\", \"2020-05-20T00:00:00\", \"2020-05-21T00:00:00\", \"2020-05-22T00:00:00\", \"2020-05-26T00:00:00\", \"2020-05-27T00:00:00\", \"2020-05-28T00:00:00\", \"2020-05-29T00:00:00\", \"2020-06-01T00:00:00\", \"2020-06-02T00:00:00\", \"2020-06-03T00:00:00\", \"2020-06-04T00:00:00\", \"2020-06-05T00:00:00\", \"2020-06-08T00:00:00\", \"2020-06-09T00:00:00\", \"2020-06-10T00:00:00\", \"2020-06-11T00:00:00\", \"2020-06-12T00:00:00\", \"2020-06-15T00:00:00\", \"2020-06-16T00:00:00\", \"2020-06-17T00:00:00\", \"2020-06-18T00:00:00\", \"2020-06-19T00:00:00\", \"2020-06-22T00:00:00\", \"2020-06-23T00:00:00\", \"2020-06-24T00:00:00\", \"2020-06-25T00:00:00\", \"2020-06-26T00:00:00\", \"2020-06-29T00:00:00\", \"2020-06-30T00:00:00\", \"2020-07-01T00:00:00\", \"2020-07-02T00:00:00\", \"2020-07-06T00:00:00\", \"2020-07-07T00:00:00\", \"2020-07-08T00:00:00\", \"2020-07-09T00:00:00\", \"2020-07-10T00:00:00\", \"2020-07-13T00:00:00\", \"2020-07-14T00:00:00\", \"2020-07-15T00:00:00\", \"2020-07-16T00:00:00\", \"2020-07-17T00:00:00\", \"2020-07-20T00:00:00\", \"2020-07-21T00:00:00\", \"2020-07-22T00:00:00\", \"2020-07-23T00:00:00\", \"2020-07-24T00:00:00\", \"2020-07-27T00:00:00\", \"2020-07-28T00:00:00\", \"2020-07-29T00:00:00\", \"2020-07-30T00:00:00\", \"2020-07-31T00:00:00\", \"2020-08-03T00:00:00\", \"2020-08-04T00:00:00\", \"2020-08-05T00:00:00\", \"2020-08-06T00:00:00\", \"2020-08-07T00:00:00\", \"2020-08-10T00:00:00\", \"2020-08-11T00:00:00\", \"2020-08-12T00:00:00\", \"2020-08-13T00:00:00\", \"2020-08-14T00:00:00\", \"2020-08-17T00:00:00\", \"2020-08-18T00:00:00\", \"2020-08-19T00:00:00\", \"2020-08-20T00:00:00\", \"2020-08-21T00:00:00\", \"2020-08-24T00:00:00\", \"2020-08-25T00:00:00\", \"2020-08-26T00:00:00\", \"2020-08-27T00:00:00\", \"2020-08-28T00:00:00\", \"2020-08-31T00:00:00\", \"2020-09-01T00:00:00\", \"2020-09-02T00:00:00\", \"2020-09-03T00:00:00\", \"2020-09-04T00:00:00\", \"2020-09-08T00:00:00\", \"2020-09-09T00:00:00\", \"2020-09-10T00:00:00\", \"2020-09-11T00:00:00\", \"2020-09-14T00:00:00\", \"2020-09-15T00:00:00\", \"2020-09-16T00:00:00\", \"2020-09-17T00:00:00\", \"2020-09-18T00:00:00\", \"2020-09-21T00:00:00\", \"2020-09-22T00:00:00\", \"2020-09-23T00:00:00\", \"2020-09-24T00:00:00\", \"2020-09-25T00:00:00\", \"2020-09-28T00:00:00\", \"2020-09-29T00:00:00\", \"2020-09-30T00:00:00\", \"2020-10-01T00:00:00\", \"2020-10-02T00:00:00\", \"2020-10-05T00:00:00\", \"2020-10-06T00:00:00\", \"2020-10-07T00:00:00\", \"2020-10-08T00:00:00\", \"2020-10-09T00:00:00\", \"2020-10-12T00:00:00\", \"2020-10-13T00:00:00\", \"2020-10-14T00:00:00\", \"2020-10-15T00:00:00\", \"2020-10-16T00:00:00\", \"2020-10-19T00:00:00\", \"2020-10-20T00:00:00\", \"2020-10-21T00:00:00\", \"2020-10-22T00:00:00\", \"2020-10-23T00:00:00\", \"2020-10-26T00:00:00\", \"2020-10-27T00:00:00\", \"2020-10-28T00:00:00\", \"2020-10-29T00:00:00\", \"2020-10-30T00:00:00\", \"2020-11-02T00:00:00\", \"2020-11-03T00:00:00\", \"2020-11-04T00:00:00\", \"2020-11-05T00:00:00\", \"2020-11-06T00:00:00\", \"2020-11-09T00:00:00\", \"2020-11-10T00:00:00\", \"2020-11-11T00:00:00\", \"2020-11-12T00:00:00\", \"2020-11-13T00:00:00\", \"2020-11-16T00:00:00\"], \"xaxis\": \"x\", \"y\": [4.49, 4.44, 4.58, 4.57, 4.28, 4.01, 3.93, 3.95, 3.99, 4.38, 4.78, 5.74, 9.82, 7.09, 7.66, 7.8, 8.5, 7.17, 6.84, 7.0, 7.62, 6.81, 7.01, 6.97, 6.84, 6.31, 7.02, 7.21, 7.31, 7.79, 7.68, 7.99, 7.95, 7.94, 7.72, 8.16, 7.95, 9.22, 11.8, 16.0, 12.02, 10.78, 11.32, 12.87, 12.48, 10.02, 10.65, 10.51, 9.29, 8.41, 6.91, 9.5, 10.65, 11.58, 10.35, 10.76, 12.77, 11.75, 12.74, 13.05, 14.3, 13.58, 14.03, 13.86, 15.61, 16.1, 14.9, 17.18, 17.05, 17.64, 18.0, 17.53, 18.1, 19.08, 23.8, 21.53, 21.37, 20.38, 19.83, 21.01, 20.55, 18.41, 18.13, 17.33, 18.06, 17.78, 17.14, 18.15, 18.73, 24.5, 39.82, 40.67, 38.3, 43.63, 56.96, 53.9, 52.81, 50.07, 46.11, 48.17, 45.47, 44.84, 46.04, 52.82, 49.64, 44.25, 44.66, 46.3, 44.79, 45.93, 44.96, 44.43, 45.57, 51.07, 52.15, 55.41, 59.27, 64.75, 65.95, 69.66, 77.5, 83.54, 77.39, 83.61, 83.35, 79.7, 81.64, 79.44, 104.56, 98.3, 96.3, 94.36, 104.32, 109.97, 111.15, 120.29, 140.49, 138.23, 140.69, 146.45, 139.59, 133.93, 139.6, 148.6, 145.36, 146.62, 143.1, 155.87, 157.17, 173.49, 167.5, 170.29, 178.51, 149.48, 124.42, 133.28, 146.51, 155.53, 146.23, 147.06, 143.13, 137.62, 119.26, 113.11, 114.62, 107.35, 107.74, 110.34, 105.08, 102.9, 102.98, 92.93, 85.31, 90.84, 92.86, 95.45, 105.8, 110.34, 120.13, 115.51, 108.36, 110.15, 111.63, 101.57, 102.44, 113.56, 111.18, 107.95, 108.35, 104.9, 103.6, 110.17, 107.41, 110.0, 111.02, 111.22, 110.22, 117.28, 111.76, 111.42, 107.04, 102.05, 98.36, 91.16, 93.59, 93.13, 87.38, 89.59, 81.33, 87.63, 80.71, 82.4, 83.64, 87.27, 93.11, 89.86, 90.31, 78.74, 85.01, 90.87, 96.6, 90.65], \"yaxis\": \"y\"}, {\"hovertemplate\": \"Companies=Pfizer<br>Date=%{x}<br>Close=%{y}<extra></extra>\", \"legendgroup\": \"Pfizer\", \"line\": {\"color\": \"#ab63fa\", \"dash\": \"solid\"}, \"mode\": \"lines\", \"name\": \"Pfizer\", \"orientation\": \"v\", \"showlegend\": true, \"type\": \"scatter\", \"x\": [\"2020-01-02T00:00:00\", \"2020-01-03T00:00:00\", \"2020-01-06T00:00:00\", \"2020-01-07T00:00:00\", \"2020-01-08T00:00:00\", \"2020-01-09T00:00:00\", \"2020-01-10T00:00:00\", \"2020-01-13T00:00:00\", \"2020-01-14T00:00:00\", \"2020-01-15T00:00:00\", \"2020-01-16T00:00:00\", \"2020-01-17T00:00:00\", \"2020-01-21T00:00:00\", \"2020-01-22T00:00:00\", \"2020-01-23T00:00:00\", \"2020-01-24T00:00:00\", \"2020-01-27T00:00:00\", \"2020-01-28T00:00:00\", \"2020-01-29T00:00:00\", \"2020-01-30T00:00:00\", \"2020-01-31T00:00:00\", \"2020-02-03T00:00:00\", \"2020-02-04T00:00:00\", \"2020-02-05T00:00:00\", \"2020-02-06T00:00:00\", \"2020-02-07T00:00:00\", \"2020-02-10T00:00:00\", \"2020-02-11T00:00:00\", \"2020-02-12T00:00:00\", \"2020-02-13T00:00:00\", \"2020-02-14T00:00:00\", \"2020-02-18T00:00:00\", \"2020-02-19T00:00:00\", \"2020-02-20T00:00:00\", \"2020-02-21T00:00:00\", \"2020-02-24T00:00:00\", \"2020-02-25T00:00:00\", \"2020-02-26T00:00:00\", \"2020-02-27T00:00:00\", \"2020-02-28T00:00:00\", \"2020-03-02T00:00:00\", \"2020-03-03T00:00:00\", \"2020-03-04T00:00:00\", \"2020-03-05T00:00:00\", \"2020-03-06T00:00:00\", \"2020-03-09T00:00:00\", \"2020-03-10T00:00:00\", \"2020-03-11T00:00:00\", \"2020-03-12T00:00:00\", \"2020-03-13T00:00:00\", \"2020-03-16T00:00:00\", \"2020-03-17T00:00:00\", \"2020-03-18T00:00:00\", \"2020-03-19T00:00:00\", \"2020-03-20T00:00:00\", \"2020-03-23T00:00:00\", \"2020-03-24T00:00:00\", \"2020-03-25T00:00:00\", \"2020-03-26T00:00:00\", \"2020-03-27T00:00:00\", \"2020-03-30T00:00:00\", \"2020-03-31T00:00:00\", \"2020-04-01T00:00:00\", \"2020-04-02T00:00:00\", \"2020-04-03T00:00:00\", \"2020-04-06T00:00:00\", \"2020-04-07T00:00:00\", \"2020-04-08T00:00:00\", \"2020-04-09T00:00:00\", \"2020-04-13T00:00:00\", \"2020-04-14T00:00:00\", \"2020-04-15T00:00:00\", \"2020-04-16T00:00:00\", \"2020-04-17T00:00:00\", \"2020-04-20T00:00:00\", \"2020-04-21T00:00:00\", \"2020-04-22T00:00:00\", \"2020-04-23T00:00:00\", \"2020-04-24T00:00:00\", \"2020-04-27T00:00:00\", \"2020-04-28T00:00:00\", \"2020-04-29T00:00:00\", \"2020-04-30T00:00:00\", \"2020-05-01T00:00:00\", \"2020-05-04T00:00:00\", \"2020-05-05T00:00:00\", \"2020-05-06T00:00:00\", \"2020-05-07T00:00:00\", \"2020-05-08T00:00:00\", \"2020-05-11T00:00:00\", \"2020-05-12T00:00:00\", \"2020-05-13T00:00:00\", \"2020-05-14T00:00:00\", \"2020-05-15T00:00:00\", \"2020-05-18T00:00:00\", \"2020-05-19T00:00:00\", \"2020-05-20T00:00:00\", \"2020-05-21T00:00:00\", \"2020-05-22T00:00:00\", \"2020-05-26T00:00:00\", \"2020-05-27T00:00:00\", \"2020-05-28T00:00:00\", \"2020-05-29T00:00:00\", \"2020-06-01T00:00:00\", \"2020-06-02T00:00:00\", \"2020-06-03T00:00:00\", \"2020-06-04T00:00:00\", \"2020-06-05T00:00:00\", \"2020-06-08T00:00:00\", \"2020-06-09T00:00:00\", \"2020-06-10T00:00:00\", \"2020-06-11T00:00:00\", \"2020-06-12T00:00:00\", \"2020-06-15T00:00:00\", \"2020-06-16T00:00:00\", \"2020-06-17T00:00:00\", \"2020-06-18T00:00:00\", \"2020-06-19T00:00:00\", \"2020-06-22T00:00:00\", \"2020-06-23T00:00:00\", \"2020-06-24T00:00:00\", \"2020-06-25T00:00:00\", \"2020-06-26T00:00:00\", \"2020-06-29T00:00:00\", \"2020-06-30T00:00:00\", \"2020-07-01T00:00:00\", \"2020-07-02T00:00:00\", \"2020-07-06T00:00:00\", \"2020-07-07T00:00:00\", \"2020-07-08T00:00:00\", \"2020-07-09T00:00:00\", \"2020-07-10T00:00:00\", \"2020-07-13T00:00:00\", \"2020-07-14T00:00:00\", \"2020-07-15T00:00:00\", \"2020-07-16T00:00:00\", \"2020-07-17T00:00:00\", \"2020-07-20T00:00:00\", \"2020-07-21T00:00:00\", \"2020-07-22T00:00:00\", \"2020-07-23T00:00:00\", \"2020-07-24T00:00:00\", \"2020-07-27T00:00:00\", \"2020-07-28T00:00:00\", \"2020-07-29T00:00:00\", \"2020-07-30T00:00:00\", \"2020-07-31T00:00:00\", \"2020-08-03T00:00:00\", \"2020-08-04T00:00:00\", \"2020-08-05T00:00:00\", \"2020-08-06T00:00:00\", \"2020-08-07T00:00:00\", \"2020-08-10T00:00:00\", \"2020-08-11T00:00:00\", \"2020-08-12T00:00:00\", \"2020-08-13T00:00:00\", \"2020-08-14T00:00:00\", \"2020-08-17T00:00:00\", \"2020-08-18T00:00:00\", \"2020-08-19T00:00:00\", \"2020-08-20T00:00:00\", \"2020-08-21T00:00:00\", \"2020-08-24T00:00:00\", \"2020-08-25T00:00:00\", \"2020-08-26T00:00:00\", \"2020-08-27T00:00:00\", \"2020-08-28T00:00:00\", \"2020-08-31T00:00:00\", \"2020-09-01T00:00:00\", \"2020-09-02T00:00:00\", \"2020-09-03T00:00:00\", \"2020-09-04T00:00:00\", \"2020-09-08T00:00:00\", \"2020-09-09T00:00:00\", \"2020-09-10T00:00:00\", \"2020-09-11T00:00:00\", \"2020-09-14T00:00:00\", \"2020-09-15T00:00:00\", \"2020-09-16T00:00:00\", \"2020-09-17T00:00:00\", \"2020-09-18T00:00:00\", \"2020-09-21T00:00:00\", \"2020-09-22T00:00:00\", \"2020-09-23T00:00:00\", \"2020-09-24T00:00:00\", \"2020-09-25T00:00:00\", \"2020-09-28T00:00:00\", \"2020-09-29T00:00:00\", \"2020-09-30T00:00:00\", \"2020-10-01T00:00:00\", \"2020-10-02T00:00:00\", \"2020-10-05T00:00:00\", \"2020-10-06T00:00:00\", \"2020-10-07T00:00:00\", \"2020-10-08T00:00:00\", \"2020-10-09T00:00:00\", \"2020-10-12T00:00:00\", \"2020-10-13T00:00:00\", \"2020-10-14T00:00:00\", \"2020-10-15T00:00:00\", \"2020-10-16T00:00:00\", \"2020-10-19T00:00:00\", \"2020-10-20T00:00:00\", \"2020-10-21T00:00:00\", \"2020-10-22T00:00:00\", \"2020-10-23T00:00:00\", \"2020-10-26T00:00:00\", \"2020-10-27T00:00:00\", \"2020-10-28T00:00:00\", \"2020-10-29T00:00:00\", \"2020-10-30T00:00:00\", \"2020-11-02T00:00:00\", \"2020-11-03T00:00:00\", \"2020-11-04T00:00:00\", \"2020-11-05T00:00:00\", \"2020-11-06T00:00:00\", \"2020-11-09T00:00:00\", \"2020-11-10T00:00:00\", \"2020-11-11T00:00:00\", \"2020-11-12T00:00:00\", \"2020-11-13T00:00:00\", \"2020-11-16T00:00:00\"], \"xaxis\": \"x\", \"y\": [39.11602, 38.90504, 38.8523, 38.72571, 39.03163, 38.86285, 39.46414, 39.37975, 40.044340000000005, 40.64564, 40.58235, 40.48741, 40.31862, 40.160379999999996, 40.68784, 39.79117, 40.12874, 38.113859999999995, 37.554759999999995, 37.0484, 37.21719, 37.480909999999994, 37.6708, 38.145509999999994, 38.24045, 38.02947, 37.786840000000005, 38.06111, 37.712990000000005, 36.91126, 36.4893, 36.29942, 36.20447, 35.824709999999996, 35.69812, 34.643209999999996, 33.90477, 34.69595, 34.07356, 33.39842, 34.85419, 34.273990000000005, 36.373259999999995, 35.43439, 35.00188, 33.73599, 34.56937, 32.153620000000004, 30.00161, 32.691629999999996, 30.15985, 32.14307, 32.343509999999995, 30.40247, 28.9889, 28.47199, 29.685140000000004, 29.72733, 31.731659999999998, 30.87718, 32.649429999999995, 32.617779999999996, 31.731659999999998, 32.84986, 33.61995, 34.54827, 33.5883, 34.57991, 35.3711, 35.11792, 36.415459999999996, 35.9513, 35.85635, 36.89017, 36.05679, 35.59263, 36.225570000000005, 36.66863, 37.35433, 38.303740000000005, 37.88178, 38.09276, 38.335390000000004, 37.61805, 37.59695, 38.48308, 38.48308, 36.932359999999996, 37.196090000000005, 38.071659999999994, 37.33323, 37.0273, 37.89233, 37.73409, 38.05057, 37.66025, 37.6075, 37.23829, 37.480909999999994, 37.47037, 37.38597, 38.15606, 38.16661, 35.43439, 36.14118, 36.14118, 35.98294, 35.96185, 36.563140000000004, 36.18338, 35.89855, 33.282379999999996, 33.72544, 33.33512, 33.377320000000005, 33.53555, 33.21908, 33.39842, 33.092490000000005, 32.74437, 32.16417, 32.30131, 32.016490000000005, 32.617779999999996, 32.68108, 33.714890000000004, 34.484970000000004, 34.484970000000004, 34.010259999999995, 33.72544, 33.44061, 33.80983, 35.191759999999995, 35.20231, 35.69812, 35.58208, 36.225570000000005, 36.47875, 36.66863, 38.53582, 38.38814, 37.63915, 37.51256, 38.98943, 39.23206, 38.71516, 38.45143, 38.32484, 38.36704, 38.419779999999996, 38.24045, 38.419779999999996, 38.36704, 37.76574, 38.303740000000005, 38.145509999999994, 38.04002, 38.32484, 38.335390000000004, 38.24045, 38.69406, 38.8523, 38.8101, 38.38814, 38.02947, 37.83958, 37.88178, 37.76574, 36.85852, 37.17499, 36.373259999999995, 36.341609999999996, 35.9091, 36.15173, 35.62427, 36.046240000000004, 36.98511, 36.932359999999996, 36.753029999999995, 36.79522, 36.605340000000005, 35.99349, 36.225570000000005, 35.972390000000004, 35.74031, 36.02514, 36.36271, 36.15173, 36.67918, 36.341609999999996, 36.35216, 36.721379999999996, 36.15173, 36.4471, 36.86907, 36.76358, 36.79522, 36.87962, 36.83742, 36.5315, 37.92398, 37.77629, 37.47037, 37.05895, 37.407070000000004, 38.15606, 37.89233, 37.407070000000004, 35.423840000000006, 35.25506, 35.455490000000005, 36.20447, 36.162279999999996, 37.30158, 36.36271, 36.373259999999995, 39.179320000000004, 38.65186, 38.47253, 37.523109999999996, 38.59912, 37.30158], \"yaxis\": \"y\"}],                        {\"legend\": {\"title\": {\"text\": \"Companies\"}, \"tracegroupgap\": 0}, \"template\": {\"data\": {\"bar\": [{\"error_x\": {\"color\": \"#2a3f5f\"}, \"error_y\": {\"color\": \"#2a3f5f\"}, \"marker\": {\"line\": {\"color\": \"#E5ECF6\", \"width\": 0.5}}, \"type\": \"bar\"}], \"barpolar\": [{\"marker\": {\"line\": {\"color\": \"#E5ECF6\", \"width\": 0.5}}, \"type\": \"barpolar\"}], \"carpet\": [{\"aaxis\": {\"endlinecolor\": \"#2a3f5f\", \"gridcolor\": \"white\", \"linecolor\": \"white\", \"minorgridcolor\": \"white\", \"startlinecolor\": \"#2a3f5f\"}, \"baxis\": {\"endlinecolor\": \"#2a3f5f\", \"gridcolor\": \"white\", \"linecolor\": \"white\", \"minorgridcolor\": \"white\", \"startlinecolor\": \"#2a3f5f\"}, \"type\": \"carpet\"}], \"choropleth\": [{\"colorbar\": {\"outlinewidth\": 0, \"ticks\": \"\"}, \"type\": \"choropleth\"}], \"contour\": [{\"colorbar\": {\"outlinewidth\": 0, \"ticks\": \"\"}, \"colorscale\": [[0.0, \"#0d0887\"], [0.1111111111111111, \"#46039f\"], [0.2222222222222222, \"#7201a8\"], [0.3333333333333333, \"#9c179e\"], [0.4444444444444444, \"#bd3786\"], [0.5555555555555556, \"#d8576b\"], [0.6666666666666666, \"#ed7953\"], [0.7777777777777778, \"#fb9f3a\"], [0.8888888888888888, \"#fdca26\"], [1.0, \"#f0f921\"]], \"type\": \"contour\"}], \"contourcarpet\": [{\"colorbar\": {\"outlinewidth\": 0, \"ticks\": \"\"}, \"type\": \"contourcarpet\"}], \"heatmap\": [{\"colorbar\": {\"outlinewidth\": 0, \"ticks\": \"\"}, \"colorscale\": [[0.0, \"#0d0887\"], [0.1111111111111111, \"#46039f\"], [0.2222222222222222, \"#7201a8\"], [0.3333333333333333, \"#9c179e\"], [0.4444444444444444, \"#bd3786\"], [0.5555555555555556, \"#d8576b\"], [0.6666666666666666, \"#ed7953\"], [0.7777777777777778, \"#fb9f3a\"], [0.8888888888888888, \"#fdca26\"], [1.0, \"#f0f921\"]], \"type\": \"heatmap\"}], \"heatmapgl\": [{\"colorbar\": {\"outlinewidth\": 0, \"ticks\": \"\"}, \"colorscale\": [[0.0, \"#0d0887\"], [0.1111111111111111, \"#46039f\"], [0.2222222222222222, \"#7201a8\"], [0.3333333333333333, \"#9c179e\"], [0.4444444444444444, \"#bd3786\"], [0.5555555555555556, \"#d8576b\"], [0.6666666666666666, \"#ed7953\"], [0.7777777777777778, \"#fb9f3a\"], [0.8888888888888888, \"#fdca26\"], [1.0, \"#f0f921\"]], \"type\": \"heatmapgl\"}], \"histogram\": [{\"marker\": {\"colorbar\": {\"outlinewidth\": 0, \"ticks\": \"\"}}, \"type\": \"histogram\"}], \"histogram2d\": [{\"colorbar\": {\"outlinewidth\": 0, \"ticks\": \"\"}, \"colorscale\": [[0.0, \"#0d0887\"], [0.1111111111111111, \"#46039f\"], [0.2222222222222222, \"#7201a8\"], [0.3333333333333333, \"#9c179e\"], [0.4444444444444444, \"#bd3786\"], [0.5555555555555556, \"#d8576b\"], [0.6666666666666666, \"#ed7953\"], [0.7777777777777778, \"#fb9f3a\"], [0.8888888888888888, \"#fdca26\"], [1.0, \"#f0f921\"]], \"type\": \"histogram2d\"}], \"histogram2dcontour\": [{\"colorbar\": {\"outlinewidth\": 0, \"ticks\": \"\"}, \"colorscale\": [[0.0, \"#0d0887\"], [0.1111111111111111, \"#46039f\"], [0.2222222222222222, \"#7201a8\"], [0.3333333333333333, \"#9c179e\"], [0.4444444444444444, \"#bd3786\"], [0.5555555555555556, \"#d8576b\"], [0.6666666666666666, \"#ed7953\"], [0.7777777777777778, \"#fb9f3a\"], [0.8888888888888888, \"#fdca26\"], [1.0, \"#f0f921\"]], \"type\": \"histogram2dcontour\"}], \"mesh3d\": [{\"colorbar\": {\"outlinewidth\": 0, \"ticks\": \"\"}, \"type\": \"mesh3d\"}], \"parcoords\": [{\"line\": {\"colorbar\": {\"outlinewidth\": 0, \"ticks\": \"\"}}, \"type\": \"parcoords\"}], \"pie\": [{\"automargin\": true, \"type\": \"pie\"}], \"scatter\": [{\"marker\": {\"colorbar\": {\"outlinewidth\": 0, \"ticks\": \"\"}}, \"type\": \"scatter\"}], \"scatter3d\": [{\"line\": {\"colorbar\": {\"outlinewidth\": 0, \"ticks\": \"\"}}, \"marker\": {\"colorbar\": {\"outlinewidth\": 0, \"ticks\": \"\"}}, \"type\": \"scatter3d\"}], \"scattercarpet\": [{\"marker\": {\"colorbar\": {\"outlinewidth\": 0, \"ticks\": \"\"}}, \"type\": \"scattercarpet\"}], \"scattergeo\": [{\"marker\": {\"colorbar\": {\"outlinewidth\": 0, \"ticks\": \"\"}}, \"type\": \"scattergeo\"}], \"scattergl\": [{\"marker\": {\"colorbar\": {\"outlinewidth\": 0, \"ticks\": \"\"}}, \"type\": \"scattergl\"}], \"scattermapbox\": [{\"marker\": {\"colorbar\": {\"outlinewidth\": 0, \"ticks\": \"\"}}, \"type\": \"scattermapbox\"}], \"scatterpolar\": [{\"marker\": {\"colorbar\": {\"outlinewidth\": 0, \"ticks\": \"\"}}, \"type\": \"scatterpolar\"}], \"scatterpolargl\": [{\"marker\": {\"colorbar\": {\"outlinewidth\": 0, \"ticks\": \"\"}}, \"type\": \"scatterpolargl\"}], \"scatterternary\": [{\"marker\": {\"colorbar\": {\"outlinewidth\": 0, \"ticks\": \"\"}}, \"type\": \"scatterternary\"}], \"surface\": [{\"colorbar\": {\"outlinewidth\": 0, \"ticks\": \"\"}, \"colorscale\": [[0.0, \"#0d0887\"], [0.1111111111111111, \"#46039f\"], [0.2222222222222222, \"#7201a8\"], [0.3333333333333333, \"#9c179e\"], [0.4444444444444444, \"#bd3786\"], [0.5555555555555556, \"#d8576b\"], [0.6666666666666666, \"#ed7953\"], [0.7777777777777778, \"#fb9f3a\"], [0.8888888888888888, \"#fdca26\"], [1.0, \"#f0f921\"]], \"type\": \"surface\"}], \"table\": [{\"cells\": {\"fill\": {\"color\": \"#EBF0F8\"}, \"line\": {\"color\": \"white\"}}, \"header\": {\"fill\": {\"color\": \"#C8D4E3\"}, \"line\": {\"color\": \"white\"}}, \"type\": \"table\"}]}, \"layout\": {\"annotationdefaults\": {\"arrowcolor\": \"#2a3f5f\", \"arrowhead\": 0, \"arrowwidth\": 1}, \"coloraxis\": {\"colorbar\": {\"outlinewidth\": 0, \"ticks\": \"\"}}, \"colorscale\": {\"diverging\": [[0, \"#8e0152\"], [0.1, \"#c51b7d\"], [0.2, \"#de77ae\"], [0.3, \"#f1b6da\"], [0.4, \"#fde0ef\"], [0.5, \"#f7f7f7\"], [0.6, \"#e6f5d0\"], [0.7, \"#b8e186\"], [0.8, \"#7fbc41\"], [0.9, \"#4d9221\"], [1, \"#276419\"]], \"sequential\": [[0.0, \"#0d0887\"], [0.1111111111111111, \"#46039f\"], [0.2222222222222222, \"#7201a8\"], [0.3333333333333333, \"#9c179e\"], [0.4444444444444444, \"#bd3786\"], [0.5555555555555556, \"#d8576b\"], [0.6666666666666666, \"#ed7953\"], [0.7777777777777778, \"#fb9f3a\"], [0.8888888888888888, \"#fdca26\"], [1.0, \"#f0f921\"]], \"sequentialminus\": [[0.0, \"#0d0887\"], [0.1111111111111111, \"#46039f\"], [0.2222222222222222, \"#7201a8\"], [0.3333333333333333, \"#9c179e\"], [0.4444444444444444, \"#bd3786\"], [0.5555555555555556, \"#d8576b\"], [0.6666666666666666, \"#ed7953\"], [0.7777777777777778, \"#fb9f3a\"], [0.8888888888888888, \"#fdca26\"], [1.0, \"#f0f921\"]]}, \"colorway\": [\"#636efa\", \"#EF553B\", \"#00cc96\", \"#ab63fa\", \"#FFA15A\", \"#19d3f3\", \"#FF6692\", \"#B6E880\", \"#FF97FF\", \"#FECB52\"], \"font\": {\"color\": \"#2a3f5f\"}, \"geo\": {\"bgcolor\": \"white\", \"lakecolor\": \"white\", \"landcolor\": \"#E5ECF6\", \"showlakes\": true, \"showland\": true, \"subunitcolor\": \"white\"}, \"hoverlabel\": {\"align\": \"left\"}, \"hovermode\": \"closest\", \"mapbox\": {\"style\": \"light\"}, \"paper_bgcolor\": \"white\", \"plot_bgcolor\": \"#E5ECF6\", \"polar\": {\"angularaxis\": {\"gridcolor\": \"white\", \"linecolor\": \"white\", \"ticks\": \"\"}, \"bgcolor\": \"#E5ECF6\", \"radialaxis\": {\"gridcolor\": \"white\", \"linecolor\": \"white\", \"ticks\": \"\"}}, \"scene\": {\"xaxis\": {\"backgroundcolor\": \"#E5ECF6\", \"gridcolor\": \"white\", \"gridwidth\": 2, \"linecolor\": \"white\", \"showbackground\": true, \"ticks\": \"\", \"zerolinecolor\": \"white\"}, \"yaxis\": {\"backgroundcolor\": \"#E5ECF6\", \"gridcolor\": \"white\", \"gridwidth\": 2, \"linecolor\": \"white\", \"showbackground\": true, \"ticks\": \"\", \"zerolinecolor\": \"white\"}, \"zaxis\": {\"backgroundcolor\": \"#E5ECF6\", \"gridcolor\": \"white\", \"gridwidth\": 2, \"linecolor\": \"white\", \"showbackground\": true, \"ticks\": \"\", \"zerolinecolor\": \"white\"}}, \"shapedefaults\": {\"line\": {\"color\": \"#2a3f5f\"}}, \"ternary\": {\"aaxis\": {\"gridcolor\": \"white\", \"linecolor\": \"white\", \"ticks\": \"\"}, \"baxis\": {\"gridcolor\": \"white\", \"linecolor\": \"white\", \"ticks\": \"\"}, \"bgcolor\": \"#E5ECF6\", \"caxis\": {\"gridcolor\": \"white\", \"linecolor\": \"white\", \"ticks\": \"\"}}, \"title\": {\"x\": 0.05}, \"xaxis\": {\"automargin\": true, \"gridcolor\": \"white\", \"linecolor\": \"white\", \"ticks\": \"\", \"title\": {\"standoff\": 15}, \"zerolinecolor\": \"white\", \"zerolinewidth\": 2}, \"yaxis\": {\"automargin\": true, \"gridcolor\": \"white\", \"linecolor\": \"white\", \"ticks\": \"\", \"title\": {\"standoff\": 15}, \"zerolinecolor\": \"white\", \"zerolinewidth\": 2}}}, \"title\": {\"text\": \"Pharmaceutical Stocks\"}, \"xaxis\": {\"anchor\": \"y\", \"domain\": [0.0, 1.0], \"title\": {\"text\": \"Date\"}}, \"yaxis\": {\"anchor\": \"x\", \"domain\": [0.0, 1.0], \"title\": {\"text\": \"Close\"}}},                        {\"responsive\": true}                    ).then(function(){\n",
       "                            \n",
       "var gd = document.getElementById('97091f12-e297-4e6e-889f-edef603a436d');\n",
       "var x = new MutationObserver(function (mutations, observer) {{\n",
       "        var display = window.getComputedStyle(gd).display;\n",
       "        if (!display || display === 'none') {{\n",
       "            console.log([gd, 'removed!']);\n",
       "            Plotly.purge(gd);\n",
       "            observer.disconnect();\n",
       "        }}\n",
       "}});\n",
       "\n",
       "// Listen for the removal of the full notebook cells\n",
       "var notebookContainer = gd.closest('#notebook-container');\n",
       "if (notebookContainer) {{\n",
       "    x.observe(notebookContainer, {childList: true});\n",
       "}}\n",
       "\n",
       "// Listen for the clearing of the current output cell\n",
       "var outputEl = gd.closest('.output');\n",
       "if (outputEl) {{\n",
       "    x.observe(outputEl, {childList: true});\n",
       "}}\n",
       "\n",
       "                        })                };                });            </script>        </div>"
      ]
     },
     "metadata": {},
     "output_type": "display_data"
    }
   ],
   "source": [
    "#plotly version\n",
    "\n",
    "vax_px = px.line(vax_data ,y = ['Abbott Laboratories','Moderna','Novavax','Pfizer',], labels = {'value':'Close',\n",
    "                \"variable\": \"Companies\"}, title=\"Pharmaceutical Stocks\")\n",
    "vax_px.show()\n"
   ]
  },
  {
   "cell_type": "code",
   "execution_count": null,
   "metadata": {},
   "outputs": [],
   "source": []
  }
 ],
 "metadata": {
  "kernelspec": {
   "display_name": "Python 3",
   "language": "python",
   "name": "python3"
  },
  "language_info": {
   "codemirror_mode": {
    "name": "ipython",
    "version": 3
   },
   "file_extension": ".py",
   "mimetype": "text/x-python",
   "name": "python",
   "nbconvert_exporter": "python",
   "pygments_lexer": "ipython3",
   "version": "3.7.7"
  }
 },
 "nbformat": 4,
 "nbformat_minor": 4
}
