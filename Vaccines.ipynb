{
 "cells": [
  {
   "cell_type": "code",
   "execution_count": 2,
   "metadata": {},
   "outputs": [],
   "source": [
    "import pandas as pd\n",
    "from pathlib import Path\n",
    "import hvplot.pandas"
   ]
  },
  {
   "cell_type": "code",
   "execution_count": 3,
   "metadata": {},
   "outputs": [],
   "source": [
    "#Reading Abbott Labs Stock File\n",
    "abt_csv = Path(\"/Users/sabrinareed/Desktop/JupyterWorkspace/covid19casedata/ABT.csv\")"
   ]
  },
  {
   "cell_type": "code",
   "execution_count": 7,
   "metadata": {},
   "outputs": [
    {
     "data": {
      "text/html": [
       "<div>\n",
       "<style scoped>\n",
       "    .dataframe tbody tr th:only-of-type {\n",
       "        vertical-align: middle;\n",
       "    }\n",
       "\n",
       "    .dataframe tbody tr th {\n",
       "        vertical-align: top;\n",
       "    }\n",
       "\n",
       "    .dataframe thead th {\n",
       "        text-align: right;\n",
       "    }\n",
       "</style>\n",
       "<table border=\"1\" class=\"dataframe\">\n",
       "  <thead>\n",
       "    <tr style=\"text-align: right;\">\n",
       "      <th></th>\n",
       "      <th>Abbott Laboratories</th>\n",
       "    </tr>\n",
       "    <tr>\n",
       "      <th>Date</th>\n",
       "      <th></th>\n",
       "    </tr>\n",
       "  </thead>\n",
       "  <tbody>\n",
       "    <tr>\n",
       "      <th>1/2/2020 16:00:00</th>\n",
       "      <td>86.95</td>\n",
       "    </tr>\n",
       "    <tr>\n",
       "      <th>1/3/2020 16:00:00</th>\n",
       "      <td>85.89</td>\n",
       "    </tr>\n",
       "    <tr>\n",
       "      <th>1/6/2020 16:00:00</th>\n",
       "      <td>86.34</td>\n",
       "    </tr>\n",
       "    <tr>\n",
       "      <th>1/7/2020 16:00:00</th>\n",
       "      <td>85.86</td>\n",
       "    </tr>\n",
       "    <tr>\n",
       "      <th>1/8/2020 16:00:00</th>\n",
       "      <td>86.21</td>\n",
       "    </tr>\n",
       "  </tbody>\n",
       "</table>\n",
       "</div>"
      ],
      "text/plain": [
       "                   Abbott Laboratories\n",
       "Date                                  \n",
       "1/2/2020 16:00:00                86.95\n",
       "1/3/2020 16:00:00                85.89\n",
       "1/6/2020 16:00:00                86.34\n",
       "1/7/2020 16:00:00                85.86\n",
       "1/8/2020 16:00:00                86.21"
      ]
     },
     "execution_count": 7,
     "metadata": {},
     "output_type": "execute_result"
    }
   ],
   "source": [
    "#Display ABT stock data\n",
    "#Setting Date to Index / Need to find out how to drop timestamp\n",
    "abt_data = pd.read_csv(abt_csv, header = 1, index_col=\"Date\")\n",
    "#Rename columns\n",
    "abt_data = abt_data.rename(columns={\"Close\": \"Abbott Laboratories\"})\n",
    "abt_data.head()"
   ]
  },
  {
   "cell_type": "code",
   "execution_count": 5,
   "metadata": {},
   "outputs": [
    {
     "data": {
      "application/vnd.holoviews_exec.v0+json": "",
      "text/html": [
       "<div id='1001'>\n",
       "\n",
       "\n",
       "\n",
       "\n",
       "\n",
       "  <div class=\"bk-root\" id=\"77377dfd-7a41-4f9f-9f99-762a33533944\" data-root-id=\"1001\"></div>\n",
       "</div>\n",
       "<script type=\"application/javascript\">(function(root) {\n",
       "  function embed_document(root) {\n",
       "  var docs_json = {\"dc9826ca-9eca-4bf1-9017-97bff34f0338\":{\"roots\":{\"references\":[{\"attributes\":{\"line_alpha\":0.2,\"line_color\":\"#1f77b3\",\"line_width\":2,\"x\":{\"field\":\"Date\"},\"y\":{\"field\":\"Abbott Laboratories\"}},\"id\":\"1040\",\"type\":\"Line\"},{\"attributes\":{},\"id\":\"1023\",\"type\":\"PanTool\"},{\"attributes\":{\"end\":116.137,\"reset_end\":116.137,\"reset_start\":57.973,\"start\":57.973,\"tags\":[[[\"Abbott Laboratories\",\"Abbott Laboratories\",null]]]},\"id\":\"1004\",\"type\":\"Range1d\"},{\"attributes\":{\"line_alpha\":0.1,\"line_color\":\"#1f77b3\",\"line_width\":2,\"x\":{\"field\":\"Date\"},\"y\":{\"field\":\"Abbott Laboratories\"}},\"id\":\"1039\",\"type\":\"Line\"},{\"attributes\":{},\"id\":\"1036\",\"type\":\"Selection\"},{\"attributes\":{\"margin\":[5,5,5,5],\"name\":\"HSpacer01525\",\"sizing_mode\":\"stretch_width\"},\"id\":\"1063\",\"type\":\"Spacer\"},{\"attributes\":{},\"id\":\"1011\",\"type\":\"CategoricalScale\"},{\"attributes\":{},\"id\":\"1024\",\"type\":\"WheelZoomTool\"},{\"attributes\":{\"data_source\":{\"id\":\"1035\"},\"glyph\":{\"id\":\"1038\"},\"hover_glyph\":null,\"muted_glyph\":{\"id\":\"1040\"},\"nonselection_glyph\":{\"id\":\"1039\"},\"selection_glyph\":null,\"view\":{\"id\":\"1042\"}},\"id\":\"1041\",\"type\":\"GlyphRenderer\"},{\"attributes\":{},\"id\":\"1022\",\"type\":\"SaveTool\"},{\"attributes\":{},\"id\":\"1044\",\"type\":\"CategoricalTickFormatter\"},{\"attributes\":{\"axis\":{\"id\":\"1018\"},\"dimension\":1,\"grid_line_color\":null,\"ticker\":null},\"id\":\"1021\",\"type\":\"Grid\"},{\"attributes\":{\"line_color\":\"#1f77b3\",\"line_width\":2,\"x\":{\"field\":\"Date\"},\"y\":{\"field\":\"Abbott Laboratories\"}},\"id\":\"1038\",\"type\":\"Line\"},{\"attributes\":{\"text\":\"\",\"text_color\":{\"value\":\"black\"},\"text_font_size\":{\"value\":\"12pt\"}},\"id\":\"1007\",\"type\":\"Title\"},{\"attributes\":{\"axis_label\":\"Abbott Laboratories\",\"bounds\":\"auto\",\"formatter\":{\"id\":\"1046\"},\"major_label_orientation\":\"horizontal\",\"ticker\":{\"id\":\"1019\"}},\"id\":\"1018\",\"type\":\"LinearAxis\"},{\"attributes\":{},\"id\":\"1019\",\"type\":\"BasicTicker\"},{\"attributes\":{\"source\":{\"id\":\"1035\"}},\"id\":\"1042\",\"type\":\"CDSView\"},{\"attributes\":{\"margin\":[5,5,5,5],\"name\":\"HSpacer01524\",\"sizing_mode\":\"stretch_width\"},\"id\":\"1002\",\"type\":\"Spacer\"},{\"attributes\":{\"children\":[{\"id\":\"1002\"},{\"id\":\"1006\"},{\"id\":\"1063\"}],\"margin\":[0,0,0,0],\"name\":\"Row01520\",\"tags\":[\"embedded\"]},\"id\":\"1001\",\"type\":\"Row\"},{\"attributes\":{},\"id\":\"1016\",\"type\":\"CategoricalTicker\"},{\"attributes\":{\"axis_label\":\"Date\",\"bounds\":\"auto\",\"formatter\":{\"id\":\"1044\"},\"major_label_orientation\":\"horizontal\",\"ticker\":{\"id\":\"1016\"}},\"id\":\"1015\",\"type\":\"CategoricalAxis\"},{\"attributes\":{\"factors\":[\"1/2/2020 16:00:00\",\"1/3/2020 16:00:00\",\"1/6/2020 16:00:00\",\"1/7/2020 16:00:00\",\"1/8/2020 16:00:00\",\"1/9/2020 16:00:00\",\"1/10/2020 16:00:00\",\"1/13/2020 16:00:00\",\"1/14/2020 16:00:00\",\"1/15/2020 16:00:00\",\"1/16/2020 16:00:00\",\"1/17/2020 16:00:00\",\"1/21/2020 16:00:00\",\"1/22/2020 16:00:00\",\"1/23/2020 16:00:00\",\"1/24/2020 16:00:00\",\"1/27/2020 16:00:00\",\"1/28/2020 16:00:00\",\"1/29/2020 16:00:00\",\"1/30/2020 16:00:00\",\"1/31/2020 16:00:00\",\"2/3/2020 16:00:00\",\"2/4/2020 16:00:00\",\"2/5/2020 16:00:00\",\"2/6/2020 16:00:00\",\"2/7/2020 16:00:00\",\"2/10/2020 16:00:00\",\"2/11/2020 16:00:00\",\"2/12/2020 16:00:00\",\"2/13/2020 16:00:00\",\"2/14/2020 16:00:00\",\"2/18/2020 16:00:00\",\"2/19/2020 16:00:00\",\"2/20/2020 16:00:00\",\"2/21/2020 16:00:00\",\"2/24/2020 16:00:00\",\"2/25/2020 16:00:00\",\"2/26/2020 16:00:00\",\"2/27/2020 16:00:00\",\"2/28/2020 16:00:00\",\"3/2/2020 16:00:00\",\"3/3/2020 16:00:00\",\"3/4/2020 16:00:00\",\"3/5/2020 16:00:00\",\"3/6/2020 16:00:00\",\"3/9/2020 16:00:00\",\"3/10/2020 16:00:00\",\"3/11/2020 16:00:00\",\"3/12/2020 16:00:00\",\"3/13/2020 16:00:00\",\"3/16/2020 16:00:00\",\"3/17/2020 16:00:00\",\"3/18/2020 16:00:00\",\"3/19/2020 16:00:00\",\"3/20/2020 16:00:00\",\"3/23/2020 16:00:00\",\"3/24/2020 16:00:00\",\"3/25/2020 16:00:00\",\"3/26/2020 16:00:00\",\"3/27/2020 16:00:00\",\"3/30/2020 16:00:00\",\"3/31/2020 16:00:00\",\"4/1/2020 16:00:00\",\"4/2/2020 16:00:00\",\"4/3/2020 16:00:00\",\"4/6/2020 16:00:00\",\"4/7/2020 16:00:00\",\"4/8/2020 16:00:00\",\"4/9/2020 16:00:00\",\"4/13/2020 16:00:00\",\"4/14/2020 16:00:00\",\"4/15/2020 16:00:00\",\"4/16/2020 16:00:00\",\"4/17/2020 16:00:00\",\"4/20/2020 16:00:00\",\"4/21/2020 16:00:00\",\"4/22/2020 16:00:00\",\"4/23/2020 16:00:00\",\"4/24/2020 16:00:00\",\"4/27/2020 16:00:00\",\"4/28/2020 16:00:00\",\"4/29/2020 16:00:00\",\"4/30/2020 16:00:00\",\"5/1/2020 16:00:00\",\"5/4/2020 16:00:00\",\"5/5/2020 16:00:00\",\"5/6/2020 16:00:00\",\"5/7/2020 16:00:00\",\"5/8/2020 16:00:00\",\"5/11/2020 16:00:00\",\"5/12/2020 16:00:00\",\"5/13/2020 16:00:00\",\"5/14/2020 16:00:00\",\"5/15/2020 16:00:00\",\"5/18/2020 16:00:00\",\"5/19/2020 16:00:00\",\"5/20/2020 16:00:00\",\"5/21/2020 16:00:00\",\"5/22/2020 16:00:00\",\"5/26/2020 16:00:00\",\"5/27/2020 16:00:00\",\"5/28/2020 16:00:00\",\"5/29/2020 16:00:00\",\"6/1/2020 16:00:00\",\"6/2/2020 16:00:00\",\"6/3/2020 16:00:00\",\"6/4/2020 16:00:00\",\"6/5/2020 16:00:00\",\"6/8/2020 16:00:00\",\"6/9/2020 16:00:00\",\"6/10/2020 16:00:00\",\"6/11/2020 16:00:00\",\"6/12/2020 16:00:00\",\"6/15/2020 16:00:00\",\"6/16/2020 16:00:00\",\"6/17/2020 16:00:00\",\"6/18/2020 16:00:00\",\"6/19/2020 16:00:00\",\"6/22/2020 16:00:00\",\"6/23/2020 16:00:00\",\"6/24/2020 16:00:00\",\"6/25/2020 16:00:00\",\"6/26/2020 16:00:00\",\"6/29/2020 16:00:00\",\"6/30/2020 16:00:00\",\"7/1/2020 16:00:00\",\"7/2/2020 16:00:00\",\"7/6/2020 16:00:00\",\"7/7/2020 16:00:00\",\"7/8/2020 16:00:00\",\"7/9/2020 16:00:00\",\"7/10/2020 16:00:00\",\"7/13/2020 16:00:00\",\"7/14/2020 16:00:00\",\"7/15/2020 16:00:00\",\"7/16/2020 16:00:00\",\"7/17/2020 16:00:00\",\"7/20/2020 16:00:00\",\"7/21/2020 16:00:00\",\"7/22/2020 16:00:00\",\"7/23/2020 16:00:00\",\"7/24/2020 16:00:00\",\"7/27/2020 16:00:00\",\"7/28/2020 16:00:00\",\"7/29/2020 16:00:00\",\"7/30/2020 16:00:00\",\"7/31/2020 16:00:00\",\"8/3/2020 16:00:00\",\"8/4/2020 16:00:00\",\"8/5/2020 16:00:00\",\"8/6/2020 16:00:00\",\"8/7/2020 16:00:00\",\"8/10/2020 16:00:00\",\"8/11/2020 16:00:00\",\"8/12/2020 16:00:00\",\"8/13/2020 16:00:00\",\"8/14/2020 16:00:00\",\"8/17/2020 16:00:00\",\"8/18/2020 16:00:00\",\"8/19/2020 16:00:00\",\"8/20/2020 16:00:00\",\"8/21/2020 16:00:00\",\"8/24/2020 16:00:00\",\"8/25/2020 16:00:00\",\"8/26/2020 16:00:00\",\"8/27/2020 16:00:00\",\"8/28/2020 16:00:00\",\"8/31/2020 16:00:00\",\"9/1/2020 16:00:00\",\"9/2/2020 16:00:00\",\"9/3/2020 16:00:00\",\"9/4/2020 16:00:00\",\"9/8/2020 16:00:00\",\"9/9/2020 16:00:00\",\"9/10/2020 16:00:00\",\"9/11/2020 16:00:00\",\"9/14/2020 16:00:00\",\"9/15/2020 16:00:00\",\"9/16/2020 16:00:00\",\"9/17/2020 16:00:00\",\"9/18/2020 16:00:00\",\"9/21/2020 16:00:00\",\"9/22/2020 16:00:00\",\"9/23/2020 16:00:00\",\"9/24/2020 16:00:00\",\"9/25/2020 16:00:00\",\"9/28/2020 16:00:00\",\"9/29/2020 16:00:00\",\"9/30/2020 16:00:00\",\"10/1/2020 16:00:00\",\"10/2/2020 16:00:00\",\"10/5/2020 16:00:00\",\"10/6/2020 16:00:00\",\"10/7/2020 16:00:00\",\"10/8/2020 16:00:00\",\"10/9/2020 16:00:00\",\"10/12/2020 16:00:00\",\"10/13/2020 16:00:00\",\"10/14/2020 16:00:00\",\"10/15/2020 16:00:00\",\"10/16/2020 16:00:00\",\"10/19/2020 16:00:00\",\"10/20/2020 16:00:00\",\"10/21/2020 16:00:00\",\"10/22/2020 16:00:00\",\"10/23/2020 16:00:00\",\"10/26/2020 16:00:00\",\"10/27/2020 16:00:00\",\"10/28/2020 16:00:00\",\"10/29/2020 16:00:00\",\"10/30/2020 16:00:00\"],\"tags\":[[[\"Date\",\"Date\",null]]]},\"id\":\"1003\",\"type\":\"FactorRange\"},{\"attributes\":{\"axis\":{\"id\":\"1015\"},\"grid_line_color\":null,\"ticker\":null},\"id\":\"1017\",\"type\":\"Grid\"},{\"attributes\":{\"data\":{\"Abbott Laboratories\":{\"__ndarray__\":\"zczMzMy8VUApXI/C9XhVQPYoXI/ClVVA16NwPQp3VUA9CtejcI1VQFyPwvUonFVA16NwPQpXVUBI4XoUrkdVQI/C9Shcb1VAuB6F61HYVUBSuB6F6xFWQAAAAAAAQFZAH4XrUbhuVkDXo3A9CvdWQB+F61G4rlZAmpmZmZmZVkD2KFyPwmVWQMP1KFyPYlZAKVyPwvVIVkAK16NwPUpWQClcj8L1yFVApHA9CtfDVUAfhetRuA5WQKRwPQrXY1ZArkfhehReVkBI4XoUrvdVQDMzMzMzE1ZAexSuR+FKVkDD9ShcjzJWQOxRuB6FK1ZACtejcD1qVkC4HoXrUThWQNejcD0KV1ZAPQrXo3AdVkDNzMzMzNxVQLgehetRKFVAuB6F61FIVEDXo3A9CldUQFyPwvUozFNAUrgehetBU0DXo3A9CmdUQI/C9Shcf1NA9ihcj8KFVEDhehSuRyFUQI/C9Shcb1RA4XoUrkdBU0C4HoXrUThUQPYoXI/ChVNAj8L1KFyvUkCamZmZmWlUQArXo3A9alJAj8L1KFzfU0BxPQrXo9BTQAAAAAAAoFJAAAAAAAAAUUApXI/C9WhPQFyPwvUobFFAAAAAAACwUUCkcD0K1/NSQKRwPQrXo1JA9ihcj8LVU0AK16NwPbpTQBSuR+F6JFNAXI/C9SjcU0DNzMzMzNxTQB+F61G4rlRA7FG4HoV7VEDNzMzMzDxVQMP1KFyPglVAZmZmZmZ2VUApXI/C9UhWQFyPwvUovFZAAAAAAAAAWEBxPQrXowBYQAAAAAAAgFhAMzMzMzODV0AfhetRuN5XQFyPwvUofFdApHA9CteDV0DNzMzMzLxXQD0K16Nw3VZAUrgehesRV0D2KFyPwgVXQGZmZmZmdlZAhetRuB51VkBSuB6F60FXQIXrUbgexVZAj8L1KFx/V0DNzMzMzGxXQBSuR+F6BFhAMzMzMzNzV0AK16NwPQpXQFK4HoXr8VZAKVyPwvV4VkDhehSuR5FWQK5H4XoUDlZA9ihcj8KFVkApXI/C9ZhWQK5H4XoU3lZAH4XrUbheVkBxPQrXo7BWQGZmZmZmBldAexSuR+G6V0BxPQrXo0BXQEjhehSuJ1dAmpmZmZnZVkAAAAAAABBWQNejcD0Kd1ZApHA9CtcjV0DhehSuR5FWQArXo3A9CldAUrgehevxVUDhehSuR0FWQDMzMzMzY1ZAj8L1KFxvVkCamZmZmblWQFK4HoXrkVZA7FG4HoWrVkD2KFyPwpVWQDMzMzMz01ZAMzMzMzPTVUBI4XoUrmdWQD0K16NwLVZAcT0K16NAVkDsUbgehdtWQClcj8L16FZAH4XrUbgOV0CuR+F6FD5XQD0K16NwHVdAhetRuB4lV0B7FK5H4WpXQMP1KFyPQldA9ihcj8JFV0AUrkfherRXQB+F61G4LlhAmpmZmZkZWEAAAAAAANBYQIXrUbgexVhAXI/C9SiMWEBcj8L1KAxZQBSuR+F6NFlAzczMzMy8WECPwvUoXP9YQNejcD0K91hA4XoUrkehWUBSuB6F62FZQClcj8L1KFlA7FG4HoUrWUDsUbgehftYQClcj8L1iFlAAAAAAABwWUAfhetRuE5ZQMP1KFyPAllApHA9CtfDWECamZmZmSlZQGZmZmZmRllAj8L1KFz/WEA9CtejcC1ZQD0K16NwPVlAH4XrUbgeWUC4HoXrUWhZQJqZmZmZmVlAKVyPwvVYWUCuR+F6FJ5ZQFyPwvUozFlAw/UoXI/SW0DD9Shcj7JbQK5H4XoUXltAMzMzMzOjWkBcj8L1KFxbQFK4HoXrYVpACtejcD0KWkD2KFyPwrVZQKRwPQrXc1pAAAAAAAAAWkDNzMzMzCxaQFyPwvUobFpAhetRuB6lWkDNzMzMzGxaQArXo3A9qlpA16NwPQq3WkDNzMzMzHxaQDMzMzMzM1pAH4XrUbiuWUB7FK5H4TpZQM3MzMzM3FlAXI/C9SgcWkBcj8L1KExaQIXrUbgeNVtAKVyPwvUoW0AAAAAAAKBaQKRwPQrXI1tAAAAAAACQWkCPwvUoXO9aQMP1KFyPIltAmpmZmZlpW0AzMzMzM8NbQEjhehSuF1tAAAAAAADwWkAUrkfhetRaQHsUrkfhaltAw/UoXI8CW0DXo3A9ChdbQOxRuB6Fe1pAH4XrUbheW0DD9Shcj/JaQAAAAAAAQFtAhetRuB4lW0B7FK5H4ZpaQAAAAAAAQFpA16NwPQpHWkA=\",\"dtype\":\"float64\",\"order\":\"little\",\"shape\":[211]},\"Abbott_Laboratories\":{\"__ndarray__\":\"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\",\"dtype\":\"float64\",\"order\":\"little\",\"shape\":[211]},\"Date\":[\"1/2/2020 16:00:00\",\"1/3/2020 16:00:00\",\"1/6/2020 16:00:00\",\"1/7/2020 16:00:00\",\"1/8/2020 16:00:00\",\"1/9/2020 16:00:00\",\"1/10/2020 16:00:00\",\"1/13/2020 16:00:00\",\"1/14/2020 16:00:00\",\"1/15/2020 16:00:00\",\"1/16/2020 16:00:00\",\"1/17/2020 16:00:00\",\"1/21/2020 16:00:00\",\"1/22/2020 16:00:00\",\"1/23/2020 16:00:00\",\"1/24/2020 16:00:00\",\"1/27/2020 16:00:00\",\"1/28/2020 16:00:00\",\"1/29/2020 16:00:00\",\"1/30/2020 16:00:00\",\"1/31/2020 16:00:00\",\"2/3/2020 16:00:00\",\"2/4/2020 16:00:00\",\"2/5/2020 16:00:00\",\"2/6/2020 16:00:00\",\"2/7/2020 16:00:00\",\"2/10/2020 16:00:00\",\"2/11/2020 16:00:00\",\"2/12/2020 16:00:00\",\"2/13/2020 16:00:00\",\"2/14/2020 16:00:00\",\"2/18/2020 16:00:00\",\"2/19/2020 16:00:00\",\"2/20/2020 16:00:00\",\"2/21/2020 16:00:00\",\"2/24/2020 16:00:00\",\"2/25/2020 16:00:00\",\"2/26/2020 16:00:00\",\"2/27/2020 16:00:00\",\"2/28/2020 16:00:00\",\"3/2/2020 16:00:00\",\"3/3/2020 16:00:00\",\"3/4/2020 16:00:00\",\"3/5/2020 16:00:00\",\"3/6/2020 16:00:00\",\"3/9/2020 16:00:00\",\"3/10/2020 16:00:00\",\"3/11/2020 16:00:00\",\"3/12/2020 16:00:00\",\"3/13/2020 16:00:00\",\"3/16/2020 16:00:00\",\"3/17/2020 16:00:00\",\"3/18/2020 16:00:00\",\"3/19/2020 16:00:00\",\"3/20/2020 16:00:00\",\"3/23/2020 16:00:00\",\"3/24/2020 16:00:00\",\"3/25/2020 16:00:00\",\"3/26/2020 16:00:00\",\"3/27/2020 16:00:00\",\"3/30/2020 16:00:00\",\"3/31/2020 16:00:00\",\"4/1/2020 16:00:00\",\"4/2/2020 16:00:00\",\"4/3/2020 16:00:00\",\"4/6/2020 16:00:00\",\"4/7/2020 16:00:00\",\"4/8/2020 16:00:00\",\"4/9/2020 16:00:00\",\"4/13/2020 16:00:00\",\"4/14/2020 16:00:00\",\"4/15/2020 16:00:00\",\"4/16/2020 16:00:00\",\"4/17/2020 16:00:00\",\"4/20/2020 16:00:00\",\"4/21/2020 16:00:00\",\"4/22/2020 16:00:00\",\"4/23/2020 16:00:00\",\"4/24/2020 16:00:00\",\"4/27/2020 16:00:00\",\"4/28/2020 16:00:00\",\"4/29/2020 16:00:00\",\"4/30/2020 16:00:00\",\"5/1/2020 16:00:00\",\"5/4/2020 16:00:00\",\"5/5/2020 16:00:00\",\"5/6/2020 16:00:00\",\"5/7/2020 16:00:00\",\"5/8/2020 16:00:00\",\"5/11/2020 16:00:00\",\"5/12/2020 16:00:00\",\"5/13/2020 16:00:00\",\"5/14/2020 16:00:00\",\"5/15/2020 16:00:00\",\"5/18/2020 16:00:00\",\"5/19/2020 16:00:00\",\"5/20/2020 16:00:00\",\"5/21/2020 16:00:00\",\"5/22/2020 16:00:00\",\"5/26/2020 16:00:00\",\"5/27/2020 16:00:00\",\"5/28/2020 16:00:00\",\"5/29/2020 16:00:00\",\"6/1/2020 16:00:00\",\"6/2/2020 16:00:00\",\"6/3/2020 16:00:00\",\"6/4/2020 16:00:00\",\"6/5/2020 16:00:00\",\"6/8/2020 16:00:00\",\"6/9/2020 16:00:00\",\"6/10/2020 16:00:00\",\"6/11/2020 16:00:00\",\"6/12/2020 16:00:00\",\"6/15/2020 16:00:00\",\"6/16/2020 16:00:00\",\"6/17/2020 16:00:00\",\"6/18/2020 16:00:00\",\"6/19/2020 16:00:00\",\"6/22/2020 16:00:00\",\"6/23/2020 16:00:00\",\"6/24/2020 16:00:00\",\"6/25/2020 16:00:00\",\"6/26/2020 16:00:00\",\"6/29/2020 16:00:00\",\"6/30/2020 16:00:00\",\"7/1/2020 16:00:00\",\"7/2/2020 16:00:00\",\"7/6/2020 16:00:00\",\"7/7/2020 16:00:00\",\"7/8/2020 16:00:00\",\"7/9/2020 16:00:00\",\"7/10/2020 16:00:00\",\"7/13/2020 16:00:00\",\"7/14/2020 16:00:00\",\"7/15/2020 16:00:00\",\"7/16/2020 16:00:00\",\"7/17/2020 16:00:00\",\"7/20/2020 16:00:00\",\"7/21/2020 16:00:00\",\"7/22/2020 16:00:00\",\"7/23/2020 16:00:00\",\"7/24/2020 16:00:00\",\"7/27/2020 16:00:00\",\"7/28/2020 16:00:00\",\"7/29/2020 16:00:00\",\"7/30/2020 16:00:00\",\"7/31/2020 16:00:00\",\"8/3/2020 16:00:00\",\"8/4/2020 16:00:00\",\"8/5/2020 16:00:00\",\"8/6/2020 16:00:00\",\"8/7/2020 16:00:00\",\"8/10/2020 16:00:00\",\"8/11/2020 16:00:00\",\"8/12/2020 16:00:00\",\"8/13/2020 16:00:00\",\"8/14/2020 16:00:00\",\"8/17/2020 16:00:00\",\"8/18/2020 16:00:00\",\"8/19/2020 16:00:00\",\"8/20/2020 16:00:00\",\"8/21/2020 16:00:00\",\"8/24/2020 16:00:00\",\"8/25/2020 16:00:00\",\"8/26/2020 16:00:00\",\"8/27/2020 16:00:00\",\"8/28/2020 16:00:00\",\"8/31/2020 16:00:00\",\"9/1/2020 16:00:00\",\"9/2/2020 16:00:00\",\"9/3/2020 16:00:00\",\"9/4/2020 16:00:00\",\"9/8/2020 16:00:00\",\"9/9/2020 16:00:00\",\"9/10/2020 16:00:00\",\"9/11/2020 16:00:00\",\"9/14/2020 16:00:00\",\"9/15/2020 16:00:00\",\"9/16/2020 16:00:00\",\"9/17/2020 16:00:00\",\"9/18/2020 16:00:00\",\"9/21/2020 16:00:00\",\"9/22/2020 16:00:00\",\"9/23/2020 16:00:00\",\"9/24/2020 16:00:00\",\"9/25/2020 16:00:00\",\"9/28/2020 16:00:00\",\"9/29/2020 16:00:00\",\"9/30/2020 16:00:00\",\"10/1/2020 16:00:00\",\"10/2/2020 16:00:00\",\"10/5/2020 16:00:00\",\"10/6/2020 16:00:00\",\"10/7/2020 16:00:00\",\"10/8/2020 16:00:00\",\"10/9/2020 16:00:00\",\"10/12/2020 16:00:00\",\"10/13/2020 16:00:00\",\"10/14/2020 16:00:00\",\"10/15/2020 16:00:00\",\"10/16/2020 16:00:00\",\"10/19/2020 16:00:00\",\"10/20/2020 16:00:00\",\"10/21/2020 16:00:00\",\"10/22/2020 16:00:00\",\"10/23/2020 16:00:00\",\"10/26/2020 16:00:00\",\"10/27/2020 16:00:00\",\"10/28/2020 16:00:00\",\"10/29/2020 16:00:00\",\"10/30/2020 16:00:00\"]},\"selected\":{\"id\":\"1036\"},\"selection_policy\":{\"id\":\"1053\"}},\"id\":\"1035\",\"type\":\"ColumnDataSource\"},{\"attributes\":{\"bottom_units\":\"screen\",\"fill_alpha\":0.5,\"fill_color\":\"lightgrey\",\"left_units\":\"screen\",\"level\":\"overlay\",\"line_alpha\":1.0,\"line_color\":\"black\",\"line_dash\":[4,4],\"line_width\":2,\"right_units\":\"screen\",\"top_units\":\"screen\"},\"id\":\"1027\",\"type\":\"BoxAnnotation\"},{\"attributes\":{\"align\":null,\"below\":[{\"id\":\"1015\"}],\"center\":[{\"id\":\"1017\"},{\"id\":\"1021\"}],\"left\":[{\"id\":\"1018\"}],\"margin\":null,\"min_border_bottom\":10,\"min_border_left\":10,\"min_border_right\":10,\"min_border_top\":10,\"plot_height\":300,\"plot_width\":700,\"renderers\":[{\"id\":\"1041\"}],\"sizing_mode\":\"fixed\",\"title\":{\"id\":\"1007\"},\"toolbar\":{\"id\":\"1028\"},\"x_range\":{\"id\":\"1003\"},\"x_scale\":{\"id\":\"1011\"},\"y_range\":{\"id\":\"1004\"},\"y_scale\":{\"id\":\"1013\"}},\"id\":\"1006\",\"subtype\":\"Figure\",\"type\":\"Plot\"},{\"attributes\":{},\"id\":\"1013\",\"type\":\"LinearScale\"},{\"attributes\":{\"overlay\":{\"id\":\"1027\"}},\"id\":\"1025\",\"type\":\"BoxZoomTool\"},{\"attributes\":{\"callback\":null,\"renderers\":[{\"id\":\"1041\"}],\"tags\":[\"hv_created\"],\"tooltips\":[[\"Date\",\"@{Date}\"],[\"Abbott Laboratories\",\"@{Abbott_Laboratories}\"]]},\"id\":\"1005\",\"type\":\"HoverTool\"},{\"attributes\":{},\"id\":\"1046\",\"type\":\"BasicTickFormatter\"},{\"attributes\":{},\"id\":\"1026\",\"type\":\"ResetTool\"},{\"attributes\":{\"active_drag\":\"auto\",\"active_inspect\":\"auto\",\"active_multi\":null,\"active_scroll\":\"auto\",\"active_tap\":\"auto\",\"tools\":[{\"id\":\"1005\"},{\"id\":\"1022\"},{\"id\":\"1023\"},{\"id\":\"1024\"},{\"id\":\"1025\"},{\"id\":\"1026\"}]},\"id\":\"1028\",\"type\":\"Toolbar\"},{\"attributes\":{},\"id\":\"1053\",\"type\":\"UnionRenderers\"}],\"root_ids\":[\"1001\"]},\"title\":\"Bokeh Application\",\"version\":\"2.1.1\"}};\n",
       "  var render_items = [{\"docid\":\"dc9826ca-9eca-4bf1-9017-97bff34f0338\",\"root_ids\":[\"1001\"],\"roots\":{\"1001\":\"77377dfd-7a41-4f9f-9f99-762a33533944\"}}];\n",
       "  root.Bokeh.embed.embed_items_notebook(docs_json, render_items);\n",
       "  }\n",
       "if (root.Bokeh !== undefined) {\n",
       "    embed_document(root);\n",
       "  } else {\n",
       "    var attempts = 0;\n",
       "    var timer = setInterval(function(root) {\n",
       "      if (root.Bokeh !== undefined) {\n",
       "        clearInterval(timer);\n",
       "        embed_document(root);\n",
       "      } else if (document.readyState == \"complete\") {\n",
       "        attempts++;\n",
       "        if (attempts > 100) {\n",
       "          clearInterval(timer);\n",
       "          console.log(\"Bokeh: ERROR: Unable to run BokehJS code because BokehJS library is missing\");\n",
       "        }\n",
       "      }\n",
       "    }, 10, root)\n",
       "  }\n",
       "})(window);</script>"
      ],
      "text/plain": [
       ":Curve   [Date]   (Abbott Laboratories)"
      ]
     },
     "execution_count": 5,
     "metadata": {
      "application/vnd.holoviews_exec.v0+json": {
       "id": "1001"
      }
     },
     "output_type": "execute_result"
    }
   ],
   "source": [
    "#Plotting ABT\n",
    "abt_data.hvplot()"
   ]
  },
  {
   "cell_type": "code",
   "execution_count": 6,
   "metadata": {},
   "outputs": [],
   "source": [
    "#Reading Moderna Labs Stock File\n",
    "mrna_csv = Path(\"/Users/sabrinareed/Desktop/JupyterWorkspace/covid19casedata/mrna.csv\")"
   ]
  },
  {
   "cell_type": "code",
   "execution_count": 8,
   "metadata": {},
   "outputs": [
    {
     "data": {
      "text/html": [
       "<div>\n",
       "<style scoped>\n",
       "    .dataframe tbody tr th:only-of-type {\n",
       "        vertical-align: middle;\n",
       "    }\n",
       "\n",
       "    .dataframe tbody tr th {\n",
       "        vertical-align: top;\n",
       "    }\n",
       "\n",
       "    .dataframe thead th {\n",
       "        text-align: right;\n",
       "    }\n",
       "</style>\n",
       "<table border=\"1\" class=\"dataframe\">\n",
       "  <thead>\n",
       "    <tr style=\"text-align: right;\">\n",
       "      <th></th>\n",
       "      <th>Moderna</th>\n",
       "    </tr>\n",
       "    <tr>\n",
       "      <th>Date</th>\n",
       "      <th></th>\n",
       "    </tr>\n",
       "  </thead>\n",
       "  <tbody>\n",
       "    <tr>\n",
       "      <th>1/2/2020 16:00:00</th>\n",
       "      <td>19.23</td>\n",
       "    </tr>\n",
       "    <tr>\n",
       "      <th>1/3/2020 16:00:00</th>\n",
       "      <td>18.89</td>\n",
       "    </tr>\n",
       "    <tr>\n",
       "      <th>1/6/2020 16:00:00</th>\n",
       "      <td>18.13</td>\n",
       "    </tr>\n",
       "    <tr>\n",
       "      <th>1/7/2020 16:00:00</th>\n",
       "      <td>17.78</td>\n",
       "    </tr>\n",
       "    <tr>\n",
       "      <th>1/8/2020 16:00:00</th>\n",
       "      <td>17.98</td>\n",
       "    </tr>\n",
       "  </tbody>\n",
       "</table>\n",
       "</div>"
      ],
      "text/plain": [
       "                   Moderna\n",
       "Date                      \n",
       "1/2/2020 16:00:00    19.23\n",
       "1/3/2020 16:00:00    18.89\n",
       "1/6/2020 16:00:00    18.13\n",
       "1/7/2020 16:00:00    17.78\n",
       "1/8/2020 16:00:00    17.98"
      ]
     },
     "execution_count": 8,
     "metadata": {},
     "output_type": "execute_result"
    }
   ],
   "source": [
    "#Display Moderna stock data\n",
    "#Setting Date to Index / Need to find out how to drop timestamp\n",
    "mrna_data = pd.read_csv(mrna_csv, header = 1, index_col=\"Date\")\n",
    "#Rename columns\n",
    "mrna_data = mrna_data.rename(columns={\"Close\": \"Moderna\"})\n",
    "mrna_data.head()"
   ]
  },
  {
   "cell_type": "code",
   "execution_count": 9,
   "metadata": {},
   "outputs": [
    {
     "data": {
      "application/vnd.holoviews_exec.v0+json": "",
      "text/html": [
       "<div id='1105'>\n",
       "\n",
       "\n",
       "\n",
       "\n",
       "\n",
       "  <div class=\"bk-root\" id=\"ea584c0a-ba6b-4254-9550-711770a72259\" data-root-id=\"1105\"></div>\n",
       "</div>\n",
       "<script type=\"application/javascript\">(function(root) {\n",
       "  function embed_document(root) {\n",
       "  var docs_json = {\"81137766-4687-4baf-8259-97a7f134433d\":{\"roots\":{\"references\":[{\"attributes\":{\"data_source\":{\"id\":\"1139\"},\"glyph\":{\"id\":\"1142\"},\"hover_glyph\":null,\"muted_glyph\":{\"id\":\"1144\"},\"nonselection_glyph\":{\"id\":\"1143\"},\"selection_glyph\":null,\"view\":{\"id\":\"1146\"}},\"id\":\"1145\",\"type\":\"GlyphRenderer\"},{\"attributes\":{\"axis_label\":\"Moderna\",\"bounds\":\"auto\",\"formatter\":{\"id\":\"1150\"},\"major_label_orientation\":\"horizontal\",\"ticker\":{\"id\":\"1123\"}},\"id\":\"1122\",\"type\":\"LinearAxis\"},{\"attributes\":{},\"id\":\"1140\",\"type\":\"Selection\"},{\"attributes\":{},\"id\":\"1123\",\"type\":\"BasicTicker\"},{\"attributes\":{},\"id\":\"1150\",\"type\":\"BasicTickFormatter\"},{\"attributes\":{\"line_alpha\":0.2,\"line_color\":\"#1f77b3\",\"line_width\":2,\"x\":{\"field\":\"Date\"},\"y\":{\"field\":\"Moderna\"}},\"id\":\"1144\",\"type\":\"Line\"},{\"attributes\":{\"line_color\":\"#1f77b3\",\"line_width\":2,\"x\":{\"field\":\"Date\"},\"y\":{\"field\":\"Moderna\"}},\"id\":\"1142\",\"type\":\"Line\"},{\"attributes\":{\"bottom_units\":\"screen\",\"fill_alpha\":0.5,\"fill_color\":\"lightgrey\",\"left_units\":\"screen\",\"level\":\"overlay\",\"line_alpha\":1.0,\"line_color\":\"black\",\"line_dash\":[4,4],\"line_width\":2,\"right_units\":\"screen\",\"top_units\":\"screen\"},\"id\":\"1131\",\"type\":\"BoxAnnotation\"},{\"attributes\":{\"text\":\"\",\"text_color\":{\"value\":\"black\"},\"text_font_size\":{\"value\":\"12pt\"}},\"id\":\"1111\",\"type\":\"Title\"},{\"attributes\":{},\"id\":\"1120\",\"type\":\"CategoricalTicker\"},{\"attributes\":{},\"id\":\"1157\",\"type\":\"UnionRenderers\"},{\"attributes\":{\"axis\":{\"id\":\"1119\"},\"grid_line_color\":null,\"ticker\":null},\"id\":\"1121\",\"type\":\"Grid\"},{\"attributes\":{\"axis_label\":\"Date\",\"bounds\":\"auto\",\"formatter\":{\"id\":\"1148\"},\"major_label_orientation\":\"horizontal\",\"ticker\":{\"id\":\"1120\"}},\"id\":\"1119\",\"type\":\"CategoricalAxis\"},{\"attributes\":{},\"id\":\"1117\",\"type\":\"LinearScale\"},{\"attributes\":{\"active_drag\":\"auto\",\"active_inspect\":\"auto\",\"active_multi\":null,\"active_scroll\":\"auto\",\"active_tap\":\"auto\",\"tools\":[{\"id\":\"1109\"},{\"id\":\"1126\"},{\"id\":\"1127\"},{\"id\":\"1128\"},{\"id\":\"1129\"},{\"id\":\"1130\"}]},\"id\":\"1132\",\"type\":\"Toolbar\"},{\"attributes\":{\"align\":null,\"below\":[{\"id\":\"1119\"}],\"center\":[{\"id\":\"1121\"},{\"id\":\"1125\"}],\"left\":[{\"id\":\"1122\"}],\"margin\":null,\"min_border_bottom\":10,\"min_border_left\":10,\"min_border_right\":10,\"min_border_top\":10,\"plot_height\":300,\"plot_width\":700,\"renderers\":[{\"id\":\"1145\"}],\"sizing_mode\":\"fixed\",\"title\":{\"id\":\"1111\"},\"toolbar\":{\"id\":\"1132\"},\"x_range\":{\"id\":\"1107\"},\"x_scale\":{\"id\":\"1115\"},\"y_range\":{\"id\":\"1108\"},\"y_scale\":{\"id\":\"1117\"}},\"id\":\"1110\",\"subtype\":\"Figure\",\"type\":\"Plot\"},{\"attributes\":{\"data\":{\"Date\":[\"1/2/2020 16:00:00\",\"1/3/2020 16:00:00\",\"1/6/2020 16:00:00\",\"1/7/2020 16:00:00\",\"1/8/2020 16:00:00\",\"1/9/2020 16:00:00\",\"1/10/2020 16:00:00\",\"1/13/2020 16:00:00\",\"1/14/2020 16:00:00\",\"1/15/2020 16:00:00\",\"1/16/2020 16:00:00\",\"1/17/2020 16:00:00\",\"1/21/2020 16:00:00\",\"1/22/2020 16:00:00\",\"1/23/2020 16:00:00\",\"1/24/2020 16:00:00\",\"1/27/2020 16:00:00\",\"1/28/2020 16:00:00\",\"1/29/2020 16:00:00\",\"1/30/2020 16:00:00\",\"1/31/2020 16:00:00\",\"2/3/2020 16:00:00\",\"2/4/2020 16:00:00\",\"2/5/2020 16:00:00\",\"2/6/2020 16:00:00\",\"2/7/2020 16:00:00\",\"2/10/2020 16:00:00\",\"2/11/2020 16:00:00\",\"2/12/2020 16:00:00\",\"2/13/2020 16:00:00\",\"2/14/2020 16:00:00\",\"2/18/2020 16:00:00\",\"2/19/2020 16:00:00\",\"2/20/2020 16:00:00\",\"2/21/2020 16:00:00\",\"2/24/2020 16:00:00\",\"2/25/2020 16:00:00\",\"2/26/2020 16:00:00\",\"2/27/2020 16:00:00\",\"2/28/2020 16:00:00\",\"3/2/2020 16:00:00\",\"3/3/2020 16:00:00\",\"3/4/2020 16:00:00\",\"3/5/2020 16:00:00\",\"3/6/2020 16:00:00\",\"3/9/2020 16:00:00\",\"3/10/2020 16:00:00\",\"3/11/2020 16:00:00\",\"3/12/2020 16:00:00\",\"3/13/2020 16:00:00\",\"3/16/2020 16:00:00\",\"3/17/2020 16:00:00\",\"3/18/2020 16:00:00\",\"3/19/2020 16:00:00\",\"3/20/2020 16:00:00\",\"3/23/2020 16:00:00\",\"3/24/2020 16:00:00\",\"3/25/2020 16:00:00\",\"3/26/2020 16:00:00\",\"3/27/2020 16:00:00\",\"3/30/2020 16:00:00\",\"3/31/2020 16:00:00\",\"4/1/2020 16:00:00\",\"4/2/2020 16:00:00\",\"4/3/2020 16:00:00\",\"4/6/2020 16:00:00\",\"4/7/2020 16:00:00\",\"4/8/2020 16:00:00\",\"4/9/2020 16:00:00\",\"4/13/2020 16:00:00\",\"4/14/2020 16:00:00\",\"4/15/2020 16:00:00\",\"4/16/2020 16:00:00\",\"4/17/2020 16:00:00\",\"4/20/2020 16:00:00\",\"4/21/2020 16:00:00\",\"4/22/2020 16:00:00\",\"4/23/2020 16:00:00\",\"4/24/2020 16:00:00\",\"4/27/2020 16:00:00\",\"4/28/2020 16:00:00\",\"4/29/2020 16:00:00\",\"4/30/2020 16:00:00\",\"5/1/2020 16:00:00\",\"5/4/2020 16:00:00\",\"5/5/2020 16:00:00\",\"5/6/2020 16:00:00\",\"5/7/2020 16:00:00\",\"5/8/2020 16:00:00\",\"5/11/2020 16:00:00\",\"5/12/2020 16:00:00\",\"5/13/2020 16:00:00\",\"5/14/2020 16:00:00\",\"5/15/2020 16:00:00\",\"5/18/2020 16:00:00\",\"5/19/2020 16:00:00\",\"5/20/2020 16:00:00\",\"5/21/2020 16:00:00\",\"5/22/2020 16:00:00\",\"5/26/2020 16:00:00\",\"5/27/2020 16:00:00\",\"5/28/2020 16:00:00\",\"5/29/2020 16:00:00\",\"6/1/2020 16:00:00\",\"6/2/2020 16:00:00\",\"6/3/2020 16:00:00\",\"6/4/2020 16:00:00\",\"6/5/2020 16:00:00\",\"6/8/2020 16:00:00\",\"6/9/2020 16:00:00\",\"6/10/2020 16:00:00\",\"6/11/2020 16:00:00\",\"6/12/2020 16:00:00\",\"6/15/2020 16:00:00\",\"6/16/2020 16:00:00\",\"6/17/2020 16:00:00\",\"6/18/2020 16:00:00\",\"6/19/2020 16:00:00\",\"6/22/2020 16:00:00\",\"6/23/2020 16:00:00\",\"6/24/2020 16:00:00\",\"6/25/2020 16:00:00\",\"6/26/2020 16:00:00\",\"6/29/2020 16:00:00\",\"6/30/2020 16:00:00\",\"7/1/2020 16:00:00\",\"7/2/2020 16:00:00\",\"7/6/2020 16:00:00\",\"7/7/2020 16:00:00\",\"7/8/2020 16:00:00\",\"7/9/2020 16:00:00\",\"7/10/2020 16:00:00\",\"7/13/2020 16:00:00\",\"7/14/2020 16:00:00\",\"7/15/2020 16:00:00\",\"7/16/2020 16:00:00\",\"7/17/2020 16:00:00\",\"7/20/2020 16:00:00\",\"7/21/2020 16:00:00\",\"7/22/2020 16:00:00\",\"7/23/2020 16:00:00\",\"7/24/2020 16:00:00\",\"7/27/2020 16:00:00\",\"7/28/2020 16:00:00\",\"7/29/2020 16:00:00\",\"7/30/2020 16:00:00\",\"7/31/2020 16:00:00\",\"8/3/2020 16:00:00\",\"8/4/2020 16:00:00\",\"8/5/2020 16:00:00\",\"8/6/2020 16:00:00\",\"8/7/2020 16:00:00\",\"8/10/2020 16:00:00\",\"8/11/2020 16:00:00\",\"8/12/2020 16:00:00\",\"8/13/2020 16:00:00\",\"8/14/2020 16:00:00\",\"8/17/2020 16:00:00\",\"8/18/2020 16:00:00\",\"8/19/2020 16:00:00\",\"8/20/2020 16:00:00\",\"8/21/2020 16:00:00\",\"8/24/2020 16:00:00\",\"8/25/2020 16:00:00\",\"8/26/2020 16:00:00\",\"8/27/2020 16:00:00\",\"8/28/2020 16:00:00\",\"8/31/2020 16:00:00\",\"9/1/2020 16:00:00\",\"9/2/2020 16:00:00\",\"9/3/2020 16:00:00\",\"9/4/2020 16:00:00\",\"9/8/2020 16:00:00\",\"9/9/2020 16:00:00\",\"9/10/2020 16:00:00\",\"9/11/2020 16:00:00\",\"9/14/2020 16:00:00\",\"9/15/2020 16:00:00\",\"9/16/2020 16:00:00\",\"9/17/2020 16:00:00\",\"9/18/2020 16:00:00\",\"9/21/2020 16:00:00\",\"9/22/2020 16:00:00\",\"9/23/2020 16:00:00\",\"9/24/2020 16:00:00\",\"9/25/2020 16:00:00\",\"9/28/2020 16:00:00\",\"9/29/2020 16:00:00\",\"9/30/2020 16:00:00\",\"10/1/2020 16:00:00\",\"10/2/2020 16:00:00\",\"10/5/2020 16:00:00\",\"10/6/2020 16:00:00\",\"10/7/2020 16:00:00\",\"10/8/2020 16:00:00\",\"10/9/2020 16:00:00\",\"10/12/2020 16:00:00\",\"10/13/2020 16:00:00\",\"10/14/2020 16:00:00\",\"10/15/2020 16:00:00\",\"10/16/2020 16:00:00\",\"10/19/2020 16:00:00\",\"10/20/2020 16:00:00\",\"10/21/2020 16:00:00\",\"10/22/2020 16:00:00\",\"10/23/2020 16:00:00\",\"10/26/2020 16:00:00\",\"10/27/2020 16:00:00\",\"10/28/2020 16:00:00\",\"10/29/2020 16:00:00\",\"10/30/2020 16:00:00\"],\"Moderna\":{\"__ndarray__\":\"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\",\"dtype\":\"float64\",\"order\":\"little\",\"shape\":[211]}},\"selected\":{\"id\":\"1140\"},\"selection_policy\":{\"id\":\"1157\"}},\"id\":\"1139\",\"type\":\"ColumnDataSource\"},{\"attributes\":{\"margin\":[5,5,5,5],\"name\":\"HSpacer01705\",\"sizing_mode\":\"stretch_width\"},\"id\":\"1167\",\"type\":\"Spacer\"},{\"attributes\":{},\"id\":\"1148\",\"type\":\"CategoricalTickFormatter\"},{\"attributes\":{\"margin\":[5,5,5,5],\"name\":\"HSpacer01704\",\"sizing_mode\":\"stretch_width\"},\"id\":\"1106\",\"type\":\"Spacer\"},{\"attributes\":{\"factors\":[\"1/2/2020 16:00:00\",\"1/3/2020 16:00:00\",\"1/6/2020 16:00:00\",\"1/7/2020 16:00:00\",\"1/8/2020 16:00:00\",\"1/9/2020 16:00:00\",\"1/10/2020 16:00:00\",\"1/13/2020 16:00:00\",\"1/14/2020 16:00:00\",\"1/15/2020 16:00:00\",\"1/16/2020 16:00:00\",\"1/17/2020 16:00:00\",\"1/21/2020 16:00:00\",\"1/22/2020 16:00:00\",\"1/23/2020 16:00:00\",\"1/24/2020 16:00:00\",\"1/27/2020 16:00:00\",\"1/28/2020 16:00:00\",\"1/29/2020 16:00:00\",\"1/30/2020 16:00:00\",\"1/31/2020 16:00:00\",\"2/3/2020 16:00:00\",\"2/4/2020 16:00:00\",\"2/5/2020 16:00:00\",\"2/6/2020 16:00:00\",\"2/7/2020 16:00:00\",\"2/10/2020 16:00:00\",\"2/11/2020 16:00:00\",\"2/12/2020 16:00:00\",\"2/13/2020 16:00:00\",\"2/14/2020 16:00:00\",\"2/18/2020 16:00:00\",\"2/19/2020 16:00:00\",\"2/20/2020 16:00:00\",\"2/21/2020 16:00:00\",\"2/24/2020 16:00:00\",\"2/25/2020 16:00:00\",\"2/26/2020 16:00:00\",\"2/27/2020 16:00:00\",\"2/28/2020 16:00:00\",\"3/2/2020 16:00:00\",\"3/3/2020 16:00:00\",\"3/4/2020 16:00:00\",\"3/5/2020 16:00:00\",\"3/6/2020 16:00:00\",\"3/9/2020 16:00:00\",\"3/10/2020 16:00:00\",\"3/11/2020 16:00:00\",\"3/12/2020 16:00:00\",\"3/13/2020 16:00:00\",\"3/16/2020 16:00:00\",\"3/17/2020 16:00:00\",\"3/18/2020 16:00:00\",\"3/19/2020 16:00:00\",\"3/20/2020 16:00:00\",\"3/23/2020 16:00:00\",\"3/24/2020 16:00:00\",\"3/25/2020 16:00:00\",\"3/26/2020 16:00:00\",\"3/27/2020 16:00:00\",\"3/30/2020 16:00:00\",\"3/31/2020 16:00:00\",\"4/1/2020 16:00:00\",\"4/2/2020 16:00:00\",\"4/3/2020 16:00:00\",\"4/6/2020 16:00:00\",\"4/7/2020 16:00:00\",\"4/8/2020 16:00:00\",\"4/9/2020 16:00:00\",\"4/13/2020 16:00:00\",\"4/14/2020 16:00:00\",\"4/15/2020 16:00:00\",\"4/16/2020 16:00:00\",\"4/17/2020 16:00:00\",\"4/20/2020 16:00:00\",\"4/21/2020 16:00:00\",\"4/22/2020 16:00:00\",\"4/23/2020 16:00:00\",\"4/24/2020 16:00:00\",\"4/27/2020 16:00:00\",\"4/28/2020 16:00:00\",\"4/29/2020 16:00:00\",\"4/30/2020 16:00:00\",\"5/1/2020 16:00:00\",\"5/4/2020 16:00:00\",\"5/5/2020 16:00:00\",\"5/6/2020 16:00:00\",\"5/7/2020 16:00:00\",\"5/8/2020 16:00:00\",\"5/11/2020 16:00:00\",\"5/12/2020 16:00:00\",\"5/13/2020 16:00:00\",\"5/14/2020 16:00:00\",\"5/15/2020 16:00:00\",\"5/18/2020 16:00:00\",\"5/19/2020 16:00:00\",\"5/20/2020 16:00:00\",\"5/21/2020 16:00:00\",\"5/22/2020 16:00:00\",\"5/26/2020 16:00:00\",\"5/27/2020 16:00:00\",\"5/28/2020 16:00:00\",\"5/29/2020 16:00:00\",\"6/1/2020 16:00:00\",\"6/2/2020 16:00:00\",\"6/3/2020 16:00:00\",\"6/4/2020 16:00:00\",\"6/5/2020 16:00:00\",\"6/8/2020 16:00:00\",\"6/9/2020 16:00:00\",\"6/10/2020 16:00:00\",\"6/11/2020 16:00:00\",\"6/12/2020 16:00:00\",\"6/15/2020 16:00:00\",\"6/16/2020 16:00:00\",\"6/17/2020 16:00:00\",\"6/18/2020 16:00:00\",\"6/19/2020 16:00:00\",\"6/22/2020 16:00:00\",\"6/23/2020 16:00:00\",\"6/24/2020 16:00:00\",\"6/25/2020 16:00:00\",\"6/26/2020 16:00:00\",\"6/29/2020 16:00:00\",\"6/30/2020 16:00:00\",\"7/1/2020 16:00:00\",\"7/2/2020 16:00:00\",\"7/6/2020 16:00:00\",\"7/7/2020 16:00:00\",\"7/8/2020 16:00:00\",\"7/9/2020 16:00:00\",\"7/10/2020 16:00:00\",\"7/13/2020 16:00:00\",\"7/14/2020 16:00:00\",\"7/15/2020 16:00:00\",\"7/16/2020 16:00:00\",\"7/17/2020 16:00:00\",\"7/20/2020 16:00:00\",\"7/21/2020 16:00:00\",\"7/22/2020 16:00:00\",\"7/23/2020 16:00:00\",\"7/24/2020 16:00:00\",\"7/27/2020 16:00:00\",\"7/28/2020 16:00:00\",\"7/29/2020 16:00:00\",\"7/30/2020 16:00:00\",\"7/31/2020 16:00:00\",\"8/3/2020 16:00:00\",\"8/4/2020 16:00:00\",\"8/5/2020 16:00:00\",\"8/6/2020 16:00:00\",\"8/7/2020 16:00:00\",\"8/10/2020 16:00:00\",\"8/11/2020 16:00:00\",\"8/12/2020 16:00:00\",\"8/13/2020 16:00:00\",\"8/14/2020 16:00:00\",\"8/17/2020 16:00:00\",\"8/18/2020 16:00:00\",\"8/19/2020 16:00:00\",\"8/20/2020 16:00:00\",\"8/21/2020 16:00:00\",\"8/24/2020 16:00:00\",\"8/25/2020 16:00:00\",\"8/26/2020 16:00:00\",\"8/27/2020 16:00:00\",\"8/28/2020 16:00:00\",\"8/31/2020 16:00:00\",\"9/1/2020 16:00:00\",\"9/2/2020 16:00:00\",\"9/3/2020 16:00:00\",\"9/4/2020 16:00:00\",\"9/8/2020 16:00:00\",\"9/9/2020 16:00:00\",\"9/10/2020 16:00:00\",\"9/11/2020 16:00:00\",\"9/14/2020 16:00:00\",\"9/15/2020 16:00:00\",\"9/16/2020 16:00:00\",\"9/17/2020 16:00:00\",\"9/18/2020 16:00:00\",\"9/21/2020 16:00:00\",\"9/22/2020 16:00:00\",\"9/23/2020 16:00:00\",\"9/24/2020 16:00:00\",\"9/25/2020 16:00:00\",\"9/28/2020 16:00:00\",\"9/29/2020 16:00:00\",\"9/30/2020 16:00:00\",\"10/1/2020 16:00:00\",\"10/2/2020 16:00:00\",\"10/5/2020 16:00:00\",\"10/6/2020 16:00:00\",\"10/7/2020 16:00:00\",\"10/8/2020 16:00:00\",\"10/9/2020 16:00:00\",\"10/12/2020 16:00:00\",\"10/13/2020 16:00:00\",\"10/14/2020 16:00:00\",\"10/15/2020 16:00:00\",\"10/16/2020 16:00:00\",\"10/19/2020 16:00:00\",\"10/20/2020 16:00:00\",\"10/21/2020 16:00:00\",\"10/22/2020 16:00:00\",\"10/23/2020 16:00:00\",\"10/26/2020 16:00:00\",\"10/27/2020 16:00:00\",\"10/28/2020 16:00:00\",\"10/29/2020 16:00:00\",\"10/30/2020 16:00:00\"],\"tags\":[[[\"Date\",\"Date\",null]]]},\"id\":\"1107\",\"type\":\"FactorRange\"},{\"attributes\":{},\"id\":\"1130\",\"type\":\"ResetTool\"},{\"attributes\":{\"overlay\":{\"id\":\"1131\"}},\"id\":\"1129\",\"type\":\"BoxZoomTool\"},{\"attributes\":{\"source\":{\"id\":\"1139\"}},\"id\":\"1146\",\"type\":\"CDSView\"},{\"attributes\":{},\"id\":\"1115\",\"type\":\"CategoricalScale\"},{\"attributes\":{\"axis\":{\"id\":\"1122\"},\"dimension\":1,\"grid_line_color\":null,\"ticker\":null},\"id\":\"1125\",\"type\":\"Grid\"},{\"attributes\":{},\"id\":\"1127\",\"type\":\"PanTool\"},{\"attributes\":{\"children\":[{\"id\":\"1106\"},{\"id\":\"1110\"},{\"id\":\"1167\"}],\"margin\":[0,0,0,0],\"name\":\"Row01700\",\"tags\":[\"embedded\"]},\"id\":\"1105\",\"type\":\"Row\"},{\"attributes\":{\"end\":102.55699999999999,\"reset_end\":102.55699999999999,\"reset_start\":10.073,\"start\":10.073,\"tags\":[[[\"Moderna\",\"Moderna\",null]]]},\"id\":\"1108\",\"type\":\"Range1d\"},{\"attributes\":{},\"id\":\"1128\",\"type\":\"WheelZoomTool\"},{\"attributes\":{\"line_alpha\":0.1,\"line_color\":\"#1f77b3\",\"line_width\":2,\"x\":{\"field\":\"Date\"},\"y\":{\"field\":\"Moderna\"}},\"id\":\"1143\",\"type\":\"Line\"},{\"attributes\":{},\"id\":\"1126\",\"type\":\"SaveTool\"},{\"attributes\":{\"callback\":null,\"renderers\":[{\"id\":\"1145\"}],\"tags\":[\"hv_created\"],\"tooltips\":[[\"Date\",\"@{Date}\"],[\"Moderna\",\"@{Moderna}\"]]},\"id\":\"1109\",\"type\":\"HoverTool\"}],\"root_ids\":[\"1105\"]},\"title\":\"Bokeh Application\",\"version\":\"2.1.1\"}};\n",
       "  var render_items = [{\"docid\":\"81137766-4687-4baf-8259-97a7f134433d\",\"root_ids\":[\"1105\"],\"roots\":{\"1105\":\"ea584c0a-ba6b-4254-9550-711770a72259\"}}];\n",
       "  root.Bokeh.embed.embed_items_notebook(docs_json, render_items);\n",
       "  }\n",
       "if (root.Bokeh !== undefined) {\n",
       "    embed_document(root);\n",
       "  } else {\n",
       "    var attempts = 0;\n",
       "    var timer = setInterval(function(root) {\n",
       "      if (root.Bokeh !== undefined) {\n",
       "        clearInterval(timer);\n",
       "        embed_document(root);\n",
       "      } else if (document.readyState == \"complete\") {\n",
       "        attempts++;\n",
       "        if (attempts > 100) {\n",
       "          clearInterval(timer);\n",
       "          console.log(\"Bokeh: ERROR: Unable to run BokehJS code because BokehJS library is missing\");\n",
       "        }\n",
       "      }\n",
       "    }, 10, root)\n",
       "  }\n",
       "})(window);</script>"
      ],
      "text/plain": [
       ":Curve   [Date]   (Moderna)"
      ]
     },
     "execution_count": 9,
     "metadata": {
      "application/vnd.holoviews_exec.v0+json": {
       "id": "1105"
      }
     },
     "output_type": "execute_result"
    }
   ],
   "source": [
    "#Plotting Moderna\n",
    "mrna_data.hvplot()"
   ]
  },
  {
   "cell_type": "code",
   "execution_count": 10,
   "metadata": {},
   "outputs": [],
   "source": [
    "#Reading Novavax Labs Stock File\n",
    "nvax_csv = Path(\"/Users/sabrinareed/Desktop/JupyterWorkspace/covid19casedata/nvax.csv\")"
   ]
  },
  {
   "cell_type": "code",
   "execution_count": 11,
   "metadata": {},
   "outputs": [
    {
     "data": {
      "text/html": [
       "<div>\n",
       "<style scoped>\n",
       "    .dataframe tbody tr th:only-of-type {\n",
       "        vertical-align: middle;\n",
       "    }\n",
       "\n",
       "    .dataframe tbody tr th {\n",
       "        vertical-align: top;\n",
       "    }\n",
       "\n",
       "    .dataframe thead th {\n",
       "        text-align: right;\n",
       "    }\n",
       "</style>\n",
       "<table border=\"1\" class=\"dataframe\">\n",
       "  <thead>\n",
       "    <tr style=\"text-align: right;\">\n",
       "      <th></th>\n",
       "      <th>Close</th>\n",
       "    </tr>\n",
       "    <tr>\n",
       "      <th>Date</th>\n",
       "      <th></th>\n",
       "    </tr>\n",
       "  </thead>\n",
       "  <tbody>\n",
       "    <tr>\n",
       "      <th>1/2/2020 16:00:00</th>\n",
       "      <td>4.49</td>\n",
       "    </tr>\n",
       "    <tr>\n",
       "      <th>1/3/2020 16:00:00</th>\n",
       "      <td>4.44</td>\n",
       "    </tr>\n",
       "    <tr>\n",
       "      <th>1/6/2020 16:00:00</th>\n",
       "      <td>4.58</td>\n",
       "    </tr>\n",
       "    <tr>\n",
       "      <th>1/7/2020 16:00:00</th>\n",
       "      <td>4.57</td>\n",
       "    </tr>\n",
       "    <tr>\n",
       "      <th>1/8/2020 16:00:00</th>\n",
       "      <td>4.28</td>\n",
       "    </tr>\n",
       "  </tbody>\n",
       "</table>\n",
       "</div>"
      ],
      "text/plain": [
       "                   Close\n",
       "Date                    \n",
       "1/2/2020 16:00:00   4.49\n",
       "1/3/2020 16:00:00   4.44\n",
       "1/6/2020 16:00:00   4.58\n",
       "1/7/2020 16:00:00   4.57\n",
       "1/8/2020 16:00:00   4.28"
      ]
     },
     "execution_count": 11,
     "metadata": {},
     "output_type": "execute_result"
    }
   ],
   "source": [
    "#Display Moderna stock data\n",
    "#Setting Date to Index / Need to find out how to drop timestamp\n",
    "nvax_data = pd.read_csv(nvax_csv, header = 1, index_col=\"Date\")\n",
    "#Rename columns\n",
    "navx_data = mrna_data.rename(columns={\"Close\": \"Novavax\"})\n",
    "nvax_data.head()"
   ]
  },
  {
   "cell_type": "code",
   "execution_count": 12,
   "metadata": {},
   "outputs": [
    {
     "data": {
      "application/vnd.holoviews_exec.v0+json": "",
      "text/html": [
       "<div id='1209'>\n",
       "\n",
       "\n",
       "\n",
       "\n",
       "\n",
       "  <div class=\"bk-root\" id=\"3779f439-c885-424c-a764-e0b7a3fa39c6\" data-root-id=\"1209\"></div>\n",
       "</div>\n",
       "<script type=\"application/javascript\">(function(root) {\n",
       "  function embed_document(root) {\n",
       "  var docs_json = {\"dc92cf39-9800-475a-a685-f888a0f8448a\":{\"roots\":{\"references\":[{\"attributes\":{\"axis\":{\"id\":\"1226\"},\"dimension\":1,\"grid_line_color\":null,\"ticker\":null},\"id\":\"1229\",\"type\":\"Grid\"},{\"attributes\":{},\"id\":\"1232\",\"type\":\"WheelZoomTool\"},{\"attributes\":{},\"id\":\"1254\",\"type\":\"BasicTickFormatter\"},{\"attributes\":{},\"id\":\"1231\",\"type\":\"PanTool\"},{\"attributes\":{},\"id\":\"1230\",\"type\":\"SaveTool\"},{\"attributes\":{\"axis\":{\"id\":\"1223\"},\"grid_line_color\":null,\"ticker\":null},\"id\":\"1225\",\"type\":\"Grid\"},{\"attributes\":{\"margin\":[5,5,5,5],\"name\":\"HSpacer01884\",\"sizing_mode\":\"stretch_width\"},\"id\":\"1271\",\"type\":\"Spacer\"},{\"attributes\":{\"active_drag\":\"auto\",\"active_inspect\":\"auto\",\"active_multi\":null,\"active_scroll\":\"auto\",\"active_tap\":\"auto\",\"tools\":[{\"id\":\"1213\"},{\"id\":\"1230\"},{\"id\":\"1231\"},{\"id\":\"1232\"},{\"id\":\"1233\"},{\"id\":\"1234\"}]},\"id\":\"1236\",\"type\":\"Toolbar\"},{\"attributes\":{\"children\":[{\"id\":\"1210\"},{\"id\":\"1214\"},{\"id\":\"1271\"}],\"margin\":[0,0,0,0],\"name\":\"Row01879\",\"tags\":[\"embedded\"]},\"id\":\"1209\",\"type\":\"Row\"},{\"attributes\":{\"overlay\":{\"id\":\"1235\"}},\"id\":\"1233\",\"type\":\"BoxZoomTool\"},{\"attributes\":{\"margin\":[5,5,5,5],\"name\":\"HSpacer01883\",\"sizing_mode\":\"stretch_width\"},\"id\":\"1210\",\"type\":\"Spacer\"},{\"attributes\":{\"data_source\":{\"id\":\"1243\"},\"glyph\":{\"id\":\"1246\"},\"hover_glyph\":null,\"muted_glyph\":{\"id\":\"1248\"},\"nonselection_glyph\":{\"id\":\"1247\"},\"selection_glyph\":null,\"view\":{\"id\":\"1250\"}},\"id\":\"1249\",\"type\":\"GlyphRenderer\"},{\"attributes\":{},\"id\":\"1261\",\"type\":\"UnionRenderers\"},{\"attributes\":{\"factors\":[\"1/2/2020 16:00:00\",\"1/3/2020 16:00:00\",\"1/6/2020 16:00:00\",\"1/7/2020 16:00:00\",\"1/8/2020 16:00:00\",\"1/9/2020 16:00:00\",\"1/10/2020 16:00:00\",\"1/13/2020 16:00:00\",\"1/14/2020 16:00:00\",\"1/15/2020 16:00:00\",\"1/16/2020 16:00:00\",\"1/17/2020 16:00:00\",\"1/21/2020 16:00:00\",\"1/22/2020 16:00:00\",\"1/23/2020 16:00:00\",\"1/24/2020 16:00:00\",\"1/27/2020 16:00:00\",\"1/28/2020 16:00:00\",\"1/29/2020 16:00:00\",\"1/30/2020 16:00:00\",\"1/31/2020 16:00:00\",\"2/3/2020 16:00:00\",\"2/4/2020 16:00:00\",\"2/5/2020 16:00:00\",\"2/6/2020 16:00:00\",\"2/7/2020 16:00:00\",\"2/10/2020 16:00:00\",\"2/11/2020 16:00:00\",\"2/12/2020 16:00:00\",\"2/13/2020 16:00:00\",\"2/14/2020 16:00:00\",\"2/18/2020 16:00:00\",\"2/19/2020 16:00:00\",\"2/20/2020 16:00:00\",\"2/21/2020 16:00:00\",\"2/24/2020 16:00:00\",\"2/25/2020 16:00:00\",\"2/26/2020 16:00:00\",\"2/27/2020 16:00:00\",\"2/28/2020 16:00:00\",\"3/2/2020 16:00:00\",\"3/3/2020 16:00:00\",\"3/4/2020 16:00:00\",\"3/5/2020 16:00:00\",\"3/6/2020 16:00:00\",\"3/9/2020 16:00:00\",\"3/10/2020 16:00:00\",\"3/11/2020 16:00:00\",\"3/12/2020 16:00:00\",\"3/13/2020 16:00:00\",\"3/16/2020 16:00:00\",\"3/17/2020 16:00:00\",\"3/18/2020 16:00:00\",\"3/19/2020 16:00:00\",\"3/20/2020 16:00:00\",\"3/23/2020 16:00:00\",\"3/24/2020 16:00:00\",\"3/25/2020 16:00:00\",\"3/26/2020 16:00:00\",\"3/27/2020 16:00:00\",\"3/30/2020 16:00:00\",\"3/31/2020 16:00:00\",\"4/1/2020 16:00:00\",\"4/2/2020 16:00:00\",\"4/3/2020 16:00:00\",\"4/6/2020 16:00:00\",\"4/7/2020 16:00:00\",\"4/8/2020 16:00:00\",\"4/9/2020 16:00:00\",\"4/13/2020 16:00:00\",\"4/14/2020 16:00:00\",\"4/15/2020 16:00:00\",\"4/16/2020 16:00:00\",\"4/17/2020 16:00:00\",\"4/20/2020 16:00:00\",\"4/21/2020 16:00:00\",\"4/22/2020 16:00:00\",\"4/23/2020 16:00:00\",\"4/24/2020 16:00:00\",\"4/27/2020 16:00:00\",\"4/28/2020 16:00:00\",\"4/29/2020 16:00:00\",\"4/30/2020 16:00:00\",\"5/1/2020 16:00:00\",\"5/4/2020 16:00:00\",\"5/5/2020 16:00:00\",\"5/6/2020 16:00:00\",\"5/7/2020 16:00:00\",\"5/8/2020 16:00:00\",\"5/11/2020 16:00:00\",\"5/12/2020 16:00:00\",\"5/13/2020 16:00:00\",\"5/14/2020 16:00:00\",\"5/15/2020 16:00:00\",\"5/18/2020 16:00:00\",\"5/19/2020 16:00:00\",\"5/20/2020 16:00:00\",\"5/21/2020 16:00:00\",\"5/22/2020 16:00:00\",\"5/26/2020 16:00:00\",\"5/27/2020 16:00:00\",\"5/28/2020 16:00:00\",\"5/29/2020 16:00:00\",\"6/1/2020 16:00:00\",\"6/2/2020 16:00:00\",\"6/3/2020 16:00:00\",\"6/4/2020 16:00:00\",\"6/5/2020 16:00:00\",\"6/8/2020 16:00:00\",\"6/9/2020 16:00:00\",\"6/10/2020 16:00:00\",\"6/11/2020 16:00:00\",\"6/12/2020 16:00:00\",\"6/15/2020 16:00:00\",\"6/16/2020 16:00:00\",\"6/17/2020 16:00:00\",\"6/18/2020 16:00:00\",\"6/19/2020 16:00:00\",\"6/22/2020 16:00:00\",\"6/23/2020 16:00:00\",\"6/24/2020 16:00:00\",\"6/25/2020 16:00:00\",\"6/26/2020 16:00:00\",\"6/29/2020 16:00:00\",\"6/30/2020 16:00:00\",\"7/1/2020 16:00:00\",\"7/2/2020 16:00:00\",\"7/6/2020 16:00:00\",\"7/7/2020 16:00:00\",\"7/8/2020 16:00:00\",\"7/9/2020 16:00:00\",\"7/10/2020 16:00:00\",\"7/13/2020 16:00:00\",\"7/14/2020 16:00:00\",\"7/15/2020 16:00:00\",\"7/16/2020 16:00:00\",\"7/17/2020 16:00:00\",\"7/20/2020 16:00:00\",\"7/21/2020 16:00:00\",\"7/22/2020 16:00:00\",\"7/23/2020 16:00:00\",\"7/24/2020 16:00:00\",\"7/27/2020 16:00:00\",\"7/28/2020 16:00:00\",\"7/29/2020 16:00:00\",\"7/30/2020 16:00:00\",\"7/31/2020 16:00:00\",\"8/3/2020 16:00:00\",\"8/4/2020 16:00:00\",\"8/5/2020 16:00:00\",\"8/6/2020 16:00:00\",\"8/7/2020 16:00:00\",\"8/10/2020 16:00:00\",\"8/11/2020 16:00:00\",\"8/12/2020 16:00:00\",\"8/13/2020 16:00:00\",\"8/14/2020 16:00:00\",\"8/17/2020 16:00:00\",\"8/18/2020 16:00:00\",\"8/19/2020 16:00:00\",\"8/20/2020 16:00:00\",\"8/21/2020 16:00:00\",\"8/24/2020 16:00:00\",\"8/25/2020 16:00:00\",\"8/26/2020 16:00:00\",\"8/27/2020 16:00:00\",\"8/28/2020 16:00:00\",\"8/31/2020 16:00:00\",\"9/1/2020 16:00:00\",\"9/2/2020 16:00:00\",\"9/3/2020 16:00:00\",\"9/4/2020 16:00:00\",\"9/8/2020 16:00:00\",\"9/9/2020 16:00:00\",\"9/10/2020 16:00:00\",\"9/11/2020 16:00:00\",\"9/14/2020 16:00:00\",\"9/15/2020 16:00:00\",\"9/16/2020 16:00:00\",\"9/17/2020 16:00:00\",\"9/18/2020 16:00:00\",\"9/21/2020 16:00:00\",\"9/22/2020 16:00:00\",\"9/23/2020 16:00:00\",\"9/24/2020 16:00:00\",\"9/25/2020 16:00:00\",\"9/28/2020 16:00:00\",\"9/29/2020 16:00:00\",\"9/30/2020 16:00:00\",\"10/1/2020 16:00:00\",\"10/2/2020 16:00:00\",\"10/5/2020 16:00:00\",\"10/6/2020 16:00:00\",\"10/7/2020 16:00:00\",\"10/8/2020 16:00:00\",\"10/9/2020 16:00:00\",\"10/12/2020 16:00:00\",\"10/13/2020 16:00:00\",\"10/14/2020 16:00:00\",\"10/15/2020 16:00:00\",\"10/16/2020 16:00:00\",\"10/19/2020 16:00:00\",\"10/20/2020 16:00:00\",\"10/21/2020 16:00:00\",\"10/22/2020 16:00:00\",\"10/23/2020 16:00:00\",\"10/26/2020 16:00:00\",\"10/27/2020 16:00:00\",\"10/28/2020 16:00:00\",\"10/29/2020 16:00:00\",\"10/30/2020 16:00:00\"],\"tags\":[[[\"Date\",\"Date\",null]]]},\"id\":\"1211\",\"type\":\"FactorRange\"},{\"attributes\":{},\"id\":\"1234\",\"type\":\"ResetTool\"},{\"attributes\":{\"line_alpha\":0.2,\"line_color\":\"#1f77b3\",\"line_width\":2,\"x\":{\"field\":\"Date\"},\"y\":{\"field\":\"Close\"}},\"id\":\"1248\",\"type\":\"Line\"},{\"attributes\":{\"bottom_units\":\"screen\",\"fill_alpha\":0.5,\"fill_color\":\"lightgrey\",\"left_units\":\"screen\",\"level\":\"overlay\",\"line_alpha\":1.0,\"line_color\":\"black\",\"line_dash\":[4,4],\"line_width\":2,\"right_units\":\"screen\",\"top_units\":\"screen\"},\"id\":\"1235\",\"type\":\"BoxAnnotation\"},{\"attributes\":{},\"id\":\"1244\",\"type\":\"Selection\"},{\"attributes\":{\"align\":null,\"below\":[{\"id\":\"1223\"}],\"center\":[{\"id\":\"1225\"},{\"id\":\"1229\"}],\"left\":[{\"id\":\"1226\"}],\"margin\":null,\"min_border_bottom\":10,\"min_border_left\":10,\"min_border_right\":10,\"min_border_top\":10,\"plot_height\":300,\"plot_width\":700,\"renderers\":[{\"id\":\"1249\"}],\"sizing_mode\":\"fixed\",\"title\":{\"id\":\"1215\"},\"toolbar\":{\"id\":\"1236\"},\"x_range\":{\"id\":\"1211\"},\"x_scale\":{\"id\":\"1219\"},\"y_range\":{\"id\":\"1212\"},\"y_scale\":{\"id\":\"1221\"}},\"id\":\"1214\",\"subtype\":\"Figure\",\"type\":\"Plot\"},{\"attributes\":{\"line_alpha\":0.1,\"line_color\":\"#1f77b3\",\"line_width\":2,\"x\":{\"field\":\"Date\"},\"y\":{\"field\":\"Close\"}},\"id\":\"1247\",\"type\":\"Line\"},{\"attributes\":{\"line_color\":\"#1f77b3\",\"line_width\":2,\"x\":{\"field\":\"Date\"},\"y\":{\"field\":\"Close\"}},\"id\":\"1246\",\"type\":\"Line\"},{\"attributes\":{\"axis_label\":\"Close\",\"bounds\":\"auto\",\"formatter\":{\"id\":\"1254\"},\"major_label_orientation\":\"horizontal\",\"ticker\":{\"id\":\"1227\"}},\"id\":\"1226\",\"type\":\"LinearAxis\"},{\"attributes\":{},\"id\":\"1224\",\"type\":\"CategoricalTicker\"},{\"attributes\":{\"text\":\"\",\"text_color\":{\"value\":\"black\"},\"text_font_size\":{\"value\":\"12pt\"}},\"id\":\"1215\",\"type\":\"Title\"},{\"attributes\":{\"source\":{\"id\":\"1243\"}},\"id\":\"1250\",\"type\":\"CDSView\"},{\"attributes\":{},\"id\":\"1227\",\"type\":\"BasicTicker\"},{\"attributes\":{},\"id\":\"1252\",\"type\":\"CategoricalTickFormatter\"},{\"attributes\":{},\"id\":\"1221\",\"type\":\"LinearScale\"},{\"attributes\":{\"end\":195.968,\"reset_end\":195.968,\"reset_start\":-13.527999999999999,\"start\":-13.527999999999999,\"tags\":[[[\"Close\",\"Close\",null]]]},\"id\":\"1212\",\"type\":\"Range1d\"},{\"attributes\":{\"axis_label\":\"Date\",\"bounds\":\"auto\",\"formatter\":{\"id\":\"1252\"},\"major_label_orientation\":\"horizontal\",\"ticker\":{\"id\":\"1224\"}},\"id\":\"1223\",\"type\":\"CategoricalAxis\"},{\"attributes\":{\"callback\":null,\"renderers\":[{\"id\":\"1249\"}],\"tags\":[\"hv_created\"],\"tooltips\":[[\"Date\",\"@{Date}\"],[\"Close\",\"@{Close}\"]]},\"id\":\"1213\",\"type\":\"HoverTool\"},{\"attributes\":{\"data\":{\"Close\":{\"__ndarray__\":\"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\",\"dtype\":\"float64\",\"order\":\"little\",\"shape\":[211]},\"Date\":[\"1/2/2020 16:00:00\",\"1/3/2020 16:00:00\",\"1/6/2020 16:00:00\",\"1/7/2020 16:00:00\",\"1/8/2020 16:00:00\",\"1/9/2020 16:00:00\",\"1/10/2020 16:00:00\",\"1/13/2020 16:00:00\",\"1/14/2020 16:00:00\",\"1/15/2020 16:00:00\",\"1/16/2020 16:00:00\",\"1/17/2020 16:00:00\",\"1/21/2020 16:00:00\",\"1/22/2020 16:00:00\",\"1/23/2020 16:00:00\",\"1/24/2020 16:00:00\",\"1/27/2020 16:00:00\",\"1/28/2020 16:00:00\",\"1/29/2020 16:00:00\",\"1/30/2020 16:00:00\",\"1/31/2020 16:00:00\",\"2/3/2020 16:00:00\",\"2/4/2020 16:00:00\",\"2/5/2020 16:00:00\",\"2/6/2020 16:00:00\",\"2/7/2020 16:00:00\",\"2/10/2020 16:00:00\",\"2/11/2020 16:00:00\",\"2/12/2020 16:00:00\",\"2/13/2020 16:00:00\",\"2/14/2020 16:00:00\",\"2/18/2020 16:00:00\",\"2/19/2020 16:00:00\",\"2/20/2020 16:00:00\",\"2/21/2020 16:00:00\",\"2/24/2020 16:00:00\",\"2/25/2020 16:00:00\",\"2/26/2020 16:00:00\",\"2/27/2020 16:00:00\",\"2/28/2020 16:00:00\",\"3/2/2020 16:00:00\",\"3/3/2020 16:00:00\",\"3/4/2020 16:00:00\",\"3/5/2020 16:00:00\",\"3/6/2020 16:00:00\",\"3/9/2020 16:00:00\",\"3/10/2020 16:00:00\",\"3/11/2020 16:00:00\",\"3/12/2020 16:00:00\",\"3/13/2020 16:00:00\",\"3/16/2020 16:00:00\",\"3/17/2020 16:00:00\",\"3/18/2020 16:00:00\",\"3/19/2020 16:00:00\",\"3/20/2020 16:00:00\",\"3/23/2020 16:00:00\",\"3/24/2020 16:00:00\",\"3/25/2020 16:00:00\",\"3/26/2020 16:00:00\",\"3/27/2020 16:00:00\",\"3/30/2020 16:00:00\",\"3/31/2020 16:00:00\",\"4/1/2020 16:00:00\",\"4/2/2020 16:00:00\",\"4/3/2020 16:00:00\",\"4/6/2020 16:00:00\",\"4/7/2020 16:00:00\",\"4/8/2020 16:00:00\",\"4/9/2020 16:00:00\",\"4/13/2020 16:00:00\",\"4/14/2020 16:00:00\",\"4/15/2020 16:00:00\",\"4/16/2020 16:00:00\",\"4/17/2020 16:00:00\",\"4/20/2020 16:00:00\",\"4/21/2020 16:00:00\",\"4/22/2020 16:00:00\",\"4/23/2020 16:00:00\",\"4/24/2020 16:00:00\",\"4/27/2020 16:00:00\",\"4/28/2020 16:00:00\",\"4/29/2020 16:00:00\",\"4/30/2020 16:00:00\",\"5/1/2020 16:00:00\",\"5/4/2020 16:00:00\",\"5/5/2020 16:00:00\",\"5/6/2020 16:00:00\",\"5/7/2020 16:00:00\",\"5/8/2020 16:00:00\",\"5/11/2020 16:00:00\",\"5/12/2020 16:00:00\",\"5/13/2020 16:00:00\",\"5/14/2020 16:00:00\",\"5/15/2020 16:00:00\",\"5/18/2020 16:00:00\",\"5/19/2020 16:00:00\",\"5/20/2020 16:00:00\",\"5/21/2020 16:00:00\",\"5/22/2020 16:00:00\",\"5/26/2020 16:00:00\",\"5/27/2020 16:00:00\",\"5/28/2020 16:00:00\",\"5/29/2020 16:00:00\",\"6/1/2020 16:00:00\",\"6/2/2020 16:00:00\",\"6/3/2020 16:00:00\",\"6/4/2020 16:00:00\",\"6/5/2020 16:00:00\",\"6/8/2020 16:00:00\",\"6/9/2020 16:00:00\",\"6/10/2020 16:00:00\",\"6/11/2020 16:00:00\",\"6/12/2020 16:00:00\",\"6/15/2020 16:00:00\",\"6/16/2020 16:00:00\",\"6/17/2020 16:00:00\",\"6/18/2020 16:00:00\",\"6/19/2020 16:00:00\",\"6/22/2020 16:00:00\",\"6/23/2020 16:00:00\",\"6/24/2020 16:00:00\",\"6/25/2020 16:00:00\",\"6/26/2020 16:00:00\",\"6/29/2020 16:00:00\",\"6/30/2020 16:00:00\",\"7/1/2020 16:00:00\",\"7/2/2020 16:00:00\",\"7/6/2020 16:00:00\",\"7/7/2020 16:00:00\",\"7/8/2020 16:00:00\",\"7/9/2020 16:00:00\",\"7/10/2020 16:00:00\",\"7/13/2020 16:00:00\",\"7/14/2020 16:00:00\",\"7/15/2020 16:00:00\",\"7/16/2020 16:00:00\",\"7/17/2020 16:00:00\",\"7/20/2020 16:00:00\",\"7/21/2020 16:00:00\",\"7/22/2020 16:00:00\",\"7/23/2020 16:00:00\",\"7/24/2020 16:00:00\",\"7/27/2020 16:00:00\",\"7/28/2020 16:00:00\",\"7/29/2020 16:00:00\",\"7/30/2020 16:00:00\",\"7/31/2020 16:00:00\",\"8/3/2020 16:00:00\",\"8/4/2020 16:00:00\",\"8/5/2020 16:00:00\",\"8/6/2020 16:00:00\",\"8/7/2020 16:00:00\",\"8/10/2020 16:00:00\",\"8/11/2020 16:00:00\",\"8/12/2020 16:00:00\",\"8/13/2020 16:00:00\",\"8/14/2020 16:00:00\",\"8/17/2020 16:00:00\",\"8/18/2020 16:00:00\",\"8/19/2020 16:00:00\",\"8/20/2020 16:00:00\",\"8/21/2020 16:00:00\",\"8/24/2020 16:00:00\",\"8/25/2020 16:00:00\",\"8/26/2020 16:00:00\",\"8/27/2020 16:00:00\",\"8/28/2020 16:00:00\",\"8/31/2020 16:00:00\",\"9/1/2020 16:00:00\",\"9/2/2020 16:00:00\",\"9/3/2020 16:00:00\",\"9/4/2020 16:00:00\",\"9/8/2020 16:00:00\",\"9/9/2020 16:00:00\",\"9/10/2020 16:00:00\",\"9/11/2020 16:00:00\",\"9/14/2020 16:00:00\",\"9/15/2020 16:00:00\",\"9/16/2020 16:00:00\",\"9/17/2020 16:00:00\",\"9/18/2020 16:00:00\",\"9/21/2020 16:00:00\",\"9/22/2020 16:00:00\",\"9/23/2020 16:00:00\",\"9/24/2020 16:00:00\",\"9/25/2020 16:00:00\",\"9/28/2020 16:00:00\",\"9/29/2020 16:00:00\",\"9/30/2020 16:00:00\",\"10/1/2020 16:00:00\",\"10/2/2020 16:00:00\",\"10/5/2020 16:00:00\",\"10/6/2020 16:00:00\",\"10/7/2020 16:00:00\",\"10/8/2020 16:00:00\",\"10/9/2020 16:00:00\",\"10/12/2020 16:00:00\",\"10/13/2020 16:00:00\",\"10/14/2020 16:00:00\",\"10/15/2020 16:00:00\",\"10/16/2020 16:00:00\",\"10/19/2020 16:00:00\",\"10/20/2020 16:00:00\",\"10/21/2020 16:00:00\",\"10/22/2020 16:00:00\",\"10/23/2020 16:00:00\",\"10/26/2020 16:00:00\",\"10/27/2020 16:00:00\",\"10/28/2020 16:00:00\",\"10/29/2020 16:00:00\",\"10/30/2020 16:00:00\"]},\"selected\":{\"id\":\"1244\"},\"selection_policy\":{\"id\":\"1261\"}},\"id\":\"1243\",\"type\":\"ColumnDataSource\"},{\"attributes\":{},\"id\":\"1219\",\"type\":\"CategoricalScale\"}],\"root_ids\":[\"1209\"]},\"title\":\"Bokeh Application\",\"version\":\"2.1.1\"}};\n",
       "  var render_items = [{\"docid\":\"dc92cf39-9800-475a-a685-f888a0f8448a\",\"root_ids\":[\"1209\"],\"roots\":{\"1209\":\"3779f439-c885-424c-a764-e0b7a3fa39c6\"}}];\n",
       "  root.Bokeh.embed.embed_items_notebook(docs_json, render_items);\n",
       "  }\n",
       "if (root.Bokeh !== undefined) {\n",
       "    embed_document(root);\n",
       "  } else {\n",
       "    var attempts = 0;\n",
       "    var timer = setInterval(function(root) {\n",
       "      if (root.Bokeh !== undefined) {\n",
       "        clearInterval(timer);\n",
       "        embed_document(root);\n",
       "      } else if (document.readyState == \"complete\") {\n",
       "        attempts++;\n",
       "        if (attempts > 100) {\n",
       "          clearInterval(timer);\n",
       "          console.log(\"Bokeh: ERROR: Unable to run BokehJS code because BokehJS library is missing\");\n",
       "        }\n",
       "      }\n",
       "    }, 10, root)\n",
       "  }\n",
       "})(window);</script>"
      ],
      "text/plain": [
       ":Curve   [Date]   (Close)"
      ]
     },
     "execution_count": 12,
     "metadata": {
      "application/vnd.holoviews_exec.v0+json": {
       "id": "1209"
      }
     },
     "output_type": "execute_result"
    }
   ],
   "source": [
    "#Plotting Novavax\n",
    "nvax_data.hvplot()"
   ]
  },
  {
   "cell_type": "code",
   "execution_count": 13,
   "metadata": {},
   "outputs": [
    {
     "data": {
      "text/html": [
       "<div>\n",
       "<style scoped>\n",
       "    .dataframe tbody tr th:only-of-type {\n",
       "        vertical-align: middle;\n",
       "    }\n",
       "\n",
       "    .dataframe tbody tr th {\n",
       "        vertical-align: top;\n",
       "    }\n",
       "\n",
       "    .dataframe thead th {\n",
       "        text-align: right;\n",
       "    }\n",
       "</style>\n",
       "<table border=\"1\" class=\"dataframe\">\n",
       "  <thead>\n",
       "    <tr style=\"text-align: right;\">\n",
       "      <th></th>\n",
       "      <th>Abbott Laboratories</th>\n",
       "      <th>Moderna</th>\n",
       "      <th>Close</th>\n",
       "    </tr>\n",
       "    <tr>\n",
       "      <th>Date</th>\n",
       "      <th></th>\n",
       "      <th></th>\n",
       "      <th></th>\n",
       "    </tr>\n",
       "  </thead>\n",
       "  <tbody>\n",
       "    <tr>\n",
       "      <th>1/2/2020 16:00:00</th>\n",
       "      <td>86.95</td>\n",
       "      <td>19.23</td>\n",
       "      <td>4.49</td>\n",
       "    </tr>\n",
       "    <tr>\n",
       "      <th>1/3/2020 16:00:00</th>\n",
       "      <td>85.89</td>\n",
       "      <td>18.89</td>\n",
       "      <td>4.44</td>\n",
       "    </tr>\n",
       "    <tr>\n",
       "      <th>1/6/2020 16:00:00</th>\n",
       "      <td>86.34</td>\n",
       "      <td>18.13</td>\n",
       "      <td>4.58</td>\n",
       "    </tr>\n",
       "    <tr>\n",
       "      <th>1/7/2020 16:00:00</th>\n",
       "      <td>85.86</td>\n",
       "      <td>17.78</td>\n",
       "      <td>4.57</td>\n",
       "    </tr>\n",
       "    <tr>\n",
       "      <th>1/8/2020 16:00:00</th>\n",
       "      <td>86.21</td>\n",
       "      <td>17.98</td>\n",
       "      <td>4.28</td>\n",
       "    </tr>\n",
       "  </tbody>\n",
       "</table>\n",
       "</div>"
      ],
      "text/plain": [
       "                   Abbott Laboratories  Moderna  Close\n",
       "Date                                                  \n",
       "1/2/2020 16:00:00                86.95    19.23   4.49\n",
       "1/3/2020 16:00:00                85.89    18.89   4.44\n",
       "1/6/2020 16:00:00                86.34    18.13   4.58\n",
       "1/7/2020 16:00:00                85.86    17.78   4.57\n",
       "1/8/2020 16:00:00                86.21    17.98   4.28"
      ]
     },
     "execution_count": 13,
     "metadata": {},
     "output_type": "execute_result"
    }
   ],
   "source": [
    "vax_data = pd.concat([abt_data , mrna_data, nvax_data], axis='columns', join='inner')\n",
    "vax_data.head()"
   ]
  },
  {
   "cell_type": "code",
   "execution_count": 14,
   "metadata": {},
   "outputs": [
    {
     "data": {
      "application/vnd.holoviews_exec.v0+json": "",
      "text/html": [
       "<div id='1313'>\n",
       "\n",
       "\n",
       "\n",
       "\n",
       "\n",
       "  <div class=\"bk-root\" id=\"71cca454-2348-46b1-99a3-f2c71c44caa3\" data-root-id=\"1313\"></div>\n",
       "</div>\n",
       "<script type=\"application/javascript\">(function(root) {\n",
       "  function embed_document(root) {\n",
       "  var docs_json = {\"2a1dbe51-aa6b-4e2a-9978-05ace34bafcb\":{\"roots\":{\"references\":[{\"attributes\":{\"axis\":{\"id\":\"1332\"},\"dimension\":1,\"grid_line_color\":null,\"ticker\":null},\"id\":\"1335\",\"type\":\"Grid\"},{\"attributes\":{\"data\":{\"Date\":[\"1/2/2020 16:00:00\",\"1/3/2020 16:00:00\",\"1/6/2020 16:00:00\",\"1/7/2020 16:00:00\",\"1/8/2020 16:00:00\",\"1/9/2020 16:00:00\",\"1/10/2020 16:00:00\",\"1/13/2020 16:00:00\",\"1/14/2020 16:00:00\",\"1/15/2020 16:00:00\",\"1/16/2020 16:00:00\",\"1/17/2020 16:00:00\",\"1/21/2020 16:00:00\",\"1/22/2020 16:00:00\",\"1/23/2020 16:00:00\",\"1/24/2020 16:00:00\",\"1/27/2020 16:00:00\",\"1/28/2020 16:00:00\",\"1/29/2020 16:00:00\",\"1/30/2020 16:00:00\",\"1/31/2020 16:00:00\",\"2/3/2020 16:00:00\",\"2/4/2020 16:00:00\",\"2/5/2020 16:00:00\",\"2/6/2020 16:00:00\",\"2/7/2020 16:00:00\",\"2/10/2020 16:00:00\",\"2/11/2020 16:00:00\",\"2/12/2020 16:00:00\",\"2/13/2020 16:00:00\",\"2/14/2020 16:00:00\",\"2/18/2020 16:00:00\",\"2/19/2020 16:00:00\",\"2/20/2020 16:00:00\",\"2/21/2020 16:00:00\",\"2/24/2020 16:00:00\",\"2/25/2020 16:00:00\",\"2/26/2020 16:00:00\",\"2/27/2020 16:00:00\",\"2/28/2020 16:00:00\",\"3/2/2020 16:00:00\",\"3/3/2020 16:00:00\",\"3/4/2020 16:00:00\",\"3/5/2020 16:00:00\",\"3/6/2020 16:00:00\",\"3/9/2020 16:00:00\",\"3/10/2020 16:00:00\",\"3/11/2020 16:00:00\",\"3/12/2020 16:00:00\",\"3/13/2020 16:00:00\",\"3/16/2020 16:00:00\",\"3/17/2020 16:00:00\",\"3/18/2020 16:00:00\",\"3/19/2020 16:00:00\",\"3/20/2020 16:00:00\",\"3/23/2020 16:00:00\",\"3/24/2020 16:00:00\",\"3/25/2020 16:00:00\",\"3/26/2020 16:00:00\",\"3/27/2020 16:00:00\",\"3/30/2020 16:00:00\",\"3/31/2020 16:00:00\",\"4/1/2020 16:00:00\",\"4/2/2020 16:00:00\",\"4/3/2020 16:00:00\",\"4/6/2020 16:00:00\",\"4/7/2020 16:00:00\",\"4/8/2020 16:00:00\",\"4/9/2020 16:00:00\",\"4/13/2020 16:00:00\",\"4/14/2020 16:00:00\",\"4/15/2020 16:00:00\",\"4/16/2020 16:00:00\",\"4/17/2020 16:00:00\",\"4/20/2020 16:00:00\",\"4/21/2020 16:00:00\",\"4/22/2020 16:00:00\",\"4/23/2020 16:00:00\",\"4/24/2020 16:00:00\",\"4/27/2020 16:00:00\",\"4/28/2020 16:00:00\",\"4/29/2020 16:00:00\",\"4/30/2020 16:00:00\",\"5/1/2020 16:00:00\",\"5/4/2020 16:00:00\",\"5/5/2020 16:00:00\",\"5/6/2020 16:00:00\",\"5/7/2020 16:00:00\",\"5/8/2020 16:00:00\",\"5/11/2020 16:00:00\",\"5/12/2020 16:00:00\",\"5/13/2020 16:00:00\",\"5/14/2020 16:00:00\",\"5/15/2020 16:00:00\",\"5/18/2020 16:00:00\",\"5/19/2020 16:00:00\",\"5/20/2020 16:00:00\",\"5/21/2020 16:00:00\",\"5/22/2020 16:00:00\",\"5/26/2020 16:00:00\",\"5/27/2020 16:00:00\",\"5/28/2020 16:00:00\",\"5/29/2020 16:00:00\",\"6/1/2020 16:00:00\",\"6/2/2020 16:00:00\",\"6/3/2020 16:00:00\",\"6/4/2020 16:00:00\",\"6/5/2020 16:00:00\",\"6/8/2020 16:00:00\",\"6/9/2020 16:00:00\",\"6/10/2020 16:00:00\",\"6/11/2020 16:00:00\",\"6/12/2020 16:00:00\",\"6/15/2020 16:00:00\",\"6/16/2020 16:00:00\",\"6/17/2020 16:00:00\",\"6/18/2020 16:00:00\",\"6/19/2020 16:00:00\",\"6/22/2020 16:00:00\",\"6/23/2020 16:00:00\",\"6/24/2020 16:00:00\",\"6/25/2020 16:00:00\",\"6/26/2020 16:00:00\",\"6/29/2020 16:00:00\",\"6/30/2020 16:00:00\",\"7/1/2020 16:00:00\",\"7/2/2020 16:00:00\",\"7/6/2020 16:00:00\",\"7/7/2020 16:00:00\",\"7/8/2020 16:00:00\",\"7/9/2020 16:00:00\",\"7/10/2020 16:00:00\",\"7/13/2020 16:00:00\",\"7/14/2020 16:00:00\",\"7/15/2020 16:00:00\",\"7/16/2020 16:00:00\",\"7/17/2020 16:00:00\",\"7/20/2020 16:00:00\",\"7/21/2020 16:00:00\",\"7/22/2020 16:00:00\",\"7/23/2020 16:00:00\",\"7/24/2020 16:00:00\",\"7/27/2020 16:00:00\",\"7/28/2020 16:00:00\",\"7/29/2020 16:00:00\",\"7/30/2020 16:00:00\",\"7/31/2020 16:00:00\",\"8/3/2020 16:00:00\",\"8/4/2020 16:00:00\",\"8/5/2020 16:00:00\",\"8/6/2020 16:00:00\",\"8/7/2020 16:00:00\",\"8/10/2020 16:00:00\",\"8/11/2020 16:00:00\",\"8/12/2020 16:00:00\",\"8/13/2020 16:00:00\",\"8/14/2020 16:00:00\",\"8/17/2020 16:00:00\",\"8/18/2020 16:00:00\",\"8/19/2020 16:00:00\",\"8/20/2020 16:00:00\",\"8/21/2020 16:00:00\",\"8/24/2020 16:00:00\",\"8/25/2020 16:00:00\",\"8/26/2020 16:00:00\",\"8/27/2020 16:00:00\",\"8/28/2020 16:00:00\",\"8/31/2020 16:00:00\",\"9/1/2020 16:00:00\",\"9/2/2020 16:00:00\",\"9/3/2020 16:00:00\",\"9/4/2020 16:00:00\",\"9/8/2020 16:00:00\",\"9/9/2020 16:00:00\",\"9/10/2020 16:00:00\",\"9/11/2020 16:00:00\",\"9/14/2020 16:00:00\",\"9/15/2020 16:00:00\",\"9/16/2020 16:00:00\",\"9/17/2020 16:00:00\",\"9/18/2020 16:00:00\",\"9/21/2020 16:00:00\",\"9/22/2020 16:00:00\",\"9/23/2020 16:00:00\",\"9/24/2020 16:00:00\",\"9/25/2020 16:00:00\",\"9/28/2020 16:00:00\",\"9/29/2020 16:00:00\",\"9/30/2020 16:00:00\",\"10/1/2020 16:00:00\",\"10/2/2020 16:00:00\",\"10/5/2020 16:00:00\",\"10/6/2020 16:00:00\",\"10/7/2020 16:00:00\",\"10/8/2020 16:00:00\",\"10/9/2020 16:00:00\",\"10/12/2020 16:00:00\",\"10/13/2020 16:00:00\",\"10/14/2020 16:00:00\",\"10/15/2020 16:00:00\",\"10/16/2020 16:00:00\",\"10/19/2020 16:00:00\",\"10/20/2020 16:00:00\",\"10/21/2020 16:00:00\",\"10/22/2020 16:00:00\",\"10/23/2020 16:00:00\",\"10/26/2020 16:00:00\",\"10/27/2020 16:00:00\",\"10/28/2020 16:00:00\",\"10/29/2020 16:00:00\",\"10/30/2020 16:00:00\"],\"Variable\":[\"Abbott Laboratories\",\"Abbott Laboratories\",\"Abbott Laboratories\",\"Abbott Laboratories\",\"Abbott Laboratories\",\"Abbott Laboratories\",\"Abbott Laboratories\",\"Abbott Laboratories\",\"Abbott Laboratories\",\"Abbott Laboratories\",\"Abbott Laboratories\",\"Abbott Laboratories\",\"Abbott Laboratories\",\"Abbott Laboratories\",\"Abbott Laboratories\",\"Abbott Laboratories\",\"Abbott Laboratories\",\"Abbott Laboratories\",\"Abbott Laboratories\",\"Abbott Laboratories\",\"Abbott Laboratories\",\"Abbott Laboratories\",\"Abbott Laboratories\",\"Abbott Laboratories\",\"Abbott Laboratories\",\"Abbott Laboratories\",\"Abbott Laboratories\",\"Abbott Laboratories\",\"Abbott Laboratories\",\"Abbott Laboratories\",\"Abbott Laboratories\",\"Abbott Laboratories\",\"Abbott Laboratories\",\"Abbott Laboratories\",\"Abbott Laboratories\",\"Abbott Laboratories\",\"Abbott Laboratories\",\"Abbott Laboratories\",\"Abbott Laboratories\",\"Abbott Laboratories\",\"Abbott Laboratories\",\"Abbott Laboratories\",\"Abbott Laboratories\",\"Abbott Laboratories\",\"Abbott Laboratories\",\"Abbott Laboratories\",\"Abbott Laboratories\",\"Abbott Laboratories\",\"Abbott Laboratories\",\"Abbott Laboratories\",\"Abbott Laboratories\",\"Abbott Laboratories\",\"Abbott Laboratories\",\"Abbott Laboratories\",\"Abbott Laboratories\",\"Abbott Laboratories\",\"Abbott Laboratories\",\"Abbott Laboratories\",\"Abbott Laboratories\",\"Abbott Laboratories\",\"Abbott Laboratories\",\"Abbott Laboratories\",\"Abbott Laboratories\",\"Abbott Laboratories\",\"Abbott Laboratories\",\"Abbott Laboratories\",\"Abbott Laboratories\",\"Abbott Laboratories\",\"Abbott Laboratories\",\"Abbott Laboratories\",\"Abbott Laboratories\",\"Abbott Laboratories\",\"Abbott Laboratories\",\"Abbott Laboratories\",\"Abbott Laboratories\",\"Abbott Laboratories\",\"Abbott Laboratories\",\"Abbott Laboratories\",\"Abbott Laboratories\",\"Abbott Laboratories\",\"Abbott Laboratories\",\"Abbott Laboratories\",\"Abbott Laboratories\",\"Abbott Laboratories\",\"Abbott Laboratories\",\"Abbott Laboratories\",\"Abbott Laboratories\",\"Abbott Laboratories\",\"Abbott Laboratories\",\"Abbott Laboratories\",\"Abbott Laboratories\",\"Abbott Laboratories\",\"Abbott Laboratories\",\"Abbott Laboratories\",\"Abbott Laboratories\",\"Abbott Laboratories\",\"Abbott Laboratories\",\"Abbott Laboratories\",\"Abbott Laboratories\",\"Abbott Laboratories\",\"Abbott Laboratories\",\"Abbott Laboratories\",\"Abbott Laboratories\",\"Abbott Laboratories\",\"Abbott Laboratories\",\"Abbott Laboratories\",\"Abbott Laboratories\",\"Abbott Laboratories\",\"Abbott Laboratories\",\"Abbott Laboratories\",\"Abbott Laboratories\",\"Abbott Laboratories\",\"Abbott Laboratories\",\"Abbott Laboratories\",\"Abbott Laboratories\",\"Abbott Laboratories\",\"Abbott Laboratories\",\"Abbott Laboratories\",\"Abbott Laboratories\",\"Abbott Laboratories\",\"Abbott Laboratories\",\"Abbott Laboratories\",\"Abbott Laboratories\",\"Abbott Laboratories\",\"Abbott Laboratories\",\"Abbott Laboratories\",\"Abbott Laboratories\",\"Abbott Laboratories\",\"Abbott Laboratories\",\"Abbott Laboratories\",\"Abbott Laboratories\",\"Abbott Laboratories\",\"Abbott Laboratories\",\"Abbott Laboratories\",\"Abbott Laboratories\",\"Abbott Laboratories\",\"Abbott Laboratories\",\"Abbott Laboratories\",\"Abbott Laboratories\",\"Abbott Laboratories\",\"Abbott Laboratories\",\"Abbott Laboratories\",\"Abbott Laboratories\",\"Abbott Laboratories\",\"Abbott Laboratories\",\"Abbott Laboratories\",\"Abbott Laboratories\",\"Abbott Laboratories\",\"Abbott Laboratories\",\"Abbott Laboratories\",\"Abbott Laboratories\",\"Abbott Laboratories\",\"Abbott Laboratories\",\"Abbott Laboratories\",\"Abbott Laboratories\",\"Abbott Laboratories\",\"Abbott Laboratories\",\"Abbott Laboratories\",\"Abbott Laboratories\",\"Abbott Laboratories\",\"Abbott Laboratories\",\"Abbott Laboratories\",\"Abbott Laboratories\",\"Abbott Laboratories\",\"Abbott Laboratories\",\"Abbott Laboratories\",\"Abbott Laboratories\",\"Abbott Laboratories\",\"Abbott Laboratories\",\"Abbott Laboratories\",\"Abbott Laboratories\",\"Abbott Laboratories\",\"Abbott Laboratories\",\"Abbott Laboratories\",\"Abbott Laboratories\",\"Abbott Laboratories\",\"Abbott Laboratories\",\"Abbott Laboratories\",\"Abbott Laboratories\",\"Abbott Laboratories\",\"Abbott Laboratories\",\"Abbott Laboratories\",\"Abbott Laboratories\",\"Abbott Laboratories\",\"Abbott Laboratories\",\"Abbott Laboratories\",\"Abbott Laboratories\",\"Abbott Laboratories\",\"Abbott Laboratories\",\"Abbott Laboratories\",\"Abbott Laboratories\",\"Abbott Laboratories\",\"Abbott Laboratories\",\"Abbott Laboratories\",\"Abbott Laboratories\",\"Abbott Laboratories\",\"Abbott Laboratories\",\"Abbott Laboratories\",\"Abbott Laboratories\",\"Abbott Laboratories\",\"Abbott Laboratories\",\"Abbott Laboratories\",\"Abbott Laboratories\",\"Abbott Laboratories\",\"Abbott Laboratories\",\"Abbott Laboratories\",\"Abbott Laboratories\",\"Abbott Laboratories\",\"Abbott Laboratories\",\"Abbott Laboratories\",\"Abbott Laboratories\"],\"value\":{\"__ndarray__\":\"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\",\"dtype\":\"float64\",\"order\":\"little\",\"shape\":[211]}},\"selected\":{\"id\":\"1354\"},\"selection_policy\":{\"id\":\"1367\"}},\"id\":\"1353\",\"type\":\"ColumnDataSource\"},{\"attributes\":{\"line_alpha\":0.2,\"line_color\":\"#2ba02b\",\"line_width\":2,\"x\":{\"field\":\"Date\"},\"y\":{\"field\":\"value\"}},\"id\":\"1395\",\"type\":\"Line\"},{\"attributes\":{\"label\":{\"value\":\"Moderna\"},\"renderers\":[{\"id\":\"1377\"}]},\"id\":\"1389\",\"type\":\"LegendItem\"},{\"attributes\":{},\"id\":\"1372\",\"type\":\"Selection\"},{\"attributes\":{},\"id\":\"1337\",\"type\":\"PanTool\"},{\"attributes\":{},\"id\":\"1354\",\"type\":\"Selection\"},{\"attributes\":{\"margin\":[5,5,5,5],\"name\":\"HSpacer02110\",\"sizing_mode\":\"stretch_width\"},\"id\":\"1519\",\"type\":\"Spacer\"},{\"attributes\":{\"axis\":{\"id\":\"1329\"},\"grid_line_color\":null,\"ticker\":null},\"id\":\"1331\",\"type\":\"Grid\"},{\"attributes\":{},\"id\":\"1333\",\"type\":\"BasicTicker\"},{\"attributes\":{\"line_alpha\":0.2,\"line_color\":\"#ff7e0e\",\"line_width\":2,\"x\":{\"field\":\"Date\"},\"y\":{\"field\":\"value\"}},\"id\":\"1376\",\"type\":\"Line\"},{\"attributes\":{\"line_alpha\":0.1,\"line_color\":\"#ff7e0e\",\"line_width\":2,\"x\":{\"field\":\"Date\"},\"y\":{\"field\":\"value\"}},\"id\":\"1375\",\"type\":\"Line\"},{\"attributes\":{},\"id\":\"1387\",\"type\":\"UnionRenderers\"},{\"attributes\":{},\"id\":\"1325\",\"type\":\"CategoricalScale\"},{\"attributes\":{\"line_alpha\":0.1,\"line_color\":\"#2ba02b\",\"line_width\":2,\"x\":{\"field\":\"Date\"},\"y\":{\"field\":\"value\"}},\"id\":\"1394\",\"type\":\"Line\"},{\"attributes\":{\"active_drag\":\"auto\",\"active_inspect\":\"auto\",\"active_multi\":null,\"active_scroll\":\"auto\",\"active_tap\":\"auto\",\"tools\":[{\"id\":\"1317\"},{\"id\":\"1336\"},{\"id\":\"1337\"},{\"id\":\"1338\"},{\"id\":\"1339\"},{\"id\":\"1340\"}]},\"id\":\"1342\",\"type\":\"Toolbar\"},{\"attributes\":{\"text\":\"\",\"text_color\":{\"value\":\"black\"},\"text_font_size\":{\"value\":\"12pt\"}},\"id\":\"1321\",\"type\":\"Title\"},{\"attributes\":{\"source\":{\"id\":\"1371\"}},\"id\":\"1378\",\"type\":\"CDSView\"},{\"attributes\":{\"data\":{\"Date\":[\"1/2/2020 16:00:00\",\"1/3/2020 16:00:00\",\"1/6/2020 16:00:00\",\"1/7/2020 16:00:00\",\"1/8/2020 16:00:00\",\"1/9/2020 16:00:00\",\"1/10/2020 16:00:00\",\"1/13/2020 16:00:00\",\"1/14/2020 16:00:00\",\"1/15/2020 16:00:00\",\"1/16/2020 16:00:00\",\"1/17/2020 16:00:00\",\"1/21/2020 16:00:00\",\"1/22/2020 16:00:00\",\"1/23/2020 16:00:00\",\"1/24/2020 16:00:00\",\"1/27/2020 16:00:00\",\"1/28/2020 16:00:00\",\"1/29/2020 16:00:00\",\"1/30/2020 16:00:00\",\"1/31/2020 16:00:00\",\"2/3/2020 16:00:00\",\"2/4/2020 16:00:00\",\"2/5/2020 16:00:00\",\"2/6/2020 16:00:00\",\"2/7/2020 16:00:00\",\"2/10/2020 16:00:00\",\"2/11/2020 16:00:00\",\"2/12/2020 16:00:00\",\"2/13/2020 16:00:00\",\"2/14/2020 16:00:00\",\"2/18/2020 16:00:00\",\"2/19/2020 16:00:00\",\"2/20/2020 16:00:00\",\"2/21/2020 16:00:00\",\"2/24/2020 16:00:00\",\"2/25/2020 16:00:00\",\"2/26/2020 16:00:00\",\"2/27/2020 16:00:00\",\"2/28/2020 16:00:00\",\"3/2/2020 16:00:00\",\"3/3/2020 16:00:00\",\"3/4/2020 16:00:00\",\"3/5/2020 16:00:00\",\"3/6/2020 16:00:00\",\"3/9/2020 16:00:00\",\"3/10/2020 16:00:00\",\"3/11/2020 16:00:00\",\"3/12/2020 16:00:00\",\"3/13/2020 16:00:00\",\"3/16/2020 16:00:00\",\"3/17/2020 16:00:00\",\"3/18/2020 16:00:00\",\"3/19/2020 16:00:00\",\"3/20/2020 16:00:00\",\"3/23/2020 16:00:00\",\"3/24/2020 16:00:00\",\"3/25/2020 16:00:00\",\"3/26/2020 16:00:00\",\"3/27/2020 16:00:00\",\"3/30/2020 16:00:00\",\"3/31/2020 16:00:00\",\"4/1/2020 16:00:00\",\"4/2/2020 16:00:00\",\"4/3/2020 16:00:00\",\"4/6/2020 16:00:00\",\"4/7/2020 16:00:00\",\"4/8/2020 16:00:00\",\"4/9/2020 16:00:00\",\"4/13/2020 16:00:00\",\"4/14/2020 16:00:00\",\"4/15/2020 16:00:00\",\"4/16/2020 16:00:00\",\"4/17/2020 16:00:00\",\"4/20/2020 16:00:00\",\"4/21/2020 16:00:00\",\"4/22/2020 16:00:00\",\"4/23/2020 16:00:00\",\"4/24/2020 16:00:00\",\"4/27/2020 16:00:00\",\"4/28/2020 16:00:00\",\"4/29/2020 16:00:00\",\"4/30/2020 16:00:00\",\"5/1/2020 16:00:00\",\"5/4/2020 16:00:00\",\"5/5/2020 16:00:00\",\"5/6/2020 16:00:00\",\"5/7/2020 16:00:00\",\"5/8/2020 16:00:00\",\"5/11/2020 16:00:00\",\"5/12/2020 16:00:00\",\"5/13/2020 16:00:00\",\"5/14/2020 16:00:00\",\"5/15/2020 16:00:00\",\"5/18/2020 16:00:00\",\"5/19/2020 16:00:00\",\"5/20/2020 16:00:00\",\"5/21/2020 16:00:00\",\"5/22/2020 16:00:00\",\"5/26/2020 16:00:00\",\"5/27/2020 16:00:00\",\"5/28/2020 16:00:00\",\"5/29/2020 16:00:00\",\"6/1/2020 16:00:00\",\"6/2/2020 16:00:00\",\"6/3/2020 16:00:00\",\"6/4/2020 16:00:00\",\"6/5/2020 16:00:00\",\"6/8/2020 16:00:00\",\"6/9/2020 16:00:00\",\"6/10/2020 16:00:00\",\"6/11/2020 16:00:00\",\"6/12/2020 16:00:00\",\"6/15/2020 16:00:00\",\"6/16/2020 16:00:00\",\"6/17/2020 16:00:00\",\"6/18/2020 16:00:00\",\"6/19/2020 16:00:00\",\"6/22/2020 16:00:00\",\"6/23/2020 16:00:00\",\"6/24/2020 16:00:00\",\"6/25/2020 16:00:00\",\"6/26/2020 16:00:00\",\"6/29/2020 16:00:00\",\"6/30/2020 16:00:00\",\"7/1/2020 16:00:00\",\"7/2/2020 16:00:00\",\"7/6/2020 16:00:00\",\"7/7/2020 16:00:00\",\"7/8/2020 16:00:00\",\"7/9/2020 16:00:00\",\"7/10/2020 16:00:00\",\"7/13/2020 16:00:00\",\"7/14/2020 16:00:00\",\"7/15/2020 16:00:00\",\"7/16/2020 16:00:00\",\"7/17/2020 16:00:00\",\"7/20/2020 16:00:00\",\"7/21/2020 16:00:00\",\"7/22/2020 16:00:00\",\"7/23/2020 16:00:00\",\"7/24/2020 16:00:00\",\"7/27/2020 16:00:00\",\"7/28/2020 16:00:00\",\"7/29/2020 16:00:00\",\"7/30/2020 16:00:00\",\"7/31/2020 16:00:00\",\"8/3/2020 16:00:00\",\"8/4/2020 16:00:00\",\"8/5/2020 16:00:00\",\"8/6/2020 16:00:00\",\"8/7/2020 16:00:00\",\"8/10/2020 16:00:00\",\"8/11/2020 16:00:00\",\"8/12/2020 16:00:00\",\"8/13/2020 16:00:00\",\"8/14/2020 16:00:00\",\"8/17/2020 16:00:00\",\"8/18/2020 16:00:00\",\"8/19/2020 16:00:00\",\"8/20/2020 16:00:00\",\"8/21/2020 16:00:00\",\"8/24/2020 16:00:00\",\"8/25/2020 16:00:00\",\"8/26/2020 16:00:00\",\"8/27/2020 16:00:00\",\"8/28/2020 16:00:00\",\"8/31/2020 16:00:00\",\"9/1/2020 16:00:00\",\"9/2/2020 16:00:00\",\"9/3/2020 16:00:00\",\"9/4/2020 16:00:00\",\"9/8/2020 16:00:00\",\"9/9/2020 16:00:00\",\"9/10/2020 16:00:00\",\"9/11/2020 16:00:00\",\"9/14/2020 16:00:00\",\"9/15/2020 16:00:00\",\"9/16/2020 16:00:00\",\"9/17/2020 16:00:00\",\"9/18/2020 16:00:00\",\"9/21/2020 16:00:00\",\"9/22/2020 16:00:00\",\"9/23/2020 16:00:00\",\"9/24/2020 16:00:00\",\"9/25/2020 16:00:00\",\"9/28/2020 16:00:00\",\"9/29/2020 16:00:00\",\"9/30/2020 16:00:00\",\"10/1/2020 16:00:00\",\"10/2/2020 16:00:00\",\"10/5/2020 16:00:00\",\"10/6/2020 16:00:00\",\"10/7/2020 16:00:00\",\"10/8/2020 16:00:00\",\"10/9/2020 16:00:00\",\"10/12/2020 16:00:00\",\"10/13/2020 16:00:00\",\"10/14/2020 16:00:00\",\"10/15/2020 16:00:00\",\"10/16/2020 16:00:00\",\"10/19/2020 16:00:00\",\"10/20/2020 16:00:00\",\"10/21/2020 16:00:00\",\"10/22/2020 16:00:00\",\"10/23/2020 16:00:00\",\"10/26/2020 16:00:00\",\"10/27/2020 16:00:00\",\"10/28/2020 16:00:00\",\"10/29/2020 16:00:00\",\"10/30/2020 16:00:00\"],\"Variable\":[\"Close\",\"Close\",\"Close\",\"Close\",\"Close\",\"Close\",\"Close\",\"Close\",\"Close\",\"Close\",\"Close\",\"Close\",\"Close\",\"Close\",\"Close\",\"Close\",\"Close\",\"Close\",\"Close\",\"Close\",\"Close\",\"Close\",\"Close\",\"Close\",\"Close\",\"Close\",\"Close\",\"Close\",\"Close\",\"Close\",\"Close\",\"Close\",\"Close\",\"Close\",\"Close\",\"Close\",\"Close\",\"Close\",\"Close\",\"Close\",\"Close\",\"Close\",\"Close\",\"Close\",\"Close\",\"Close\",\"Close\",\"Close\",\"Close\",\"Close\",\"Close\",\"Close\",\"Close\",\"Close\",\"Close\",\"Close\",\"Close\",\"Close\",\"Close\",\"Close\",\"Close\",\"Close\",\"Close\",\"Close\",\"Close\",\"Close\",\"Close\",\"Close\",\"Close\",\"Close\",\"Close\",\"Close\",\"Close\",\"Close\",\"Close\",\"Close\",\"Close\",\"Close\",\"Close\",\"Close\",\"Close\",\"Close\",\"Close\",\"Close\",\"Close\",\"Close\",\"Close\",\"Close\",\"Close\",\"Close\",\"Close\",\"Close\",\"Close\",\"Close\",\"Close\",\"Close\",\"Close\",\"Close\",\"Close\",\"Close\",\"Close\",\"Close\",\"Close\",\"Close\",\"Close\",\"Close\",\"Close\",\"Close\",\"Close\",\"Close\",\"Close\",\"Close\",\"Close\",\"Close\",\"Close\",\"Close\",\"Close\",\"Close\",\"Close\",\"Close\",\"Close\",\"Close\",\"Close\",\"Close\",\"Close\",\"Close\",\"Close\",\"Close\",\"Close\",\"Close\",\"Close\",\"Close\",\"Close\",\"Close\",\"Close\",\"Close\",\"Close\",\"Close\",\"Close\",\"Close\",\"Close\",\"Close\",\"Close\",\"Close\",\"Close\",\"Close\",\"Close\",\"Close\",\"Close\",\"Close\",\"Close\",\"Close\",\"Close\",\"Close\",\"Close\",\"Close\",\"Close\",\"Close\",\"Close\",\"Close\",\"Close\",\"Close\",\"Close\",\"Close\",\"Close\",\"Close\",\"Close\",\"Close\",\"Close\",\"Close\",\"Close\",\"Close\",\"Close\",\"Close\",\"Close\",\"Close\",\"Close\",\"Close\",\"Close\",\"Close\",\"Close\",\"Close\",\"Close\",\"Close\",\"Close\",\"Close\",\"Close\",\"Close\",\"Close\",\"Close\",\"Close\",\"Close\",\"Close\",\"Close\",\"Close\",\"Close\",\"Close\",\"Close\",\"Close\",\"Close\",\"Close\",\"Close\",\"Close\",\"Close\",\"Close\",\"Close\",\"Close\",\"Close\",\"Close\",\"Close\",\"Close\"],\"value\":{\"__ndarray__\":\"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\",\"dtype\":\"float64\",\"order\":\"little\",\"shape\":[211]}},\"selected\":{\"id\":\"1391\"},\"selection_policy\":{\"id\":\"1408\"}},\"id\":\"1390\",\"type\":\"ColumnDataSource\"},{\"attributes\":{\"align\":null,\"below\":[{\"id\":\"1329\"}],\"center\":[{\"id\":\"1331\"},{\"id\":\"1335\"}],\"left\":[{\"id\":\"1332\"}],\"margin\":null,\"min_border_bottom\":10,\"min_border_left\":10,\"min_border_right\":10,\"min_border_top\":10,\"plot_height\":300,\"plot_width\":700,\"renderers\":[{\"id\":\"1359\"},{\"id\":\"1377\"},{\"id\":\"1396\"}],\"right\":[{\"id\":\"1369\"}],\"sizing_mode\":\"fixed\",\"title\":{\"id\":\"1321\"},\"toolbar\":{\"id\":\"1342\"},\"x_range\":{\"id\":\"1315\"},\"x_scale\":{\"id\":\"1325\"},\"y_range\":{\"id\":\"1316\"},\"y_scale\":{\"id\":\"1327\"}},\"id\":\"1320\",\"subtype\":\"Figure\",\"type\":\"Plot\"},{\"attributes\":{},\"id\":\"1330\",\"type\":\"CategoricalTicker\"},{\"attributes\":{\"data\":{\"Date\":[\"1/2/2020 16:00:00\",\"1/3/2020 16:00:00\",\"1/6/2020 16:00:00\",\"1/7/2020 16:00:00\",\"1/8/2020 16:00:00\",\"1/9/2020 16:00:00\",\"1/10/2020 16:00:00\",\"1/13/2020 16:00:00\",\"1/14/2020 16:00:00\",\"1/15/2020 16:00:00\",\"1/16/2020 16:00:00\",\"1/17/2020 16:00:00\",\"1/21/2020 16:00:00\",\"1/22/2020 16:00:00\",\"1/23/2020 16:00:00\",\"1/24/2020 16:00:00\",\"1/27/2020 16:00:00\",\"1/28/2020 16:00:00\",\"1/29/2020 16:00:00\",\"1/30/2020 16:00:00\",\"1/31/2020 16:00:00\",\"2/3/2020 16:00:00\",\"2/4/2020 16:00:00\",\"2/5/2020 16:00:00\",\"2/6/2020 16:00:00\",\"2/7/2020 16:00:00\",\"2/10/2020 16:00:00\",\"2/11/2020 16:00:00\",\"2/12/2020 16:00:00\",\"2/13/2020 16:00:00\",\"2/14/2020 16:00:00\",\"2/18/2020 16:00:00\",\"2/19/2020 16:00:00\",\"2/20/2020 16:00:00\",\"2/21/2020 16:00:00\",\"2/24/2020 16:00:00\",\"2/25/2020 16:00:00\",\"2/26/2020 16:00:00\",\"2/27/2020 16:00:00\",\"2/28/2020 16:00:00\",\"3/2/2020 16:00:00\",\"3/3/2020 16:00:00\",\"3/4/2020 16:00:00\",\"3/5/2020 16:00:00\",\"3/6/2020 16:00:00\",\"3/9/2020 16:00:00\",\"3/10/2020 16:00:00\",\"3/11/2020 16:00:00\",\"3/12/2020 16:00:00\",\"3/13/2020 16:00:00\",\"3/16/2020 16:00:00\",\"3/17/2020 16:00:00\",\"3/18/2020 16:00:00\",\"3/19/2020 16:00:00\",\"3/20/2020 16:00:00\",\"3/23/2020 16:00:00\",\"3/24/2020 16:00:00\",\"3/25/2020 16:00:00\",\"3/26/2020 16:00:00\",\"3/27/2020 16:00:00\",\"3/30/2020 16:00:00\",\"3/31/2020 16:00:00\",\"4/1/2020 16:00:00\",\"4/2/2020 16:00:00\",\"4/3/2020 16:00:00\",\"4/6/2020 16:00:00\",\"4/7/2020 16:00:00\",\"4/8/2020 16:00:00\",\"4/9/2020 16:00:00\",\"4/13/2020 16:00:00\",\"4/14/2020 16:00:00\",\"4/15/2020 16:00:00\",\"4/16/2020 16:00:00\",\"4/17/2020 16:00:00\",\"4/20/2020 16:00:00\",\"4/21/2020 16:00:00\",\"4/22/2020 16:00:00\",\"4/23/2020 16:00:00\",\"4/24/2020 16:00:00\",\"4/27/2020 16:00:00\",\"4/28/2020 16:00:00\",\"4/29/2020 16:00:00\",\"4/30/2020 16:00:00\",\"5/1/2020 16:00:00\",\"5/4/2020 16:00:00\",\"5/5/2020 16:00:00\",\"5/6/2020 16:00:00\",\"5/7/2020 16:00:00\",\"5/8/2020 16:00:00\",\"5/11/2020 16:00:00\",\"5/12/2020 16:00:00\",\"5/13/2020 16:00:00\",\"5/14/2020 16:00:00\",\"5/15/2020 16:00:00\",\"5/18/2020 16:00:00\",\"5/19/2020 16:00:00\",\"5/20/2020 16:00:00\",\"5/21/2020 16:00:00\",\"5/22/2020 16:00:00\",\"5/26/2020 16:00:00\",\"5/27/2020 16:00:00\",\"5/28/2020 16:00:00\",\"5/29/2020 16:00:00\",\"6/1/2020 16:00:00\",\"6/2/2020 16:00:00\",\"6/3/2020 16:00:00\",\"6/4/2020 16:00:00\",\"6/5/2020 16:00:00\",\"6/8/2020 16:00:00\",\"6/9/2020 16:00:00\",\"6/10/2020 16:00:00\",\"6/11/2020 16:00:00\",\"6/12/2020 16:00:00\",\"6/15/2020 16:00:00\",\"6/16/2020 16:00:00\",\"6/17/2020 16:00:00\",\"6/18/2020 16:00:00\",\"6/19/2020 16:00:00\",\"6/22/2020 16:00:00\",\"6/23/2020 16:00:00\",\"6/24/2020 16:00:00\",\"6/25/2020 16:00:00\",\"6/26/2020 16:00:00\",\"6/29/2020 16:00:00\",\"6/30/2020 16:00:00\",\"7/1/2020 16:00:00\",\"7/2/2020 16:00:00\",\"7/6/2020 16:00:00\",\"7/7/2020 16:00:00\",\"7/8/2020 16:00:00\",\"7/9/2020 16:00:00\",\"7/10/2020 16:00:00\",\"7/13/2020 16:00:00\",\"7/14/2020 16:00:00\",\"7/15/2020 16:00:00\",\"7/16/2020 16:00:00\",\"7/17/2020 16:00:00\",\"7/20/2020 16:00:00\",\"7/21/2020 16:00:00\",\"7/22/2020 16:00:00\",\"7/23/2020 16:00:00\",\"7/24/2020 16:00:00\",\"7/27/2020 16:00:00\",\"7/28/2020 16:00:00\",\"7/29/2020 16:00:00\",\"7/30/2020 16:00:00\",\"7/31/2020 16:00:00\",\"8/3/2020 16:00:00\",\"8/4/2020 16:00:00\",\"8/5/2020 16:00:00\",\"8/6/2020 16:00:00\",\"8/7/2020 16:00:00\",\"8/10/2020 16:00:00\",\"8/11/2020 16:00:00\",\"8/12/2020 16:00:00\",\"8/13/2020 16:00:00\",\"8/14/2020 16:00:00\",\"8/17/2020 16:00:00\",\"8/18/2020 16:00:00\",\"8/19/2020 16:00:00\",\"8/20/2020 16:00:00\",\"8/21/2020 16:00:00\",\"8/24/2020 16:00:00\",\"8/25/2020 16:00:00\",\"8/26/2020 16:00:00\",\"8/27/2020 16:00:00\",\"8/28/2020 16:00:00\",\"8/31/2020 16:00:00\",\"9/1/2020 16:00:00\",\"9/2/2020 16:00:00\",\"9/3/2020 16:00:00\",\"9/4/2020 16:00:00\",\"9/8/2020 16:00:00\",\"9/9/2020 16:00:00\",\"9/10/2020 16:00:00\",\"9/11/2020 16:00:00\",\"9/14/2020 16:00:00\",\"9/15/2020 16:00:00\",\"9/16/2020 16:00:00\",\"9/17/2020 16:00:00\",\"9/18/2020 16:00:00\",\"9/21/2020 16:00:00\",\"9/22/2020 16:00:00\",\"9/23/2020 16:00:00\",\"9/24/2020 16:00:00\",\"9/25/2020 16:00:00\",\"9/28/2020 16:00:00\",\"9/29/2020 16:00:00\",\"9/30/2020 16:00:00\",\"10/1/2020 16:00:00\",\"10/2/2020 16:00:00\",\"10/5/2020 16:00:00\",\"10/6/2020 16:00:00\",\"10/7/2020 16:00:00\",\"10/8/2020 16:00:00\",\"10/9/2020 16:00:00\",\"10/12/2020 16:00:00\",\"10/13/2020 16:00:00\",\"10/14/2020 16:00:00\",\"10/15/2020 16:00:00\",\"10/16/2020 16:00:00\",\"10/19/2020 16:00:00\",\"10/20/2020 16:00:00\",\"10/21/2020 16:00:00\",\"10/22/2020 16:00:00\",\"10/23/2020 16:00:00\",\"10/26/2020 16:00:00\",\"10/27/2020 16:00:00\",\"10/28/2020 16:00:00\",\"10/29/2020 16:00:00\",\"10/30/2020 16:00:00\"],\"Variable\":[\"Moderna\",\"Moderna\",\"Moderna\",\"Moderna\",\"Moderna\",\"Moderna\",\"Moderna\",\"Moderna\",\"Moderna\",\"Moderna\",\"Moderna\",\"Moderna\",\"Moderna\",\"Moderna\",\"Moderna\",\"Moderna\",\"Moderna\",\"Moderna\",\"Moderna\",\"Moderna\",\"Moderna\",\"Moderna\",\"Moderna\",\"Moderna\",\"Moderna\",\"Moderna\",\"Moderna\",\"Moderna\",\"Moderna\",\"Moderna\",\"Moderna\",\"Moderna\",\"Moderna\",\"Moderna\",\"Moderna\",\"Moderna\",\"Moderna\",\"Moderna\",\"Moderna\",\"Moderna\",\"Moderna\",\"Moderna\",\"Moderna\",\"Moderna\",\"Moderna\",\"Moderna\",\"Moderna\",\"Moderna\",\"Moderna\",\"Moderna\",\"Moderna\",\"Moderna\",\"Moderna\",\"Moderna\",\"Moderna\",\"Moderna\",\"Moderna\",\"Moderna\",\"Moderna\",\"Moderna\",\"Moderna\",\"Moderna\",\"Moderna\",\"Moderna\",\"Moderna\",\"Moderna\",\"Moderna\",\"Moderna\",\"Moderna\",\"Moderna\",\"Moderna\",\"Moderna\",\"Moderna\",\"Moderna\",\"Moderna\",\"Moderna\",\"Moderna\",\"Moderna\",\"Moderna\",\"Moderna\",\"Moderna\",\"Moderna\",\"Moderna\",\"Moderna\",\"Moderna\",\"Moderna\",\"Moderna\",\"Moderna\",\"Moderna\",\"Moderna\",\"Moderna\",\"Moderna\",\"Moderna\",\"Moderna\",\"Moderna\",\"Moderna\",\"Moderna\",\"Moderna\",\"Moderna\",\"Moderna\",\"Moderna\",\"Moderna\",\"Moderna\",\"Moderna\",\"Moderna\",\"Moderna\",\"Moderna\",\"Moderna\",\"Moderna\",\"Moderna\",\"Moderna\",\"Moderna\",\"Moderna\",\"Moderna\",\"Moderna\",\"Moderna\",\"Moderna\",\"Moderna\",\"Moderna\",\"Moderna\",\"Moderna\",\"Moderna\",\"Moderna\",\"Moderna\",\"Moderna\",\"Moderna\",\"Moderna\",\"Moderna\",\"Moderna\",\"Moderna\",\"Moderna\",\"Moderna\",\"Moderna\",\"Moderna\",\"Moderna\",\"Moderna\",\"Moderna\",\"Moderna\",\"Moderna\",\"Moderna\",\"Moderna\",\"Moderna\",\"Moderna\",\"Moderna\",\"Moderna\",\"Moderna\",\"Moderna\",\"Moderna\",\"Moderna\",\"Moderna\",\"Moderna\",\"Moderna\",\"Moderna\",\"Moderna\",\"Moderna\",\"Moderna\",\"Moderna\",\"Moderna\",\"Moderna\",\"Moderna\",\"Moderna\",\"Moderna\",\"Moderna\",\"Moderna\",\"Moderna\",\"Moderna\",\"Moderna\",\"Moderna\",\"Moderna\",\"Moderna\",\"Moderna\",\"Moderna\",\"Moderna\",\"Moderna\",\"Moderna\",\"Moderna\",\"Moderna\",\"Moderna\",\"Moderna\",\"Moderna\",\"Moderna\",\"Moderna\",\"Moderna\",\"Moderna\",\"Moderna\",\"Moderna\",\"Moderna\",\"Moderna\",\"Moderna\",\"Moderna\",\"Moderna\",\"Moderna\",\"Moderna\",\"Moderna\",\"Moderna\",\"Moderna\",\"Moderna\",\"Moderna\",\"Moderna\",\"Moderna\",\"Moderna\",\"Moderna\",\"Moderna\",\"Moderna\",\"Moderna\",\"Moderna\",\"Moderna\",\"Moderna\",\"Moderna\",\"Moderna\",\"Moderna\"],\"value\":{\"__ndarray__\":\"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\",\"dtype\":\"float64\",\"order\":\"little\",\"shape\":[211]}},\"selected\":{\"id\":\"1372\"},\"selection_policy\":{\"id\":\"1387\"}},\"id\":\"1371\",\"type\":\"ColumnDataSource\"},{\"attributes\":{\"line_color\":\"#2ba02b\",\"line_width\":2,\"x\":{\"field\":\"Date\"},\"y\":{\"field\":\"value\"}},\"id\":\"1393\",\"type\":\"Line\"},{\"attributes\":{\"label\":{\"value\":\"Close\"},\"renderers\":[{\"id\":\"1396\"}]},\"id\":\"1410\",\"type\":\"LegendItem\"},{\"attributes\":{},\"id\":\"1391\",\"type\":\"Selection\"},{\"attributes\":{\"data_source\":{\"id\":\"1371\"},\"glyph\":{\"id\":\"1374\"},\"hover_glyph\":null,\"muted_glyph\":{\"id\":\"1376\"},\"nonselection_glyph\":{\"id\":\"1375\"},\"selection_glyph\":null,\"view\":{\"id\":\"1378\"}},\"id\":\"1377\",\"type\":\"GlyphRenderer\"},{\"attributes\":{\"bottom_units\":\"screen\",\"fill_alpha\":0.5,\"fill_color\":\"lightgrey\",\"left_units\":\"screen\",\"level\":\"overlay\",\"line_alpha\":1.0,\"line_color\":\"black\",\"line_dash\":[4,4],\"line_width\":2,\"right_units\":\"screen\",\"top_units\":\"screen\"},\"id\":\"1341\",\"type\":\"BoxAnnotation\"},{\"attributes\":{\"axis_label\":\"Date\",\"bounds\":\"auto\",\"formatter\":{\"id\":\"1350\"},\"major_label_orientation\":\"horizontal\",\"ticker\":{\"id\":\"1330\"}},\"id\":\"1329\",\"type\":\"CategoricalAxis\"},{\"attributes\":{\"line_color\":\"#ff7e0e\",\"line_width\":2,\"x\":{\"field\":\"Date\"},\"y\":{\"field\":\"value\"}},\"id\":\"1374\",\"type\":\"Line\"},{\"attributes\":{\"label\":{\"value\":\"Abbott Laboratories\"},\"renderers\":[{\"id\":\"1359\"}]},\"id\":\"1370\",\"type\":\"LegendItem\"},{\"attributes\":{\"data_source\":{\"id\":\"1390\"},\"glyph\":{\"id\":\"1393\"},\"hover_glyph\":null,\"muted_glyph\":{\"id\":\"1395\"},\"nonselection_glyph\":{\"id\":\"1394\"},\"selection_glyph\":null,\"view\":{\"id\":\"1397\"}},\"id\":\"1396\",\"type\":\"GlyphRenderer\"},{\"attributes\":{},\"id\":\"1338\",\"type\":\"WheelZoomTool\"},{\"attributes\":{\"callback\":null,\"renderers\":[{\"id\":\"1359\"},{\"id\":\"1377\"},{\"id\":\"1396\"}],\"tags\":[\"hv_created\"],\"tooltips\":[[\"Variable\",\"@{Variable}\"],[\"Date\",\"@{Date}\"],[\"value\",\"@{value}\"]]},\"id\":\"1317\",\"type\":\"HoverTool\"},{\"attributes\":{},\"id\":\"1327\",\"type\":\"LinearScale\"},{\"attributes\":{\"overlay\":{\"id\":\"1341\"}},\"id\":\"1339\",\"type\":\"BoxZoomTool\"},{\"attributes\":{\"source\":{\"id\":\"1353\"}},\"id\":\"1360\",\"type\":\"CDSView\"},{\"attributes\":{\"line_alpha\":0.2,\"line_color\":\"#1f77b3\",\"line_width\":2,\"x\":{\"field\":\"Date\"},\"y\":{\"field\":\"value\"}},\"id\":\"1358\",\"type\":\"Line\"},{\"attributes\":{\"source\":{\"id\":\"1390\"}},\"id\":\"1397\",\"type\":\"CDSView\"},{\"attributes\":{},\"id\":\"1352\",\"type\":\"BasicTickFormatter\"},{\"attributes\":{\"line_alpha\":0.1,\"line_color\":\"#1f77b3\",\"line_width\":2,\"x\":{\"field\":\"Date\"},\"y\":{\"field\":\"value\"}},\"id\":\"1357\",\"type\":\"Line\"},{\"attributes\":{\"end\":195.968,\"reset_end\":195.968,\"reset_start\":-13.527999999999999,\"start\":-13.527999999999999,\"tags\":[[[\"value\",\"value\",null]]]},\"id\":\"1316\",\"type\":\"Range1d\"},{\"attributes\":{\"axis_label\":\"\",\"bounds\":\"auto\",\"formatter\":{\"id\":\"1352\"},\"major_label_orientation\":\"horizontal\",\"ticker\":{\"id\":\"1333\"}},\"id\":\"1332\",\"type\":\"LinearAxis\"},{\"attributes\":{\"data_source\":{\"id\":\"1353\"},\"glyph\":{\"id\":\"1356\"},\"hover_glyph\":null,\"muted_glyph\":{\"id\":\"1358\"},\"nonselection_glyph\":{\"id\":\"1357\"},\"selection_glyph\":null,\"view\":{\"id\":\"1360\"}},\"id\":\"1359\",\"type\":\"GlyphRenderer\"},{\"attributes\":{},\"id\":\"1350\",\"type\":\"CategoricalTickFormatter\"},{\"attributes\":{\"children\":[{\"id\":\"1314\"},{\"id\":\"1320\"},{\"id\":\"1519\"}],\"margin\":[0,0,0,0],\"name\":\"Row02105\",\"tags\":[\"embedded\"]},\"id\":\"1313\",\"type\":\"Row\"},{\"attributes\":{\"factors\":[\"1/2/2020 16:00:00\",\"1/3/2020 16:00:00\",\"1/6/2020 16:00:00\",\"1/7/2020 16:00:00\",\"1/8/2020 16:00:00\",\"1/9/2020 16:00:00\",\"1/10/2020 16:00:00\",\"1/13/2020 16:00:00\",\"1/14/2020 16:00:00\",\"1/15/2020 16:00:00\",\"1/16/2020 16:00:00\",\"1/17/2020 16:00:00\",\"1/21/2020 16:00:00\",\"1/22/2020 16:00:00\",\"1/23/2020 16:00:00\",\"1/24/2020 16:00:00\",\"1/27/2020 16:00:00\",\"1/28/2020 16:00:00\",\"1/29/2020 16:00:00\",\"1/30/2020 16:00:00\",\"1/31/2020 16:00:00\",\"2/3/2020 16:00:00\",\"2/4/2020 16:00:00\",\"2/5/2020 16:00:00\",\"2/6/2020 16:00:00\",\"2/7/2020 16:00:00\",\"2/10/2020 16:00:00\",\"2/11/2020 16:00:00\",\"2/12/2020 16:00:00\",\"2/13/2020 16:00:00\",\"2/14/2020 16:00:00\",\"2/18/2020 16:00:00\",\"2/19/2020 16:00:00\",\"2/20/2020 16:00:00\",\"2/21/2020 16:00:00\",\"2/24/2020 16:00:00\",\"2/25/2020 16:00:00\",\"2/26/2020 16:00:00\",\"2/27/2020 16:00:00\",\"2/28/2020 16:00:00\",\"3/2/2020 16:00:00\",\"3/3/2020 16:00:00\",\"3/4/2020 16:00:00\",\"3/5/2020 16:00:00\",\"3/6/2020 16:00:00\",\"3/9/2020 16:00:00\",\"3/10/2020 16:00:00\",\"3/11/2020 16:00:00\",\"3/12/2020 16:00:00\",\"3/13/2020 16:00:00\",\"3/16/2020 16:00:00\",\"3/17/2020 16:00:00\",\"3/18/2020 16:00:00\",\"3/19/2020 16:00:00\",\"3/20/2020 16:00:00\",\"3/23/2020 16:00:00\",\"3/24/2020 16:00:00\",\"3/25/2020 16:00:00\",\"3/26/2020 16:00:00\",\"3/27/2020 16:00:00\",\"3/30/2020 16:00:00\",\"3/31/2020 16:00:00\",\"4/1/2020 16:00:00\",\"4/2/2020 16:00:00\",\"4/3/2020 16:00:00\",\"4/6/2020 16:00:00\",\"4/7/2020 16:00:00\",\"4/8/2020 16:00:00\",\"4/9/2020 16:00:00\",\"4/13/2020 16:00:00\",\"4/14/2020 16:00:00\",\"4/15/2020 16:00:00\",\"4/16/2020 16:00:00\",\"4/17/2020 16:00:00\",\"4/20/2020 16:00:00\",\"4/21/2020 16:00:00\",\"4/22/2020 16:00:00\",\"4/23/2020 16:00:00\",\"4/24/2020 16:00:00\",\"4/27/2020 16:00:00\",\"4/28/2020 16:00:00\",\"4/29/2020 16:00:00\",\"4/30/2020 16:00:00\",\"5/1/2020 16:00:00\",\"5/4/2020 16:00:00\",\"5/5/2020 16:00:00\",\"5/6/2020 16:00:00\",\"5/7/2020 16:00:00\",\"5/8/2020 16:00:00\",\"5/11/2020 16:00:00\",\"5/12/2020 16:00:00\",\"5/13/2020 16:00:00\",\"5/14/2020 16:00:00\",\"5/15/2020 16:00:00\",\"5/18/2020 16:00:00\",\"5/19/2020 16:00:00\",\"5/20/2020 16:00:00\",\"5/21/2020 16:00:00\",\"5/22/2020 16:00:00\",\"5/26/2020 16:00:00\",\"5/27/2020 16:00:00\",\"5/28/2020 16:00:00\",\"5/29/2020 16:00:00\",\"6/1/2020 16:00:00\",\"6/2/2020 16:00:00\",\"6/3/2020 16:00:00\",\"6/4/2020 16:00:00\",\"6/5/2020 16:00:00\",\"6/8/2020 16:00:00\",\"6/9/2020 16:00:00\",\"6/10/2020 16:00:00\",\"6/11/2020 16:00:00\",\"6/12/2020 16:00:00\",\"6/15/2020 16:00:00\",\"6/16/2020 16:00:00\",\"6/17/2020 16:00:00\",\"6/18/2020 16:00:00\",\"6/19/2020 16:00:00\",\"6/22/2020 16:00:00\",\"6/23/2020 16:00:00\",\"6/24/2020 16:00:00\",\"6/25/2020 16:00:00\",\"6/26/2020 16:00:00\",\"6/29/2020 16:00:00\",\"6/30/2020 16:00:00\",\"7/1/2020 16:00:00\",\"7/2/2020 16:00:00\",\"7/6/2020 16:00:00\",\"7/7/2020 16:00:00\",\"7/8/2020 16:00:00\",\"7/9/2020 16:00:00\",\"7/10/2020 16:00:00\",\"7/13/2020 16:00:00\",\"7/14/2020 16:00:00\",\"7/15/2020 16:00:00\",\"7/16/2020 16:00:00\",\"7/17/2020 16:00:00\",\"7/20/2020 16:00:00\",\"7/21/2020 16:00:00\",\"7/22/2020 16:00:00\",\"7/23/2020 16:00:00\",\"7/24/2020 16:00:00\",\"7/27/2020 16:00:00\",\"7/28/2020 16:00:00\",\"7/29/2020 16:00:00\",\"7/30/2020 16:00:00\",\"7/31/2020 16:00:00\",\"8/3/2020 16:00:00\",\"8/4/2020 16:00:00\",\"8/5/2020 16:00:00\",\"8/6/2020 16:00:00\",\"8/7/2020 16:00:00\",\"8/10/2020 16:00:00\",\"8/11/2020 16:00:00\",\"8/12/2020 16:00:00\",\"8/13/2020 16:00:00\",\"8/14/2020 16:00:00\",\"8/17/2020 16:00:00\",\"8/18/2020 16:00:00\",\"8/19/2020 16:00:00\",\"8/20/2020 16:00:00\",\"8/21/2020 16:00:00\",\"8/24/2020 16:00:00\",\"8/25/2020 16:00:00\",\"8/26/2020 16:00:00\",\"8/27/2020 16:00:00\",\"8/28/2020 16:00:00\",\"8/31/2020 16:00:00\",\"9/1/2020 16:00:00\",\"9/2/2020 16:00:00\",\"9/3/2020 16:00:00\",\"9/4/2020 16:00:00\",\"9/8/2020 16:00:00\",\"9/9/2020 16:00:00\",\"9/10/2020 16:00:00\",\"9/11/2020 16:00:00\",\"9/14/2020 16:00:00\",\"9/15/2020 16:00:00\",\"9/16/2020 16:00:00\",\"9/17/2020 16:00:00\",\"9/18/2020 16:00:00\",\"9/21/2020 16:00:00\",\"9/22/2020 16:00:00\",\"9/23/2020 16:00:00\",\"9/24/2020 16:00:00\",\"9/25/2020 16:00:00\",\"9/28/2020 16:00:00\",\"9/29/2020 16:00:00\",\"9/30/2020 16:00:00\",\"10/1/2020 16:00:00\",\"10/2/2020 16:00:00\",\"10/5/2020 16:00:00\",\"10/6/2020 16:00:00\",\"10/7/2020 16:00:00\",\"10/8/2020 16:00:00\",\"10/9/2020 16:00:00\",\"10/12/2020 16:00:00\",\"10/13/2020 16:00:00\",\"10/14/2020 16:00:00\",\"10/15/2020 16:00:00\",\"10/16/2020 16:00:00\",\"10/19/2020 16:00:00\",\"10/20/2020 16:00:00\",\"10/21/2020 16:00:00\",\"10/22/2020 16:00:00\",\"10/23/2020 16:00:00\",\"10/26/2020 16:00:00\",\"10/27/2020 16:00:00\",\"10/28/2020 16:00:00\",\"10/29/2020 16:00:00\",\"10/30/2020 16:00:00\"],\"tags\":[[[\"Date\",\"Date\",null]]]},\"id\":\"1315\",\"type\":\"FactorRange\"},{\"attributes\":{},\"id\":\"1340\",\"type\":\"ResetTool\"},{\"attributes\":{\"margin\":[5,5,5,5],\"name\":\"HSpacer02109\",\"sizing_mode\":\"stretch_width\"},\"id\":\"1314\",\"type\":\"Spacer\"},{\"attributes\":{\"click_policy\":\"mute\",\"items\":[{\"id\":\"1370\"},{\"id\":\"1389\"},{\"id\":\"1410\"}],\"location\":[0,0],\"title\":\"Variable\"},\"id\":\"1369\",\"type\":\"Legend\"},{\"attributes\":{\"line_color\":\"#1f77b3\",\"line_width\":2,\"x\":{\"field\":\"Date\"},\"y\":{\"field\":\"value\"}},\"id\":\"1356\",\"type\":\"Line\"},{\"attributes\":{},\"id\":\"1367\",\"type\":\"UnionRenderers\"},{\"attributes\":{},\"id\":\"1408\",\"type\":\"UnionRenderers\"},{\"attributes\":{},\"id\":\"1336\",\"type\":\"SaveTool\"}],\"root_ids\":[\"1313\"]},\"title\":\"Bokeh Application\",\"version\":\"2.1.1\"}};\n",
       "  var render_items = [{\"docid\":\"2a1dbe51-aa6b-4e2a-9978-05ace34bafcb\",\"root_ids\":[\"1313\"],\"roots\":{\"1313\":\"71cca454-2348-46b1-99a3-f2c71c44caa3\"}}];\n",
       "  root.Bokeh.embed.embed_items_notebook(docs_json, render_items);\n",
       "  }\n",
       "if (root.Bokeh !== undefined) {\n",
       "    embed_document(root);\n",
       "  } else {\n",
       "    var attempts = 0;\n",
       "    var timer = setInterval(function(root) {\n",
       "      if (root.Bokeh !== undefined) {\n",
       "        clearInterval(timer);\n",
       "        embed_document(root);\n",
       "      } else if (document.readyState == \"complete\") {\n",
       "        attempts++;\n",
       "        if (attempts > 100) {\n",
       "          clearInterval(timer);\n",
       "          console.log(\"Bokeh: ERROR: Unable to run BokehJS code because BokehJS library is missing\");\n",
       "        }\n",
       "      }\n",
       "    }, 10, root)\n",
       "  }\n",
       "})(window);</script>"
      ],
      "text/plain": [
       ":NdOverlay   [Variable]\n",
       "   :Curve   [Date]   (value)"
      ]
     },
     "execution_count": 14,
     "metadata": {
      "application/vnd.holoviews_exec.v0+json": {
       "id": "1313"
      }
     },
     "output_type": "execute_result"
    }
   ],
   "source": [
    "vax_data.hvplot()"
   ]
  },
  {
   "cell_type": "code",
   "execution_count": null,
   "metadata": {},
   "outputs": [],
   "source": []
  }
 ],
 "metadata": {
  "kernelspec": {
   "display_name": "Python 3",
   "language": "python",
   "name": "python3"
  },
  "language_info": {
   "codemirror_mode": {
    "name": "ipython",
    "version": 3
   },
   "file_extension": ".py",
   "mimetype": "text/x-python",
   "name": "python",
   "nbconvert_exporter": "python",
   "pygments_lexer": "ipython3",
   "version": "3.7.7"
  }
 },
 "nbformat": 4,
 "nbformat_minor": 4
}
