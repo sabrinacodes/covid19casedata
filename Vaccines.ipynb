{
 "cells": [
  {
   "cell_type": "code",
   "execution_count": 2,
   "metadata": {},
   "outputs": [],
   "source": [
    "import pandas as pd\n",
    "from pathlib import Path\n",
    "import hvplot.pandas"
   ]
  },
  {
   "cell_type": "code",
   "execution_count": 3,
   "metadata": {},
   "outputs": [],
   "source": [
    "#Reading Abbott Labs Stock File\n",
    "abt_csv = Path(\"/Users/sabrinareed/Desktop/JupyterWorkspace/covid19casedata/ABT.csv\")"
   ]
  },
  {
   "cell_type": "code",
   "execution_count": 7,
   "metadata": {},
   "outputs": [
    {
     "data": {
      "text/html": [
       "<div>\n",
       "<style scoped>\n",
       "    .dataframe tbody tr th:only-of-type {\n",
       "        vertical-align: middle;\n",
       "    }\n",
       "\n",
       "    .dataframe tbody tr th {\n",
       "        vertical-align: top;\n",
       "    }\n",
       "\n",
       "    .dataframe thead th {\n",
       "        text-align: right;\n",
       "    }\n",
       "</style>\n",
       "<table border=\"1\" class=\"dataframe\">\n",
       "  <thead>\n",
       "    <tr style=\"text-align: right;\">\n",
       "      <th></th>\n",
       "      <th>Abbott Laboratories</th>\n",
       "    </tr>\n",
       "    <tr>\n",
       "      <th>Date</th>\n",
       "      <th></th>\n",
       "    </tr>\n",
       "  </thead>\n",
       "  <tbody>\n",
       "    <tr>\n",
       "      <th>1/2/2020 16:00:00</th>\n",
       "      <td>86.95</td>\n",
       "    </tr>\n",
       "    <tr>\n",
       "      <th>1/3/2020 16:00:00</th>\n",
       "      <td>85.89</td>\n",
       "    </tr>\n",
       "    <tr>\n",
       "      <th>1/6/2020 16:00:00</th>\n",
       "      <td>86.34</td>\n",
       "    </tr>\n",
       "    <tr>\n",
       "      <th>1/7/2020 16:00:00</th>\n",
       "      <td>85.86</td>\n",
       "    </tr>\n",
       "    <tr>\n",
       "      <th>1/8/2020 16:00:00</th>\n",
       "      <td>86.21</td>\n",
       "    </tr>\n",
       "  </tbody>\n",
       "</table>\n",
       "</div>"
      ],
      "text/plain": [
       "                   Abbott Laboratories\n",
       "Date                                  \n",
       "1/2/2020 16:00:00                86.95\n",
       "1/3/2020 16:00:00                85.89\n",
       "1/6/2020 16:00:00                86.34\n",
       "1/7/2020 16:00:00                85.86\n",
       "1/8/2020 16:00:00                86.21"
      ]
     },
     "execution_count": 7,
     "metadata": {},
     "output_type": "execute_result"
    }
   ],
   "source": [
    "#Display ABT stock data\n",
    "#Setting Date to Index / Need to find out how to drop timestamp\n",
    "abt_data = pd.read_csv(abt_csv, header = 1, index_col=\"Date\")\n",
    "#Rename columns\n",
    "abt_data = abt_data.rename(columns={\"Close\": \"Abbott Laboratories\"})\n",
    "abt_data.head()"
   ]
  },
  {
   "cell_type": "code",
   "execution_count": 5,
   "metadata": {},
   "outputs": [
    {
     "data": {
      "application/vnd.holoviews_exec.v0+json": "",
      "text/html": [
       "<div id='1001'>\n",
       "\n",
       "\n",
       "\n",
       "\n",
       "\n",
       "  <div class=\"bk-root\" id=\"77377dfd-7a41-4f9f-9f99-762a33533944\" data-root-id=\"1001\"></div>\n",
       "</div>\n",
       "<script type=\"application/javascript\">(function(root) {\n",
       "  function embed_document(root) {\n",
       "  var docs_json = {\"dc9826ca-9eca-4bf1-9017-97bff34f0338\":{\"roots\":{\"references\":[{\"attributes\":{\"line_alpha\":0.2,\"line_color\":\"#1f77b3\",\"line_width\":2,\"x\":{\"field\":\"Date\"},\"y\":{\"field\":\"Abbott Laboratories\"}},\"id\":\"1040\",\"type\":\"Line\"},{\"attributes\":{},\"id\":\"1023\",\"type\":\"PanTool\"},{\"attributes\":{\"end\":116.137,\"reset_end\":116.137,\"reset_start\":57.973,\"start\":57.973,\"tags\":[[[\"Abbott Laboratories\",\"Abbott Laboratories\",null]]]},\"id\":\"1004\",\"type\":\"Range1d\"},{\"attributes\":{\"line_alpha\":0.1,\"line_color\":\"#1f77b3\",\"line_width\":2,\"x\":{\"field\":\"Date\"},\"y\":{\"field\":\"Abbott Laboratories\"}},\"id\":\"1039\",\"type\":\"Line\"},{\"attributes\":{},\"id\":\"1036\",\"type\":\"Selection\"},{\"attributes\":{\"margin\":[5,5,5,5],\"name\":\"HSpacer01525\",\"sizing_mode\":\"stretch_width\"},\"id\":\"1063\",\"type\":\"Spacer\"},{\"attributes\":{},\"id\":\"1011\",\"type\":\"CategoricalScale\"},{\"attributes\":{},\"id\":\"1024\",\"type\":\"WheelZoomTool\"},{\"attributes\":{\"data_source\":{\"id\":\"1035\"},\"glyph\":{\"id\":\"1038\"},\"hover_glyph\":null,\"muted_glyph\":{\"id\":\"1040\"},\"nonselection_glyph\":{\"id\":\"1039\"},\"selection_glyph\":null,\"view\":{\"id\":\"1042\"}},\"id\":\"1041\",\"type\":\"GlyphRenderer\"},{\"attributes\":{},\"id\":\"1022\",\"type\":\"SaveTool\"},{\"attributes\":{},\"id\":\"1044\",\"type\":\"CategoricalTickFormatter\"},{\"attributes\":{\"axis\":{\"id\":\"1018\"},\"dimension\":1,\"grid_line_color\":null,\"ticker\":null},\"id\":\"1021\",\"type\":\"Grid\"},{\"attributes\":{\"line_color\":\"#1f77b3\",\"line_width\":2,\"x\":{\"field\":\"Date\"},\"y\":{\"field\":\"Abbott Laboratories\"}},\"id\":\"1038\",\"type\":\"Line\"},{\"attributes\":{\"text\":\"\",\"text_color\":{\"value\":\"black\"},\"text_font_size\":{\"value\":\"12pt\"}},\"id\":\"1007\",\"type\":\"Title\"},{\"attributes\":{\"axis_label\":\"Abbott Laboratories\",\"bounds\":\"auto\",\"formatter\":{\"id\":\"1046\"},\"major_label_orientation\":\"horizontal\",\"ticker\":{\"id\":\"1019\"}},\"id\":\"1018\",\"type\":\"LinearAxis\"},{\"attributes\":{},\"id\":\"1019\",\"type\":\"BasicTicker\"},{\"attributes\":{\"source\":{\"id\":\"1035\"}},\"id\":\"1042\",\"type\":\"CDSView\"},{\"attributes\":{\"margin\":[5,5,5,5],\"name\":\"HSpacer01524\",\"sizing_mode\":\"stretch_width\"},\"id\":\"1002\",\"type\":\"Spacer\"},{\"attributes\":{\"children\":[{\"id\":\"1002\"},{\"id\":\"1006\"},{\"id\":\"1063\"}],\"margin\":[0,0,0,0],\"name\":\"Row01520\",\"tags\":[\"embedded\"]},\"id\":\"1001\",\"type\":\"Row\"},{\"attributes\":{},\"id\":\"1016\",\"type\":\"CategoricalTicker\"},{\"attributes\":{\"axis_label\":\"Date\",\"bounds\":\"auto\",\"formatter\":{\"id\":\"1044\"},\"major_label_orientation\":\"horizontal\",\"ticker\":{\"id\":\"1016\"}},\"id\":\"1015\",\"type\":\"CategoricalAxis\"},{\"attributes\":{\"factors\":[\"1/2/2020 16:00:00\",\"1/3/2020 16:00:00\",\"1/6/2020 16:00:00\",\"1/7/2020 16:00:00\",\"1/8/2020 16:00:00\",\"1/9/2020 16:00:00\",\"1/10/2020 16:00:00\",\"1/13/2020 16:00:00\",\"1/14/2020 16:00:00\",\"1/15/2020 16:00:00\",\"1/16/2020 16:00:00\",\"1/17/2020 16:00:00\",\"1/21/2020 16:00:00\",\"1/22/2020 16:00:00\",\"1/23/2020 16:00:00\",\"1/24/2020 16:00:00\",\"1/27/2020 16:00:00\",\"1/28/2020 16:00:00\",\"1/29/2020 16:00:00\",\"1/30/2020 16:00:00\",\"1/31/2020 16:00:00\",\"2/3/2020 16:00:00\",\"2/4/2020 16:00:00\",\"2/5/2020 16:00:00\",\"2/6/2020 16:00:00\",\"2/7/2020 16:00:00\",\"2/10/2020 16:00:00\",\"2/11/2020 16:00:00\",\"2/12/2020 16:00:00\",\"2/13/2020 16:00:00\",\"2/14/2020 16:00:00\",\"2/18/2020 16:00:00\",\"2/19/2020 16:00:00\",\"2/20/2020 16:00:00\",\"2/21/2020 16:00:00\",\"2/24/2020 16:00:00\",\"2/25/2020 16:00:00\",\"2/26/2020 16:00:00\",\"2/27/2020 16:00:00\",\"2/28/2020 16:00:00\",\"3/2/2020 16:00:00\",\"3/3/2020 16:00:00\",\"3/4/2020 16:00:00\",\"3/5/2020 16:00:00\",\"3/6/2020 16:00:00\",\"3/9/2020 16:00:00\",\"3/10/2020 16:00:00\",\"3/11/2020 16:00:00\",\"3/12/2020 16:00:00\",\"3/13/2020 16:00:00\",\"3/16/2020 16:00:00\",\"3/17/2020 16:00:00\",\"3/18/2020 16:00:00\",\"3/19/2020 16:00:00\",\"3/20/2020 16:00:00\",\"3/23/2020 16:00:00\",\"3/24/2020 16:00:00\",\"3/25/2020 16:00:00\",\"3/26/2020 16:00:00\",\"3/27/2020 16:00:00\",\"3/30/2020 16:00:00\",\"3/31/2020 16:00:00\",\"4/1/2020 16:00:00\",\"4/2/2020 16:00:00\",\"4/3/2020 16:00:00\",\"4/6/2020 16:00:00\",\"4/7/2020 16:00:00\",\"4/8/2020 16:00:00\",\"4/9/2020 16:00:00\",\"4/13/2020 16:00:00\",\"4/14/2020 16:00:00\",\"4/15/2020 16:00:00\",\"4/16/2020 16:00:00\",\"4/17/2020 16:00:00\",\"4/20/2020 16:00:00\",\"4/21/2020 16:00:00\",\"4/22/2020 16:00:00\",\"4/23/2020 16:00:00\",\"4/24/2020 16:00:00\",\"4/27/2020 16:00:00\",\"4/28/2020 16:00:00\",\"4/29/2020 16:00:00\",\"4/30/2020 16:00:00\",\"5/1/2020 16:00:00\",\"5/4/2020 16:00:00\",\"5/5/2020 16:00:00\",\"5/6/2020 16:00:00\",\"5/7/2020 16:00:00\",\"5/8/2020 16:00:00\",\"5/11/2020 16:00:00\",\"5/12/2020 16:00:00\",\"5/13/2020 16:00:00\",\"5/14/2020 16:00:00\",\"5/15/2020 16:00:00\",\"5/18/2020 16:00:00\",\"5/19/2020 16:00:00\",\"5/20/2020 16:00:00\",\"5/21/2020 16:00:00\",\"5/22/2020 16:00:00\",\"5/26/2020 16:00:00\",\"5/27/2020 16:00:00\",\"5/28/2020 16:00:00\",\"5/29/2020 16:00:00\",\"6/1/2020 16:00:00\",\"6/2/2020 16:00:00\",\"6/3/2020 16:00:00\",\"6/4/2020 16:00:00\",\"6/5/2020 16:00:00\",\"6/8/2020 16:00:00\",\"6/9/2020 16:00:00\",\"6/10/2020 16:00:00\",\"6/11/2020 16:00:00\",\"6/12/2020 16:00:00\",\"6/15/2020 16:00:00\",\"6/16/2020 16:00:00\",\"6/17/2020 16:00:00\",\"6/18/2020 16:00:00\",\"6/19/2020 16:00:00\",\"6/22/2020 16:00:00\",\"6/23/2020 16:00:00\",\"6/24/2020 16:00:00\",\"6/25/2020 16:00:00\",\"6/26/2020 16:00:00\",\"6/29/2020 16:00:00\",\"6/30/2020 16:00:00\",\"7/1/2020 16:00:00\",\"7/2/2020 16:00:00\",\"7/6/2020 16:00:00\",\"7/7/2020 16:00:00\",\"7/8/2020 16:00:00\",\"7/9/2020 16:00:00\",\"7/10/2020 16:00:00\",\"7/13/2020 16:00:00\",\"7/14/2020 16:00:00\",\"7/15/2020 16:00:00\",\"7/16/2020 16:00:00\",\"7/17/2020 16:00:00\",\"7/20/2020 16:00:00\",\"7/21/2020 16:00:00\",\"7/22/2020 16:00:00\",\"7/23/2020 16:00:00\",\"7/24/2020 16:00:00\",\"7/27/2020 16:00:00\",\"7/28/2020 16:00:00\",\"7/29/2020 16:00:00\",\"7/30/2020 16:00:00\",\"7/31/2020 16:00:00\",\"8/3/2020 16:00:00\",\"8/4/2020 16:00:00\",\"8/5/2020 16:00:00\",\"8/6/2020 16:00:00\",\"8/7/2020 16:00:00\",\"8/10/2020 16:00:00\",\"8/11/2020 16:00:00\",\"8/12/2020 16:00:00\",\"8/13/2020 16:00:00\",\"8/14/2020 16:00:00\",\"8/17/2020 16:00:00\",\"8/18/2020 16:00:00\",\"8/19/2020 16:00:00\",\"8/20/2020 16:00:00\",\"8/21/2020 16:00:00\",\"8/24/2020 16:00:00\",\"8/25/2020 16:00:00\",\"8/26/2020 16:00:00\",\"8/27/2020 16:00:00\",\"8/28/2020 16:00:00\",\"8/31/2020 16:00:00\",\"9/1/2020 16:00:00\",\"9/2/2020 16:00:00\",\"9/3/2020 16:00:00\",\"9/4/2020 16:00:00\",\"9/8/2020 16:00:00\",\"9/9/2020 16:00:00\",\"9/10/2020 16:00:00\",\"9/11/2020 16:00:00\",\"9/14/2020 16:00:00\",\"9/15/2020 16:00:00\",\"9/16/2020 16:00:00\",\"9/17/2020 16:00:00\",\"9/18/2020 16:00:00\",\"9/21/2020 16:00:00\",\"9/22/2020 16:00:00\",\"9/23/2020 16:00:00\",\"9/24/2020 16:00:00\",\"9/25/2020 16:00:00\",\"9/28/2020 16:00:00\",\"9/29/2020 16:00:00\",\"9/30/2020 16:00:00\",\"10/1/2020 16:00:00\",\"10/2/2020 16:00:00\",\"10/5/2020 16:00:00\",\"10/6/2020 16:00:00\",\"10/7/2020 16:00:00\",\"10/8/2020 16:00:00\",\"10/9/2020 16:00:00\",\"10/12/2020 16:00:00\",\"10/13/2020 16:00:00\",\"10/14/2020 16:00:00\",\"10/15/2020 16:00:00\",\"10/16/2020 16:00:00\",\"10/19/2020 16:00:00\",\"10/20/2020 16:00:00\",\"10/21/2020 16:00:00\",\"10/22/2020 16:00:00\",\"10/23/2020 16:00:00\",\"10/26/2020 16:00:00\",\"10/27/2020 16:00:00\",\"10/28/2020 16:00:00\",\"10/29/2020 16:00:00\",\"10/30/2020 16:00:00\"],\"tags\":[[[\"Date\",\"Date\",null]]]},\"id\":\"1003\",\"type\":\"FactorRange\"},{\"attributes\":{\"axis\":{\"id\":\"1015\"},\"grid_line_color\":null,\"ticker\":null},\"id\":\"1017\",\"type\":\"Grid\"},{\"attributes\":{\"data\":{\"Abbott Laboratories\":{\"__ndarray__\":\"zczMzMy8VUApXI/C9XhVQPYoXI/ClVVA16NwPQp3VUA9CtejcI1VQFyPwvUonFVA16NwPQpXVUBI4XoUrkdVQI/C9Shcb1VAuB6F61HYVUBSuB6F6xFWQAAAAAAAQFZAH4XrUbhuVkDXo3A9CvdWQB+F61G4rlZAmpmZmZmZVkD2KFyPwmVWQMP1KFyPYlZAKVyPwvVIVkAK16NwPUpWQClcj8L1yFVApHA9CtfDVUAfhetRuA5WQKRwPQrXY1ZArkfhehReVkBI4XoUrvdVQDMzMzMzE1ZAexSuR+FKVkDD9ShcjzJWQOxRuB6FK1ZACtejcD1qVkC4HoXrUThWQNejcD0KV1ZAPQrXo3AdVkDNzMzMzNxVQLgehetRKFVAuB6F61FIVEDXo3A9CldUQFyPwvUozFNAUrgehetBU0DXo3A9CmdUQI/C9Shcf1NA9ihcj8KFVEDhehSuRyFUQI/C9Shcb1RA4XoUrkdBU0C4HoXrUThUQPYoXI/ChVNAj8L1KFyvUkCamZmZmWlUQArXo3A9alJAj8L1KFzfU0BxPQrXo9BTQAAAAAAAoFJAAAAAAAAAUUApXI/C9WhPQFyPwvUobFFAAAAAAACwUUCkcD0K1/NSQKRwPQrXo1JA9ihcj8LVU0AK16NwPbpTQBSuR+F6JFNAXI/C9SjcU0DNzMzMzNxTQB+F61G4rlRA7FG4HoV7VEDNzMzMzDxVQMP1KFyPglVAZmZmZmZ2VUApXI/C9UhWQFyPwvUovFZAAAAAAAAAWEBxPQrXowBYQAAAAAAAgFhAMzMzMzODV0AfhetRuN5XQFyPwvUofFdApHA9CteDV0DNzMzMzLxXQD0K16Nw3VZAUrgehesRV0D2KFyPwgVXQGZmZmZmdlZAhetRuB51VkBSuB6F60FXQIXrUbgexVZAj8L1KFx/V0DNzMzMzGxXQBSuR+F6BFhAMzMzMzNzV0AK16NwPQpXQFK4HoXr8VZAKVyPwvV4VkDhehSuR5FWQK5H4XoUDlZA9ihcj8KFVkApXI/C9ZhWQK5H4XoU3lZAH4XrUbheVkBxPQrXo7BWQGZmZmZmBldAexSuR+G6V0BxPQrXo0BXQEjhehSuJ1dAmpmZmZnZVkAAAAAAABBWQNejcD0Kd1ZApHA9CtcjV0DhehSuR5FWQArXo3A9CldAUrgehevxVUDhehSuR0FWQDMzMzMzY1ZAj8L1KFxvVkCamZmZmblWQFK4HoXrkVZA7FG4HoWrVkD2KFyPwpVWQDMzMzMz01ZAMzMzMzPTVUBI4XoUrmdWQD0K16NwLVZAcT0K16NAVkDsUbgehdtWQClcj8L16FZAH4XrUbgOV0CuR+F6FD5XQD0K16NwHVdAhetRuB4lV0B7FK5H4WpXQMP1KFyPQldA9ihcj8JFV0AUrkfherRXQB+F61G4LlhAmpmZmZkZWEAAAAAAANBYQIXrUbgexVhAXI/C9SiMWEBcj8L1KAxZQBSuR+F6NFlAzczMzMy8WECPwvUoXP9YQNejcD0K91hA4XoUrkehWUBSuB6F62FZQClcj8L1KFlA7FG4HoUrWUDsUbgehftYQClcj8L1iFlAAAAAAABwWUAfhetRuE5ZQMP1KFyPAllApHA9CtfDWECamZmZmSlZQGZmZmZmRllAj8L1KFz/WEA9CtejcC1ZQD0K16NwPVlAH4XrUbgeWUC4HoXrUWhZQJqZmZmZmVlAKVyPwvVYWUCuR+F6FJ5ZQFyPwvUozFlAw/UoXI/SW0DD9Shcj7JbQK5H4XoUXltAMzMzMzOjWkBcj8L1KFxbQFK4HoXrYVpACtejcD0KWkD2KFyPwrVZQKRwPQrXc1pAAAAAAAAAWkDNzMzMzCxaQFyPwvUobFpAhetRuB6lWkDNzMzMzGxaQArXo3A9qlpA16NwPQq3WkDNzMzMzHxaQDMzMzMzM1pAH4XrUbiuWUB7FK5H4TpZQM3MzMzM3FlAXI/C9SgcWkBcj8L1KExaQIXrUbgeNVtAKVyPwvUoW0AAAAAAAKBaQKRwPQrXI1tAAAAAAACQWkCPwvUoXO9aQMP1KFyPIltAmpmZmZlpW0AzMzMzM8NbQEjhehSuF1tAAAAAAADwWkAUrkfhetRaQHsUrkfhaltAw/UoXI8CW0DXo3A9ChdbQOxRuB6Fe1pAH4XrUbheW0DD9Shcj/JaQAAAAAAAQFtAhetRuB4lW0B7FK5H4ZpaQAAAAAAAQFpA16NwPQpHWkA=\",\"dtype\":\"float64\",\"order\":\"little\",\"shape\":[211]},\"Abbott_Laboratories\":{\"__ndarray__\":\"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\",\"dtype\":\"float64\",\"order\":\"little\",\"shape\":[211]},\"Date\":[\"1/2/2020 16:00:00\",\"1/3/2020 16:00:00\",\"1/6/2020 16:00:00\",\"1/7/2020 16:00:00\",\"1/8/2020 16:00:00\",\"1/9/2020 16:00:00\",\"1/10/2020 16:00:00\",\"1/13/2020 16:00:00\",\"1/14/2020 16:00:00\",\"1/15/2020 16:00:00\",\"1/16/2020 16:00:00\",\"1/17/2020 16:00:00\",\"1/21/2020 16:00:00\",\"1/22/2020 16:00:00\",\"1/23/2020 16:00:00\",\"1/24/2020 16:00:00\",\"1/27/2020 16:00:00\",\"1/28/2020 16:00:00\",\"1/29/2020 16:00:00\",\"1/30/2020 16:00:00\",\"1/31/2020 16:00:00\",\"2/3/2020 16:00:00\",\"2/4/2020 16:00:00\",\"2/5/2020 16:00:00\",\"2/6/2020 16:00:00\",\"2/7/2020 16:00:00\",\"2/10/2020 16:00:00\",\"2/11/2020 16:00:00\",\"2/12/2020 16:00:00\",\"2/13/2020 16:00:00\",\"2/14/2020 16:00:00\",\"2/18/2020 16:00:00\",\"2/19/2020 16:00:00\",\"2/20/2020 16:00:00\",\"2/21/2020 16:00:00\",\"2/24/2020 16:00:00\",\"2/25/2020 16:00:00\",\"2/26/2020 16:00:00\",\"2/27/2020 16:00:00\",\"2/28/2020 16:00:00\",\"3/2/2020 16:00:00\",\"3/3/2020 16:00:00\",\"3/4/2020 16:00:00\",\"3/5/2020 16:00:00\",\"3/6/2020 16:00:00\",\"3/9/2020 16:00:00\",\"3/10/2020 16:00:00\",\"3/11/2020 16:00:00\",\"3/12/2020 16:00:00\",\"3/13/2020 16:00:00\",\"3/16/2020 16:00:00\",\"3/17/2020 16:00:00\",\"3/18/2020 16:00:00\",\"3/19/2020 16:00:00\",\"3/20/2020 16:00:00\",\"3/23/2020 16:00:00\",\"3/24/2020 16:00:00\",\"3/25/2020 16:00:00\",\"3/26/2020 16:00:00\",\"3/27/2020 16:00:00\",\"3/30/2020 16:00:00\",\"3/31/2020 16:00:00\",\"4/1/2020 16:00:00\",\"4/2/2020 16:00:00\",\"4/3/2020 16:00:00\",\"4/6/2020 16:00:00\",\"4/7/2020 16:00:00\",\"4/8/2020 16:00:00\",\"4/9/2020 16:00:00\",\"4/13/2020 16:00:00\",\"4/14/2020 16:00:00\",\"4/15/2020 16:00:00\",\"4/16/2020 16:00:00\",\"4/17/2020 16:00:00\",\"4/20/2020 16:00:00\",\"4/21/2020 16:00:00\",\"4/22/2020 16:00:00\",\"4/23/2020 16:00:00\",\"4/24/2020 16:00:00\",\"4/27/2020 16:00:00\",\"4/28/2020 16:00:00\",\"4/29/2020 16:00:00\",\"4/30/2020 16:00:00\",\"5/1/2020 16:00:00\",\"5/4/2020 16:00:00\",\"5/5/2020 16:00:00\",\"5/6/2020 16:00:00\",\"5/7/2020 16:00:00\",\"5/8/2020 16:00:00\",\"5/11/2020 16:00:00\",\"5/12/2020 16:00:00\",\"5/13/2020 16:00:00\",\"5/14/2020 16:00:00\",\"5/15/2020 16:00:00\",\"5/18/2020 16:00:00\",\"5/19/2020 16:00:00\",\"5/20/2020 16:00:00\",\"5/21/2020 16:00:00\",\"5/22/2020 16:00:00\",\"5/26/2020 16:00:00\",\"5/27/2020 16:00:00\",\"5/28/2020 16:00:00\",\"5/29/2020 16:00:00\",\"6/1/2020 16:00:00\",\"6/2/2020 16:00:00\",\"6/3/2020 16:00:00\",\"6/4/2020 16:00:00\",\"6/5/2020 16:00:00\",\"6/8/2020 16:00:00\",\"6/9/2020 16:00:00\",\"6/10/2020 16:00:00\",\"6/11/2020 16:00:00\",\"6/12/2020 16:00:00\",\"6/15/2020 16:00:00\",\"6/16/2020 16:00:00\",\"6/17/2020 16:00:00\",\"6/18/2020 16:00:00\",\"6/19/2020 16:00:00\",\"6/22/2020 16:00:00\",\"6/23/2020 16:00:00\",\"6/24/2020 16:00:00\",\"6/25/2020 16:00:00\",\"6/26/2020 16:00:00\",\"6/29/2020 16:00:00\",\"6/30/2020 16:00:00\",\"7/1/2020 16:00:00\",\"7/2/2020 16:00:00\",\"7/6/2020 16:00:00\",\"7/7/2020 16:00:00\",\"7/8/2020 16:00:00\",\"7/9/2020 16:00:00\",\"7/10/2020 16:00:00\",\"7/13/2020 16:00:00\",\"7/14/2020 16:00:00\",\"7/15/2020 16:00:00\",\"7/16/2020 16:00:00\",\"7/17/2020 16:00:00\",\"7/20/2020 16:00:00\",\"7/21/2020 16:00:00\",\"7/22/2020 16:00:00\",\"7/23/2020 16:00:00\",\"7/24/2020 16:00:00\",\"7/27/2020 16:00:00\",\"7/28/2020 16:00:00\",\"7/29/2020 16:00:00\",\"7/30/2020 16:00:00\",\"7/31/2020 16:00:00\",\"8/3/2020 16:00:00\",\"8/4/2020 16:00:00\",\"8/5/2020 16:00:00\",\"8/6/2020 16:00:00\",\"8/7/2020 16:00:00\",\"8/10/2020 16:00:00\",\"8/11/2020 16:00:00\",\"8/12/2020 16:00:00\",\"8/13/2020 16:00:00\",\"8/14/2020 16:00:00\",\"8/17/2020 16:00:00\",\"8/18/2020 16:00:00\",\"8/19/2020 16:00:00\",\"8/20/2020 16:00:00\",\"8/21/2020 16:00:00\",\"8/24/2020 16:00:00\",\"8/25/2020 16:00:00\",\"8/26/2020 16:00:00\",\"8/27/2020 16:00:00\",\"8/28/2020 16:00:00\",\"8/31/2020 16:00:00\",\"9/1/2020 16:00:00\",\"9/2/2020 16:00:00\",\"9/3/2020 16:00:00\",\"9/4/2020 16:00:00\",\"9/8/2020 16:00:00\",\"9/9/2020 16:00:00\",\"9/10/2020 16:00:00\",\"9/11/2020 16:00:00\",\"9/14/2020 16:00:00\",\"9/15/2020 16:00:00\",\"9/16/2020 16:00:00\",\"9/17/2020 16:00:00\",\"9/18/2020 16:00:00\",\"9/21/2020 16:00:00\",\"9/22/2020 16:00:00\",\"9/23/2020 16:00:00\",\"9/24/2020 16:00:00\",\"9/25/2020 16:00:00\",\"9/28/2020 16:00:00\",\"9/29/2020 16:00:00\",\"9/30/2020 16:00:00\",\"10/1/2020 16:00:00\",\"10/2/2020 16:00:00\",\"10/5/2020 16:00:00\",\"10/6/2020 16:00:00\",\"10/7/2020 16:00:00\",\"10/8/2020 16:00:00\",\"10/9/2020 16:00:00\",\"10/12/2020 16:00:00\",\"10/13/2020 16:00:00\",\"10/14/2020 16:00:00\",\"10/15/2020 16:00:00\",\"10/16/2020 16:00:00\",\"10/19/2020 16:00:00\",\"10/20/2020 16:00:00\",\"10/21/2020 16:00:00\",\"10/22/2020 16:00:00\",\"10/23/2020 16:00:00\",\"10/26/2020 16:00:00\",\"10/27/2020 16:00:00\",\"10/28/2020 16:00:00\",\"10/29/2020 16:00:00\",\"10/30/2020 16:00:00\"]},\"selected\":{\"id\":\"1036\"},\"selection_policy\":{\"id\":\"1053\"}},\"id\":\"1035\",\"type\":\"ColumnDataSource\"},{\"attributes\":{\"bottom_units\":\"screen\",\"fill_alpha\":0.5,\"fill_color\":\"lightgrey\",\"left_units\":\"screen\",\"level\":\"overlay\",\"line_alpha\":1.0,\"line_color\":\"black\",\"line_dash\":[4,4],\"line_width\":2,\"right_units\":\"screen\",\"top_units\":\"screen\"},\"id\":\"1027\",\"type\":\"BoxAnnotation\"},{\"attributes\":{\"align\":null,\"below\":[{\"id\":\"1015\"}],\"center\":[{\"id\":\"1017\"},{\"id\":\"1021\"}],\"left\":[{\"id\":\"1018\"}],\"margin\":null,\"min_border_bottom\":10,\"min_border_left\":10,\"min_border_right\":10,\"min_border_top\":10,\"plot_height\":300,\"plot_width\":700,\"renderers\":[{\"id\":\"1041\"}],\"sizing_mode\":\"fixed\",\"title\":{\"id\":\"1007\"},\"toolbar\":{\"id\":\"1028\"},\"x_range\":{\"id\":\"1003\"},\"x_scale\":{\"id\":\"1011\"},\"y_range\":{\"id\":\"1004\"},\"y_scale\":{\"id\":\"1013\"}},\"id\":\"1006\",\"subtype\":\"Figure\",\"type\":\"Plot\"},{\"attributes\":{},\"id\":\"1013\",\"type\":\"LinearScale\"},{\"attributes\":{\"overlay\":{\"id\":\"1027\"}},\"id\":\"1025\",\"type\":\"BoxZoomTool\"},{\"attributes\":{\"callback\":null,\"renderers\":[{\"id\":\"1041\"}],\"tags\":[\"hv_created\"],\"tooltips\":[[\"Date\",\"@{Date}\"],[\"Abbott Laboratories\",\"@{Abbott_Laboratories}\"]]},\"id\":\"1005\",\"type\":\"HoverTool\"},{\"attributes\":{},\"id\":\"1046\",\"type\":\"BasicTickFormatter\"},{\"attributes\":{},\"id\":\"1026\",\"type\":\"ResetTool\"},{\"attributes\":{\"active_drag\":\"auto\",\"active_inspect\":\"auto\",\"active_multi\":null,\"active_scroll\":\"auto\",\"active_tap\":\"auto\",\"tools\":[{\"id\":\"1005\"},{\"id\":\"1022\"},{\"id\":\"1023\"},{\"id\":\"1024\"},{\"id\":\"1025\"},{\"id\":\"1026\"}]},\"id\":\"1028\",\"type\":\"Toolbar\"},{\"attributes\":{},\"id\":\"1053\",\"type\":\"UnionRenderers\"}],\"root_ids\":[\"1001\"]},\"title\":\"Bokeh Application\",\"version\":\"2.1.1\"}};\n",
       "  var render_items = [{\"docid\":\"dc9826ca-9eca-4bf1-9017-97bff34f0338\",\"root_ids\":[\"1001\"],\"roots\":{\"1001\":\"77377dfd-7a41-4f9f-9f99-762a33533944\"}}];\n",
       "  root.Bokeh.embed.embed_items_notebook(docs_json, render_items);\n",
       "  }\n",
       "if (root.Bokeh !== undefined) {\n",
       "    embed_document(root);\n",
       "  } else {\n",
       "    var attempts = 0;\n",
       "    var timer = setInterval(function(root) {\n",
       "      if (root.Bokeh !== undefined) {\n",
       "        clearInterval(timer);\n",
       "        embed_document(root);\n",
       "      } else if (document.readyState == \"complete\") {\n",
       "        attempts++;\n",
       "        if (attempts > 100) {\n",
       "          clearInterval(timer);\n",
       "          console.log(\"Bokeh: ERROR: Unable to run BokehJS code because BokehJS library is missing\");\n",
       "        }\n",
       "      }\n",
       "    }, 10, root)\n",
       "  }\n",
       "})(window);</script>"
      ],
      "text/plain": [
       ":Curve   [Date]   (Abbott Laboratories)"
      ]
     },
     "execution_count": 5,
     "metadata": {
      "application/vnd.holoviews_exec.v0+json": {
       "id": "1001"
      }
     },
     "output_type": "execute_result"
    }
   ],
   "source": [
    "#Plotting ABT\n",
    "abt_data.hvplot()"
   ]
  },
  {
   "cell_type": "code",
   "execution_count": 6,
   "metadata": {},
   "outputs": [],
   "source": [
    "#Reading Moderna Labs Stock File\n",
    "mrna_csv = Path(\"/Users/sabrinareed/Desktop/JupyterWorkspace/covid19casedata/mrna.csv\")"
   ]
  },
  {
   "cell_type": "code",
   "execution_count": 8,
   "metadata": {},
   "outputs": [
    {
     "data": {
      "text/html": [
       "<div>\n",
       "<style scoped>\n",
       "    .dataframe tbody tr th:only-of-type {\n",
       "        vertical-align: middle;\n",
       "    }\n",
       "\n",
       "    .dataframe tbody tr th {\n",
       "        vertical-align: top;\n",
       "    }\n",
       "\n",
       "    .dataframe thead th {\n",
       "        text-align: right;\n",
       "    }\n",
       "</style>\n",
       "<table border=\"1\" class=\"dataframe\">\n",
       "  <thead>\n",
       "    <tr style=\"text-align: right;\">\n",
       "      <th></th>\n",
       "      <th>Moderna</th>\n",
       "    </tr>\n",
       "    <tr>\n",
       "      <th>Date</th>\n",
       "      <th></th>\n",
       "    </tr>\n",
       "  </thead>\n",
       "  <tbody>\n",
       "    <tr>\n",
       "      <th>1/2/2020 16:00:00</th>\n",
       "      <td>19.23</td>\n",
       "    </tr>\n",
       "    <tr>\n",
       "      <th>1/3/2020 16:00:00</th>\n",
       "      <td>18.89</td>\n",
       "    </tr>\n",
       "    <tr>\n",
       "      <th>1/6/2020 16:00:00</th>\n",
       "      <td>18.13</td>\n",
       "    </tr>\n",
       "    <tr>\n",
       "      <th>1/7/2020 16:00:00</th>\n",
       "      <td>17.78</td>\n",
       "    </tr>\n",
       "    <tr>\n",
       "      <th>1/8/2020 16:00:00</th>\n",
       "      <td>17.98</td>\n",
       "    </tr>\n",
       "  </tbody>\n",
       "</table>\n",
       "</div>"
      ],
      "text/plain": [
       "                   Moderna\n",
       "Date                      \n",
       "1/2/2020 16:00:00    19.23\n",
       "1/3/2020 16:00:00    18.89\n",
       "1/6/2020 16:00:00    18.13\n",
       "1/7/2020 16:00:00    17.78\n",
       "1/8/2020 16:00:00    17.98"
      ]
     },
     "execution_count": 8,
     "metadata": {},
     "output_type": "execute_result"
    }
   ],
   "source": [
    "#Display Moderna stock data\n",
    "#Setting Date to Index / Need to find out how to drop timestamp\n",
    "mrna_data = pd.read_csv(mrna_csv, header = 1, index_col=\"Date\")\n",
    "#Rename columns\n",
    "mrna_data = mrna_data.rename(columns={\"Close\": \"Moderna\"})\n",
    "mrna_data.head()"
   ]
  },
  {
   "cell_type": "code",
   "execution_count": 9,
   "metadata": {},
   "outputs": [
    {
     "data": {
      "application/vnd.holoviews_exec.v0+json": "",
      "text/html": [
       "<div id='1105'>\n",
       "\n",
       "\n",
       "\n",
       "\n",
       "\n",
       "  <div class=\"bk-root\" id=\"ea584c0a-ba6b-4254-9550-711770a72259\" data-root-id=\"1105\"></div>\n",
       "</div>\n",
       "<script type=\"application/javascript\">(function(root) {\n",
       "  function embed_document(root) {\n",
       "  var docs_json = {\"81137766-4687-4baf-8259-97a7f134433d\":{\"roots\":{\"references\":[{\"attributes\":{\"data_source\":{\"id\":\"1139\"},\"glyph\":{\"id\":\"1142\"},\"hover_glyph\":null,\"muted_glyph\":{\"id\":\"1144\"},\"nonselection_glyph\":{\"id\":\"1143\"},\"selection_glyph\":null,\"view\":{\"id\":\"1146\"}},\"id\":\"1145\",\"type\":\"GlyphRenderer\"},{\"attributes\":{\"axis_label\":\"Moderna\",\"bounds\":\"auto\",\"formatter\":{\"id\":\"1150\"},\"major_label_orientation\":\"horizontal\",\"ticker\":{\"id\":\"1123\"}},\"id\":\"1122\",\"type\":\"LinearAxis\"},{\"attributes\":{},\"id\":\"1140\",\"type\":\"Selection\"},{\"attributes\":{},\"id\":\"1123\",\"type\":\"BasicTicker\"},{\"attributes\":{},\"id\":\"1150\",\"type\":\"BasicTickFormatter\"},{\"attributes\":{\"line_alpha\":0.2,\"line_color\":\"#1f77b3\",\"line_width\":2,\"x\":{\"field\":\"Date\"},\"y\":{\"field\":\"Moderna\"}},\"id\":\"1144\",\"type\":\"Line\"},{\"attributes\":{\"line_color\":\"#1f77b3\",\"line_width\":2,\"x\":{\"field\":\"Date\"},\"y\":{\"field\":\"Moderna\"}},\"id\":\"1142\",\"type\":\"Line\"},{\"attributes\":{\"bottom_units\":\"screen\",\"fill_alpha\":0.5,\"fill_color\":\"lightgrey\",\"left_units\":\"screen\",\"level\":\"overlay\",\"line_alpha\":1.0,\"line_color\":\"black\",\"line_dash\":[4,4],\"line_width\":2,\"right_units\":\"screen\",\"top_units\":\"screen\"},\"id\":\"1131\",\"type\":\"BoxAnnotation\"},{\"attributes\":{\"text\":\"\",\"text_color\":{\"value\":\"black\"},\"text_font_size\":{\"value\":\"12pt\"}},\"id\":\"1111\",\"type\":\"Title\"},{\"attributes\":{},\"id\":\"1120\",\"type\":\"CategoricalTicker\"},{\"attributes\":{},\"id\":\"1157\",\"type\":\"UnionRenderers\"},{\"attributes\":{\"axis\":{\"id\":\"1119\"},\"grid_line_color\":null,\"ticker\":null},\"id\":\"1121\",\"type\":\"Grid\"},{\"attributes\":{\"axis_label\":\"Date\",\"bounds\":\"auto\",\"formatter\":{\"id\":\"1148\"},\"major_label_orientation\":\"horizontal\",\"ticker\":{\"id\":\"1120\"}},\"id\":\"1119\",\"type\":\"CategoricalAxis\"},{\"attributes\":{},\"id\":\"1117\",\"type\":\"LinearScale\"},{\"attributes\":{\"active_drag\":\"auto\",\"active_inspect\":\"auto\",\"active_multi\":null,\"active_scroll\":\"auto\",\"active_tap\":\"auto\",\"tools\":[{\"id\":\"1109\"},{\"id\":\"1126\"},{\"id\":\"1127\"},{\"id\":\"1128\"},{\"id\":\"1129\"},{\"id\":\"1130\"}]},\"id\":\"1132\",\"type\":\"Toolbar\"},{\"attributes\":{\"align\":null,\"below\":[{\"id\":\"1119\"}],\"center\":[{\"id\":\"1121\"},{\"id\":\"1125\"}],\"left\":[{\"id\":\"1122\"}],\"margin\":null,\"min_border_bottom\":10,\"min_border_left\":10,\"min_border_right\":10,\"min_border_top\":10,\"plot_height\":300,\"plot_width\":700,\"renderers\":[{\"id\":\"1145\"}],\"sizing_mode\":\"fixed\",\"title\":{\"id\":\"1111\"},\"toolbar\":{\"id\":\"1132\"},\"x_range\":{\"id\":\"1107\"},\"x_scale\":{\"id\":\"1115\"},\"y_range\":{\"id\":\"1108\"},\"y_scale\":{\"id\":\"1117\"}},\"id\":\"1110\",\"subtype\":\"Figure\",\"type\":\"Plot\"},{\"attributes\":{\"data\":{\"Date\":[\"1/2/2020 16:00:00\",\"1/3/2020 16:00:00\",\"1/6/2020 16:00:00\",\"1/7/2020 16:00:00\",\"1/8/2020 16:00:00\",\"1/9/2020 16:00:00\",\"1/10/2020 16:00:00\",\"1/13/2020 16:00:00\",\"1/14/2020 16:00:00\",\"1/15/2020 16:00:00\",\"1/16/2020 16:00:00\",\"1/17/2020 16:00:00\",\"1/21/2020 16:00:00\",\"1/22/2020 16:00:00\",\"1/23/2020 16:00:00\",\"1/24/2020 16:00:00\",\"1/27/2020 16:00:00\",\"1/28/2020 16:00:00\",\"1/29/2020 16:00:00\",\"1/30/2020 16:00:00\",\"1/31/2020 16:00:00\",\"2/3/2020 16:00:00\",\"2/4/2020 16:00:00\",\"2/5/2020 16:00:00\",\"2/6/2020 16:00:00\",\"2/7/2020 16:00:00\",\"2/10/2020 16:00:00\",\"2/11/2020 16:00:00\",\"2/12/2020 16:00:00\",\"2/13/2020 16:00:00\",\"2/14/2020 16:00:00\",\"2/18/2020 16:00:00\",\"2/19/2020 16:00:00\",\"2/20/2020 16:00:00\",\"2/21/2020 16:00:00\",\"2/24/2020 16:00:00\",\"2/25/2020 16:00:00\",\"2/26/2020 16:00:00\",\"2/27/2020 16:00:00\",\"2/28/2020 16:00:00\",\"3/2/2020 16:00:00\",\"3/3/2020 16:00:00\",\"3/4/2020 16:00:00\",\"3/5/2020 16:00:00\",\"3/6/2020 16:00:00\",\"3/9/2020 16:00:00\",\"3/10/2020 16:00:00\",\"3/11/2020 16:00:00\",\"3/12/2020 16:00:00\",\"3/13/2020 16:00:00\",\"3/16/2020 16:00:00\",\"3/17/2020 16:00:00\",\"3/18/2020 16:00:00\",\"3/19/2020 16:00:00\",\"3/20/2020 16:00:00\",\"3/23/2020 16:00:00\",\"3/24/2020 16:00:00\",\"3/25/2020 16:00:00\",\"3/26/2020 16:00:00\",\"3/27/2020 16:00:00\",\"3/30/2020 16:00:00\",\"3/31/2020 16:00:00\",\"4/1/2020 16:00:00\",\"4/2/2020 16:00:00\",\"4/3/2020 16:00:00\",\"4/6/2020 16:00:00\",\"4/7/2020 16:00:00\",\"4/8/2020 16:00:00\",\"4/9/2020 16:00:00\",\"4/13/2020 16:00:00\",\"4/14/2020 16:00:00\",\"4/15/2020 16:00:00\",\"4/16/2020 16:00:00\",\"4/17/2020 16:00:00\",\"4/20/2020 16:00:00\",\"4/21/2020 16:00:00\",\"4/22/2020 16:00:00\",\"4/23/2020 16:00:00\",\"4/24/2020 16:00:00\",\"4/27/2020 16:00:00\",\"4/28/2020 16:00:00\",\"4/29/2020 16:00:00\",\"4/30/2020 16:00:00\",\"5/1/2020 16:00:00\",\"5/4/2020 16:00:00\",\"5/5/2020 16:00:00\",\"5/6/2020 16:00:00\",\"5/7/2020 16:00:00\",\"5/8/2020 16:00:00\",\"5/11/2020 16:00:00\",\"5/12/2020 16:00:00\",\"5/13/2020 16:00:00\",\"5/14/2020 16:00:00\",\"5/15/2020 16:00:00\",\"5/18/2020 16:00:00\",\"5/19/2020 16:00:00\",\"5/20/2020 16:00:00\",\"5/21/2020 16:00:00\",\"5/22/2020 16:00:00\",\"5/26/2020 16:00:00\",\"5/27/2020 16:00:00\",\"5/28/2020 16:00:00\",\"5/29/2020 16:00:00\",\"6/1/2020 16:00:00\",\"6/2/2020 16:00:00\",\"6/3/2020 16:00:00\",\"6/4/2020 16:00:00\",\"6/5/2020 16:00:00\",\"6/8/2020 16:00:00\",\"6/9/2020 16:00:00\",\"6/10/2020 16:00:00\",\"6/11/2020 16:00:00\",\"6/12/2020 16:00:00\",\"6/15/2020 16:00:00\",\"6/16/2020 16:00:00\",\"6/17/2020 16:00:00\",\"6/18/2020 16:00:00\",\"6/19/2020 16:00:00\",\"6/22/2020 16:00:00\",\"6/23/2020 16:00:00\",\"6/24/2020 16:00:00\",\"6/25/2020 16:00:00\",\"6/26/2020 16:00:00\",\"6/29/2020 16:00:00\",\"6/30/2020 16:00:00\",\"7/1/2020 16:00:00\",\"7/2/2020 16:00:00\",\"7/6/2020 16:00:00\",\"7/7/2020 16:00:00\",\"7/8/2020 16:00:00\",\"7/9/2020 16:00:00\",\"7/10/2020 16:00:00\",\"7/13/2020 16:00:00\",\"7/14/2020 16:00:00\",\"7/15/2020 16:00:00\",\"7/16/2020 16:00:00\",\"7/17/2020 16:00:00\",\"7/20/2020 16:00:00\",\"7/21/2020 16:00:00\",\"7/22/2020 16:00:00\",\"7/23/2020 16:00:00\",\"7/24/2020 16:00:00\",\"7/27/2020 16:00:00\",\"7/28/2020 16:00:00\",\"7/29/2020 16:00:00\",\"7/30/2020 16:00:00\",\"7/31/2020 16:00:00\",\"8/3/2020 16:00:00\",\"8/4/2020 16:00:00\",\"8/5/2020 16:00:00\",\"8/6/2020 16:00:00\",\"8/7/2020 16:00:00\",\"8/10/2020 16:00:00\",\"8/11/2020 16:00:00\",\"8/12/2020 16:00:00\",\"8/13/2020 16:00:00\",\"8/14/2020 16:00:00\",\"8/17/2020 16:00:00\",\"8/18/2020 16:00:00\",\"8/19/2020 16:00:00\",\"8/20/2020 16:00:00\",\"8/21/2020 16:00:00\",\"8/24/2020 16:00:00\",\"8/25/2020 16:00:00\",\"8/26/2020 16:00:00\",\"8/27/2020 16:00:00\",\"8/28/2020 16:00:00\",\"8/31/2020 16:00:00\",\"9/1/2020 16:00:00\",\"9/2/2020 16:00:00\",\"9/3/2020 16:00:00\",\"9/4/2020 16:00:00\",\"9/8/2020 16:00:00\",\"9/9/2020 16:00:00\",\"9/10/2020 16:00:00\",\"9/11/2020 16:00:00\",\"9/14/2020 16:00:00\",\"9/15/2020 16:00:00\",\"9/16/2020 16:00:00\",\"9/17/2020 16:00:00\",\"9/18/2020 16:00:00\",\"9/21/2020 16:00:00\",\"9/22/2020 16:00:00\",\"9/23/2020 16:00:00\",\"9/24/2020 16:00:00\",\"9/25/2020 16:00:00\",\"9/28/2020 16:00:00\",\"9/29/2020 16:00:00\",\"9/30/2020 16:00:00\",\"10/1/2020 16:00:00\",\"10/2/2020 16:00:00\",\"10/5/2020 16:00:00\",\"10/6/2020 16:00:00\",\"10/7/2020 16:00:00\",\"10/8/2020 16:00:00\",\"10/9/2020 16:00:00\",\"10/12/2020 16:00:00\",\"10/13/2020 16:00:00\",\"10/14/2020 16:00:00\",\"10/15/2020 16:00:00\",\"10/16/2020 16:00:00\",\"10/19/2020 16:00:00\",\"10/20/2020 16:00:00\",\"10/21/2020 16:00:00\",\"10/22/2020 16:00:00\",\"10/23/2020 16:00:00\",\"10/26/2020 16:00:00\",\"10/27/2020 16:00:00\",\"10/28/2020 16:00:00\",\"10/29/2020 16:00:00\",\"10/30/2020 16:00:00\"],\"Moderna\":{\"__ndarray__\":\"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\",\"dtype\":\"float64\",\"order\":\"little\",\"shape\":[211]}},\"selected\":{\"id\":\"1140\"},\"selection_policy\":{\"id\":\"1157\"}},\"id\":\"1139\",\"type\":\"ColumnDataSource\"},{\"attributes\":{\"margin\":[5,5,5,5],\"name\":\"HSpacer01705\",\"sizing_mode\":\"stretch_width\"},\"id\":\"1167\",\"type\":\"Spacer\"},{\"attributes\":{},\"id\":\"1148\",\"type\":\"CategoricalTickFormatter\"},{\"attributes\":{\"margin\":[5,5,5,5],\"name\":\"HSpacer01704\",\"sizing_mode\":\"stretch_width\"},\"id\":\"1106\",\"type\":\"Spacer\"},{\"attributes\":{\"factors\":[\"1/2/2020 16:00:00\",\"1/3/2020 16:00:00\",\"1/6/2020 16:00:00\",\"1/7/2020 16:00:00\",\"1/8/2020 16:00:00\",\"1/9/2020 16:00:00\",\"1/10/2020 16:00:00\",\"1/13/2020 16:00:00\",\"1/14/2020 16:00:00\",\"1/15/2020 16:00:00\",\"1/16/2020 16:00:00\",\"1/17/2020 16:00:00\",\"1/21/2020 16:00:00\",\"1/22/2020 16:00:00\",\"1/23/2020 16:00:00\",\"1/24/2020 16:00:00\",\"1/27/2020 16:00:00\",\"1/28/2020 16:00:00\",\"1/29/2020 16:00:00\",\"1/30/2020 16:00:00\",\"1/31/2020 16:00:00\",\"2/3/2020 16:00:00\",\"2/4/2020 16:00:00\",\"2/5/2020 16:00:00\",\"2/6/2020 16:00:00\",\"2/7/2020 16:00:00\",\"2/10/2020 16:00:00\",\"2/11/2020 16:00:00\",\"2/12/2020 16:00:00\",\"2/13/2020 16:00:00\",\"2/14/2020 16:00:00\",\"2/18/2020 16:00:00\",\"2/19/2020 16:00:00\",\"2/20/2020 16:00:00\",\"2/21/2020 16:00:00\",\"2/24/2020 16:00:00\",\"2/25/2020 16:00:00\",\"2/26/2020 16:00:00\",\"2/27/2020 16:00:00\",\"2/28/2020 16:00:00\",\"3/2/2020 16:00:00\",\"3/3/2020 16:00:00\",\"3/4/2020 16:00:00\",\"3/5/2020 16:00:00\",\"3/6/2020 16:00:00\",\"3/9/2020 16:00:00\",\"3/10/2020 16:00:00\",\"3/11/2020 16:00:00\",\"3/12/2020 16:00:00\",\"3/13/2020 16:00:00\",\"3/16/2020 16:00:00\",\"3/17/2020 16:00:00\",\"3/18/2020 16:00:00\",\"3/19/2020 16:00:00\",\"3/20/2020 16:00:00\",\"3/23/2020 16:00:00\",\"3/24/2020 16:00:00\",\"3/25/2020 16:00:00\",\"3/26/2020 16:00:00\",\"3/27/2020 16:00:00\",\"3/30/2020 16:00:00\",\"3/31/2020 16:00:00\",\"4/1/2020 16:00:00\",\"4/2/2020 16:00:00\",\"4/3/2020 16:00:00\",\"4/6/2020 16:00:00\",\"4/7/2020 16:00:00\",\"4/8/2020 16:00:00\",\"4/9/2020 16:00:00\",\"4/13/2020 16:00:00\",\"4/14/2020 16:00:00\",\"4/15/2020 16:00:00\",\"4/16/2020 16:00:00\",\"4/17/2020 16:00:00\",\"4/20/2020 16:00:00\",\"4/21/2020 16:00:00\",\"4/22/2020 16:00:00\",\"4/23/2020 16:00:00\",\"4/24/2020 16:00:00\",\"4/27/2020 16:00:00\",\"4/28/2020 16:00:00\",\"4/29/2020 16:00:00\",\"4/30/2020 16:00:00\",\"5/1/2020 16:00:00\",\"5/4/2020 16:00:00\",\"5/5/2020 16:00:00\",\"5/6/2020 16:00:00\",\"5/7/2020 16:00:00\",\"5/8/2020 16:00:00\",\"5/11/2020 16:00:00\",\"5/12/2020 16:00:00\",\"5/13/2020 16:00:00\",\"5/14/2020 16:00:00\",\"5/15/2020 16:00:00\",\"5/18/2020 16:00:00\",\"5/19/2020 16:00:00\",\"5/20/2020 16:00:00\",\"5/21/2020 16:00:00\",\"5/22/2020 16:00:00\",\"5/26/2020 16:00:00\",\"5/27/2020 16:00:00\",\"5/28/2020 16:00:00\",\"5/29/2020 16:00:00\",\"6/1/2020 16:00:00\",\"6/2/2020 16:00:00\",\"6/3/2020 16:00:00\",\"6/4/2020 16:00:00\",\"6/5/2020 16:00:00\",\"6/8/2020 16:00:00\",\"6/9/2020 16:00:00\",\"6/10/2020 16:00:00\",\"6/11/2020 16:00:00\",\"6/12/2020 16:00:00\",\"6/15/2020 16:00:00\",\"6/16/2020 16:00:00\",\"6/17/2020 16:00:00\",\"6/18/2020 16:00:00\",\"6/19/2020 16:00:00\",\"6/22/2020 16:00:00\",\"6/23/2020 16:00:00\",\"6/24/2020 16:00:00\",\"6/25/2020 16:00:00\",\"6/26/2020 16:00:00\",\"6/29/2020 16:00:00\",\"6/30/2020 16:00:00\",\"7/1/2020 16:00:00\",\"7/2/2020 16:00:00\",\"7/6/2020 16:00:00\",\"7/7/2020 16:00:00\",\"7/8/2020 16:00:00\",\"7/9/2020 16:00:00\",\"7/10/2020 16:00:00\",\"7/13/2020 16:00:00\",\"7/14/2020 16:00:00\",\"7/15/2020 16:00:00\",\"7/16/2020 16:00:00\",\"7/17/2020 16:00:00\",\"7/20/2020 16:00:00\",\"7/21/2020 16:00:00\",\"7/22/2020 16:00:00\",\"7/23/2020 16:00:00\",\"7/24/2020 16:00:00\",\"7/27/2020 16:00:00\",\"7/28/2020 16:00:00\",\"7/29/2020 16:00:00\",\"7/30/2020 16:00:00\",\"7/31/2020 16:00:00\",\"8/3/2020 16:00:00\",\"8/4/2020 16:00:00\",\"8/5/2020 16:00:00\",\"8/6/2020 16:00:00\",\"8/7/2020 16:00:00\",\"8/10/2020 16:00:00\",\"8/11/2020 16:00:00\",\"8/12/2020 16:00:00\",\"8/13/2020 16:00:00\",\"8/14/2020 16:00:00\",\"8/17/2020 16:00:00\",\"8/18/2020 16:00:00\",\"8/19/2020 16:00:00\",\"8/20/2020 16:00:00\",\"8/21/2020 16:00:00\",\"8/24/2020 16:00:00\",\"8/25/2020 16:00:00\",\"8/26/2020 16:00:00\",\"8/27/2020 16:00:00\",\"8/28/2020 16:00:00\",\"8/31/2020 16:00:00\",\"9/1/2020 16:00:00\",\"9/2/2020 16:00:00\",\"9/3/2020 16:00:00\",\"9/4/2020 16:00:00\",\"9/8/2020 16:00:00\",\"9/9/2020 16:00:00\",\"9/10/2020 16:00:00\",\"9/11/2020 16:00:00\",\"9/14/2020 16:00:00\",\"9/15/2020 16:00:00\",\"9/16/2020 16:00:00\",\"9/17/2020 16:00:00\",\"9/18/2020 16:00:00\",\"9/21/2020 16:00:00\",\"9/22/2020 16:00:00\",\"9/23/2020 16:00:00\",\"9/24/2020 16:00:00\",\"9/25/2020 16:00:00\",\"9/28/2020 16:00:00\",\"9/29/2020 16:00:00\",\"9/30/2020 16:00:00\",\"10/1/2020 16:00:00\",\"10/2/2020 16:00:00\",\"10/5/2020 16:00:00\",\"10/6/2020 16:00:00\",\"10/7/2020 16:00:00\",\"10/8/2020 16:00:00\",\"10/9/2020 16:00:00\",\"10/12/2020 16:00:00\",\"10/13/2020 16:00:00\",\"10/14/2020 16:00:00\",\"10/15/2020 16:00:00\",\"10/16/2020 16:00:00\",\"10/19/2020 16:00:00\",\"10/20/2020 16:00:00\",\"10/21/2020 16:00:00\",\"10/22/2020 16:00:00\",\"10/23/2020 16:00:00\",\"10/26/2020 16:00:00\",\"10/27/2020 16:00:00\",\"10/28/2020 16:00:00\",\"10/29/2020 16:00:00\",\"10/30/2020 16:00:00\"],\"tags\":[[[\"Date\",\"Date\",null]]]},\"id\":\"1107\",\"type\":\"FactorRange\"},{\"attributes\":{},\"id\":\"1130\",\"type\":\"ResetTool\"},{\"attributes\":{\"overlay\":{\"id\":\"1131\"}},\"id\":\"1129\",\"type\":\"BoxZoomTool\"},{\"attributes\":{\"source\":{\"id\":\"1139\"}},\"id\":\"1146\",\"type\":\"CDSView\"},{\"attributes\":{},\"id\":\"1115\",\"type\":\"CategoricalScale\"},{\"attributes\":{\"axis\":{\"id\":\"1122\"},\"dimension\":1,\"grid_line_color\":null,\"ticker\":null},\"id\":\"1125\",\"type\":\"Grid\"},{\"attributes\":{},\"id\":\"1127\",\"type\":\"PanTool\"},{\"attributes\":{\"children\":[{\"id\":\"1106\"},{\"id\":\"1110\"},{\"id\":\"1167\"}],\"margin\":[0,0,0,0],\"name\":\"Row01700\",\"tags\":[\"embedded\"]},\"id\":\"1105\",\"type\":\"Row\"},{\"attributes\":{\"end\":102.55699999999999,\"reset_end\":102.55699999999999,\"reset_start\":10.073,\"start\":10.073,\"tags\":[[[\"Moderna\",\"Moderna\",null]]]},\"id\":\"1108\",\"type\":\"Range1d\"},{\"attributes\":{},\"id\":\"1128\",\"type\":\"WheelZoomTool\"},{\"attributes\":{\"line_alpha\":0.1,\"line_color\":\"#1f77b3\",\"line_width\":2,\"x\":{\"field\":\"Date\"},\"y\":{\"field\":\"Moderna\"}},\"id\":\"1143\",\"type\":\"Line\"},{\"attributes\":{},\"id\":\"1126\",\"type\":\"SaveTool\"},{\"attributes\":{\"callback\":null,\"renderers\":[{\"id\":\"1145\"}],\"tags\":[\"hv_created\"],\"tooltips\":[[\"Date\",\"@{Date}\"],[\"Moderna\",\"@{Moderna}\"]]},\"id\":\"1109\",\"type\":\"HoverTool\"}],\"root_ids\":[\"1105\"]},\"title\":\"Bokeh Application\",\"version\":\"2.1.1\"}};\n",
       "  var render_items = [{\"docid\":\"81137766-4687-4baf-8259-97a7f134433d\",\"root_ids\":[\"1105\"],\"roots\":{\"1105\":\"ea584c0a-ba6b-4254-9550-711770a72259\"}}];\n",
       "  root.Bokeh.embed.embed_items_notebook(docs_json, render_items);\n",
       "  }\n",
       "if (root.Bokeh !== undefined) {\n",
       "    embed_document(root);\n",
       "  } else {\n",
       "    var attempts = 0;\n",
       "    var timer = setInterval(function(root) {\n",
       "      if (root.Bokeh !== undefined) {\n",
       "        clearInterval(timer);\n",
       "        embed_document(root);\n",
       "      } else if (document.readyState == \"complete\") {\n",
       "        attempts++;\n",
       "        if (attempts > 100) {\n",
       "          clearInterval(timer);\n",
       "          console.log(\"Bokeh: ERROR: Unable to run BokehJS code because BokehJS library is missing\");\n",
       "        }\n",
       "      }\n",
       "    }, 10, root)\n",
       "  }\n",
       "})(window);</script>"
      ],
      "text/plain": [
       ":Curve   [Date]   (Moderna)"
      ]
     },
     "execution_count": 9,
     "metadata": {
      "application/vnd.holoviews_exec.v0+json": {
       "id": "1105"
      }
     },
     "output_type": "execute_result"
    }
   ],
   "source": [
    "#Plotting Moderna\n",
    "mrna_data.hvplot()"
   ]
  },
  {
   "cell_type": "code",
   "execution_count": 10,
   "metadata": {},
   "outputs": [],
   "source": [
    "#Reading Novavax Labs Stock File\n",
    "nvax_csv = Path(\"/Users/sabrinareed/Desktop/JupyterWorkspace/covid19casedata/nvax.csv\")"
   ]
  },
  {
   "cell_type": "code",
   "execution_count": 20,
   "metadata": {},
   "outputs": [
    {
     "data": {
      "text/html": [
       "<div>\n",
       "<style scoped>\n",
       "    .dataframe tbody tr th:only-of-type {\n",
       "        vertical-align: middle;\n",
       "    }\n",
       "\n",
       "    .dataframe tbody tr th {\n",
       "        vertical-align: top;\n",
       "    }\n",
       "\n",
       "    .dataframe thead th {\n",
       "        text-align: right;\n",
       "    }\n",
       "</style>\n",
       "<table border=\"1\" class=\"dataframe\">\n",
       "  <thead>\n",
       "    <tr style=\"text-align: right;\">\n",
       "      <th></th>\n",
       "      <th>Novavax</th>\n",
       "    </tr>\n",
       "    <tr>\n",
       "      <th>Date</th>\n",
       "      <th></th>\n",
       "    </tr>\n",
       "  </thead>\n",
       "  <tbody>\n",
       "    <tr>\n",
       "      <th>1/2/2020 16:00:00</th>\n",
       "      <td>4.49</td>\n",
       "    </tr>\n",
       "    <tr>\n",
       "      <th>1/3/2020 16:00:00</th>\n",
       "      <td>4.44</td>\n",
       "    </tr>\n",
       "    <tr>\n",
       "      <th>1/6/2020 16:00:00</th>\n",
       "      <td>4.58</td>\n",
       "    </tr>\n",
       "    <tr>\n",
       "      <th>1/7/2020 16:00:00</th>\n",
       "      <td>4.57</td>\n",
       "    </tr>\n",
       "    <tr>\n",
       "      <th>1/8/2020 16:00:00</th>\n",
       "      <td>4.28</td>\n",
       "    </tr>\n",
       "  </tbody>\n",
       "</table>\n",
       "</div>"
      ],
      "text/plain": [
       "                   Novavax\n",
       "Date                      \n",
       "1/2/2020 16:00:00     4.49\n",
       "1/3/2020 16:00:00     4.44\n",
       "1/6/2020 16:00:00     4.58\n",
       "1/7/2020 16:00:00     4.57\n",
       "1/8/2020 16:00:00     4.28"
      ]
     },
     "execution_count": 20,
     "metadata": {},
     "output_type": "execute_result"
    }
   ],
   "source": [
    "#Display Novavax stock data\n",
    "#Setting Date to Index / Need to find out how to drop timestamp\n",
    "nvax_data = pd.read_csv(nvax_csv, header = 1, index_col=\"Date\")\n",
    "#Rename columns\n",
    "nvax_data = nvax_data.rename(columns={\"Close\": \"Novavax\"})\n",
    "nvax_data.head()"
   ]
  },
  {
   "cell_type": "code",
   "execution_count": 21,
   "metadata": {},
   "outputs": [
    {
     "data": {
      "application/vnd.holoviews_exec.v0+json": "",
      "text/html": [
       "<div id='1685'>\n",
       "\n",
       "\n",
       "\n",
       "\n",
       "\n",
       "  <div class=\"bk-root\" id=\"7feb60cf-8f89-45bb-b374-da2e9461c77f\" data-root-id=\"1685\"></div>\n",
       "</div>\n",
       "<script type=\"application/javascript\">(function(root) {\n",
       "  function embed_document(root) {\n",
       "  var docs_json = {\"5cac0c5b-e889-408c-a8d7-93dcd93ef961\":{\"roots\":{\"references\":[{\"attributes\":{},\"id\":\"1720\",\"type\":\"Selection\"},{\"attributes\":{},\"id\":\"1730\",\"type\":\"BasicTickFormatter\"},{\"attributes\":{\"axis_label\":\"Novavax\",\"bounds\":\"auto\",\"formatter\":{\"id\":\"1730\"},\"major_label_orientation\":\"horizontal\",\"ticker\":{\"id\":\"1703\"}},\"id\":\"1702\",\"type\":\"LinearAxis\"},{\"attributes\":{\"data_source\":{\"id\":\"1719\"},\"glyph\":{\"id\":\"1722\"},\"hover_glyph\":null,\"muted_glyph\":{\"id\":\"1724\"},\"nonselection_glyph\":{\"id\":\"1723\"},\"selection_glyph\":null,\"view\":{\"id\":\"1726\"}},\"id\":\"1725\",\"type\":\"GlyphRenderer\"},{\"attributes\":{},\"id\":\"1703\",\"type\":\"BasicTicker\"},{\"attributes\":{\"align\":null,\"below\":[{\"id\":\"1699\"}],\"center\":[{\"id\":\"1701\"},{\"id\":\"1705\"}],\"left\":[{\"id\":\"1702\"}],\"margin\":null,\"min_border_bottom\":10,\"min_border_left\":10,\"min_border_right\":10,\"min_border_top\":10,\"plot_height\":300,\"plot_width\":700,\"renderers\":[{\"id\":\"1725\"}],\"sizing_mode\":\"fixed\",\"title\":{\"id\":\"1691\"},\"toolbar\":{\"id\":\"1712\"},\"x_range\":{\"id\":\"1687\"},\"x_scale\":{\"id\":\"1695\"},\"y_range\":{\"id\":\"1688\"},\"y_scale\":{\"id\":\"1697\"}},\"id\":\"1690\",\"subtype\":\"Figure\",\"type\":\"Plot\"},{\"attributes\":{\"bottom_units\":\"screen\",\"fill_alpha\":0.5,\"fill_color\":\"lightgrey\",\"left_units\":\"screen\",\"level\":\"overlay\",\"line_alpha\":1.0,\"line_color\":\"black\",\"line_dash\":[4,4],\"line_width\":2,\"right_units\":\"screen\",\"top_units\":\"screen\"},\"id\":\"1711\",\"type\":\"BoxAnnotation\"},{\"attributes\":{\"line_color\":\"#1f77b3\",\"line_width\":2,\"x\":{\"field\":\"Date\"},\"y\":{\"field\":\"Novavax\"}},\"id\":\"1722\",\"type\":\"Line\"},{\"attributes\":{\"axis\":{\"id\":\"1699\"},\"grid_line_color\":null,\"ticker\":null},\"id\":\"1701\",\"type\":\"Grid\"},{\"attributes\":{},\"id\":\"1706\",\"type\":\"SaveTool\"},{\"attributes\":{\"data\":{\"Date\":[\"1/2/2020 16:00:00\",\"1/3/2020 16:00:00\",\"1/6/2020 16:00:00\",\"1/7/2020 16:00:00\",\"1/8/2020 16:00:00\",\"1/9/2020 16:00:00\",\"1/10/2020 16:00:00\",\"1/13/2020 16:00:00\",\"1/14/2020 16:00:00\",\"1/15/2020 16:00:00\",\"1/16/2020 16:00:00\",\"1/17/2020 16:00:00\",\"1/21/2020 16:00:00\",\"1/22/2020 16:00:00\",\"1/23/2020 16:00:00\",\"1/24/2020 16:00:00\",\"1/27/2020 16:00:00\",\"1/28/2020 16:00:00\",\"1/29/2020 16:00:00\",\"1/30/2020 16:00:00\",\"1/31/2020 16:00:00\",\"2/3/2020 16:00:00\",\"2/4/2020 16:00:00\",\"2/5/2020 16:00:00\",\"2/6/2020 16:00:00\",\"2/7/2020 16:00:00\",\"2/10/2020 16:00:00\",\"2/11/2020 16:00:00\",\"2/12/2020 16:00:00\",\"2/13/2020 16:00:00\",\"2/14/2020 16:00:00\",\"2/18/2020 16:00:00\",\"2/19/2020 16:00:00\",\"2/20/2020 16:00:00\",\"2/21/2020 16:00:00\",\"2/24/2020 16:00:00\",\"2/25/2020 16:00:00\",\"2/26/2020 16:00:00\",\"2/27/2020 16:00:00\",\"2/28/2020 16:00:00\",\"3/2/2020 16:00:00\",\"3/3/2020 16:00:00\",\"3/4/2020 16:00:00\",\"3/5/2020 16:00:00\",\"3/6/2020 16:00:00\",\"3/9/2020 16:00:00\",\"3/10/2020 16:00:00\",\"3/11/2020 16:00:00\",\"3/12/2020 16:00:00\",\"3/13/2020 16:00:00\",\"3/16/2020 16:00:00\",\"3/17/2020 16:00:00\",\"3/18/2020 16:00:00\",\"3/19/2020 16:00:00\",\"3/20/2020 16:00:00\",\"3/23/2020 16:00:00\",\"3/24/2020 16:00:00\",\"3/25/2020 16:00:00\",\"3/26/2020 16:00:00\",\"3/27/2020 16:00:00\",\"3/30/2020 16:00:00\",\"3/31/2020 16:00:00\",\"4/1/2020 16:00:00\",\"4/2/2020 16:00:00\",\"4/3/2020 16:00:00\",\"4/6/2020 16:00:00\",\"4/7/2020 16:00:00\",\"4/8/2020 16:00:00\",\"4/9/2020 16:00:00\",\"4/13/2020 16:00:00\",\"4/14/2020 16:00:00\",\"4/15/2020 16:00:00\",\"4/16/2020 16:00:00\",\"4/17/2020 16:00:00\",\"4/20/2020 16:00:00\",\"4/21/2020 16:00:00\",\"4/22/2020 16:00:00\",\"4/23/2020 16:00:00\",\"4/24/2020 16:00:00\",\"4/27/2020 16:00:00\",\"4/28/2020 16:00:00\",\"4/29/2020 16:00:00\",\"4/30/2020 16:00:00\",\"5/1/2020 16:00:00\",\"5/4/2020 16:00:00\",\"5/5/2020 16:00:00\",\"5/6/2020 16:00:00\",\"5/7/2020 16:00:00\",\"5/8/2020 16:00:00\",\"5/11/2020 16:00:00\",\"5/12/2020 16:00:00\",\"5/13/2020 16:00:00\",\"5/14/2020 16:00:00\",\"5/15/2020 16:00:00\",\"5/18/2020 16:00:00\",\"5/19/2020 16:00:00\",\"5/20/2020 16:00:00\",\"5/21/2020 16:00:00\",\"5/22/2020 16:00:00\",\"5/26/2020 16:00:00\",\"5/27/2020 16:00:00\",\"5/28/2020 16:00:00\",\"5/29/2020 16:00:00\",\"6/1/2020 16:00:00\",\"6/2/2020 16:00:00\",\"6/3/2020 16:00:00\",\"6/4/2020 16:00:00\",\"6/5/2020 16:00:00\",\"6/8/2020 16:00:00\",\"6/9/2020 16:00:00\",\"6/10/2020 16:00:00\",\"6/11/2020 16:00:00\",\"6/12/2020 16:00:00\",\"6/15/2020 16:00:00\",\"6/16/2020 16:00:00\",\"6/17/2020 16:00:00\",\"6/18/2020 16:00:00\",\"6/19/2020 16:00:00\",\"6/22/2020 16:00:00\",\"6/23/2020 16:00:00\",\"6/24/2020 16:00:00\",\"6/25/2020 16:00:00\",\"6/26/2020 16:00:00\",\"6/29/2020 16:00:00\",\"6/30/2020 16:00:00\",\"7/1/2020 16:00:00\",\"7/2/2020 16:00:00\",\"7/6/2020 16:00:00\",\"7/7/2020 16:00:00\",\"7/8/2020 16:00:00\",\"7/9/2020 16:00:00\",\"7/10/2020 16:00:00\",\"7/13/2020 16:00:00\",\"7/14/2020 16:00:00\",\"7/15/2020 16:00:00\",\"7/16/2020 16:00:00\",\"7/17/2020 16:00:00\",\"7/20/2020 16:00:00\",\"7/21/2020 16:00:00\",\"7/22/2020 16:00:00\",\"7/23/2020 16:00:00\",\"7/24/2020 16:00:00\",\"7/27/2020 16:00:00\",\"7/28/2020 16:00:00\",\"7/29/2020 16:00:00\",\"7/30/2020 16:00:00\",\"7/31/2020 16:00:00\",\"8/3/2020 16:00:00\",\"8/4/2020 16:00:00\",\"8/5/2020 16:00:00\",\"8/6/2020 16:00:00\",\"8/7/2020 16:00:00\",\"8/10/2020 16:00:00\",\"8/11/2020 16:00:00\",\"8/12/2020 16:00:00\",\"8/13/2020 16:00:00\",\"8/14/2020 16:00:00\",\"8/17/2020 16:00:00\",\"8/18/2020 16:00:00\",\"8/19/2020 16:00:00\",\"8/20/2020 16:00:00\",\"8/21/2020 16:00:00\",\"8/24/2020 16:00:00\",\"8/25/2020 16:00:00\",\"8/26/2020 16:00:00\",\"8/27/2020 16:00:00\",\"8/28/2020 16:00:00\",\"8/31/2020 16:00:00\",\"9/1/2020 16:00:00\",\"9/2/2020 16:00:00\",\"9/3/2020 16:00:00\",\"9/4/2020 16:00:00\",\"9/8/2020 16:00:00\",\"9/9/2020 16:00:00\",\"9/10/2020 16:00:00\",\"9/11/2020 16:00:00\",\"9/14/2020 16:00:00\",\"9/15/2020 16:00:00\",\"9/16/2020 16:00:00\",\"9/17/2020 16:00:00\",\"9/18/2020 16:00:00\",\"9/21/2020 16:00:00\",\"9/22/2020 16:00:00\",\"9/23/2020 16:00:00\",\"9/24/2020 16:00:00\",\"9/25/2020 16:00:00\",\"9/28/2020 16:00:00\",\"9/29/2020 16:00:00\",\"9/30/2020 16:00:00\",\"10/1/2020 16:00:00\",\"10/2/2020 16:00:00\",\"10/5/2020 16:00:00\",\"10/6/2020 16:00:00\",\"10/7/2020 16:00:00\",\"10/8/2020 16:00:00\",\"10/9/2020 16:00:00\",\"10/12/2020 16:00:00\",\"10/13/2020 16:00:00\",\"10/14/2020 16:00:00\",\"10/15/2020 16:00:00\",\"10/16/2020 16:00:00\",\"10/19/2020 16:00:00\",\"10/20/2020 16:00:00\",\"10/21/2020 16:00:00\",\"10/22/2020 16:00:00\",\"10/23/2020 16:00:00\",\"10/26/2020 16:00:00\",\"10/27/2020 16:00:00\",\"10/28/2020 16:00:00\",\"10/29/2020 16:00:00\",\"10/30/2020 16:00:00\"],\"Novavax\":{\"__ndarray__\":\"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\",\"dtype\":\"float64\",\"order\":\"little\",\"shape\":[211]}},\"selected\":{\"id\":\"1720\"},\"selection_policy\":{\"id\":\"1737\"}},\"id\":\"1719\",\"type\":\"ColumnDataSource\"},{\"attributes\":{\"text\":\"\",\"text_color\":{\"value\":\"black\"},\"text_font_size\":{\"value\":\"12pt\"}},\"id\":\"1691\",\"type\":\"Title\"},{\"attributes\":{},\"id\":\"1700\",\"type\":\"CategoricalTicker\"},{\"attributes\":{\"axis_label\":\"Date\",\"bounds\":\"auto\",\"formatter\":{\"id\":\"1728\"},\"major_label_orientation\":\"horizontal\",\"ticker\":{\"id\":\"1700\"}},\"id\":\"1699\",\"type\":\"CategoricalAxis\"},{\"attributes\":{},\"id\":\"1728\",\"type\":\"CategoricalTickFormatter\"},{\"attributes\":{\"children\":[{\"id\":\"1686\"},{\"id\":\"1690\"},{\"id\":\"1747\"}],\"margin\":[0,0,0,0],\"name\":\"Row02851\",\"tags\":[\"embedded\"]},\"id\":\"1685\",\"type\":\"Row\"},{\"attributes\":{},\"id\":\"1708\",\"type\":\"WheelZoomTool\"},{\"attributes\":{\"margin\":[5,5,5,5],\"name\":\"HSpacer02855\",\"sizing_mode\":\"stretch_width\"},\"id\":\"1686\",\"type\":\"Spacer\"},{\"attributes\":{\"factors\":[\"1/2/2020 16:00:00\",\"1/3/2020 16:00:00\",\"1/6/2020 16:00:00\",\"1/7/2020 16:00:00\",\"1/8/2020 16:00:00\",\"1/9/2020 16:00:00\",\"1/10/2020 16:00:00\",\"1/13/2020 16:00:00\",\"1/14/2020 16:00:00\",\"1/15/2020 16:00:00\",\"1/16/2020 16:00:00\",\"1/17/2020 16:00:00\",\"1/21/2020 16:00:00\",\"1/22/2020 16:00:00\",\"1/23/2020 16:00:00\",\"1/24/2020 16:00:00\",\"1/27/2020 16:00:00\",\"1/28/2020 16:00:00\",\"1/29/2020 16:00:00\",\"1/30/2020 16:00:00\",\"1/31/2020 16:00:00\",\"2/3/2020 16:00:00\",\"2/4/2020 16:00:00\",\"2/5/2020 16:00:00\",\"2/6/2020 16:00:00\",\"2/7/2020 16:00:00\",\"2/10/2020 16:00:00\",\"2/11/2020 16:00:00\",\"2/12/2020 16:00:00\",\"2/13/2020 16:00:00\",\"2/14/2020 16:00:00\",\"2/18/2020 16:00:00\",\"2/19/2020 16:00:00\",\"2/20/2020 16:00:00\",\"2/21/2020 16:00:00\",\"2/24/2020 16:00:00\",\"2/25/2020 16:00:00\",\"2/26/2020 16:00:00\",\"2/27/2020 16:00:00\",\"2/28/2020 16:00:00\",\"3/2/2020 16:00:00\",\"3/3/2020 16:00:00\",\"3/4/2020 16:00:00\",\"3/5/2020 16:00:00\",\"3/6/2020 16:00:00\",\"3/9/2020 16:00:00\",\"3/10/2020 16:00:00\",\"3/11/2020 16:00:00\",\"3/12/2020 16:00:00\",\"3/13/2020 16:00:00\",\"3/16/2020 16:00:00\",\"3/17/2020 16:00:00\",\"3/18/2020 16:00:00\",\"3/19/2020 16:00:00\",\"3/20/2020 16:00:00\",\"3/23/2020 16:00:00\",\"3/24/2020 16:00:00\",\"3/25/2020 16:00:00\",\"3/26/2020 16:00:00\",\"3/27/2020 16:00:00\",\"3/30/2020 16:00:00\",\"3/31/2020 16:00:00\",\"4/1/2020 16:00:00\",\"4/2/2020 16:00:00\",\"4/3/2020 16:00:00\",\"4/6/2020 16:00:00\",\"4/7/2020 16:00:00\",\"4/8/2020 16:00:00\",\"4/9/2020 16:00:00\",\"4/13/2020 16:00:00\",\"4/14/2020 16:00:00\",\"4/15/2020 16:00:00\",\"4/16/2020 16:00:00\",\"4/17/2020 16:00:00\",\"4/20/2020 16:00:00\",\"4/21/2020 16:00:00\",\"4/22/2020 16:00:00\",\"4/23/2020 16:00:00\",\"4/24/2020 16:00:00\",\"4/27/2020 16:00:00\",\"4/28/2020 16:00:00\",\"4/29/2020 16:00:00\",\"4/30/2020 16:00:00\",\"5/1/2020 16:00:00\",\"5/4/2020 16:00:00\",\"5/5/2020 16:00:00\",\"5/6/2020 16:00:00\",\"5/7/2020 16:00:00\",\"5/8/2020 16:00:00\",\"5/11/2020 16:00:00\",\"5/12/2020 16:00:00\",\"5/13/2020 16:00:00\",\"5/14/2020 16:00:00\",\"5/15/2020 16:00:00\",\"5/18/2020 16:00:00\",\"5/19/2020 16:00:00\",\"5/20/2020 16:00:00\",\"5/21/2020 16:00:00\",\"5/22/2020 16:00:00\",\"5/26/2020 16:00:00\",\"5/27/2020 16:00:00\",\"5/28/2020 16:00:00\",\"5/29/2020 16:00:00\",\"6/1/2020 16:00:00\",\"6/2/2020 16:00:00\",\"6/3/2020 16:00:00\",\"6/4/2020 16:00:00\",\"6/5/2020 16:00:00\",\"6/8/2020 16:00:00\",\"6/9/2020 16:00:00\",\"6/10/2020 16:00:00\",\"6/11/2020 16:00:00\",\"6/12/2020 16:00:00\",\"6/15/2020 16:00:00\",\"6/16/2020 16:00:00\",\"6/17/2020 16:00:00\",\"6/18/2020 16:00:00\",\"6/19/2020 16:00:00\",\"6/22/2020 16:00:00\",\"6/23/2020 16:00:00\",\"6/24/2020 16:00:00\",\"6/25/2020 16:00:00\",\"6/26/2020 16:00:00\",\"6/29/2020 16:00:00\",\"6/30/2020 16:00:00\",\"7/1/2020 16:00:00\",\"7/2/2020 16:00:00\",\"7/6/2020 16:00:00\",\"7/7/2020 16:00:00\",\"7/8/2020 16:00:00\",\"7/9/2020 16:00:00\",\"7/10/2020 16:00:00\",\"7/13/2020 16:00:00\",\"7/14/2020 16:00:00\",\"7/15/2020 16:00:00\",\"7/16/2020 16:00:00\",\"7/17/2020 16:00:00\",\"7/20/2020 16:00:00\",\"7/21/2020 16:00:00\",\"7/22/2020 16:00:00\",\"7/23/2020 16:00:00\",\"7/24/2020 16:00:00\",\"7/27/2020 16:00:00\",\"7/28/2020 16:00:00\",\"7/29/2020 16:00:00\",\"7/30/2020 16:00:00\",\"7/31/2020 16:00:00\",\"8/3/2020 16:00:00\",\"8/4/2020 16:00:00\",\"8/5/2020 16:00:00\",\"8/6/2020 16:00:00\",\"8/7/2020 16:00:00\",\"8/10/2020 16:00:00\",\"8/11/2020 16:00:00\",\"8/12/2020 16:00:00\",\"8/13/2020 16:00:00\",\"8/14/2020 16:00:00\",\"8/17/2020 16:00:00\",\"8/18/2020 16:00:00\",\"8/19/2020 16:00:00\",\"8/20/2020 16:00:00\",\"8/21/2020 16:00:00\",\"8/24/2020 16:00:00\",\"8/25/2020 16:00:00\",\"8/26/2020 16:00:00\",\"8/27/2020 16:00:00\",\"8/28/2020 16:00:00\",\"8/31/2020 16:00:00\",\"9/1/2020 16:00:00\",\"9/2/2020 16:00:00\",\"9/3/2020 16:00:00\",\"9/4/2020 16:00:00\",\"9/8/2020 16:00:00\",\"9/9/2020 16:00:00\",\"9/10/2020 16:00:00\",\"9/11/2020 16:00:00\",\"9/14/2020 16:00:00\",\"9/15/2020 16:00:00\",\"9/16/2020 16:00:00\",\"9/17/2020 16:00:00\",\"9/18/2020 16:00:00\",\"9/21/2020 16:00:00\",\"9/22/2020 16:00:00\",\"9/23/2020 16:00:00\",\"9/24/2020 16:00:00\",\"9/25/2020 16:00:00\",\"9/28/2020 16:00:00\",\"9/29/2020 16:00:00\",\"9/30/2020 16:00:00\",\"10/1/2020 16:00:00\",\"10/2/2020 16:00:00\",\"10/5/2020 16:00:00\",\"10/6/2020 16:00:00\",\"10/7/2020 16:00:00\",\"10/8/2020 16:00:00\",\"10/9/2020 16:00:00\",\"10/12/2020 16:00:00\",\"10/13/2020 16:00:00\",\"10/14/2020 16:00:00\",\"10/15/2020 16:00:00\",\"10/16/2020 16:00:00\",\"10/19/2020 16:00:00\",\"10/20/2020 16:00:00\",\"10/21/2020 16:00:00\",\"10/22/2020 16:00:00\",\"10/23/2020 16:00:00\",\"10/26/2020 16:00:00\",\"10/27/2020 16:00:00\",\"10/28/2020 16:00:00\",\"10/29/2020 16:00:00\",\"10/30/2020 16:00:00\"],\"tags\":[[[\"Date\",\"Date\",null]]]},\"id\":\"1687\",\"type\":\"FactorRange\"},{\"attributes\":{},\"id\":\"1737\",\"type\":\"UnionRenderers\"},{\"attributes\":{\"line_alpha\":0.2,\"line_color\":\"#1f77b3\",\"line_width\":2,\"x\":{\"field\":\"Date\"},\"y\":{\"field\":\"Novavax\"}},\"id\":\"1724\",\"type\":\"Line\"},{\"attributes\":{\"line_alpha\":0.1,\"line_color\":\"#1f77b3\",\"line_width\":2,\"x\":{\"field\":\"Date\"},\"y\":{\"field\":\"Novavax\"}},\"id\":\"1723\",\"type\":\"Line\"},{\"attributes\":{},\"id\":\"1697\",\"type\":\"LinearScale\"},{\"attributes\":{},\"id\":\"1710\",\"type\":\"ResetTool\"},{\"attributes\":{\"source\":{\"id\":\"1719\"}},\"id\":\"1726\",\"type\":\"CDSView\"},{\"attributes\":{\"axis\":{\"id\":\"1702\"},\"dimension\":1,\"grid_line_color\":null,\"ticker\":null},\"id\":\"1705\",\"type\":\"Grid\"},{\"attributes\":{\"overlay\":{\"id\":\"1711\"}},\"id\":\"1709\",\"type\":\"BoxZoomTool\"},{\"attributes\":{\"margin\":[5,5,5,5],\"name\":\"HSpacer02856\",\"sizing_mode\":\"stretch_width\"},\"id\":\"1747\",\"type\":\"Spacer\"},{\"attributes\":{\"callback\":null,\"renderers\":[{\"id\":\"1725\"}],\"tags\":[\"hv_created\"],\"tooltips\":[[\"Date\",\"@{Date}\"],[\"Novavax\",\"@{Novavax}\"]]},\"id\":\"1689\",\"type\":\"HoverTool\"},{\"attributes\":{\"end\":195.968,\"reset_end\":195.968,\"reset_start\":-13.527999999999999,\"start\":-13.527999999999999,\"tags\":[[[\"Novavax\",\"Novavax\",null]]]},\"id\":\"1688\",\"type\":\"Range1d\"},{\"attributes\":{},\"id\":\"1707\",\"type\":\"PanTool\"},{\"attributes\":{},\"id\":\"1695\",\"type\":\"CategoricalScale\"},{\"attributes\":{\"active_drag\":\"auto\",\"active_inspect\":\"auto\",\"active_multi\":null,\"active_scroll\":\"auto\",\"active_tap\":\"auto\",\"tools\":[{\"id\":\"1689\"},{\"id\":\"1706\"},{\"id\":\"1707\"},{\"id\":\"1708\"},{\"id\":\"1709\"},{\"id\":\"1710\"}]},\"id\":\"1712\",\"type\":\"Toolbar\"}],\"root_ids\":[\"1685\"]},\"title\":\"Bokeh Application\",\"version\":\"2.1.1\"}};\n",
       "  var render_items = [{\"docid\":\"5cac0c5b-e889-408c-a8d7-93dcd93ef961\",\"root_ids\":[\"1685\"],\"roots\":{\"1685\":\"7feb60cf-8f89-45bb-b374-da2e9461c77f\"}}];\n",
       "  root.Bokeh.embed.embed_items_notebook(docs_json, render_items);\n",
       "  }\n",
       "if (root.Bokeh !== undefined) {\n",
       "    embed_document(root);\n",
       "  } else {\n",
       "    var attempts = 0;\n",
       "    var timer = setInterval(function(root) {\n",
       "      if (root.Bokeh !== undefined) {\n",
       "        clearInterval(timer);\n",
       "        embed_document(root);\n",
       "      } else if (document.readyState == \"complete\") {\n",
       "        attempts++;\n",
       "        if (attempts > 100) {\n",
       "          clearInterval(timer);\n",
       "          console.log(\"Bokeh: ERROR: Unable to run BokehJS code because BokehJS library is missing\");\n",
       "        }\n",
       "      }\n",
       "    }, 10, root)\n",
       "  }\n",
       "})(window);</script>"
      ],
      "text/plain": [
       ":Curve   [Date]   (Novavax)"
      ]
     },
     "execution_count": 21,
     "metadata": {
      "application/vnd.holoviews_exec.v0+json": {
       "id": "1685"
      }
     },
     "output_type": "execute_result"
    }
   ],
   "source": [
    "#Plotting Novavax\n",
    "nvax_data.hvplot()"
   ]
  },
  {
   "cell_type": "code",
   "execution_count": 22,
   "metadata": {},
   "outputs": [
    {
     "data": {
      "text/html": [
       "<div>\n",
       "<style scoped>\n",
       "    .dataframe tbody tr th:only-of-type {\n",
       "        vertical-align: middle;\n",
       "    }\n",
       "\n",
       "    .dataframe tbody tr th {\n",
       "        vertical-align: top;\n",
       "    }\n",
       "\n",
       "    .dataframe thead th {\n",
       "        text-align: right;\n",
       "    }\n",
       "</style>\n",
       "<table border=\"1\" class=\"dataframe\">\n",
       "  <thead>\n",
       "    <tr style=\"text-align: right;\">\n",
       "      <th></th>\n",
       "      <th>Abbott Laboratories</th>\n",
       "      <th>Moderna</th>\n",
       "      <th>Novavax</th>\n",
       "    </tr>\n",
       "    <tr>\n",
       "      <th>Date</th>\n",
       "      <th></th>\n",
       "      <th></th>\n",
       "      <th></th>\n",
       "    </tr>\n",
       "  </thead>\n",
       "  <tbody>\n",
       "    <tr>\n",
       "      <th>1/2/2020 16:00:00</th>\n",
       "      <td>86.95</td>\n",
       "      <td>19.23</td>\n",
       "      <td>4.49</td>\n",
       "    </tr>\n",
       "    <tr>\n",
       "      <th>1/3/2020 16:00:00</th>\n",
       "      <td>85.89</td>\n",
       "      <td>18.89</td>\n",
       "      <td>4.44</td>\n",
       "    </tr>\n",
       "    <tr>\n",
       "      <th>1/6/2020 16:00:00</th>\n",
       "      <td>86.34</td>\n",
       "      <td>18.13</td>\n",
       "      <td>4.58</td>\n",
       "    </tr>\n",
       "    <tr>\n",
       "      <th>1/7/2020 16:00:00</th>\n",
       "      <td>85.86</td>\n",
       "      <td>17.78</td>\n",
       "      <td>4.57</td>\n",
       "    </tr>\n",
       "    <tr>\n",
       "      <th>1/8/2020 16:00:00</th>\n",
       "      <td>86.21</td>\n",
       "      <td>17.98</td>\n",
       "      <td>4.28</td>\n",
       "    </tr>\n",
       "  </tbody>\n",
       "</table>\n",
       "</div>"
      ],
      "text/plain": [
       "                   Abbott Laboratories  Moderna  Novavax\n",
       "Date                                                    \n",
       "1/2/2020 16:00:00                86.95    19.23     4.49\n",
       "1/3/2020 16:00:00                85.89    18.89     4.44\n",
       "1/6/2020 16:00:00                86.34    18.13     4.58\n",
       "1/7/2020 16:00:00                85.86    17.78     4.57\n",
       "1/8/2020 16:00:00                86.21    17.98     4.28"
      ]
     },
     "execution_count": 22,
     "metadata": {},
     "output_type": "execute_result"
    }
   ],
   "source": [
    "vax_data = pd.concat([abt_data , mrna_data, nvax_data], axis='columns', join='inner')\n",
    "vax_data.head()"
   ]
  },
  {
   "cell_type": "code",
   "execution_count": 23,
   "metadata": {},
   "outputs": [
    {
     "data": {
      "application/vnd.holoviews_exec.v0+json": "",
      "text/html": [
       "<div id='1789'>\n",
       "\n",
       "\n",
       "\n",
       "\n",
       "\n",
       "  <div class=\"bk-root\" id=\"1f4c0a48-2b32-457d-896e-f890cf7d51aa\" data-root-id=\"1789\"></div>\n",
       "</div>\n",
       "<script type=\"application/javascript\">(function(root) {\n",
       "  function embed_document(root) {\n",
       "  var docs_json = {\"e1bf1813-09fc-4ce4-87ec-31eef3d94824\":{\"roots\":{\"references\":[{\"attributes\":{\"line_alpha\":0.2,\"line_color\":\"#2ba02b\",\"line_width\":2,\"x\":{\"field\":\"Date\"},\"y\":{\"field\":\"value\"}},\"id\":\"1871\",\"type\":\"Line\"},{\"attributes\":{\"active_drag\":\"auto\",\"active_inspect\":\"auto\",\"active_multi\":null,\"active_scroll\":\"auto\",\"active_tap\":\"auto\",\"tools\":[{\"id\":\"1793\"},{\"id\":\"1812\"},{\"id\":\"1813\"},{\"id\":\"1814\"},{\"id\":\"1815\"},{\"id\":\"1816\"}]},\"id\":\"1818\",\"type\":\"Toolbar\"},{\"attributes\":{},\"id\":\"1830\",\"type\":\"Selection\"},{\"attributes\":{},\"id\":\"1863\",\"type\":\"UnionRenderers\"},{\"attributes\":{\"data\":{\"Date\":[\"1/2/2020 16:00:00\",\"1/3/2020 16:00:00\",\"1/6/2020 16:00:00\",\"1/7/2020 16:00:00\",\"1/8/2020 16:00:00\",\"1/9/2020 16:00:00\",\"1/10/2020 16:00:00\",\"1/13/2020 16:00:00\",\"1/14/2020 16:00:00\",\"1/15/2020 16:00:00\",\"1/16/2020 16:00:00\",\"1/17/2020 16:00:00\",\"1/21/2020 16:00:00\",\"1/22/2020 16:00:00\",\"1/23/2020 16:00:00\",\"1/24/2020 16:00:00\",\"1/27/2020 16:00:00\",\"1/28/2020 16:00:00\",\"1/29/2020 16:00:00\",\"1/30/2020 16:00:00\",\"1/31/2020 16:00:00\",\"2/3/2020 16:00:00\",\"2/4/2020 16:00:00\",\"2/5/2020 16:00:00\",\"2/6/2020 16:00:00\",\"2/7/2020 16:00:00\",\"2/10/2020 16:00:00\",\"2/11/2020 16:00:00\",\"2/12/2020 16:00:00\",\"2/13/2020 16:00:00\",\"2/14/2020 16:00:00\",\"2/18/2020 16:00:00\",\"2/19/2020 16:00:00\",\"2/20/2020 16:00:00\",\"2/21/2020 16:00:00\",\"2/24/2020 16:00:00\",\"2/25/2020 16:00:00\",\"2/26/2020 16:00:00\",\"2/27/2020 16:00:00\",\"2/28/2020 16:00:00\",\"3/2/2020 16:00:00\",\"3/3/2020 16:00:00\",\"3/4/2020 16:00:00\",\"3/5/2020 16:00:00\",\"3/6/2020 16:00:00\",\"3/9/2020 16:00:00\",\"3/10/2020 16:00:00\",\"3/11/2020 16:00:00\",\"3/12/2020 16:00:00\",\"3/13/2020 16:00:00\",\"3/16/2020 16:00:00\",\"3/17/2020 16:00:00\",\"3/18/2020 16:00:00\",\"3/19/2020 16:00:00\",\"3/20/2020 16:00:00\",\"3/23/2020 16:00:00\",\"3/24/2020 16:00:00\",\"3/25/2020 16:00:00\",\"3/26/2020 16:00:00\",\"3/27/2020 16:00:00\",\"3/30/2020 16:00:00\",\"3/31/2020 16:00:00\",\"4/1/2020 16:00:00\",\"4/2/2020 16:00:00\",\"4/3/2020 16:00:00\",\"4/6/2020 16:00:00\",\"4/7/2020 16:00:00\",\"4/8/2020 16:00:00\",\"4/9/2020 16:00:00\",\"4/13/2020 16:00:00\",\"4/14/2020 16:00:00\",\"4/15/2020 16:00:00\",\"4/16/2020 16:00:00\",\"4/17/2020 16:00:00\",\"4/20/2020 16:00:00\",\"4/21/2020 16:00:00\",\"4/22/2020 16:00:00\",\"4/23/2020 16:00:00\",\"4/24/2020 16:00:00\",\"4/27/2020 16:00:00\",\"4/28/2020 16:00:00\",\"4/29/2020 16:00:00\",\"4/30/2020 16:00:00\",\"5/1/2020 16:00:00\",\"5/4/2020 16:00:00\",\"5/5/2020 16:00:00\",\"5/6/2020 16:00:00\",\"5/7/2020 16:00:00\",\"5/8/2020 16:00:00\",\"5/11/2020 16:00:00\",\"5/12/2020 16:00:00\",\"5/13/2020 16:00:00\",\"5/14/2020 16:00:00\",\"5/15/2020 16:00:00\",\"5/18/2020 16:00:00\",\"5/19/2020 16:00:00\",\"5/20/2020 16:00:00\",\"5/21/2020 16:00:00\",\"5/22/2020 16:00:00\",\"5/26/2020 16:00:00\",\"5/27/2020 16:00:00\",\"5/28/2020 16:00:00\",\"5/29/2020 16:00:00\",\"6/1/2020 16:00:00\",\"6/2/2020 16:00:00\",\"6/3/2020 16:00:00\",\"6/4/2020 16:00:00\",\"6/5/2020 16:00:00\",\"6/8/2020 16:00:00\",\"6/9/2020 16:00:00\",\"6/10/2020 16:00:00\",\"6/11/2020 16:00:00\",\"6/12/2020 16:00:00\",\"6/15/2020 16:00:00\",\"6/16/2020 16:00:00\",\"6/17/2020 16:00:00\",\"6/18/2020 16:00:00\",\"6/19/2020 16:00:00\",\"6/22/2020 16:00:00\",\"6/23/2020 16:00:00\",\"6/24/2020 16:00:00\",\"6/25/2020 16:00:00\",\"6/26/2020 16:00:00\",\"6/29/2020 16:00:00\",\"6/30/2020 16:00:00\",\"7/1/2020 16:00:00\",\"7/2/2020 16:00:00\",\"7/6/2020 16:00:00\",\"7/7/2020 16:00:00\",\"7/8/2020 16:00:00\",\"7/9/2020 16:00:00\",\"7/10/2020 16:00:00\",\"7/13/2020 16:00:00\",\"7/14/2020 16:00:00\",\"7/15/2020 16:00:00\",\"7/16/2020 16:00:00\",\"7/17/2020 16:00:00\",\"7/20/2020 16:00:00\",\"7/21/2020 16:00:00\",\"7/22/2020 16:00:00\",\"7/23/2020 16:00:00\",\"7/24/2020 16:00:00\",\"7/27/2020 16:00:00\",\"7/28/2020 16:00:00\",\"7/29/2020 16:00:00\",\"7/30/2020 16:00:00\",\"7/31/2020 16:00:00\",\"8/3/2020 16:00:00\",\"8/4/2020 16:00:00\",\"8/5/2020 16:00:00\",\"8/6/2020 16:00:00\",\"8/7/2020 16:00:00\",\"8/10/2020 16:00:00\",\"8/11/2020 16:00:00\",\"8/12/2020 16:00:00\",\"8/13/2020 16:00:00\",\"8/14/2020 16:00:00\",\"8/17/2020 16:00:00\",\"8/18/2020 16:00:00\",\"8/19/2020 16:00:00\",\"8/20/2020 16:00:00\",\"8/21/2020 16:00:00\",\"8/24/2020 16:00:00\",\"8/25/2020 16:00:00\",\"8/26/2020 16:00:00\",\"8/27/2020 16:00:00\",\"8/28/2020 16:00:00\",\"8/31/2020 16:00:00\",\"9/1/2020 16:00:00\",\"9/2/2020 16:00:00\",\"9/3/2020 16:00:00\",\"9/4/2020 16:00:00\",\"9/8/2020 16:00:00\",\"9/9/2020 16:00:00\",\"9/10/2020 16:00:00\",\"9/11/2020 16:00:00\",\"9/14/2020 16:00:00\",\"9/15/2020 16:00:00\",\"9/16/2020 16:00:00\",\"9/17/2020 16:00:00\",\"9/18/2020 16:00:00\",\"9/21/2020 16:00:00\",\"9/22/2020 16:00:00\",\"9/23/2020 16:00:00\",\"9/24/2020 16:00:00\",\"9/25/2020 16:00:00\",\"9/28/2020 16:00:00\",\"9/29/2020 16:00:00\",\"9/30/2020 16:00:00\",\"10/1/2020 16:00:00\",\"10/2/2020 16:00:00\",\"10/5/2020 16:00:00\",\"10/6/2020 16:00:00\",\"10/7/2020 16:00:00\",\"10/8/2020 16:00:00\",\"10/9/2020 16:00:00\",\"10/12/2020 16:00:00\",\"10/13/2020 16:00:00\",\"10/14/2020 16:00:00\",\"10/15/2020 16:00:00\",\"10/16/2020 16:00:00\",\"10/19/2020 16:00:00\",\"10/20/2020 16:00:00\",\"10/21/2020 16:00:00\",\"10/22/2020 16:00:00\",\"10/23/2020 16:00:00\",\"10/26/2020 16:00:00\",\"10/27/2020 16:00:00\",\"10/28/2020 16:00:00\",\"10/29/2020 16:00:00\",\"10/30/2020 16:00:00\"],\"Variable\":[\"Abbott Laboratories\",\"Abbott Laboratories\",\"Abbott Laboratories\",\"Abbott Laboratories\",\"Abbott Laboratories\",\"Abbott Laboratories\",\"Abbott Laboratories\",\"Abbott Laboratories\",\"Abbott Laboratories\",\"Abbott Laboratories\",\"Abbott Laboratories\",\"Abbott Laboratories\",\"Abbott Laboratories\",\"Abbott Laboratories\",\"Abbott Laboratories\",\"Abbott Laboratories\",\"Abbott Laboratories\",\"Abbott Laboratories\",\"Abbott Laboratories\",\"Abbott Laboratories\",\"Abbott Laboratories\",\"Abbott Laboratories\",\"Abbott Laboratories\",\"Abbott Laboratories\",\"Abbott Laboratories\",\"Abbott Laboratories\",\"Abbott Laboratories\",\"Abbott Laboratories\",\"Abbott Laboratories\",\"Abbott Laboratories\",\"Abbott Laboratories\",\"Abbott Laboratories\",\"Abbott Laboratories\",\"Abbott Laboratories\",\"Abbott Laboratories\",\"Abbott Laboratories\",\"Abbott Laboratories\",\"Abbott Laboratories\",\"Abbott Laboratories\",\"Abbott Laboratories\",\"Abbott Laboratories\",\"Abbott Laboratories\",\"Abbott Laboratories\",\"Abbott Laboratories\",\"Abbott Laboratories\",\"Abbott Laboratories\",\"Abbott Laboratories\",\"Abbott Laboratories\",\"Abbott Laboratories\",\"Abbott Laboratories\",\"Abbott Laboratories\",\"Abbott Laboratories\",\"Abbott Laboratories\",\"Abbott Laboratories\",\"Abbott Laboratories\",\"Abbott Laboratories\",\"Abbott Laboratories\",\"Abbott Laboratories\",\"Abbott Laboratories\",\"Abbott Laboratories\",\"Abbott Laboratories\",\"Abbott Laboratories\",\"Abbott Laboratories\",\"Abbott Laboratories\",\"Abbott Laboratories\",\"Abbott Laboratories\",\"Abbott Laboratories\",\"Abbott Laboratories\",\"Abbott Laboratories\",\"Abbott Laboratories\",\"Abbott Laboratories\",\"Abbott Laboratories\",\"Abbott Laboratories\",\"Abbott Laboratories\",\"Abbott Laboratories\",\"Abbott Laboratories\",\"Abbott Laboratories\",\"Abbott Laboratories\",\"Abbott Laboratories\",\"Abbott Laboratories\",\"Abbott Laboratories\",\"Abbott Laboratories\",\"Abbott Laboratories\",\"Abbott Laboratories\",\"Abbott Laboratories\",\"Abbott Laboratories\",\"Abbott Laboratories\",\"Abbott Laboratories\",\"Abbott Laboratories\",\"Abbott Laboratories\",\"Abbott Laboratories\",\"Abbott Laboratories\",\"Abbott Laboratories\",\"Abbott Laboratories\",\"Abbott Laboratories\",\"Abbott Laboratories\",\"Abbott Laboratories\",\"Abbott Laboratories\",\"Abbott Laboratories\",\"Abbott Laboratories\",\"Abbott Laboratories\",\"Abbott Laboratories\",\"Abbott Laboratories\",\"Abbott Laboratories\",\"Abbott Laboratories\",\"Abbott Laboratories\",\"Abbott Laboratories\",\"Abbott Laboratories\",\"Abbott Laboratories\",\"Abbott Laboratories\",\"Abbott Laboratories\",\"Abbott Laboratories\",\"Abbott Laboratories\",\"Abbott Laboratories\",\"Abbott Laboratories\",\"Abbott Laboratories\",\"Abbott Laboratories\",\"Abbott Laboratories\",\"Abbott Laboratories\",\"Abbott Laboratories\",\"Abbott Laboratories\",\"Abbott Laboratories\",\"Abbott Laboratories\",\"Abbott Laboratories\",\"Abbott Laboratories\",\"Abbott Laboratories\",\"Abbott Laboratories\",\"Abbott Laboratories\",\"Abbott Laboratories\",\"Abbott Laboratories\",\"Abbott Laboratories\",\"Abbott Laboratories\",\"Abbott Laboratories\",\"Abbott Laboratories\",\"Abbott Laboratories\",\"Abbott Laboratories\",\"Abbott Laboratories\",\"Abbott Laboratories\",\"Abbott Laboratories\",\"Abbott Laboratories\",\"Abbott Laboratories\",\"Abbott Laboratories\",\"Abbott Laboratories\",\"Abbott Laboratories\",\"Abbott Laboratories\",\"Abbott Laboratories\",\"Abbott Laboratories\",\"Abbott Laboratories\",\"Abbott Laboratories\",\"Abbott Laboratories\",\"Abbott Laboratories\",\"Abbott Laboratories\",\"Abbott Laboratories\",\"Abbott Laboratories\",\"Abbott Laboratories\",\"Abbott Laboratories\",\"Abbott Laboratories\",\"Abbott Laboratories\",\"Abbott Laboratories\",\"Abbott Laboratories\",\"Abbott Laboratories\",\"Abbott Laboratories\",\"Abbott Laboratories\",\"Abbott Laboratories\",\"Abbott Laboratories\",\"Abbott Laboratories\",\"Abbott Laboratories\",\"Abbott Laboratories\",\"Abbott Laboratories\",\"Abbott Laboratories\",\"Abbott Laboratories\",\"Abbott Laboratories\",\"Abbott Laboratories\",\"Abbott Laboratories\",\"Abbott Laboratories\",\"Abbott Laboratories\",\"Abbott Laboratories\",\"Abbott Laboratories\",\"Abbott Laboratories\",\"Abbott Laboratories\",\"Abbott Laboratories\",\"Abbott Laboratories\",\"Abbott Laboratories\",\"Abbott Laboratories\",\"Abbott Laboratories\",\"Abbott Laboratories\",\"Abbott Laboratories\",\"Abbott Laboratories\",\"Abbott Laboratories\",\"Abbott Laboratories\",\"Abbott Laboratories\",\"Abbott Laboratories\",\"Abbott Laboratories\",\"Abbott Laboratories\",\"Abbott Laboratories\",\"Abbott Laboratories\",\"Abbott Laboratories\",\"Abbott Laboratories\",\"Abbott Laboratories\",\"Abbott Laboratories\",\"Abbott Laboratories\",\"Abbott Laboratories\",\"Abbott Laboratories\",\"Abbott Laboratories\",\"Abbott Laboratories\",\"Abbott Laboratories\",\"Abbott Laboratories\",\"Abbott Laboratories\",\"Abbott Laboratories\",\"Abbott Laboratories\",\"Abbott Laboratories\"],\"value\":{\"__ndarray__\":\"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\",\"dtype\":\"float64\",\"order\":\"little\",\"shape\":[211]}},\"selected\":{\"id\":\"1830\"},\"selection_policy\":{\"id\":\"1843\"}},\"id\":\"1829\",\"type\":\"ColumnDataSource\"},{\"attributes\":{\"align\":null,\"below\":[{\"id\":\"1805\"}],\"center\":[{\"id\":\"1807\"},{\"id\":\"1811\"}],\"left\":[{\"id\":\"1808\"}],\"margin\":null,\"min_border_bottom\":10,\"min_border_left\":10,\"min_border_right\":10,\"min_border_top\":10,\"plot_height\":300,\"plot_width\":700,\"renderers\":[{\"id\":\"1835\"},{\"id\":\"1853\"},{\"id\":\"1872\"}],\"right\":[{\"id\":\"1845\"}],\"sizing_mode\":\"fixed\",\"title\":{\"id\":\"1797\"},\"toolbar\":{\"id\":\"1818\"},\"x_range\":{\"id\":\"1791\"},\"x_scale\":{\"id\":\"1801\"},\"y_range\":{\"id\":\"1792\"},\"y_scale\":{\"id\":\"1803\"}},\"id\":\"1796\",\"subtype\":\"Figure\",\"type\":\"Plot\"},{\"attributes\":{},\"id\":\"1803\",\"type\":\"LinearScale\"},{\"attributes\":{\"line_color\":\"#2ba02b\",\"line_width\":2,\"x\":{\"field\":\"Date\"},\"y\":{\"field\":\"value\"}},\"id\":\"1869\",\"type\":\"Line\"},{\"attributes\":{\"line_color\":\"#1f77b3\",\"line_width\":2,\"x\":{\"field\":\"Date\"},\"y\":{\"field\":\"value\"}},\"id\":\"1832\",\"type\":\"Line\"},{\"attributes\":{\"margin\":[5,5,5,5],\"name\":\"HSpacer03082\",\"sizing_mode\":\"stretch_width\"},\"id\":\"1995\",\"type\":\"Spacer\"},{\"attributes\":{},\"id\":\"1809\",\"type\":\"BasicTicker\"},{\"attributes\":{\"axis\":{\"id\":\"1805\"},\"grid_line_color\":null,\"ticker\":null},\"id\":\"1807\",\"type\":\"Grid\"},{\"attributes\":{},\"id\":\"1816\",\"type\":\"ResetTool\"},{\"attributes\":{\"line_alpha\":0.2,\"line_color\":\"#ff7e0e\",\"line_width\":2,\"x\":{\"field\":\"Date\"},\"y\":{\"field\":\"value\"}},\"id\":\"1852\",\"type\":\"Line\"},{\"attributes\":{\"data\":{\"Date\":[\"1/2/2020 16:00:00\",\"1/3/2020 16:00:00\",\"1/6/2020 16:00:00\",\"1/7/2020 16:00:00\",\"1/8/2020 16:00:00\",\"1/9/2020 16:00:00\",\"1/10/2020 16:00:00\",\"1/13/2020 16:00:00\",\"1/14/2020 16:00:00\",\"1/15/2020 16:00:00\",\"1/16/2020 16:00:00\",\"1/17/2020 16:00:00\",\"1/21/2020 16:00:00\",\"1/22/2020 16:00:00\",\"1/23/2020 16:00:00\",\"1/24/2020 16:00:00\",\"1/27/2020 16:00:00\",\"1/28/2020 16:00:00\",\"1/29/2020 16:00:00\",\"1/30/2020 16:00:00\",\"1/31/2020 16:00:00\",\"2/3/2020 16:00:00\",\"2/4/2020 16:00:00\",\"2/5/2020 16:00:00\",\"2/6/2020 16:00:00\",\"2/7/2020 16:00:00\",\"2/10/2020 16:00:00\",\"2/11/2020 16:00:00\",\"2/12/2020 16:00:00\",\"2/13/2020 16:00:00\",\"2/14/2020 16:00:00\",\"2/18/2020 16:00:00\",\"2/19/2020 16:00:00\",\"2/20/2020 16:00:00\",\"2/21/2020 16:00:00\",\"2/24/2020 16:00:00\",\"2/25/2020 16:00:00\",\"2/26/2020 16:00:00\",\"2/27/2020 16:00:00\",\"2/28/2020 16:00:00\",\"3/2/2020 16:00:00\",\"3/3/2020 16:00:00\",\"3/4/2020 16:00:00\",\"3/5/2020 16:00:00\",\"3/6/2020 16:00:00\",\"3/9/2020 16:00:00\",\"3/10/2020 16:00:00\",\"3/11/2020 16:00:00\",\"3/12/2020 16:00:00\",\"3/13/2020 16:00:00\",\"3/16/2020 16:00:00\",\"3/17/2020 16:00:00\",\"3/18/2020 16:00:00\",\"3/19/2020 16:00:00\",\"3/20/2020 16:00:00\",\"3/23/2020 16:00:00\",\"3/24/2020 16:00:00\",\"3/25/2020 16:00:00\",\"3/26/2020 16:00:00\",\"3/27/2020 16:00:00\",\"3/30/2020 16:00:00\",\"3/31/2020 16:00:00\",\"4/1/2020 16:00:00\",\"4/2/2020 16:00:00\",\"4/3/2020 16:00:00\",\"4/6/2020 16:00:00\",\"4/7/2020 16:00:00\",\"4/8/2020 16:00:00\",\"4/9/2020 16:00:00\",\"4/13/2020 16:00:00\",\"4/14/2020 16:00:00\",\"4/15/2020 16:00:00\",\"4/16/2020 16:00:00\",\"4/17/2020 16:00:00\",\"4/20/2020 16:00:00\",\"4/21/2020 16:00:00\",\"4/22/2020 16:00:00\",\"4/23/2020 16:00:00\",\"4/24/2020 16:00:00\",\"4/27/2020 16:00:00\",\"4/28/2020 16:00:00\",\"4/29/2020 16:00:00\",\"4/30/2020 16:00:00\",\"5/1/2020 16:00:00\",\"5/4/2020 16:00:00\",\"5/5/2020 16:00:00\",\"5/6/2020 16:00:00\",\"5/7/2020 16:00:00\",\"5/8/2020 16:00:00\",\"5/11/2020 16:00:00\",\"5/12/2020 16:00:00\",\"5/13/2020 16:00:00\",\"5/14/2020 16:00:00\",\"5/15/2020 16:00:00\",\"5/18/2020 16:00:00\",\"5/19/2020 16:00:00\",\"5/20/2020 16:00:00\",\"5/21/2020 16:00:00\",\"5/22/2020 16:00:00\",\"5/26/2020 16:00:00\",\"5/27/2020 16:00:00\",\"5/28/2020 16:00:00\",\"5/29/2020 16:00:00\",\"6/1/2020 16:00:00\",\"6/2/2020 16:00:00\",\"6/3/2020 16:00:00\",\"6/4/2020 16:00:00\",\"6/5/2020 16:00:00\",\"6/8/2020 16:00:00\",\"6/9/2020 16:00:00\",\"6/10/2020 16:00:00\",\"6/11/2020 16:00:00\",\"6/12/2020 16:00:00\",\"6/15/2020 16:00:00\",\"6/16/2020 16:00:00\",\"6/17/2020 16:00:00\",\"6/18/2020 16:00:00\",\"6/19/2020 16:00:00\",\"6/22/2020 16:00:00\",\"6/23/2020 16:00:00\",\"6/24/2020 16:00:00\",\"6/25/2020 16:00:00\",\"6/26/2020 16:00:00\",\"6/29/2020 16:00:00\",\"6/30/2020 16:00:00\",\"7/1/2020 16:00:00\",\"7/2/2020 16:00:00\",\"7/6/2020 16:00:00\",\"7/7/2020 16:00:00\",\"7/8/2020 16:00:00\",\"7/9/2020 16:00:00\",\"7/10/2020 16:00:00\",\"7/13/2020 16:00:00\",\"7/14/2020 16:00:00\",\"7/15/2020 16:00:00\",\"7/16/2020 16:00:00\",\"7/17/2020 16:00:00\",\"7/20/2020 16:00:00\",\"7/21/2020 16:00:00\",\"7/22/2020 16:00:00\",\"7/23/2020 16:00:00\",\"7/24/2020 16:00:00\",\"7/27/2020 16:00:00\",\"7/28/2020 16:00:00\",\"7/29/2020 16:00:00\",\"7/30/2020 16:00:00\",\"7/31/2020 16:00:00\",\"8/3/2020 16:00:00\",\"8/4/2020 16:00:00\",\"8/5/2020 16:00:00\",\"8/6/2020 16:00:00\",\"8/7/2020 16:00:00\",\"8/10/2020 16:00:00\",\"8/11/2020 16:00:00\",\"8/12/2020 16:00:00\",\"8/13/2020 16:00:00\",\"8/14/2020 16:00:00\",\"8/17/2020 16:00:00\",\"8/18/2020 16:00:00\",\"8/19/2020 16:00:00\",\"8/20/2020 16:00:00\",\"8/21/2020 16:00:00\",\"8/24/2020 16:00:00\",\"8/25/2020 16:00:00\",\"8/26/2020 16:00:00\",\"8/27/2020 16:00:00\",\"8/28/2020 16:00:00\",\"8/31/2020 16:00:00\",\"9/1/2020 16:00:00\",\"9/2/2020 16:00:00\",\"9/3/2020 16:00:00\",\"9/4/2020 16:00:00\",\"9/8/2020 16:00:00\",\"9/9/2020 16:00:00\",\"9/10/2020 16:00:00\",\"9/11/2020 16:00:00\",\"9/14/2020 16:00:00\",\"9/15/2020 16:00:00\",\"9/16/2020 16:00:00\",\"9/17/2020 16:00:00\",\"9/18/2020 16:00:00\",\"9/21/2020 16:00:00\",\"9/22/2020 16:00:00\",\"9/23/2020 16:00:00\",\"9/24/2020 16:00:00\",\"9/25/2020 16:00:00\",\"9/28/2020 16:00:00\",\"9/29/2020 16:00:00\",\"9/30/2020 16:00:00\",\"10/1/2020 16:00:00\",\"10/2/2020 16:00:00\",\"10/5/2020 16:00:00\",\"10/6/2020 16:00:00\",\"10/7/2020 16:00:00\",\"10/8/2020 16:00:00\",\"10/9/2020 16:00:00\",\"10/12/2020 16:00:00\",\"10/13/2020 16:00:00\",\"10/14/2020 16:00:00\",\"10/15/2020 16:00:00\",\"10/16/2020 16:00:00\",\"10/19/2020 16:00:00\",\"10/20/2020 16:00:00\",\"10/21/2020 16:00:00\",\"10/22/2020 16:00:00\",\"10/23/2020 16:00:00\",\"10/26/2020 16:00:00\",\"10/27/2020 16:00:00\",\"10/28/2020 16:00:00\",\"10/29/2020 16:00:00\",\"10/30/2020 16:00:00\"],\"Variable\":[\"Novavax\",\"Novavax\",\"Novavax\",\"Novavax\",\"Novavax\",\"Novavax\",\"Novavax\",\"Novavax\",\"Novavax\",\"Novavax\",\"Novavax\",\"Novavax\",\"Novavax\",\"Novavax\",\"Novavax\",\"Novavax\",\"Novavax\",\"Novavax\",\"Novavax\",\"Novavax\",\"Novavax\",\"Novavax\",\"Novavax\",\"Novavax\",\"Novavax\",\"Novavax\",\"Novavax\",\"Novavax\",\"Novavax\",\"Novavax\",\"Novavax\",\"Novavax\",\"Novavax\",\"Novavax\",\"Novavax\",\"Novavax\",\"Novavax\",\"Novavax\",\"Novavax\",\"Novavax\",\"Novavax\",\"Novavax\",\"Novavax\",\"Novavax\",\"Novavax\",\"Novavax\",\"Novavax\",\"Novavax\",\"Novavax\",\"Novavax\",\"Novavax\",\"Novavax\",\"Novavax\",\"Novavax\",\"Novavax\",\"Novavax\",\"Novavax\",\"Novavax\",\"Novavax\",\"Novavax\",\"Novavax\",\"Novavax\",\"Novavax\",\"Novavax\",\"Novavax\",\"Novavax\",\"Novavax\",\"Novavax\",\"Novavax\",\"Novavax\",\"Novavax\",\"Novavax\",\"Novavax\",\"Novavax\",\"Novavax\",\"Novavax\",\"Novavax\",\"Novavax\",\"Novavax\",\"Novavax\",\"Novavax\",\"Novavax\",\"Novavax\",\"Novavax\",\"Novavax\",\"Novavax\",\"Novavax\",\"Novavax\",\"Novavax\",\"Novavax\",\"Novavax\",\"Novavax\",\"Novavax\",\"Novavax\",\"Novavax\",\"Novavax\",\"Novavax\",\"Novavax\",\"Novavax\",\"Novavax\",\"Novavax\",\"Novavax\",\"Novavax\",\"Novavax\",\"Novavax\",\"Novavax\",\"Novavax\",\"Novavax\",\"Novavax\",\"Novavax\",\"Novavax\",\"Novavax\",\"Novavax\",\"Novavax\",\"Novavax\",\"Novavax\",\"Novavax\",\"Novavax\",\"Novavax\",\"Novavax\",\"Novavax\",\"Novavax\",\"Novavax\",\"Novavax\",\"Novavax\",\"Novavax\",\"Novavax\",\"Novavax\",\"Novavax\",\"Novavax\",\"Novavax\",\"Novavax\",\"Novavax\",\"Novavax\",\"Novavax\",\"Novavax\",\"Novavax\",\"Novavax\",\"Novavax\",\"Novavax\",\"Novavax\",\"Novavax\",\"Novavax\",\"Novavax\",\"Novavax\",\"Novavax\",\"Novavax\",\"Novavax\",\"Novavax\",\"Novavax\",\"Novavax\",\"Novavax\",\"Novavax\",\"Novavax\",\"Novavax\",\"Novavax\",\"Novavax\",\"Novavax\",\"Novavax\",\"Novavax\",\"Novavax\",\"Novavax\",\"Novavax\",\"Novavax\",\"Novavax\",\"Novavax\",\"Novavax\",\"Novavax\",\"Novavax\",\"Novavax\",\"Novavax\",\"Novavax\",\"Novavax\",\"Novavax\",\"Novavax\",\"Novavax\",\"Novavax\",\"Novavax\",\"Novavax\",\"Novavax\",\"Novavax\",\"Novavax\",\"Novavax\",\"Novavax\",\"Novavax\",\"Novavax\",\"Novavax\",\"Novavax\",\"Novavax\",\"Novavax\",\"Novavax\",\"Novavax\",\"Novavax\",\"Novavax\",\"Novavax\",\"Novavax\",\"Novavax\",\"Novavax\",\"Novavax\",\"Novavax\",\"Novavax\",\"Novavax\",\"Novavax\",\"Novavax\",\"Novavax\",\"Novavax\",\"Novavax\",\"Novavax\",\"Novavax\",\"Novavax\",\"Novavax\"],\"value\":{\"__ndarray__\":\"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\",\"dtype\":\"float64\",\"order\":\"little\",\"shape\":[211]}},\"selected\":{\"id\":\"1867\"},\"selection_policy\":{\"id\":\"1884\"}},\"id\":\"1866\",\"type\":\"ColumnDataSource\"},{\"attributes\":{\"text\":\"\",\"text_color\":{\"value\":\"black\"},\"text_font_size\":{\"value\":\"12pt\"}},\"id\":\"1797\",\"type\":\"Title\"},{\"attributes\":{\"source\":{\"id\":\"1847\"}},\"id\":\"1854\",\"type\":\"CDSView\"},{\"attributes\":{},\"id\":\"1867\",\"type\":\"Selection\"},{\"attributes\":{\"overlay\":{\"id\":\"1817\"}},\"id\":\"1815\",\"type\":\"BoxZoomTool\"},{\"attributes\":{\"label\":{\"value\":\"Abbott Laboratories\"},\"renderers\":[{\"id\":\"1835\"}]},\"id\":\"1846\",\"type\":\"LegendItem\"},{\"attributes\":{},\"id\":\"1806\",\"type\":\"CategoricalTicker\"},{\"attributes\":{\"label\":{\"value\":\"Novavax\"},\"renderers\":[{\"id\":\"1872\"}]},\"id\":\"1886\",\"type\":\"LegendItem\"},{\"attributes\":{\"factors\":[\"1/2/2020 16:00:00\",\"1/3/2020 16:00:00\",\"1/6/2020 16:00:00\",\"1/7/2020 16:00:00\",\"1/8/2020 16:00:00\",\"1/9/2020 16:00:00\",\"1/10/2020 16:00:00\",\"1/13/2020 16:00:00\",\"1/14/2020 16:00:00\",\"1/15/2020 16:00:00\",\"1/16/2020 16:00:00\",\"1/17/2020 16:00:00\",\"1/21/2020 16:00:00\",\"1/22/2020 16:00:00\",\"1/23/2020 16:00:00\",\"1/24/2020 16:00:00\",\"1/27/2020 16:00:00\",\"1/28/2020 16:00:00\",\"1/29/2020 16:00:00\",\"1/30/2020 16:00:00\",\"1/31/2020 16:00:00\",\"2/3/2020 16:00:00\",\"2/4/2020 16:00:00\",\"2/5/2020 16:00:00\",\"2/6/2020 16:00:00\",\"2/7/2020 16:00:00\",\"2/10/2020 16:00:00\",\"2/11/2020 16:00:00\",\"2/12/2020 16:00:00\",\"2/13/2020 16:00:00\",\"2/14/2020 16:00:00\",\"2/18/2020 16:00:00\",\"2/19/2020 16:00:00\",\"2/20/2020 16:00:00\",\"2/21/2020 16:00:00\",\"2/24/2020 16:00:00\",\"2/25/2020 16:00:00\",\"2/26/2020 16:00:00\",\"2/27/2020 16:00:00\",\"2/28/2020 16:00:00\",\"3/2/2020 16:00:00\",\"3/3/2020 16:00:00\",\"3/4/2020 16:00:00\",\"3/5/2020 16:00:00\",\"3/6/2020 16:00:00\",\"3/9/2020 16:00:00\",\"3/10/2020 16:00:00\",\"3/11/2020 16:00:00\",\"3/12/2020 16:00:00\",\"3/13/2020 16:00:00\",\"3/16/2020 16:00:00\",\"3/17/2020 16:00:00\",\"3/18/2020 16:00:00\",\"3/19/2020 16:00:00\",\"3/20/2020 16:00:00\",\"3/23/2020 16:00:00\",\"3/24/2020 16:00:00\",\"3/25/2020 16:00:00\",\"3/26/2020 16:00:00\",\"3/27/2020 16:00:00\",\"3/30/2020 16:00:00\",\"3/31/2020 16:00:00\",\"4/1/2020 16:00:00\",\"4/2/2020 16:00:00\",\"4/3/2020 16:00:00\",\"4/6/2020 16:00:00\",\"4/7/2020 16:00:00\",\"4/8/2020 16:00:00\",\"4/9/2020 16:00:00\",\"4/13/2020 16:00:00\",\"4/14/2020 16:00:00\",\"4/15/2020 16:00:00\",\"4/16/2020 16:00:00\",\"4/17/2020 16:00:00\",\"4/20/2020 16:00:00\",\"4/21/2020 16:00:00\",\"4/22/2020 16:00:00\",\"4/23/2020 16:00:00\",\"4/24/2020 16:00:00\",\"4/27/2020 16:00:00\",\"4/28/2020 16:00:00\",\"4/29/2020 16:00:00\",\"4/30/2020 16:00:00\",\"5/1/2020 16:00:00\",\"5/4/2020 16:00:00\",\"5/5/2020 16:00:00\",\"5/6/2020 16:00:00\",\"5/7/2020 16:00:00\",\"5/8/2020 16:00:00\",\"5/11/2020 16:00:00\",\"5/12/2020 16:00:00\",\"5/13/2020 16:00:00\",\"5/14/2020 16:00:00\",\"5/15/2020 16:00:00\",\"5/18/2020 16:00:00\",\"5/19/2020 16:00:00\",\"5/20/2020 16:00:00\",\"5/21/2020 16:00:00\",\"5/22/2020 16:00:00\",\"5/26/2020 16:00:00\",\"5/27/2020 16:00:00\",\"5/28/2020 16:00:00\",\"5/29/2020 16:00:00\",\"6/1/2020 16:00:00\",\"6/2/2020 16:00:00\",\"6/3/2020 16:00:00\",\"6/4/2020 16:00:00\",\"6/5/2020 16:00:00\",\"6/8/2020 16:00:00\",\"6/9/2020 16:00:00\",\"6/10/2020 16:00:00\",\"6/11/2020 16:00:00\",\"6/12/2020 16:00:00\",\"6/15/2020 16:00:00\",\"6/16/2020 16:00:00\",\"6/17/2020 16:00:00\",\"6/18/2020 16:00:00\",\"6/19/2020 16:00:00\",\"6/22/2020 16:00:00\",\"6/23/2020 16:00:00\",\"6/24/2020 16:00:00\",\"6/25/2020 16:00:00\",\"6/26/2020 16:00:00\",\"6/29/2020 16:00:00\",\"6/30/2020 16:00:00\",\"7/1/2020 16:00:00\",\"7/2/2020 16:00:00\",\"7/6/2020 16:00:00\",\"7/7/2020 16:00:00\",\"7/8/2020 16:00:00\",\"7/9/2020 16:00:00\",\"7/10/2020 16:00:00\",\"7/13/2020 16:00:00\",\"7/14/2020 16:00:00\",\"7/15/2020 16:00:00\",\"7/16/2020 16:00:00\",\"7/17/2020 16:00:00\",\"7/20/2020 16:00:00\",\"7/21/2020 16:00:00\",\"7/22/2020 16:00:00\",\"7/23/2020 16:00:00\",\"7/24/2020 16:00:00\",\"7/27/2020 16:00:00\",\"7/28/2020 16:00:00\",\"7/29/2020 16:00:00\",\"7/30/2020 16:00:00\",\"7/31/2020 16:00:00\",\"8/3/2020 16:00:00\",\"8/4/2020 16:00:00\",\"8/5/2020 16:00:00\",\"8/6/2020 16:00:00\",\"8/7/2020 16:00:00\",\"8/10/2020 16:00:00\",\"8/11/2020 16:00:00\",\"8/12/2020 16:00:00\",\"8/13/2020 16:00:00\",\"8/14/2020 16:00:00\",\"8/17/2020 16:00:00\",\"8/18/2020 16:00:00\",\"8/19/2020 16:00:00\",\"8/20/2020 16:00:00\",\"8/21/2020 16:00:00\",\"8/24/2020 16:00:00\",\"8/25/2020 16:00:00\",\"8/26/2020 16:00:00\",\"8/27/2020 16:00:00\",\"8/28/2020 16:00:00\",\"8/31/2020 16:00:00\",\"9/1/2020 16:00:00\",\"9/2/2020 16:00:00\",\"9/3/2020 16:00:00\",\"9/4/2020 16:00:00\",\"9/8/2020 16:00:00\",\"9/9/2020 16:00:00\",\"9/10/2020 16:00:00\",\"9/11/2020 16:00:00\",\"9/14/2020 16:00:00\",\"9/15/2020 16:00:00\",\"9/16/2020 16:00:00\",\"9/17/2020 16:00:00\",\"9/18/2020 16:00:00\",\"9/21/2020 16:00:00\",\"9/22/2020 16:00:00\",\"9/23/2020 16:00:00\",\"9/24/2020 16:00:00\",\"9/25/2020 16:00:00\",\"9/28/2020 16:00:00\",\"9/29/2020 16:00:00\",\"9/30/2020 16:00:00\",\"10/1/2020 16:00:00\",\"10/2/2020 16:00:00\",\"10/5/2020 16:00:00\",\"10/6/2020 16:00:00\",\"10/7/2020 16:00:00\",\"10/8/2020 16:00:00\",\"10/9/2020 16:00:00\",\"10/12/2020 16:00:00\",\"10/13/2020 16:00:00\",\"10/14/2020 16:00:00\",\"10/15/2020 16:00:00\",\"10/16/2020 16:00:00\",\"10/19/2020 16:00:00\",\"10/20/2020 16:00:00\",\"10/21/2020 16:00:00\",\"10/22/2020 16:00:00\",\"10/23/2020 16:00:00\",\"10/26/2020 16:00:00\",\"10/27/2020 16:00:00\",\"10/28/2020 16:00:00\",\"10/29/2020 16:00:00\",\"10/30/2020 16:00:00\"],\"tags\":[[[\"Date\",\"Date\",null]]]},\"id\":\"1791\",\"type\":\"FactorRange\"},{\"attributes\":{},\"id\":\"1814\",\"type\":\"WheelZoomTool\"},{\"attributes\":{\"data_source\":{\"id\":\"1866\"},\"glyph\":{\"id\":\"1869\"},\"hover_glyph\":null,\"muted_glyph\":{\"id\":\"1871\"},\"nonselection_glyph\":{\"id\":\"1870\"},\"selection_glyph\":null,\"view\":{\"id\":\"1873\"}},\"id\":\"1872\",\"type\":\"GlyphRenderer\"},{\"attributes\":{},\"id\":\"1812\",\"type\":\"SaveTool\"},{\"attributes\":{},\"id\":\"1828\",\"type\":\"BasicTickFormatter\"},{\"attributes\":{},\"id\":\"1813\",\"type\":\"PanTool\"},{\"attributes\":{\"source\":{\"id\":\"1829\"}},\"id\":\"1836\",\"type\":\"CDSView\"},{\"attributes\":{},\"id\":\"1884\",\"type\":\"UnionRenderers\"},{\"attributes\":{\"line_alpha\":0.2,\"line_color\":\"#1f77b3\",\"line_width\":2,\"x\":{\"field\":\"Date\"},\"y\":{\"field\":\"value\"}},\"id\":\"1834\",\"type\":\"Line\"},{\"attributes\":{\"data\":{\"Date\":[\"1/2/2020 16:00:00\",\"1/3/2020 16:00:00\",\"1/6/2020 16:00:00\",\"1/7/2020 16:00:00\",\"1/8/2020 16:00:00\",\"1/9/2020 16:00:00\",\"1/10/2020 16:00:00\",\"1/13/2020 16:00:00\",\"1/14/2020 16:00:00\",\"1/15/2020 16:00:00\",\"1/16/2020 16:00:00\",\"1/17/2020 16:00:00\",\"1/21/2020 16:00:00\",\"1/22/2020 16:00:00\",\"1/23/2020 16:00:00\",\"1/24/2020 16:00:00\",\"1/27/2020 16:00:00\",\"1/28/2020 16:00:00\",\"1/29/2020 16:00:00\",\"1/30/2020 16:00:00\",\"1/31/2020 16:00:00\",\"2/3/2020 16:00:00\",\"2/4/2020 16:00:00\",\"2/5/2020 16:00:00\",\"2/6/2020 16:00:00\",\"2/7/2020 16:00:00\",\"2/10/2020 16:00:00\",\"2/11/2020 16:00:00\",\"2/12/2020 16:00:00\",\"2/13/2020 16:00:00\",\"2/14/2020 16:00:00\",\"2/18/2020 16:00:00\",\"2/19/2020 16:00:00\",\"2/20/2020 16:00:00\",\"2/21/2020 16:00:00\",\"2/24/2020 16:00:00\",\"2/25/2020 16:00:00\",\"2/26/2020 16:00:00\",\"2/27/2020 16:00:00\",\"2/28/2020 16:00:00\",\"3/2/2020 16:00:00\",\"3/3/2020 16:00:00\",\"3/4/2020 16:00:00\",\"3/5/2020 16:00:00\",\"3/6/2020 16:00:00\",\"3/9/2020 16:00:00\",\"3/10/2020 16:00:00\",\"3/11/2020 16:00:00\",\"3/12/2020 16:00:00\",\"3/13/2020 16:00:00\",\"3/16/2020 16:00:00\",\"3/17/2020 16:00:00\",\"3/18/2020 16:00:00\",\"3/19/2020 16:00:00\",\"3/20/2020 16:00:00\",\"3/23/2020 16:00:00\",\"3/24/2020 16:00:00\",\"3/25/2020 16:00:00\",\"3/26/2020 16:00:00\",\"3/27/2020 16:00:00\",\"3/30/2020 16:00:00\",\"3/31/2020 16:00:00\",\"4/1/2020 16:00:00\",\"4/2/2020 16:00:00\",\"4/3/2020 16:00:00\",\"4/6/2020 16:00:00\",\"4/7/2020 16:00:00\",\"4/8/2020 16:00:00\",\"4/9/2020 16:00:00\",\"4/13/2020 16:00:00\",\"4/14/2020 16:00:00\",\"4/15/2020 16:00:00\",\"4/16/2020 16:00:00\",\"4/17/2020 16:00:00\",\"4/20/2020 16:00:00\",\"4/21/2020 16:00:00\",\"4/22/2020 16:00:00\",\"4/23/2020 16:00:00\",\"4/24/2020 16:00:00\",\"4/27/2020 16:00:00\",\"4/28/2020 16:00:00\",\"4/29/2020 16:00:00\",\"4/30/2020 16:00:00\",\"5/1/2020 16:00:00\",\"5/4/2020 16:00:00\",\"5/5/2020 16:00:00\",\"5/6/2020 16:00:00\",\"5/7/2020 16:00:00\",\"5/8/2020 16:00:00\",\"5/11/2020 16:00:00\",\"5/12/2020 16:00:00\",\"5/13/2020 16:00:00\",\"5/14/2020 16:00:00\",\"5/15/2020 16:00:00\",\"5/18/2020 16:00:00\",\"5/19/2020 16:00:00\",\"5/20/2020 16:00:00\",\"5/21/2020 16:00:00\",\"5/22/2020 16:00:00\",\"5/26/2020 16:00:00\",\"5/27/2020 16:00:00\",\"5/28/2020 16:00:00\",\"5/29/2020 16:00:00\",\"6/1/2020 16:00:00\",\"6/2/2020 16:00:00\",\"6/3/2020 16:00:00\",\"6/4/2020 16:00:00\",\"6/5/2020 16:00:00\",\"6/8/2020 16:00:00\",\"6/9/2020 16:00:00\",\"6/10/2020 16:00:00\",\"6/11/2020 16:00:00\",\"6/12/2020 16:00:00\",\"6/15/2020 16:00:00\",\"6/16/2020 16:00:00\",\"6/17/2020 16:00:00\",\"6/18/2020 16:00:00\",\"6/19/2020 16:00:00\",\"6/22/2020 16:00:00\",\"6/23/2020 16:00:00\",\"6/24/2020 16:00:00\",\"6/25/2020 16:00:00\",\"6/26/2020 16:00:00\",\"6/29/2020 16:00:00\",\"6/30/2020 16:00:00\",\"7/1/2020 16:00:00\",\"7/2/2020 16:00:00\",\"7/6/2020 16:00:00\",\"7/7/2020 16:00:00\",\"7/8/2020 16:00:00\",\"7/9/2020 16:00:00\",\"7/10/2020 16:00:00\",\"7/13/2020 16:00:00\",\"7/14/2020 16:00:00\",\"7/15/2020 16:00:00\",\"7/16/2020 16:00:00\",\"7/17/2020 16:00:00\",\"7/20/2020 16:00:00\",\"7/21/2020 16:00:00\",\"7/22/2020 16:00:00\",\"7/23/2020 16:00:00\",\"7/24/2020 16:00:00\",\"7/27/2020 16:00:00\",\"7/28/2020 16:00:00\",\"7/29/2020 16:00:00\",\"7/30/2020 16:00:00\",\"7/31/2020 16:00:00\",\"8/3/2020 16:00:00\",\"8/4/2020 16:00:00\",\"8/5/2020 16:00:00\",\"8/6/2020 16:00:00\",\"8/7/2020 16:00:00\",\"8/10/2020 16:00:00\",\"8/11/2020 16:00:00\",\"8/12/2020 16:00:00\",\"8/13/2020 16:00:00\",\"8/14/2020 16:00:00\",\"8/17/2020 16:00:00\",\"8/18/2020 16:00:00\",\"8/19/2020 16:00:00\",\"8/20/2020 16:00:00\",\"8/21/2020 16:00:00\",\"8/24/2020 16:00:00\",\"8/25/2020 16:00:00\",\"8/26/2020 16:00:00\",\"8/27/2020 16:00:00\",\"8/28/2020 16:00:00\",\"8/31/2020 16:00:00\",\"9/1/2020 16:00:00\",\"9/2/2020 16:00:00\",\"9/3/2020 16:00:00\",\"9/4/2020 16:00:00\",\"9/8/2020 16:00:00\",\"9/9/2020 16:00:00\",\"9/10/2020 16:00:00\",\"9/11/2020 16:00:00\",\"9/14/2020 16:00:00\",\"9/15/2020 16:00:00\",\"9/16/2020 16:00:00\",\"9/17/2020 16:00:00\",\"9/18/2020 16:00:00\",\"9/21/2020 16:00:00\",\"9/22/2020 16:00:00\",\"9/23/2020 16:00:00\",\"9/24/2020 16:00:00\",\"9/25/2020 16:00:00\",\"9/28/2020 16:00:00\",\"9/29/2020 16:00:00\",\"9/30/2020 16:00:00\",\"10/1/2020 16:00:00\",\"10/2/2020 16:00:00\",\"10/5/2020 16:00:00\",\"10/6/2020 16:00:00\",\"10/7/2020 16:00:00\",\"10/8/2020 16:00:00\",\"10/9/2020 16:00:00\",\"10/12/2020 16:00:00\",\"10/13/2020 16:00:00\",\"10/14/2020 16:00:00\",\"10/15/2020 16:00:00\",\"10/16/2020 16:00:00\",\"10/19/2020 16:00:00\",\"10/20/2020 16:00:00\",\"10/21/2020 16:00:00\",\"10/22/2020 16:00:00\",\"10/23/2020 16:00:00\",\"10/26/2020 16:00:00\",\"10/27/2020 16:00:00\",\"10/28/2020 16:00:00\",\"10/29/2020 16:00:00\",\"10/30/2020 16:00:00\"],\"Variable\":[\"Moderna\",\"Moderna\",\"Moderna\",\"Moderna\",\"Moderna\",\"Moderna\",\"Moderna\",\"Moderna\",\"Moderna\",\"Moderna\",\"Moderna\",\"Moderna\",\"Moderna\",\"Moderna\",\"Moderna\",\"Moderna\",\"Moderna\",\"Moderna\",\"Moderna\",\"Moderna\",\"Moderna\",\"Moderna\",\"Moderna\",\"Moderna\",\"Moderna\",\"Moderna\",\"Moderna\",\"Moderna\",\"Moderna\",\"Moderna\",\"Moderna\",\"Moderna\",\"Moderna\",\"Moderna\",\"Moderna\",\"Moderna\",\"Moderna\",\"Moderna\",\"Moderna\",\"Moderna\",\"Moderna\",\"Moderna\",\"Moderna\",\"Moderna\",\"Moderna\",\"Moderna\",\"Moderna\",\"Moderna\",\"Moderna\",\"Moderna\",\"Moderna\",\"Moderna\",\"Moderna\",\"Moderna\",\"Moderna\",\"Moderna\",\"Moderna\",\"Moderna\",\"Moderna\",\"Moderna\",\"Moderna\",\"Moderna\",\"Moderna\",\"Moderna\",\"Moderna\",\"Moderna\",\"Moderna\",\"Moderna\",\"Moderna\",\"Moderna\",\"Moderna\",\"Moderna\",\"Moderna\",\"Moderna\",\"Moderna\",\"Moderna\",\"Moderna\",\"Moderna\",\"Moderna\",\"Moderna\",\"Moderna\",\"Moderna\",\"Moderna\",\"Moderna\",\"Moderna\",\"Moderna\",\"Moderna\",\"Moderna\",\"Moderna\",\"Moderna\",\"Moderna\",\"Moderna\",\"Moderna\",\"Moderna\",\"Moderna\",\"Moderna\",\"Moderna\",\"Moderna\",\"Moderna\",\"Moderna\",\"Moderna\",\"Moderna\",\"Moderna\",\"Moderna\",\"Moderna\",\"Moderna\",\"Moderna\",\"Moderna\",\"Moderna\",\"Moderna\",\"Moderna\",\"Moderna\",\"Moderna\",\"Moderna\",\"Moderna\",\"Moderna\",\"Moderna\",\"Moderna\",\"Moderna\",\"Moderna\",\"Moderna\",\"Moderna\",\"Moderna\",\"Moderna\",\"Moderna\",\"Moderna\",\"Moderna\",\"Moderna\",\"Moderna\",\"Moderna\",\"Moderna\",\"Moderna\",\"Moderna\",\"Moderna\",\"Moderna\",\"Moderna\",\"Moderna\",\"Moderna\",\"Moderna\",\"Moderna\",\"Moderna\",\"Moderna\",\"Moderna\",\"Moderna\",\"Moderna\",\"Moderna\",\"Moderna\",\"Moderna\",\"Moderna\",\"Moderna\",\"Moderna\",\"Moderna\",\"Moderna\",\"Moderna\",\"Moderna\",\"Moderna\",\"Moderna\",\"Moderna\",\"Moderna\",\"Moderna\",\"Moderna\",\"Moderna\",\"Moderna\",\"Moderna\",\"Moderna\",\"Moderna\",\"Moderna\",\"Moderna\",\"Moderna\",\"Moderna\",\"Moderna\",\"Moderna\",\"Moderna\",\"Moderna\",\"Moderna\",\"Moderna\",\"Moderna\",\"Moderna\",\"Moderna\",\"Moderna\",\"Moderna\",\"Moderna\",\"Moderna\",\"Moderna\",\"Moderna\",\"Moderna\",\"Moderna\",\"Moderna\",\"Moderna\",\"Moderna\",\"Moderna\",\"Moderna\",\"Moderna\",\"Moderna\",\"Moderna\",\"Moderna\",\"Moderna\",\"Moderna\",\"Moderna\",\"Moderna\",\"Moderna\",\"Moderna\",\"Moderna\",\"Moderna\",\"Moderna\",\"Moderna\",\"Moderna\",\"Moderna\",\"Moderna\",\"Moderna\",\"Moderna\"],\"value\":{\"__ndarray__\":\"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\",\"dtype\":\"float64\",\"order\":\"little\",\"shape\":[211]}},\"selected\":{\"id\":\"1848\"},\"selection_policy\":{\"id\":\"1863\"}},\"id\":\"1847\",\"type\":\"ColumnDataSource\"},{\"attributes\":{\"margin\":[5,5,5,5],\"name\":\"HSpacer03081\",\"sizing_mode\":\"stretch_width\"},\"id\":\"1790\",\"type\":\"Spacer\"},{\"attributes\":{\"line_alpha\":0.1,\"line_color\":\"#1f77b3\",\"line_width\":2,\"x\":{\"field\":\"Date\"},\"y\":{\"field\":\"value\"}},\"id\":\"1833\",\"type\":\"Line\"},{\"attributes\":{\"line_color\":\"#ff7e0e\",\"line_width\":2,\"x\":{\"field\":\"Date\"},\"y\":{\"field\":\"value\"}},\"id\":\"1850\",\"type\":\"Line\"},{\"attributes\":{\"data_source\":{\"id\":\"1829\"},\"glyph\":{\"id\":\"1832\"},\"hover_glyph\":null,\"muted_glyph\":{\"id\":\"1834\"},\"nonselection_glyph\":{\"id\":\"1833\"},\"selection_glyph\":null,\"view\":{\"id\":\"1836\"}},\"id\":\"1835\",\"type\":\"GlyphRenderer\"},{\"attributes\":{\"line_alpha\":0.1,\"line_color\":\"#2ba02b\",\"line_width\":2,\"x\":{\"field\":\"Date\"},\"y\":{\"field\":\"value\"}},\"id\":\"1870\",\"type\":\"Line\"},{\"attributes\":{\"axis\":{\"id\":\"1808\"},\"dimension\":1,\"grid_line_color\":null,\"ticker\":null},\"id\":\"1811\",\"type\":\"Grid\"},{\"attributes\":{},\"id\":\"1826\",\"type\":\"CategoricalTickFormatter\"},{\"attributes\":{},\"id\":\"1848\",\"type\":\"Selection\"},{\"attributes\":{\"end\":195.968,\"reset_end\":195.968,\"reset_start\":-13.527999999999999,\"start\":-13.527999999999999,\"tags\":[[[\"value\",\"value\",null]]]},\"id\":\"1792\",\"type\":\"Range1d\"},{\"attributes\":{\"axis_label\":\"\",\"bounds\":\"auto\",\"formatter\":{\"id\":\"1828\"},\"major_label_orientation\":\"horizontal\",\"ticker\":{\"id\":\"1809\"}},\"id\":\"1808\",\"type\":\"LinearAxis\"},{\"attributes\":{\"callback\":null,\"renderers\":[{\"id\":\"1835\"},{\"id\":\"1853\"},{\"id\":\"1872\"}],\"tags\":[\"hv_created\"],\"tooltips\":[[\"Variable\",\"@{Variable}\"],[\"Date\",\"@{Date}\"],[\"value\",\"@{value}\"]]},\"id\":\"1793\",\"type\":\"HoverTool\"},{\"attributes\":{\"line_alpha\":0.1,\"line_color\":\"#ff7e0e\",\"line_width\":2,\"x\":{\"field\":\"Date\"},\"y\":{\"field\":\"value\"}},\"id\":\"1851\",\"type\":\"Line\"},{\"attributes\":{\"source\":{\"id\":\"1866\"}},\"id\":\"1873\",\"type\":\"CDSView\"},{\"attributes\":{\"bottom_units\":\"screen\",\"fill_alpha\":0.5,\"fill_color\":\"lightgrey\",\"left_units\":\"screen\",\"level\":\"overlay\",\"line_alpha\":1.0,\"line_color\":\"black\",\"line_dash\":[4,4],\"line_width\":2,\"right_units\":\"screen\",\"top_units\":\"screen\"},\"id\":\"1817\",\"type\":\"BoxAnnotation\"},{\"attributes\":{},\"id\":\"1843\",\"type\":\"UnionRenderers\"},{\"attributes\":{\"data_source\":{\"id\":\"1847\"},\"glyph\":{\"id\":\"1850\"},\"hover_glyph\":null,\"muted_glyph\":{\"id\":\"1852\"},\"nonselection_glyph\":{\"id\":\"1851\"},\"selection_glyph\":null,\"view\":{\"id\":\"1854\"}},\"id\":\"1853\",\"type\":\"GlyphRenderer\"},{\"attributes\":{\"click_policy\":\"mute\",\"items\":[{\"id\":\"1846\"},{\"id\":\"1865\"},{\"id\":\"1886\"}],\"location\":[0,0],\"title\":\"Variable\"},\"id\":\"1845\",\"type\":\"Legend\"},{\"attributes\":{\"label\":{\"value\":\"Moderna\"},\"renderers\":[{\"id\":\"1853\"}]},\"id\":\"1865\",\"type\":\"LegendItem\"},{\"attributes\":{\"children\":[{\"id\":\"1790\"},{\"id\":\"1796\"},{\"id\":\"1995\"}],\"margin\":[0,0,0,0],\"name\":\"Row03077\",\"tags\":[\"embedded\"]},\"id\":\"1789\",\"type\":\"Row\"},{\"attributes\":{},\"id\":\"1801\",\"type\":\"CategoricalScale\"},{\"attributes\":{\"axis_label\":\"Date\",\"bounds\":\"auto\",\"formatter\":{\"id\":\"1826\"},\"major_label_orientation\":\"horizontal\",\"ticker\":{\"id\":\"1806\"}},\"id\":\"1805\",\"type\":\"CategoricalAxis\"}],\"root_ids\":[\"1789\"]},\"title\":\"Bokeh Application\",\"version\":\"2.1.1\"}};\n",
       "  var render_items = [{\"docid\":\"e1bf1813-09fc-4ce4-87ec-31eef3d94824\",\"root_ids\":[\"1789\"],\"roots\":{\"1789\":\"1f4c0a48-2b32-457d-896e-f890cf7d51aa\"}}];\n",
       "  root.Bokeh.embed.embed_items_notebook(docs_json, render_items);\n",
       "  }\n",
       "if (root.Bokeh !== undefined) {\n",
       "    embed_document(root);\n",
       "  } else {\n",
       "    var attempts = 0;\n",
       "    var timer = setInterval(function(root) {\n",
       "      if (root.Bokeh !== undefined) {\n",
       "        clearInterval(timer);\n",
       "        embed_document(root);\n",
       "      } else if (document.readyState == \"complete\") {\n",
       "        attempts++;\n",
       "        if (attempts > 100) {\n",
       "          clearInterval(timer);\n",
       "          console.log(\"Bokeh: ERROR: Unable to run BokehJS code because BokehJS library is missing\");\n",
       "        }\n",
       "      }\n",
       "    }, 10, root)\n",
       "  }\n",
       "})(window);</script>"
      ],
      "text/plain": [
       ":NdOverlay   [Variable]\n",
       "   :Curve   [Date]   (value)"
      ]
     },
     "execution_count": 23,
     "metadata": {
      "application/vnd.holoviews_exec.v0+json": {
       "id": "1789"
      }
     },
     "output_type": "execute_result"
    }
   ],
   "source": [
    "vax_data.hvplot()"
   ]
  },
  {
   "cell_type": "code",
   "execution_count": null,
   "metadata": {},
   "outputs": [],
   "source": []
  }
 ],
 "metadata": {
  "kernelspec": {
   "display_name": "Python 3",
   "language": "python",
   "name": "python3"
  },
  "language_info": {
   "codemirror_mode": {
    "name": "ipython",
    "version": 3
   },
   "file_extension": ".py",
   "mimetype": "text/x-python",
   "name": "python",
   "nbconvert_exporter": "python",
   "pygments_lexer": "ipython3",
   "version": "3.7.7"
  }
 },
 "nbformat": 4,
 "nbformat_minor": 4
}
