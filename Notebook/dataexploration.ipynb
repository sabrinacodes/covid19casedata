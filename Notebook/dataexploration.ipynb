{
 "cells": [
  {
   "cell_type": "code",
   "execution_count": null,
   "metadata": {},
   "outputs": [],
   "source": [
    "#data exploration\n",
    "\n",
    "#map plot of US that shows total cases\n",
    "#scatter plot of each state and submissions of first cases\n",
    "#compare number of cases to date\n",
    "#compare numbers of death and recovered\n",
    "#line graph that correlate deaths and recoveries with number of cases and cdc regulations\n",
    "#line graph of travel and hospitality impact\n",
    "#stock data of major airlines: Soutwest Airlines(LUV), American Airlines(AAL), United Airlines(UAL), Delta Air Lines(DAL)\n",
    "#from March to October\n",
    "#Hospitality: Hilton(HLT), Carnival(CCL)\n",
    "#Pharma stock data: Novavax, Abbott Labs, Moderna, Pfizer\n",
    "#Stock data related to sports industry\n",
    "\n",
    "#data cleaning\n",
    "#Reading CSV files\n",
    "#formatting date columns\n",
    "#dropping nulls\n",
    "#setting index\n",
    "\n"
   ]
  }
 ],
 "metadata": {
  "kernelspec": {
   "display_name": "Python 3",
   "language": "python",
   "name": "python3"
  },
  "language_info": {
   "codemirror_mode": {
    "name": "ipython",
    "version": 3
   },
   "file_extension": ".py",
   "mimetype": "text/x-python",
   "name": "python",
   "nbconvert_exporter": "python",
   "pygments_lexer": "ipython3",
   "version": "3.7.7"
  }
 },
 "nbformat": 4,
 "nbformat_minor": 4
}
