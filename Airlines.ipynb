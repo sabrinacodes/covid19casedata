{
 "cells": [
  {
   "cell_type": "code",
   "execution_count": 8,
   "metadata": {},
   "outputs": [],
   "source": [
    "import pandas as pd\n",
    "from pathlib import Path\n",
    "import hvplot.pandas"
   ]
  },
  {
   "cell_type": "code",
   "execution_count": 49,
   "metadata": {},
   "outputs": [],
   "source": [
    "#Reading American Airlines Stock File\n",
    "aa_csv = Path(\"/Users/sabrinareed/Desktop/JupyterWorkspace/covid19casedata/american.csv\")"
   ]
  },
  {
   "cell_type": "code",
   "execution_count": 71,
   "metadata": {},
   "outputs": [
    {
     "data": {
      "text/html": [
       "<div>\n",
       "<style scoped>\n",
       "    .dataframe tbody tr th:only-of-type {\n",
       "        vertical-align: middle;\n",
       "    }\n",
       "\n",
       "    .dataframe tbody tr th {\n",
       "        vertical-align: top;\n",
       "    }\n",
       "\n",
       "    .dataframe thead th {\n",
       "        text-align: right;\n",
       "    }\n",
       "</style>\n",
       "<table border=\"1\" class=\"dataframe\">\n",
       "  <thead>\n",
       "    <tr style=\"text-align: right;\">\n",
       "      <th></th>\n",
       "      <th>American Airlines</th>\n",
       "    </tr>\n",
       "    <tr>\n",
       "      <th>Date</th>\n",
       "      <th></th>\n",
       "    </tr>\n",
       "  </thead>\n",
       "  <tbody>\n",
       "    <tr>\n",
       "      <th>1/2/2020 16:00:00</th>\n",
       "      <td>29.09</td>\n",
       "    </tr>\n",
       "    <tr>\n",
       "      <th>1/3/2020 16:00:00</th>\n",
       "      <td>27.65</td>\n",
       "    </tr>\n",
       "    <tr>\n",
       "      <th>1/6/2020 16:00:00</th>\n",
       "      <td>27.32</td>\n",
       "    </tr>\n",
       "    <tr>\n",
       "      <th>1/7/2020 16:00:00</th>\n",
       "      <td>27.22</td>\n",
       "    </tr>\n",
       "    <tr>\n",
       "      <th>1/8/2020 16:00:00</th>\n",
       "      <td>27.84</td>\n",
       "    </tr>\n",
       "  </tbody>\n",
       "</table>\n",
       "</div>"
      ],
      "text/plain": [
       "                   American Airlines\n",
       "Date                                \n",
       "1/2/2020 16:00:00              29.09\n",
       "1/3/2020 16:00:00              27.65\n",
       "1/6/2020 16:00:00              27.32\n",
       "1/7/2020 16:00:00              27.22\n",
       "1/8/2020 16:00:00              27.84"
      ]
     },
     "execution_count": 71,
     "metadata": {},
     "output_type": "execute_result"
    }
   ],
   "source": [
    "#Display AA stock data\n",
    "#Setting Date to Index / Need to find out how to drop timestamp\n",
    "aa_data = pd.read_csv(aa_csv, header = 1, index_col=\"Date\")\n",
    "#Rename columns\n",
    "aa_data = aa_data.rename(columns={\"Close\": \"American Airlines\",})\n",
    "aa_data.head()"
   ]
  },
  {
   "cell_type": "code",
   "execution_count": 72,
   "metadata": {},
   "outputs": [
    {
     "data": {
      "application/vnd.holoviews_exec.v0+json": "",
      "text/html": [
       "<div id='1937'>\n",
       "\n",
       "\n",
       "\n",
       "\n",
       "\n",
       "  <div class=\"bk-root\" id=\"9c1765a0-dfa7-412b-8c9f-6a0557cb9e58\" data-root-id=\"1937\"></div>\n",
       "</div>\n",
       "<script type=\"application/javascript\">(function(root) {\n",
       "  function embed_document(root) {\n",
       "  var docs_json = {\"b9b3a86d-cf50-4c65-b4e3-99c023234f16\":{\"roots\":{\"references\":[{\"attributes\":{\"overlay\":{\"id\":\"1963\"}},\"id\":\"1961\",\"type\":\"BoxZoomTool\"},{\"attributes\":{},\"id\":\"1959\",\"type\":\"PanTool\"},{\"attributes\":{},\"id\":\"1972\",\"type\":\"Selection\"},{\"attributes\":{\"children\":[{\"id\":\"1938\"},{\"id\":\"1942\"},{\"id\":\"1999\"}],\"margin\":[0,0,0,0],\"name\":\"Row03131\",\"tags\":[\"embedded\"]},\"id\":\"1937\",\"type\":\"Row\"},{\"attributes\":{\"factors\":[\"1/2/2020 16:00:00\",\"1/3/2020 16:00:00\",\"1/6/2020 16:00:00\",\"1/7/2020 16:00:00\",\"1/8/2020 16:00:00\",\"1/9/2020 16:00:00\",\"1/10/2020 16:00:00\",\"1/13/2020 16:00:00\",\"1/14/2020 16:00:00\",\"1/15/2020 16:00:00\",\"1/16/2020 16:00:00\",\"1/17/2020 16:00:00\",\"1/21/2020 16:00:00\",\"1/22/2020 16:00:00\",\"1/23/2020 16:00:00\",\"1/24/2020 16:00:00\",\"1/27/2020 16:00:00\",\"1/28/2020 16:00:00\",\"1/29/2020 16:00:00\",\"1/30/2020 16:00:00\",\"1/31/2020 16:00:00\",\"2/3/2020 16:00:00\",\"2/4/2020 16:00:00\",\"2/5/2020 16:00:00\",\"2/6/2020 16:00:00\",\"2/7/2020 16:00:00\",\"2/10/2020 16:00:00\",\"2/11/2020 16:00:00\",\"2/12/2020 16:00:00\",\"2/13/2020 16:00:00\",\"2/14/2020 16:00:00\",\"2/18/2020 16:00:00\",\"2/19/2020 16:00:00\",\"2/20/2020 16:00:00\",\"2/21/2020 16:00:00\",\"2/24/2020 16:00:00\",\"2/25/2020 16:00:00\",\"2/26/2020 16:00:00\",\"2/27/2020 16:00:00\",\"2/28/2020 16:00:00\",\"3/2/2020 16:00:00\",\"3/3/2020 16:00:00\",\"3/4/2020 16:00:00\",\"3/5/2020 16:00:00\",\"3/6/2020 16:00:00\",\"3/9/2020 16:00:00\",\"3/10/2020 16:00:00\",\"3/11/2020 16:00:00\",\"3/12/2020 16:00:00\",\"3/13/2020 16:00:00\",\"3/16/2020 16:00:00\",\"3/17/2020 16:00:00\",\"3/18/2020 16:00:00\",\"3/19/2020 16:00:00\",\"3/20/2020 16:00:00\",\"3/23/2020 16:00:00\",\"3/24/2020 16:00:00\",\"3/25/2020 16:00:00\",\"3/26/2020 16:00:00\",\"3/27/2020 16:00:00\",\"3/30/2020 16:00:00\",\"3/31/2020 16:00:00\",\"4/1/2020 16:00:00\",\"4/2/2020 16:00:00\",\"4/3/2020 16:00:00\",\"4/6/2020 16:00:00\",\"4/7/2020 16:00:00\",\"4/8/2020 16:00:00\",\"4/9/2020 16:00:00\",\"4/13/2020 16:00:00\",\"4/14/2020 16:00:00\",\"4/15/2020 16:00:00\",\"4/16/2020 16:00:00\",\"4/17/2020 16:00:00\",\"4/20/2020 16:00:00\",\"4/21/2020 16:00:00\",\"4/22/2020 16:00:00\",\"4/23/2020 16:00:00\",\"4/24/2020 16:00:00\",\"4/27/2020 16:00:00\",\"4/28/2020 16:00:00\",\"4/29/2020 16:00:00\",\"4/30/2020 16:00:00\",\"5/1/2020 16:00:00\",\"5/4/2020 16:00:00\",\"5/5/2020 16:00:00\",\"5/6/2020 16:00:00\",\"5/7/2020 16:00:00\",\"5/8/2020 16:00:00\",\"5/11/2020 16:00:00\",\"5/12/2020 16:00:00\",\"5/13/2020 16:00:00\",\"5/14/2020 16:00:00\",\"5/15/2020 16:00:00\",\"5/18/2020 16:00:00\",\"5/19/2020 16:00:00\",\"5/20/2020 16:00:00\",\"5/21/2020 16:00:00\",\"5/22/2020 16:00:00\",\"5/26/2020 16:00:00\",\"5/27/2020 16:00:00\",\"5/28/2020 16:00:00\",\"5/29/2020 16:00:00\",\"6/1/2020 16:00:00\",\"6/2/2020 16:00:00\",\"6/3/2020 16:00:00\",\"6/4/2020 16:00:00\",\"6/5/2020 16:00:00\",\"6/8/2020 16:00:00\",\"6/9/2020 16:00:00\",\"6/10/2020 16:00:00\",\"6/11/2020 16:00:00\",\"6/12/2020 16:00:00\",\"6/15/2020 16:00:00\",\"6/16/2020 16:00:00\",\"6/17/2020 16:00:00\",\"6/18/2020 16:00:00\",\"6/19/2020 16:00:00\",\"6/22/2020 16:00:00\",\"6/23/2020 16:00:00\",\"6/24/2020 16:00:00\",\"6/25/2020 16:00:00\",\"6/26/2020 16:00:00\",\"6/29/2020 16:00:00\",\"6/30/2020 16:00:00\",\"7/1/2020 16:00:00\",\"7/2/2020 16:00:00\",\"7/6/2020 16:00:00\",\"7/7/2020 16:00:00\",\"7/8/2020 16:00:00\",\"7/9/2020 16:00:00\",\"7/10/2020 16:00:00\",\"7/13/2020 16:00:00\",\"7/14/2020 16:00:00\",\"7/15/2020 16:00:00\",\"7/16/2020 16:00:00\",\"7/17/2020 16:00:00\",\"7/20/2020 16:00:00\",\"7/21/2020 16:00:00\",\"7/22/2020 16:00:00\",\"7/23/2020 16:00:00\",\"7/24/2020 16:00:00\",\"7/27/2020 16:00:00\",\"7/28/2020 16:00:00\",\"7/29/2020 16:00:00\",\"7/30/2020 16:00:00\",\"7/31/2020 16:00:00\",\"8/3/2020 16:00:00\",\"8/4/2020 16:00:00\",\"8/5/2020 16:00:00\",\"8/6/2020 16:00:00\",\"8/7/2020 16:00:00\",\"8/10/2020 16:00:00\",\"8/11/2020 16:00:00\",\"8/12/2020 16:00:00\",\"8/13/2020 16:00:00\",\"8/14/2020 16:00:00\",\"8/17/2020 16:00:00\",\"8/18/2020 16:00:00\",\"8/19/2020 16:00:00\",\"8/20/2020 16:00:00\",\"8/21/2020 16:00:00\",\"8/24/2020 16:00:00\",\"8/25/2020 16:00:00\",\"8/26/2020 16:00:00\",\"8/27/2020 16:00:00\",\"8/28/2020 16:00:00\",\"8/31/2020 16:00:00\",\"9/1/2020 16:00:00\",\"9/2/2020 16:00:00\",\"9/3/2020 16:00:00\",\"9/4/2020 16:00:00\",\"9/8/2020 16:00:00\",\"9/9/2020 16:00:00\",\"9/10/2020 16:00:00\",\"9/11/2020 16:00:00\",\"9/14/2020 16:00:00\",\"9/15/2020 16:00:00\",\"9/16/2020 16:00:00\",\"9/17/2020 16:00:00\",\"9/18/2020 16:00:00\",\"9/21/2020 16:00:00\",\"9/22/2020 16:00:00\",\"9/23/2020 16:00:00\",\"9/24/2020 16:00:00\",\"9/25/2020 16:00:00\",\"9/28/2020 16:00:00\",\"9/29/2020 16:00:00\",\"9/30/2020 16:00:00\",\"10/1/2020 16:00:00\",\"10/2/2020 16:00:00\",\"10/5/2020 16:00:00\",\"10/6/2020 16:00:00\",\"10/7/2020 16:00:00\",\"10/8/2020 16:00:00\",\"10/9/2020 16:00:00\",\"10/12/2020 16:00:00\",\"10/13/2020 16:00:00\",\"10/14/2020 16:00:00\",\"10/15/2020 16:00:00\",\"10/16/2020 16:00:00\",\"10/19/2020 16:00:00\",\"10/20/2020 16:00:00\",\"10/21/2020 16:00:00\",\"10/22/2020 16:00:00\",\"10/23/2020 16:00:00\",\"10/26/2020 16:00:00\",\"10/27/2020 16:00:00\",\"10/28/2020 16:00:00\",\"10/29/2020 16:00:00\",\"10/30/2020 16:00:00\"],\"tags\":[[[\"Date\",\"Date\",null]]]},\"id\":\"1939\",\"type\":\"FactorRange\"},{\"attributes\":{\"margin\":[5,5,5,5],\"name\":\"HSpacer03135\",\"sizing_mode\":\"stretch_width\"},\"id\":\"1938\",\"type\":\"Spacer\"},{\"attributes\":{\"text\":\"\",\"text_color\":{\"value\":\"black\"},\"text_font_size\":{\"value\":\"12pt\"}},\"id\":\"1943\",\"type\":\"Title\"},{\"attributes\":{\"bottom_units\":\"screen\",\"fill_alpha\":0.5,\"fill_color\":\"lightgrey\",\"left_units\":\"screen\",\"level\":\"overlay\",\"line_alpha\":1.0,\"line_color\":\"black\",\"line_dash\":[4,4],\"line_width\":2,\"right_units\":\"screen\",\"top_units\":\"screen\"},\"id\":\"1963\",\"type\":\"BoxAnnotation\"},{\"attributes\":{},\"id\":\"1958\",\"type\":\"SaveTool\"},{\"attributes\":{\"axis_label\":\"American Airlines\",\"bounds\":\"auto\",\"formatter\":{\"id\":\"1982\"},\"major_label_orientation\":\"horizontal\",\"ticker\":{\"id\":\"1955\"}},\"id\":\"1954\",\"type\":\"LinearAxis\"},{\"attributes\":{},\"id\":\"1960\",\"type\":\"WheelZoomTool\"},{\"attributes\":{\"source\":{\"id\":\"1971\"}},\"id\":\"1978\",\"type\":\"CDSView\"},{\"attributes\":{},\"id\":\"1980\",\"type\":\"CategoricalTickFormatter\"},{\"attributes\":{},\"id\":\"1962\",\"type\":\"ResetTool\"},{\"attributes\":{\"margin\":[5,5,5,5],\"name\":\"HSpacer03136\",\"sizing_mode\":\"stretch_width\"},\"id\":\"1999\",\"type\":\"Spacer\"},{\"attributes\":{\"active_drag\":\"auto\",\"active_inspect\":\"auto\",\"active_multi\":null,\"active_scroll\":\"auto\",\"active_tap\":\"auto\",\"tools\":[{\"id\":\"1941\"},{\"id\":\"1958\"},{\"id\":\"1959\"},{\"id\":\"1960\"},{\"id\":\"1961\"},{\"id\":\"1962\"}]},\"id\":\"1964\",\"type\":\"Toolbar\"},{\"attributes\":{\"line_color\":\"#1f77b3\",\"line_width\":2,\"x\":{\"field\":\"Date\"},\"y\":{\"field\":\"American Airlines\"}},\"id\":\"1974\",\"type\":\"Line\"},{\"attributes\":{},\"id\":\"1947\",\"type\":\"CategoricalScale\"},{\"attributes\":{},\"id\":\"1949\",\"type\":\"LinearScale\"},{\"attributes\":{\"data\":{\"American Airlines\":{\"__ndarray__\":\"16NwPQoXPUBmZmZmZqY7QFK4HoXrUTtAuB6F61E4O0DXo3A9Ctc7QDMzMzMz8ztAUrgehetRO0CkcD0K12M7QEjhehSuhztAFK5H4XqUO0B7FK5H4To8QGZmZmZmZjxAMzMzMzMzO0BSuB6F61E7QM3MzMzMzDxApHA9CtejO0Bcj8L1KBw6QGZmZmZm5jpAzczMzMzMOkC4HoXrUbg7QNejcD0K1zpAKVyPwvUoO0CuR+F6FG48QJqZmZmZGT1AzczMzMxMPEDhehSuR2E8QArXo3A9yjxA16NwPQrXPUC4HoXrUXg+QNejcD0KFz5AMzMzMzMzPUDhehSuR6E8QBSuR+F6VDxAw/UoXI+CPEBSuB6F69E7QDMzMzMzczlAH4XrUbgeN0CPwvUoXE82QJqZmZmZmTRAzczMzMwMM0Bcj8L1KNwyQJqZmZmZ2TFASOF6FK6HMkAK16NwPQowQHE9Ctej8C9AAAAAAACALUAAAAAAAAAxQMP1KFyPQjBAZmZmZmbmKkAfhetRuJ4sQNejcD0K1y9AKVyPwvUoL0DNzMzMzEwnQBSuR+F6lCRAw/UoXI/CJEAAAAAAAIAkQNejcD0K1ytASOF6FK7HLkBSuB6F61EvQBSuR+F6FCxAAAAAAACAKEDhehSuR2EoQOF6FK5HYSVAH4XrUbgeJEBI4XoUrsciQAAAAAAAACNAcT0K16NwJEApXI/C9agmQIXrUbgeBSlAH4XrUbgeJ0BmZmZmZuYnQBSuR+F6lChApHA9CtcjJkCkcD0K1yMnQB+F61G4HiZAAAAAAAAAJkAK16NwPYokQAAAAAAAgCRAH4XrUbieJEAK16NwPQokQIXrUbgehSZAw/UoXI9CKUCF61G4HgUoQEjhehSuRyVApHA9CtejI0CF61G4HgUjQAAAAAAAgCJAFK5H4XoUI0BI4XoUrkckQDMzMzMzMyRAzczMzMxMI0C4HoXrUTgiQM3MzMzMTCJAFK5H4XoUIkA9CtejcL0jQEjhehSuRyNAPQrXo3C9I0BI4XoUrscjQGZmZmZmZiNASOF6FK5HJkD2KFyPwvUnQPYoXI/C9SVAAAAAAAAAJUC4HoXrUTgmQHE9CtejcCZAMzMzMzOzJ0C4HoXrUbgwQNejcD0KlzJAj8L1KFxPNEDNzMzMzIwyQIXrUbgeBTFAw/UoXI/CLEA9CtejcL0wQDMzMzMzszBASOF6FK4HMUB7FK5H4fowQD0K16NwfTBAAAAAAAAAMEDXo3A9CtctQAAAAAAAACxAFK5H4XoUKkDXo3A9ClcqQMP1KFyPwihApHA9CtejKkCkcD0K1yMqQB+F61G4nilAAAAAAAAAKUCamZmZmZkpQFK4HoXr0SdAexSuR+H6J0Bcj8L1KFwmQOF6FK5H4SdAw/UoXI9CJ0CkcD0K1yMnQOF6FK5H4SpAZmZmZmbmKEBSuB6F69EnQHE9Ctej8CZAcT0K16PwJkC4HoXrUbgmQArXo3A9iidASOF6FK7HJkBI4XoUrscmQArXo3A9iidAzczMzMzMJkBcj8L1KFwmQD0K16NwPSZAKVyPwvUoJkBxPQrXo/AmQB+F61G4HilAFK5H4XoUKkCPwvUoXA8qQAAAAAAAACxA9ihcj8J1K0AUrkfhehQrQJqZmZmZmSpAKVyPwvWoKkA9CtejcD0pQDMzMzMzMylAXI/C9ShcKUAAAAAAAAApQFK4HoXrUShA4XoUrkfhKkBI4XoUrkcqQBSuR+F6lClAj8L1KFyPKkCuR+F6FC4rQJqZmZmZGSpAMzMzMzMzKkD2KFyPwnUqQLgehetRuCpAuB6F61E4K0DD9Shcj0IrQJqZmZmZGSpAhetRuB4FKkBmZmZmZuYpQIXrUbgehSpASOF6FK5HKkCamZmZmZkrQMP1KFyPQitA4XoUrkdhKkDsUbgehWsoQK5H4XoUrihAXI/C9SjcJ0AK16NwPYonQBSuR+F6lChAhetRuB6FKUAAAAAAAIAoQBSuR+F6lChAKVyPwvUoKUAAAAAAAAAqQD0K16NwPSpAj8L1KFwPKUCkcD0K1yMqQFK4HoXrUSpAZmZmZmZmKkDXo3A9CtcpQHE9CtejcChAuB6F61G4KED2KFyPwnUoQOxRuB6F6yhAH4XrUbgeKUCamZmZmZkpQAAAAAAAgClAzczMzMxMKkAzMzMzMzMpQJqZmZmZmSdA9ihcj8J1JkBmZmZmZuYlQFK4HoXrUSZAj8L1KFyPJkA=\",\"dtype\":\"float64\",\"order\":\"little\",\"shape\":[211]},\"American_Airlines\":{\"__ndarray__\":\"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\",\"dtype\":\"float64\",\"order\":\"little\",\"shape\":[211]},\"Date\":[\"1/2/2020 16:00:00\",\"1/3/2020 16:00:00\",\"1/6/2020 16:00:00\",\"1/7/2020 16:00:00\",\"1/8/2020 16:00:00\",\"1/9/2020 16:00:00\",\"1/10/2020 16:00:00\",\"1/13/2020 16:00:00\",\"1/14/2020 16:00:00\",\"1/15/2020 16:00:00\",\"1/16/2020 16:00:00\",\"1/17/2020 16:00:00\",\"1/21/2020 16:00:00\",\"1/22/2020 16:00:00\",\"1/23/2020 16:00:00\",\"1/24/2020 16:00:00\",\"1/27/2020 16:00:00\",\"1/28/2020 16:00:00\",\"1/29/2020 16:00:00\",\"1/30/2020 16:00:00\",\"1/31/2020 16:00:00\",\"2/3/2020 16:00:00\",\"2/4/2020 16:00:00\",\"2/5/2020 16:00:00\",\"2/6/2020 16:00:00\",\"2/7/2020 16:00:00\",\"2/10/2020 16:00:00\",\"2/11/2020 16:00:00\",\"2/12/2020 16:00:00\",\"2/13/2020 16:00:00\",\"2/14/2020 16:00:00\",\"2/18/2020 16:00:00\",\"2/19/2020 16:00:00\",\"2/20/2020 16:00:00\",\"2/21/2020 16:00:00\",\"2/24/2020 16:00:00\",\"2/25/2020 16:00:00\",\"2/26/2020 16:00:00\",\"2/27/2020 16:00:00\",\"2/28/2020 16:00:00\",\"3/2/2020 16:00:00\",\"3/3/2020 16:00:00\",\"3/4/2020 16:00:00\",\"3/5/2020 16:00:00\",\"3/6/2020 16:00:00\",\"3/9/2020 16:00:00\",\"3/10/2020 16:00:00\",\"3/11/2020 16:00:00\",\"3/12/2020 16:00:00\",\"3/13/2020 16:00:00\",\"3/16/2020 16:00:00\",\"3/17/2020 16:00:00\",\"3/18/2020 16:00:00\",\"3/19/2020 16:00:00\",\"3/20/2020 16:00:00\",\"3/23/2020 16:00:00\",\"3/24/2020 16:00:00\",\"3/25/2020 16:00:00\",\"3/26/2020 16:00:00\",\"3/27/2020 16:00:00\",\"3/30/2020 16:00:00\",\"3/31/2020 16:00:00\",\"4/1/2020 16:00:00\",\"4/2/2020 16:00:00\",\"4/3/2020 16:00:00\",\"4/6/2020 16:00:00\",\"4/7/2020 16:00:00\",\"4/8/2020 16:00:00\",\"4/9/2020 16:00:00\",\"4/13/2020 16:00:00\",\"4/14/2020 16:00:00\",\"4/15/2020 16:00:00\",\"4/16/2020 16:00:00\",\"4/17/2020 16:00:00\",\"4/20/2020 16:00:00\",\"4/21/2020 16:00:00\",\"4/22/2020 16:00:00\",\"4/23/2020 16:00:00\",\"4/24/2020 16:00:00\",\"4/27/2020 16:00:00\",\"4/28/2020 16:00:00\",\"4/29/2020 16:00:00\",\"4/30/2020 16:00:00\",\"5/1/2020 16:00:00\",\"5/4/2020 16:00:00\",\"5/5/2020 16:00:00\",\"5/6/2020 16:00:00\",\"5/7/2020 16:00:00\",\"5/8/2020 16:00:00\",\"5/11/2020 16:00:00\",\"5/12/2020 16:00:00\",\"5/13/2020 16:00:00\",\"5/14/2020 16:00:00\",\"5/15/2020 16:00:00\",\"5/18/2020 16:00:00\",\"5/19/2020 16:00:00\",\"5/20/2020 16:00:00\",\"5/21/2020 16:00:00\",\"5/22/2020 16:00:00\",\"5/26/2020 16:00:00\",\"5/27/2020 16:00:00\",\"5/28/2020 16:00:00\",\"5/29/2020 16:00:00\",\"6/1/2020 16:00:00\",\"6/2/2020 16:00:00\",\"6/3/2020 16:00:00\",\"6/4/2020 16:00:00\",\"6/5/2020 16:00:00\",\"6/8/2020 16:00:00\",\"6/9/2020 16:00:00\",\"6/10/2020 16:00:00\",\"6/11/2020 16:00:00\",\"6/12/2020 16:00:00\",\"6/15/2020 16:00:00\",\"6/16/2020 16:00:00\",\"6/17/2020 16:00:00\",\"6/18/2020 16:00:00\",\"6/19/2020 16:00:00\",\"6/22/2020 16:00:00\",\"6/23/2020 16:00:00\",\"6/24/2020 16:00:00\",\"6/25/2020 16:00:00\",\"6/26/2020 16:00:00\",\"6/29/2020 16:00:00\",\"6/30/2020 16:00:00\",\"7/1/2020 16:00:00\",\"7/2/2020 16:00:00\",\"7/6/2020 16:00:00\",\"7/7/2020 16:00:00\",\"7/8/2020 16:00:00\",\"7/9/2020 16:00:00\",\"7/10/2020 16:00:00\",\"7/13/2020 16:00:00\",\"7/14/2020 16:00:00\",\"7/15/2020 16:00:00\",\"7/16/2020 16:00:00\",\"7/17/2020 16:00:00\",\"7/20/2020 16:00:00\",\"7/21/2020 16:00:00\",\"7/22/2020 16:00:00\",\"7/23/2020 16:00:00\",\"7/24/2020 16:00:00\",\"7/27/2020 16:00:00\",\"7/28/2020 16:00:00\",\"7/29/2020 16:00:00\",\"7/30/2020 16:00:00\",\"7/31/2020 16:00:00\",\"8/3/2020 16:00:00\",\"8/4/2020 16:00:00\",\"8/5/2020 16:00:00\",\"8/6/2020 16:00:00\",\"8/7/2020 16:00:00\",\"8/10/2020 16:00:00\",\"8/11/2020 16:00:00\",\"8/12/2020 16:00:00\",\"8/13/2020 16:00:00\",\"8/14/2020 16:00:00\",\"8/17/2020 16:00:00\",\"8/18/2020 16:00:00\",\"8/19/2020 16:00:00\",\"8/20/2020 16:00:00\",\"8/21/2020 16:00:00\",\"8/24/2020 16:00:00\",\"8/25/2020 16:00:00\",\"8/26/2020 16:00:00\",\"8/27/2020 16:00:00\",\"8/28/2020 16:00:00\",\"8/31/2020 16:00:00\",\"9/1/2020 16:00:00\",\"9/2/2020 16:00:00\",\"9/3/2020 16:00:00\",\"9/4/2020 16:00:00\",\"9/8/2020 16:00:00\",\"9/9/2020 16:00:00\",\"9/10/2020 16:00:00\",\"9/11/2020 16:00:00\",\"9/14/2020 16:00:00\",\"9/15/2020 16:00:00\",\"9/16/2020 16:00:00\",\"9/17/2020 16:00:00\",\"9/18/2020 16:00:00\",\"9/21/2020 16:00:00\",\"9/22/2020 16:00:00\",\"9/23/2020 16:00:00\",\"9/24/2020 16:00:00\",\"9/25/2020 16:00:00\",\"9/28/2020 16:00:00\",\"9/29/2020 16:00:00\",\"9/30/2020 16:00:00\",\"10/1/2020 16:00:00\",\"10/2/2020 16:00:00\",\"10/5/2020 16:00:00\",\"10/6/2020 16:00:00\",\"10/7/2020 16:00:00\",\"10/8/2020 16:00:00\",\"10/9/2020 16:00:00\",\"10/12/2020 16:00:00\",\"10/13/2020 16:00:00\",\"10/14/2020 16:00:00\",\"10/15/2020 16:00:00\",\"10/16/2020 16:00:00\",\"10/19/2020 16:00:00\",\"10/20/2020 16:00:00\",\"10/21/2020 16:00:00\",\"10/22/2020 16:00:00\",\"10/23/2020 16:00:00\",\"10/26/2020 16:00:00\",\"10/27/2020 16:00:00\",\"10/28/2020 16:00:00\",\"10/29/2020 16:00:00\",\"10/30/2020 16:00:00\"]},\"selected\":{\"id\":\"1972\"},\"selection_policy\":{\"id\":\"1990\"}},\"id\":\"1971\",\"type\":\"ColumnDataSource\"},{\"attributes\":{},\"id\":\"1955\",\"type\":\"BasicTicker\"},{\"attributes\":{\"callback\":null,\"renderers\":[{\"id\":\"1977\"}],\"tags\":[\"hv_created\"],\"tooltips\":[[\"Date\",\"@{Date}\"],[\"American Airlines\",\"@{American_Airlines}\"]]},\"id\":\"1941\",\"type\":\"HoverTool\"},{\"attributes\":{\"line_alpha\":0.2,\"line_color\":\"#1f77b3\",\"line_width\":2,\"x\":{\"field\":\"Date\"},\"y\":{\"field\":\"American Airlines\"}},\"id\":\"1976\",\"type\":\"Line\"},{\"attributes\":{\"axis_label\":\"Date\",\"bounds\":\"auto\",\"formatter\":{\"id\":\"1980\"},\"major_label_orientation\":\"horizontal\",\"ticker\":{\"id\":\"1952\"}},\"id\":\"1951\",\"type\":\"CategoricalAxis\"},{\"attributes\":{\"data_source\":{\"id\":\"1971\"},\"glyph\":{\"id\":\"1974\"},\"hover_glyph\":null,\"muted_glyph\":{\"id\":\"1976\"},\"nonselection_glyph\":{\"id\":\"1975\"},\"selection_glyph\":null,\"view\":{\"id\":\"1978\"}},\"id\":\"1977\",\"type\":\"GlyphRenderer\"},{\"attributes\":{\"axis\":{\"id\":\"1954\"},\"dimension\":1,\"grid_line_color\":null,\"ticker\":null},\"id\":\"1957\",\"type\":\"Grid\"},{\"attributes\":{\"line_alpha\":0.1,\"line_color\":\"#1f77b3\",\"line_width\":2,\"x\":{\"field\":\"Date\"},\"y\":{\"field\":\"American Airlines\"}},\"id\":\"1975\",\"type\":\"Line\"},{\"attributes\":{},\"id\":\"1952\",\"type\":\"CategoricalTicker\"},{\"attributes\":{\"end\":32.613,\"reset_end\":32.613,\"reset_start\":6.8969999999999985,\"start\":6.8969999999999985,\"tags\":[[[\"American Airlines\",\"American Airlines\",null]]]},\"id\":\"1940\",\"type\":\"Range1d\"},{\"attributes\":{},\"id\":\"1982\",\"type\":\"BasicTickFormatter\"},{\"attributes\":{},\"id\":\"1990\",\"type\":\"UnionRenderers\"},{\"attributes\":{\"axis\":{\"id\":\"1951\"},\"grid_line_color\":null,\"ticker\":null},\"id\":\"1953\",\"type\":\"Grid\"},{\"attributes\":{\"align\":null,\"below\":[{\"id\":\"1951\"}],\"center\":[{\"id\":\"1953\"},{\"id\":\"1957\"}],\"left\":[{\"id\":\"1954\"}],\"margin\":null,\"min_border_bottom\":10,\"min_border_left\":10,\"min_border_right\":10,\"min_border_top\":10,\"plot_height\":300,\"plot_width\":700,\"renderers\":[{\"id\":\"1977\"}],\"sizing_mode\":\"fixed\",\"title\":{\"id\":\"1943\"},\"toolbar\":{\"id\":\"1964\"},\"x_range\":{\"id\":\"1939\"},\"x_scale\":{\"id\":\"1947\"},\"y_range\":{\"id\":\"1940\"},\"y_scale\":{\"id\":\"1949\"}},\"id\":\"1942\",\"subtype\":\"Figure\",\"type\":\"Plot\"}],\"root_ids\":[\"1937\"]},\"title\":\"Bokeh Application\",\"version\":\"2.1.1\"}};\n",
       "  var render_items = [{\"docid\":\"b9b3a86d-cf50-4c65-b4e3-99c023234f16\",\"root_ids\":[\"1937\"],\"roots\":{\"1937\":\"9c1765a0-dfa7-412b-8c9f-6a0557cb9e58\"}}];\n",
       "  root.Bokeh.embed.embed_items_notebook(docs_json, render_items);\n",
       "  }\n",
       "if (root.Bokeh !== undefined) {\n",
       "    embed_document(root);\n",
       "  } else {\n",
       "    var attempts = 0;\n",
       "    var timer = setInterval(function(root) {\n",
       "      if (root.Bokeh !== undefined) {\n",
       "        clearInterval(timer);\n",
       "        embed_document(root);\n",
       "      } else if (document.readyState == \"complete\") {\n",
       "        attempts++;\n",
       "        if (attempts > 100) {\n",
       "          clearInterval(timer);\n",
       "          console.log(\"Bokeh: ERROR: Unable to run BokehJS code because BokehJS library is missing\");\n",
       "        }\n",
       "      }\n",
       "    }, 10, root)\n",
       "  }\n",
       "})(window);</script>"
      ],
      "text/plain": [
       ":Curve   [Date]   (American Airlines)"
      ]
     },
     "execution_count": 72,
     "metadata": {
      "application/vnd.holoviews_exec.v0+json": {
       "id": "1937"
      }
     },
     "output_type": "execute_result"
    }
   ],
   "source": [
    "#Plotting AA \n",
    "aa_data.hvplot()"
   ]
  },
  {
   "cell_type": "code",
   "execution_count": 73,
   "metadata": {},
   "outputs": [],
   "source": [
    "#Reading Delta Stock\n",
    "\n",
    "delta_csv = Path(\"/Users/sabrinareed/Desktop/JupyterWorkspace/covid19casedata/delta.csv\")"
   ]
  },
  {
   "cell_type": "code",
   "execution_count": 77,
   "metadata": {},
   "outputs": [
    {
     "data": {
      "text/html": [
       "<div>\n",
       "<style scoped>\n",
       "    .dataframe tbody tr th:only-of-type {\n",
       "        vertical-align: middle;\n",
       "    }\n",
       "\n",
       "    .dataframe tbody tr th {\n",
       "        vertical-align: top;\n",
       "    }\n",
       "\n",
       "    .dataframe thead th {\n",
       "        text-align: right;\n",
       "    }\n",
       "</style>\n",
       "<table border=\"1\" class=\"dataframe\">\n",
       "  <thead>\n",
       "    <tr style=\"text-align: right;\">\n",
       "      <th></th>\n",
       "      <th>Delta Airlines</th>\n",
       "    </tr>\n",
       "    <tr>\n",
       "      <th>Date</th>\n",
       "      <th></th>\n",
       "    </tr>\n",
       "  </thead>\n",
       "  <tbody>\n",
       "    <tr>\n",
       "      <th>1/2/2020 16:00:00</th>\n",
       "      <td>59.04</td>\n",
       "    </tr>\n",
       "    <tr>\n",
       "      <th>1/3/2020 16:00:00</th>\n",
       "      <td>58.06</td>\n",
       "    </tr>\n",
       "    <tr>\n",
       "      <th>1/6/2020 16:00:00</th>\n",
       "      <td>57.66</td>\n",
       "    </tr>\n",
       "    <tr>\n",
       "      <th>1/7/2020 16:00:00</th>\n",
       "      <td>57.61</td>\n",
       "    </tr>\n",
       "    <tr>\n",
       "      <th>1/8/2020 16:00:00</th>\n",
       "      <td>58.85</td>\n",
       "    </tr>\n",
       "  </tbody>\n",
       "</table>\n",
       "</div>"
      ],
      "text/plain": [
       "                   Delta Airlines\n",
       "Date                             \n",
       "1/2/2020 16:00:00           59.04\n",
       "1/3/2020 16:00:00           58.06\n",
       "1/6/2020 16:00:00           57.66\n",
       "1/7/2020 16:00:00           57.61\n",
       "1/8/2020 16:00:00           58.85"
      ]
     },
     "execution_count": 77,
     "metadata": {},
     "output_type": "execute_result"
    }
   ],
   "source": [
    "#Display Delta stock data\n",
    "delta_data = pd.read_csv(delta_csv, header = 1, index_col=\"Date\")\n",
    "#Rename columns\n",
    "delta_data = delta_data.rename(columns={\"Close\": \"Delta Airlines\",})\n",
    "delta_data.head()"
   ]
  },
  {
   "cell_type": "code",
   "execution_count": 78,
   "metadata": {},
   "outputs": [
    {
     "data": {
      "application/vnd.holoviews_exec.v0+json": "",
      "text/html": [
       "<div id='2041'>\n",
       "\n",
       "\n",
       "\n",
       "\n",
       "\n",
       "  <div class=\"bk-root\" id=\"7d1d1416-5ba6-4b68-8a5c-4fb3f106dfa0\" data-root-id=\"2041\"></div>\n",
       "</div>\n",
       "<script type=\"application/javascript\">(function(root) {\n",
       "  function embed_document(root) {\n",
       "  var docs_json = {\"4b8f0731-6e91-4260-9131-d60a65436c99\":{\"roots\":{\"references\":[{\"attributes\":{\"axis_label\":\"Date\",\"bounds\":\"auto\",\"formatter\":{\"id\":\"2084\"},\"major_label_orientation\":\"horizontal\",\"ticker\":{\"id\":\"2056\"}},\"id\":\"2055\",\"type\":\"CategoricalAxis\"},{\"attributes\":{},\"id\":\"2062\",\"type\":\"SaveTool\"},{\"attributes\":{\"align\":null,\"below\":[{\"id\":\"2055\"}],\"center\":[{\"id\":\"2057\"},{\"id\":\"2061\"}],\"left\":[{\"id\":\"2058\"}],\"margin\":null,\"min_border_bottom\":10,\"min_border_left\":10,\"min_border_right\":10,\"min_border_top\":10,\"plot_height\":300,\"plot_width\":700,\"renderers\":[{\"id\":\"2081\"}],\"sizing_mode\":\"fixed\",\"title\":{\"id\":\"2047\"},\"toolbar\":{\"id\":\"2068\"},\"x_range\":{\"id\":\"2043\"},\"x_scale\":{\"id\":\"2051\"},\"y_range\":{\"id\":\"2044\"},\"y_scale\":{\"id\":\"2053\"}},\"id\":\"2046\",\"subtype\":\"Figure\",\"type\":\"Plot\"},{\"attributes\":{\"data_source\":{\"id\":\"2075\"},\"glyph\":{\"id\":\"2078\"},\"hover_glyph\":null,\"muted_glyph\":{\"id\":\"2080\"},\"nonselection_glyph\":{\"id\":\"2079\"},\"selection_glyph\":null,\"view\":{\"id\":\"2082\"}},\"id\":\"2081\",\"type\":\"GlyphRenderer\"},{\"attributes\":{},\"id\":\"2051\",\"type\":\"CategoricalScale\"},{\"attributes\":{\"source\":{\"id\":\"2075\"}},\"id\":\"2082\",\"type\":\"CDSView\"},{\"attributes\":{\"data\":{\"Date\":[\"1/2/2020 16:00:00\",\"1/3/2020 16:00:00\",\"1/6/2020 16:00:00\",\"1/7/2020 16:00:00\",\"1/8/2020 16:00:00\",\"1/9/2020 16:00:00\",\"1/10/2020 16:00:00\",\"1/13/2020 16:00:00\",\"1/14/2020 16:00:00\",\"1/15/2020 16:00:00\",\"1/16/2020 16:00:00\",\"1/17/2020 16:00:00\",\"1/21/2020 16:00:00\",\"1/22/2020 16:00:00\",\"1/23/2020 16:00:00\",\"1/24/2020 16:00:00\",\"1/27/2020 16:00:00\",\"1/28/2020 16:00:00\",\"1/29/2020 16:00:00\",\"1/30/2020 16:00:00\",\"1/31/2020 16:00:00\",\"2/3/2020 16:00:00\",\"2/4/2020 16:00:00\",\"2/5/2020 16:00:00\",\"2/6/2020 16:00:00\",\"2/7/2020 16:00:00\",\"2/10/2020 16:00:00\",\"2/11/2020 16:00:00\",\"2/12/2020 16:00:00\",\"2/13/2020 16:00:00\",\"2/14/2020 16:00:00\",\"2/18/2020 16:00:00\",\"2/19/2020 16:00:00\",\"2/20/2020 16:00:00\",\"2/21/2020 16:00:00\",\"2/24/2020 16:00:00\",\"2/25/2020 16:00:00\",\"2/26/2020 16:00:00\",\"2/27/2020 16:00:00\",\"2/28/2020 16:00:00\",\"3/2/2020 16:00:00\",\"3/3/2020 16:00:00\",\"3/4/2020 16:00:00\",\"3/5/2020 16:00:00\",\"3/6/2020 16:00:00\",\"3/9/2020 16:00:00\",\"3/10/2020 16:00:00\",\"3/11/2020 16:00:00\",\"3/12/2020 16:00:00\",\"3/13/2020 16:00:00\",\"3/16/2020 16:00:00\",\"3/17/2020 16:00:00\",\"3/18/2020 16:00:00\",\"3/19/2020 16:00:00\",\"3/20/2020 16:00:00\",\"3/23/2020 16:00:00\",\"3/24/2020 16:00:00\",\"3/25/2020 16:00:00\",\"3/26/2020 16:00:00\",\"3/27/2020 16:00:00\",\"3/30/2020 16:00:00\",\"3/31/2020 16:00:00\",\"4/1/2020 16:00:00\",\"4/2/2020 16:00:00\",\"4/3/2020 16:00:00\",\"4/6/2020 16:00:00\",\"4/7/2020 16:00:00\",\"4/8/2020 16:00:00\",\"4/9/2020 16:00:00\",\"4/13/2020 16:00:00\",\"4/14/2020 16:00:00\",\"4/15/2020 16:00:00\",\"4/16/2020 16:00:00\",\"4/17/2020 16:00:00\",\"4/20/2020 16:00:00\",\"4/21/2020 16:00:00\",\"4/22/2020 16:00:00\",\"4/23/2020 16:00:00\",\"4/24/2020 16:00:00\",\"4/27/2020 16:00:00\",\"4/28/2020 16:00:00\",\"4/29/2020 16:00:00\",\"4/30/2020 16:00:00\",\"5/1/2020 16:00:00\",\"5/4/2020 16:00:00\",\"5/5/2020 16:00:00\",\"5/6/2020 16:00:00\",\"5/7/2020 16:00:00\",\"5/8/2020 16:00:00\",\"5/11/2020 16:00:00\",\"5/12/2020 16:00:00\",\"5/13/2020 16:00:00\",\"5/14/2020 16:00:00\",\"5/15/2020 16:00:00\",\"5/18/2020 16:00:00\",\"5/19/2020 16:00:00\",\"5/20/2020 16:00:00\",\"5/21/2020 16:00:00\",\"5/22/2020 16:00:00\",\"5/26/2020 16:00:00\",\"5/27/2020 16:00:00\",\"5/28/2020 16:00:00\",\"5/29/2020 16:00:00\",\"6/1/2020 16:00:00\",\"6/2/2020 16:00:00\",\"6/3/2020 16:00:00\",\"6/4/2020 16:00:00\",\"6/5/2020 16:00:00\",\"6/8/2020 16:00:00\",\"6/9/2020 16:00:00\",\"6/10/2020 16:00:00\",\"6/11/2020 16:00:00\",\"6/12/2020 16:00:00\",\"6/15/2020 16:00:00\",\"6/16/2020 16:00:00\",\"6/17/2020 16:00:00\",\"6/18/2020 16:00:00\",\"6/19/2020 16:00:00\",\"6/22/2020 16:00:00\",\"6/23/2020 16:00:00\",\"6/24/2020 16:00:00\",\"6/25/2020 16:00:00\",\"6/26/2020 16:00:00\",\"6/29/2020 16:00:00\",\"6/30/2020 16:00:00\",\"7/1/2020 16:00:00\",\"7/2/2020 16:00:00\",\"7/6/2020 16:00:00\",\"7/7/2020 16:00:00\",\"7/8/2020 16:00:00\",\"7/9/2020 16:00:00\",\"7/10/2020 16:00:00\",\"7/13/2020 16:00:00\",\"7/14/2020 16:00:00\",\"7/15/2020 16:00:00\",\"7/16/2020 16:00:00\",\"7/17/2020 16:00:00\",\"7/20/2020 16:00:00\",\"7/21/2020 16:00:00\",\"7/22/2020 16:00:00\",\"7/23/2020 16:00:00\",\"7/24/2020 16:00:00\",\"7/27/2020 16:00:00\",\"7/28/2020 16:00:00\",\"7/29/2020 16:00:00\",\"7/30/2020 16:00:00\",\"7/31/2020 16:00:00\",\"8/3/2020 16:00:00\",\"8/4/2020 16:00:00\",\"8/5/2020 16:00:00\",\"8/6/2020 16:00:00\",\"8/7/2020 16:00:00\",\"8/10/2020 16:00:00\",\"8/11/2020 16:00:00\",\"8/12/2020 16:00:00\",\"8/13/2020 16:00:00\",\"8/14/2020 16:00:00\",\"8/17/2020 16:00:00\",\"8/18/2020 16:00:00\",\"8/19/2020 16:00:00\",\"8/20/2020 16:00:00\",\"8/21/2020 16:00:00\",\"8/24/2020 16:00:00\",\"8/25/2020 16:00:00\",\"8/26/2020 16:00:00\",\"8/27/2020 16:00:00\",\"8/28/2020 16:00:00\",\"8/31/2020 16:00:00\",\"9/1/2020 16:00:00\",\"9/2/2020 16:00:00\",\"9/3/2020 16:00:00\",\"9/4/2020 16:00:00\",\"9/8/2020 16:00:00\",\"9/9/2020 16:00:00\",\"9/10/2020 16:00:00\",\"9/11/2020 16:00:00\",\"9/14/2020 16:00:00\",\"9/15/2020 16:00:00\",\"9/16/2020 16:00:00\",\"9/17/2020 16:00:00\",\"9/18/2020 16:00:00\",\"9/21/2020 16:00:00\",\"9/22/2020 16:00:00\",\"9/23/2020 16:00:00\",\"9/24/2020 16:00:00\",\"9/25/2020 16:00:00\",\"9/28/2020 16:00:00\",\"9/29/2020 16:00:00\",\"9/30/2020 16:00:00\",\"10/1/2020 16:00:00\",\"10/2/2020 16:00:00\",\"10/5/2020 16:00:00\",\"10/6/2020 16:00:00\",\"10/7/2020 16:00:00\",\"10/8/2020 16:00:00\",\"10/9/2020 16:00:00\",\"10/12/2020 16:00:00\",\"10/13/2020 16:00:00\",\"10/14/2020 16:00:00\",\"10/15/2020 16:00:00\",\"10/16/2020 16:00:00\",\"10/19/2020 16:00:00\",\"10/20/2020 16:00:00\",\"10/21/2020 16:00:00\",\"10/22/2020 16:00:00\",\"10/23/2020 16:00:00\",\"10/26/2020 16:00:00\",\"10/27/2020 16:00:00\",\"10/28/2020 16:00:00\",\"10/29/2020 16:00:00\",\"10/30/2020 16:00:00\"],\"Delta Airlines\":{\"__ndarray__\":\"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\",\"dtype\":\"float64\",\"order\":\"little\",\"shape\":[211]},\"Delta_Airlines\":{\"__ndarray__\":\"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\",\"dtype\":\"float64\",\"order\":\"little\",\"shape\":[211]}},\"selected\":{\"id\":\"2076\"},\"selection_policy\":{\"id\":\"2094\"}},\"id\":\"2075\",\"type\":\"ColumnDataSource\"},{\"attributes\":{\"margin\":[5,5,5,5],\"name\":\"HSpacer03315\",\"sizing_mode\":\"stretch_width\"},\"id\":\"2042\",\"type\":\"Spacer\"},{\"attributes\":{\"callback\":null,\"renderers\":[{\"id\":\"2081\"}],\"tags\":[\"hv_created\"],\"tooltips\":[[\"Date\",\"@{Date}\"],[\"Delta Airlines\",\"@{Delta_Airlines}\"]]},\"id\":\"2045\",\"type\":\"HoverTool\"},{\"attributes\":{\"margin\":[5,5,5,5],\"name\":\"HSpacer03316\",\"sizing_mode\":\"stretch_width\"},\"id\":\"2103\",\"type\":\"Spacer\"},{\"attributes\":{\"axis\":{\"id\":\"2058\"},\"dimension\":1,\"grid_line_color\":null,\"ticker\":null},\"id\":\"2061\",\"type\":\"Grid\"},{\"attributes\":{},\"id\":\"2053\",\"type\":\"LinearScale\"},{\"attributes\":{},\"id\":\"2064\",\"type\":\"WheelZoomTool\"},{\"attributes\":{\"line_alpha\":0.1,\"line_color\":\"#1f77b3\",\"line_width\":2,\"x\":{\"field\":\"Date\"},\"y\":{\"field\":\"Delta Airlines\"}},\"id\":\"2079\",\"type\":\"Line\"},{\"attributes\":{},\"id\":\"2076\",\"type\":\"Selection\"},{\"attributes\":{\"active_drag\":\"auto\",\"active_inspect\":\"auto\",\"active_multi\":null,\"active_scroll\":\"auto\",\"active_tap\":\"auto\",\"tools\":[{\"id\":\"2045\"},{\"id\":\"2062\"},{\"id\":\"2063\"},{\"id\":\"2064\"},{\"id\":\"2065\"},{\"id\":\"2066\"}]},\"id\":\"2068\",\"type\":\"Toolbar\"},{\"attributes\":{},\"id\":\"2063\",\"type\":\"PanTool\"},{\"attributes\":{\"axis\":{\"id\":\"2055\"},\"grid_line_color\":null,\"ticker\":null},\"id\":\"2057\",\"type\":\"Grid\"},{\"attributes\":{},\"id\":\"2094\",\"type\":\"UnionRenderers\"},{\"attributes\":{},\"id\":\"2059\",\"type\":\"BasicTicker\"},{\"attributes\":{\"children\":[{\"id\":\"2042\"},{\"id\":\"2046\"},{\"id\":\"2103\"}],\"margin\":[0,0,0,0],\"name\":\"Row03311\",\"tags\":[\"embedded\"]},\"id\":\"2041\",\"type\":\"Row\"},{\"attributes\":{\"text\":\"\",\"text_color\":{\"value\":\"black\"},\"text_font_size\":{\"value\":\"12pt\"}},\"id\":\"2047\",\"type\":\"Title\"},{\"attributes\":{\"end\":66.31400000000001,\"reset_end\":66.31400000000001,\"reset_start\":14.906,\"start\":14.906,\"tags\":[[[\"Delta Airlines\",\"Delta Airlines\",null]]]},\"id\":\"2044\",\"type\":\"Range1d\"},{\"attributes\":{},\"id\":\"2084\",\"type\":\"CategoricalTickFormatter\"},{\"attributes\":{\"overlay\":{\"id\":\"2067\"}},\"id\":\"2065\",\"type\":\"BoxZoomTool\"},{\"attributes\":{},\"id\":\"2056\",\"type\":\"CategoricalTicker\"},{\"attributes\":{\"line_color\":\"#1f77b3\",\"line_width\":2,\"x\":{\"field\":\"Date\"},\"y\":{\"field\":\"Delta Airlines\"}},\"id\":\"2078\",\"type\":\"Line\"},{\"attributes\":{},\"id\":\"2086\",\"type\":\"BasicTickFormatter\"},{\"attributes\":{\"axis_label\":\"Delta Airlines\",\"bounds\":\"auto\",\"formatter\":{\"id\":\"2086\"},\"major_label_orientation\":\"horizontal\",\"ticker\":{\"id\":\"2059\"}},\"id\":\"2058\",\"type\":\"LinearAxis\"},{\"attributes\":{\"factors\":[\"1/2/2020 16:00:00\",\"1/3/2020 16:00:00\",\"1/6/2020 16:00:00\",\"1/7/2020 16:00:00\",\"1/8/2020 16:00:00\",\"1/9/2020 16:00:00\",\"1/10/2020 16:00:00\",\"1/13/2020 16:00:00\",\"1/14/2020 16:00:00\",\"1/15/2020 16:00:00\",\"1/16/2020 16:00:00\",\"1/17/2020 16:00:00\",\"1/21/2020 16:00:00\",\"1/22/2020 16:00:00\",\"1/23/2020 16:00:00\",\"1/24/2020 16:00:00\",\"1/27/2020 16:00:00\",\"1/28/2020 16:00:00\",\"1/29/2020 16:00:00\",\"1/30/2020 16:00:00\",\"1/31/2020 16:00:00\",\"2/3/2020 16:00:00\",\"2/4/2020 16:00:00\",\"2/5/2020 16:00:00\",\"2/6/2020 16:00:00\",\"2/7/2020 16:00:00\",\"2/10/2020 16:00:00\",\"2/11/2020 16:00:00\",\"2/12/2020 16:00:00\",\"2/13/2020 16:00:00\",\"2/14/2020 16:00:00\",\"2/18/2020 16:00:00\",\"2/19/2020 16:00:00\",\"2/20/2020 16:00:00\",\"2/21/2020 16:00:00\",\"2/24/2020 16:00:00\",\"2/25/2020 16:00:00\",\"2/26/2020 16:00:00\",\"2/27/2020 16:00:00\",\"2/28/2020 16:00:00\",\"3/2/2020 16:00:00\",\"3/3/2020 16:00:00\",\"3/4/2020 16:00:00\",\"3/5/2020 16:00:00\",\"3/6/2020 16:00:00\",\"3/9/2020 16:00:00\",\"3/10/2020 16:00:00\",\"3/11/2020 16:00:00\",\"3/12/2020 16:00:00\",\"3/13/2020 16:00:00\",\"3/16/2020 16:00:00\",\"3/17/2020 16:00:00\",\"3/18/2020 16:00:00\",\"3/19/2020 16:00:00\",\"3/20/2020 16:00:00\",\"3/23/2020 16:00:00\",\"3/24/2020 16:00:00\",\"3/25/2020 16:00:00\",\"3/26/2020 16:00:00\",\"3/27/2020 16:00:00\",\"3/30/2020 16:00:00\",\"3/31/2020 16:00:00\",\"4/1/2020 16:00:00\",\"4/2/2020 16:00:00\",\"4/3/2020 16:00:00\",\"4/6/2020 16:00:00\",\"4/7/2020 16:00:00\",\"4/8/2020 16:00:00\",\"4/9/2020 16:00:00\",\"4/13/2020 16:00:00\",\"4/14/2020 16:00:00\",\"4/15/2020 16:00:00\",\"4/16/2020 16:00:00\",\"4/17/2020 16:00:00\",\"4/20/2020 16:00:00\",\"4/21/2020 16:00:00\",\"4/22/2020 16:00:00\",\"4/23/2020 16:00:00\",\"4/24/2020 16:00:00\",\"4/27/2020 16:00:00\",\"4/28/2020 16:00:00\",\"4/29/2020 16:00:00\",\"4/30/2020 16:00:00\",\"5/1/2020 16:00:00\",\"5/4/2020 16:00:00\",\"5/5/2020 16:00:00\",\"5/6/2020 16:00:00\",\"5/7/2020 16:00:00\",\"5/8/2020 16:00:00\",\"5/11/2020 16:00:00\",\"5/12/2020 16:00:00\",\"5/13/2020 16:00:00\",\"5/14/2020 16:00:00\",\"5/15/2020 16:00:00\",\"5/18/2020 16:00:00\",\"5/19/2020 16:00:00\",\"5/20/2020 16:00:00\",\"5/21/2020 16:00:00\",\"5/22/2020 16:00:00\",\"5/26/2020 16:00:00\",\"5/27/2020 16:00:00\",\"5/28/2020 16:00:00\",\"5/29/2020 16:00:00\",\"6/1/2020 16:00:00\",\"6/2/2020 16:00:00\",\"6/3/2020 16:00:00\",\"6/4/2020 16:00:00\",\"6/5/2020 16:00:00\",\"6/8/2020 16:00:00\",\"6/9/2020 16:00:00\",\"6/10/2020 16:00:00\",\"6/11/2020 16:00:00\",\"6/12/2020 16:00:00\",\"6/15/2020 16:00:00\",\"6/16/2020 16:00:00\",\"6/17/2020 16:00:00\",\"6/18/2020 16:00:00\",\"6/19/2020 16:00:00\",\"6/22/2020 16:00:00\",\"6/23/2020 16:00:00\",\"6/24/2020 16:00:00\",\"6/25/2020 16:00:00\",\"6/26/2020 16:00:00\",\"6/29/2020 16:00:00\",\"6/30/2020 16:00:00\",\"7/1/2020 16:00:00\",\"7/2/2020 16:00:00\",\"7/6/2020 16:00:00\",\"7/7/2020 16:00:00\",\"7/8/2020 16:00:00\",\"7/9/2020 16:00:00\",\"7/10/2020 16:00:00\",\"7/13/2020 16:00:00\",\"7/14/2020 16:00:00\",\"7/15/2020 16:00:00\",\"7/16/2020 16:00:00\",\"7/17/2020 16:00:00\",\"7/20/2020 16:00:00\",\"7/21/2020 16:00:00\",\"7/22/2020 16:00:00\",\"7/23/2020 16:00:00\",\"7/24/2020 16:00:00\",\"7/27/2020 16:00:00\",\"7/28/2020 16:00:00\",\"7/29/2020 16:00:00\",\"7/30/2020 16:00:00\",\"7/31/2020 16:00:00\",\"8/3/2020 16:00:00\",\"8/4/2020 16:00:00\",\"8/5/2020 16:00:00\",\"8/6/2020 16:00:00\",\"8/7/2020 16:00:00\",\"8/10/2020 16:00:00\",\"8/11/2020 16:00:00\",\"8/12/2020 16:00:00\",\"8/13/2020 16:00:00\",\"8/14/2020 16:00:00\",\"8/17/2020 16:00:00\",\"8/18/2020 16:00:00\",\"8/19/2020 16:00:00\",\"8/20/2020 16:00:00\",\"8/21/2020 16:00:00\",\"8/24/2020 16:00:00\",\"8/25/2020 16:00:00\",\"8/26/2020 16:00:00\",\"8/27/2020 16:00:00\",\"8/28/2020 16:00:00\",\"8/31/2020 16:00:00\",\"9/1/2020 16:00:00\",\"9/2/2020 16:00:00\",\"9/3/2020 16:00:00\",\"9/4/2020 16:00:00\",\"9/8/2020 16:00:00\",\"9/9/2020 16:00:00\",\"9/10/2020 16:00:00\",\"9/11/2020 16:00:00\",\"9/14/2020 16:00:00\",\"9/15/2020 16:00:00\",\"9/16/2020 16:00:00\",\"9/17/2020 16:00:00\",\"9/18/2020 16:00:00\",\"9/21/2020 16:00:00\",\"9/22/2020 16:00:00\",\"9/23/2020 16:00:00\",\"9/24/2020 16:00:00\",\"9/25/2020 16:00:00\",\"9/28/2020 16:00:00\",\"9/29/2020 16:00:00\",\"9/30/2020 16:00:00\",\"10/1/2020 16:00:00\",\"10/2/2020 16:00:00\",\"10/5/2020 16:00:00\",\"10/6/2020 16:00:00\",\"10/7/2020 16:00:00\",\"10/8/2020 16:00:00\",\"10/9/2020 16:00:00\",\"10/12/2020 16:00:00\",\"10/13/2020 16:00:00\",\"10/14/2020 16:00:00\",\"10/15/2020 16:00:00\",\"10/16/2020 16:00:00\",\"10/19/2020 16:00:00\",\"10/20/2020 16:00:00\",\"10/21/2020 16:00:00\",\"10/22/2020 16:00:00\",\"10/23/2020 16:00:00\",\"10/26/2020 16:00:00\",\"10/27/2020 16:00:00\",\"10/28/2020 16:00:00\",\"10/29/2020 16:00:00\",\"10/30/2020 16:00:00\"],\"tags\":[[[\"Date\",\"Date\",null]]]},\"id\":\"2043\",\"type\":\"FactorRange\"},{\"attributes\":{},\"id\":\"2066\",\"type\":\"ResetTool\"},{\"attributes\":{\"bottom_units\":\"screen\",\"fill_alpha\":0.5,\"fill_color\":\"lightgrey\",\"left_units\":\"screen\",\"level\":\"overlay\",\"line_alpha\":1.0,\"line_color\":\"black\",\"line_dash\":[4,4],\"line_width\":2,\"right_units\":\"screen\",\"top_units\":\"screen\"},\"id\":\"2067\",\"type\":\"BoxAnnotation\"},{\"attributes\":{\"line_alpha\":0.2,\"line_color\":\"#1f77b3\",\"line_width\":2,\"x\":{\"field\":\"Date\"},\"y\":{\"field\":\"Delta Airlines\"}},\"id\":\"2080\",\"type\":\"Line\"}],\"root_ids\":[\"2041\"]},\"title\":\"Bokeh Application\",\"version\":\"2.1.1\"}};\n",
       "  var render_items = [{\"docid\":\"4b8f0731-6e91-4260-9131-d60a65436c99\",\"root_ids\":[\"2041\"],\"roots\":{\"2041\":\"7d1d1416-5ba6-4b68-8a5c-4fb3f106dfa0\"}}];\n",
       "  root.Bokeh.embed.embed_items_notebook(docs_json, render_items);\n",
       "  }\n",
       "if (root.Bokeh !== undefined) {\n",
       "    embed_document(root);\n",
       "  } else {\n",
       "    var attempts = 0;\n",
       "    var timer = setInterval(function(root) {\n",
       "      if (root.Bokeh !== undefined) {\n",
       "        clearInterval(timer);\n",
       "        embed_document(root);\n",
       "      } else if (document.readyState == \"complete\") {\n",
       "        attempts++;\n",
       "        if (attempts > 100) {\n",
       "          clearInterval(timer);\n",
       "          console.log(\"Bokeh: ERROR: Unable to run BokehJS code because BokehJS library is missing\");\n",
       "        }\n",
       "      }\n",
       "    }, 10, root)\n",
       "  }\n",
       "})(window);</script>"
      ],
      "text/plain": [
       ":Curve   [Date]   (Delta Airlines)"
      ]
     },
     "execution_count": 78,
     "metadata": {
      "application/vnd.holoviews_exec.v0+json": {
       "id": "2041"
      }
     },
     "output_type": "execute_result"
    }
   ],
   "source": [
    "#Plotting Delta\n",
    "delta_data.hvplot()"
   ]
  },
  {
   "cell_type": "code",
   "execution_count": 79,
   "metadata": {},
   "outputs": [],
   "source": [
    "#Reading Southwest Stock\n",
    "\n",
    "swa_csv = Path(\"/Users/sabrinareed/Desktop/JupyterWorkspace/covid19casedata/southwest.csv\")"
   ]
  },
  {
   "cell_type": "code",
   "execution_count": 80,
   "metadata": {},
   "outputs": [
    {
     "data": {
      "text/html": [
       "<div>\n",
       "<style scoped>\n",
       "    .dataframe tbody tr th:only-of-type {\n",
       "        vertical-align: middle;\n",
       "    }\n",
       "\n",
       "    .dataframe tbody tr th {\n",
       "        vertical-align: top;\n",
       "    }\n",
       "\n",
       "    .dataframe thead th {\n",
       "        text-align: right;\n",
       "    }\n",
       "</style>\n",
       "<table border=\"1\" class=\"dataframe\">\n",
       "  <thead>\n",
       "    <tr style=\"text-align: right;\">\n",
       "      <th></th>\n",
       "      <th>Southwest Airlines</th>\n",
       "    </tr>\n",
       "    <tr>\n",
       "      <th>Date</th>\n",
       "      <th></th>\n",
       "    </tr>\n",
       "  </thead>\n",
       "  <tbody>\n",
       "    <tr>\n",
       "      <th>1/2/2020 16:00:00</th>\n",
       "      <td>54.84</td>\n",
       "    </tr>\n",
       "    <tr>\n",
       "      <th>1/3/2020 16:00:00</th>\n",
       "      <td>54.35</td>\n",
       "    </tr>\n",
       "    <tr>\n",
       "      <th>1/6/2020 16:00:00</th>\n",
       "      <td>54.13</td>\n",
       "    </tr>\n",
       "    <tr>\n",
       "      <th>1/7/2020 16:00:00</th>\n",
       "      <td>54.29</td>\n",
       "    </tr>\n",
       "    <tr>\n",
       "      <th>1/8/2020 16:00:00</th>\n",
       "      <td>54.37</td>\n",
       "    </tr>\n",
       "  </tbody>\n",
       "</table>\n",
       "</div>"
      ],
      "text/plain": [
       "                   Southwest Airlines\n",
       "Date                                 \n",
       "1/2/2020 16:00:00               54.84\n",
       "1/3/2020 16:00:00               54.35\n",
       "1/6/2020 16:00:00               54.13\n",
       "1/7/2020 16:00:00               54.29\n",
       "1/8/2020 16:00:00               54.37"
      ]
     },
     "execution_count": 80,
     "metadata": {},
     "output_type": "execute_result"
    }
   ],
   "source": [
    "#Display Southwest stock data\n",
    "swa_data = pd.read_csv(swa_csv, header = 1, index_col=\"Date\")\n",
    "#Rename columns\n",
    "swa_data = swa_data.rename(columns={\"Close\": \"Southwest Airlines\",})\n",
    "swa_data.head()"
   ]
  },
  {
   "cell_type": "code",
   "execution_count": 81,
   "metadata": {},
   "outputs": [
    {
     "data": {
      "application/vnd.holoviews_exec.v0+json": "",
      "text/html": [
       "<div id='2145'>\n",
       "\n",
       "\n",
       "\n",
       "\n",
       "\n",
       "  <div class=\"bk-root\" id=\"89285aee-7543-4583-809b-03b8ccabf3cf\" data-root-id=\"2145\"></div>\n",
       "</div>\n",
       "<script type=\"application/javascript\">(function(root) {\n",
       "  function embed_document(root) {\n",
       "  var docs_json = {\"b5044c0d-db1f-4f0b-9cba-d31c3f4a330f\":{\"roots\":{\"references\":[{\"attributes\":{\"axis\":{\"id\":\"2159\"},\"grid_line_color\":null,\"ticker\":null},\"id\":\"2161\",\"type\":\"Grid\"},{\"attributes\":{\"data\":{\"Date\":[\"1/2/2020 16:00:00\",\"1/3/2020 16:00:00\",\"1/6/2020 16:00:00\",\"1/7/2020 16:00:00\",\"1/8/2020 16:00:00\",\"1/9/2020 16:00:00\",\"1/10/2020 16:00:00\",\"1/13/2020 16:00:00\",\"1/14/2020 16:00:00\",\"1/15/2020 16:00:00\",\"1/16/2020 16:00:00\",\"1/17/2020 16:00:00\",\"1/21/2020 16:00:00\",\"1/22/2020 16:00:00\",\"1/23/2020 16:00:00\",\"1/24/2020 16:00:00\",\"1/27/2020 16:00:00\",\"1/28/2020 16:00:00\",\"1/29/2020 16:00:00\",\"1/30/2020 16:00:00\",\"1/31/2020 16:00:00\",\"2/3/2020 16:00:00\",\"2/4/2020 16:00:00\",\"2/5/2020 16:00:00\",\"2/6/2020 16:00:00\",\"2/7/2020 16:00:00\",\"2/10/2020 16:00:00\",\"2/11/2020 16:00:00\",\"2/12/2020 16:00:00\",\"2/13/2020 16:00:00\",\"2/14/2020 16:00:00\",\"2/18/2020 16:00:00\",\"2/19/2020 16:00:00\",\"2/20/2020 16:00:00\",\"2/21/2020 16:00:00\",\"2/24/2020 16:00:00\",\"2/25/2020 16:00:00\",\"2/26/2020 16:00:00\",\"2/27/2020 16:00:00\",\"2/28/2020 16:00:00\",\"3/2/2020 16:00:00\",\"3/3/2020 16:00:00\",\"3/4/2020 16:00:00\",\"3/5/2020 16:00:00\",\"3/6/2020 16:00:00\",\"3/9/2020 16:00:00\",\"3/10/2020 16:00:00\",\"3/11/2020 16:00:00\",\"3/12/2020 16:00:00\",\"3/13/2020 16:00:00\",\"3/16/2020 16:00:00\",\"3/17/2020 16:00:00\",\"3/18/2020 16:00:00\",\"3/19/2020 16:00:00\",\"3/20/2020 16:00:00\",\"3/23/2020 16:00:00\",\"3/24/2020 16:00:00\",\"3/25/2020 16:00:00\",\"3/26/2020 16:00:00\",\"3/27/2020 16:00:00\",\"3/30/2020 16:00:00\",\"3/31/2020 16:00:00\",\"4/1/2020 16:00:00\",\"4/2/2020 16:00:00\",\"4/3/2020 16:00:00\",\"4/6/2020 16:00:00\",\"4/7/2020 16:00:00\",\"4/8/2020 16:00:00\",\"4/9/2020 16:00:00\",\"4/13/2020 16:00:00\",\"4/14/2020 16:00:00\",\"4/15/2020 16:00:00\",\"4/16/2020 16:00:00\",\"4/17/2020 16:00:00\",\"4/20/2020 16:00:00\",\"4/21/2020 16:00:00\",\"4/22/2020 16:00:00\",\"4/23/2020 16:00:00\",\"4/24/2020 16:00:00\",\"4/27/2020 16:00:00\",\"4/28/2020 16:00:00\",\"4/29/2020 16:00:00\",\"4/30/2020 16:00:00\",\"5/1/2020 16:00:00\",\"5/4/2020 16:00:00\",\"5/5/2020 16:00:00\",\"5/6/2020 16:00:00\",\"5/7/2020 16:00:00\",\"5/8/2020 16:00:00\",\"5/11/2020 16:00:00\",\"5/12/2020 16:00:00\",\"5/13/2020 16:00:00\",\"5/14/2020 16:00:00\",\"5/15/2020 16:00:00\",\"5/18/2020 16:00:00\",\"5/19/2020 16:00:00\",\"5/20/2020 16:00:00\",\"5/21/2020 16:00:00\",\"5/22/2020 16:00:00\",\"5/26/2020 16:00:00\",\"5/27/2020 16:00:00\",\"5/28/2020 16:00:00\",\"5/29/2020 16:00:00\",\"6/1/2020 16:00:00\",\"6/2/2020 16:00:00\",\"6/3/2020 16:00:00\",\"6/4/2020 16:00:00\",\"6/5/2020 16:00:00\",\"6/8/2020 16:00:00\",\"6/9/2020 16:00:00\",\"6/10/2020 16:00:00\",\"6/11/2020 16:00:00\",\"6/12/2020 16:00:00\",\"6/15/2020 16:00:00\",\"6/16/2020 16:00:00\",\"6/17/2020 16:00:00\",\"6/18/2020 16:00:00\",\"6/19/2020 16:00:00\",\"6/22/2020 16:00:00\",\"6/23/2020 16:00:00\",\"6/24/2020 16:00:00\",\"6/25/2020 16:00:00\",\"6/26/2020 16:00:00\",\"6/29/2020 16:00:00\",\"6/30/2020 16:00:00\",\"7/1/2020 16:00:00\",\"7/2/2020 16:00:00\",\"7/6/2020 16:00:00\",\"7/7/2020 16:00:00\",\"7/8/2020 16:00:00\",\"7/9/2020 16:00:00\",\"7/10/2020 16:00:00\",\"7/13/2020 16:00:00\",\"7/14/2020 16:00:00\",\"7/15/2020 16:00:00\",\"7/16/2020 16:00:00\",\"7/17/2020 16:00:00\",\"7/20/2020 16:00:00\",\"7/21/2020 16:00:00\",\"7/22/2020 16:00:00\",\"7/23/2020 16:00:00\",\"7/24/2020 16:00:00\",\"7/27/2020 16:00:00\",\"7/28/2020 16:00:00\",\"7/29/2020 16:00:00\",\"7/30/2020 16:00:00\",\"7/31/2020 16:00:00\",\"8/3/2020 16:00:00\",\"8/4/2020 16:00:00\",\"8/5/2020 16:00:00\",\"8/6/2020 16:00:00\",\"8/7/2020 16:00:00\",\"8/10/2020 16:00:00\",\"8/11/2020 16:00:00\",\"8/12/2020 16:00:00\",\"8/13/2020 16:00:00\",\"8/14/2020 16:00:00\",\"8/17/2020 16:00:00\",\"8/18/2020 16:00:00\",\"8/19/2020 16:00:00\",\"8/20/2020 16:00:00\",\"8/21/2020 16:00:00\",\"8/24/2020 16:00:00\",\"8/25/2020 16:00:00\",\"8/26/2020 16:00:00\",\"8/27/2020 16:00:00\",\"8/28/2020 16:00:00\",\"8/31/2020 16:00:00\",\"9/1/2020 16:00:00\",\"9/2/2020 16:00:00\",\"9/3/2020 16:00:00\",\"9/4/2020 16:00:00\",\"9/8/2020 16:00:00\",\"9/9/2020 16:00:00\",\"9/10/2020 16:00:00\",\"9/11/2020 16:00:00\",\"9/14/2020 16:00:00\",\"9/15/2020 16:00:00\",\"9/16/2020 16:00:00\",\"9/17/2020 16:00:00\",\"9/18/2020 16:00:00\",\"9/21/2020 16:00:00\",\"9/22/2020 16:00:00\",\"9/23/2020 16:00:00\",\"9/24/2020 16:00:00\",\"9/25/2020 16:00:00\",\"9/28/2020 16:00:00\",\"9/29/2020 16:00:00\",\"9/30/2020 16:00:00\",\"10/1/2020 16:00:00\",\"10/2/2020 16:00:00\",\"10/5/2020 16:00:00\",\"10/6/2020 16:00:00\",\"10/7/2020 16:00:00\",\"10/8/2020 16:00:00\",\"10/9/2020 16:00:00\",\"10/12/2020 16:00:00\",\"10/13/2020 16:00:00\",\"10/14/2020 16:00:00\",\"10/15/2020 16:00:00\",\"10/16/2020 16:00:00\",\"10/19/2020 16:00:00\",\"10/20/2020 16:00:00\",\"10/21/2020 16:00:00\",\"10/22/2020 16:00:00\",\"10/23/2020 16:00:00\",\"10/26/2020 16:00:00\",\"10/27/2020 16:00:00\",\"10/28/2020 16:00:00\",\"10/29/2020 16:00:00\",\"10/30/2020 16:00:00\"],\"Southwest Airlines\":{\"__ndarray__\":\"7FG4HoVrS0DNzMzMzCxLQHE9CtejEEtAhetRuB4lS0CPwvUoXC9LQGZmZmZmJktAuB6F61H4SkAfhetRuP5KQB+F61G4PktApHA9CteDS0BmZmZmZqZLQOF6FK5HgUtAhetRuB7FSkA9CtejcL1KQDMzMzMzs0tAZmZmZmZGTEAAAAAAACBMQM3MzMzMzExAUrgehetxTEAK16NwPepLQD0K16NwfUtAXI/C9SicS0DXo3A9CtdLQJqZmZmZeUxAXI/C9SjcTEDhehSuR6FMQPYoXI/CtUxA16NwPQr3TEA9CtejcD1NQIXrUbgeRU1AXI/C9Sj8TEDNzMzMzMxMQK5H4XoUjkxAuB6F61F4TECkcD0K10NMQK5H4XoUDktAFK5H4XrUSEAzMzMzM3NIQHE9CtejUEdAuB6F61EYR0CamZmZmXlHQHsUrkfhmkZA16NwPQp3R0AAAAAAAKBGQD0K16Nw3UZAj8L1KFzPRUBI4XoUrsdGQB+F61G4PkVAKVyPwvUIQkCkcD0K16NEQMP1KFyPwkJAAAAAAAAgQ0AzMzMzM5NBQFyPwvUo3D5AcT0K16PwP0A9CtejcN1AQBSuR+F61EJAMzMzMzOzQ0A9CtejcJ1EQHE9CtejMEJAzczMzMyMQUCuR+F6FM5BQIXrUbgeBUBAAAAAAACAP0AK16NwPYo+QDMzMzMzsz5Aw/UoXI9iQEBmZmZmZiZBQFyPwvUoPEJA4XoUrkchQUCkcD0K12NBQClcj8L1aEBArkfhehSuPkBxPQrXozA/QI/C9ShcDz9AXI/C9SgcPkD2KFyPwrU9QKRwPQrXIz5AFK5H4XpUPUBcj8L1KBw9QHE9CtejsD1AuB6F61H4PkAAAAAAAEA/QHsUrkfhOj1Aj8L1KFyPO0DsUbgehWs6QK5H4XoU7jhAMzMzMzNzOUAzMzMzMzM7QNejcD0KFzpAPQrXo3A9OUAAAAAAAAA4QEjhehSuxzhAH4XrUbjeN0DXo3A9Chc7QHE9CtejsDtAZmZmZmYmPUCamZmZmZk9QB+F61G43jxAw/UoXI9CQEAUrkfhetRAQGZmZmZmRkBAzczMzMwMQECPwvUoXM9AQD0K16NwPUFA9ihcj8I1QkDD9ShcjyJDQNejcD0KF0NA7FG4HoVLREDhehSuRwFDQFK4HoXrkUJACtejcD1qQECPwvUoXO9BQOxRuB6FK0JAKVyPwvVIQkBI4XoUridCQM3MzMzM7EFAZmZmZmZGQUCuR+F6FC5BQAAAAAAAYEFAAAAAAAAgQEBcj8L1KHxAQPYoXI/C9T9AhetRuB6FQUDXo3A9ChdBQEjhehSu50BAj8L1KFwPQUBmZmZmZiZBQOF6FK5HgUBAUrgehetxQEBSuB6F65E/QFyPwvUonEBAUrgehetRQEAAAAAAAKBAQAAAAAAA4EFAexSuR+EaQUBxPQrXoxBBQD0K16NwfUBAj8L1KFzPQEBmZmZmZqZAQIXrUbgeZUBAKVyPwvWoP0BI4XoUroc/QIXrUbgeJUBACtejcD3KP0D2KFyPwvU+QKRwPQrX4z5AFK5H4XqUP0BmZmZmZmY/QFyPwvUoXEBAw/UoXI+CQECkcD0K16NAQB+F61G4fkFAhetRuB6lQUAAAAAAAKBBQHsUrkfhWkFAMzMzMzNzQUBI4XoUrudAQBSuR+F6FEFAw/UoXI8iQUB7FK5H4TpBQLgehetRWEFAFK5H4Xp0QkBI4XoUrodCQHE9CtejMEJAMzMzMzPTQkBI4XoUrmdDQArXo3A9ykJAFK5H4Xr0QkD2KFyPwpVDQB+F61G4XkNAUrgeheuxQ0AAAAAAAEBEQFyPwvUonENAuB6F61F4Q0CamZmZmXlDQEjhehSuB0RArkfhehROREDNzMzMzAxFQDMzMzMzM0RACtejcD3qQ0DD9Shcj8JCQI/C9ShcD0NAZmZmZmbGQkCuR+F6FG5CQM3MzMzMjEJAH4XrUbgeQ0CuR+F6FM5CQAAAAAAAwEJA16NwPQr3QkDhehSuR2FDQB+F61G4PkNACtejcD3KQkDsUbgehUtDQB+F61G4fkNAPQrXo3DdQ0C4HoXrUZhDQHE9CtejkENAAAAAAACgQ0BmZmZmZmZDQNejcD0K10NAzczMzMzsQ0AUrkfhehREQOxRuB6F60NA16NwPQr3RECF61G4HmVFQM3MzMzMjERA16NwPQr3Q0BSuB6F6xFDQClcj8L1yENApHA9CtfDQ0A=\",\"dtype\":\"float64\",\"order\":\"little\",\"shape\":[211]},\"Southwest_Airlines\":{\"__ndarray__\":\"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\",\"dtype\":\"float64\",\"order\":\"little\",\"shape\":[211]}},\"selected\":{\"id\":\"2180\"},\"selection_policy\":{\"id\":\"2198\"}},\"id\":\"2179\",\"type\":\"ColumnDataSource\"},{\"attributes\":{},\"id\":\"2163\",\"type\":\"BasicTicker\"},{\"attributes\":{\"source\":{\"id\":\"2179\"}},\"id\":\"2186\",\"type\":\"CDSView\"},{\"attributes\":{\"active_drag\":\"auto\",\"active_inspect\":\"auto\",\"active_multi\":null,\"active_scroll\":\"auto\",\"active_tap\":\"auto\",\"tools\":[{\"id\":\"2149\"},{\"id\":\"2166\"},{\"id\":\"2167\"},{\"id\":\"2168\"},{\"id\":\"2169\"},{\"id\":\"2170\"}]},\"id\":\"2172\",\"type\":\"Toolbar\"},{\"attributes\":{},\"id\":\"2170\",\"type\":\"ResetTool\"},{\"attributes\":{\"axis_label\":\"Southwest Airlines\",\"bounds\":\"auto\",\"formatter\":{\"id\":\"2190\"},\"major_label_orientation\":\"horizontal\",\"ticker\":{\"id\":\"2163\"}},\"id\":\"2162\",\"type\":\"LinearAxis\"},{\"attributes\":{},\"id\":\"2157\",\"type\":\"LinearScale\"},{\"attributes\":{\"margin\":[5,5,5,5],\"name\":\"HSpacer03496\",\"sizing_mode\":\"stretch_width\"},\"id\":\"2207\",\"type\":\"Spacer\"},{\"attributes\":{\"axis\":{\"id\":\"2162\"},\"dimension\":1,\"grid_line_color\":null,\"ticker\":null},\"id\":\"2165\",\"type\":\"Grid\"},{\"attributes\":{\"text\":\"\",\"text_color\":{\"value\":\"black\"},\"text_font_size\":{\"value\":\"12pt\"}},\"id\":\"2151\",\"type\":\"Title\"},{\"attributes\":{\"line_alpha\":0.1,\"line_color\":\"#1f77b3\",\"line_width\":2,\"x\":{\"field\":\"Date\"},\"y\":{\"field\":\"Southwest Airlines\"}},\"id\":\"2183\",\"type\":\"Line\"},{\"attributes\":{\"align\":null,\"below\":[{\"id\":\"2159\"}],\"center\":[{\"id\":\"2161\"},{\"id\":\"2165\"}],\"left\":[{\"id\":\"2162\"}],\"margin\":null,\"min_border_bottom\":10,\"min_border_left\":10,\"min_border_right\":10,\"min_border_top\":10,\"plot_height\":300,\"plot_width\":700,\"renderers\":[{\"id\":\"2185\"}],\"sizing_mode\":\"fixed\",\"title\":{\"id\":\"2151\"},\"toolbar\":{\"id\":\"2172\"},\"x_range\":{\"id\":\"2147\"},\"x_scale\":{\"id\":\"2155\"},\"y_range\":{\"id\":\"2148\"},\"y_scale\":{\"id\":\"2157\"}},\"id\":\"2150\",\"subtype\":\"Figure\",\"type\":\"Plot\"},{\"attributes\":{},\"id\":\"2160\",\"type\":\"CategoricalTicker\"},{\"attributes\":{\"line_alpha\":0.2,\"line_color\":\"#1f77b3\",\"line_width\":2,\"x\":{\"field\":\"Date\"},\"y\":{\"field\":\"Southwest Airlines\"}},\"id\":\"2184\",\"type\":\"Line\"},{\"attributes\":{},\"id\":\"2190\",\"type\":\"BasicTickFormatter\"},{\"attributes\":{\"bottom_units\":\"screen\",\"fill_alpha\":0.5,\"fill_color\":\"lightgrey\",\"left_units\":\"screen\",\"level\":\"overlay\",\"line_alpha\":1.0,\"line_color\":\"black\",\"line_dash\":[4,4],\"line_width\":2,\"right_units\":\"screen\",\"top_units\":\"screen\"},\"id\":\"2171\",\"type\":\"BoxAnnotation\"},{\"attributes\":{},\"id\":\"2180\",\"type\":\"Selection\"},{\"attributes\":{},\"id\":\"2198\",\"type\":\"UnionRenderers\"},{\"attributes\":{},\"id\":\"2167\",\"type\":\"PanTool\"},{\"attributes\":{\"line_color\":\"#1f77b3\",\"line_width\":2,\"x\":{\"field\":\"Date\"},\"y\":{\"field\":\"Southwest Airlines\"}},\"id\":\"2182\",\"type\":\"Line\"},{\"attributes\":{\"overlay\":{\"id\":\"2171\"}},\"id\":\"2169\",\"type\":\"BoxZoomTool\"},{\"attributes\":{},\"id\":\"2168\",\"type\":\"WheelZoomTool\"},{\"attributes\":{\"margin\":[5,5,5,5],\"name\":\"HSpacer03495\",\"sizing_mode\":\"stretch_width\"},\"id\":\"2146\",\"type\":\"Spacer\"},{\"attributes\":{},\"id\":\"2188\",\"type\":\"CategoricalTickFormatter\"},{\"attributes\":{\"data_source\":{\"id\":\"2179\"},\"glyph\":{\"id\":\"2182\"},\"hover_glyph\":null,\"muted_glyph\":{\"id\":\"2184\"},\"nonselection_glyph\":{\"id\":\"2183\"},\"selection_glyph\":null,\"view\":{\"id\":\"2186\"}},\"id\":\"2185\",\"type\":\"GlyphRenderer\"},{\"attributes\":{\"end\":62.007,\"reset_end\":62.007,\"reset_start\":20.403,\"start\":20.403,\"tags\":[[[\"Southwest Airlines\",\"Southwest Airlines\",null]]]},\"id\":\"2148\",\"type\":\"Range1d\"},{\"attributes\":{\"factors\":[\"1/2/2020 16:00:00\",\"1/3/2020 16:00:00\",\"1/6/2020 16:00:00\",\"1/7/2020 16:00:00\",\"1/8/2020 16:00:00\",\"1/9/2020 16:00:00\",\"1/10/2020 16:00:00\",\"1/13/2020 16:00:00\",\"1/14/2020 16:00:00\",\"1/15/2020 16:00:00\",\"1/16/2020 16:00:00\",\"1/17/2020 16:00:00\",\"1/21/2020 16:00:00\",\"1/22/2020 16:00:00\",\"1/23/2020 16:00:00\",\"1/24/2020 16:00:00\",\"1/27/2020 16:00:00\",\"1/28/2020 16:00:00\",\"1/29/2020 16:00:00\",\"1/30/2020 16:00:00\",\"1/31/2020 16:00:00\",\"2/3/2020 16:00:00\",\"2/4/2020 16:00:00\",\"2/5/2020 16:00:00\",\"2/6/2020 16:00:00\",\"2/7/2020 16:00:00\",\"2/10/2020 16:00:00\",\"2/11/2020 16:00:00\",\"2/12/2020 16:00:00\",\"2/13/2020 16:00:00\",\"2/14/2020 16:00:00\",\"2/18/2020 16:00:00\",\"2/19/2020 16:00:00\",\"2/20/2020 16:00:00\",\"2/21/2020 16:00:00\",\"2/24/2020 16:00:00\",\"2/25/2020 16:00:00\",\"2/26/2020 16:00:00\",\"2/27/2020 16:00:00\",\"2/28/2020 16:00:00\",\"3/2/2020 16:00:00\",\"3/3/2020 16:00:00\",\"3/4/2020 16:00:00\",\"3/5/2020 16:00:00\",\"3/6/2020 16:00:00\",\"3/9/2020 16:00:00\",\"3/10/2020 16:00:00\",\"3/11/2020 16:00:00\",\"3/12/2020 16:00:00\",\"3/13/2020 16:00:00\",\"3/16/2020 16:00:00\",\"3/17/2020 16:00:00\",\"3/18/2020 16:00:00\",\"3/19/2020 16:00:00\",\"3/20/2020 16:00:00\",\"3/23/2020 16:00:00\",\"3/24/2020 16:00:00\",\"3/25/2020 16:00:00\",\"3/26/2020 16:00:00\",\"3/27/2020 16:00:00\",\"3/30/2020 16:00:00\",\"3/31/2020 16:00:00\",\"4/1/2020 16:00:00\",\"4/2/2020 16:00:00\",\"4/3/2020 16:00:00\",\"4/6/2020 16:00:00\",\"4/7/2020 16:00:00\",\"4/8/2020 16:00:00\",\"4/9/2020 16:00:00\",\"4/13/2020 16:00:00\",\"4/14/2020 16:00:00\",\"4/15/2020 16:00:00\",\"4/16/2020 16:00:00\",\"4/17/2020 16:00:00\",\"4/20/2020 16:00:00\",\"4/21/2020 16:00:00\",\"4/22/2020 16:00:00\",\"4/23/2020 16:00:00\",\"4/24/2020 16:00:00\",\"4/27/2020 16:00:00\",\"4/28/2020 16:00:00\",\"4/29/2020 16:00:00\",\"4/30/2020 16:00:00\",\"5/1/2020 16:00:00\",\"5/4/2020 16:00:00\",\"5/5/2020 16:00:00\",\"5/6/2020 16:00:00\",\"5/7/2020 16:00:00\",\"5/8/2020 16:00:00\",\"5/11/2020 16:00:00\",\"5/12/2020 16:00:00\",\"5/13/2020 16:00:00\",\"5/14/2020 16:00:00\",\"5/15/2020 16:00:00\",\"5/18/2020 16:00:00\",\"5/19/2020 16:00:00\",\"5/20/2020 16:00:00\",\"5/21/2020 16:00:00\",\"5/22/2020 16:00:00\",\"5/26/2020 16:00:00\",\"5/27/2020 16:00:00\",\"5/28/2020 16:00:00\",\"5/29/2020 16:00:00\",\"6/1/2020 16:00:00\",\"6/2/2020 16:00:00\",\"6/3/2020 16:00:00\",\"6/4/2020 16:00:00\",\"6/5/2020 16:00:00\",\"6/8/2020 16:00:00\",\"6/9/2020 16:00:00\",\"6/10/2020 16:00:00\",\"6/11/2020 16:00:00\",\"6/12/2020 16:00:00\",\"6/15/2020 16:00:00\",\"6/16/2020 16:00:00\",\"6/17/2020 16:00:00\",\"6/18/2020 16:00:00\",\"6/19/2020 16:00:00\",\"6/22/2020 16:00:00\",\"6/23/2020 16:00:00\",\"6/24/2020 16:00:00\",\"6/25/2020 16:00:00\",\"6/26/2020 16:00:00\",\"6/29/2020 16:00:00\",\"6/30/2020 16:00:00\",\"7/1/2020 16:00:00\",\"7/2/2020 16:00:00\",\"7/6/2020 16:00:00\",\"7/7/2020 16:00:00\",\"7/8/2020 16:00:00\",\"7/9/2020 16:00:00\",\"7/10/2020 16:00:00\",\"7/13/2020 16:00:00\",\"7/14/2020 16:00:00\",\"7/15/2020 16:00:00\",\"7/16/2020 16:00:00\",\"7/17/2020 16:00:00\",\"7/20/2020 16:00:00\",\"7/21/2020 16:00:00\",\"7/22/2020 16:00:00\",\"7/23/2020 16:00:00\",\"7/24/2020 16:00:00\",\"7/27/2020 16:00:00\",\"7/28/2020 16:00:00\",\"7/29/2020 16:00:00\",\"7/30/2020 16:00:00\",\"7/31/2020 16:00:00\",\"8/3/2020 16:00:00\",\"8/4/2020 16:00:00\",\"8/5/2020 16:00:00\",\"8/6/2020 16:00:00\",\"8/7/2020 16:00:00\",\"8/10/2020 16:00:00\",\"8/11/2020 16:00:00\",\"8/12/2020 16:00:00\",\"8/13/2020 16:00:00\",\"8/14/2020 16:00:00\",\"8/17/2020 16:00:00\",\"8/18/2020 16:00:00\",\"8/19/2020 16:00:00\",\"8/20/2020 16:00:00\",\"8/21/2020 16:00:00\",\"8/24/2020 16:00:00\",\"8/25/2020 16:00:00\",\"8/26/2020 16:00:00\",\"8/27/2020 16:00:00\",\"8/28/2020 16:00:00\",\"8/31/2020 16:00:00\",\"9/1/2020 16:00:00\",\"9/2/2020 16:00:00\",\"9/3/2020 16:00:00\",\"9/4/2020 16:00:00\",\"9/8/2020 16:00:00\",\"9/9/2020 16:00:00\",\"9/10/2020 16:00:00\",\"9/11/2020 16:00:00\",\"9/14/2020 16:00:00\",\"9/15/2020 16:00:00\",\"9/16/2020 16:00:00\",\"9/17/2020 16:00:00\",\"9/18/2020 16:00:00\",\"9/21/2020 16:00:00\",\"9/22/2020 16:00:00\",\"9/23/2020 16:00:00\",\"9/24/2020 16:00:00\",\"9/25/2020 16:00:00\",\"9/28/2020 16:00:00\",\"9/29/2020 16:00:00\",\"9/30/2020 16:00:00\",\"10/1/2020 16:00:00\",\"10/2/2020 16:00:00\",\"10/5/2020 16:00:00\",\"10/6/2020 16:00:00\",\"10/7/2020 16:00:00\",\"10/8/2020 16:00:00\",\"10/9/2020 16:00:00\",\"10/12/2020 16:00:00\",\"10/13/2020 16:00:00\",\"10/14/2020 16:00:00\",\"10/15/2020 16:00:00\",\"10/16/2020 16:00:00\",\"10/19/2020 16:00:00\",\"10/20/2020 16:00:00\",\"10/21/2020 16:00:00\",\"10/22/2020 16:00:00\",\"10/23/2020 16:00:00\",\"10/26/2020 16:00:00\",\"10/27/2020 16:00:00\",\"10/28/2020 16:00:00\",\"10/29/2020 16:00:00\",\"10/30/2020 16:00:00\"],\"tags\":[[[\"Date\",\"Date\",null]]]},\"id\":\"2147\",\"type\":\"FactorRange\"},{\"attributes\":{},\"id\":\"2166\",\"type\":\"SaveTool\"},{\"attributes\":{\"axis_label\":\"Date\",\"bounds\":\"auto\",\"formatter\":{\"id\":\"2188\"},\"major_label_orientation\":\"horizontal\",\"ticker\":{\"id\":\"2160\"}},\"id\":\"2159\",\"type\":\"CategoricalAxis\"},{\"attributes\":{\"callback\":null,\"renderers\":[{\"id\":\"2185\"}],\"tags\":[\"hv_created\"],\"tooltips\":[[\"Date\",\"@{Date}\"],[\"Southwest Airlines\",\"@{Southwest_Airlines}\"]]},\"id\":\"2149\",\"type\":\"HoverTool\"},{\"attributes\":{\"children\":[{\"id\":\"2146\"},{\"id\":\"2150\"},{\"id\":\"2207\"}],\"margin\":[0,0,0,0],\"name\":\"Row03491\",\"tags\":[\"embedded\"]},\"id\":\"2145\",\"type\":\"Row\"},{\"attributes\":{},\"id\":\"2155\",\"type\":\"CategoricalScale\"}],\"root_ids\":[\"2145\"]},\"title\":\"Bokeh Application\",\"version\":\"2.1.1\"}};\n",
       "  var render_items = [{\"docid\":\"b5044c0d-db1f-4f0b-9cba-d31c3f4a330f\",\"root_ids\":[\"2145\"],\"roots\":{\"2145\":\"89285aee-7543-4583-809b-03b8ccabf3cf\"}}];\n",
       "  root.Bokeh.embed.embed_items_notebook(docs_json, render_items);\n",
       "  }\n",
       "if (root.Bokeh !== undefined) {\n",
       "    embed_document(root);\n",
       "  } else {\n",
       "    var attempts = 0;\n",
       "    var timer = setInterval(function(root) {\n",
       "      if (root.Bokeh !== undefined) {\n",
       "        clearInterval(timer);\n",
       "        embed_document(root);\n",
       "      } else if (document.readyState == \"complete\") {\n",
       "        attempts++;\n",
       "        if (attempts > 100) {\n",
       "          clearInterval(timer);\n",
       "          console.log(\"Bokeh: ERROR: Unable to run BokehJS code because BokehJS library is missing\");\n",
       "        }\n",
       "      }\n",
       "    }, 10, root)\n",
       "  }\n",
       "})(window);</script>"
      ],
      "text/plain": [
       ":Curve   [Date]   (Southwest Airlines)"
      ]
     },
     "execution_count": 81,
     "metadata": {
      "application/vnd.holoviews_exec.v0+json": {
       "id": "2145"
      }
     },
     "output_type": "execute_result"
    }
   ],
   "source": [
    "#Plotting Southwest\n",
    "swa_data.hvplot()"
   ]
  },
  {
   "cell_type": "code",
   "execution_count": 67,
   "metadata": {},
   "outputs": [],
   "source": [
    "#Reading United Stock\n",
    "\n",
    "united_csv = Path(\"/Users/sabrinareed/Desktop/JupyterWorkspace/covid19casedata/united.csv\")"
   ]
  },
  {
   "cell_type": "code",
   "execution_count": 82,
   "metadata": {},
   "outputs": [
    {
     "data": {
      "text/html": [
       "<div>\n",
       "<style scoped>\n",
       "    .dataframe tbody tr th:only-of-type {\n",
       "        vertical-align: middle;\n",
       "    }\n",
       "\n",
       "    .dataframe tbody tr th {\n",
       "        vertical-align: top;\n",
       "    }\n",
       "\n",
       "    .dataframe thead th {\n",
       "        text-align: right;\n",
       "    }\n",
       "</style>\n",
       "<table border=\"1\" class=\"dataframe\">\n",
       "  <thead>\n",
       "    <tr style=\"text-align: right;\">\n",
       "      <th></th>\n",
       "      <th>United Airlines</th>\n",
       "    </tr>\n",
       "    <tr>\n",
       "      <th>Date</th>\n",
       "      <th></th>\n",
       "    </tr>\n",
       "  </thead>\n",
       "  <tbody>\n",
       "    <tr>\n",
       "      <th>1/2/2020 16:00:00</th>\n",
       "      <td>89.74</td>\n",
       "    </tr>\n",
       "    <tr>\n",
       "      <th>1/3/2020 16:00:00</th>\n",
       "      <td>87.90</td>\n",
       "    </tr>\n",
       "    <tr>\n",
       "      <th>1/6/2020 16:00:00</th>\n",
       "      <td>87.70</td>\n",
       "    </tr>\n",
       "    <tr>\n",
       "      <th>1/7/2020 16:00:00</th>\n",
       "      <td>86.77</td>\n",
       "    </tr>\n",
       "    <tr>\n",
       "      <th>1/8/2020 16:00:00</th>\n",
       "      <td>87.30</td>\n",
       "    </tr>\n",
       "  </tbody>\n",
       "</table>\n",
       "</div>"
      ],
      "text/plain": [
       "                   United Airlines\n",
       "Date                              \n",
       "1/2/2020 16:00:00            89.74\n",
       "1/3/2020 16:00:00            87.90\n",
       "1/6/2020 16:00:00            87.70\n",
       "1/7/2020 16:00:00            86.77\n",
       "1/8/2020 16:00:00            87.30"
      ]
     },
     "execution_count": 82,
     "metadata": {},
     "output_type": "execute_result"
    }
   ],
   "source": [
    "#Display Southwest stock data\n",
    "united_data = pd.read_csv(united_csv, header = 1, index_col=\"Date\")\n",
    "#Rename columns\n",
    "united_data = united_data.rename(columns={\"Close\": \"United Airlines\",})\n",
    "united_data.head()"
   ]
  },
  {
   "cell_type": "code",
   "execution_count": 83,
   "metadata": {},
   "outputs": [
    {
     "data": {
      "application/vnd.holoviews_exec.v0+json": "",
      "text/html": [
       "<div id='2249'>\n",
       "\n",
       "\n",
       "\n",
       "\n",
       "\n",
       "  <div class=\"bk-root\" id=\"ace510a3-be54-48bb-8bd0-5dc969bdd0d2\" data-root-id=\"2249\"></div>\n",
       "</div>\n",
       "<script type=\"application/javascript\">(function(root) {\n",
       "  function embed_document(root) {\n",
       "  var docs_json = {\"148fec6f-c391-49cb-884b-6e07b4bfc070\":{\"roots\":{\"references\":[{\"attributes\":{\"text\":\"\",\"text_color\":{\"value\":\"black\"},\"text_font_size\":{\"value\":\"12pt\"}},\"id\":\"2255\",\"type\":\"Title\"},{\"attributes\":{},\"id\":\"2274\",\"type\":\"ResetTool\"},{\"attributes\":{\"source\":{\"id\":\"2283\"}},\"id\":\"2290\",\"type\":\"CDSView\"},{\"attributes\":{},\"id\":\"2272\",\"type\":\"WheelZoomTool\"},{\"attributes\":{\"overlay\":{\"id\":\"2275\"}},\"id\":\"2273\",\"type\":\"BoxZoomTool\"},{\"attributes\":{},\"id\":\"2284\",\"type\":\"Selection\"},{\"attributes\":{},\"id\":\"2261\",\"type\":\"LinearScale\"},{\"attributes\":{},\"id\":\"2271\",\"type\":\"PanTool\"},{\"attributes\":{},\"id\":\"2259\",\"type\":\"CategoricalScale\"},{\"attributes\":{\"line_color\":\"#1f77b3\",\"line_width\":2,\"x\":{\"field\":\"Date\"},\"y\":{\"field\":\"United Airlines\"}},\"id\":\"2286\",\"type\":\"Line\"},{\"attributes\":{},\"id\":\"2270\",\"type\":\"SaveTool\"},{\"attributes\":{\"axis\":{\"id\":\"2263\"},\"grid_line_color\":null,\"ticker\":null},\"id\":\"2265\",\"type\":\"Grid\"},{\"attributes\":{\"data_source\":{\"id\":\"2283\"},\"glyph\":{\"id\":\"2286\"},\"hover_glyph\":null,\"muted_glyph\":{\"id\":\"2288\"},\"nonselection_glyph\":{\"id\":\"2287\"},\"selection_glyph\":null,\"view\":{\"id\":\"2290\"}},\"id\":\"2289\",\"type\":\"GlyphRenderer\"},{\"attributes\":{\"align\":null,\"below\":[{\"id\":\"2263\"}],\"center\":[{\"id\":\"2265\"},{\"id\":\"2269\"}],\"left\":[{\"id\":\"2266\"}],\"margin\":null,\"min_border_bottom\":10,\"min_border_left\":10,\"min_border_right\":10,\"min_border_top\":10,\"plot_height\":300,\"plot_width\":700,\"renderers\":[{\"id\":\"2289\"}],\"sizing_mode\":\"fixed\",\"title\":{\"id\":\"2255\"},\"toolbar\":{\"id\":\"2276\"},\"x_range\":{\"id\":\"2251\"},\"x_scale\":{\"id\":\"2259\"},\"y_range\":{\"id\":\"2252\"},\"y_scale\":{\"id\":\"2261\"}},\"id\":\"2254\",\"subtype\":\"Figure\",\"type\":\"Plot\"},{\"attributes\":{\"bottom_units\":\"screen\",\"fill_alpha\":0.5,\"fill_color\":\"lightgrey\",\"left_units\":\"screen\",\"level\":\"overlay\",\"line_alpha\":1.0,\"line_color\":\"black\",\"line_dash\":[4,4],\"line_width\":2,\"right_units\":\"screen\",\"top_units\":\"screen\"},\"id\":\"2275\",\"type\":\"BoxAnnotation\"},{\"attributes\":{\"line_alpha\":0.2,\"line_color\":\"#1f77b3\",\"line_width\":2,\"x\":{\"field\":\"Date\"},\"y\":{\"field\":\"United Airlines\"}},\"id\":\"2288\",\"type\":\"Line\"},{\"attributes\":{\"data\":{\"Date\":[\"1/2/2020 16:00:00\",\"1/3/2020 16:00:00\",\"1/6/2020 16:00:00\",\"1/7/2020 16:00:00\",\"1/8/2020 16:00:00\",\"1/9/2020 16:00:00\",\"1/10/2020 16:00:00\",\"1/13/2020 16:00:00\",\"1/14/2020 16:00:00\",\"1/15/2020 16:00:00\",\"1/16/2020 16:00:00\",\"1/17/2020 16:00:00\",\"1/21/2020 16:00:00\",\"1/22/2020 16:00:00\",\"1/23/2020 16:00:00\",\"1/24/2020 16:00:00\",\"1/27/2020 16:00:00\",\"1/28/2020 16:00:00\",\"1/29/2020 16:00:00\",\"1/30/2020 16:00:00\",\"1/31/2020 16:00:00\",\"2/3/2020 16:00:00\",\"2/4/2020 16:00:00\",\"2/5/2020 16:00:00\",\"2/6/2020 16:00:00\",\"2/7/2020 16:00:00\",\"2/10/2020 16:00:00\",\"2/11/2020 16:00:00\",\"2/12/2020 16:00:00\",\"2/13/2020 16:00:00\",\"2/14/2020 16:00:00\",\"2/18/2020 16:00:00\",\"2/19/2020 16:00:00\",\"2/20/2020 16:00:00\",\"2/21/2020 16:00:00\",\"2/24/2020 16:00:00\",\"2/25/2020 16:00:00\",\"2/26/2020 16:00:00\",\"2/27/2020 16:00:00\",\"2/28/2020 16:00:00\",\"3/2/2020 16:00:00\",\"3/3/2020 16:00:00\",\"3/4/2020 16:00:00\",\"3/5/2020 16:00:00\",\"3/6/2020 16:00:00\",\"3/9/2020 16:00:00\",\"3/10/2020 16:00:00\",\"3/11/2020 16:00:00\",\"3/12/2020 16:00:00\",\"3/13/2020 16:00:00\",\"3/16/2020 16:00:00\",\"3/17/2020 16:00:00\",\"3/18/2020 16:00:00\",\"3/19/2020 16:00:00\",\"3/20/2020 16:00:00\",\"3/23/2020 16:00:00\",\"3/24/2020 16:00:00\",\"3/25/2020 16:00:00\",\"3/26/2020 16:00:00\",\"3/27/2020 16:00:00\",\"3/30/2020 16:00:00\",\"3/31/2020 16:00:00\",\"4/1/2020 16:00:00\",\"4/2/2020 16:00:00\",\"4/3/2020 16:00:00\",\"4/6/2020 16:00:00\",\"4/7/2020 16:00:00\",\"4/8/2020 16:00:00\",\"4/9/2020 16:00:00\",\"4/13/2020 16:00:00\",\"4/14/2020 16:00:00\",\"4/15/2020 16:00:00\",\"4/16/2020 16:00:00\",\"4/17/2020 16:00:00\",\"4/20/2020 16:00:00\",\"4/21/2020 16:00:00\",\"4/22/2020 16:00:00\",\"4/23/2020 16:00:00\",\"4/24/2020 16:00:00\",\"4/27/2020 16:00:00\",\"4/28/2020 16:00:00\",\"4/29/2020 16:00:00\",\"4/30/2020 16:00:00\",\"5/1/2020 16:00:00\",\"5/4/2020 16:00:00\",\"5/5/2020 16:00:00\",\"5/6/2020 16:00:00\",\"5/7/2020 16:00:00\",\"5/8/2020 16:00:00\",\"5/11/2020 16:00:00\",\"5/12/2020 16:00:00\",\"5/13/2020 16:00:00\",\"5/14/2020 16:00:00\",\"5/15/2020 16:00:00\",\"5/18/2020 16:00:00\",\"5/19/2020 16:00:00\",\"5/20/2020 16:00:00\",\"5/21/2020 16:00:00\",\"5/22/2020 16:00:00\",\"5/26/2020 16:00:00\",\"5/27/2020 16:00:00\",\"5/28/2020 16:00:00\",\"5/29/2020 16:00:00\",\"6/1/2020 16:00:00\",\"6/2/2020 16:00:00\",\"6/3/2020 16:00:00\",\"6/4/2020 16:00:00\",\"6/5/2020 16:00:00\",\"6/8/2020 16:00:00\",\"6/9/2020 16:00:00\",\"6/10/2020 16:00:00\",\"6/11/2020 16:00:00\",\"6/12/2020 16:00:00\",\"6/15/2020 16:00:00\",\"6/16/2020 16:00:00\",\"6/17/2020 16:00:00\",\"6/18/2020 16:00:00\",\"6/19/2020 16:00:00\",\"6/22/2020 16:00:00\",\"6/23/2020 16:00:00\",\"6/24/2020 16:00:00\",\"6/25/2020 16:00:00\",\"6/26/2020 16:00:00\",\"6/29/2020 16:00:00\",\"6/30/2020 16:00:00\",\"7/1/2020 16:00:00\",\"7/2/2020 16:00:00\",\"7/6/2020 16:00:00\",\"7/7/2020 16:00:00\",\"7/8/2020 16:00:00\",\"7/9/2020 16:00:00\",\"7/10/2020 16:00:00\",\"7/13/2020 16:00:00\",\"7/14/2020 16:00:00\",\"7/15/2020 16:00:00\",\"7/16/2020 16:00:00\",\"7/17/2020 16:00:00\",\"7/20/2020 16:00:00\",\"7/21/2020 16:00:00\",\"7/22/2020 16:00:00\",\"7/23/2020 16:00:00\",\"7/24/2020 16:00:00\",\"7/27/2020 16:00:00\",\"7/28/2020 16:00:00\",\"7/29/2020 16:00:00\",\"7/30/2020 16:00:00\",\"7/31/2020 16:00:00\",\"8/3/2020 16:00:00\",\"8/4/2020 16:00:00\",\"8/5/2020 16:00:00\",\"8/6/2020 16:00:00\",\"8/7/2020 16:00:00\",\"8/10/2020 16:00:00\",\"8/11/2020 16:00:00\",\"8/12/2020 16:00:00\",\"8/13/2020 16:00:00\",\"8/14/2020 16:00:00\",\"8/17/2020 16:00:00\",\"8/18/2020 16:00:00\",\"8/19/2020 16:00:00\",\"8/20/2020 16:00:00\",\"8/21/2020 16:00:00\",\"8/24/2020 16:00:00\",\"8/25/2020 16:00:00\",\"8/26/2020 16:00:00\",\"8/27/2020 16:00:00\",\"8/28/2020 16:00:00\",\"8/31/2020 16:00:00\",\"9/1/2020 16:00:00\",\"9/2/2020 16:00:00\",\"9/3/2020 16:00:00\",\"9/4/2020 16:00:00\",\"9/8/2020 16:00:00\",\"9/9/2020 16:00:00\",\"9/10/2020 16:00:00\",\"9/11/2020 16:00:00\",\"9/14/2020 16:00:00\",\"9/15/2020 16:00:00\",\"9/16/2020 16:00:00\",\"9/17/2020 16:00:00\",\"9/18/2020 16:00:00\",\"9/21/2020 16:00:00\",\"9/22/2020 16:00:00\",\"9/23/2020 16:00:00\",\"9/24/2020 16:00:00\",\"9/25/2020 16:00:00\",\"9/28/2020 16:00:00\",\"9/29/2020 16:00:00\",\"9/30/2020 16:00:00\",\"10/1/2020 16:00:00\",\"10/2/2020 16:00:00\",\"10/5/2020 16:00:00\",\"10/6/2020 16:00:00\",\"10/7/2020 16:00:00\",\"10/8/2020 16:00:00\",\"10/9/2020 16:00:00\",\"10/12/2020 16:00:00\",\"10/13/2020 16:00:00\",\"10/14/2020 16:00:00\",\"10/15/2020 16:00:00\",\"10/16/2020 16:00:00\",\"10/19/2020 16:00:00\",\"10/20/2020 16:00:00\",\"10/21/2020 16:00:00\",\"10/22/2020 16:00:00\",\"10/23/2020 16:00:00\",\"10/26/2020 16:00:00\",\"10/27/2020 16:00:00\",\"10/28/2020 16:00:00\",\"10/29/2020 16:00:00\",\"10/30/2020 16:00:00\"],\"United Airlines\":{\"__ndarray__\":\"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\",\"dtype\":\"float64\",\"order\":\"little\",\"shape\":[211]},\"United_Airlines\":{\"__ndarray__\":\"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\",\"dtype\":\"float64\",\"order\":\"little\",\"shape\":[211]}},\"selected\":{\"id\":\"2284\"},\"selection_policy\":{\"id\":\"2302\"}},\"id\":\"2283\",\"type\":\"ColumnDataSource\"},{\"attributes\":{\"callback\":null,\"renderers\":[{\"id\":\"2289\"}],\"tags\":[\"hv_created\"],\"tooltips\":[[\"Date\",\"@{Date}\"],[\"United Airlines\",\"@{United_Airlines}\"]]},\"id\":\"2253\",\"type\":\"HoverTool\"},{\"attributes\":{},\"id\":\"2292\",\"type\":\"CategoricalTickFormatter\"},{\"attributes\":{},\"id\":\"2294\",\"type\":\"BasicTickFormatter\"},{\"attributes\":{\"children\":[{\"id\":\"2250\"},{\"id\":\"2254\"},{\"id\":\"2311\"}],\"margin\":[0,0,0,0],\"name\":\"Row03671\",\"tags\":[\"embedded\"]},\"id\":\"2249\",\"type\":\"Row\"},{\"attributes\":{\"axis_label\":\"Date\",\"bounds\":\"auto\",\"formatter\":{\"id\":\"2292\"},\"major_label_orientation\":\"horizontal\",\"ticker\":{\"id\":\"2264\"}},\"id\":\"2263\",\"type\":\"CategoricalAxis\"},{\"attributes\":{\"margin\":[5,5,5,5],\"name\":\"HSpacer03675\",\"sizing_mode\":\"stretch_width\"},\"id\":\"2250\",\"type\":\"Spacer\"},{\"attributes\":{\"end\":96.722,\"reset_end\":96.722,\"reset_start\":12.938000000000002,\"start\":12.938000000000002,\"tags\":[[[\"United Airlines\",\"United Airlines\",null]]]},\"id\":\"2252\",\"type\":\"Range1d\"},{\"attributes\":{},\"id\":\"2302\",\"type\":\"UnionRenderers\"},{\"attributes\":{\"axis_label\":\"United Airlines\",\"bounds\":\"auto\",\"formatter\":{\"id\":\"2294\"},\"major_label_orientation\":\"horizontal\",\"ticker\":{\"id\":\"2267\"}},\"id\":\"2266\",\"type\":\"LinearAxis\"},{\"attributes\":{},\"id\":\"2264\",\"type\":\"CategoricalTicker\"},{\"attributes\":{\"margin\":[5,5,5,5],\"name\":\"HSpacer03676\",\"sizing_mode\":\"stretch_width\"},\"id\":\"2311\",\"type\":\"Spacer\"},{\"attributes\":{\"line_alpha\":0.1,\"line_color\":\"#1f77b3\",\"line_width\":2,\"x\":{\"field\":\"Date\"},\"y\":{\"field\":\"United Airlines\"}},\"id\":\"2287\",\"type\":\"Line\"},{\"attributes\":{},\"id\":\"2267\",\"type\":\"BasicTicker\"},{\"attributes\":{\"axis\":{\"id\":\"2266\"},\"dimension\":1,\"grid_line_color\":null,\"ticker\":null},\"id\":\"2269\",\"type\":\"Grid\"},{\"attributes\":{\"factors\":[\"1/2/2020 16:00:00\",\"1/3/2020 16:00:00\",\"1/6/2020 16:00:00\",\"1/7/2020 16:00:00\",\"1/8/2020 16:00:00\",\"1/9/2020 16:00:00\",\"1/10/2020 16:00:00\",\"1/13/2020 16:00:00\",\"1/14/2020 16:00:00\",\"1/15/2020 16:00:00\",\"1/16/2020 16:00:00\",\"1/17/2020 16:00:00\",\"1/21/2020 16:00:00\",\"1/22/2020 16:00:00\",\"1/23/2020 16:00:00\",\"1/24/2020 16:00:00\",\"1/27/2020 16:00:00\",\"1/28/2020 16:00:00\",\"1/29/2020 16:00:00\",\"1/30/2020 16:00:00\",\"1/31/2020 16:00:00\",\"2/3/2020 16:00:00\",\"2/4/2020 16:00:00\",\"2/5/2020 16:00:00\",\"2/6/2020 16:00:00\",\"2/7/2020 16:00:00\",\"2/10/2020 16:00:00\",\"2/11/2020 16:00:00\",\"2/12/2020 16:00:00\",\"2/13/2020 16:00:00\",\"2/14/2020 16:00:00\",\"2/18/2020 16:00:00\",\"2/19/2020 16:00:00\",\"2/20/2020 16:00:00\",\"2/21/2020 16:00:00\",\"2/24/2020 16:00:00\",\"2/25/2020 16:00:00\",\"2/26/2020 16:00:00\",\"2/27/2020 16:00:00\",\"2/28/2020 16:00:00\",\"3/2/2020 16:00:00\",\"3/3/2020 16:00:00\",\"3/4/2020 16:00:00\",\"3/5/2020 16:00:00\",\"3/6/2020 16:00:00\",\"3/9/2020 16:00:00\",\"3/10/2020 16:00:00\",\"3/11/2020 16:00:00\",\"3/12/2020 16:00:00\",\"3/13/2020 16:00:00\",\"3/16/2020 16:00:00\",\"3/17/2020 16:00:00\",\"3/18/2020 16:00:00\",\"3/19/2020 16:00:00\",\"3/20/2020 16:00:00\",\"3/23/2020 16:00:00\",\"3/24/2020 16:00:00\",\"3/25/2020 16:00:00\",\"3/26/2020 16:00:00\",\"3/27/2020 16:00:00\",\"3/30/2020 16:00:00\",\"3/31/2020 16:00:00\",\"4/1/2020 16:00:00\",\"4/2/2020 16:00:00\",\"4/3/2020 16:00:00\",\"4/6/2020 16:00:00\",\"4/7/2020 16:00:00\",\"4/8/2020 16:00:00\",\"4/9/2020 16:00:00\",\"4/13/2020 16:00:00\",\"4/14/2020 16:00:00\",\"4/15/2020 16:00:00\",\"4/16/2020 16:00:00\",\"4/17/2020 16:00:00\",\"4/20/2020 16:00:00\",\"4/21/2020 16:00:00\",\"4/22/2020 16:00:00\",\"4/23/2020 16:00:00\",\"4/24/2020 16:00:00\",\"4/27/2020 16:00:00\",\"4/28/2020 16:00:00\",\"4/29/2020 16:00:00\",\"4/30/2020 16:00:00\",\"5/1/2020 16:00:00\",\"5/4/2020 16:00:00\",\"5/5/2020 16:00:00\",\"5/6/2020 16:00:00\",\"5/7/2020 16:00:00\",\"5/8/2020 16:00:00\",\"5/11/2020 16:00:00\",\"5/12/2020 16:00:00\",\"5/13/2020 16:00:00\",\"5/14/2020 16:00:00\",\"5/15/2020 16:00:00\",\"5/18/2020 16:00:00\",\"5/19/2020 16:00:00\",\"5/20/2020 16:00:00\",\"5/21/2020 16:00:00\",\"5/22/2020 16:00:00\",\"5/26/2020 16:00:00\",\"5/27/2020 16:00:00\",\"5/28/2020 16:00:00\",\"5/29/2020 16:00:00\",\"6/1/2020 16:00:00\",\"6/2/2020 16:00:00\",\"6/3/2020 16:00:00\",\"6/4/2020 16:00:00\",\"6/5/2020 16:00:00\",\"6/8/2020 16:00:00\",\"6/9/2020 16:00:00\",\"6/10/2020 16:00:00\",\"6/11/2020 16:00:00\",\"6/12/2020 16:00:00\",\"6/15/2020 16:00:00\",\"6/16/2020 16:00:00\",\"6/17/2020 16:00:00\",\"6/18/2020 16:00:00\",\"6/19/2020 16:00:00\",\"6/22/2020 16:00:00\",\"6/23/2020 16:00:00\",\"6/24/2020 16:00:00\",\"6/25/2020 16:00:00\",\"6/26/2020 16:00:00\",\"6/29/2020 16:00:00\",\"6/30/2020 16:00:00\",\"7/1/2020 16:00:00\",\"7/2/2020 16:00:00\",\"7/6/2020 16:00:00\",\"7/7/2020 16:00:00\",\"7/8/2020 16:00:00\",\"7/9/2020 16:00:00\",\"7/10/2020 16:00:00\",\"7/13/2020 16:00:00\",\"7/14/2020 16:00:00\",\"7/15/2020 16:00:00\",\"7/16/2020 16:00:00\",\"7/17/2020 16:00:00\",\"7/20/2020 16:00:00\",\"7/21/2020 16:00:00\",\"7/22/2020 16:00:00\",\"7/23/2020 16:00:00\",\"7/24/2020 16:00:00\",\"7/27/2020 16:00:00\",\"7/28/2020 16:00:00\",\"7/29/2020 16:00:00\",\"7/30/2020 16:00:00\",\"7/31/2020 16:00:00\",\"8/3/2020 16:00:00\",\"8/4/2020 16:00:00\",\"8/5/2020 16:00:00\",\"8/6/2020 16:00:00\",\"8/7/2020 16:00:00\",\"8/10/2020 16:00:00\",\"8/11/2020 16:00:00\",\"8/12/2020 16:00:00\",\"8/13/2020 16:00:00\",\"8/14/2020 16:00:00\",\"8/17/2020 16:00:00\",\"8/18/2020 16:00:00\",\"8/19/2020 16:00:00\",\"8/20/2020 16:00:00\",\"8/21/2020 16:00:00\",\"8/24/2020 16:00:00\",\"8/25/2020 16:00:00\",\"8/26/2020 16:00:00\",\"8/27/2020 16:00:00\",\"8/28/2020 16:00:00\",\"8/31/2020 16:00:00\",\"9/1/2020 16:00:00\",\"9/2/2020 16:00:00\",\"9/3/2020 16:00:00\",\"9/4/2020 16:00:00\",\"9/8/2020 16:00:00\",\"9/9/2020 16:00:00\",\"9/10/2020 16:00:00\",\"9/11/2020 16:00:00\",\"9/14/2020 16:00:00\",\"9/15/2020 16:00:00\",\"9/16/2020 16:00:00\",\"9/17/2020 16:00:00\",\"9/18/2020 16:00:00\",\"9/21/2020 16:00:00\",\"9/22/2020 16:00:00\",\"9/23/2020 16:00:00\",\"9/24/2020 16:00:00\",\"9/25/2020 16:00:00\",\"9/28/2020 16:00:00\",\"9/29/2020 16:00:00\",\"9/30/2020 16:00:00\",\"10/1/2020 16:00:00\",\"10/2/2020 16:00:00\",\"10/5/2020 16:00:00\",\"10/6/2020 16:00:00\",\"10/7/2020 16:00:00\",\"10/8/2020 16:00:00\",\"10/9/2020 16:00:00\",\"10/12/2020 16:00:00\",\"10/13/2020 16:00:00\",\"10/14/2020 16:00:00\",\"10/15/2020 16:00:00\",\"10/16/2020 16:00:00\",\"10/19/2020 16:00:00\",\"10/20/2020 16:00:00\",\"10/21/2020 16:00:00\",\"10/22/2020 16:00:00\",\"10/23/2020 16:00:00\",\"10/26/2020 16:00:00\",\"10/27/2020 16:00:00\",\"10/28/2020 16:00:00\",\"10/29/2020 16:00:00\",\"10/30/2020 16:00:00\"],\"tags\":[[[\"Date\",\"Date\",null]]]},\"id\":\"2251\",\"type\":\"FactorRange\"},{\"attributes\":{\"active_drag\":\"auto\",\"active_inspect\":\"auto\",\"active_multi\":null,\"active_scroll\":\"auto\",\"active_tap\":\"auto\",\"tools\":[{\"id\":\"2253\"},{\"id\":\"2270\"},{\"id\":\"2271\"},{\"id\":\"2272\"},{\"id\":\"2273\"},{\"id\":\"2274\"}]},\"id\":\"2276\",\"type\":\"Toolbar\"}],\"root_ids\":[\"2249\"]},\"title\":\"Bokeh Application\",\"version\":\"2.1.1\"}};\n",
       "  var render_items = [{\"docid\":\"148fec6f-c391-49cb-884b-6e07b4bfc070\",\"root_ids\":[\"2249\"],\"roots\":{\"2249\":\"ace510a3-be54-48bb-8bd0-5dc969bdd0d2\"}}];\n",
       "  root.Bokeh.embed.embed_items_notebook(docs_json, render_items);\n",
       "  }\n",
       "if (root.Bokeh !== undefined) {\n",
       "    embed_document(root);\n",
       "  } else {\n",
       "    var attempts = 0;\n",
       "    var timer = setInterval(function(root) {\n",
       "      if (root.Bokeh !== undefined) {\n",
       "        clearInterval(timer);\n",
       "        embed_document(root);\n",
       "      } else if (document.readyState == \"complete\") {\n",
       "        attempts++;\n",
       "        if (attempts > 100) {\n",
       "          clearInterval(timer);\n",
       "          console.log(\"Bokeh: ERROR: Unable to run BokehJS code because BokehJS library is missing\");\n",
       "        }\n",
       "      }\n",
       "    }, 10, root)\n",
       "  }\n",
       "})(window);</script>"
      ],
      "text/plain": [
       ":Curve   [Date]   (United Airlines)"
      ]
     },
     "execution_count": 83,
     "metadata": {
      "application/vnd.holoviews_exec.v0+json": {
       "id": "2249"
      }
     },
     "output_type": "execute_result"
    }
   ],
   "source": [
    "united_data.hvplot()"
   ]
  },
  {
   "cell_type": "code",
   "execution_count": 85,
   "metadata": {},
   "outputs": [
    {
     "data": {
      "text/html": [
       "<div>\n",
       "<style scoped>\n",
       "    .dataframe tbody tr th:only-of-type {\n",
       "        vertical-align: middle;\n",
       "    }\n",
       "\n",
       "    .dataframe tbody tr th {\n",
       "        vertical-align: top;\n",
       "    }\n",
       "\n",
       "    .dataframe thead th {\n",
       "        text-align: right;\n",
       "    }\n",
       "</style>\n",
       "<table border=\"1\" class=\"dataframe\">\n",
       "  <thead>\n",
       "    <tr style=\"text-align: right;\">\n",
       "      <th></th>\n",
       "      <th>American Airlines</th>\n",
       "      <th>Southwest Airlines</th>\n",
       "      <th>Delta Airlines</th>\n",
       "      <th>United Airlines</th>\n",
       "    </tr>\n",
       "    <tr>\n",
       "      <th>Date</th>\n",
       "      <th></th>\n",
       "      <th></th>\n",
       "      <th></th>\n",
       "      <th></th>\n",
       "    </tr>\n",
       "  </thead>\n",
       "  <tbody>\n",
       "    <tr>\n",
       "      <th>1/2/2020 16:00:00</th>\n",
       "      <td>29.09</td>\n",
       "      <td>54.84</td>\n",
       "      <td>59.04</td>\n",
       "      <td>89.74</td>\n",
       "    </tr>\n",
       "    <tr>\n",
       "      <th>1/3/2020 16:00:00</th>\n",
       "      <td>27.65</td>\n",
       "      <td>54.35</td>\n",
       "      <td>58.06</td>\n",
       "      <td>87.90</td>\n",
       "    </tr>\n",
       "    <tr>\n",
       "      <th>1/6/2020 16:00:00</th>\n",
       "      <td>27.32</td>\n",
       "      <td>54.13</td>\n",
       "      <td>57.66</td>\n",
       "      <td>87.70</td>\n",
       "    </tr>\n",
       "    <tr>\n",
       "      <th>1/7/2020 16:00:00</th>\n",
       "      <td>27.22</td>\n",
       "      <td>54.29</td>\n",
       "      <td>57.61</td>\n",
       "      <td>86.77</td>\n",
       "    </tr>\n",
       "    <tr>\n",
       "      <th>1/8/2020 16:00:00</th>\n",
       "      <td>27.84</td>\n",
       "      <td>54.37</td>\n",
       "      <td>58.85</td>\n",
       "      <td>87.30</td>\n",
       "    </tr>\n",
       "  </tbody>\n",
       "</table>\n",
       "</div>"
      ],
      "text/plain": [
       "                   American Airlines  Southwest Airlines  Delta Airlines  \\\n",
       "Date                                                                       \n",
       "1/2/2020 16:00:00              29.09               54.84           59.04   \n",
       "1/3/2020 16:00:00              27.65               54.35           58.06   \n",
       "1/6/2020 16:00:00              27.32               54.13           57.66   \n",
       "1/7/2020 16:00:00              27.22               54.29           57.61   \n",
       "1/8/2020 16:00:00              27.84               54.37           58.85   \n",
       "\n",
       "                   United Airlines  \n",
       "Date                                \n",
       "1/2/2020 16:00:00            89.74  \n",
       "1/3/2020 16:00:00            87.90  \n",
       "1/6/2020 16:00:00            87.70  \n",
       "1/7/2020 16:00:00            86.77  \n",
       "1/8/2020 16:00:00            87.30  "
      ]
     },
     "execution_count": 85,
     "metadata": {},
     "output_type": "execute_result"
    }
   ],
   "source": [
    "#Concat Data\n",
    "airlines_data = pd.concat([aa_data , swa_data, delta_data, united_data], axis='columns', join='inner')\n",
    "airlines_data.head()"
   ]
  },
  {
   "cell_type": "code",
   "execution_count": 88,
   "metadata": {},
   "outputs": [
    {
     "data": {
      "application/vnd.holoviews_exec.v0+json": "",
      "text/html": [
       "<div id='2673'>\n",
       "\n",
       "\n",
       "\n",
       "\n",
       "\n",
       "  <div class=\"bk-root\" id=\"3b943745-57a7-41c8-999c-e09bddcfa10a\" data-root-id=\"2673\"></div>\n",
       "</div>\n",
       "<script type=\"application/javascript\">(function(root) {\n",
       "  function embed_document(root) {\n",
       "  var docs_json = {\"fc84d855-800e-461f-9278-e162dc2d1452\":{\"roots\":{\"references\":[{\"attributes\":{\"margin\":[5,5,5,5],\"name\":\"HSpacer04721\",\"sizing_mode\":\"stretch_width\"},\"id\":\"2921\",\"type\":\"Spacer\"},{\"attributes\":{},\"id\":\"2699\",\"type\":\"WheelZoomTool\"},{\"attributes\":{\"label\":{\"value\":\"American Airlines\"},\"renderers\":[{\"id\":\"2720\"}]},\"id\":\"2731\",\"type\":\"LegendItem\"},{\"attributes\":{\"axis_label\":\"\",\"bounds\":\"auto\",\"formatter\":{\"id\":\"2713\"},\"major_label_orientation\":\"horizontal\",\"ticker\":{\"id\":\"2694\"}},\"id\":\"2693\",\"type\":\"LinearAxis\"},{\"attributes\":{\"line_color\":\"#2ba02b\",\"line_width\":2,\"x\":{\"field\":\"Date\"},\"y\":{\"field\":\"value\"}},\"id\":\"2754\",\"type\":\"Line\"},{\"attributes\":{\"axis\":{\"id\":\"2693\"},\"dimension\":1,\"grid_line_color\":null,\"ticker\":null},\"id\":\"2696\",\"type\":\"Grid\"},{\"attributes\":{},\"id\":\"2701\",\"type\":\"ResetTool\"},{\"attributes\":{\"line_alpha\":0.1,\"line_color\":\"#2ba02b\",\"line_width\":2,\"x\":{\"field\":\"Date\"},\"y\":{\"field\":\"value\"}},\"id\":\"2755\",\"type\":\"Line\"},{\"attributes\":{},\"id\":\"2749\",\"type\":\"UnionRenderers\"},{\"attributes\":{\"margin\":[5,5,5,5],\"name\":\"HSpacer04720\",\"sizing_mode\":\"stretch_width\"},\"id\":\"2674\",\"type\":\"Spacer\"},{\"attributes\":{\"text\":\"\",\"text_color\":{\"value\":\"black\"},\"text_font_size\":{\"value\":\"12pt\"}},\"id\":\"2682\",\"type\":\"Title\"},{\"attributes\":{},\"id\":\"2698\",\"type\":\"PanTool\"},{\"attributes\":{\"label\":{\"value\":\"Delta Airlines\"},\"renderers\":[{\"id\":\"2757\"}]},\"id\":\"2771\",\"type\":\"LegendItem\"},{\"attributes\":{\"line_alpha\":0.2,\"line_color\":\"#d62628\",\"line_width\":2,\"x\":{\"field\":\"Date\"},\"y\":{\"field\":\"value\"}},\"id\":\"2777\",\"type\":\"Line\"},{\"attributes\":{},\"id\":\"2729\",\"type\":\"UnionRenderers\"},{\"attributes\":{},\"id\":\"2793\",\"type\":\"UnionRenderers\"},{\"attributes\":{\"data_source\":{\"id\":\"2751\"},\"glyph\":{\"id\":\"2754\"},\"hover_glyph\":null,\"muted_glyph\":{\"id\":\"2756\"},\"nonselection_glyph\":{\"id\":\"2755\"},\"selection_glyph\":null,\"view\":{\"id\":\"2758\"}},\"id\":\"2757\",\"type\":\"GlyphRenderer\"},{\"attributes\":{},\"id\":\"2688\",\"type\":\"LinearScale\"},{\"attributes\":{\"source\":{\"id\":\"2714\"}},\"id\":\"2721\",\"type\":\"CDSView\"},{\"attributes\":{\"label\":{\"value\":\"United Airlines\"},\"renderers\":[{\"id\":\"2778\"}]},\"id\":\"2794\",\"type\":\"LegendItem\"},{\"attributes\":{},\"id\":\"2686\",\"type\":\"CategoricalScale\"},{\"attributes\":{\"data_source\":{\"id\":\"2772\"},\"glyph\":{\"id\":\"2775\"},\"hover_glyph\":null,\"muted_glyph\":{\"id\":\"2777\"},\"nonselection_glyph\":{\"id\":\"2776\"},\"selection_glyph\":null,\"view\":{\"id\":\"2779\"}},\"id\":\"2778\",\"type\":\"GlyphRenderer\"},{\"attributes\":{\"data\":{\"Date\":[\"1/2/2020 16:00:00\",\"1/3/2020 16:00:00\",\"1/6/2020 16:00:00\",\"1/7/2020 16:00:00\",\"1/8/2020 16:00:00\",\"1/9/2020 16:00:00\",\"1/10/2020 16:00:00\",\"1/13/2020 16:00:00\",\"1/14/2020 16:00:00\",\"1/15/2020 16:00:00\",\"1/16/2020 16:00:00\",\"1/17/2020 16:00:00\",\"1/21/2020 16:00:00\",\"1/22/2020 16:00:00\",\"1/23/2020 16:00:00\",\"1/24/2020 16:00:00\",\"1/27/2020 16:00:00\",\"1/28/2020 16:00:00\",\"1/29/2020 16:00:00\",\"1/30/2020 16:00:00\",\"1/31/2020 16:00:00\",\"2/3/2020 16:00:00\",\"2/4/2020 16:00:00\",\"2/5/2020 16:00:00\",\"2/6/2020 16:00:00\",\"2/7/2020 16:00:00\",\"2/10/2020 16:00:00\",\"2/11/2020 16:00:00\",\"2/12/2020 16:00:00\",\"2/13/2020 16:00:00\",\"2/14/2020 16:00:00\",\"2/18/2020 16:00:00\",\"2/19/2020 16:00:00\",\"2/20/2020 16:00:00\",\"2/21/2020 16:00:00\",\"2/24/2020 16:00:00\",\"2/25/2020 16:00:00\",\"2/26/2020 16:00:00\",\"2/27/2020 16:00:00\",\"2/28/2020 16:00:00\",\"3/2/2020 16:00:00\",\"3/3/2020 16:00:00\",\"3/4/2020 16:00:00\",\"3/5/2020 16:00:00\",\"3/6/2020 16:00:00\",\"3/9/2020 16:00:00\",\"3/10/2020 16:00:00\",\"3/11/2020 16:00:00\",\"3/12/2020 16:00:00\",\"3/13/2020 16:00:00\",\"3/16/2020 16:00:00\",\"3/17/2020 16:00:00\",\"3/18/2020 16:00:00\",\"3/19/2020 16:00:00\",\"3/20/2020 16:00:00\",\"3/23/2020 16:00:00\",\"3/24/2020 16:00:00\",\"3/25/2020 16:00:00\",\"3/26/2020 16:00:00\",\"3/27/2020 16:00:00\",\"3/30/2020 16:00:00\",\"3/31/2020 16:00:00\",\"4/1/2020 16:00:00\",\"4/2/2020 16:00:00\",\"4/3/2020 16:00:00\",\"4/6/2020 16:00:00\",\"4/7/2020 16:00:00\",\"4/8/2020 16:00:00\",\"4/9/2020 16:00:00\",\"4/13/2020 16:00:00\",\"4/14/2020 16:00:00\",\"4/15/2020 16:00:00\",\"4/16/2020 16:00:00\",\"4/17/2020 16:00:00\",\"4/20/2020 16:00:00\",\"4/21/2020 16:00:00\",\"4/22/2020 16:00:00\",\"4/23/2020 16:00:00\",\"4/24/2020 16:00:00\",\"4/27/2020 16:00:00\",\"4/28/2020 16:00:00\",\"4/29/2020 16:00:00\",\"4/30/2020 16:00:00\",\"5/1/2020 16:00:00\",\"5/4/2020 16:00:00\",\"5/5/2020 16:00:00\",\"5/6/2020 16:00:00\",\"5/7/2020 16:00:00\",\"5/8/2020 16:00:00\",\"5/11/2020 16:00:00\",\"5/12/2020 16:00:00\",\"5/13/2020 16:00:00\",\"5/14/2020 16:00:00\",\"5/15/2020 16:00:00\",\"5/18/2020 16:00:00\",\"5/19/2020 16:00:00\",\"5/20/2020 16:00:00\",\"5/21/2020 16:00:00\",\"5/22/2020 16:00:00\",\"5/26/2020 16:00:00\",\"5/27/2020 16:00:00\",\"5/28/2020 16:00:00\",\"5/29/2020 16:00:00\",\"6/1/2020 16:00:00\",\"6/2/2020 16:00:00\",\"6/3/2020 16:00:00\",\"6/4/2020 16:00:00\",\"6/5/2020 16:00:00\",\"6/8/2020 16:00:00\",\"6/9/2020 16:00:00\",\"6/10/2020 16:00:00\",\"6/11/2020 16:00:00\",\"6/12/2020 16:00:00\",\"6/15/2020 16:00:00\",\"6/16/2020 16:00:00\",\"6/17/2020 16:00:00\",\"6/18/2020 16:00:00\",\"6/19/2020 16:00:00\",\"6/22/2020 16:00:00\",\"6/23/2020 16:00:00\",\"6/24/2020 16:00:00\",\"6/25/2020 16:00:00\",\"6/26/2020 16:00:00\",\"6/29/2020 16:00:00\",\"6/30/2020 16:00:00\",\"7/1/2020 16:00:00\",\"7/2/2020 16:00:00\",\"7/6/2020 16:00:00\",\"7/7/2020 16:00:00\",\"7/8/2020 16:00:00\",\"7/9/2020 16:00:00\",\"7/10/2020 16:00:00\",\"7/13/2020 16:00:00\",\"7/14/2020 16:00:00\",\"7/15/2020 16:00:00\",\"7/16/2020 16:00:00\",\"7/17/2020 16:00:00\",\"7/20/2020 16:00:00\",\"7/21/2020 16:00:00\",\"7/22/2020 16:00:00\",\"7/23/2020 16:00:00\",\"7/24/2020 16:00:00\",\"7/27/2020 16:00:00\",\"7/28/2020 16:00:00\",\"7/29/2020 16:00:00\",\"7/30/2020 16:00:00\",\"7/31/2020 16:00:00\",\"8/3/2020 16:00:00\",\"8/4/2020 16:00:00\",\"8/5/2020 16:00:00\",\"8/6/2020 16:00:00\",\"8/7/2020 16:00:00\",\"8/10/2020 16:00:00\",\"8/11/2020 16:00:00\",\"8/12/2020 16:00:00\",\"8/13/2020 16:00:00\",\"8/14/2020 16:00:00\",\"8/17/2020 16:00:00\",\"8/18/2020 16:00:00\",\"8/19/2020 16:00:00\",\"8/20/2020 16:00:00\",\"8/21/2020 16:00:00\",\"8/24/2020 16:00:00\",\"8/25/2020 16:00:00\",\"8/26/2020 16:00:00\",\"8/27/2020 16:00:00\",\"8/28/2020 16:00:00\",\"8/31/2020 16:00:00\",\"9/1/2020 16:00:00\",\"9/2/2020 16:00:00\",\"9/3/2020 16:00:00\",\"9/4/2020 16:00:00\",\"9/8/2020 16:00:00\",\"9/9/2020 16:00:00\",\"9/10/2020 16:00:00\",\"9/11/2020 16:00:00\",\"9/14/2020 16:00:00\",\"9/15/2020 16:00:00\",\"9/16/2020 16:00:00\",\"9/17/2020 16:00:00\",\"9/18/2020 16:00:00\",\"9/21/2020 16:00:00\",\"9/22/2020 16:00:00\",\"9/23/2020 16:00:00\",\"9/24/2020 16:00:00\",\"9/25/2020 16:00:00\",\"9/28/2020 16:00:00\",\"9/29/2020 16:00:00\",\"9/30/2020 16:00:00\",\"10/1/2020 16:00:00\",\"10/2/2020 16:00:00\",\"10/5/2020 16:00:00\",\"10/6/2020 16:00:00\",\"10/7/2020 16:00:00\",\"10/8/2020 16:00:00\",\"10/9/2020 16:00:00\",\"10/12/2020 16:00:00\",\"10/13/2020 16:00:00\",\"10/14/2020 16:00:00\",\"10/15/2020 16:00:00\",\"10/16/2020 16:00:00\",\"10/19/2020 16:00:00\",\"10/20/2020 16:00:00\",\"10/21/2020 16:00:00\",\"10/22/2020 16:00:00\",\"10/23/2020 16:00:00\",\"10/26/2020 16:00:00\",\"10/27/2020 16:00:00\",\"10/28/2020 16:00:00\",\"10/29/2020 16:00:00\",\"10/30/2020 16:00:00\"],\"Variable\":[\"Delta Airlines\",\"Delta Airlines\",\"Delta Airlines\",\"Delta Airlines\",\"Delta Airlines\",\"Delta Airlines\",\"Delta Airlines\",\"Delta Airlines\",\"Delta Airlines\",\"Delta Airlines\",\"Delta Airlines\",\"Delta Airlines\",\"Delta Airlines\",\"Delta Airlines\",\"Delta Airlines\",\"Delta Airlines\",\"Delta Airlines\",\"Delta Airlines\",\"Delta Airlines\",\"Delta Airlines\",\"Delta Airlines\",\"Delta Airlines\",\"Delta Airlines\",\"Delta Airlines\",\"Delta Airlines\",\"Delta Airlines\",\"Delta Airlines\",\"Delta Airlines\",\"Delta Airlines\",\"Delta Airlines\",\"Delta Airlines\",\"Delta Airlines\",\"Delta Airlines\",\"Delta Airlines\",\"Delta Airlines\",\"Delta Airlines\",\"Delta Airlines\",\"Delta Airlines\",\"Delta Airlines\",\"Delta Airlines\",\"Delta Airlines\",\"Delta Airlines\",\"Delta Airlines\",\"Delta Airlines\",\"Delta Airlines\",\"Delta Airlines\",\"Delta Airlines\",\"Delta Airlines\",\"Delta Airlines\",\"Delta Airlines\",\"Delta Airlines\",\"Delta Airlines\",\"Delta Airlines\",\"Delta Airlines\",\"Delta Airlines\",\"Delta Airlines\",\"Delta Airlines\",\"Delta Airlines\",\"Delta Airlines\",\"Delta Airlines\",\"Delta Airlines\",\"Delta Airlines\",\"Delta Airlines\",\"Delta Airlines\",\"Delta Airlines\",\"Delta Airlines\",\"Delta Airlines\",\"Delta Airlines\",\"Delta Airlines\",\"Delta Airlines\",\"Delta Airlines\",\"Delta Airlines\",\"Delta Airlines\",\"Delta Airlines\",\"Delta Airlines\",\"Delta Airlines\",\"Delta Airlines\",\"Delta Airlines\",\"Delta Airlines\",\"Delta Airlines\",\"Delta Airlines\",\"Delta Airlines\",\"Delta Airlines\",\"Delta Airlines\",\"Delta Airlines\",\"Delta Airlines\",\"Delta Airlines\",\"Delta Airlines\",\"Delta Airlines\",\"Delta Airlines\",\"Delta Airlines\",\"Delta Airlines\",\"Delta Airlines\",\"Delta Airlines\",\"Delta Airlines\",\"Delta Airlines\",\"Delta Airlines\",\"Delta Airlines\",\"Delta Airlines\",\"Delta Airlines\",\"Delta Airlines\",\"Delta Airlines\",\"Delta Airlines\",\"Delta Airlines\",\"Delta Airlines\",\"Delta Airlines\",\"Delta Airlines\",\"Delta Airlines\",\"Delta Airlines\",\"Delta Airlines\",\"Delta Airlines\",\"Delta Airlines\",\"Delta Airlines\",\"Delta Airlines\",\"Delta Airlines\",\"Delta Airlines\",\"Delta Airlines\",\"Delta Airlines\",\"Delta Airlines\",\"Delta Airlines\",\"Delta Airlines\",\"Delta Airlines\",\"Delta Airlines\",\"Delta Airlines\",\"Delta Airlines\",\"Delta Airlines\",\"Delta Airlines\",\"Delta Airlines\",\"Delta Airlines\",\"Delta Airlines\",\"Delta Airlines\",\"Delta Airlines\",\"Delta Airlines\",\"Delta Airlines\",\"Delta Airlines\",\"Delta Airlines\",\"Delta Airlines\",\"Delta Airlines\",\"Delta Airlines\",\"Delta Airlines\",\"Delta Airlines\",\"Delta Airlines\",\"Delta Airlines\",\"Delta Airlines\",\"Delta Airlines\",\"Delta Airlines\",\"Delta Airlines\",\"Delta Airlines\",\"Delta Airlines\",\"Delta Airlines\",\"Delta Airlines\",\"Delta Airlines\",\"Delta Airlines\",\"Delta Airlines\",\"Delta Airlines\",\"Delta Airlines\",\"Delta Airlines\",\"Delta Airlines\",\"Delta Airlines\",\"Delta Airlines\",\"Delta Airlines\",\"Delta Airlines\",\"Delta Airlines\",\"Delta Airlines\",\"Delta Airlines\",\"Delta Airlines\",\"Delta Airlines\",\"Delta Airlines\",\"Delta Airlines\",\"Delta Airlines\",\"Delta Airlines\",\"Delta Airlines\",\"Delta Airlines\",\"Delta Airlines\",\"Delta Airlines\",\"Delta Airlines\",\"Delta Airlines\",\"Delta Airlines\",\"Delta Airlines\",\"Delta Airlines\",\"Delta Airlines\",\"Delta Airlines\",\"Delta Airlines\",\"Delta Airlines\",\"Delta Airlines\",\"Delta Airlines\",\"Delta Airlines\",\"Delta Airlines\",\"Delta Airlines\",\"Delta Airlines\",\"Delta Airlines\",\"Delta Airlines\",\"Delta Airlines\",\"Delta Airlines\",\"Delta Airlines\",\"Delta Airlines\",\"Delta Airlines\",\"Delta Airlines\",\"Delta Airlines\",\"Delta Airlines\",\"Delta Airlines\",\"Delta Airlines\",\"Delta Airlines\",\"Delta Airlines\",\"Delta Airlines\",\"Delta Airlines\",\"Delta Airlines\",\"Delta Airlines\",\"Delta Airlines\",\"Delta Airlines\",\"Delta Airlines\"],\"value\":{\"__ndarray__\":\"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\",\"dtype\":\"float64\",\"order\":\"little\",\"shape\":[211]}},\"selected\":{\"id\":\"2752\"},\"selection_policy\":{\"id\":\"2770\"}},\"id\":\"2751\",\"type\":\"ColumnDataSource\"},{\"attributes\":{\"axis_label\":\"Date\",\"bounds\":\"auto\",\"formatter\":{\"id\":\"2711\"},\"major_label_orientation\":\"horizontal\",\"ticker\":{\"id\":\"2691\"}},\"id\":\"2690\",\"type\":\"CategoricalAxis\"},{\"attributes\":{\"line_alpha\":0.1,\"line_color\":\"#ff7e0e\",\"line_width\":2,\"x\":{\"field\":\"Date\"},\"y\":{\"field\":\"value\"}},\"id\":\"2736\",\"type\":\"Line\"},{\"attributes\":{\"line_alpha\":0.2,\"line_color\":\"#2ba02b\",\"line_width\":2,\"x\":{\"field\":\"Date\"},\"y\":{\"field\":\"value\"}},\"id\":\"2756\",\"type\":\"Line\"},{\"attributes\":{\"source\":{\"id\":\"2772\"}},\"id\":\"2779\",\"type\":\"CDSView\"},{\"attributes\":{},\"id\":\"2770\",\"type\":\"UnionRenderers\"},{\"attributes\":{\"data_source\":{\"id\":\"2714\"},\"glyph\":{\"id\":\"2717\"},\"hover_glyph\":null,\"muted_glyph\":{\"id\":\"2719\"},\"nonselection_glyph\":{\"id\":\"2718\"},\"selection_glyph\":null,\"view\":{\"id\":\"2721\"}},\"id\":\"2720\",\"type\":\"GlyphRenderer\"},{\"attributes\":{\"data\":{\"Date\":[\"1/2/2020 16:00:00\",\"1/3/2020 16:00:00\",\"1/6/2020 16:00:00\",\"1/7/2020 16:00:00\",\"1/8/2020 16:00:00\",\"1/9/2020 16:00:00\",\"1/10/2020 16:00:00\",\"1/13/2020 16:00:00\",\"1/14/2020 16:00:00\",\"1/15/2020 16:00:00\",\"1/16/2020 16:00:00\",\"1/17/2020 16:00:00\",\"1/21/2020 16:00:00\",\"1/22/2020 16:00:00\",\"1/23/2020 16:00:00\",\"1/24/2020 16:00:00\",\"1/27/2020 16:00:00\",\"1/28/2020 16:00:00\",\"1/29/2020 16:00:00\",\"1/30/2020 16:00:00\",\"1/31/2020 16:00:00\",\"2/3/2020 16:00:00\",\"2/4/2020 16:00:00\",\"2/5/2020 16:00:00\",\"2/6/2020 16:00:00\",\"2/7/2020 16:00:00\",\"2/10/2020 16:00:00\",\"2/11/2020 16:00:00\",\"2/12/2020 16:00:00\",\"2/13/2020 16:00:00\",\"2/14/2020 16:00:00\",\"2/18/2020 16:00:00\",\"2/19/2020 16:00:00\",\"2/20/2020 16:00:00\",\"2/21/2020 16:00:00\",\"2/24/2020 16:00:00\",\"2/25/2020 16:00:00\",\"2/26/2020 16:00:00\",\"2/27/2020 16:00:00\",\"2/28/2020 16:00:00\",\"3/2/2020 16:00:00\",\"3/3/2020 16:00:00\",\"3/4/2020 16:00:00\",\"3/5/2020 16:00:00\",\"3/6/2020 16:00:00\",\"3/9/2020 16:00:00\",\"3/10/2020 16:00:00\",\"3/11/2020 16:00:00\",\"3/12/2020 16:00:00\",\"3/13/2020 16:00:00\",\"3/16/2020 16:00:00\",\"3/17/2020 16:00:00\",\"3/18/2020 16:00:00\",\"3/19/2020 16:00:00\",\"3/20/2020 16:00:00\",\"3/23/2020 16:00:00\",\"3/24/2020 16:00:00\",\"3/25/2020 16:00:00\",\"3/26/2020 16:00:00\",\"3/27/2020 16:00:00\",\"3/30/2020 16:00:00\",\"3/31/2020 16:00:00\",\"4/1/2020 16:00:00\",\"4/2/2020 16:00:00\",\"4/3/2020 16:00:00\",\"4/6/2020 16:00:00\",\"4/7/2020 16:00:00\",\"4/8/2020 16:00:00\",\"4/9/2020 16:00:00\",\"4/13/2020 16:00:00\",\"4/14/2020 16:00:00\",\"4/15/2020 16:00:00\",\"4/16/2020 16:00:00\",\"4/17/2020 16:00:00\",\"4/20/2020 16:00:00\",\"4/21/2020 16:00:00\",\"4/22/2020 16:00:00\",\"4/23/2020 16:00:00\",\"4/24/2020 16:00:00\",\"4/27/2020 16:00:00\",\"4/28/2020 16:00:00\",\"4/29/2020 16:00:00\",\"4/30/2020 16:00:00\",\"5/1/2020 16:00:00\",\"5/4/2020 16:00:00\",\"5/5/2020 16:00:00\",\"5/6/2020 16:00:00\",\"5/7/2020 16:00:00\",\"5/8/2020 16:00:00\",\"5/11/2020 16:00:00\",\"5/12/2020 16:00:00\",\"5/13/2020 16:00:00\",\"5/14/2020 16:00:00\",\"5/15/2020 16:00:00\",\"5/18/2020 16:00:00\",\"5/19/2020 16:00:00\",\"5/20/2020 16:00:00\",\"5/21/2020 16:00:00\",\"5/22/2020 16:00:00\",\"5/26/2020 16:00:00\",\"5/27/2020 16:00:00\",\"5/28/2020 16:00:00\",\"5/29/2020 16:00:00\",\"6/1/2020 16:00:00\",\"6/2/2020 16:00:00\",\"6/3/2020 16:00:00\",\"6/4/2020 16:00:00\",\"6/5/2020 16:00:00\",\"6/8/2020 16:00:00\",\"6/9/2020 16:00:00\",\"6/10/2020 16:00:00\",\"6/11/2020 16:00:00\",\"6/12/2020 16:00:00\",\"6/15/2020 16:00:00\",\"6/16/2020 16:00:00\",\"6/17/2020 16:00:00\",\"6/18/2020 16:00:00\",\"6/19/2020 16:00:00\",\"6/22/2020 16:00:00\",\"6/23/2020 16:00:00\",\"6/24/2020 16:00:00\",\"6/25/2020 16:00:00\",\"6/26/2020 16:00:00\",\"6/29/2020 16:00:00\",\"6/30/2020 16:00:00\",\"7/1/2020 16:00:00\",\"7/2/2020 16:00:00\",\"7/6/2020 16:00:00\",\"7/7/2020 16:00:00\",\"7/8/2020 16:00:00\",\"7/9/2020 16:00:00\",\"7/10/2020 16:00:00\",\"7/13/2020 16:00:00\",\"7/14/2020 16:00:00\",\"7/15/2020 16:00:00\",\"7/16/2020 16:00:00\",\"7/17/2020 16:00:00\",\"7/20/2020 16:00:00\",\"7/21/2020 16:00:00\",\"7/22/2020 16:00:00\",\"7/23/2020 16:00:00\",\"7/24/2020 16:00:00\",\"7/27/2020 16:00:00\",\"7/28/2020 16:00:00\",\"7/29/2020 16:00:00\",\"7/30/2020 16:00:00\",\"7/31/2020 16:00:00\",\"8/3/2020 16:00:00\",\"8/4/2020 16:00:00\",\"8/5/2020 16:00:00\",\"8/6/2020 16:00:00\",\"8/7/2020 16:00:00\",\"8/10/2020 16:00:00\",\"8/11/2020 16:00:00\",\"8/12/2020 16:00:00\",\"8/13/2020 16:00:00\",\"8/14/2020 16:00:00\",\"8/17/2020 16:00:00\",\"8/18/2020 16:00:00\",\"8/19/2020 16:00:00\",\"8/20/2020 16:00:00\",\"8/21/2020 16:00:00\",\"8/24/2020 16:00:00\",\"8/25/2020 16:00:00\",\"8/26/2020 16:00:00\",\"8/27/2020 16:00:00\",\"8/28/2020 16:00:00\",\"8/31/2020 16:00:00\",\"9/1/2020 16:00:00\",\"9/2/2020 16:00:00\",\"9/3/2020 16:00:00\",\"9/4/2020 16:00:00\",\"9/8/2020 16:00:00\",\"9/9/2020 16:00:00\",\"9/10/2020 16:00:00\",\"9/11/2020 16:00:00\",\"9/14/2020 16:00:00\",\"9/15/2020 16:00:00\",\"9/16/2020 16:00:00\",\"9/17/2020 16:00:00\",\"9/18/2020 16:00:00\",\"9/21/2020 16:00:00\",\"9/22/2020 16:00:00\",\"9/23/2020 16:00:00\",\"9/24/2020 16:00:00\",\"9/25/2020 16:00:00\",\"9/28/2020 16:00:00\",\"9/29/2020 16:00:00\",\"9/30/2020 16:00:00\",\"10/1/2020 16:00:00\",\"10/2/2020 16:00:00\",\"10/5/2020 16:00:00\",\"10/6/2020 16:00:00\",\"10/7/2020 16:00:00\",\"10/8/2020 16:00:00\",\"10/9/2020 16:00:00\",\"10/12/2020 16:00:00\",\"10/13/2020 16:00:00\",\"10/14/2020 16:00:00\",\"10/15/2020 16:00:00\",\"10/16/2020 16:00:00\",\"10/19/2020 16:00:00\",\"10/20/2020 16:00:00\",\"10/21/2020 16:00:00\",\"10/22/2020 16:00:00\",\"10/23/2020 16:00:00\",\"10/26/2020 16:00:00\",\"10/27/2020 16:00:00\",\"10/28/2020 16:00:00\",\"10/29/2020 16:00:00\",\"10/30/2020 16:00:00\"],\"Variable\":[\"United Airlines\",\"United Airlines\",\"United Airlines\",\"United Airlines\",\"United Airlines\",\"United Airlines\",\"United Airlines\",\"United Airlines\",\"United Airlines\",\"United Airlines\",\"United Airlines\",\"United Airlines\",\"United Airlines\",\"United Airlines\",\"United Airlines\",\"United Airlines\",\"United Airlines\",\"United Airlines\",\"United Airlines\",\"United Airlines\",\"United Airlines\",\"United Airlines\",\"United Airlines\",\"United Airlines\",\"United Airlines\",\"United Airlines\",\"United Airlines\",\"United Airlines\",\"United Airlines\",\"United Airlines\",\"United Airlines\",\"United Airlines\",\"United Airlines\",\"United Airlines\",\"United Airlines\",\"United Airlines\",\"United Airlines\",\"United Airlines\",\"United Airlines\",\"United Airlines\",\"United Airlines\",\"United Airlines\",\"United Airlines\",\"United Airlines\",\"United Airlines\",\"United Airlines\",\"United Airlines\",\"United Airlines\",\"United Airlines\",\"United Airlines\",\"United Airlines\",\"United Airlines\",\"United Airlines\",\"United Airlines\",\"United Airlines\",\"United Airlines\",\"United Airlines\",\"United Airlines\",\"United Airlines\",\"United Airlines\",\"United Airlines\",\"United Airlines\",\"United Airlines\",\"United Airlines\",\"United Airlines\",\"United Airlines\",\"United Airlines\",\"United Airlines\",\"United Airlines\",\"United Airlines\",\"United Airlines\",\"United Airlines\",\"United Airlines\",\"United Airlines\",\"United Airlines\",\"United Airlines\",\"United Airlines\",\"United Airlines\",\"United Airlines\",\"United Airlines\",\"United Airlines\",\"United Airlines\",\"United Airlines\",\"United Airlines\",\"United Airlines\",\"United Airlines\",\"United Airlines\",\"United Airlines\",\"United Airlines\",\"United Airlines\",\"United Airlines\",\"United Airlines\",\"United Airlines\",\"United Airlines\",\"United Airlines\",\"United Airlines\",\"United Airlines\",\"United Airlines\",\"United Airlines\",\"United Airlines\",\"United Airlines\",\"United Airlines\",\"United Airlines\",\"United Airlines\",\"United Airlines\",\"United Airlines\",\"United Airlines\",\"United Airlines\",\"United Airlines\",\"United Airlines\",\"United Airlines\",\"United Airlines\",\"United Airlines\",\"United Airlines\",\"United Airlines\",\"United Airlines\",\"United Airlines\",\"United Airlines\",\"United Airlines\",\"United Airlines\",\"United Airlines\",\"United Airlines\",\"United Airlines\",\"United Airlines\",\"United Airlines\",\"United Airlines\",\"United Airlines\",\"United Airlines\",\"United Airlines\",\"United Airlines\",\"United Airlines\",\"United Airlines\",\"United Airlines\",\"United Airlines\",\"United Airlines\",\"United Airlines\",\"United Airlines\",\"United Airlines\",\"United Airlines\",\"United Airlines\",\"United Airlines\",\"United Airlines\",\"United Airlines\",\"United Airlines\",\"United Airlines\",\"United Airlines\",\"United Airlines\",\"United Airlines\",\"United Airlines\",\"United Airlines\",\"United Airlines\",\"United Airlines\",\"United Airlines\",\"United Airlines\",\"United Airlines\",\"United Airlines\",\"United Airlines\",\"United Airlines\",\"United Airlines\",\"United Airlines\",\"United Airlines\",\"United Airlines\",\"United Airlines\",\"United Airlines\",\"United Airlines\",\"United Airlines\",\"United Airlines\",\"United Airlines\",\"United Airlines\",\"United Airlines\",\"United Airlines\",\"United Airlines\",\"United Airlines\",\"United Airlines\",\"United Airlines\",\"United Airlines\",\"United Airlines\",\"United Airlines\",\"United Airlines\",\"United Airlines\",\"United Airlines\",\"United Airlines\",\"United Airlines\",\"United Airlines\",\"United Airlines\",\"United Airlines\",\"United Airlines\",\"United Airlines\",\"United Airlines\",\"United Airlines\",\"United Airlines\",\"United Airlines\",\"United Airlines\",\"United Airlines\",\"United Airlines\",\"United Airlines\",\"United Airlines\",\"United Airlines\",\"United Airlines\",\"United Airlines\",\"United Airlines\",\"United Airlines\",\"United Airlines\",\"United Airlines\",\"United Airlines\",\"United Airlines\",\"United Airlines\",\"United Airlines\",\"United Airlines\",\"United Airlines\",\"United Airlines\"],\"value\":{\"__ndarray__\":\"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\",\"dtype\":\"float64\",\"order\":\"little\",\"shape\":[211]}},\"selected\":{\"id\":\"2773\"},\"selection_policy\":{\"id\":\"2793\"}},\"id\":\"2772\",\"type\":\"ColumnDataSource\"},{\"attributes\":{\"line_color\":\"#ff7e0e\",\"line_width\":2,\"x\":{\"field\":\"Date\"},\"y\":{\"field\":\"value\"}},\"id\":\"2735\",\"type\":\"Line\"},{\"attributes\":{\"axis\":{\"id\":\"2690\"},\"grid_line_color\":null,\"ticker\":null},\"id\":\"2692\",\"type\":\"Grid\"},{\"attributes\":{\"factors\":[\"1/2/2020 16:00:00\",\"1/3/2020 16:00:00\",\"1/6/2020 16:00:00\",\"1/7/2020 16:00:00\",\"1/8/2020 16:00:00\",\"1/9/2020 16:00:00\",\"1/10/2020 16:00:00\",\"1/13/2020 16:00:00\",\"1/14/2020 16:00:00\",\"1/15/2020 16:00:00\",\"1/16/2020 16:00:00\",\"1/17/2020 16:00:00\",\"1/21/2020 16:00:00\",\"1/22/2020 16:00:00\",\"1/23/2020 16:00:00\",\"1/24/2020 16:00:00\",\"1/27/2020 16:00:00\",\"1/28/2020 16:00:00\",\"1/29/2020 16:00:00\",\"1/30/2020 16:00:00\",\"1/31/2020 16:00:00\",\"2/3/2020 16:00:00\",\"2/4/2020 16:00:00\",\"2/5/2020 16:00:00\",\"2/6/2020 16:00:00\",\"2/7/2020 16:00:00\",\"2/10/2020 16:00:00\",\"2/11/2020 16:00:00\",\"2/12/2020 16:00:00\",\"2/13/2020 16:00:00\",\"2/14/2020 16:00:00\",\"2/18/2020 16:00:00\",\"2/19/2020 16:00:00\",\"2/20/2020 16:00:00\",\"2/21/2020 16:00:00\",\"2/24/2020 16:00:00\",\"2/25/2020 16:00:00\",\"2/26/2020 16:00:00\",\"2/27/2020 16:00:00\",\"2/28/2020 16:00:00\",\"3/2/2020 16:00:00\",\"3/3/2020 16:00:00\",\"3/4/2020 16:00:00\",\"3/5/2020 16:00:00\",\"3/6/2020 16:00:00\",\"3/9/2020 16:00:00\",\"3/10/2020 16:00:00\",\"3/11/2020 16:00:00\",\"3/12/2020 16:00:00\",\"3/13/2020 16:00:00\",\"3/16/2020 16:00:00\",\"3/17/2020 16:00:00\",\"3/18/2020 16:00:00\",\"3/19/2020 16:00:00\",\"3/20/2020 16:00:00\",\"3/23/2020 16:00:00\",\"3/24/2020 16:00:00\",\"3/25/2020 16:00:00\",\"3/26/2020 16:00:00\",\"3/27/2020 16:00:00\",\"3/30/2020 16:00:00\",\"3/31/2020 16:00:00\",\"4/1/2020 16:00:00\",\"4/2/2020 16:00:00\",\"4/3/2020 16:00:00\",\"4/6/2020 16:00:00\",\"4/7/2020 16:00:00\",\"4/8/2020 16:00:00\",\"4/9/2020 16:00:00\",\"4/13/2020 16:00:00\",\"4/14/2020 16:00:00\",\"4/15/2020 16:00:00\",\"4/16/2020 16:00:00\",\"4/17/2020 16:00:00\",\"4/20/2020 16:00:00\",\"4/21/2020 16:00:00\",\"4/22/2020 16:00:00\",\"4/23/2020 16:00:00\",\"4/24/2020 16:00:00\",\"4/27/2020 16:00:00\",\"4/28/2020 16:00:00\",\"4/29/2020 16:00:00\",\"4/30/2020 16:00:00\",\"5/1/2020 16:00:00\",\"5/4/2020 16:00:00\",\"5/5/2020 16:00:00\",\"5/6/2020 16:00:00\",\"5/7/2020 16:00:00\",\"5/8/2020 16:00:00\",\"5/11/2020 16:00:00\",\"5/12/2020 16:00:00\",\"5/13/2020 16:00:00\",\"5/14/2020 16:00:00\",\"5/15/2020 16:00:00\",\"5/18/2020 16:00:00\",\"5/19/2020 16:00:00\",\"5/20/2020 16:00:00\",\"5/21/2020 16:00:00\",\"5/22/2020 16:00:00\",\"5/26/2020 16:00:00\",\"5/27/2020 16:00:00\",\"5/28/2020 16:00:00\",\"5/29/2020 16:00:00\",\"6/1/2020 16:00:00\",\"6/2/2020 16:00:00\",\"6/3/2020 16:00:00\",\"6/4/2020 16:00:00\",\"6/5/2020 16:00:00\",\"6/8/2020 16:00:00\",\"6/9/2020 16:00:00\",\"6/10/2020 16:00:00\",\"6/11/2020 16:00:00\",\"6/12/2020 16:00:00\",\"6/15/2020 16:00:00\",\"6/16/2020 16:00:00\",\"6/17/2020 16:00:00\",\"6/18/2020 16:00:00\",\"6/19/2020 16:00:00\",\"6/22/2020 16:00:00\",\"6/23/2020 16:00:00\",\"6/24/2020 16:00:00\",\"6/25/2020 16:00:00\",\"6/26/2020 16:00:00\",\"6/29/2020 16:00:00\",\"6/30/2020 16:00:00\",\"7/1/2020 16:00:00\",\"7/2/2020 16:00:00\",\"7/6/2020 16:00:00\",\"7/7/2020 16:00:00\",\"7/8/2020 16:00:00\",\"7/9/2020 16:00:00\",\"7/10/2020 16:00:00\",\"7/13/2020 16:00:00\",\"7/14/2020 16:00:00\",\"7/15/2020 16:00:00\",\"7/16/2020 16:00:00\",\"7/17/2020 16:00:00\",\"7/20/2020 16:00:00\",\"7/21/2020 16:00:00\",\"7/22/2020 16:00:00\",\"7/23/2020 16:00:00\",\"7/24/2020 16:00:00\",\"7/27/2020 16:00:00\",\"7/28/2020 16:00:00\",\"7/29/2020 16:00:00\",\"7/30/2020 16:00:00\",\"7/31/2020 16:00:00\",\"8/3/2020 16:00:00\",\"8/4/2020 16:00:00\",\"8/5/2020 16:00:00\",\"8/6/2020 16:00:00\",\"8/7/2020 16:00:00\",\"8/10/2020 16:00:00\",\"8/11/2020 16:00:00\",\"8/12/2020 16:00:00\",\"8/13/2020 16:00:00\",\"8/14/2020 16:00:00\",\"8/17/2020 16:00:00\",\"8/18/2020 16:00:00\",\"8/19/2020 16:00:00\",\"8/20/2020 16:00:00\",\"8/21/2020 16:00:00\",\"8/24/2020 16:00:00\",\"8/25/2020 16:00:00\",\"8/26/2020 16:00:00\",\"8/27/2020 16:00:00\",\"8/28/2020 16:00:00\",\"8/31/2020 16:00:00\",\"9/1/2020 16:00:00\",\"9/2/2020 16:00:00\",\"9/3/2020 16:00:00\",\"9/4/2020 16:00:00\",\"9/8/2020 16:00:00\",\"9/9/2020 16:00:00\",\"9/10/2020 16:00:00\",\"9/11/2020 16:00:00\",\"9/14/2020 16:00:00\",\"9/15/2020 16:00:00\",\"9/16/2020 16:00:00\",\"9/17/2020 16:00:00\",\"9/18/2020 16:00:00\",\"9/21/2020 16:00:00\",\"9/22/2020 16:00:00\",\"9/23/2020 16:00:00\",\"9/24/2020 16:00:00\",\"9/25/2020 16:00:00\",\"9/28/2020 16:00:00\",\"9/29/2020 16:00:00\",\"9/30/2020 16:00:00\",\"10/1/2020 16:00:00\",\"10/2/2020 16:00:00\",\"10/5/2020 16:00:00\",\"10/6/2020 16:00:00\",\"10/7/2020 16:00:00\",\"10/8/2020 16:00:00\",\"10/9/2020 16:00:00\",\"10/12/2020 16:00:00\",\"10/13/2020 16:00:00\",\"10/14/2020 16:00:00\",\"10/15/2020 16:00:00\",\"10/16/2020 16:00:00\",\"10/19/2020 16:00:00\",\"10/20/2020 16:00:00\",\"10/21/2020 16:00:00\",\"10/22/2020 16:00:00\",\"10/23/2020 16:00:00\",\"10/26/2020 16:00:00\",\"10/27/2020 16:00:00\",\"10/28/2020 16:00:00\",\"10/29/2020 16:00:00\",\"10/30/2020 16:00:00\"],\"tags\":[[[\"Date\",\"Date\",null]]]},\"id\":\"2675\",\"type\":\"FactorRange\"},{\"attributes\":{\"active_drag\":\"auto\",\"active_inspect\":\"auto\",\"active_multi\":null,\"active_scroll\":\"auto\",\"active_tap\":\"auto\",\"tools\":[{\"id\":\"2677\"},{\"id\":\"2697\"},{\"id\":\"2698\"},{\"id\":\"2699\"},{\"id\":\"2700\"},{\"id\":\"2701\"}]},\"id\":\"2703\",\"type\":\"Toolbar\"},{\"attributes\":{\"bottom_units\":\"screen\",\"fill_alpha\":0.5,\"fill_color\":\"lightgrey\",\"left_units\":\"screen\",\"level\":\"overlay\",\"line_alpha\":1.0,\"line_color\":\"black\",\"line_dash\":[4,4],\"line_width\":2,\"right_units\":\"screen\",\"top_units\":\"screen\"},\"id\":\"2702\",\"type\":\"BoxAnnotation\"},{\"attributes\":{\"overlay\":{\"id\":\"2702\"}},\"id\":\"2700\",\"type\":\"BoxZoomTool\"},{\"attributes\":{\"line_alpha\":0.1,\"line_color\":\"#1f77b3\",\"line_width\":2,\"x\":{\"field\":\"Date\"},\"y\":{\"field\":\"value\"}},\"id\":\"2718\",\"type\":\"Line\"},{\"attributes\":{\"line_alpha\":0.2,\"line_color\":\"#1f77b3\",\"line_width\":2,\"x\":{\"field\":\"Date\"},\"y\":{\"field\":\"value\"}},\"id\":\"2719\",\"type\":\"Line\"},{\"attributes\":{\"line_alpha\":0.2,\"line_color\":\"#ff7e0e\",\"line_width\":2,\"x\":{\"field\":\"Date\"},\"y\":{\"field\":\"value\"}},\"id\":\"2737\",\"type\":\"Line\"},{\"attributes\":{\"source\":{\"id\":\"2732\"}},\"id\":\"2739\",\"type\":\"CDSView\"},{\"attributes\":{},\"id\":\"2694\",\"type\":\"BasicTicker\"},{\"attributes\":{\"align\":null,\"below\":[{\"id\":\"2690\"}],\"center\":[{\"id\":\"2692\"},{\"id\":\"2696\"}],\"left\":[{\"id\":\"2693\"}],\"margin\":null,\"min_border_bottom\":10,\"min_border_left\":10,\"min_border_right\":10,\"min_border_top\":10,\"plot_height\":300,\"plot_width\":700,\"renderers\":[{\"id\":\"2720\"},{\"id\":\"2738\"},{\"id\":\"2757\"},{\"id\":\"2778\"}],\"right\":[{\"id\":\"2730\"}],\"sizing_mode\":\"fixed\",\"title\":{\"id\":\"2682\"},\"toolbar\":{\"id\":\"2703\"},\"x_range\":{\"id\":\"2675\"},\"x_scale\":{\"id\":\"2686\"},\"y_range\":{\"id\":\"2676\"},\"y_scale\":{\"id\":\"2688\"}},\"id\":\"2681\",\"subtype\":\"Figure\",\"type\":\"Plot\"},{\"attributes\":{\"click_policy\":\"mute\",\"items\":[{\"id\":\"2731\"},{\"id\":\"2750\"},{\"id\":\"2771\"},{\"id\":\"2794\"}],\"location\":[0,0],\"title\":\"Variable\"},\"id\":\"2730\",\"type\":\"Legend\"},{\"attributes\":{\"end\":97.80999999999999,\"reset_end\":97.80999999999999,\"reset_start\":0.9700000000000006,\"start\":0.9700000000000006,\"tags\":[[[\"value\",\"value\",null]]]},\"id\":\"2676\",\"type\":\"Range1d\"},{\"attributes\":{\"data_source\":{\"id\":\"2732\"},\"glyph\":{\"id\":\"2735\"},\"hover_glyph\":null,\"muted_glyph\":{\"id\":\"2737\"},\"nonselection_glyph\":{\"id\":\"2736\"},\"selection_glyph\":null,\"view\":{\"id\":\"2739\"}},\"id\":\"2738\",\"type\":\"GlyphRenderer\"},{\"attributes\":{\"callback\":null,\"renderers\":[{\"id\":\"2720\"},{\"id\":\"2738\"},{\"id\":\"2757\"},{\"id\":\"2778\"}],\"tags\":[\"hv_created\"],\"tooltips\":[[\"Variable\",\"@{Variable}\"],[\"Date\",\"@{Date}\"],[\"value\",\"@{value}\"]]},\"id\":\"2677\",\"type\":\"HoverTool\"},{\"attributes\":{\"line_color\":\"#d62628\",\"line_width\":2,\"x\":{\"field\":\"Date\"},\"y\":{\"field\":\"value\"}},\"id\":\"2775\",\"type\":\"Line\"},{\"attributes\":{},\"id\":\"2711\",\"type\":\"CategoricalTickFormatter\"},{\"attributes\":{\"line_color\":\"#1f77b3\",\"line_width\":2,\"x\":{\"field\":\"Date\"},\"y\":{\"field\":\"value\"}},\"id\":\"2717\",\"type\":\"Line\"},{\"attributes\":{\"label\":{\"value\":\"Southwest Airlines\"},\"renderers\":[{\"id\":\"2738\"}]},\"id\":\"2750\",\"type\":\"LegendItem\"},{\"attributes\":{},\"id\":\"2713\",\"type\":\"BasicTickFormatter\"},{\"attributes\":{},\"id\":\"2715\",\"type\":\"Selection\"},{\"attributes\":{\"line_alpha\":0.1,\"line_color\":\"#d62628\",\"line_width\":2,\"x\":{\"field\":\"Date\"},\"y\":{\"field\":\"value\"}},\"id\":\"2776\",\"type\":\"Line\"},{\"attributes\":{},\"id\":\"2733\",\"type\":\"Selection\"},{\"attributes\":{\"children\":[{\"id\":\"2674\"},{\"id\":\"2681\"},{\"id\":\"2921\"}],\"margin\":[0,0,0,0],\"name\":\"Row04716\",\"tags\":[\"embedded\"]},\"id\":\"2673\",\"type\":\"Row\"},{\"attributes\":{\"data\":{\"Date\":[\"1/2/2020 16:00:00\",\"1/3/2020 16:00:00\",\"1/6/2020 16:00:00\",\"1/7/2020 16:00:00\",\"1/8/2020 16:00:00\",\"1/9/2020 16:00:00\",\"1/10/2020 16:00:00\",\"1/13/2020 16:00:00\",\"1/14/2020 16:00:00\",\"1/15/2020 16:00:00\",\"1/16/2020 16:00:00\",\"1/17/2020 16:00:00\",\"1/21/2020 16:00:00\",\"1/22/2020 16:00:00\",\"1/23/2020 16:00:00\",\"1/24/2020 16:00:00\",\"1/27/2020 16:00:00\",\"1/28/2020 16:00:00\",\"1/29/2020 16:00:00\",\"1/30/2020 16:00:00\",\"1/31/2020 16:00:00\",\"2/3/2020 16:00:00\",\"2/4/2020 16:00:00\",\"2/5/2020 16:00:00\",\"2/6/2020 16:00:00\",\"2/7/2020 16:00:00\",\"2/10/2020 16:00:00\",\"2/11/2020 16:00:00\",\"2/12/2020 16:00:00\",\"2/13/2020 16:00:00\",\"2/14/2020 16:00:00\",\"2/18/2020 16:00:00\",\"2/19/2020 16:00:00\",\"2/20/2020 16:00:00\",\"2/21/2020 16:00:00\",\"2/24/2020 16:00:00\",\"2/25/2020 16:00:00\",\"2/26/2020 16:00:00\",\"2/27/2020 16:00:00\",\"2/28/2020 16:00:00\",\"3/2/2020 16:00:00\",\"3/3/2020 16:00:00\",\"3/4/2020 16:00:00\",\"3/5/2020 16:00:00\",\"3/6/2020 16:00:00\",\"3/9/2020 16:00:00\",\"3/10/2020 16:00:00\",\"3/11/2020 16:00:00\",\"3/12/2020 16:00:00\",\"3/13/2020 16:00:00\",\"3/16/2020 16:00:00\",\"3/17/2020 16:00:00\",\"3/18/2020 16:00:00\",\"3/19/2020 16:00:00\",\"3/20/2020 16:00:00\",\"3/23/2020 16:00:00\",\"3/24/2020 16:00:00\",\"3/25/2020 16:00:00\",\"3/26/2020 16:00:00\",\"3/27/2020 16:00:00\",\"3/30/2020 16:00:00\",\"3/31/2020 16:00:00\",\"4/1/2020 16:00:00\",\"4/2/2020 16:00:00\",\"4/3/2020 16:00:00\",\"4/6/2020 16:00:00\",\"4/7/2020 16:00:00\",\"4/8/2020 16:00:00\",\"4/9/2020 16:00:00\",\"4/13/2020 16:00:00\",\"4/14/2020 16:00:00\",\"4/15/2020 16:00:00\",\"4/16/2020 16:00:00\",\"4/17/2020 16:00:00\",\"4/20/2020 16:00:00\",\"4/21/2020 16:00:00\",\"4/22/2020 16:00:00\",\"4/23/2020 16:00:00\",\"4/24/2020 16:00:00\",\"4/27/2020 16:00:00\",\"4/28/2020 16:00:00\",\"4/29/2020 16:00:00\",\"4/30/2020 16:00:00\",\"5/1/2020 16:00:00\",\"5/4/2020 16:00:00\",\"5/5/2020 16:00:00\",\"5/6/2020 16:00:00\",\"5/7/2020 16:00:00\",\"5/8/2020 16:00:00\",\"5/11/2020 16:00:00\",\"5/12/2020 16:00:00\",\"5/13/2020 16:00:00\",\"5/14/2020 16:00:00\",\"5/15/2020 16:00:00\",\"5/18/2020 16:00:00\",\"5/19/2020 16:00:00\",\"5/20/2020 16:00:00\",\"5/21/2020 16:00:00\",\"5/22/2020 16:00:00\",\"5/26/2020 16:00:00\",\"5/27/2020 16:00:00\",\"5/28/2020 16:00:00\",\"5/29/2020 16:00:00\",\"6/1/2020 16:00:00\",\"6/2/2020 16:00:00\",\"6/3/2020 16:00:00\",\"6/4/2020 16:00:00\",\"6/5/2020 16:00:00\",\"6/8/2020 16:00:00\",\"6/9/2020 16:00:00\",\"6/10/2020 16:00:00\",\"6/11/2020 16:00:00\",\"6/12/2020 16:00:00\",\"6/15/2020 16:00:00\",\"6/16/2020 16:00:00\",\"6/17/2020 16:00:00\",\"6/18/2020 16:00:00\",\"6/19/2020 16:00:00\",\"6/22/2020 16:00:00\",\"6/23/2020 16:00:00\",\"6/24/2020 16:00:00\",\"6/25/2020 16:00:00\",\"6/26/2020 16:00:00\",\"6/29/2020 16:00:00\",\"6/30/2020 16:00:00\",\"7/1/2020 16:00:00\",\"7/2/2020 16:00:00\",\"7/6/2020 16:00:00\",\"7/7/2020 16:00:00\",\"7/8/2020 16:00:00\",\"7/9/2020 16:00:00\",\"7/10/2020 16:00:00\",\"7/13/2020 16:00:00\",\"7/14/2020 16:00:00\",\"7/15/2020 16:00:00\",\"7/16/2020 16:00:00\",\"7/17/2020 16:00:00\",\"7/20/2020 16:00:00\",\"7/21/2020 16:00:00\",\"7/22/2020 16:00:00\",\"7/23/2020 16:00:00\",\"7/24/2020 16:00:00\",\"7/27/2020 16:00:00\",\"7/28/2020 16:00:00\",\"7/29/2020 16:00:00\",\"7/30/2020 16:00:00\",\"7/31/2020 16:00:00\",\"8/3/2020 16:00:00\",\"8/4/2020 16:00:00\",\"8/5/2020 16:00:00\",\"8/6/2020 16:00:00\",\"8/7/2020 16:00:00\",\"8/10/2020 16:00:00\",\"8/11/2020 16:00:00\",\"8/12/2020 16:00:00\",\"8/13/2020 16:00:00\",\"8/14/2020 16:00:00\",\"8/17/2020 16:00:00\",\"8/18/2020 16:00:00\",\"8/19/2020 16:00:00\",\"8/20/2020 16:00:00\",\"8/21/2020 16:00:00\",\"8/24/2020 16:00:00\",\"8/25/2020 16:00:00\",\"8/26/2020 16:00:00\",\"8/27/2020 16:00:00\",\"8/28/2020 16:00:00\",\"8/31/2020 16:00:00\",\"9/1/2020 16:00:00\",\"9/2/2020 16:00:00\",\"9/3/2020 16:00:00\",\"9/4/2020 16:00:00\",\"9/8/2020 16:00:00\",\"9/9/2020 16:00:00\",\"9/10/2020 16:00:00\",\"9/11/2020 16:00:00\",\"9/14/2020 16:00:00\",\"9/15/2020 16:00:00\",\"9/16/2020 16:00:00\",\"9/17/2020 16:00:00\",\"9/18/2020 16:00:00\",\"9/21/2020 16:00:00\",\"9/22/2020 16:00:00\",\"9/23/2020 16:00:00\",\"9/24/2020 16:00:00\",\"9/25/2020 16:00:00\",\"9/28/2020 16:00:00\",\"9/29/2020 16:00:00\",\"9/30/2020 16:00:00\",\"10/1/2020 16:00:00\",\"10/2/2020 16:00:00\",\"10/5/2020 16:00:00\",\"10/6/2020 16:00:00\",\"10/7/2020 16:00:00\",\"10/8/2020 16:00:00\",\"10/9/2020 16:00:00\",\"10/12/2020 16:00:00\",\"10/13/2020 16:00:00\",\"10/14/2020 16:00:00\",\"10/15/2020 16:00:00\",\"10/16/2020 16:00:00\",\"10/19/2020 16:00:00\",\"10/20/2020 16:00:00\",\"10/21/2020 16:00:00\",\"10/22/2020 16:00:00\",\"10/23/2020 16:00:00\",\"10/26/2020 16:00:00\",\"10/27/2020 16:00:00\",\"10/28/2020 16:00:00\",\"10/29/2020 16:00:00\",\"10/30/2020 16:00:00\"],\"Variable\":[\"American Airlines\",\"American Airlines\",\"American Airlines\",\"American Airlines\",\"American Airlines\",\"American Airlines\",\"American Airlines\",\"American Airlines\",\"American Airlines\",\"American Airlines\",\"American Airlines\",\"American Airlines\",\"American Airlines\",\"American Airlines\",\"American Airlines\",\"American Airlines\",\"American Airlines\",\"American Airlines\",\"American Airlines\",\"American Airlines\",\"American Airlines\",\"American Airlines\",\"American Airlines\",\"American Airlines\",\"American Airlines\",\"American Airlines\",\"American Airlines\",\"American Airlines\",\"American Airlines\",\"American Airlines\",\"American Airlines\",\"American Airlines\",\"American Airlines\",\"American Airlines\",\"American Airlines\",\"American Airlines\",\"American Airlines\",\"American Airlines\",\"American Airlines\",\"American Airlines\",\"American Airlines\",\"American Airlines\",\"American Airlines\",\"American Airlines\",\"American Airlines\",\"American Airlines\",\"American Airlines\",\"American Airlines\",\"American Airlines\",\"American Airlines\",\"American Airlines\",\"American Airlines\",\"American Airlines\",\"American Airlines\",\"American Airlines\",\"American Airlines\",\"American Airlines\",\"American Airlines\",\"American Airlines\",\"American Airlines\",\"American Airlines\",\"American Airlines\",\"American Airlines\",\"American Airlines\",\"American Airlines\",\"American Airlines\",\"American Airlines\",\"American Airlines\",\"American Airlines\",\"American Airlines\",\"American Airlines\",\"American Airlines\",\"American Airlines\",\"American Airlines\",\"American Airlines\",\"American Airlines\",\"American Airlines\",\"American Airlines\",\"American Airlines\",\"American Airlines\",\"American Airlines\",\"American Airlines\",\"American Airlines\",\"American Airlines\",\"American Airlines\",\"American Airlines\",\"American Airlines\",\"American Airlines\",\"American Airlines\",\"American Airlines\",\"American Airlines\",\"American Airlines\",\"American Airlines\",\"American Airlines\",\"American Airlines\",\"American Airlines\",\"American Airlines\",\"American Airlines\",\"American Airlines\",\"American Airlines\",\"American Airlines\",\"American Airlines\",\"American Airlines\",\"American Airlines\",\"American Airlines\",\"American Airlines\",\"American Airlines\",\"American Airlines\",\"American Airlines\",\"American Airlines\",\"American Airlines\",\"American Airlines\",\"American Airlines\",\"American Airlines\",\"American Airlines\",\"American Airlines\",\"American Airlines\",\"American Airlines\",\"American Airlines\",\"American Airlines\",\"American Airlines\",\"American Airlines\",\"American Airlines\",\"American Airlines\",\"American Airlines\",\"American Airlines\",\"American Airlines\",\"American Airlines\",\"American Airlines\",\"American Airlines\",\"American Airlines\",\"American Airlines\",\"American Airlines\",\"American Airlines\",\"American Airlines\",\"American Airlines\",\"American Airlines\",\"American Airlines\",\"American Airlines\",\"American Airlines\",\"American Airlines\",\"American Airlines\",\"American Airlines\",\"American Airlines\",\"American Airlines\",\"American Airlines\",\"American Airlines\",\"American Airlines\",\"American Airlines\",\"American Airlines\",\"American Airlines\",\"American Airlines\",\"American Airlines\",\"American Airlines\",\"American Airlines\",\"American Airlines\",\"American Airlines\",\"American Airlines\",\"American Airlines\",\"American Airlines\",\"American Airlines\",\"American Airlines\",\"American Airlines\",\"American Airlines\",\"American Airlines\",\"American Airlines\",\"American Airlines\",\"American Airlines\",\"American Airlines\",\"American Airlines\",\"American Airlines\",\"American Airlines\",\"American Airlines\",\"American Airlines\",\"American Airlines\",\"American Airlines\",\"American Airlines\",\"American Airlines\",\"American Airlines\",\"American Airlines\",\"American Airlines\",\"American Airlines\",\"American Airlines\",\"American Airlines\",\"American Airlines\",\"American Airlines\",\"American Airlines\",\"American Airlines\",\"American Airlines\",\"American Airlines\",\"American Airlines\",\"American Airlines\",\"American Airlines\",\"American Airlines\",\"American Airlines\",\"American Airlines\",\"American Airlines\",\"American Airlines\",\"American Airlines\",\"American Airlines\",\"American Airlines\",\"American Airlines\",\"American Airlines\",\"American Airlines\",\"American Airlines\",\"American Airlines\",\"American Airlines\",\"American Airlines\",\"American Airlines\",\"American Airlines\",\"American Airlines\"],\"value\":{\"__ndarray__\":\"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\",\"dtype\":\"float64\",\"order\":\"little\",\"shape\":[211]}},\"selected\":{\"id\":\"2715\"},\"selection_policy\":{\"id\":\"2729\"}},\"id\":\"2714\",\"type\":\"ColumnDataSource\"},{\"attributes\":{},\"id\":\"2752\",\"type\":\"Selection\"},{\"attributes\":{},\"id\":\"2773\",\"type\":\"Selection\"},{\"attributes\":{\"source\":{\"id\":\"2751\"}},\"id\":\"2758\",\"type\":\"CDSView\"},{\"attributes\":{},\"id\":\"2691\",\"type\":\"CategoricalTicker\"},{\"attributes\":{\"data\":{\"Date\":[\"1/2/2020 16:00:00\",\"1/3/2020 16:00:00\",\"1/6/2020 16:00:00\",\"1/7/2020 16:00:00\",\"1/8/2020 16:00:00\",\"1/9/2020 16:00:00\",\"1/10/2020 16:00:00\",\"1/13/2020 16:00:00\",\"1/14/2020 16:00:00\",\"1/15/2020 16:00:00\",\"1/16/2020 16:00:00\",\"1/17/2020 16:00:00\",\"1/21/2020 16:00:00\",\"1/22/2020 16:00:00\",\"1/23/2020 16:00:00\",\"1/24/2020 16:00:00\",\"1/27/2020 16:00:00\",\"1/28/2020 16:00:00\",\"1/29/2020 16:00:00\",\"1/30/2020 16:00:00\",\"1/31/2020 16:00:00\",\"2/3/2020 16:00:00\",\"2/4/2020 16:00:00\",\"2/5/2020 16:00:00\",\"2/6/2020 16:00:00\",\"2/7/2020 16:00:00\",\"2/10/2020 16:00:00\",\"2/11/2020 16:00:00\",\"2/12/2020 16:00:00\",\"2/13/2020 16:00:00\",\"2/14/2020 16:00:00\",\"2/18/2020 16:00:00\",\"2/19/2020 16:00:00\",\"2/20/2020 16:00:00\",\"2/21/2020 16:00:00\",\"2/24/2020 16:00:00\",\"2/25/2020 16:00:00\",\"2/26/2020 16:00:00\",\"2/27/2020 16:00:00\",\"2/28/2020 16:00:00\",\"3/2/2020 16:00:00\",\"3/3/2020 16:00:00\",\"3/4/2020 16:00:00\",\"3/5/2020 16:00:00\",\"3/6/2020 16:00:00\",\"3/9/2020 16:00:00\",\"3/10/2020 16:00:00\",\"3/11/2020 16:00:00\",\"3/12/2020 16:00:00\",\"3/13/2020 16:00:00\",\"3/16/2020 16:00:00\",\"3/17/2020 16:00:00\",\"3/18/2020 16:00:00\",\"3/19/2020 16:00:00\",\"3/20/2020 16:00:00\",\"3/23/2020 16:00:00\",\"3/24/2020 16:00:00\",\"3/25/2020 16:00:00\",\"3/26/2020 16:00:00\",\"3/27/2020 16:00:00\",\"3/30/2020 16:00:00\",\"3/31/2020 16:00:00\",\"4/1/2020 16:00:00\",\"4/2/2020 16:00:00\",\"4/3/2020 16:00:00\",\"4/6/2020 16:00:00\",\"4/7/2020 16:00:00\",\"4/8/2020 16:00:00\",\"4/9/2020 16:00:00\",\"4/13/2020 16:00:00\",\"4/14/2020 16:00:00\",\"4/15/2020 16:00:00\",\"4/16/2020 16:00:00\",\"4/17/2020 16:00:00\",\"4/20/2020 16:00:00\",\"4/21/2020 16:00:00\",\"4/22/2020 16:00:00\",\"4/23/2020 16:00:00\",\"4/24/2020 16:00:00\",\"4/27/2020 16:00:00\",\"4/28/2020 16:00:00\",\"4/29/2020 16:00:00\",\"4/30/2020 16:00:00\",\"5/1/2020 16:00:00\",\"5/4/2020 16:00:00\",\"5/5/2020 16:00:00\",\"5/6/2020 16:00:00\",\"5/7/2020 16:00:00\",\"5/8/2020 16:00:00\",\"5/11/2020 16:00:00\",\"5/12/2020 16:00:00\",\"5/13/2020 16:00:00\",\"5/14/2020 16:00:00\",\"5/15/2020 16:00:00\",\"5/18/2020 16:00:00\",\"5/19/2020 16:00:00\",\"5/20/2020 16:00:00\",\"5/21/2020 16:00:00\",\"5/22/2020 16:00:00\",\"5/26/2020 16:00:00\",\"5/27/2020 16:00:00\",\"5/28/2020 16:00:00\",\"5/29/2020 16:00:00\",\"6/1/2020 16:00:00\",\"6/2/2020 16:00:00\",\"6/3/2020 16:00:00\",\"6/4/2020 16:00:00\",\"6/5/2020 16:00:00\",\"6/8/2020 16:00:00\",\"6/9/2020 16:00:00\",\"6/10/2020 16:00:00\",\"6/11/2020 16:00:00\",\"6/12/2020 16:00:00\",\"6/15/2020 16:00:00\",\"6/16/2020 16:00:00\",\"6/17/2020 16:00:00\",\"6/18/2020 16:00:00\",\"6/19/2020 16:00:00\",\"6/22/2020 16:00:00\",\"6/23/2020 16:00:00\",\"6/24/2020 16:00:00\",\"6/25/2020 16:00:00\",\"6/26/2020 16:00:00\",\"6/29/2020 16:00:00\",\"6/30/2020 16:00:00\",\"7/1/2020 16:00:00\",\"7/2/2020 16:00:00\",\"7/6/2020 16:00:00\",\"7/7/2020 16:00:00\",\"7/8/2020 16:00:00\",\"7/9/2020 16:00:00\",\"7/10/2020 16:00:00\",\"7/13/2020 16:00:00\",\"7/14/2020 16:00:00\",\"7/15/2020 16:00:00\",\"7/16/2020 16:00:00\",\"7/17/2020 16:00:00\",\"7/20/2020 16:00:00\",\"7/21/2020 16:00:00\",\"7/22/2020 16:00:00\",\"7/23/2020 16:00:00\",\"7/24/2020 16:00:00\",\"7/27/2020 16:00:00\",\"7/28/2020 16:00:00\",\"7/29/2020 16:00:00\",\"7/30/2020 16:00:00\",\"7/31/2020 16:00:00\",\"8/3/2020 16:00:00\",\"8/4/2020 16:00:00\",\"8/5/2020 16:00:00\",\"8/6/2020 16:00:00\",\"8/7/2020 16:00:00\",\"8/10/2020 16:00:00\",\"8/11/2020 16:00:00\",\"8/12/2020 16:00:00\",\"8/13/2020 16:00:00\",\"8/14/2020 16:00:00\",\"8/17/2020 16:00:00\",\"8/18/2020 16:00:00\",\"8/19/2020 16:00:00\",\"8/20/2020 16:00:00\",\"8/21/2020 16:00:00\",\"8/24/2020 16:00:00\",\"8/25/2020 16:00:00\",\"8/26/2020 16:00:00\",\"8/27/2020 16:00:00\",\"8/28/2020 16:00:00\",\"8/31/2020 16:00:00\",\"9/1/2020 16:00:00\",\"9/2/2020 16:00:00\",\"9/3/2020 16:00:00\",\"9/4/2020 16:00:00\",\"9/8/2020 16:00:00\",\"9/9/2020 16:00:00\",\"9/10/2020 16:00:00\",\"9/11/2020 16:00:00\",\"9/14/2020 16:00:00\",\"9/15/2020 16:00:00\",\"9/16/2020 16:00:00\",\"9/17/2020 16:00:00\",\"9/18/2020 16:00:00\",\"9/21/2020 16:00:00\",\"9/22/2020 16:00:00\",\"9/23/2020 16:00:00\",\"9/24/2020 16:00:00\",\"9/25/2020 16:00:00\",\"9/28/2020 16:00:00\",\"9/29/2020 16:00:00\",\"9/30/2020 16:00:00\",\"10/1/2020 16:00:00\",\"10/2/2020 16:00:00\",\"10/5/2020 16:00:00\",\"10/6/2020 16:00:00\",\"10/7/2020 16:00:00\",\"10/8/2020 16:00:00\",\"10/9/2020 16:00:00\",\"10/12/2020 16:00:00\",\"10/13/2020 16:00:00\",\"10/14/2020 16:00:00\",\"10/15/2020 16:00:00\",\"10/16/2020 16:00:00\",\"10/19/2020 16:00:00\",\"10/20/2020 16:00:00\",\"10/21/2020 16:00:00\",\"10/22/2020 16:00:00\",\"10/23/2020 16:00:00\",\"10/26/2020 16:00:00\",\"10/27/2020 16:00:00\",\"10/28/2020 16:00:00\",\"10/29/2020 16:00:00\",\"10/30/2020 16:00:00\"],\"Variable\":[\"Southwest Airlines\",\"Southwest Airlines\",\"Southwest Airlines\",\"Southwest Airlines\",\"Southwest Airlines\",\"Southwest Airlines\",\"Southwest Airlines\",\"Southwest Airlines\",\"Southwest Airlines\",\"Southwest Airlines\",\"Southwest Airlines\",\"Southwest Airlines\",\"Southwest Airlines\",\"Southwest Airlines\",\"Southwest Airlines\",\"Southwest Airlines\",\"Southwest Airlines\",\"Southwest Airlines\",\"Southwest Airlines\",\"Southwest Airlines\",\"Southwest Airlines\",\"Southwest Airlines\",\"Southwest Airlines\",\"Southwest Airlines\",\"Southwest Airlines\",\"Southwest Airlines\",\"Southwest Airlines\",\"Southwest Airlines\",\"Southwest Airlines\",\"Southwest Airlines\",\"Southwest Airlines\",\"Southwest Airlines\",\"Southwest Airlines\",\"Southwest Airlines\",\"Southwest Airlines\",\"Southwest Airlines\",\"Southwest Airlines\",\"Southwest Airlines\",\"Southwest Airlines\",\"Southwest Airlines\",\"Southwest Airlines\",\"Southwest Airlines\",\"Southwest Airlines\",\"Southwest Airlines\",\"Southwest Airlines\",\"Southwest Airlines\",\"Southwest Airlines\",\"Southwest Airlines\",\"Southwest Airlines\",\"Southwest Airlines\",\"Southwest Airlines\",\"Southwest Airlines\",\"Southwest Airlines\",\"Southwest Airlines\",\"Southwest Airlines\",\"Southwest Airlines\",\"Southwest Airlines\",\"Southwest Airlines\",\"Southwest Airlines\",\"Southwest Airlines\",\"Southwest Airlines\",\"Southwest Airlines\",\"Southwest Airlines\",\"Southwest Airlines\",\"Southwest Airlines\",\"Southwest Airlines\",\"Southwest Airlines\",\"Southwest Airlines\",\"Southwest Airlines\",\"Southwest Airlines\",\"Southwest Airlines\",\"Southwest Airlines\",\"Southwest Airlines\",\"Southwest Airlines\",\"Southwest Airlines\",\"Southwest Airlines\",\"Southwest Airlines\",\"Southwest Airlines\",\"Southwest Airlines\",\"Southwest Airlines\",\"Southwest Airlines\",\"Southwest Airlines\",\"Southwest Airlines\",\"Southwest Airlines\",\"Southwest Airlines\",\"Southwest Airlines\",\"Southwest Airlines\",\"Southwest Airlines\",\"Southwest Airlines\",\"Southwest Airlines\",\"Southwest Airlines\",\"Southwest Airlines\",\"Southwest Airlines\",\"Southwest Airlines\",\"Southwest Airlines\",\"Southwest Airlines\",\"Southwest Airlines\",\"Southwest Airlines\",\"Southwest Airlines\",\"Southwest Airlines\",\"Southwest Airlines\",\"Southwest Airlines\",\"Southwest Airlines\",\"Southwest Airlines\",\"Southwest Airlines\",\"Southwest Airlines\",\"Southwest Airlines\",\"Southwest Airlines\",\"Southwest Airlines\",\"Southwest Airlines\",\"Southwest Airlines\",\"Southwest Airlines\",\"Southwest Airlines\",\"Southwest Airlines\",\"Southwest Airlines\",\"Southwest Airlines\",\"Southwest Airlines\",\"Southwest Airlines\",\"Southwest Airlines\",\"Southwest Airlines\",\"Southwest Airlines\",\"Southwest Airlines\",\"Southwest Airlines\",\"Southwest Airlines\",\"Southwest Airlines\",\"Southwest Airlines\",\"Southwest Airlines\",\"Southwest Airlines\",\"Southwest Airlines\",\"Southwest Airlines\",\"Southwest Airlines\",\"Southwest Airlines\",\"Southwest Airlines\",\"Southwest Airlines\",\"Southwest Airlines\",\"Southwest Airlines\",\"Southwest Airlines\",\"Southwest Airlines\",\"Southwest Airlines\",\"Southwest Airlines\",\"Southwest Airlines\",\"Southwest Airlines\",\"Southwest Airlines\",\"Southwest Airlines\",\"Southwest Airlines\",\"Southwest Airlines\",\"Southwest Airlines\",\"Southwest Airlines\",\"Southwest Airlines\",\"Southwest Airlines\",\"Southwest Airlines\",\"Southwest Airlines\",\"Southwest Airlines\",\"Southwest Airlines\",\"Southwest Airlines\",\"Southwest Airlines\",\"Southwest Airlines\",\"Southwest Airlines\",\"Southwest Airlines\",\"Southwest Airlines\",\"Southwest Airlines\",\"Southwest Airlines\",\"Southwest Airlines\",\"Southwest Airlines\",\"Southwest Airlines\",\"Southwest Airlines\",\"Southwest Airlines\",\"Southwest Airlines\",\"Southwest Airlines\",\"Southwest Airlines\",\"Southwest Airlines\",\"Southwest Airlines\",\"Southwest Airlines\",\"Southwest Airlines\",\"Southwest Airlines\",\"Southwest Airlines\",\"Southwest Airlines\",\"Southwest Airlines\",\"Southwest Airlines\",\"Southwest Airlines\",\"Southwest Airlines\",\"Southwest Airlines\",\"Southwest Airlines\",\"Southwest Airlines\",\"Southwest Airlines\",\"Southwest Airlines\",\"Southwest Airlines\",\"Southwest Airlines\",\"Southwest Airlines\",\"Southwest Airlines\",\"Southwest Airlines\",\"Southwest Airlines\",\"Southwest Airlines\",\"Southwest Airlines\",\"Southwest Airlines\",\"Southwest Airlines\",\"Southwest Airlines\",\"Southwest Airlines\",\"Southwest Airlines\",\"Southwest Airlines\",\"Southwest Airlines\",\"Southwest Airlines\",\"Southwest Airlines\",\"Southwest Airlines\",\"Southwest Airlines\",\"Southwest Airlines\",\"Southwest Airlines\",\"Southwest Airlines\",\"Southwest Airlines\",\"Southwest Airlines\",\"Southwest Airlines\"],\"value\":{\"__ndarray__\":\"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\",\"dtype\":\"float64\",\"order\":\"little\",\"shape\":[211]}},\"selected\":{\"id\":\"2733\"},\"selection_policy\":{\"id\":\"2749\"}},\"id\":\"2732\",\"type\":\"ColumnDataSource\"},{\"attributes\":{},\"id\":\"2697\",\"type\":\"SaveTool\"}],\"root_ids\":[\"2673\"]},\"title\":\"Bokeh Application\",\"version\":\"2.1.1\"}};\n",
       "  var render_items = [{\"docid\":\"fc84d855-800e-461f-9278-e162dc2d1452\",\"root_ids\":[\"2673\"],\"roots\":{\"2673\":\"3b943745-57a7-41c8-999c-e09bddcfa10a\"}}];\n",
       "  root.Bokeh.embed.embed_items_notebook(docs_json, render_items);\n",
       "  }\n",
       "if (root.Bokeh !== undefined) {\n",
       "    embed_document(root);\n",
       "  } else {\n",
       "    var attempts = 0;\n",
       "    var timer = setInterval(function(root) {\n",
       "      if (root.Bokeh !== undefined) {\n",
       "        clearInterval(timer);\n",
       "        embed_document(root);\n",
       "      } else if (document.readyState == \"complete\") {\n",
       "        attempts++;\n",
       "        if (attempts > 100) {\n",
       "          clearInterval(timer);\n",
       "          console.log(\"Bokeh: ERROR: Unable to run BokehJS code because BokehJS library is missing\");\n",
       "        }\n",
       "      }\n",
       "    }, 10, root)\n",
       "  }\n",
       "})(window);</script>"
      ],
      "text/plain": [
       ":NdOverlay   [Variable]\n",
       "   :Curve   [Date]   (value)"
      ]
     },
     "execution_count": 88,
     "metadata": {
      "application/vnd.holoviews_exec.v0+json": {
       "id": "2673"
      }
     },
     "output_type": "execute_result"
    }
   ],
   "source": [
    "#Plotting altogether\n",
    "airlines_data.hvplot()"
   ]
  },
  {
   "cell_type": "code",
   "execution_count": null,
   "metadata": {},
   "outputs": [],
   "source": []
  }
 ],
 "metadata": {
  "kernelspec": {
   "display_name": "Python 3",
   "language": "python",
   "name": "python3"
  },
  "language_info": {
   "codemirror_mode": {
    "name": "ipython",
    "version": 3
   },
   "file_extension": ".py",
   "mimetype": "text/x-python",
   "name": "python",
   "nbconvert_exporter": "python",
   "pygments_lexer": "ipython3",
   "version": "3.7.7"
  }
 },
 "nbformat": 4,
 "nbformat_minor": 4
}
